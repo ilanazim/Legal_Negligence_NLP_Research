{
 "cells": [
  {
   "cell_type": "code",
   "execution_count": 394,
   "metadata": {},
   "outputs": [],
   "source": [
    "import os \n",
    "import pathlib\n",
    "import re\n",
    "from collections import defaultdict"
   ]
  },
  {
   "cell_type": "code",
   "execution_count": 446,
   "metadata": {},
   "outputs": [],
   "source": [
    "path = \"../data/Lexis Cases txt/\"\n"
   ]
  },
  {
   "cell_type": "markdown",
   "metadata": {},
   "source": [
    "The code below answer:\n",
    "\n",
    "- whether the Plaintiff Wins or not in each case? (T/F)\n",
    "- The code below iterates over all the text files and gives a list of dictionaries where each dictionary belongs to a text file, keys are the case names and values are whether the plaintiff was successfull (True) ot not (False)"
   ]
  },
  {
   "cell_type": "code",
   "execution_count": 582,
   "metadata": {},
   "outputs": [],
   "source": [
    "def plaintiff_wins(path):\n",
    "    '''This function will search the cases and returns a dictionary\n",
    "    with case names as keys and boolean for value, True if the plaintiff\n",
    "    wins the case and False if plaintiff looses'''\n",
    "    list_of_files = os.listdir(path)\n",
    "    plaintiff_list = []\n",
    "    \n",
    "    for files in list_of_files:\n",
    "        case_count = 1\n",
    "        if files != \".DS_Store\":\n",
    "            with open(path+ files) as f:\n",
    "                plaintiff_dict = {}\n",
    "                contents = f.read() \n",
    "                cases = contents.split(\"End of Document\\n\")\n",
    "                lencase  = len(cases)\n",
    "                length_cases.append(lencase)\n",
    "                for line in cases:\n",
    "                    lines = line.strip().split(\"\\n\")\n",
    "                    name = lines[0]\n",
    "                    # regex search for keyword HELD in cases, which determines if case was allowed or dismissed\n",
    "                    HELD = re.search(r'HELD.+', line)\n",
    "                    \n",
    "                   \n",
    "                    \n",
    "                    if HELD:\n",
    "\n",
    "                        matched = HELD.group(0)\n",
    "                        if \"allowed\" in matched or \"favour\" in matched or \"awarded\" in matched:\n",
    "                            plaintiff_dict[name] = True\n",
    "                        if \"dismissed\" in matched:\n",
    "                            plaintiff_dict[name] = False\n",
    "                    else:\n",
    "                        if line:\n",
    "\n",
    "\n",
    "                            awarded =  re.search(r'award(.+)?.+?(plaintiff(.+)?)?', lines[-2])\n",
    "                            #regex searches for pattern of plaintiff/defendant/applicant....entitled/have...costs\n",
    "                            entiteled = re.search(r'(plaintiff|defendant.?|applicant)(.+)?(entitle(.)?(.+)?|have).+?cost(.+)?', lines[-2])\n",
    "                            #regex searches for pattern of successful...(case)\n",
    "                            successful = re.search(r'successful(.+)?.+?', lines[-2])\n",
    "                            #regex searches for dismiss....\n",
    "                            dismiss = re.search(r'dismiss(.+)?.+', lines[-2])\n",
    "                            costs = re.search(r'costs.+?(award(.+)?|cause).+?', lines[-2])\n",
    "                            \n",
    "                            if dismiss and \"not dismissed\" not in lines[-2]:\n",
    "                                plaintiff_dict[name] = False\n",
    "                            elif awarded:\n",
    "                                plaintiff_dict[name] = True\n",
    "                            elif entiteled:\n",
    "                                plaintiff_dict[name] = True\n",
    "                            elif successful:\n",
    "                                plaintiff_dict[name] = True\n",
    "                            elif costs:\n",
    "                                plaintiff_dict[name] = True\n",
    "                            else:\n",
    "                                plaintiff_dict[name] = \"OpenCase\"\n",
    "\n",
    "                plaintiff_list.append(plaintiff_dict)\n",
    "    return plaintiff_list\n"
   ]
  },
  {
   "cell_type": "code",
   "execution_count": 584,
   "metadata": {
    "scrolled": true
   },
   "outputs": [
    {
     "data": {
      "text/plain": [
       "48"
      ]
     },
     "execution_count": 584,
     "metadata": {},
     "output_type": "execute_result"
    }
   ],
   "source": [
    "plaintiff_list = plaintiff_wins(path)\n",
    "len(plaintiff_list[79])"
   ]
  },
  {
   "cell_type": "code",
   "execution_count": null,
   "metadata": {},
   "outputs": [],
   "source": []
  },
  {
   "cell_type": "code",
   "execution_count": null,
   "metadata": {},
   "outputs": [],
   "source": []
  }
 ],
 "metadata": {
  "kernelspec": {
   "display_name": "Python 3",
   "language": "python",
   "name": "python3"
  },
  "language_info": {
   "codemirror_mode": {
    "name": "ipython",
    "version": 3
   },
   "file_extension": ".py",
   "mimetype": "text/x-python",
   "name": "python",
   "nbconvert_exporter": "python",
   "pygments_lexer": "ipython3",
   "version": "3.7.3"
  }
 },
 "nbformat": 4,
 "nbformat_minor": 4
}
