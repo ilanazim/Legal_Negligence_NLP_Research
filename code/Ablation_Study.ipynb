{
 "cells": [
  {
   "cell_type": "code",
   "execution_count": 2,
   "metadata": {},
   "outputs": [],
   "source": [
    "from collections import defaultdict, Counter\n",
    "import re\n",
    "import os\n",
    "import matplotlib.pyplot as plt\n",
    "import seaborn as sns\n",
    "import altair as alt\n",
    "import pandas as pd\n",
    "from sklearn.feature_extraction import DictVectorizer\n",
    "from sklearn.naive_bayes import MultinomialNB\n",
    "from sklearn.ensemble import RandomForestClassifier\n",
    "from sklearn.linear_model import LogisticRegression\n",
    "from sklearn.model_selection import cross_val_score, cross_val_predict\n",
    "from sklearn.metrics import f1_score, classification_report\n",
    "import xgboost as xgb\n",
    "\n",
    "from scipy.stats import pearsonr, linregress\n",
    "import pickle\n",
    "import numpy as np\n",
    "import key_functions\n",
    "import math\n",
    "\n",
    "\n",
    "from nltk import sent_tokenize\n",
    "from nltk.corpus import stopwords\n",
    "from itertools import chain"
   ]
  },
  {
   "cell_type": "markdown",
   "metadata": {},
   "source": [
    "## This ablation study was performed by commenting out one feature at a time in `key_functions.py` in the relevant `extract_features` functions"
   ]
  },
  {
   "cell_type": "markdown",
   "metadata": {},
   "source": [
    "## Damages Classifier Ablation Results:\n",
    "#### All Results Use Cross Validation Split = 10"
   ]
  },
  {
   "cell_type": "markdown",
   "metadata": {},
   "source": [
    "### Try Different Context Lengths...All Features Included, Context Length = 5"
   ]
  },
  {
   "cell_type": "code",
   "execution_count": 3,
   "metadata": {
    "collapsed": true,
    "jupyter": {
     "outputs_hidden": true
    }
   },
   "outputs": [
    {
     "name": "stdout",
     "output_type": "stream",
     "text": [
      "Didnt find any tags in Mawani v. Pitcairn, [2012] B.C.J. No. 1819\n",
      "Didnt find any tags in Aiken (Guardian ad litem of) v. Van Dyk, [2001] B.C.J. No. 1751\n",
      "Didnt find any tags in Millard v. Singleton, [2015] B.C.J. No. 1234 %\n",
      "Didnt find any tags in Cowie v. Draper, [2010] B.C.J. No. 910935154 %\n",
      "Didnt find any tags in Bajwa v. Deol, [2018] I.L.R. para. G-2792606 %\n",
      "Didnt find any tags in Jackson v. Fisheries and Oceans Canada, [2006] B.C.J. No. 2654\n",
      "Didnt find any tags in Los Angeles Salad Co. v. Canadian Food Inspection Agency, [2009] B.C.J. No. 161\n",
      "Didnt find any tags in Brooks-Martin v. Martin, [2011] B.C.J. No. 243\n",
      "Didnt find any tags in Gibson v. Matthies, [2017] B.C.J. No. 96556 %\n",
      "Didnt find any tags in Gray v. Ellis, [2007] I.L.R. para. M-211801 %\n",
      "Didnt find any tags in Morrow v. Outerbridge, 2009 CHFL para. 15,554\n",
      "Didnt find any tags in Rackstraw (Litigation guardian of) v. Robertson, [2011] B.C.J. No. 1354\n",
      "Didnt find any tags in Ahlwat v. Green, [2014] B.C.J. No. 245267576 %\n",
      "Didnt find any tags in Quade v. Schwartz, [2008] B.C.J. No. 1032117 %\n",
      "Didnt find any tags in McKee (Guardian ad litem of) v. McCoy, [2001] B.C.J. No. 2675\n",
      "Didnt find any tags in GE Capital Canada Equipment Financing Inc. v. Bank of Montreal, [2003] B.C.J. No. 1791\n",
      "Reading training data and extracting features... 33.105802047781566 %\r"
     ]
    },
    {
     "ename": "KeyboardInterrupt",
     "evalue": "",
     "output_type": "error",
     "traceback": [
      "\u001b[0;31m---------------------------------------------------------------------------\u001b[0m",
      "\u001b[0;31mKeyboardInterrupt\u001b[0m                         Traceback (most recent call last)",
      "\u001b[0;32m<ipython-input-3-3a5e9a1a9372>\u001b[0m in \u001b[0;36m<module>\u001b[0;34m\u001b[0m\n\u001b[0;32m----> 1\u001b[0;31m \u001b[0mmodel\u001b[0m\u001b[0;34m,\u001b[0m \u001b[0mvectorizer\u001b[0m\u001b[0;34m,\u001b[0m \u001b[0mannotated_damages\u001b[0m \u001b[0;34m=\u001b[0m \u001b[0mkey_functions\u001b[0m\u001b[0;34m.\u001b[0m\u001b[0mtrain_classifier\u001b[0m\u001b[0;34m(\u001b[0m\u001b[0;34m'../data/annotations/final_annotations.txt'\u001b[0m\u001b[0;34m,\u001b[0m \u001b[0mLogisticRegression\u001b[0m\u001b[0;34m(\u001b[0m\u001b[0mC\u001b[0m \u001b[0;34m=\u001b[0m \u001b[0;36m1\u001b[0m\u001b[0;34m,\u001b[0m \u001b[0mpenalty\u001b[0m\u001b[0;34m=\u001b[0m\u001b[0;34m'l2'\u001b[0m\u001b[0;34m,\u001b[0m \u001b[0msolver\u001b[0m \u001b[0;34m=\u001b[0m \u001b[0;34m'newton-cg'\u001b[0m\u001b[0;34m,\u001b[0m \u001b[0mmax_iter\u001b[0m \u001b[0;34m=\u001b[0m \u001b[0;36m1000\u001b[0m\u001b[0;34m,\u001b[0m \u001b[0mrandom_state\u001b[0m\u001b[0;34m=\u001b[0m\u001b[0;36m42\u001b[0m\u001b[0;34m)\u001b[0m\u001b[0;34m,\u001b[0m \u001b[0mfit_model\u001b[0m\u001b[0;34m=\u001b[0m\u001b[0;32mTrue\u001b[0m\u001b[0;34m,\u001b[0m \u001b[0mcontext_length\u001b[0m\u001b[0;34m=\u001b[0m\u001b[0;36m5\u001b[0m\u001b[0;34m)\u001b[0m\u001b[0;34m\u001b[0m\u001b[0;34m\u001b[0m\u001b[0m\n\u001b[0m",
      "\u001b[0;32m~/Desktop/UBC MDS/Capstone Project/Capstone-project/code/key_functions.py\u001b[0m in \u001b[0;36mtrain_classifier\u001b[0;34m(path, clf, context_length, min_para_score, min_predict_proba, high_precision_mode, fit_model)\u001b[0m\n\u001b[1;32m    905\u001b[0m             \u001b[0mmatches\u001b[0m \u001b[0;34m=\u001b[0m \u001b[0mtag_extractor\u001b[0m\u001b[0;34m.\u001b[0m\u001b[0mfinditer\u001b[0m\u001b[0;34m(\u001b[0m\u001b[0mcase\u001b[0m\u001b[0;34m)\u001b[0m \u001b[0;31m# Extract all <damage ...>$x</damage> tags used for training\u001b[0m\u001b[0;34m\u001b[0m\u001b[0;34m\u001b[0m\u001b[0m\n\u001b[1;32m    906\u001b[0m             \u001b[0;32mfor\u001b[0m \u001b[0mmatch\u001b[0m \u001b[0;32min\u001b[0m \u001b[0mmatches\u001b[0m\u001b[0;34m:\u001b[0m\u001b[0;34m\u001b[0m\u001b[0;34m\u001b[0m\u001b[0m\n\u001b[0;32m--> 907\u001b[0;31m                 \u001b[0mfeatures\u001b[0m\u001b[0;34m,\u001b[0m \u001b[0manswer\u001b[0m \u001b[0;34m=\u001b[0m \u001b[0mextract_features\u001b[0m\u001b[0;34m(\u001b[0m\u001b[0mmatch\u001b[0m\u001b[0;34m,\u001b[0m \u001b[0mcase\u001b[0m\u001b[0;34m,\u001b[0m \u001b[0mtag_extractor\u001b[0m\u001b[0;34m,\u001b[0m \u001b[0mCN_tag_extractor\u001b[0m\u001b[0;34m,\u001b[0m \u001b[0mcontext_length\u001b[0m \u001b[0;34m=\u001b[0m \u001b[0mcontext_length\u001b[0m\u001b[0;34m,\u001b[0m \u001b[0mpurpose\u001b[0m\u001b[0;34m=\u001b[0m\u001b[0;34m'train'\u001b[0m\u001b[0;34m)\u001b[0m\u001b[0;34m\u001b[0m\u001b[0;34m\u001b[0m\u001b[0m\n\u001b[0m\u001b[1;32m    908\u001b[0m                 \u001b[0;31m# if value is found in case summary, replace start_idx_ratio with 1\u001b[0m\u001b[0;34m\u001b[0m\u001b[0;34m\u001b[0m\u001b[0;34m\u001b[0m\u001b[0m\n\u001b[1;32m    909\u001b[0m                 \u001b[0;32mif\u001b[0m \u001b[0msummary\u001b[0m\u001b[0;34m:\u001b[0m\u001b[0;34m\u001b[0m\u001b[0;34m\u001b[0m\u001b[0m\n",
      "\u001b[0;32m~/Desktop/UBC MDS/Capstone Project/Capstone-project/code/key_functions.py\u001b[0m in \u001b[0;36mextract_features\u001b[0;34m(match, case, dmg_pattern, cn_pattern, context_length, purpose)\u001b[0m\n\u001b[1;32m   1032\u001b[0m     \u001b[0;31m# So we get more than we need.\u001b[0m\u001b[0;34m\u001b[0m\u001b[0;34m\u001b[0m\u001b[0;34m\u001b[0m\u001b[0m\n\u001b[1;32m   1033\u001b[0m     \u001b[0mstart_tokenized\u001b[0m \u001b[0;34m=\u001b[0m \u001b[0;34m' '\u001b[0m\u001b[0;34m.\u001b[0m\u001b[0mjoin\u001b[0m\u001b[0;34m(\u001b[0m\u001b[0mcase\u001b[0m\u001b[0;34m[\u001b[0m\u001b[0;34m:\u001b[0m\u001b[0mstart_idx\u001b[0m\u001b[0;34m]\u001b[0m\u001b[0;34m.\u001b[0m\u001b[0msplit\u001b[0m\u001b[0;34m(\u001b[0m\u001b[0;34m)\u001b[0m\u001b[0;34m[\u001b[0m\u001b[0;34m-\u001b[0m\u001b[0mcontext_length\u001b[0m\u001b[0;34m-\u001b[0m\u001b[0;36m30\u001b[0m\u001b[0;34m:\u001b[0m\u001b[0;34m]\u001b[0m\u001b[0;34m)\u001b[0m\u001b[0;34m\u001b[0m\u001b[0;34m\u001b[0m\u001b[0m\n\u001b[0;32m-> 1034\u001b[0;31m     \u001b[0mend_tokenized\u001b[0m \u001b[0;34m=\u001b[0m \u001b[0;34m' '\u001b[0m\u001b[0;34m.\u001b[0m\u001b[0mjoin\u001b[0m\u001b[0;34m(\u001b[0m\u001b[0mcase\u001b[0m\u001b[0;34m[\u001b[0m\u001b[0mend_idx\u001b[0m\u001b[0;34m:\u001b[0m\u001b[0;34m]\u001b[0m\u001b[0;34m.\u001b[0m\u001b[0msplit\u001b[0m\u001b[0;34m(\u001b[0m\u001b[0;34m)\u001b[0m\u001b[0;34m[\u001b[0m\u001b[0;34m:\u001b[0m\u001b[0mcontext_length\u001b[0m\u001b[0;34m+\u001b[0m\u001b[0;36m30\u001b[0m\u001b[0;34m]\u001b[0m\u001b[0;34m)\u001b[0m\u001b[0;34m\u001b[0m\u001b[0;34m\u001b[0m\u001b[0m\n\u001b[0m\u001b[1;32m   1035\u001b[0m \u001b[0;34m\u001b[0m\u001b[0m\n\u001b[1;32m   1036\u001b[0m     \u001b[0;32mif\u001b[0m \u001b[0mpurpose\u001b[0m \u001b[0;34m==\u001b[0m \u001b[0;34m'train'\u001b[0m\u001b[0;34m:\u001b[0m\u001b[0;34m\u001b[0m\u001b[0;34m\u001b[0m\u001b[0m\n",
      "\u001b[0;31mKeyboardInterrupt\u001b[0m: "
     ]
    }
   ],
   "source": [
    "model, vectorizer, annotated_damages = key_functions.train_classifier('../data/annotations/final_annotations.txt', LogisticRegression(C = 1, penalty='l2', solver = 'newton-cg', max_iter = 1000, random_state=42), fit_model=True, context_length=5)"
   ]
  },
  {
   "cell_type": "markdown",
   "metadata": {},
   "source": [
    "### Context Length = 4"
   ]
  },
  {
   "cell_type": "code",
   "execution_count": 4,
   "metadata": {
    "collapsed": true,
    "jupyter": {
     "outputs_hidden": true
    }
   },
   "outputs": [
    {
     "name": "stdout",
     "output_type": "stream",
     "text": [
      "Didnt find any tags in Mawani v. Pitcairn, [2012] B.C.J. No. 1819\n",
      "Didnt find any tags in Aiken (Guardian ad litem of) v. Van Dyk, [2001] B.C.J. No. 1751\n",
      "Didnt find any tags in Millard v. Singleton, [2015] B.C.J. No. 1234 %\n",
      "Didnt find any tags in Cowie v. Draper, [2010] B.C.J. No. 910935154 %\n",
      "Didnt find any tags in Bajwa v. Deol, [2018] I.L.R. para. G-2792606 %\n",
      "Didnt find any tags in Jackson v. Fisheries and Oceans Canada, [2006] B.C.J. No. 2654\n",
      "Didnt find any tags in Los Angeles Salad Co. v. Canadian Food Inspection Agency, [2009] B.C.J. No. 161\n",
      "Didnt find any tags in Brooks-Martin v. Martin, [2011] B.C.J. No. 243\n",
      "Didnt find any tags in Gibson v. Matthies, [2017] B.C.J. No. 96556 %\n",
      "Didnt find any tags in Gray v. Ellis, [2007] I.L.R. para. M-211801 %\n",
      "Didnt find any tags in Morrow v. Outerbridge, 2009 CHFL para. 15,554\n",
      "Didnt find any tags in Rackstraw (Litigation guardian of) v. Robertson, [2011] B.C.J. No. 1354\n",
      "Didnt find any tags in Ahlwat v. Green, [2014] B.C.J. No. 245267576 %\n",
      "Didnt find any tags in Quade v. Schwartz, [2008] B.C.J. No. 1032117 %\n",
      "Didnt find any tags in McKee (Guardian ad litem of) v. McCoy, [2001] B.C.J. No. 2675\n",
      "Didnt find any tags in GE Capital Canada Equipment Financing Inc. v. Bank of Montreal, [2003] B.C.J. No. 1791\n",
      "Didnt find any tags in Kerr (Litigation Guardian of) v. Creighton, [2007] B.C.J. No. 309\n",
      "Didnt find any tags in Danielson v. Janze, [2017] B.C.J. No. 492275 %\n",
      "Didnt find any tags in Deline v. Vancouver Talmud Torah Assn., [2020] B.C.J. No. 274\n",
      "Didnt find any tags in Francescutto v. Church, [2014] B.C.J. No. 638%\n",
      "Didnt find any tags in Gill v. Canada (Minister of Transport), [2014] B.C.J. No. 2921\n",
      "Didnt find any tags in Gladwell (Litigation guardian of) v. Busletta, [2018] B.C.J. No. 3570\n",
      "Didnt find any tags in Hoessmann Estate v. Aldergrove Credit Union, [2018] B.C.J. No. 303\n",
      "Didnt find any tags in Hung Fook Canada Ltd. v. Silcorp Ltd. (c.o.b. Mac's Convenience Stores), [2000] B.C.J. No. 404\n",
      "Didnt find any tags in Jones Estate v. Insurance Corp. of British Columbia, [2019] B.C.J. No. 2493\n",
      "Didnt find any tags in Jory v. Pereira, [2019] B.C.J. No. 16438737 %\n",
      "Didnt find any tags in Kerr v. Hall, [2013] B.C.J. No. 281009215016 %\n",
      "Didnt find any tags in Larsen v. Larsen, [2004] B.C.J. No. 39970304 %\n",
      "Didnt find any tags in Malhotra v. Waterfront Homes Ltd., [2015] B.C.J. No. 1297\n",
      "Didnt find any tags in Parchment v. British Columbia, [2015] B.C.J. No. 1236\n",
      "Didnt find any tags in Robson v. Chrysler Canada Ltd., [2001] B.C.J. No. 23\n",
      "Didnt find any tags in Royal Bank of Canada v. United Used Auto & Truck Parts Ltd., [2006] B.C.J. No. 1778\n",
      "Didnt find any tags in Stanway v. Wyeth Canada Inc., [2013] B.C.J. No. 411\n",
      "Didnt find any tags in Stewart v. Canada (Attorney General), [2010] B.C.J. No. 2410\n",
      "Didnt find any tags in Strata Plan LMS 2940 v. Quick as a Wink Courier Service Ltd., [2007] B.C.J. No. 1448\n",
      "Didnt find any tags in Strata Plan VR 10 v. EE Management Corp., [2015] B.C.J. No. 590\n",
      "Didnt find any tags in Wakelam v. Johnson & Johnson, [2011] B.C.J. No. 2477\n",
      "Didnt find any tags in West Van Holdings Ltd. v. Economical Mutual Insurance Co., [2017] B.C.J. No. 2670\n",
      "Didnt find any tags in Allen v. Girard, [2002] B.C.J. No. 21486792 %\n",
      "Didnt find any tags in Drage v. Page, [2002] B.C.J. No. 1848242321 %\n",
      "Didnt find any tags in Kahlon (Litigation guardian of) v. Vancouver Coastal Health Authority, 2009 CHFL para. 15,560\n",
      "Didnt find any tags in Kristiansen v. Grewal, [2014] B.C.J. No. 641\n",
      "Didnt find any tags in Low v. Albas, 2013 BREG para. 50,73017406135 %\n",
      "Didnt find any tags in Morris v. Moddejonge, [2004] B.C.J. No. 1786 %\n",
      "Didnt find any tags in Parragh v. Eagle Ridge Hospital and Health Care Centre, [2008] B.C.J. No. 1836\n",
      "Didnt find any tags in Roberts & Baker v. Kemp, [2005] B.C.J. No. 1928\n",
      "Didnt find any tags in Achtymichuk v. Bayer Inc., [2018] B.C.J. No. 879\n",
      "Didnt find any tags in Axa Pacific Insurance Company Ltd. v. Guildford Marquis Towers Ltd., [2000] I.L.R. para. I-3801\n",
      "Didnt find any tags in Bingo City Games Inc. v. British Columbia Lottery Corp., [2003] B.C.J. No. 985\n",
      "Didnt find any tags in Bittante v. Zichy, [2008] I.L.R. para. M-2244\n",
      "Didnt find any tags in Bohmer v. White, [2009] B.C.J. No. 93533788 %\n",
      "Didnt find any tags in F.W. Hearns/Actes - A Joint Venture v. University of British Columbia, [2000] B.C.J. No. 1238\n",
      "Didnt find any tags in Harris v. Sweet, [2005] B.C.J. No. 15209317 %\n",
      "Didnt find any tags in Horvath v. Thring, [2000] B.C.J. No. 131082 %\n",
      "Didnt find any tags in Keen v. Surrey (City), [2004] B.C.J. No. 2161%\n",
      "Didnt find any tags in Manavi v. Cascadia Apartment Rentals Ltd., [2017] B.C.J. No. 218\n",
      "Didnt find any tags in Ogden v. Gulf Log Salvage Co-operative Assn., [2005] B.C.J. No. 61\n",
      "Didnt find any tags in Petersen v. Stadnyk, [2003] B.C.J. No. 3173 %\n",
      "Didnt find any tags in Sharbern Holding Inc. v. Vancouver Airport Centre Ltd., [2005] B.C.J. No. 347\n",
      "Didnt find any tags in Skytrac Systems Ltd. v. Mares, [2009] B.C.J. No. 1641\n",
      "Didnt find any tags in Strata Plan BCS 1589 v. Nacht, [2018] B.C.J. No. 517\n",
      "Didnt find any tags in Thorburn v. British Columbia (Ministry of Public Safety and Solicitor General), [2012] B.C.J. No. 2216\n",
      "Didnt find any tags in Clare v. I.J. Manufacturing and three other actions, 2003 BREG para. 50,351\n",
      "Didnt find any tags in Coglon v. Ergas, [2009] B.C.J. No. 24274607 %\n",
      "Didnt find any tags in Commisso v. Teck Coal Ltd., [2018] B.C.J. No. 6970\n",
      "Didnt find any tags in Crawford v. Nazif, [2019] B.C.J. No. 259836 %\n",
      "Didnt find any tags in Cupo v. Brady, [2013] B.C.J. No. 2086385666 %\n",
      "Didnt find any tags in Davis v. Royal Bank of Canada, [2016] B.C.J. No. 2262\n",
      "Didnt find any tags in Deo v. Vancouver School No. 39, [2014] B.C.J. No. 3083\n",
      "Didnt find any tags in Foote v. Hallen, [2014] B.C.J. No. 57816724 %\n",
      "Didnt find any tags in Gaida Estate v. McLeod, [2013] B.C.J. No. 1423\n",
      "Didnt find any tags in human v. Insurance Corp. of British Columbia, [2019] B.C.J. No. 1547\n",
      "Didnt find any tags in Gichuru v. Purewal, [2019] B.C.J. No. 82918 %\n",
      "Didnt find any tags in Glenn v. Seair Seaplanes Ltd., [2012] B.C.J. No. 2428\n",
      "Didnt find any tags in Halliday v. Teasdale, [2019] B.C.J. No. 1414%\n",
      "Didnt find any tags in Haror v. Rana, [2018] B.C.J. No. 3553713311 %\n",
      "Didnt find any tags in Hixon-Gause v. Roberts, [2003] I.L.R. para. M-1673\n",
      "Didnt find any tags in Holland (Guardian ad litem of) v. Marshall, [2008] B.C.J. No. 2827\n",
      "Didnt find any tags in Horvath v. Thring, [2004] I.L.R. para. M-1713\n",
      "Didnt find any tags in Ho v. Ip, [2019] B.C.J. No. 250383959044369 %\n",
      "Didnt find any tags in I.A.L. (Litigation guardian of) v. Y.C., [2019] B.C.J. No. 1739\n",
      "Didnt find any tags in Insurance Corp. of British Columbia v. Suska, [2009] B.C.J. No. 2474\n",
      "Didnt find any tags in Irving v. Canada (Royal Canadian Mounted Police), [2000] B.C.J. No. 424\n",
      "Didnt find any tags in Jackson v. Backus, [2002] I.L.R. para. G-1496\n",
      "Didnt find any tags in Jennings v. Insurance Corporation of British Columbia, [2002] I.L.R. para. M-1562\n",
      "Didnt find any tags in Jiang v. Grand East Supermarket Inc., [2005] B.C.J. No. 2787\n",
      "Didnt find any tags in John Doe 1 v. University of British Columbia, [2019] B.C.J. No. 808\n",
      "Didnt find any tags in Joy v. Atkinson, [2008] B.C.J. No. 11276484 %\n",
      "Didnt find any tags in J.R.T. Nurseries Inc. v. 0843374 B.C. Ltd., [2016] B.C.J. No. 578\n",
      "Didnt find any tags in Lansdowne v. United Church of Canada, [2001] I.L.R. para. G-1403\n",
      "Didnt find any tags in Lapointe v. John Doe, [2016] B.C.J. No. 223 %\n",
      "Didnt find any tags in Laurier Charters Ltd. v. Eggleton, [2020] B.C.J. No. 342\n",
      "Didnt find any tags in Holt v. Rother, [2013] B.C.J. No. 128603072 %\n",
      "Didnt find any tags in Lindgren (Litigation guardian of) v. Parks Canada Agency, [2018] B.C.J. No. 120\n",
      "Didnt find any tags in Benek v. Pugash, [2004] B.C.J. No. 1931413 %%\n",
      "Didnt find any tags in Healey v. Royal Bank of Canada, [2003] B.C.J. No. 474\n",
      "Didnt find any tags in Insurance Corp. of British Columbia v. Scheelar, [2003] B.C.J. No. 1406\n",
      "Didnt find any tags in Mohebbi v. Canada (Royal Canadian Mounted Police) (North Vancouver), [2015] B.C.J. No. 2475\n",
      "Didnt find any tags in Strata Plan LMS 1564 v. Odyssey Tower Properties Ltd., [2009] B.C.J. No. 1511\n",
      "Didnt find any tags in Brewer v. Sarju, [2008] B.C.J. No. 21821775 %\n",
      "Didnt find any tags in Capilano Fishing Ltd. v. Qualicum Producer (The), [2000] B.C.J. No. 72\n",
      "Didnt find any tags in Intrawest Corp. v. Hart, [2002] B.C.J. No. 2816\n",
      "Didnt find any tags in Gengenbacher v. Smith, [2016] B.C.J. No. 1337\n",
      "Didnt find any tags in Littler v. Underdown, [2000] B.C.J. No. 1367%\n",
      "Didnt find any tags in Wilson v. Potter, [2005] B.C.J. No. 12803 %\n",
      "Didnt find any tags in Hixon (Guardian ad litem of) v. Roberts, [2003] B.C.J. No. 1328\n",
      "Didnt find any tags in Sarai v. Caharel, [2013] B.C.J. No. 2299652 %\n",
      "Didnt find any tags in Seeliger v. Eagle Ridge Hospital, [2006] B.C.J. No. 2189\n",
      "Didnt find any tags in Siegerist (Litigation guardian of) v. Tilton, [2020] B.C.J. No. 594\n",
      "Didnt find any tags in Douez v. Facebook, Inc., [2014] B.C.J. No. 1051\n",
      "Didnt find any tags in Hamilton v. Callaway, [2014] B.C.J. No. 174 %\n",
      "Didnt find any tags in MacMillan, Tucker & Mackay v. Cook, [2009] B.C.J. No. 991\n",
      "Didnt find any tags in Martin v. Lavigne, [2010] B.C.J. No. 162032 %\n",
      "Didnt find any tags in Moore v. College of Physicians and Surgeons of British Columbia, [2013] B.C.J. No. 2504\n",
      "Didnt find any tags in Nolting Estate v. Interior Health Authority (c.o.b. Vernon Jubilee Hospital), [2016] B.C.J. No. 1601\n",
      "Didnt find any tags in Ontario (Pension Board) v. Ball, [2010] B.C.J. No. 1792\n",
      "Didnt find any tags in R. v. Siemens, [2000] B.C.J. No. 230650512 %%\n",
      "Didnt find any tags in Aulakh v. Nahal, [2018] B.C.J. No. 80436177 %\n",
      "Didnt find any tags in Bakker v. Nahanee, [2012] B.C.J. No. 114742 %\n",
      "Didnt find any tags in Faust v. See, [2018] B.C.J. No. 12877167235 %\n",
      "\n",
      "Vectorizing...\n",
      "Tag Distribution\n",
      "Counter({'other': 2980, 'non pecuniary': 343, 'special': 256, 'future care': 241, 'future wage loss': 237, 'past wage loss': 231, 'total': 203, 'sub-special': 153, 'general': 87, 'sub-future care': 78, 'punitive': 39, 'in trust': 38, 'sub-future wage loss': 37, 'sub-past wage loss': 37, 'reduction to': 26, 'total after': 25, 'sub-general': 23, 'sub-non pecuniary': 21, 'aggravated': 21, 'reduction by': 16, 'sub-total': 15, 'sub-in trust': 14, 'sub-reduction': 2})\n"
     ]
    },
    {
     "name": "stderr",
     "output_type": "stream",
     "text": [
      "/home/ilana/anaconda3/lib/python3.7/site-packages/sklearn/model_selection/_split.py:667: UserWarning: The least populated class in y has only 2 members, which is less than n_splits=10.\n",
      "  % (min_groups, self.n_splits)), UserWarning)\n",
      "/home/ilana/anaconda3/lib/python3.7/site-packages/sklearn/model_selection/_split.py:667: UserWarning: The least populated class in y has only 2 members, which is less than n_splits=10.\n",
      "  % (min_groups, self.n_splits)), UserWarning)\n"
     ]
    },
    {
     "name": "stdout",
     "output_type": "stream",
     "text": [
      "Cross validation evaluation...\n",
      "                      precision    recall  f1-score   support\n",
      "\n",
      "          aggravated       1.00      0.62      0.76        21\n",
      "         future care       0.78      0.77      0.77       241\n",
      "    future wage loss       0.71      0.66      0.68       237\n",
      "             general       0.69      0.49      0.58        87\n",
      "            in trust       0.76      0.42      0.54        38\n",
      "       non pecuniary       0.79      0.83      0.81       343\n",
      "               other       0.85      0.95      0.90      2980\n",
      "      past wage loss       0.69      0.65      0.67       231\n",
      "            punitive       0.85      0.90      0.88        39\n",
      "        reduction by       0.89      0.50      0.64        16\n",
      "        reduction to       1.00      0.23      0.38        26\n",
      "             special       0.70      0.80      0.75       256\n",
      "     sub-future care       0.33      0.08      0.12        78\n",
      "sub-future wage loss       0.50      0.22      0.30        37\n",
      "         sub-general       0.50      0.17      0.26        23\n",
      "        sub-in trust       0.86      0.43      0.57        14\n",
      "   sub-non pecuniary       0.82      0.43      0.56        21\n",
      "  sub-past wage loss       0.08      0.03      0.04        37\n",
      "       sub-reduction       0.00      0.00      0.00         2\n",
      "         sub-special       0.31      0.12      0.17       153\n",
      "           sub-total       0.83      0.33      0.48        15\n",
      "               total       0.69      0.65      0.67       203\n",
      "         total after       0.83      0.20      0.32        25\n",
      "\n",
      "            accuracy                           0.80      5123\n",
      "           macro avg       0.67      0.46      0.52      5123\n",
      "        weighted avg       0.78      0.80      0.78      5123\n",
      "\n",
      "Training final model...\n"
     ]
    },
    {
     "name": "stderr",
     "output_type": "stream",
     "text": [
      "/home/ilana/anaconda3/lib/python3.7/site-packages/sklearn/metrics/_classification.py:1272: UndefinedMetricWarning: Precision and F-score are ill-defined and being set to 0.0 in labels with no predicted samples. Use `zero_division` parameter to control this behavior.\n",
      "  _warn_prf(average, modifier, msg_start, len(result))\n"
     ]
    }
   ],
   "source": [
    "model, vectorizer, annotated_damages = key_functions.train_classifier('../data/annotations/final_annotations.txt', LogisticRegression(C = 1, penalty='l2', solver = 'newton-cg', max_iter = 1000, random_state=42), fit_model=True, context_length=4)"
   ]
  },
  {
   "cell_type": "markdown",
   "metadata": {},
   "source": [
    "### All results below use the best context length for the damages classifier: 6 tokens on either side"
   ]
  },
  {
   "cell_type": "markdown",
   "metadata": {},
   "source": [
    "### Using All Features:\n",
    "```\n",
    "precision    recall  f1-score   support\n",
    "          aggravated       1.00      0.62      0.76        21\n",
    "         future care       0.74      0.77      0.75       241\n",
    "    future wage loss       0.72      0.71      0.71       237\n",
    "             general       0.73      0.52      0.60        87\n",
    "            in trust       0.62      0.34      0.44        38\n",
    "       non pecuniary       0.79      0.85      0.82       343\n",
    "               other       0.87      0.94      0.90      2980\n",
    "      past wage loss       0.71      0.74      0.72       231\n",
    "            punitive       0.83      0.90      0.86        39\n",
    "        reduction by       0.88      0.44      0.58        16\n",
    "        reduction to       0.75      0.35      0.47        26\n",
    "             special       0.73      0.79      0.76       256\n",
    "     sub-future care       0.53      0.12      0.19        78\n",
    "sub-future wage loss       0.47      0.19      0.27        37\n",
    "         sub-general       0.33      0.09      0.14        23\n",
    "        sub-in trust       0.86      0.43      0.57        14\n",
    "   sub-non pecuniary       0.80      0.38      0.52        21\n",
    "  sub-past wage loss       0.08      0.03      0.04        37\n",
    "       sub-reduction       0.00      0.00      0.00         2\n",
    "         sub-special       0.47      0.21      0.29       153\n",
    "           sub-total       0.86      0.40      0.55        15\n",
    "               total       0.67      0.65      0.66       203\n",
    "         total after       0.78      0.28      0.41        25\n",
    "            accuracy                           0.81      5123\n",
    "           macro avg       0.66      0.47      0.52      5123\n",
    "        weighted avg       0.79      0.81      0.79      5123\n",
    "```"
   ]
  },
  {
   "cell_type": "markdown",
   "metadata": {},
   "source": [
    "### Remove Float Bins "
   ]
  },
  {
   "cell_type": "code",
   "execution_count": 3,
   "metadata": {
    "collapsed": true,
    "jupyter": {
     "outputs_hidden": true
    }
   },
   "outputs": [
    {
     "name": "stdout",
     "output_type": "stream",
     "text": [
      "Didnt find any tags in Mawani v. Pitcairn, [2012] B.C.J. No. 1819\n",
      "Didnt find any tags in Aiken (Guardian ad litem of) v. Van Dyk, [2001] B.C.J. No. 1751\n",
      "Didnt find any tags in Millard v. Singleton, [2015] B.C.J. No. 1234 %\n",
      "Didnt find any tags in Cowie v. Draper, [2010] B.C.J. No. 910935154 %\n",
      "Didnt find any tags in Bajwa v. Deol, [2018] I.L.R. para. G-2792606 %\n",
      "Didnt find any tags in Jackson v. Fisheries and Oceans Canada, [2006] B.C.J. No. 2654\n",
      "Didnt find any tags in Los Angeles Salad Co. v. Canadian Food Inspection Agency, [2009] B.C.J. No. 161\n",
      "Didnt find any tags in Brooks-Martin v. Martin, [2011] B.C.J. No. 243\n",
      "Didnt find any tags in Gibson v. Matthies, [2017] B.C.J. No. 96556 %\n",
      "Didnt find any tags in Gray v. Ellis, [2007] I.L.R. para. M-211801 %\n",
      "Didnt find any tags in Morrow v. Outerbridge, 2009 CHFL para. 15,554\n",
      "Didnt find any tags in Rackstraw (Litigation guardian of) v. Robertson, [2011] B.C.J. No. 1354\n",
      "Didnt find any tags in Ahlwat v. Green, [2014] B.C.J. No. 245267576 %\n",
      "Didnt find any tags in Quade v. Schwartz, [2008] B.C.J. No. 1032117 %\n",
      "Didnt find any tags in McKee (Guardian ad litem of) v. McCoy, [2001] B.C.J. No. 2675\n",
      "Didnt find any tags in GE Capital Canada Equipment Financing Inc. v. Bank of Montreal, [2003] B.C.J. No. 1791\n",
      "Didnt find any tags in Kerr (Litigation Guardian of) v. Creighton, [2007] B.C.J. No. 309\n",
      "Didnt find any tags in Danielson v. Janze, [2017] B.C.J. No. 492275 %\n",
      "Didnt find any tags in Deline v. Vancouver Talmud Torah Assn., [2020] B.C.J. No. 274\n",
      "Didnt find any tags in Francescutto v. Church, [2014] B.C.J. No. 638%\n",
      "Didnt find any tags in Gill v. Canada (Minister of Transport), [2014] B.C.J. No. 2921\n",
      "Didnt find any tags in Gladwell (Litigation guardian of) v. Busletta, [2018] B.C.J. No. 3570\n",
      "Didnt find any tags in Hoessmann Estate v. Aldergrove Credit Union, [2018] B.C.J. No. 303\n",
      "Didnt find any tags in Hung Fook Canada Ltd. v. Silcorp Ltd. (c.o.b. Mac's Convenience Stores), [2000] B.C.J. No. 404\n",
      "Didnt find any tags in Jones Estate v. Insurance Corp. of British Columbia, [2019] B.C.J. No. 2493\n",
      "Didnt find any tags in Jory v. Pereira, [2019] B.C.J. No. 16438737 %\n",
      "Didnt find any tags in Kerr v. Hall, [2013] B.C.J. No. 281009215016 %\n",
      "Didnt find any tags in Larsen v. Larsen, [2004] B.C.J. No. 39970304 %\n",
      "Didnt find any tags in Malhotra v. Waterfront Homes Ltd., [2015] B.C.J. No. 1297\n",
      "Didnt find any tags in Parchment v. British Columbia, [2015] B.C.J. No. 1236\n",
      "Didnt find any tags in Robson v. Chrysler Canada Ltd., [2001] B.C.J. No. 23\n",
      "Didnt find any tags in Royal Bank of Canada v. United Used Auto & Truck Parts Ltd., [2006] B.C.J. No. 1778\n",
      "Didnt find any tags in Stanway v. Wyeth Canada Inc., [2013] B.C.J. No. 411\n",
      "Didnt find any tags in Stewart v. Canada (Attorney General), [2010] B.C.J. No. 2410\n",
      "Didnt find any tags in Strata Plan LMS 2940 v. Quick as a Wink Courier Service Ltd., [2007] B.C.J. No. 1448\n",
      "Didnt find any tags in Strata Plan VR 10 v. EE Management Corp., [2015] B.C.J. No. 590\n",
      "Didnt find any tags in Wakelam v. Johnson & Johnson, [2011] B.C.J. No. 2477\n",
      "Didnt find any tags in West Van Holdings Ltd. v. Economical Mutual Insurance Co., [2017] B.C.J. No. 2670\n",
      "Didnt find any tags in Allen v. Girard, [2002] B.C.J. No. 21486792 %\n",
      "Didnt find any tags in Drage v. Page, [2002] B.C.J. No. 1848242321 %\n",
      "Didnt find any tags in Kahlon (Litigation guardian of) v. Vancouver Coastal Health Authority, 2009 CHFL para. 15,560\n",
      "Didnt find any tags in Kristiansen v. Grewal, [2014] B.C.J. No. 641\n",
      "Didnt find any tags in Low v. Albas, 2013 BREG para. 50,73017406135 %\n",
      "Didnt find any tags in Morris v. Moddejonge, [2004] B.C.J. No. 1786 %\n",
      "Didnt find any tags in Parragh v. Eagle Ridge Hospital and Health Care Centre, [2008] B.C.J. No. 1836\n",
      "Didnt find any tags in Roberts & Baker v. Kemp, [2005] B.C.J. No. 1928\n",
      "Didnt find any tags in Achtymichuk v. Bayer Inc., [2018] B.C.J. No. 879\n",
      "Didnt find any tags in Axa Pacific Insurance Company Ltd. v. Guildford Marquis Towers Ltd., [2000] I.L.R. para. I-3801\n",
      "Didnt find any tags in Bingo City Games Inc. v. British Columbia Lottery Corp., [2003] B.C.J. No. 985\n",
      "Didnt find any tags in Bittante v. Zichy, [2008] I.L.R. para. M-2244\n",
      "Didnt find any tags in Bohmer v. White, [2009] B.C.J. No. 93533788 %\n",
      "Didnt find any tags in F.W. Hearns/Actes - A Joint Venture v. University of British Columbia, [2000] B.C.J. No. 1238\n",
      "Didnt find any tags in Harris v. Sweet, [2005] B.C.J. No. 15209317 %\n",
      "Didnt find any tags in Horvath v. Thring, [2000] B.C.J. No. 131082 %\n",
      "Didnt find any tags in Keen v. Surrey (City), [2004] B.C.J. No. 2161%\n",
      "Didnt find any tags in Manavi v. Cascadia Apartment Rentals Ltd., [2017] B.C.J. No. 218\n",
      "Didnt find any tags in Ogden v. Gulf Log Salvage Co-operative Assn., [2005] B.C.J. No. 61\n",
      "Didnt find any tags in Petersen v. Stadnyk, [2003] B.C.J. No. 3173 %\n",
      "Didnt find any tags in Sharbern Holding Inc. v. Vancouver Airport Centre Ltd., [2005] B.C.J. No. 347\n",
      "Didnt find any tags in Skytrac Systems Ltd. v. Mares, [2009] B.C.J. No. 1641\n",
      "Didnt find any tags in Strata Plan BCS 1589 v. Nacht, [2018] B.C.J. No. 517\n",
      "Didnt find any tags in Thorburn v. British Columbia (Ministry of Public Safety and Solicitor General), [2012] B.C.J. No. 2216\n",
      "Didnt find any tags in Clare v. I.J. Manufacturing and three other actions, 2003 BREG para. 50,351\n",
      "Didnt find any tags in Coglon v. Ergas, [2009] B.C.J. No. 24274607 %\n",
      "Didnt find any tags in Commisso v. Teck Coal Ltd., [2018] B.C.J. No. 6970\n",
      "Didnt find any tags in Crawford v. Nazif, [2019] B.C.J. No. 259836 %\n",
      "Didnt find any tags in Cupo v. Brady, [2013] B.C.J. No. 2086385666 %\n",
      "Didnt find any tags in Davis v. Royal Bank of Canada, [2016] B.C.J. No. 2262\n",
      "Didnt find any tags in Deo v. Vancouver School No. 39, [2014] B.C.J. No. 3083\n",
      "Didnt find any tags in Foote v. Hallen, [2014] B.C.J. No. 57816724 %\n",
      "Didnt find any tags in Gaida Estate v. McLeod, [2013] B.C.J. No. 1423\n",
      "Didnt find any tags in human v. Insurance Corp. of British Columbia, [2019] B.C.J. No. 1547\n",
      "Didnt find any tags in Gichuru v. Purewal, [2019] B.C.J. No. 82918 %\n",
      "Didnt find any tags in Glenn v. Seair Seaplanes Ltd., [2012] B.C.J. No. 2428\n",
      "Didnt find any tags in Halliday v. Teasdale, [2019] B.C.J. No. 1414%\n",
      "Didnt find any tags in Haror v. Rana, [2018] B.C.J. No. 3553713311 %\n",
      "Didnt find any tags in Hixon-Gause v. Roberts, [2003] I.L.R. para. M-1673\n",
      "Didnt find any tags in Holland (Guardian ad litem of) v. Marshall, [2008] B.C.J. No. 2827\n",
      "Didnt find any tags in Horvath v. Thring, [2004] I.L.R. para. M-1713\n",
      "Didnt find any tags in Ho v. Ip, [2019] B.C.J. No. 250383959044369 %\n",
      "Didnt find any tags in I.A.L. (Litigation guardian of) v. Y.C., [2019] B.C.J. No. 1739\n",
      "Didnt find any tags in Insurance Corp. of British Columbia v. Suska, [2009] B.C.J. No. 2474\n",
      "Didnt find any tags in Irving v. Canada (Royal Canadian Mounted Police), [2000] B.C.J. No. 424\n",
      "Didnt find any tags in Jackson v. Backus, [2002] I.L.R. para. G-1496\n",
      "Didnt find any tags in Jennings v. Insurance Corporation of British Columbia, [2002] I.L.R. para. M-1562\n",
      "Didnt find any tags in Jiang v. Grand East Supermarket Inc., [2005] B.C.J. No. 2787\n",
      "Didnt find any tags in John Doe 1 v. University of British Columbia, [2019] B.C.J. No. 808\n",
      "Didnt find any tags in Joy v. Atkinson, [2008] B.C.J. No. 11276484 %\n",
      "Didnt find any tags in J.R.T. Nurseries Inc. v. 0843374 B.C. Ltd., [2016] B.C.J. No. 578\n",
      "Didnt find any tags in Lansdowne v. United Church of Canada, [2001] I.L.R. para. G-1403\n",
      "Didnt find any tags in Lapointe v. John Doe, [2016] B.C.J. No. 223 %\n",
      "Didnt find any tags in Laurier Charters Ltd. v. Eggleton, [2020] B.C.J. No. 342\n",
      "Didnt find any tags in Holt v. Rother, [2013] B.C.J. No. 128603072 %\n",
      "Didnt find any tags in Lindgren (Litigation guardian of) v. Parks Canada Agency, [2018] B.C.J. No. 120\n",
      "Didnt find any tags in Benek v. Pugash, [2004] B.C.J. No. 1931413 %%\n",
      "Didnt find any tags in Healey v. Royal Bank of Canada, [2003] B.C.J. No. 474\n",
      "Didnt find any tags in Insurance Corp. of British Columbia v. Scheelar, [2003] B.C.J. No. 1406\n",
      "Didnt find any tags in Mohebbi v. Canada (Royal Canadian Mounted Police) (North Vancouver), [2015] B.C.J. No. 2475\n",
      "Didnt find any tags in Strata Plan LMS 1564 v. Odyssey Tower Properties Ltd., [2009] B.C.J. No. 1511\n",
      "Didnt find any tags in Brewer v. Sarju, [2008] B.C.J. No. 21821775 %\n",
      "Didnt find any tags in Capilano Fishing Ltd. v. Qualicum Producer (The), [2000] B.C.J. No. 72\n",
      "Didnt find any tags in Intrawest Corp. v. Hart, [2002] B.C.J. No. 2816\n",
      "Didnt find any tags in Gengenbacher v. Smith, [2016] B.C.J. No. 1337\n",
      "Didnt find any tags in Littler v. Underdown, [2000] B.C.J. No. 1367%\n",
      "Didnt find any tags in Wilson v. Potter, [2005] B.C.J. No. 12803 %\n",
      "Didnt find any tags in Hixon (Guardian ad litem of) v. Roberts, [2003] B.C.J. No. 1328\n",
      "Didnt find any tags in Sarai v. Caharel, [2013] B.C.J. No. 2299652 %\n",
      "Didnt find any tags in Seeliger v. Eagle Ridge Hospital, [2006] B.C.J. No. 2189\n",
      "Didnt find any tags in Siegerist (Litigation guardian of) v. Tilton, [2020] B.C.J. No. 594\n",
      "Didnt find any tags in Douez v. Facebook, Inc., [2014] B.C.J. No. 1051\n",
      "Didnt find any tags in Hamilton v. Callaway, [2014] B.C.J. No. 174 %\n",
      "Didnt find any tags in MacMillan, Tucker & Mackay v. Cook, [2009] B.C.J. No. 991\n",
      "Didnt find any tags in Martin v. Lavigne, [2010] B.C.J. No. 162032 %\n",
      "Didnt find any tags in Moore v. College of Physicians and Surgeons of British Columbia, [2013] B.C.J. No. 2504\n",
      "Didnt find any tags in Nolting Estate v. Interior Health Authority (c.o.b. Vernon Jubilee Hospital), [2016] B.C.J. No. 1601\n",
      "Didnt find any tags in Ontario (Pension Board) v. Ball, [2010] B.C.J. No. 1792\n",
      "Didnt find any tags in R. v. Siemens, [2000] B.C.J. No. 230650512 %%\n",
      "Didnt find any tags in Aulakh v. Nahal, [2018] B.C.J. No. 80436177 %\n",
      "Didnt find any tags in Bakker v. Nahanee, [2012] B.C.J. No. 114742 %\n",
      "Didnt find any tags in Faust v. See, [2018] B.C.J. No. 12877167235 %\n",
      "\n",
      "Vectorizing...\n",
      "Tag Distribution\n",
      "Counter({'other': 2980, 'non pecuniary': 343, 'special': 256, 'future care': 241, 'future wage loss': 237, 'past wage loss': 231, 'total': 203, 'sub-special': 153, 'general': 87, 'sub-future care': 78, 'punitive': 39, 'in trust': 38, 'sub-future wage loss': 37, 'sub-past wage loss': 37, 'reduction to': 26, 'total after': 25, 'sub-general': 23, 'sub-non pecuniary': 21, 'aggravated': 21, 'reduction by': 16, 'sub-total': 15, 'sub-in trust': 14, 'sub-reduction': 2})\n"
     ]
    },
    {
     "name": "stderr",
     "output_type": "stream",
     "text": [
      "/home/ilana/anaconda3/lib/python3.7/site-packages/sklearn/model_selection/_split.py:667: UserWarning: The least populated class in y has only 2 members, which is less than n_splits=10.\n",
      "  % (min_groups, self.n_splits)), UserWarning)\n",
      "/home/ilana/anaconda3/lib/python3.7/site-packages/sklearn/model_selection/_split.py:667: UserWarning: The least populated class in y has only 2 members, which is less than n_splits=10.\n",
      "  % (min_groups, self.n_splits)), UserWarning)\n"
     ]
    },
    {
     "name": "stdout",
     "output_type": "stream",
     "text": [
      "Cross validation evaluation...\n",
      "                      precision    recall  f1-score   support\n",
      "\n",
      "          aggravated       0.82      0.67      0.74        21\n",
      "         future care       0.74      0.75      0.75       241\n",
      "    future wage loss       0.68      0.73      0.70       237\n",
      "             general       0.72      0.53      0.61        87\n",
      "            in trust       0.52      0.29      0.37        38\n",
      "       non pecuniary       0.76      0.85      0.80       343\n",
      "               other       0.87      0.94      0.90      2980\n",
      "      past wage loss       0.71      0.71      0.71       231\n",
      "            punitive       0.89      0.85      0.87        39\n",
      "        reduction by       0.86      0.38      0.52        16\n",
      "        reduction to       0.67      0.23      0.34        26\n",
      "             special       0.71      0.74      0.72       256\n",
      "     sub-future care       0.33      0.06      0.11        78\n",
      "sub-future wage loss       0.62      0.27      0.38        37\n",
      "         sub-general       0.20      0.04      0.07        23\n",
      "        sub-in trust       0.86      0.43      0.57        14\n",
      "   sub-non pecuniary       0.67      0.38      0.48        21\n",
      "  sub-past wage loss       0.09      0.03      0.04        37\n",
      "       sub-reduction       0.00      0.00      0.00         2\n",
      "         sub-special       0.45      0.19      0.27       153\n",
      "           sub-total       0.86      0.40      0.55        15\n",
      "               total       0.63      0.63      0.63       203\n",
      "         total after       0.67      0.16      0.26        25\n",
      "\n",
      "            accuracy                           0.81      5123\n",
      "           macro avg       0.62      0.45      0.50      5123\n",
      "        weighted avg       0.78      0.81      0.79      5123\n",
      "\n",
      "Training final model...\n"
     ]
    }
   ],
   "source": [
    "model, vectorizer, annotated_damages = key_functions.train_classifier('../../data/annotations/final_annotations.txt', LogisticRegression(C = 1, penalty='l2', solver = 'newton-cg', max_iter = 1000, random_state=42), fit_model=True)\n"
   ]
  },
  {
   "cell_type": "markdown",
   "metadata": {},
   "source": [
    "### Remove `start_idx_ratio`"
   ]
  },
  {
   "cell_type": "code",
   "execution_count": 2,
   "metadata": {
    "collapsed": true,
    "jupyter": {
     "outputs_hidden": true
    }
   },
   "outputs": [
    {
     "name": "stdout",
     "output_type": "stream",
     "text": [
      "Didnt find any tags in Mawani v. Pitcairn, [2012] B.C.J. No. 1819\n",
      "Didnt find any tags in Aiken (Guardian ad litem of) v. Van Dyk, [2001] B.C.J. No. 1751\n",
      "Didnt find any tags in Millard v. Singleton, [2015] B.C.J. No. 1234 %\n",
      "Didnt find any tags in Cowie v. Draper, [2010] B.C.J. No. 910935154 %\n",
      "Didnt find any tags in Bajwa v. Deol, [2018] I.L.R. para. G-2792606 %\n",
      "Didnt find any tags in Jackson v. Fisheries and Oceans Canada, [2006] B.C.J. No. 2654\n",
      "Didnt find any tags in Los Angeles Salad Co. v. Canadian Food Inspection Agency, [2009] B.C.J. No. 161\n",
      "Didnt find any tags in Brooks-Martin v. Martin, [2011] B.C.J. No. 243\n",
      "Didnt find any tags in Gibson v. Matthies, [2017] B.C.J. No. 96556 %\n",
      "Didnt find any tags in Gray v. Ellis, [2007] I.L.R. para. M-211801 %\n",
      "Didnt find any tags in Morrow v. Outerbridge, 2009 CHFL para. 15,554\n",
      "Didnt find any tags in Rackstraw (Litigation guardian of) v. Robertson, [2011] B.C.J. No. 1354\n",
      "Didnt find any tags in Ahlwat v. Green, [2014] B.C.J. No. 245267576 %\n",
      "Didnt find any tags in Quade v. Schwartz, [2008] B.C.J. No. 1032117 %\n",
      "Didnt find any tags in McKee (Guardian ad litem of) v. McCoy, [2001] B.C.J. No. 2675\n",
      "Didnt find any tags in GE Capital Canada Equipment Financing Inc. v. Bank of Montreal, [2003] B.C.J. No. 1791\n",
      "Didnt find any tags in Kerr (Litigation Guardian of) v. Creighton, [2007] B.C.J. No. 309\n",
      "Didnt find any tags in Danielson v. Janze, [2017] B.C.J. No. 492275 %\n",
      "Didnt find any tags in Deline v. Vancouver Talmud Torah Assn., [2020] B.C.J. No. 274\n",
      "Didnt find any tags in Francescutto v. Church, [2014] B.C.J. No. 638%\n",
      "Didnt find any tags in Gill v. Canada (Minister of Transport), [2014] B.C.J. No. 2921\n",
      "Didnt find any tags in Gladwell (Litigation guardian of) v. Busletta, [2018] B.C.J. No. 3570\n",
      "Didnt find any tags in Hoessmann Estate v. Aldergrove Credit Union, [2018] B.C.J. No. 303\n",
      "Didnt find any tags in Hung Fook Canada Ltd. v. Silcorp Ltd. (c.o.b. Mac's Convenience Stores), [2000] B.C.J. No. 404\n",
      "Didnt find any tags in Jones Estate v. Insurance Corp. of British Columbia, [2019] B.C.J. No. 2493\n",
      "Didnt find any tags in Jory v. Pereira, [2019] B.C.J. No. 16438737 %\n",
      "Didnt find any tags in Kerr v. Hall, [2013] B.C.J. No. 281009215016 %\n",
      "Didnt find any tags in Larsen v. Larsen, [2004] B.C.J. No. 39970304 %\n",
      "Didnt find any tags in Malhotra v. Waterfront Homes Ltd., [2015] B.C.J. No. 1297\n",
      "Didnt find any tags in Parchment v. British Columbia, [2015] B.C.J. No. 1236\n",
      "Didnt find any tags in Robson v. Chrysler Canada Ltd., [2001] B.C.J. No. 23\n",
      "Didnt find any tags in Royal Bank of Canada v. United Used Auto & Truck Parts Ltd., [2006] B.C.J. No. 1778\n",
      "Didnt find any tags in Stanway v. Wyeth Canada Inc., [2013] B.C.J. No. 411\n",
      "Didnt find any tags in Stewart v. Canada (Attorney General), [2010] B.C.J. No. 2410\n",
      "Didnt find any tags in Strata Plan LMS 2940 v. Quick as a Wink Courier Service Ltd., [2007] B.C.J. No. 1448\n",
      "Didnt find any tags in Strata Plan VR 10 v. EE Management Corp., [2015] B.C.J. No. 590\n",
      "Didnt find any tags in Wakelam v. Johnson & Johnson, [2011] B.C.J. No. 2477\n",
      "Didnt find any tags in West Van Holdings Ltd. v. Economical Mutual Insurance Co., [2017] B.C.J. No. 2670\n",
      "Didnt find any tags in Allen v. Girard, [2002] B.C.J. No. 21486792 %\n",
      "Didnt find any tags in Drage v. Page, [2002] B.C.J. No. 1848242321 %\n",
      "Didnt find any tags in Kahlon (Litigation guardian of) v. Vancouver Coastal Health Authority, 2009 CHFL para. 15,560\n",
      "Didnt find any tags in Kristiansen v. Grewal, [2014] B.C.J. No. 641\n",
      "Didnt find any tags in Low v. Albas, 2013 BREG para. 50,73017406135 %\n",
      "Didnt find any tags in Morris v. Moddejonge, [2004] B.C.J. No. 1786 %\n",
      "Didnt find any tags in Parragh v. Eagle Ridge Hospital and Health Care Centre, [2008] B.C.J. No. 1836\n",
      "Didnt find any tags in Roberts & Baker v. Kemp, [2005] B.C.J. No. 1928\n",
      "Didnt find any tags in Achtymichuk v. Bayer Inc., [2018] B.C.J. No. 879\n",
      "Didnt find any tags in Axa Pacific Insurance Company Ltd. v. Guildford Marquis Towers Ltd., [2000] I.L.R. para. I-3801\n",
      "Didnt find any tags in Bingo City Games Inc. v. British Columbia Lottery Corp., [2003] B.C.J. No. 985\n",
      "Didnt find any tags in Bittante v. Zichy, [2008] I.L.R. para. M-2244\n",
      "Didnt find any tags in Bohmer v. White, [2009] B.C.J. No. 93533788 %\n",
      "Didnt find any tags in F.W. Hearns/Actes - A Joint Venture v. University of British Columbia, [2000] B.C.J. No. 1238\n",
      "Didnt find any tags in Harris v. Sweet, [2005] B.C.J. No. 15209317 %\n",
      "Didnt find any tags in Horvath v. Thring, [2000] B.C.J. No. 131082 %\n",
      "Didnt find any tags in Keen v. Surrey (City), [2004] B.C.J. No. 2161%\n",
      "Didnt find any tags in Manavi v. Cascadia Apartment Rentals Ltd., [2017] B.C.J. No. 218\n",
      "Didnt find any tags in Ogden v. Gulf Log Salvage Co-operative Assn., [2005] B.C.J. No. 61\n",
      "Didnt find any tags in Petersen v. Stadnyk, [2003] B.C.J. No. 3173 %\n",
      "Didnt find any tags in Sharbern Holding Inc. v. Vancouver Airport Centre Ltd., [2005] B.C.J. No. 347\n",
      "Didnt find any tags in Skytrac Systems Ltd. v. Mares, [2009] B.C.J. No. 1641\n",
      "Didnt find any tags in Strata Plan BCS 1589 v. Nacht, [2018] B.C.J. No. 517\n",
      "Didnt find any tags in Thorburn v. British Columbia (Ministry of Public Safety and Solicitor General), [2012] B.C.J. No. 2216\n",
      "Didnt find any tags in Clare v. I.J. Manufacturing and three other actions, 2003 BREG para. 50,351\n",
      "Didnt find any tags in Coglon v. Ergas, [2009] B.C.J. No. 24274607 %\n",
      "Didnt find any tags in Commisso v. Teck Coal Ltd., [2018] B.C.J. No. 6970\n",
      "Didnt find any tags in Crawford v. Nazif, [2019] B.C.J. No. 259836 %\n",
      "Didnt find any tags in Cupo v. Brady, [2013] B.C.J. No. 2086385666 %\n",
      "Didnt find any tags in Davis v. Royal Bank of Canada, [2016] B.C.J. No. 2262\n",
      "Didnt find any tags in Deo v. Vancouver School No. 39, [2014] B.C.J. No. 3083\n",
      "Didnt find any tags in Foote v. Hallen, [2014] B.C.J. No. 57816724 %\n",
      "Didnt find any tags in Gaida Estate v. McLeod, [2013] B.C.J. No. 1423\n",
      "Didnt find any tags in human v. Insurance Corp. of British Columbia, [2019] B.C.J. No. 1547\n",
      "Didnt find any tags in Gichuru v. Purewal, [2019] B.C.J. No. 82918 %\n",
      "Didnt find any tags in Glenn v. Seair Seaplanes Ltd., [2012] B.C.J. No. 2428\n",
      "Didnt find any tags in Halliday v. Teasdale, [2019] B.C.J. No. 1414%\n",
      "Didnt find any tags in Haror v. Rana, [2018] B.C.J. No. 3553713311 %\n",
      "Didnt find any tags in Hixon-Gause v. Roberts, [2003] I.L.R. para. M-1673\n",
      "Didnt find any tags in Holland (Guardian ad litem of) v. Marshall, [2008] B.C.J. No. 2827\n",
      "Didnt find any tags in Horvath v. Thring, [2004] I.L.R. para. M-1713\n",
      "Didnt find any tags in Ho v. Ip, [2019] B.C.J. No. 250383959044369 %\n",
      "Didnt find any tags in I.A.L. (Litigation guardian of) v. Y.C., [2019] B.C.J. No. 1739\n",
      "Didnt find any tags in Insurance Corp. of British Columbia v. Suska, [2009] B.C.J. No. 2474\n",
      "Didnt find any tags in Irving v. Canada (Royal Canadian Mounted Police), [2000] B.C.J. No. 424\n",
      "Didnt find any tags in Jackson v. Backus, [2002] I.L.R. para. G-1496\n",
      "Didnt find any tags in Jennings v. Insurance Corporation of British Columbia, [2002] I.L.R. para. M-1562\n",
      "Didnt find any tags in Jiang v. Grand East Supermarket Inc., [2005] B.C.J. No. 2787\n",
      "Didnt find any tags in John Doe 1 v. University of British Columbia, [2019] B.C.J. No. 808\n",
      "Didnt find any tags in Joy v. Atkinson, [2008] B.C.J. No. 11276484 %\n",
      "Didnt find any tags in J.R.T. Nurseries Inc. v. 0843374 B.C. Ltd., [2016] B.C.J. No. 578\n",
      "Didnt find any tags in Lansdowne v. United Church of Canada, [2001] I.L.R. para. G-1403\n",
      "Didnt find any tags in Lapointe v. John Doe, [2016] B.C.J. No. 223 %\n",
      "Didnt find any tags in Laurier Charters Ltd. v. Eggleton, [2020] B.C.J. No. 342\n",
      "Didnt find any tags in Holt v. Rother, [2013] B.C.J. No. 128603072 %\n",
      "Didnt find any tags in Lindgren (Litigation guardian of) v. Parks Canada Agency, [2018] B.C.J. No. 120\n",
      "Didnt find any tags in Benek v. Pugash, [2004] B.C.J. No. 1931413 %%\n",
      "Didnt find any tags in Healey v. Royal Bank of Canada, [2003] B.C.J. No. 474\n",
      "Didnt find any tags in Insurance Corp. of British Columbia v. Scheelar, [2003] B.C.J. No. 1406\n",
      "Didnt find any tags in Mohebbi v. Canada (Royal Canadian Mounted Police) (North Vancouver), [2015] B.C.J. No. 2475\n",
      "Didnt find any tags in Strata Plan LMS 1564 v. Odyssey Tower Properties Ltd., [2009] B.C.J. No. 1511\n",
      "Didnt find any tags in Brewer v. Sarju, [2008] B.C.J. No. 21821775 %\n",
      "Didnt find any tags in Capilano Fishing Ltd. v. Qualicum Producer (The), [2000] B.C.J. No. 72\n",
      "Didnt find any tags in Intrawest Corp. v. Hart, [2002] B.C.J. No. 2816\n",
      "Didnt find any tags in Gengenbacher v. Smith, [2016] B.C.J. No. 1337\n",
      "Didnt find any tags in Littler v. Underdown, [2000] B.C.J. No. 1367%\n",
      "Didnt find any tags in Wilson v. Potter, [2005] B.C.J. No. 12803 %\n",
      "Didnt find any tags in Hixon (Guardian ad litem of) v. Roberts, [2003] B.C.J. No. 1328\n",
      "Didnt find any tags in Sarai v. Caharel, [2013] B.C.J. No. 2299652 %\n",
      "Didnt find any tags in Seeliger v. Eagle Ridge Hospital, [2006] B.C.J. No. 2189\n",
      "Didnt find any tags in Siegerist (Litigation guardian of) v. Tilton, [2020] B.C.J. No. 594\n",
      "Didnt find any tags in Douez v. Facebook, Inc., [2014] B.C.J. No. 1051\n",
      "Didnt find any tags in Hamilton v. Callaway, [2014] B.C.J. No. 174 %\n",
      "Didnt find any tags in MacMillan, Tucker & Mackay v. Cook, [2009] B.C.J. No. 991\n",
      "Didnt find any tags in Martin v. Lavigne, [2010] B.C.J. No. 162032 %\n",
      "Didnt find any tags in Moore v. College of Physicians and Surgeons of British Columbia, [2013] B.C.J. No. 2504\n",
      "Didnt find any tags in Nolting Estate v. Interior Health Authority (c.o.b. Vernon Jubilee Hospital), [2016] B.C.J. No. 1601\n",
      "Didnt find any tags in Ontario (Pension Board) v. Ball, [2010] B.C.J. No. 1792\n",
      "Didnt find any tags in R. v. Siemens, [2000] B.C.J. No. 230650512 %%\n",
      "Didnt find any tags in Aulakh v. Nahal, [2018] B.C.J. No. 80436177 %\n",
      "Didnt find any tags in Bakker v. Nahanee, [2012] B.C.J. No. 114742 %\n",
      "Didnt find any tags in Faust v. See, [2018] B.C.J. No. 12877167235 %\n",
      "\n",
      "Vectorizing...\n",
      "Tag Distribution\n",
      "Counter({'other': 2980, 'non pecuniary': 343, 'special': 256, 'future care': 241, 'future wage loss': 237, 'past wage loss': 231, 'total': 203, 'sub-special': 153, 'general': 87, 'sub-future care': 78, 'punitive': 39, 'in trust': 38, 'sub-future wage loss': 37, 'sub-past wage loss': 37, 'reduction to': 26, 'total after': 25, 'sub-general': 23, 'sub-non pecuniary': 21, 'aggravated': 21, 'reduction by': 16, 'sub-total': 15, 'sub-in trust': 14, 'sub-reduction': 2})\n"
     ]
    },
    {
     "name": "stderr",
     "output_type": "stream",
     "text": [
      "/home/ilana/anaconda3/lib/python3.7/site-packages/sklearn/model_selection/_split.py:667: UserWarning: The least populated class in y has only 2 members, which is less than n_splits=10.\n",
      "  % (min_groups, self.n_splits)), UserWarning)\n",
      "/home/ilana/anaconda3/lib/python3.7/site-packages/sklearn/model_selection/_split.py:667: UserWarning: The least populated class in y has only 2 members, which is less than n_splits=10.\n",
      "  % (min_groups, self.n_splits)), UserWarning)\n"
     ]
    },
    {
     "name": "stdout",
     "output_type": "stream",
     "text": [
      "Cross validation evaluation...\n",
      "                      precision    recall  f1-score   support\n",
      "\n",
      "          aggravated       1.00      0.62      0.76        21\n",
      "         future care       0.76      0.78      0.77       241\n",
      "    future wage loss       0.72      0.70      0.71       237\n",
      "             general       0.73      0.52      0.60        87\n",
      "            in trust       0.60      0.32      0.41        38\n",
      "       non pecuniary       0.78      0.84      0.81       343\n",
      "               other       0.86      0.94      0.90      2980\n",
      "      past wage loss       0.72      0.74      0.73       231\n",
      "            punitive       0.85      0.90      0.88        39\n",
      "        reduction by       1.00      0.44      0.61        16\n",
      "        reduction to       0.82      0.35      0.49        26\n",
      "             special       0.72      0.79      0.76       256\n",
      "     sub-future care       0.47      0.10      0.17        78\n",
      "sub-future wage loss       0.47      0.19      0.27        37\n",
      "         sub-general       0.33      0.09      0.14        23\n",
      "        sub-in trust       0.86      0.43      0.57        14\n",
      "   sub-non pecuniary       0.82      0.43      0.56        21\n",
      "  sub-past wage loss       0.08      0.03      0.04        37\n",
      "       sub-reduction       0.00      0.00      0.00         2\n",
      "         sub-special       0.44      0.20      0.27       153\n",
      "           sub-total       0.86      0.40      0.55        15\n",
      "               total       0.66      0.63      0.65       203\n",
      "         total after       0.75      0.24      0.36        25\n",
      "\n",
      "            accuracy                           0.81      5123\n",
      "           macro avg       0.67      0.46      0.52      5123\n",
      "        weighted avg       0.79      0.81      0.79      5123\n",
      "\n",
      "Training final model...\n"
     ]
    }
   ],
   "source": [
    "model, vectorizer, annotated_damages = key_functions.train_classifier('../../data/annotations/final_annotations.txt', LogisticRegression(C = 1, penalty='l2', solver = 'newton-cg', max_iter = 1000, random_state=42), fit_model=True)\n"
   ]
  },
  {
   "cell_type": "markdown",
   "metadata": {},
   "source": [
    "### Remove Next Word"
   ]
  },
  {
   "cell_type": "code",
   "execution_count": 2,
   "metadata": {
    "collapsed": true,
    "jupyter": {
     "outputs_hidden": true
    }
   },
   "outputs": [
    {
     "name": "stdout",
     "output_type": "stream",
     "text": [
      "Didnt find any tags in Mawani v. Pitcairn, [2012] B.C.J. No. 1819\n",
      "Didnt find any tags in Aiken (Guardian ad litem of) v. Van Dyk, [2001] B.C.J. No. 1751\n",
      "Didnt find any tags in Millard v. Singleton, [2015] B.C.J. No. 1234 %\n",
      "Didnt find any tags in Cowie v. Draper, [2010] B.C.J. No. 910935154 %\n",
      "Didnt find any tags in Bajwa v. Deol, [2018] I.L.R. para. G-2792606 %\n",
      "Didnt find any tags in Jackson v. Fisheries and Oceans Canada, [2006] B.C.J. No. 2654\n",
      "Didnt find any tags in Los Angeles Salad Co. v. Canadian Food Inspection Agency, [2009] B.C.J. No. 161\n",
      "Didnt find any tags in Brooks-Martin v. Martin, [2011] B.C.J. No. 243\n",
      "Didnt find any tags in Gibson v. Matthies, [2017] B.C.J. No. 96556 %\n",
      "Didnt find any tags in Gray v. Ellis, [2007] I.L.R. para. M-211801 %\n",
      "Didnt find any tags in Morrow v. Outerbridge, 2009 CHFL para. 15,554\n",
      "Didnt find any tags in Rackstraw (Litigation guardian of) v. Robertson, [2011] B.C.J. No. 1354\n",
      "Didnt find any tags in Ahlwat v. Green, [2014] B.C.J. No. 245267576 %\n",
      "Didnt find any tags in Quade v. Schwartz, [2008] B.C.J. No. 1032117 %\n",
      "Didnt find any tags in McKee (Guardian ad litem of) v. McCoy, [2001] B.C.J. No. 2675\n",
      "Didnt find any tags in GE Capital Canada Equipment Financing Inc. v. Bank of Montreal, [2003] B.C.J. No. 1791\n",
      "Didnt find any tags in Kerr (Litigation Guardian of) v. Creighton, [2007] B.C.J. No. 309\n",
      "Didnt find any tags in Danielson v. Janze, [2017] B.C.J. No. 492275 %\n",
      "Didnt find any tags in Deline v. Vancouver Talmud Torah Assn., [2020] B.C.J. No. 274\n",
      "Didnt find any tags in Francescutto v. Church, [2014] B.C.J. No. 638%\n",
      "Didnt find any tags in Gill v. Canada (Minister of Transport), [2014] B.C.J. No. 2921\n",
      "Didnt find any tags in Gladwell (Litigation guardian of) v. Busletta, [2018] B.C.J. No. 3570\n",
      "Didnt find any tags in Hoessmann Estate v. Aldergrove Credit Union, [2018] B.C.J. No. 303\n",
      "Didnt find any tags in Hung Fook Canada Ltd. v. Silcorp Ltd. (c.o.b. Mac's Convenience Stores), [2000] B.C.J. No. 404\n",
      "Didnt find any tags in Jones Estate v. Insurance Corp. of British Columbia, [2019] B.C.J. No. 2493\n",
      "Didnt find any tags in Jory v. Pereira, [2019] B.C.J. No. 16438737 %\n",
      "Didnt find any tags in Kerr v. Hall, [2013] B.C.J. No. 281009215016 %\n",
      "Didnt find any tags in Larsen v. Larsen, [2004] B.C.J. No. 39970304 %\n",
      "Didnt find any tags in Malhotra v. Waterfront Homes Ltd., [2015] B.C.J. No. 1297\n",
      "Didnt find any tags in Parchment v. British Columbia, [2015] B.C.J. No. 1236\n",
      "Didnt find any tags in Robson v. Chrysler Canada Ltd., [2001] B.C.J. No. 23\n",
      "Didnt find any tags in Royal Bank of Canada v. United Used Auto & Truck Parts Ltd., [2006] B.C.J. No. 1778\n",
      "Didnt find any tags in Stanway v. Wyeth Canada Inc., [2013] B.C.J. No. 411\n",
      "Didnt find any tags in Stewart v. Canada (Attorney General), [2010] B.C.J. No. 2410\n",
      "Didnt find any tags in Strata Plan LMS 2940 v. Quick as a Wink Courier Service Ltd., [2007] B.C.J. No. 1448\n",
      "Didnt find any tags in Strata Plan VR 10 v. EE Management Corp., [2015] B.C.J. No. 590\n",
      "Didnt find any tags in Wakelam v. Johnson & Johnson, [2011] B.C.J. No. 2477\n",
      "Didnt find any tags in West Van Holdings Ltd. v. Economical Mutual Insurance Co., [2017] B.C.J. No. 2670\n",
      "Didnt find any tags in Allen v. Girard, [2002] B.C.J. No. 21486792 %\n",
      "Didnt find any tags in Drage v. Page, [2002] B.C.J. No. 1848242321 %\n",
      "Didnt find any tags in Kahlon (Litigation guardian of) v. Vancouver Coastal Health Authority, 2009 CHFL para. 15,560\n",
      "Didnt find any tags in Kristiansen v. Grewal, [2014] B.C.J. No. 641\n",
      "Didnt find any tags in Low v. Albas, 2013 BREG para. 50,73017406135 %\n",
      "Didnt find any tags in Morris v. Moddejonge, [2004] B.C.J. No. 1786 %\n",
      "Didnt find any tags in Parragh v. Eagle Ridge Hospital and Health Care Centre, [2008] B.C.J. No. 1836\n",
      "Didnt find any tags in Roberts & Baker v. Kemp, [2005] B.C.J. No. 1928\n",
      "Didnt find any tags in Achtymichuk v. Bayer Inc., [2018] B.C.J. No. 879\n",
      "Didnt find any tags in Axa Pacific Insurance Company Ltd. v. Guildford Marquis Towers Ltd., [2000] I.L.R. para. I-3801\n",
      "Didnt find any tags in Bingo City Games Inc. v. British Columbia Lottery Corp., [2003] B.C.J. No. 985\n",
      "Didnt find any tags in Bittante v. Zichy, [2008] I.L.R. para. M-2244\n",
      "Didnt find any tags in Bohmer v. White, [2009] B.C.J. No. 93533788 %\n",
      "Didnt find any tags in F.W. Hearns/Actes - A Joint Venture v. University of British Columbia, [2000] B.C.J. No. 1238\n",
      "Didnt find any tags in Harris v. Sweet, [2005] B.C.J. No. 15209317 %\n",
      "Didnt find any tags in Horvath v. Thring, [2000] B.C.J. No. 131082 %\n",
      "Didnt find any tags in Keen v. Surrey (City), [2004] B.C.J. No. 2161%\n",
      "Didnt find any tags in Manavi v. Cascadia Apartment Rentals Ltd., [2017] B.C.J. No. 218\n",
      "Didnt find any tags in Ogden v. Gulf Log Salvage Co-operative Assn., [2005] B.C.J. No. 61\n",
      "Didnt find any tags in Petersen v. Stadnyk, [2003] B.C.J. No. 3173 %\n",
      "Didnt find any tags in Sharbern Holding Inc. v. Vancouver Airport Centre Ltd., [2005] B.C.J. No. 347\n",
      "Didnt find any tags in Skytrac Systems Ltd. v. Mares, [2009] B.C.J. No. 1641\n",
      "Didnt find any tags in Strata Plan BCS 1589 v. Nacht, [2018] B.C.J. No. 517\n",
      "Didnt find any tags in Thorburn v. British Columbia (Ministry of Public Safety and Solicitor General), [2012] B.C.J. No. 2216\n",
      "Didnt find any tags in Clare v. I.J. Manufacturing and three other actions, 2003 BREG para. 50,351\n",
      "Didnt find any tags in Coglon v. Ergas, [2009] B.C.J. No. 24274607 %\n",
      "Didnt find any tags in Commisso v. Teck Coal Ltd., [2018] B.C.J. No. 6970\n",
      "Didnt find any tags in Crawford v. Nazif, [2019] B.C.J. No. 259836 %\n",
      "Didnt find any tags in Cupo v. Brady, [2013] B.C.J. No. 2086385666 %\n",
      "Didnt find any tags in Davis v. Royal Bank of Canada, [2016] B.C.J. No. 2262\n",
      "Didnt find any tags in Deo v. Vancouver School No. 39, [2014] B.C.J. No. 3083\n",
      "Didnt find any tags in Foote v. Hallen, [2014] B.C.J. No. 57816724 %\n",
      "Didnt find any tags in Gaida Estate v. McLeod, [2013] B.C.J. No. 1423\n",
      "Didnt find any tags in human v. Insurance Corp. of British Columbia, [2019] B.C.J. No. 1547\n",
      "Didnt find any tags in Gichuru v. Purewal, [2019] B.C.J. No. 82918 %\n",
      "Didnt find any tags in Glenn v. Seair Seaplanes Ltd., [2012] B.C.J. No. 2428\n",
      "Didnt find any tags in Halliday v. Teasdale, [2019] B.C.J. No. 1414%\n",
      "Didnt find any tags in Haror v. Rana, [2018] B.C.J. No. 3553713311 %\n",
      "Didnt find any tags in Hixon-Gause v. Roberts, [2003] I.L.R. para. M-1673\n",
      "Didnt find any tags in Holland (Guardian ad litem of) v. Marshall, [2008] B.C.J. No. 2827\n",
      "Didnt find any tags in Horvath v. Thring, [2004] I.L.R. para. M-1713\n",
      "Didnt find any tags in Ho v. Ip, [2019] B.C.J. No. 250383959044369 %\n",
      "Didnt find any tags in I.A.L. (Litigation guardian of) v. Y.C., [2019] B.C.J. No. 1739\n",
      "Didnt find any tags in Insurance Corp. of British Columbia v. Suska, [2009] B.C.J. No. 2474\n",
      "Didnt find any tags in Irving v. Canada (Royal Canadian Mounted Police), [2000] B.C.J. No. 424\n",
      "Didnt find any tags in Jackson v. Backus, [2002] I.L.R. para. G-1496\n",
      "Didnt find any tags in Jennings v. Insurance Corporation of British Columbia, [2002] I.L.R. para. M-1562\n",
      "Didnt find any tags in Jiang v. Grand East Supermarket Inc., [2005] B.C.J. No. 2787\n",
      "Didnt find any tags in John Doe 1 v. University of British Columbia, [2019] B.C.J. No. 808\n",
      "Didnt find any tags in Joy v. Atkinson, [2008] B.C.J. No. 11276484 %\n",
      "Didnt find any tags in J.R.T. Nurseries Inc. v. 0843374 B.C. Ltd., [2016] B.C.J. No. 578\n",
      "Didnt find any tags in Lansdowne v. United Church of Canada, [2001] I.L.R. para. G-1403\n",
      "Didnt find any tags in Lapointe v. John Doe, [2016] B.C.J. No. 223 %\n",
      "Didnt find any tags in Laurier Charters Ltd. v. Eggleton, [2020] B.C.J. No. 342\n",
      "Didnt find any tags in Holt v. Rother, [2013] B.C.J. No. 128603072 %\n",
      "Didnt find any tags in Lindgren (Litigation guardian of) v. Parks Canada Agency, [2018] B.C.J. No. 120\n",
      "Didnt find any tags in Benek v. Pugash, [2004] B.C.J. No. 1931413 %%\n",
      "Didnt find any tags in Healey v. Royal Bank of Canada, [2003] B.C.J. No. 474\n",
      "Didnt find any tags in Insurance Corp. of British Columbia v. Scheelar, [2003] B.C.J. No. 1406\n",
      "Didnt find any tags in Mohebbi v. Canada (Royal Canadian Mounted Police) (North Vancouver), [2015] B.C.J. No. 2475\n",
      "Didnt find any tags in Strata Plan LMS 1564 v. Odyssey Tower Properties Ltd., [2009] B.C.J. No. 1511\n",
      "Didnt find any tags in Brewer v. Sarju, [2008] B.C.J. No. 21821775 %\n",
      "Didnt find any tags in Capilano Fishing Ltd. v. Qualicum Producer (The), [2000] B.C.J. No. 72\n",
      "Didnt find any tags in Intrawest Corp. v. Hart, [2002] B.C.J. No. 2816\n",
      "Didnt find any tags in Gengenbacher v. Smith, [2016] B.C.J. No. 1337\n",
      "Didnt find any tags in Littler v. Underdown, [2000] B.C.J. No. 1367%\n",
      "Didnt find any tags in Wilson v. Potter, [2005] B.C.J. No. 12803 %\n",
      "Didnt find any tags in Hixon (Guardian ad litem of) v. Roberts, [2003] B.C.J. No. 1328\n",
      "Didnt find any tags in Sarai v. Caharel, [2013] B.C.J. No. 2299652 %\n",
      "Didnt find any tags in Seeliger v. Eagle Ridge Hospital, [2006] B.C.J. No. 2189\n",
      "Didnt find any tags in Siegerist (Litigation guardian of) v. Tilton, [2020] B.C.J. No. 594\n",
      "Didnt find any tags in Douez v. Facebook, Inc., [2014] B.C.J. No. 1051\n",
      "Didnt find any tags in Hamilton v. Callaway, [2014] B.C.J. No. 174 %\n",
      "Didnt find any tags in MacMillan, Tucker & Mackay v. Cook, [2009] B.C.J. No. 991\n",
      "Didnt find any tags in Martin v. Lavigne, [2010] B.C.J. No. 162032 %\n",
      "Didnt find any tags in Moore v. College of Physicians and Surgeons of British Columbia, [2013] B.C.J. No. 2504\n",
      "Didnt find any tags in Nolting Estate v. Interior Health Authority (c.o.b. Vernon Jubilee Hospital), [2016] B.C.J. No. 1601\n",
      "Didnt find any tags in Ontario (Pension Board) v. Ball, [2010] B.C.J. No. 1792\n",
      "Didnt find any tags in R. v. Siemens, [2000] B.C.J. No. 230650512 %%\n",
      "Didnt find any tags in Aulakh v. Nahal, [2018] B.C.J. No. 80436177 %\n",
      "Didnt find any tags in Bakker v. Nahanee, [2012] B.C.J. No. 114742 %\n",
      "Didnt find any tags in Faust v. See, [2018] B.C.J. No. 12877167235 %\n",
      "\n",
      "Vectorizing...\n",
      "Tag Distribution\n",
      "Counter({'other': 2980, 'non pecuniary': 343, 'special': 256, 'future care': 241, 'future wage loss': 237, 'past wage loss': 231, 'total': 203, 'sub-special': 153, 'general': 87, 'sub-future care': 78, 'punitive': 39, 'in trust': 38, 'sub-future wage loss': 37, 'sub-past wage loss': 37, 'reduction to': 26, 'total after': 25, 'sub-general': 23, 'sub-non pecuniary': 21, 'aggravated': 21, 'reduction by': 16, 'sub-total': 15, 'sub-in trust': 14, 'sub-reduction': 2})\n"
     ]
    },
    {
     "name": "stderr",
     "output_type": "stream",
     "text": [
      "/home/ilana/anaconda3/lib/python3.7/site-packages/sklearn/model_selection/_split.py:667: UserWarning: The least populated class in y has only 2 members, which is less than n_splits=10.\n",
      "  % (min_groups, self.n_splits)), UserWarning)\n",
      "/home/ilana/anaconda3/lib/python3.7/site-packages/sklearn/model_selection/_split.py:667: UserWarning: The least populated class in y has only 2 members, which is less than n_splits=10.\n",
      "  % (min_groups, self.n_splits)), UserWarning)\n"
     ]
    },
    {
     "name": "stdout",
     "output_type": "stream",
     "text": [
      "Cross validation evaluation...\n",
      "                      precision    recall  f1-score   support\n",
      "\n",
      "          aggravated       0.81      0.62      0.70        21\n",
      "         future care       0.74      0.76      0.75       241\n",
      "    future wage loss       0.73      0.70      0.71       237\n",
      "             general       0.71      0.52      0.60        87\n",
      "            in trust       0.57      0.32      0.41        38\n",
      "       non pecuniary       0.76      0.85      0.80       343\n",
      "               other       0.87      0.95      0.91      2980\n",
      "      past wage loss       0.69      0.73      0.71       231\n",
      "            punitive       0.82      0.79      0.81        39\n",
      "        reduction by       1.00      0.44      0.61        16\n",
      "        reduction to       0.80      0.31      0.44        26\n",
      "             special       0.72      0.78      0.75       256\n",
      "     sub-future care       0.50      0.12      0.19        78\n",
      "sub-future wage loss       0.50      0.22      0.30        37\n",
      "         sub-general       0.33      0.09      0.14        23\n",
      "        sub-in trust       0.86      0.43      0.57        14\n",
      "   sub-non pecuniary       0.80      0.38      0.52        21\n",
      "  sub-past wage loss       0.09      0.03      0.04        37\n",
      "       sub-reduction       0.00      0.00      0.00         2\n",
      "         sub-special       0.51      0.21      0.30       153\n",
      "           sub-total       0.86      0.40      0.55        15\n",
      "               total       0.66      0.64      0.65       203\n",
      "         total after       0.71      0.20      0.31        25\n",
      "\n",
      "            accuracy                           0.81      5123\n",
      "           macro avg       0.65      0.45      0.51      5123\n",
      "        weighted avg       0.79      0.81      0.79      5123\n",
      "\n",
      "Training final model...\n"
     ]
    }
   ],
   "source": [
    "model, vectorizer, annotated_damages = key_functions.train_classifier('../../data/annotations/final_annotations.txt', LogisticRegression(C = 1, penalty='l2', solver = 'newton-cg', max_iter = 1000, random_state=42), fit_model=True)\n"
   ]
  },
  {
   "cell_type": "markdown",
   "metadata": {},
   "source": [
    "### Remove Prev Word"
   ]
  },
  {
   "cell_type": "code",
   "execution_count": 3,
   "metadata": {
    "collapsed": true,
    "jupyter": {
     "outputs_hidden": true
    }
   },
   "outputs": [
    {
     "name": "stdout",
     "output_type": "stream",
     "text": [
      "Didnt find any tags in Mawani v. Pitcairn, [2012] B.C.J. No. 1819\n",
      "Didnt find any tags in Aiken (Guardian ad litem of) v. Van Dyk, [2001] B.C.J. No. 1751\n",
      "Didnt find any tags in Millard v. Singleton, [2015] B.C.J. No. 1234 %\n",
      "Didnt find any tags in Cowie v. Draper, [2010] B.C.J. No. 910935154 %\n",
      "Didnt find any tags in Bajwa v. Deol, [2018] I.L.R. para. G-2792606 %\n",
      "Didnt find any tags in Jackson v. Fisheries and Oceans Canada, [2006] B.C.J. No. 2654\n",
      "Didnt find any tags in Los Angeles Salad Co. v. Canadian Food Inspection Agency, [2009] B.C.J. No. 161\n",
      "Didnt find any tags in Brooks-Martin v. Martin, [2011] B.C.J. No. 243\n",
      "Didnt find any tags in Gibson v. Matthies, [2017] B.C.J. No. 96556 %\n",
      "Didnt find any tags in Gray v. Ellis, [2007] I.L.R. para. M-211801 %\n",
      "Didnt find any tags in Morrow v. Outerbridge, 2009 CHFL para. 15,554\n",
      "Didnt find any tags in Rackstraw (Litigation guardian of) v. Robertson, [2011] B.C.J. No. 1354\n",
      "Didnt find any tags in Ahlwat v. Green, [2014] B.C.J. No. 245267576 %\n",
      "Didnt find any tags in Quade v. Schwartz, [2008] B.C.J. No. 1032117 %\n",
      "Didnt find any tags in McKee (Guardian ad litem of) v. McCoy, [2001] B.C.J. No. 2675\n",
      "Didnt find any tags in GE Capital Canada Equipment Financing Inc. v. Bank of Montreal, [2003] B.C.J. No. 1791\n",
      "Didnt find any tags in Kerr (Litigation Guardian of) v. Creighton, [2007] B.C.J. No. 309\n",
      "Didnt find any tags in Danielson v. Janze, [2017] B.C.J. No. 492275 %\n",
      "Didnt find any tags in Deline v. Vancouver Talmud Torah Assn., [2020] B.C.J. No. 274\n",
      "Didnt find any tags in Francescutto v. Church, [2014] B.C.J. No. 638%\n",
      "Didnt find any tags in Gill v. Canada (Minister of Transport), [2014] B.C.J. No. 2921\n",
      "Didnt find any tags in Gladwell (Litigation guardian of) v. Busletta, [2018] B.C.J. No. 3570\n",
      "Didnt find any tags in Hoessmann Estate v. Aldergrove Credit Union, [2018] B.C.J. No. 303\n",
      "Didnt find any tags in Hung Fook Canada Ltd. v. Silcorp Ltd. (c.o.b. Mac's Convenience Stores), [2000] B.C.J. No. 404\n",
      "Didnt find any tags in Jones Estate v. Insurance Corp. of British Columbia, [2019] B.C.J. No. 2493\n",
      "Didnt find any tags in Jory v. Pereira, [2019] B.C.J. No. 16438737 %\n",
      "Didnt find any tags in Kerr v. Hall, [2013] B.C.J. No. 281009215016 %\n",
      "Didnt find any tags in Larsen v. Larsen, [2004] B.C.J. No. 39970304 %\n",
      "Didnt find any tags in Malhotra v. Waterfront Homes Ltd., [2015] B.C.J. No. 1297\n",
      "Didnt find any tags in Parchment v. British Columbia, [2015] B.C.J. No. 1236\n",
      "Didnt find any tags in Robson v. Chrysler Canada Ltd., [2001] B.C.J. No. 23\n",
      "Didnt find any tags in Royal Bank of Canada v. United Used Auto & Truck Parts Ltd., [2006] B.C.J. No. 1778\n",
      "Didnt find any tags in Stanway v. Wyeth Canada Inc., [2013] B.C.J. No. 411\n",
      "Didnt find any tags in Stewart v. Canada (Attorney General), [2010] B.C.J. No. 2410\n",
      "Didnt find any tags in Strata Plan LMS 2940 v. Quick as a Wink Courier Service Ltd., [2007] B.C.J. No. 1448\n",
      "Didnt find any tags in Strata Plan VR 10 v. EE Management Corp., [2015] B.C.J. No. 590\n",
      "Didnt find any tags in Wakelam v. Johnson & Johnson, [2011] B.C.J. No. 2477\n",
      "Didnt find any tags in West Van Holdings Ltd. v. Economical Mutual Insurance Co., [2017] B.C.J. No. 2670\n",
      "Didnt find any tags in Allen v. Girard, [2002] B.C.J. No. 21486792 %\n",
      "Didnt find any tags in Drage v. Page, [2002] B.C.J. No. 1848242321 %\n",
      "Didnt find any tags in Kahlon (Litigation guardian of) v. Vancouver Coastal Health Authority, 2009 CHFL para. 15,560\n",
      "Didnt find any tags in Kristiansen v. Grewal, [2014] B.C.J. No. 641\n",
      "Didnt find any tags in Low v. Albas, 2013 BREG para. 50,73017406135 %\n",
      "Didnt find any tags in Morris v. Moddejonge, [2004] B.C.J. No. 1786 %\n",
      "Didnt find any tags in Parragh v. Eagle Ridge Hospital and Health Care Centre, [2008] B.C.J. No. 1836\n",
      "Didnt find any tags in Roberts & Baker v. Kemp, [2005] B.C.J. No. 1928\n",
      "Didnt find any tags in Achtymichuk v. Bayer Inc., [2018] B.C.J. No. 879\n",
      "Didnt find any tags in Axa Pacific Insurance Company Ltd. v. Guildford Marquis Towers Ltd., [2000] I.L.R. para. I-3801\n",
      "Didnt find any tags in Bingo City Games Inc. v. British Columbia Lottery Corp., [2003] B.C.J. No. 985\n",
      "Didnt find any tags in Bittante v. Zichy, [2008] I.L.R. para. M-2244\n",
      "Didnt find any tags in Bohmer v. White, [2009] B.C.J. No. 93533788 %\n",
      "Didnt find any tags in F.W. Hearns/Actes - A Joint Venture v. University of British Columbia, [2000] B.C.J. No. 1238\n",
      "Didnt find any tags in Harris v. Sweet, [2005] B.C.J. No. 15209317 %\n",
      "Didnt find any tags in Horvath v. Thring, [2000] B.C.J. No. 131082 %\n",
      "Didnt find any tags in Keen v. Surrey (City), [2004] B.C.J. No. 2161%\n",
      "Didnt find any tags in Manavi v. Cascadia Apartment Rentals Ltd., [2017] B.C.J. No. 218\n",
      "Didnt find any tags in Ogden v. Gulf Log Salvage Co-operative Assn., [2005] B.C.J. No. 61\n",
      "Didnt find any tags in Petersen v. Stadnyk, [2003] B.C.J. No. 3173 %\n",
      "Didnt find any tags in Sharbern Holding Inc. v. Vancouver Airport Centre Ltd., [2005] B.C.J. No. 347\n",
      "Didnt find any tags in Skytrac Systems Ltd. v. Mares, [2009] B.C.J. No. 1641\n",
      "Didnt find any tags in Strata Plan BCS 1589 v. Nacht, [2018] B.C.J. No. 517\n",
      "Didnt find any tags in Thorburn v. British Columbia (Ministry of Public Safety and Solicitor General), [2012] B.C.J. No. 2216\n",
      "Didnt find any tags in Clare v. I.J. Manufacturing and three other actions, 2003 BREG para. 50,351\n",
      "Didnt find any tags in Coglon v. Ergas, [2009] B.C.J. No. 24274607 %\n",
      "Didnt find any tags in Commisso v. Teck Coal Ltd., [2018] B.C.J. No. 6970\n",
      "Didnt find any tags in Crawford v. Nazif, [2019] B.C.J. No. 259836 %\n",
      "Didnt find any tags in Cupo v. Brady, [2013] B.C.J. No. 2086385666 %\n",
      "Didnt find any tags in Davis v. Royal Bank of Canada, [2016] B.C.J. No. 2262\n",
      "Didnt find any tags in Deo v. Vancouver School No. 39, [2014] B.C.J. No. 3083\n",
      "Didnt find any tags in Foote v. Hallen, [2014] B.C.J. No. 57816724 %\n",
      "Didnt find any tags in Gaida Estate v. McLeod, [2013] B.C.J. No. 1423\n",
      "Didnt find any tags in human v. Insurance Corp. of British Columbia, [2019] B.C.J. No. 1547\n",
      "Didnt find any tags in Gichuru v. Purewal, [2019] B.C.J. No. 82918 %\n",
      "Didnt find any tags in Glenn v. Seair Seaplanes Ltd., [2012] B.C.J. No. 2428\n",
      "Didnt find any tags in Halliday v. Teasdale, [2019] B.C.J. No. 1414%\n",
      "Didnt find any tags in Haror v. Rana, [2018] B.C.J. No. 3553713311 %\n",
      "Didnt find any tags in Hixon-Gause v. Roberts, [2003] I.L.R. para. M-1673\n",
      "Didnt find any tags in Holland (Guardian ad litem of) v. Marshall, [2008] B.C.J. No. 2827\n",
      "Didnt find any tags in Horvath v. Thring, [2004] I.L.R. para. M-1713\n",
      "Didnt find any tags in Ho v. Ip, [2019] B.C.J. No. 250383959044369 %\n",
      "Didnt find any tags in I.A.L. (Litigation guardian of) v. Y.C., [2019] B.C.J. No. 1739\n",
      "Didnt find any tags in Insurance Corp. of British Columbia v. Suska, [2009] B.C.J. No. 2474\n",
      "Didnt find any tags in Irving v. Canada (Royal Canadian Mounted Police), [2000] B.C.J. No. 424\n",
      "Didnt find any tags in Jackson v. Backus, [2002] I.L.R. para. G-1496\n",
      "Didnt find any tags in Jennings v. Insurance Corporation of British Columbia, [2002] I.L.R. para. M-1562\n",
      "Didnt find any tags in Jiang v. Grand East Supermarket Inc., [2005] B.C.J. No. 2787\n",
      "Didnt find any tags in John Doe 1 v. University of British Columbia, [2019] B.C.J. No. 808\n",
      "Didnt find any tags in Joy v. Atkinson, [2008] B.C.J. No. 11276484 %\n",
      "Didnt find any tags in J.R.T. Nurseries Inc. v. 0843374 B.C. Ltd., [2016] B.C.J. No. 578\n",
      "Didnt find any tags in Lansdowne v. United Church of Canada, [2001] I.L.R. para. G-1403\n",
      "Didnt find any tags in Lapointe v. John Doe, [2016] B.C.J. No. 223 %\n",
      "Didnt find any tags in Laurier Charters Ltd. v. Eggleton, [2020] B.C.J. No. 342\n",
      "Didnt find any tags in Holt v. Rother, [2013] B.C.J. No. 128603072 %\n",
      "Didnt find any tags in Lindgren (Litigation guardian of) v. Parks Canada Agency, [2018] B.C.J. No. 120\n",
      "Didnt find any tags in Benek v. Pugash, [2004] B.C.J. No. 1931413 %%\n",
      "Didnt find any tags in Healey v. Royal Bank of Canada, [2003] B.C.J. No. 474\n",
      "Didnt find any tags in Insurance Corp. of British Columbia v. Scheelar, [2003] B.C.J. No. 1406\n",
      "Didnt find any tags in Mohebbi v. Canada (Royal Canadian Mounted Police) (North Vancouver), [2015] B.C.J. No. 2475\n",
      "Didnt find any tags in Strata Plan LMS 1564 v. Odyssey Tower Properties Ltd., [2009] B.C.J. No. 1511\n",
      "Didnt find any tags in Brewer v. Sarju, [2008] B.C.J. No. 21821775 %\n",
      "Didnt find any tags in Capilano Fishing Ltd. v. Qualicum Producer (The), [2000] B.C.J. No. 72\n",
      "Didnt find any tags in Intrawest Corp. v. Hart, [2002] B.C.J. No. 2816\n",
      "Didnt find any tags in Gengenbacher v. Smith, [2016] B.C.J. No. 1337\n",
      "Didnt find any tags in Littler v. Underdown, [2000] B.C.J. No. 1367%\n",
      "Didnt find any tags in Wilson v. Potter, [2005] B.C.J. No. 12803 %\n",
      "Didnt find any tags in Hixon (Guardian ad litem of) v. Roberts, [2003] B.C.J. No. 1328\n",
      "Didnt find any tags in Sarai v. Caharel, [2013] B.C.J. No. 2299652 %\n",
      "Didnt find any tags in Seeliger v. Eagle Ridge Hospital, [2006] B.C.J. No. 2189\n",
      "Didnt find any tags in Siegerist (Litigation guardian of) v. Tilton, [2020] B.C.J. No. 594\n",
      "Didnt find any tags in Douez v. Facebook, Inc., [2014] B.C.J. No. 1051\n",
      "Didnt find any tags in Hamilton v. Callaway, [2014] B.C.J. No. 174 %\n",
      "Didnt find any tags in MacMillan, Tucker & Mackay v. Cook, [2009] B.C.J. No. 991\n",
      "Didnt find any tags in Martin v. Lavigne, [2010] B.C.J. No. 162032 %\n",
      "Didnt find any tags in Moore v. College of Physicians and Surgeons of British Columbia, [2013] B.C.J. No. 2504\n",
      "Didnt find any tags in Nolting Estate v. Interior Health Authority (c.o.b. Vernon Jubilee Hospital), [2016] B.C.J. No. 1601\n",
      "Didnt find any tags in Ontario (Pension Board) v. Ball, [2010] B.C.J. No. 1792\n",
      "Didnt find any tags in R. v. Siemens, [2000] B.C.J. No. 230650512 %%\n",
      "Didnt find any tags in Aulakh v. Nahal, [2018] B.C.J. No. 80436177 %\n",
      "Didnt find any tags in Bakker v. Nahanee, [2012] B.C.J. No. 114742 %\n",
      "Didnt find any tags in Faust v. See, [2018] B.C.J. No. 12877167235 %\n",
      "\n",
      "Vectorizing...\n",
      "Tag Distribution\n",
      "Counter({'other': 2980, 'non pecuniary': 343, 'special': 256, 'future care': 241, 'future wage loss': 237, 'past wage loss': 231, 'total': 203, 'sub-special': 153, 'general': 87, 'sub-future care': 78, 'punitive': 39, 'in trust': 38, 'sub-future wage loss': 37, 'sub-past wage loss': 37, 'reduction to': 26, 'total after': 25, 'sub-general': 23, 'sub-non pecuniary': 21, 'aggravated': 21, 'reduction by': 16, 'sub-total': 15, 'sub-in trust': 14, 'sub-reduction': 2})\n"
     ]
    },
    {
     "name": "stderr",
     "output_type": "stream",
     "text": [
      "/home/ilana/anaconda3/lib/python3.7/site-packages/sklearn/model_selection/_split.py:667: UserWarning: The least populated class in y has only 2 members, which is less than n_splits=10.\n",
      "  % (min_groups, self.n_splits)), UserWarning)\n",
      "/home/ilana/anaconda3/lib/python3.7/site-packages/sklearn/model_selection/_split.py:667: UserWarning: The least populated class in y has only 2 members, which is less than n_splits=10.\n",
      "  % (min_groups, self.n_splits)), UserWarning)\n"
     ]
    },
    {
     "name": "stdout",
     "output_type": "stream",
     "text": [
      "Cross validation evaluation...\n",
      "                      precision    recall  f1-score   support\n",
      "\n",
      "          aggravated       1.00      0.62      0.76        21\n",
      "         future care       0.74      0.76      0.75       241\n",
      "    future wage loss       0.72      0.71      0.72       237\n",
      "             general       0.70      0.52      0.60        87\n",
      "            in trust       0.62      0.34      0.44        38\n",
      "       non pecuniary       0.79      0.85      0.82       343\n",
      "               other       0.87      0.94      0.90      2980\n",
      "      past wage loss       0.70      0.72      0.71       231\n",
      "            punitive       0.83      0.90      0.86        39\n",
      "        reduction by       1.00      0.38      0.55        16\n",
      "        reduction to       0.75      0.35      0.47        26\n",
      "             special       0.71      0.79      0.75       256\n",
      "     sub-future care       0.44      0.09      0.15        78\n",
      "sub-future wage loss       0.47      0.19      0.27        37\n",
      "         sub-general       0.33      0.09      0.14        23\n",
      "        sub-in trust       0.86      0.43      0.57        14\n",
      "   sub-non pecuniary       0.75      0.43      0.55        21\n",
      "  sub-past wage loss       0.08      0.03      0.04        37\n",
      "       sub-reduction       0.00      0.00      0.00         2\n",
      "         sub-special       0.48      0.21      0.29       153\n",
      "           sub-total       0.86      0.40      0.55        15\n",
      "               total       0.66      0.64      0.65       203\n",
      "         total after       0.70      0.28      0.40        25\n",
      "\n",
      "            accuracy                           0.81      5123\n",
      "           macro avg       0.65      0.46      0.52      5123\n",
      "        weighted avg       0.79      0.81      0.79      5123\n",
      "\n",
      "Training final model...\n"
     ]
    }
   ],
   "source": [
    "model, vectorizer, annotated_damages = key_functions.train_classifier('../../data/annotations/final_annotations.txt', LogisticRegression(C = 1, penalty='l2', solver = 'newton-cg', max_iter = 1000, random_state=42), fit_model=True)\n"
   ]
  },
  {
   "cell_type": "markdown",
   "metadata": {},
   "source": [
    "## Remove Next Birgram"
   ]
  },
  {
   "cell_type": "code",
   "execution_count": 2,
   "metadata": {
    "collapsed": true,
    "jupyter": {
     "outputs_hidden": true
    }
   },
   "outputs": [
    {
     "name": "stdout",
     "output_type": "stream",
     "text": [
      "Didnt find any tags in Mawani v. Pitcairn, [2012] B.C.J. No. 1819\n",
      "Didnt find any tags in Aiken (Guardian ad litem of) v. Van Dyk, [2001] B.C.J. No. 1751\n",
      "Didnt find any tags in Millard v. Singleton, [2015] B.C.J. No. 1234 %\n",
      "Didnt find any tags in Cowie v. Draper, [2010] B.C.J. No. 910935154 %\n",
      "Didnt find any tags in Bajwa v. Deol, [2018] I.L.R. para. G-2792606 %\n",
      "Didnt find any tags in Jackson v. Fisheries and Oceans Canada, [2006] B.C.J. No. 2654\n",
      "Didnt find any tags in Los Angeles Salad Co. v. Canadian Food Inspection Agency, [2009] B.C.J. No. 161\n",
      "Didnt find any tags in Brooks-Martin v. Martin, [2011] B.C.J. No. 243\n",
      "Didnt find any tags in Gibson v. Matthies, [2017] B.C.J. No. 96556 %\n",
      "Didnt find any tags in Gray v. Ellis, [2007] I.L.R. para. M-211801 %\n",
      "Didnt find any tags in Morrow v. Outerbridge, 2009 CHFL para. 15,554\n",
      "Didnt find any tags in Rackstraw (Litigation guardian of) v. Robertson, [2011] B.C.J. No. 1354\n",
      "Didnt find any tags in Ahlwat v. Green, [2014] B.C.J. No. 245267576 %\n",
      "Didnt find any tags in Quade v. Schwartz, [2008] B.C.J. No. 1032117 %\n",
      "Didnt find any tags in McKee (Guardian ad litem of) v. McCoy, [2001] B.C.J. No. 2675\n",
      "Didnt find any tags in GE Capital Canada Equipment Financing Inc. v. Bank of Montreal, [2003] B.C.J. No. 1791\n",
      "Didnt find any tags in Kerr (Litigation Guardian of) v. Creighton, [2007] B.C.J. No. 309\n",
      "Didnt find any tags in Danielson v. Janze, [2017] B.C.J. No. 492275 %\n",
      "Didnt find any tags in Deline v. Vancouver Talmud Torah Assn., [2020] B.C.J. No. 274\n",
      "Didnt find any tags in Francescutto v. Church, [2014] B.C.J. No. 638%\n",
      "Didnt find any tags in Gill v. Canada (Minister of Transport), [2014] B.C.J. No. 2921\n",
      "Didnt find any tags in Gladwell (Litigation guardian of) v. Busletta, [2018] B.C.J. No. 3570\n",
      "Didnt find any tags in Hoessmann Estate v. Aldergrove Credit Union, [2018] B.C.J. No. 303\n",
      "Didnt find any tags in Hung Fook Canada Ltd. v. Silcorp Ltd. (c.o.b. Mac's Convenience Stores), [2000] B.C.J. No. 404\n",
      "Didnt find any tags in Jones Estate v. Insurance Corp. of British Columbia, [2019] B.C.J. No. 2493\n",
      "Didnt find any tags in Jory v. Pereira, [2019] B.C.J. No. 16438737 %\n",
      "Didnt find any tags in Kerr v. Hall, [2013] B.C.J. No. 281009215016 %\n",
      "Didnt find any tags in Larsen v. Larsen, [2004] B.C.J. No. 39970304 %\n",
      "Didnt find any tags in Malhotra v. Waterfront Homes Ltd., [2015] B.C.J. No. 1297\n",
      "Didnt find any tags in Parchment v. British Columbia, [2015] B.C.J. No. 1236\n",
      "Didnt find any tags in Robson v. Chrysler Canada Ltd., [2001] B.C.J. No. 23\n",
      "Didnt find any tags in Royal Bank of Canada v. United Used Auto & Truck Parts Ltd., [2006] B.C.J. No. 1778\n",
      "Didnt find any tags in Stanway v. Wyeth Canada Inc., [2013] B.C.J. No. 411\n",
      "Didnt find any tags in Stewart v. Canada (Attorney General), [2010] B.C.J. No. 2410\n",
      "Didnt find any tags in Strata Plan LMS 2940 v. Quick as a Wink Courier Service Ltd., [2007] B.C.J. No. 1448\n",
      "Didnt find any tags in Strata Plan VR 10 v. EE Management Corp., [2015] B.C.J. No. 590\n",
      "Didnt find any tags in Wakelam v. Johnson & Johnson, [2011] B.C.J. No. 2477\n",
      "Didnt find any tags in West Van Holdings Ltd. v. Economical Mutual Insurance Co., [2017] B.C.J. No. 2670\n",
      "Didnt find any tags in Allen v. Girard, [2002] B.C.J. No. 21486792 %\n",
      "Didnt find any tags in Drage v. Page, [2002] B.C.J. No. 1848242321 %\n",
      "Didnt find any tags in Kahlon (Litigation guardian of) v. Vancouver Coastal Health Authority, 2009 CHFL para. 15,560\n",
      "Didnt find any tags in Kristiansen v. Grewal, [2014] B.C.J. No. 641\n",
      "Didnt find any tags in Low v. Albas, 2013 BREG para. 50,73017406135 %\n",
      "Didnt find any tags in Morris v. Moddejonge, [2004] B.C.J. No. 1786 %\n",
      "Didnt find any tags in Parragh v. Eagle Ridge Hospital and Health Care Centre, [2008] B.C.J. No. 1836\n",
      "Didnt find any tags in Roberts & Baker v. Kemp, [2005] B.C.J. No. 1928\n",
      "Didnt find any tags in Achtymichuk v. Bayer Inc., [2018] B.C.J. No. 879\n",
      "Didnt find any tags in Axa Pacific Insurance Company Ltd. v. Guildford Marquis Towers Ltd., [2000] I.L.R. para. I-3801\n",
      "Didnt find any tags in Bingo City Games Inc. v. British Columbia Lottery Corp., [2003] B.C.J. No. 985\n",
      "Didnt find any tags in Bittante v. Zichy, [2008] I.L.R. para. M-2244\n",
      "Didnt find any tags in Bohmer v. White, [2009] B.C.J. No. 93533788 %\n",
      "Didnt find any tags in F.W. Hearns/Actes - A Joint Venture v. University of British Columbia, [2000] B.C.J. No. 1238\n",
      "Didnt find any tags in Harris v. Sweet, [2005] B.C.J. No. 15209317 %\n",
      "Didnt find any tags in Horvath v. Thring, [2000] B.C.J. No. 131082 %\n",
      "Didnt find any tags in Keen v. Surrey (City), [2004] B.C.J. No. 2161%\n",
      "Didnt find any tags in Manavi v. Cascadia Apartment Rentals Ltd., [2017] B.C.J. No. 218\n",
      "Didnt find any tags in Ogden v. Gulf Log Salvage Co-operative Assn., [2005] B.C.J. No. 61\n",
      "Didnt find any tags in Petersen v. Stadnyk, [2003] B.C.J. No. 3173 %\n",
      "Didnt find any tags in Sharbern Holding Inc. v. Vancouver Airport Centre Ltd., [2005] B.C.J. No. 347\n",
      "Didnt find any tags in Skytrac Systems Ltd. v. Mares, [2009] B.C.J. No. 1641\n",
      "Didnt find any tags in Strata Plan BCS 1589 v. Nacht, [2018] B.C.J. No. 517\n",
      "Didnt find any tags in Thorburn v. British Columbia (Ministry of Public Safety and Solicitor General), [2012] B.C.J. No. 2216\n",
      "Didnt find any tags in Clare v. I.J. Manufacturing and three other actions, 2003 BREG para. 50,351\n",
      "Didnt find any tags in Coglon v. Ergas, [2009] B.C.J. No. 24274607 %\n",
      "Didnt find any tags in Commisso v. Teck Coal Ltd., [2018] B.C.J. No. 6970\n",
      "Didnt find any tags in Crawford v. Nazif, [2019] B.C.J. No. 259836 %\n",
      "Didnt find any tags in Cupo v. Brady, [2013] B.C.J. No. 2086385666 %\n",
      "Didnt find any tags in Davis v. Royal Bank of Canada, [2016] B.C.J. No. 2262\n",
      "Didnt find any tags in Deo v. Vancouver School No. 39, [2014] B.C.J. No. 3083\n",
      "Didnt find any tags in Foote v. Hallen, [2014] B.C.J. No. 57816724 %\n",
      "Didnt find any tags in Gaida Estate v. McLeod, [2013] B.C.J. No. 1423\n",
      "Didnt find any tags in human v. Insurance Corp. of British Columbia, [2019] B.C.J. No. 1547\n",
      "Didnt find any tags in Gichuru v. Purewal, [2019] B.C.J. No. 82918 %\n",
      "Didnt find any tags in Glenn v. Seair Seaplanes Ltd., [2012] B.C.J. No. 2428\n",
      "Didnt find any tags in Halliday v. Teasdale, [2019] B.C.J. No. 1414%\n",
      "Didnt find any tags in Haror v. Rana, [2018] B.C.J. No. 3553713311 %\n",
      "Didnt find any tags in Hixon-Gause v. Roberts, [2003] I.L.R. para. M-1673\n",
      "Didnt find any tags in Holland (Guardian ad litem of) v. Marshall, [2008] B.C.J. No. 2827\n",
      "Didnt find any tags in Horvath v. Thring, [2004] I.L.R. para. M-1713\n",
      "Didnt find any tags in Ho v. Ip, [2019] B.C.J. No. 250383959044369 %\n",
      "Didnt find any tags in I.A.L. (Litigation guardian of) v. Y.C., [2019] B.C.J. No. 1739\n",
      "Didnt find any tags in Insurance Corp. of British Columbia v. Suska, [2009] B.C.J. No. 2474\n",
      "Didnt find any tags in Irving v. Canada (Royal Canadian Mounted Police), [2000] B.C.J. No. 424\n",
      "Didnt find any tags in Jackson v. Backus, [2002] I.L.R. para. G-1496\n",
      "Didnt find any tags in Jennings v. Insurance Corporation of British Columbia, [2002] I.L.R. para. M-1562\n",
      "Didnt find any tags in Jiang v. Grand East Supermarket Inc., [2005] B.C.J. No. 2787\n",
      "Didnt find any tags in John Doe 1 v. University of British Columbia, [2019] B.C.J. No. 808\n",
      "Didnt find any tags in Joy v. Atkinson, [2008] B.C.J. No. 11276484 %\n",
      "Didnt find any tags in J.R.T. Nurseries Inc. v. 0843374 B.C. Ltd., [2016] B.C.J. No. 578\n",
      "Didnt find any tags in Lansdowne v. United Church of Canada, [2001] I.L.R. para. G-1403\n",
      "Didnt find any tags in Lapointe v. John Doe, [2016] B.C.J. No. 223 %\n",
      "Didnt find any tags in Laurier Charters Ltd. v. Eggleton, [2020] B.C.J. No. 342\n",
      "Didnt find any tags in Holt v. Rother, [2013] B.C.J. No. 128603072 %\n",
      "Didnt find any tags in Lindgren (Litigation guardian of) v. Parks Canada Agency, [2018] B.C.J. No. 120\n",
      "Didnt find any tags in Benek v. Pugash, [2004] B.C.J. No. 1931413 %%\n",
      "Didnt find any tags in Healey v. Royal Bank of Canada, [2003] B.C.J. No. 474\n",
      "Didnt find any tags in Insurance Corp. of British Columbia v. Scheelar, [2003] B.C.J. No. 1406\n",
      "Didnt find any tags in Mohebbi v. Canada (Royal Canadian Mounted Police) (North Vancouver), [2015] B.C.J. No. 2475\n",
      "Didnt find any tags in Strata Plan LMS 1564 v. Odyssey Tower Properties Ltd., [2009] B.C.J. No. 1511\n",
      "Didnt find any tags in Brewer v. Sarju, [2008] B.C.J. No. 21821775 %\n",
      "Didnt find any tags in Capilano Fishing Ltd. v. Qualicum Producer (The), [2000] B.C.J. No. 72\n",
      "Didnt find any tags in Intrawest Corp. v. Hart, [2002] B.C.J. No. 2816\n",
      "Didnt find any tags in Gengenbacher v. Smith, [2016] B.C.J. No. 1337\n",
      "Didnt find any tags in Littler v. Underdown, [2000] B.C.J. No. 1367%\n",
      "Didnt find any tags in Wilson v. Potter, [2005] B.C.J. No. 12803 %\n",
      "Didnt find any tags in Hixon (Guardian ad litem of) v. Roberts, [2003] B.C.J. No. 1328\n",
      "Didnt find any tags in Sarai v. Caharel, [2013] B.C.J. No. 2299652 %\n",
      "Didnt find any tags in Seeliger v. Eagle Ridge Hospital, [2006] B.C.J. No. 2189\n",
      "Didnt find any tags in Siegerist (Litigation guardian of) v. Tilton, [2020] B.C.J. No. 594\n",
      "Didnt find any tags in Douez v. Facebook, Inc., [2014] B.C.J. No. 1051\n",
      "Didnt find any tags in Hamilton v. Callaway, [2014] B.C.J. No. 174 %\n",
      "Didnt find any tags in MacMillan, Tucker & Mackay v. Cook, [2009] B.C.J. No. 991\n",
      "Didnt find any tags in Martin v. Lavigne, [2010] B.C.J. No. 162032 %\n",
      "Didnt find any tags in Moore v. College of Physicians and Surgeons of British Columbia, [2013] B.C.J. No. 2504\n",
      "Didnt find any tags in Nolting Estate v. Interior Health Authority (c.o.b. Vernon Jubilee Hospital), [2016] B.C.J. No. 1601\n",
      "Didnt find any tags in Ontario (Pension Board) v. Ball, [2010] B.C.J. No. 1792\n",
      "Didnt find any tags in R. v. Siemens, [2000] B.C.J. No. 230650512 %%\n",
      "Didnt find any tags in Aulakh v. Nahal, [2018] B.C.J. No. 80436177 %\n",
      "Didnt find any tags in Bakker v. Nahanee, [2012] B.C.J. No. 114742 %\n",
      "Didnt find any tags in Faust v. See, [2018] B.C.J. No. 12877167235 %\n",
      "\n",
      "Vectorizing...\n",
      "Tag Distribution\n",
      "Counter({'other': 2980, 'non pecuniary': 343, 'special': 256, 'future care': 241, 'future wage loss': 237, 'past wage loss': 231, 'total': 203, 'sub-special': 153, 'general': 87, 'sub-future care': 78, 'punitive': 39, 'in trust': 38, 'sub-future wage loss': 37, 'sub-past wage loss': 37, 'reduction to': 26, 'total after': 25, 'sub-general': 23, 'sub-non pecuniary': 21, 'aggravated': 21, 'reduction by': 16, 'sub-total': 15, 'sub-in trust': 14, 'sub-reduction': 2})\n"
     ]
    },
    {
     "name": "stderr",
     "output_type": "stream",
     "text": [
      "/home/ilana/anaconda3/lib/python3.7/site-packages/sklearn/model_selection/_split.py:667: UserWarning: The least populated class in y has only 2 members, which is less than n_splits=10.\n",
      "  % (min_groups, self.n_splits)), UserWarning)\n",
      "/home/ilana/anaconda3/lib/python3.7/site-packages/sklearn/model_selection/_split.py:667: UserWarning: The least populated class in y has only 2 members, which is less than n_splits=10.\n",
      "  % (min_groups, self.n_splits)), UserWarning)\n"
     ]
    },
    {
     "name": "stdout",
     "output_type": "stream",
     "text": [
      "Cross validation evaluation...\n",
      "                      precision    recall  f1-score   support\n",
      "\n",
      "          aggravated       1.00      0.62      0.76        21\n",
      "         future care       0.74      0.74      0.74       241\n",
      "    future wage loss       0.71      0.70      0.70       237\n",
      "             general       0.73      0.52      0.60        87\n",
      "            in trust       0.62      0.34      0.44        38\n",
      "       non pecuniary       0.78      0.85      0.81       343\n",
      "               other       0.87      0.95      0.91      2980\n",
      "      past wage loss       0.69      0.72      0.71       231\n",
      "            punitive       0.85      0.90      0.88        39\n",
      "        reduction by       1.00      0.44      0.61        16\n",
      "        reduction to       0.75      0.35      0.47        26\n",
      "             special       0.71      0.80      0.75       256\n",
      "     sub-future care       0.50      0.12      0.19        78\n",
      "sub-future wage loss       0.50      0.22      0.30        37\n",
      "         sub-general       0.33      0.09      0.14        23\n",
      "        sub-in trust       0.86      0.43      0.57        14\n",
      "   sub-non pecuniary       0.80      0.38      0.52        21\n",
      "  sub-past wage loss       0.10      0.03      0.04        37\n",
      "       sub-reduction       0.00      0.00      0.00         2\n",
      "         sub-special       0.47      0.20      0.28       153\n",
      "           sub-total       0.86      0.40      0.55        15\n",
      "               total       0.66      0.64      0.65       203\n",
      "         total after       0.71      0.20      0.31        25\n",
      "\n",
      "            accuracy                           0.81      5123\n",
      "           macro avg       0.66      0.46      0.52      5123\n",
      "        weighted avg       0.79      0.81      0.79      5123\n",
      "\n",
      "Training final model...\n"
     ]
    }
   ],
   "source": [
    "model, vectorizer, annotated_damages = key_functions.train_classifier('../../data/annotations/final_annotations.txt', LogisticRegression(C = 1, penalty='l2', solver = 'newton-cg', max_iter = 1000, random_state=42), fit_model=True)\n"
   ]
  },
  {
   "cell_type": "code",
   "execution_count": 3,
   "metadata": {
    "collapsed": true,
    "jupyter": {
     "outputs_hidden": true
    }
   },
   "outputs": [
    {
     "name": "stdout",
     "output_type": "stream",
     "text": [
      "Didnt find any tags in Mawani v. Pitcairn, [2012] B.C.J. No. 1819\n",
      "Didnt find any tags in Aiken (Guardian ad litem of) v. Van Dyk, [2001] B.C.J. No. 1751\n",
      "Didnt find any tags in Millard v. Singleton, [2015] B.C.J. No. 1234 %\n",
      "Didnt find any tags in Cowie v. Draper, [2010] B.C.J. No. 910935154 %\n",
      "Didnt find any tags in Bajwa v. Deol, [2018] I.L.R. para. G-2792606 %\n",
      "Didnt find any tags in Jackson v. Fisheries and Oceans Canada, [2006] B.C.J. No. 2654\n",
      "Didnt find any tags in Los Angeles Salad Co. v. Canadian Food Inspection Agency, [2009] B.C.J. No. 161\n",
      "Didnt find any tags in Brooks-Martin v. Martin, [2011] B.C.J. No. 243\n",
      "Didnt find any tags in Gibson v. Matthies, [2017] B.C.J. No. 96556 %\n",
      "Didnt find any tags in Gray v. Ellis, [2007] I.L.R. para. M-211801 %\n",
      "Didnt find any tags in Morrow v. Outerbridge, 2009 CHFL para. 15,554\n",
      "Didnt find any tags in Rackstraw (Litigation guardian of) v. Robertson, [2011] B.C.J. No. 1354\n",
      "Didnt find any tags in Ahlwat v. Green, [2014] B.C.J. No. 245267576 %\n",
      "Didnt find any tags in Quade v. Schwartz, [2008] B.C.J. No. 1032117 %\n",
      "Didnt find any tags in McKee (Guardian ad litem of) v. McCoy, [2001] B.C.J. No. 2675\n",
      "Didnt find any tags in GE Capital Canada Equipment Financing Inc. v. Bank of Montreal, [2003] B.C.J. No. 1791\n",
      "Didnt find any tags in Kerr (Litigation Guardian of) v. Creighton, [2007] B.C.J. No. 309\n",
      "Didnt find any tags in Danielson v. Janze, [2017] B.C.J. No. 492275 %\n",
      "Didnt find any tags in Deline v. Vancouver Talmud Torah Assn., [2020] B.C.J. No. 274\n",
      "Didnt find any tags in Francescutto v. Church, [2014] B.C.J. No. 638%\n",
      "Didnt find any tags in Gill v. Canada (Minister of Transport), [2014] B.C.J. No. 2921\n",
      "Didnt find any tags in Gladwell (Litigation guardian of) v. Busletta, [2018] B.C.J. No. 3570\n",
      "Didnt find any tags in Hoessmann Estate v. Aldergrove Credit Union, [2018] B.C.J. No. 303\n",
      "Didnt find any tags in Hung Fook Canada Ltd. v. Silcorp Ltd. (c.o.b. Mac's Convenience Stores), [2000] B.C.J. No. 404\n",
      "Didnt find any tags in Jones Estate v. Insurance Corp. of British Columbia, [2019] B.C.J. No. 2493\n",
      "Didnt find any tags in Jory v. Pereira, [2019] B.C.J. No. 16438737 %\n",
      "Didnt find any tags in Kerr v. Hall, [2013] B.C.J. No. 281009215016 %\n",
      "Didnt find any tags in Larsen v. Larsen, [2004] B.C.J. No. 39970304 %\n",
      "Didnt find any tags in Malhotra v. Waterfront Homes Ltd., [2015] B.C.J. No. 1297\n",
      "Didnt find any tags in Parchment v. British Columbia, [2015] B.C.J. No. 1236\n",
      "Didnt find any tags in Robson v. Chrysler Canada Ltd., [2001] B.C.J. No. 23\n",
      "Didnt find any tags in Royal Bank of Canada v. United Used Auto & Truck Parts Ltd., [2006] B.C.J. No. 1778\n",
      "Didnt find any tags in Stanway v. Wyeth Canada Inc., [2013] B.C.J. No. 411\n",
      "Didnt find any tags in Stewart v. Canada (Attorney General), [2010] B.C.J. No. 2410\n",
      "Didnt find any tags in Strata Plan LMS 2940 v. Quick as a Wink Courier Service Ltd., [2007] B.C.J. No. 1448\n",
      "Didnt find any tags in Strata Plan VR 10 v. EE Management Corp., [2015] B.C.J. No. 590\n",
      "Didnt find any tags in Wakelam v. Johnson & Johnson, [2011] B.C.J. No. 2477\n",
      "Didnt find any tags in West Van Holdings Ltd. v. Economical Mutual Insurance Co., [2017] B.C.J. No. 2670\n",
      "Didnt find any tags in Allen v. Girard, [2002] B.C.J. No. 21486792 %\n",
      "Didnt find any tags in Drage v. Page, [2002] B.C.J. No. 1848242321 %\n",
      "Didnt find any tags in Kahlon (Litigation guardian of) v. Vancouver Coastal Health Authority, 2009 CHFL para. 15,560\n",
      "Didnt find any tags in Kristiansen v. Grewal, [2014] B.C.J. No. 641\n",
      "Didnt find any tags in Low v. Albas, 2013 BREG para. 50,73017406135 %\n",
      "Didnt find any tags in Morris v. Moddejonge, [2004] B.C.J. No. 1786 %\n",
      "Didnt find any tags in Parragh v. Eagle Ridge Hospital and Health Care Centre, [2008] B.C.J. No. 1836\n",
      "Didnt find any tags in Roberts & Baker v. Kemp, [2005] B.C.J. No. 1928\n",
      "Didnt find any tags in Achtymichuk v. Bayer Inc., [2018] B.C.J. No. 879\n",
      "Didnt find any tags in Axa Pacific Insurance Company Ltd. v. Guildford Marquis Towers Ltd., [2000] I.L.R. para. I-3801\n",
      "Didnt find any tags in Bingo City Games Inc. v. British Columbia Lottery Corp., [2003] B.C.J. No. 985\n",
      "Didnt find any tags in Bittante v. Zichy, [2008] I.L.R. para. M-2244\n",
      "Didnt find any tags in Bohmer v. White, [2009] B.C.J. No. 93533788 %\n",
      "Didnt find any tags in F.W. Hearns/Actes - A Joint Venture v. University of British Columbia, [2000] B.C.J. No. 1238\n",
      "Didnt find any tags in Harris v. Sweet, [2005] B.C.J. No. 15209317 %\n",
      "Didnt find any tags in Horvath v. Thring, [2000] B.C.J. No. 131082 %\n",
      "Didnt find any tags in Keen v. Surrey (City), [2004] B.C.J. No. 2161%\n",
      "Didnt find any tags in Manavi v. Cascadia Apartment Rentals Ltd., [2017] B.C.J. No. 218\n",
      "Didnt find any tags in Ogden v. Gulf Log Salvage Co-operative Assn., [2005] B.C.J. No. 61\n",
      "Didnt find any tags in Petersen v. Stadnyk, [2003] B.C.J. No. 3173 %\n",
      "Didnt find any tags in Sharbern Holding Inc. v. Vancouver Airport Centre Ltd., [2005] B.C.J. No. 347\n",
      "Didnt find any tags in Skytrac Systems Ltd. v. Mares, [2009] B.C.J. No. 1641\n",
      "Didnt find any tags in Strata Plan BCS 1589 v. Nacht, [2018] B.C.J. No. 517\n",
      "Didnt find any tags in Thorburn v. British Columbia (Ministry of Public Safety and Solicitor General), [2012] B.C.J. No. 2216\n",
      "Didnt find any tags in Clare v. I.J. Manufacturing and three other actions, 2003 BREG para. 50,351\n",
      "Didnt find any tags in Coglon v. Ergas, [2009] B.C.J. No. 24274607 %\n",
      "Didnt find any tags in Commisso v. Teck Coal Ltd., [2018] B.C.J. No. 6970\n",
      "Didnt find any tags in Crawford v. Nazif, [2019] B.C.J. No. 259836 %\n",
      "Didnt find any tags in Cupo v. Brady, [2013] B.C.J. No. 2086385666 %\n",
      "Didnt find any tags in Davis v. Royal Bank of Canada, [2016] B.C.J. No. 2262\n",
      "Didnt find any tags in Deo v. Vancouver School No. 39, [2014] B.C.J. No. 3083\n",
      "Didnt find any tags in Foote v. Hallen, [2014] B.C.J. No. 57816724 %\n",
      "Didnt find any tags in Gaida Estate v. McLeod, [2013] B.C.J. No. 1423\n",
      "Didnt find any tags in human v. Insurance Corp. of British Columbia, [2019] B.C.J. No. 1547\n",
      "Didnt find any tags in Gichuru v. Purewal, [2019] B.C.J. No. 82918 %\n",
      "Didnt find any tags in Glenn v. Seair Seaplanes Ltd., [2012] B.C.J. No. 2428\n",
      "Didnt find any tags in Halliday v. Teasdale, [2019] B.C.J. No. 1414%\n",
      "Didnt find any tags in Haror v. Rana, [2018] B.C.J. No. 3553713311 %\n",
      "Didnt find any tags in Hixon-Gause v. Roberts, [2003] I.L.R. para. M-1673\n",
      "Didnt find any tags in Holland (Guardian ad litem of) v. Marshall, [2008] B.C.J. No. 2827\n",
      "Didnt find any tags in Horvath v. Thring, [2004] I.L.R. para. M-1713\n",
      "Didnt find any tags in Ho v. Ip, [2019] B.C.J. No. 250383959044369 %\n",
      "Didnt find any tags in I.A.L. (Litigation guardian of) v. Y.C., [2019] B.C.J. No. 1739\n",
      "Didnt find any tags in Insurance Corp. of British Columbia v. Suska, [2009] B.C.J. No. 2474\n",
      "Didnt find any tags in Irving v. Canada (Royal Canadian Mounted Police), [2000] B.C.J. No. 424\n",
      "Didnt find any tags in Jackson v. Backus, [2002] I.L.R. para. G-1496\n",
      "Didnt find any tags in Jennings v. Insurance Corporation of British Columbia, [2002] I.L.R. para. M-1562\n",
      "Didnt find any tags in Jiang v. Grand East Supermarket Inc., [2005] B.C.J. No. 2787\n",
      "Didnt find any tags in John Doe 1 v. University of British Columbia, [2019] B.C.J. No. 808\n",
      "Didnt find any tags in Joy v. Atkinson, [2008] B.C.J. No. 11276484 %\n",
      "Didnt find any tags in J.R.T. Nurseries Inc. v. 0843374 B.C. Ltd., [2016] B.C.J. No. 578\n",
      "Didnt find any tags in Lansdowne v. United Church of Canada, [2001] I.L.R. para. G-1403\n",
      "Didnt find any tags in Lapointe v. John Doe, [2016] B.C.J. No. 223 %\n",
      "Didnt find any tags in Laurier Charters Ltd. v. Eggleton, [2020] B.C.J. No. 342\n",
      "Didnt find any tags in Holt v. Rother, [2013] B.C.J. No. 128603072 %\n",
      "Didnt find any tags in Lindgren (Litigation guardian of) v. Parks Canada Agency, [2018] B.C.J. No. 120\n",
      "Didnt find any tags in Benek v. Pugash, [2004] B.C.J. No. 1931413 %%\n",
      "Didnt find any tags in Healey v. Royal Bank of Canada, [2003] B.C.J. No. 474\n",
      "Didnt find any tags in Insurance Corp. of British Columbia v. Scheelar, [2003] B.C.J. No. 1406\n",
      "Didnt find any tags in Mohebbi v. Canada (Royal Canadian Mounted Police) (North Vancouver), [2015] B.C.J. No. 2475\n",
      "Didnt find any tags in Strata Plan LMS 1564 v. Odyssey Tower Properties Ltd., [2009] B.C.J. No. 1511\n",
      "Didnt find any tags in Brewer v. Sarju, [2008] B.C.J. No. 21821775 %\n",
      "Didnt find any tags in Capilano Fishing Ltd. v. Qualicum Producer (The), [2000] B.C.J. No. 72\n",
      "Didnt find any tags in Intrawest Corp. v. Hart, [2002] B.C.J. No. 2816\n",
      "Didnt find any tags in Gengenbacher v. Smith, [2016] B.C.J. No. 1337\n",
      "Didnt find any tags in Littler v. Underdown, [2000] B.C.J. No. 1367%\n",
      "Didnt find any tags in Wilson v. Potter, [2005] B.C.J. No. 12803 %\n",
      "Didnt find any tags in Hixon (Guardian ad litem of) v. Roberts, [2003] B.C.J. No. 1328\n",
      "Didnt find any tags in Sarai v. Caharel, [2013] B.C.J. No. 2299652 %\n",
      "Didnt find any tags in Seeliger v. Eagle Ridge Hospital, [2006] B.C.J. No. 2189\n",
      "Didnt find any tags in Siegerist (Litigation guardian of) v. Tilton, [2020] B.C.J. No. 594\n",
      "Didnt find any tags in Douez v. Facebook, Inc., [2014] B.C.J. No. 1051\n",
      "Didnt find any tags in Hamilton v. Callaway, [2014] B.C.J. No. 174 %\n",
      "Didnt find any tags in MacMillan, Tucker & Mackay v. Cook, [2009] B.C.J. No. 991\n",
      "Didnt find any tags in Martin v. Lavigne, [2010] B.C.J. No. 162032 %\n",
      "Didnt find any tags in Moore v. College of Physicians and Surgeons of British Columbia, [2013] B.C.J. No. 2504\n",
      "Didnt find any tags in Nolting Estate v. Interior Health Authority (c.o.b. Vernon Jubilee Hospital), [2016] B.C.J. No. 1601\n",
      "Didnt find any tags in Ontario (Pension Board) v. Ball, [2010] B.C.J. No. 1792\n",
      "Didnt find any tags in R. v. Siemens, [2000] B.C.J. No. 230650512 %%\n",
      "Didnt find any tags in Aulakh v. Nahal, [2018] B.C.J. No. 80436177 %\n",
      "Didnt find any tags in Bakker v. Nahanee, [2012] B.C.J. No. 114742 %\n",
      "Didnt find any tags in Faust v. See, [2018] B.C.J. No. 12877167235 %\n",
      "\n",
      "Vectorizing...\n",
      "Tag Distribution\n",
      "Counter({'other': 2980, 'non pecuniary': 343, 'special': 256, 'future care': 241, 'future wage loss': 237, 'past wage loss': 231, 'total': 203, 'sub-special': 153, 'general': 87, 'sub-future care': 78, 'punitive': 39, 'in trust': 38, 'sub-future wage loss': 37, 'sub-past wage loss': 37, 'reduction to': 26, 'total after': 25, 'sub-general': 23, 'sub-non pecuniary': 21, 'aggravated': 21, 'reduction by': 16, 'sub-total': 15, 'sub-in trust': 14, 'sub-reduction': 2})\n"
     ]
    },
    {
     "name": "stderr",
     "output_type": "stream",
     "text": [
      "/home/ilana/anaconda3/lib/python3.7/site-packages/sklearn/model_selection/_split.py:667: UserWarning: The least populated class in y has only 2 members, which is less than n_splits=10.\n",
      "  % (min_groups, self.n_splits)), UserWarning)\n",
      "/home/ilana/anaconda3/lib/python3.7/site-packages/sklearn/model_selection/_split.py:667: UserWarning: The least populated class in y has only 2 members, which is less than n_splits=10.\n",
      "  % (min_groups, self.n_splits)), UserWarning)\n"
     ]
    },
    {
     "name": "stdout",
     "output_type": "stream",
     "text": [
      "Cross validation evaluation...\n",
      "                      precision    recall  f1-score   support\n",
      "\n",
      "          aggravated       1.00      0.62      0.76        21\n",
      "         future care       0.74      0.77      0.75       241\n",
      "    future wage loss       0.72      0.71      0.71       237\n",
      "             general       0.73      0.52      0.60        87\n",
      "            in trust       0.62      0.34      0.44        38\n",
      "       non pecuniary       0.79      0.85      0.82       343\n",
      "               other       0.87      0.94      0.90      2980\n",
      "      past wage loss       0.71      0.74      0.72       231\n",
      "            punitive       0.83      0.90      0.86        39\n",
      "        reduction by       0.88      0.44      0.58        16\n",
      "        reduction to       0.75      0.35      0.47        26\n",
      "             special       0.73      0.79      0.76       256\n",
      "     sub-future care       0.53      0.12      0.19        78\n",
      "sub-future wage loss       0.47      0.19      0.27        37\n",
      "         sub-general       0.33      0.09      0.14        23\n",
      "        sub-in trust       0.86      0.43      0.57        14\n",
      "   sub-non pecuniary       0.80      0.38      0.52        21\n",
      "  sub-past wage loss       0.08      0.03      0.04        37\n",
      "       sub-reduction       0.00      0.00      0.00         2\n",
      "         sub-special       0.47      0.21      0.29       153\n",
      "           sub-total       0.86      0.40      0.55        15\n",
      "               total       0.67      0.65      0.66       203\n",
      "         total after       0.78      0.28      0.41        25\n",
      "\n",
      "            accuracy                           0.81      5123\n",
      "           macro avg       0.66      0.47      0.52      5123\n",
      "        weighted avg       0.79      0.81      0.79      5123\n",
      "\n",
      "Training final model...\n"
     ]
    }
   ],
   "source": [
    "model, vectorizer, annotated_damages = key_functions.train_classifier('../../data/annotations/final_annotations.txt', LogisticRegression(C = 1, penalty='l2', solver = 'newton-cg', max_iter = 1000, random_state=42), fit_model=True, context_length = 6)\n"
   ]
  },
  {
   "cell_type": "markdown",
   "metadata": {},
   "source": [
    "### Remove Next AND Prev Birgram"
   ]
  },
  {
   "cell_type": "code",
   "execution_count": 2,
   "metadata": {
    "collapsed": true,
    "jupyter": {
     "outputs_hidden": true
    }
   },
   "outputs": [
    {
     "name": "stdout",
     "output_type": "stream",
     "text": [
      "Didnt find any tags in Mawani v. Pitcairn, [2012] B.C.J. No. 1819\n",
      "Didnt find any tags in Aiken (Guardian ad litem of) v. Van Dyk, [2001] B.C.J. No. 1751\n",
      "Didnt find any tags in Millard v. Singleton, [2015] B.C.J. No. 1234 %\n",
      "Didnt find any tags in Cowie v. Draper, [2010] B.C.J. No. 910935154 %\n",
      "Didnt find any tags in Bajwa v. Deol, [2018] I.L.R. para. G-2792606 %\n",
      "Didnt find any tags in Jackson v. Fisheries and Oceans Canada, [2006] B.C.J. No. 2654\n",
      "Didnt find any tags in Los Angeles Salad Co. v. Canadian Food Inspection Agency, [2009] B.C.J. No. 161\n",
      "Didnt find any tags in Brooks-Martin v. Martin, [2011] B.C.J. No. 243\n",
      "Didnt find any tags in Gibson v. Matthies, [2017] B.C.J. No. 96556 %\n",
      "Didnt find any tags in Gray v. Ellis, [2007] I.L.R. para. M-211801 %\n",
      "Didnt find any tags in Morrow v. Outerbridge, 2009 CHFL para. 15,554\n",
      "Didnt find any tags in Rackstraw (Litigation guardian of) v. Robertson, [2011] B.C.J. No. 1354\n",
      "Didnt find any tags in Ahlwat v. Green, [2014] B.C.J. No. 245267576 %\n",
      "Didnt find any tags in Quade v. Schwartz, [2008] B.C.J. No. 1032117 %\n",
      "Didnt find any tags in McKee (Guardian ad litem of) v. McCoy, [2001] B.C.J. No. 2675\n",
      "Didnt find any tags in GE Capital Canada Equipment Financing Inc. v. Bank of Montreal, [2003] B.C.J. No. 1791\n",
      "Didnt find any tags in Kerr (Litigation Guardian of) v. Creighton, [2007] B.C.J. No. 309\n",
      "Didnt find any tags in Danielson v. Janze, [2017] B.C.J. No. 492275 %\n",
      "Didnt find any tags in Deline v. Vancouver Talmud Torah Assn., [2020] B.C.J. No. 274\n",
      "Didnt find any tags in Francescutto v. Church, [2014] B.C.J. No. 638%\n",
      "Didnt find any tags in Gill v. Canada (Minister of Transport), [2014] B.C.J. No. 2921\n",
      "Didnt find any tags in Gladwell (Litigation guardian of) v. Busletta, [2018] B.C.J. No. 3570\n",
      "Didnt find any tags in Hoessmann Estate v. Aldergrove Credit Union, [2018] B.C.J. No. 303\n",
      "Didnt find any tags in Hung Fook Canada Ltd. v. Silcorp Ltd. (c.o.b. Mac's Convenience Stores), [2000] B.C.J. No. 404\n",
      "Didnt find any tags in Jones Estate v. Insurance Corp. of British Columbia, [2019] B.C.J. No. 2493\n",
      "Didnt find any tags in Jory v. Pereira, [2019] B.C.J. No. 16438737 %\n",
      "Didnt find any tags in Kerr v. Hall, [2013] B.C.J. No. 281009215016 %\n",
      "Didnt find any tags in Larsen v. Larsen, [2004] B.C.J. No. 39970304 %\n",
      "Didnt find any tags in Malhotra v. Waterfront Homes Ltd., [2015] B.C.J. No. 1297\n",
      "Didnt find any tags in Parchment v. British Columbia, [2015] B.C.J. No. 1236\n",
      "Didnt find any tags in Robson v. Chrysler Canada Ltd., [2001] B.C.J. No. 23\n",
      "Didnt find any tags in Royal Bank of Canada v. United Used Auto & Truck Parts Ltd., [2006] B.C.J. No. 1778\n",
      "Didnt find any tags in Stanway v. Wyeth Canada Inc., [2013] B.C.J. No. 411\n",
      "Didnt find any tags in Stewart v. Canada (Attorney General), [2010] B.C.J. No. 2410\n",
      "Didnt find any tags in Strata Plan LMS 2940 v. Quick as a Wink Courier Service Ltd., [2007] B.C.J. No. 1448\n",
      "Didnt find any tags in Strata Plan VR 10 v. EE Management Corp., [2015] B.C.J. No. 590\n",
      "Didnt find any tags in Wakelam v. Johnson & Johnson, [2011] B.C.J. No. 2477\n",
      "Didnt find any tags in West Van Holdings Ltd. v. Economical Mutual Insurance Co., [2017] B.C.J. No. 2670\n",
      "Didnt find any tags in Allen v. Girard, [2002] B.C.J. No. 21486792 %\n",
      "Didnt find any tags in Drage v. Page, [2002] B.C.J. No. 1848242321 %\n",
      "Didnt find any tags in Kahlon (Litigation guardian of) v. Vancouver Coastal Health Authority, 2009 CHFL para. 15,560\n",
      "Didnt find any tags in Kristiansen v. Grewal, [2014] B.C.J. No. 641\n",
      "Didnt find any tags in Low v. Albas, 2013 BREG para. 50,73017406135 %\n",
      "Didnt find any tags in Morris v. Moddejonge, [2004] B.C.J. No. 1786 %\n",
      "Didnt find any tags in Parragh v. Eagle Ridge Hospital and Health Care Centre, [2008] B.C.J. No. 1836\n",
      "Didnt find any tags in Roberts & Baker v. Kemp, [2005] B.C.J. No. 1928\n",
      "Didnt find any tags in Achtymichuk v. Bayer Inc., [2018] B.C.J. No. 879\n",
      "Didnt find any tags in Axa Pacific Insurance Company Ltd. v. Guildford Marquis Towers Ltd., [2000] I.L.R. para. I-3801\n",
      "Didnt find any tags in Bingo City Games Inc. v. British Columbia Lottery Corp., [2003] B.C.J. No. 985\n",
      "Didnt find any tags in Bittante v. Zichy, [2008] I.L.R. para. M-2244\n",
      "Didnt find any tags in Bohmer v. White, [2009] B.C.J. No. 93533788 %\n",
      "Didnt find any tags in F.W. Hearns/Actes - A Joint Venture v. University of British Columbia, [2000] B.C.J. No. 1238\n",
      "Didnt find any tags in Harris v. Sweet, [2005] B.C.J. No. 15209317 %\n",
      "Didnt find any tags in Horvath v. Thring, [2000] B.C.J. No. 131082 %\n",
      "Didnt find any tags in Keen v. Surrey (City), [2004] B.C.J. No. 2161%\n",
      "Didnt find any tags in Manavi v. Cascadia Apartment Rentals Ltd., [2017] B.C.J. No. 218\n",
      "Didnt find any tags in Ogden v. Gulf Log Salvage Co-operative Assn., [2005] B.C.J. No. 61\n",
      "Didnt find any tags in Petersen v. Stadnyk, [2003] B.C.J. No. 3173 %\n",
      "Didnt find any tags in Sharbern Holding Inc. v. Vancouver Airport Centre Ltd., [2005] B.C.J. No. 347\n",
      "Didnt find any tags in Skytrac Systems Ltd. v. Mares, [2009] B.C.J. No. 1641\n",
      "Didnt find any tags in Strata Plan BCS 1589 v. Nacht, [2018] B.C.J. No. 517\n",
      "Didnt find any tags in Thorburn v. British Columbia (Ministry of Public Safety and Solicitor General), [2012] B.C.J. No. 2216\n",
      "Didnt find any tags in Clare v. I.J. Manufacturing and three other actions, 2003 BREG para. 50,351\n",
      "Didnt find any tags in Coglon v. Ergas, [2009] B.C.J. No. 24274607 %\n",
      "Didnt find any tags in Commisso v. Teck Coal Ltd., [2018] B.C.J. No. 6970\n",
      "Didnt find any tags in Crawford v. Nazif, [2019] B.C.J. No. 259836 %\n",
      "Didnt find any tags in Cupo v. Brady, [2013] B.C.J. No. 2086385666 %\n",
      "Didnt find any tags in Davis v. Royal Bank of Canada, [2016] B.C.J. No. 2262\n",
      "Didnt find any tags in Deo v. Vancouver School No. 39, [2014] B.C.J. No. 3083\n",
      "Didnt find any tags in Foote v. Hallen, [2014] B.C.J. No. 57816724 %\n",
      "Didnt find any tags in Gaida Estate v. McLeod, [2013] B.C.J. No. 1423\n",
      "Didnt find any tags in human v. Insurance Corp. of British Columbia, [2019] B.C.J. No. 1547\n",
      "Didnt find any tags in Gichuru v. Purewal, [2019] B.C.J. No. 82918 %\n",
      "Didnt find any tags in Glenn v. Seair Seaplanes Ltd., [2012] B.C.J. No. 2428\n",
      "Didnt find any tags in Halliday v. Teasdale, [2019] B.C.J. No. 1414%\n",
      "Didnt find any tags in Haror v. Rana, [2018] B.C.J. No. 3553713311 %\n",
      "Didnt find any tags in Hixon-Gause v. Roberts, [2003] I.L.R. para. M-1673\n",
      "Didnt find any tags in Holland (Guardian ad litem of) v. Marshall, [2008] B.C.J. No. 2827\n",
      "Didnt find any tags in Horvath v. Thring, [2004] I.L.R. para. M-1713\n",
      "Didnt find any tags in Ho v. Ip, [2019] B.C.J. No. 250383959044369 %\n",
      "Didnt find any tags in I.A.L. (Litigation guardian of) v. Y.C., [2019] B.C.J. No. 1739\n",
      "Didnt find any tags in Insurance Corp. of British Columbia v. Suska, [2009] B.C.J. No. 2474\n",
      "Didnt find any tags in Irving v. Canada (Royal Canadian Mounted Police), [2000] B.C.J. No. 424\n",
      "Didnt find any tags in Jackson v. Backus, [2002] I.L.R. para. G-1496\n",
      "Didnt find any tags in Jennings v. Insurance Corporation of British Columbia, [2002] I.L.R. para. M-1562\n",
      "Didnt find any tags in Jiang v. Grand East Supermarket Inc., [2005] B.C.J. No. 2787\n",
      "Didnt find any tags in John Doe 1 v. University of British Columbia, [2019] B.C.J. No. 808\n",
      "Didnt find any tags in Joy v. Atkinson, [2008] B.C.J. No. 11276484 %\n",
      "Didnt find any tags in J.R.T. Nurseries Inc. v. 0843374 B.C. Ltd., [2016] B.C.J. No. 578\n",
      "Didnt find any tags in Lansdowne v. United Church of Canada, [2001] I.L.R. para. G-1403\n",
      "Didnt find any tags in Lapointe v. John Doe, [2016] B.C.J. No. 223 %\n",
      "Didnt find any tags in Laurier Charters Ltd. v. Eggleton, [2020] B.C.J. No. 342\n",
      "Didnt find any tags in Holt v. Rother, [2013] B.C.J. No. 128603072 %\n",
      "Didnt find any tags in Lindgren (Litigation guardian of) v. Parks Canada Agency, [2018] B.C.J. No. 120\n",
      "Didnt find any tags in Benek v. Pugash, [2004] B.C.J. No. 1931413 %%\n",
      "Didnt find any tags in Healey v. Royal Bank of Canada, [2003] B.C.J. No. 474\n",
      "Didnt find any tags in Insurance Corp. of British Columbia v. Scheelar, [2003] B.C.J. No. 1406\n",
      "Didnt find any tags in Mohebbi v. Canada (Royal Canadian Mounted Police) (North Vancouver), [2015] B.C.J. No. 2475\n",
      "Didnt find any tags in Strata Plan LMS 1564 v. Odyssey Tower Properties Ltd., [2009] B.C.J. No. 1511\n",
      "Didnt find any tags in Brewer v. Sarju, [2008] B.C.J. No. 21821775 %\n",
      "Didnt find any tags in Capilano Fishing Ltd. v. Qualicum Producer (The), [2000] B.C.J. No. 72\n",
      "Didnt find any tags in Intrawest Corp. v. Hart, [2002] B.C.J. No. 2816\n",
      "Didnt find any tags in Gengenbacher v. Smith, [2016] B.C.J. No. 1337\n",
      "Didnt find any tags in Littler v. Underdown, [2000] B.C.J. No. 1367%\n",
      "Didnt find any tags in Wilson v. Potter, [2005] B.C.J. No. 12803 %\n",
      "Didnt find any tags in Hixon (Guardian ad litem of) v. Roberts, [2003] B.C.J. No. 1328\n",
      "Didnt find any tags in Sarai v. Caharel, [2013] B.C.J. No. 2299652 %\n",
      "Didnt find any tags in Seeliger v. Eagle Ridge Hospital, [2006] B.C.J. No. 2189\n",
      "Didnt find any tags in Siegerist (Litigation guardian of) v. Tilton, [2020] B.C.J. No. 594\n",
      "Didnt find any tags in Douez v. Facebook, Inc., [2014] B.C.J. No. 1051\n",
      "Didnt find any tags in Hamilton v. Callaway, [2014] B.C.J. No. 174 %\n",
      "Didnt find any tags in MacMillan, Tucker & Mackay v. Cook, [2009] B.C.J. No. 991\n",
      "Didnt find any tags in Martin v. Lavigne, [2010] B.C.J. No. 162032 %\n",
      "Didnt find any tags in Moore v. College of Physicians and Surgeons of British Columbia, [2013] B.C.J. No. 2504\n",
      "Didnt find any tags in Nolting Estate v. Interior Health Authority (c.o.b. Vernon Jubilee Hospital), [2016] B.C.J. No. 1601\n",
      "Didnt find any tags in Ontario (Pension Board) v. Ball, [2010] B.C.J. No. 1792\n",
      "Didnt find any tags in R. v. Siemens, [2000] B.C.J. No. 230650512 %%\n",
      "Didnt find any tags in Aulakh v. Nahal, [2018] B.C.J. No. 80436177 %\n",
      "Didnt find any tags in Bakker v. Nahanee, [2012] B.C.J. No. 114742 %\n",
      "Didnt find any tags in Faust v. See, [2018] B.C.J. No. 12877167235 %\n",
      "\n",
      "Vectorizing...\n",
      "Tag Distribution\n",
      "Counter({'other': 2980, 'non pecuniary': 343, 'special': 256, 'future care': 241, 'future wage loss': 237, 'past wage loss': 231, 'total': 203, 'sub-special': 153, 'general': 87, 'sub-future care': 78, 'punitive': 39, 'in trust': 38, 'sub-future wage loss': 37, 'sub-past wage loss': 37, 'reduction to': 26, 'total after': 25, 'sub-general': 23, 'sub-non pecuniary': 21, 'aggravated': 21, 'reduction by': 16, 'sub-total': 15, 'sub-in trust': 14, 'sub-reduction': 2})\n"
     ]
    },
    {
     "name": "stderr",
     "output_type": "stream",
     "text": [
      "/home/ilana/anaconda3/lib/python3.7/site-packages/sklearn/model_selection/_split.py:667: UserWarning: The least populated class in y has only 2 members, which is less than n_splits=10.\n",
      "  % (min_groups, self.n_splits)), UserWarning)\n",
      "/home/ilana/anaconda3/lib/python3.7/site-packages/sklearn/model_selection/_split.py:667: UserWarning: The least populated class in y has only 2 members, which is less than n_splits=10.\n",
      "  % (min_groups, self.n_splits)), UserWarning)\n"
     ]
    },
    {
     "name": "stdout",
     "output_type": "stream",
     "text": [
      "Cross validation evaluation...\n",
      "                      precision    recall  f1-score   support\n",
      "\n",
      "          aggravated       0.92      0.57      0.71        21\n",
      "         future care       0.74      0.76      0.75       241\n",
      "    future wage loss       0.71      0.70      0.70       237\n",
      "             general       0.70      0.52      0.60        87\n",
      "            in trust       0.62      0.34      0.44        38\n",
      "       non pecuniary       0.77      0.86      0.81       343\n",
      "               other       0.87      0.94      0.90      2980\n",
      "      past wage loss       0.70      0.71      0.71       231\n",
      "            punitive       0.85      0.87      0.86        39\n",
      "        reduction by       1.00      0.44      0.61        16\n",
      "        reduction to       0.75      0.35      0.47        26\n",
      "             special       0.71      0.79      0.75       256\n",
      "     sub-future care       0.47      0.10      0.17        78\n",
      "sub-future wage loss       0.50      0.22      0.30        37\n",
      "         sub-general       0.33      0.09      0.14        23\n",
      "        sub-in trust       0.86      0.43      0.57        14\n",
      "   sub-non pecuniary       0.73      0.38      0.50        21\n",
      "  sub-past wage loss       0.10      0.03      0.04        37\n",
      "       sub-reduction       0.00      0.00      0.00         2\n",
      "         sub-special       0.48      0.20      0.28       153\n",
      "           sub-total       0.86      0.40      0.55        15\n",
      "               total       0.66      0.65      0.66       203\n",
      "         total after       0.71      0.20      0.31        25\n",
      "\n",
      "            accuracy                           0.81      5123\n",
      "           macro avg       0.65      0.46      0.51      5123\n",
      "        weighted avg       0.79      0.81      0.79      5123\n",
      "\n",
      "Training final model...\n"
     ]
    }
   ],
   "source": [
    "model, vectorizer, annotated_damages = key_functions.train_classifier('../../data/annotations/final_annotations.txt', LogisticRegression(C = 1, penalty='l2', solver = 'newton-cg', max_iter = 1000, random_state=42), fit_model=True)\n"
   ]
  },
  {
   "cell_type": "markdown",
   "metadata": {},
   "source": [
    "### Remove Next/Prev Bigrams and Trigrams"
   ]
  },
  {
   "cell_type": "code",
   "execution_count": 2,
   "metadata": {
    "collapsed": true,
    "jupyter": {
     "outputs_hidden": true
    }
   },
   "outputs": [
    {
     "name": "stdout",
     "output_type": "stream",
     "text": [
      "Didnt find any tags in Mawani v. Pitcairn, [2012] B.C.J. No. 1819\n",
      "Didnt find any tags in Aiken (Guardian ad litem of) v. Van Dyk, [2001] B.C.J. No. 1751\n",
      "Didnt find any tags in Millard v. Singleton, [2015] B.C.J. No. 1234 %\n",
      "Didnt find any tags in Cowie v. Draper, [2010] B.C.J. No. 910935154 %\n",
      "Didnt find any tags in Bajwa v. Deol, [2018] I.L.R. para. G-2792606 %\n",
      "Didnt find any tags in Jackson v. Fisheries and Oceans Canada, [2006] B.C.J. No. 2654\n",
      "Didnt find any tags in Los Angeles Salad Co. v. Canadian Food Inspection Agency, [2009] B.C.J. No. 161\n",
      "Didnt find any tags in Brooks-Martin v. Martin, [2011] B.C.J. No. 243\n",
      "Didnt find any tags in Gibson v. Matthies, [2017] B.C.J. No. 96556 %\n",
      "Didnt find any tags in Gray v. Ellis, [2007] I.L.R. para. M-211801 %\n",
      "Didnt find any tags in Morrow v. Outerbridge, 2009 CHFL para. 15,554\n",
      "Didnt find any tags in Rackstraw (Litigation guardian of) v. Robertson, [2011] B.C.J. No. 1354\n",
      "Didnt find any tags in Ahlwat v. Green, [2014] B.C.J. No. 245267576 %\n",
      "Didnt find any tags in Quade v. Schwartz, [2008] B.C.J. No. 1032117 %\n",
      "Didnt find any tags in McKee (Guardian ad litem of) v. McCoy, [2001] B.C.J. No. 2675\n",
      "Didnt find any tags in GE Capital Canada Equipment Financing Inc. v. Bank of Montreal, [2003] B.C.J. No. 1791\n",
      "Didnt find any tags in Kerr (Litigation Guardian of) v. Creighton, [2007] B.C.J. No. 309\n",
      "Didnt find any tags in Danielson v. Janze, [2017] B.C.J. No. 492275 %\n",
      "Didnt find any tags in Deline v. Vancouver Talmud Torah Assn., [2020] B.C.J. No. 274\n",
      "Didnt find any tags in Francescutto v. Church, [2014] B.C.J. No. 638%\n",
      "Didnt find any tags in Gill v. Canada (Minister of Transport), [2014] B.C.J. No. 2921\n",
      "Didnt find any tags in Gladwell (Litigation guardian of) v. Busletta, [2018] B.C.J. No. 3570\n",
      "Didnt find any tags in Hoessmann Estate v. Aldergrove Credit Union, [2018] B.C.J. No. 303\n",
      "Didnt find any tags in Hung Fook Canada Ltd. v. Silcorp Ltd. (c.o.b. Mac's Convenience Stores), [2000] B.C.J. No. 404\n",
      "Didnt find any tags in Jones Estate v. Insurance Corp. of British Columbia, [2019] B.C.J. No. 2493\n",
      "Didnt find any tags in Jory v. Pereira, [2019] B.C.J. No. 16438737 %\n",
      "Didnt find any tags in Kerr v. Hall, [2013] B.C.J. No. 281009215016 %\n",
      "Didnt find any tags in Larsen v. Larsen, [2004] B.C.J. No. 39970304 %\n",
      "Didnt find any tags in Malhotra v. Waterfront Homes Ltd., [2015] B.C.J. No. 1297\n",
      "Didnt find any tags in Parchment v. British Columbia, [2015] B.C.J. No. 1236\n",
      "Didnt find any tags in Robson v. Chrysler Canada Ltd., [2001] B.C.J. No. 23\n",
      "Didnt find any tags in Royal Bank of Canada v. United Used Auto & Truck Parts Ltd., [2006] B.C.J. No. 1778\n",
      "Didnt find any tags in Stanway v. Wyeth Canada Inc., [2013] B.C.J. No. 411\n",
      "Didnt find any tags in Stewart v. Canada (Attorney General), [2010] B.C.J. No. 2410\n",
      "Didnt find any tags in Strata Plan LMS 2940 v. Quick as a Wink Courier Service Ltd., [2007] B.C.J. No. 1448\n",
      "Didnt find any tags in Strata Plan VR 10 v. EE Management Corp., [2015] B.C.J. No. 590\n",
      "Didnt find any tags in Wakelam v. Johnson & Johnson, [2011] B.C.J. No. 2477\n",
      "Didnt find any tags in West Van Holdings Ltd. v. Economical Mutual Insurance Co., [2017] B.C.J. No. 2670\n",
      "Didnt find any tags in Allen v. Girard, [2002] B.C.J. No. 21486792 %\n",
      "Didnt find any tags in Drage v. Page, [2002] B.C.J. No. 1848242321 %\n",
      "Didnt find any tags in Kahlon (Litigation guardian of) v. Vancouver Coastal Health Authority, 2009 CHFL para. 15,560\n",
      "Didnt find any tags in Kristiansen v. Grewal, [2014] B.C.J. No. 641\n",
      "Didnt find any tags in Low v. Albas, 2013 BREG para. 50,73017406135 %\n",
      "Didnt find any tags in Morris v. Moddejonge, [2004] B.C.J. No. 1786 %\n",
      "Didnt find any tags in Parragh v. Eagle Ridge Hospital and Health Care Centre, [2008] B.C.J. No. 1836\n",
      "Didnt find any tags in Roberts & Baker v. Kemp, [2005] B.C.J. No. 1928\n",
      "Didnt find any tags in Achtymichuk v. Bayer Inc., [2018] B.C.J. No. 879\n",
      "Didnt find any tags in Axa Pacific Insurance Company Ltd. v. Guildford Marquis Towers Ltd., [2000] I.L.R. para. I-3801\n",
      "Didnt find any tags in Bingo City Games Inc. v. British Columbia Lottery Corp., [2003] B.C.J. No. 985\n",
      "Didnt find any tags in Bittante v. Zichy, [2008] I.L.R. para. M-2244\n",
      "Didnt find any tags in Bohmer v. White, [2009] B.C.J. No. 93533788 %\n",
      "Didnt find any tags in F.W. Hearns/Actes - A Joint Venture v. University of British Columbia, [2000] B.C.J. No. 1238\n",
      "Didnt find any tags in Harris v. Sweet, [2005] B.C.J. No. 15209317 %\n",
      "Didnt find any tags in Horvath v. Thring, [2000] B.C.J. No. 131082 %\n",
      "Didnt find any tags in Keen v. Surrey (City), [2004] B.C.J. No. 2161%\n",
      "Didnt find any tags in Manavi v. Cascadia Apartment Rentals Ltd., [2017] B.C.J. No. 218\n",
      "Didnt find any tags in Ogden v. Gulf Log Salvage Co-operative Assn., [2005] B.C.J. No. 61\n",
      "Didnt find any tags in Petersen v. Stadnyk, [2003] B.C.J. No. 3173 %\n",
      "Didnt find any tags in Sharbern Holding Inc. v. Vancouver Airport Centre Ltd., [2005] B.C.J. No. 347\n",
      "Didnt find any tags in Skytrac Systems Ltd. v. Mares, [2009] B.C.J. No. 1641\n",
      "Didnt find any tags in Strata Plan BCS 1589 v. Nacht, [2018] B.C.J. No. 517\n",
      "Didnt find any tags in Thorburn v. British Columbia (Ministry of Public Safety and Solicitor General), [2012] B.C.J. No. 2216\n",
      "Didnt find any tags in Clare v. I.J. Manufacturing and three other actions, 2003 BREG para. 50,351\n",
      "Didnt find any tags in Coglon v. Ergas, [2009] B.C.J. No. 24274607 %\n",
      "Didnt find any tags in Commisso v. Teck Coal Ltd., [2018] B.C.J. No. 6970\n",
      "Didnt find any tags in Crawford v. Nazif, [2019] B.C.J. No. 259836 %\n",
      "Didnt find any tags in Cupo v. Brady, [2013] B.C.J. No. 2086385666 %\n",
      "Didnt find any tags in Davis v. Royal Bank of Canada, [2016] B.C.J. No. 2262\n",
      "Didnt find any tags inand extracting features... 69.28327645051195 % Deo v. Vancouver School No. 39, [2014] B.C.J. No. 3083\n",
      "Didnt find any tags in Foote v. Hallen, [2014] B.C.J. No. 57816724 %\n",
      "Didnt find any tags in Gaida Estate v. McLeod, [2013] B.C.J. No. 1423\n",
      "Didnt find any tags in human v. Insurance Corp. of British Columbia, [2019] B.C.J. No. 1547\n",
      "Didnt find any tags in Gichuru v. Purewal, [2019] B.C.J. No. 82918 %\n",
      "Didnt find any tags in Glenn v. Seair Seaplanes Ltd., [2012] B.C.J. No. 2428\n",
      "Didnt find any tags in Halliday v. Teasdale, [2019] B.C.J. No. 1414%\n",
      "Didnt find any tags in Haror v. Rana, [2018] B.C.J. No. 3553713311 %\n",
      "Didnt find any tags in Hixon-Gause v. Roberts, [2003] I.L.R. para. M-1673\n",
      "Didnt find any tags in Holland (Guardian ad litem of) v. Marshall, [2008] B.C.J. No. 2827\n",
      "Didnt find any tags in Horvath v. Thring, [2004] I.L.R. para. M-1713\n",
      "Didnt find any tags in Ho v. Ip, [2019] B.C.J. No. 250383959044369 %\n",
      "Didnt find any tags in I.A.L. (Litigation guardian of) v. Y.C., [2019] B.C.J. No. 1739\n",
      "Didnt find any tags in Insurance Corp. of British Columbia v. Suska, [2009] B.C.J. No. 2474\n",
      "Didnt find any tags in Irving v. Canada (Royal Canadian Mounted Police), [2000] B.C.J. No. 424\n",
      "Didnt find any tags in Jackson v. Backus, [2002] I.L.R. para. G-1496\n",
      "Didnt find any tags in Jennings v. Insurance Corporation of British Columbia, [2002] I.L.R. para. M-1562\n",
      "Didnt find any tags in Jiang v. Grand East Supermarket Inc., [2005] B.C.J. No. 2787\n",
      "Didnt find any tags in John Doe 1 v. University of British Columbia, [2019] B.C.J. No. 808\n",
      "Didnt find any tags in Joy v. Atkinson, [2008] B.C.J. No. 11276484 %\n",
      "Didnt find any tags in J.R.T. Nurseries Inc. v. 0843374 B.C. Ltd., [2016] B.C.J. No. 578\n",
      "Didnt find any tags in Lansdowne v. United Church of Canada, [2001] I.L.R. para. G-1403\n",
      "Didnt find any tags in Lapointe v. John Doe, [2016] B.C.J. No. 223 %\n",
      "Didnt find any tags in Laurier Charters Ltd. v. Eggleton, [2020] B.C.J. No. 342\n",
      "Didnt find any tags in Holt v. Rother, [2013] B.C.J. No. 128603072 %\n",
      "Didnt find any tags in Lindgren (Litigation guardian of) v. Parks Canada Agency, [2018] B.C.J. No. 120\n",
      "Didnt find any tags in Benek v. Pugash, [2004] B.C.J. No. 1931413 %%\n",
      "Didnt find any tags in Healey v. Royal Bank of Canada, [2003] B.C.J. No. 474\n",
      "Didnt find any tags in Insurance Corp. of British Columbia v. Scheelar, [2003] B.C.J. No. 1406\n",
      "Didnt find any tags in Mohebbi v. Canada (Royal Canadian Mounted Police) (North Vancouver), [2015] B.C.J. No. 2475\n",
      "Didnt find any tags in Strata Plan LMS 1564 v. Odyssey Tower Properties Ltd., [2009] B.C.J. No. 1511\n",
      "Didnt find any tags in Brewer v. Sarju, [2008] B.C.J. No. 21821775 %\n",
      "Didnt find any tags in Capilano Fishing Ltd. v. Qualicum Producer (The), [2000] B.C.J. No. 72\n",
      "Didnt find any tags in Intrawest Corp. v. Hart, [2002] B.C.J. No. 2816\n",
      "Didnt find any tags in Gengenbacher v. Smith, [2016] B.C.J. No. 1337\n",
      "Didnt find any tags in Littler v. Underdown, [2000] B.C.J. No. 1367%\n",
      "Didnt find any tags in Wilson v. Potter, [2005] B.C.J. No. 12803 %\n",
      "Didnt find any tags in Hixon (Guardian ad litem of) v. Roberts, [2003] B.C.J. No. 1328\n",
      "Didnt find any tags in Sarai v. Caharel, [2013] B.C.J. No. 2299652 %\n",
      "Didnt find any tags in Seeliger v. Eagle Ridge Hospital, [2006] B.C.J. No. 2189\n",
      "Didnt find any tags in Siegerist (Litigation guardian of) v. Tilton, [2020] B.C.J. No. 594\n",
      "Didnt find any tags in Douez v. Facebook, Inc., [2014] B.C.J. No. 1051\n",
      "Didnt find any tags in Hamilton v. Callaway, [2014] B.C.J. No. 174 %\n",
      "Didnt find any tags in MacMillan, Tucker & Mackay v. Cook, [2009] B.C.J. No. 991\n",
      "Didnt find any tags in Martin v. Lavigne, [2010] B.C.J. No. 162032 %\n",
      "Didnt find any tags in Moore v. College of Physicians and Surgeons of British Columbia, [2013] B.C.J. No. 2504\n",
      "Didnt find any tags in Nolting Estate v. Interior Health Authority (c.o.b. Vernon Jubilee Hospital), [2016] B.C.J. No. 1601\n",
      "Didnt find any tags in Ontario (Pension Board) v. Ball, [2010] B.C.J. No. 1792\n",
      "Didnt find any tags in R. v. Siemens, [2000] B.C.J. No. 230650512 %%\n",
      "Didnt find any tags in Aulakh v. Nahal, [2018] B.C.J. No. 80436177 %\n",
      "Didnt find any tags in Bakker v. Nahanee, [2012] B.C.J. No. 114742 %\n",
      "Didnt find any tags in Faust v. See, [2018] B.C.J. No. 12877167235 %\n",
      "\n",
      "Vectorizing...\n",
      "Tag Distribution\n",
      "Counter({'other': 2980, 'non pecuniary': 343, 'special': 256, 'future care': 241, 'future wage loss': 237, 'past wage loss': 231, 'total': 203, 'sub-special': 153, 'general': 87, 'sub-future care': 78, 'punitive': 39, 'in trust': 38, 'sub-future wage loss': 37, 'sub-past wage loss': 37, 'reduction to': 26, 'total after': 25, 'sub-general': 23, 'sub-non pecuniary': 21, 'aggravated': 21, 'reduction by': 16, 'sub-total': 15, 'sub-in trust': 14, 'sub-reduction': 2})\n"
     ]
    },
    {
     "name": "stderr",
     "output_type": "stream",
     "text": [
      "/home/ilana/anaconda3/lib/python3.7/site-packages/sklearn/model_selection/_split.py:667: UserWarning: The least populated class in y has only 2 members, which is less than n_splits=10.\n",
      "  % (min_groups, self.n_splits)), UserWarning)\n",
      "/home/ilana/anaconda3/lib/python3.7/site-packages/sklearn/model_selection/_split.py:667: UserWarning: The least populated class in y has only 2 members, which is less than n_splits=10.\n",
      "  % (min_groups, self.n_splits)), UserWarning)\n"
     ]
    },
    {
     "name": "stdout",
     "output_type": "stream",
     "text": [
      "Cross validation evaluation...\n",
      "                      precision    recall  f1-score   support\n",
      "\n",
      "          aggravated       0.86      0.57      0.69        21\n",
      "         future care       0.72      0.72      0.72       241\n",
      "    future wage loss       0.70      0.70      0.70       237\n",
      "             general       0.66      0.49      0.57        87\n",
      "            in trust       0.62      0.34      0.44        38\n",
      "       non pecuniary       0.77      0.86      0.81       343\n",
      "               other       0.87      0.94      0.90      2980\n",
      "      past wage loss       0.71      0.70      0.71       231\n",
      "            punitive       0.87      0.85      0.86        39\n",
      "        reduction by       1.00      0.44      0.61        16\n",
      "        reduction to       0.71      0.38      0.50        26\n",
      "             special       0.69      0.78      0.73       256\n",
      "     sub-future care       0.44      0.10      0.17        78\n",
      "sub-future wage loss       0.53      0.24      0.33        37\n",
      "         sub-general       0.25      0.09      0.13        23\n",
      "        sub-in trust       0.86      0.43      0.57        14\n",
      "   sub-non pecuniary       0.67      0.38      0.48        21\n",
      "  sub-past wage loss       0.17      0.05      0.08        37\n",
      "       sub-reduction       0.00      0.00      0.00         2\n",
      "         sub-special       0.42      0.18      0.25       153\n",
      "           sub-total       0.86      0.40      0.55        15\n",
      "               total       0.67      0.67      0.67       203\n",
      "         total after       0.62      0.20      0.30        25\n",
      "\n",
      "            accuracy                           0.81      5123\n",
      "           macro avg       0.64      0.46      0.51      5123\n",
      "        weighted avg       0.79      0.81      0.79      5123\n",
      "\n",
      "Training final model...\n"
     ]
    }
   ],
   "source": [
    "model, vectorizer, annotated_damages = key_functions.train_classifier('../../data/annotations/final_annotations.txt', LogisticRegression(C = 1, penalty='l2', solver = 'newton-cg', max_iter = 1000, random_state=42), fit_model=True)\n"
   ]
  },
  {
   "cell_type": "markdown",
   "metadata": {},
   "source": [
    "### Remove next/prev word, bigram, and trigram\n"
   ]
  },
  {
   "cell_type": "code",
   "execution_count": 2,
   "metadata": {
    "collapsed": true,
    "jupyter": {
     "outputs_hidden": true
    }
   },
   "outputs": [
    {
     "name": "stdout",
     "output_type": "stream",
     "text": [
      "Didnt find any tags in Mawani v. Pitcairn, [2012] B.C.J. No. 1819\n",
      "Didnt find any tags in Aiken (Guardian ad litem of) v. Van Dyk, [2001] B.C.J. No. 1751\n",
      "Didnt find any tags in Millard v. Singleton, [2015] B.C.J. No. 1234 %\n",
      "Didnt find any tags in Cowie v. Draper, [2010] B.C.J. No. 910935154 %\n",
      "Didnt find any tags in Bajwa v. Deol, [2018] I.L.R. para. G-2792606 %\n",
      "Didnt find any tags in Jackson v. Fisheries and Oceans Canada, [2006] B.C.J. No. 2654\n",
      "Didnt find any tags in Los Angeles Salad Co. v. Canadian Food Inspection Agency, [2009] B.C.J. No. 161\n",
      "Didnt find any tags in Brooks-Martin v. Martin, [2011] B.C.J. No. 243\n",
      "Didnt find any tags in Gibson v. Matthies, [2017] B.C.J. No. 96556 %\n",
      "Didnt find any tags in Gray v. Ellis, [2007] I.L.R. para. M-211801 %\n",
      "Didnt find any tags in Morrow v. Outerbridge, 2009 CHFL para. 15,554\n",
      "Didnt find any tags in Rackstraw (Litigation guardian of) v. Robertson, [2011] B.C.J. No. 1354\n",
      "Didnt find any tags in Ahlwat v. Green, [2014] B.C.J. No. 245267576 %\n",
      "Didnt find any tags in Quade v. Schwartz, [2008] B.C.J. No. 1032117 %\n",
      "Didnt find any tags in McKee (Guardian ad litem of) v. McCoy, [2001] B.C.J. No. 2675\n",
      "Didnt find any tags in GE Capital Canada Equipment Financing Inc. v. Bank of Montreal, [2003] B.C.J. No. 1791\n",
      "Didnt find any tags in Kerr (Litigation Guardian of) v. Creighton, [2007] B.C.J. No. 309\n",
      "Didnt find any tags in Danielson v. Janze, [2017] B.C.J. No. 492275 %\n",
      "Didnt find any tags in Deline v. Vancouver Talmud Torah Assn., [2020] B.C.J. No. 274\n",
      "Didnt find any tags in Francescutto v. Church, [2014] B.C.J. No. 638%\n",
      "Didnt find any tags in Gill v. Canada (Minister of Transport), [2014] B.C.J. No. 2921\n",
      "Didnt find any tags in Gladwell (Litigation guardian of) v. Busletta, [2018] B.C.J. No. 3570\n",
      "Didnt find any tags in Hoessmann Estate v. Aldergrove Credit Union, [2018] B.C.J. No. 303\n",
      "Didnt find any tags in Hung Fook Canada Ltd. v. Silcorp Ltd. (c.o.b. Mac's Convenience Stores), [2000] B.C.J. No. 404\n",
      "Didnt find any tags in Jones Estate v. Insurance Corp. of British Columbia, [2019] B.C.J. No. 2493\n",
      "Didnt find any tags in Jory v. Pereira, [2019] B.C.J. No. 16438737 %\n",
      "Didnt find any tags in Kerr v. Hall, [2013] B.C.J. No. 281009215016 %\n",
      "Didnt find any tags in Larsen v. Larsen, [2004] B.C.J. No. 39970304 %\n",
      "Didnt find any tags in Malhotra v. Waterfront Homes Ltd., [2015] B.C.J. No. 1297\n",
      "Didnt find any tags in Parchment v. British Columbia, [2015] B.C.J. No. 1236\n",
      "Didnt find any tags in Robson v. Chrysler Canada Ltd., [2001] B.C.J. No. 23\n",
      "Didnt find any tags in Royal Bank of Canada v. United Used Auto & Truck Parts Ltd., [2006] B.C.J. No. 1778\n",
      "Didnt find any tags in Stanway v. Wyeth Canada Inc., [2013] B.C.J. No. 411\n",
      "Didnt find any tags in Stewart v. Canada (Attorney General), [2010] B.C.J. No. 2410\n",
      "Didnt find any tags in Strata Plan LMS 2940 v. Quick as a Wink Courier Service Ltd., [2007] B.C.J. No. 1448\n",
      "Didnt find any tags in Strata Plan VR 10 v. EE Management Corp., [2015] B.C.J. No. 590\n",
      "Didnt find any tags in Wakelam v. Johnson & Johnson, [2011] B.C.J. No. 2477\n",
      "Didnt find any tags in West Van Holdings Ltd. v. Economical Mutual Insurance Co., [2017] B.C.J. No. 2670\n",
      "Didnt find any tags in Allen v. Girard, [2002] B.C.J. No. 21486792 %\n",
      "Didnt find any tags in Drage v. Page, [2002] B.C.J. No. 1848242321 %\n",
      "Didnt find any tags in Kahlon (Litigation guardian of) v. Vancouver Coastal Health Authority, 2009 CHFL para. 15,560\n",
      "Didnt find any tags in Kristiansen v. Grewal, [2014] B.C.J. No. 641\n",
      "Didnt find any tags in Low v. Albas, 2013 BREG para. 50,73017406135 %\n",
      "Didnt find any tags in Morris v. Moddejonge, [2004] B.C.J. No. 1786 %\n",
      "Didnt find any tags in Parragh v. Eagle Ridge Hospital and Health Care Centre, [2008] B.C.J. No. 1836\n",
      "Didnt find any tags in Roberts & Baker v. Kemp, [2005] B.C.J. No. 1928\n",
      "Didnt find any tags in Achtymichuk v. Bayer Inc., [2018] B.C.J. No. 879\n",
      "Didnt find any tags in Axa Pacific Insurance Company Ltd. v. Guildford Marquis Towers Ltd., [2000] I.L.R. para. I-3801\n",
      "Didnt find any tags in Bingo City Games Inc. v. British Columbia Lottery Corp., [2003] B.C.J. No. 985\n",
      "Didnt find any tags in Bittante v. Zichy, [2008] I.L.R. para. M-2244\n",
      "Didnt find any tags in Bohmer v. White, [2009] B.C.J. No. 93533788 %\n",
      "Didnt find any tags in F.W. Hearns/Actes - A Joint Venture v. University of British Columbia, [2000] B.C.J. No. 1238\n",
      "Didnt find any tags in Harris v. Sweet, [2005] B.C.J. No. 15209317 %\n",
      "Didnt find any tags in Horvath v. Thring, [2000] B.C.J. No. 131082 %\n",
      "Didnt find any tags in Keen v. Surrey (City), [2004] B.C.J. No. 2161%\n",
      "Didnt find any tags in Manavi v. Cascadia Apartment Rentals Ltd., [2017] B.C.J. No. 218\n",
      "Didnt find any tags in Ogden v. Gulf Log Salvage Co-operative Assn., [2005] B.C.J. No. 61\n",
      "Didnt find any tags in Petersen v. Stadnyk, [2003] B.C.J. No. 3173 %\n",
      "Didnt find any tags in Sharbern Holding Inc. v. Vancouver Airport Centre Ltd., [2005] B.C.J. No. 347\n",
      "Didnt find any tags in Skytrac Systems Ltd. v. Mares, [2009] B.C.J. No. 1641\n",
      "Didnt find any tags in Strata Plan BCS 1589 v. Nacht, [2018] B.C.J. No. 517\n",
      "Didnt find any tags in Thorburn v. British Columbia (Ministry of Public Safety and Solicitor General), [2012] B.C.J. No. 2216\n",
      "Didnt find any tags in Clare v. I.J. Manufacturing and three other actions, 2003 BREG para. 50,351\n",
      "Didnt find any tags in Coglon v. Ergas, [2009] B.C.J. No. 24274607 %\n",
      "Didnt find any tags in Commisso v. Teck Coal Ltd., [2018] B.C.J. No. 6970\n",
      "Didnt find any tags in Crawford v. Nazif, [2019] B.C.J. No. 259836 %\n",
      "Didnt find any tags in Cupo v. Brady, [2013] B.C.J. No. 2086385666 %\n",
      "Didnt find any tags in Davis v. Royal Bank of Canada, [2016] B.C.J. No. 2262\n",
      "Didnt find any tags in Deo v. Vancouver School No. 39, [2014] B.C.J. No. 3083\n",
      "Didnt find any tags in Foote v. Hallen, [2014] B.C.J. No. 57816724 %\n",
      "Didnt find any tags in Gaida Estate v. McLeod, [2013] B.C.J. No. 1423\n",
      "Didnt find any tags in human v. Insurance Corp. of British Columbia, [2019] B.C.J. No. 1547\n",
      "Didnt find any tags in Gichuru v. Purewal, [2019] B.C.J. No. 82918 %\n",
      "Didnt find any tags in Glenn v. Seair Seaplanes Ltd., [2012] B.C.J. No. 2428\n",
      "Didnt find any tags in Halliday v. Teasdale, [2019] B.C.J. No. 1414%\n",
      "Didnt find any tags in Haror v. Rana, [2018] B.C.J. No. 3553713311 %\n",
      "Didnt find any tags in Hixon-Gause v. Roberts, [2003] I.L.R. para. M-1673\n",
      "Didnt find any tags in Holland (Guardian ad litem of) v. Marshall, [2008] B.C.J. No. 2827\n",
      "Didnt find any tags in Horvath v. Thring, [2004] I.L.R. para. M-1713\n",
      "Didnt find any tags in Ho v. Ip, [2019] B.C.J. No. 250383959044369 %\n",
      "Didnt find any tags in I.A.L. (Litigation guardian of) v. Y.C., [2019] B.C.J. No. 1739\n",
      "Didnt find any tags in Insurance Corp. of British Columbia v. Suska, [2009] B.C.J. No. 2474\n",
      "Didnt find any tags in Irving v. Canada (Royal Canadian Mounted Police), [2000] B.C.J. No. 424\n",
      "Didnt find any tags in Jackson v. Backus, [2002] I.L.R. para. G-1496\n",
      "Didnt find any tags in Jennings v. Insurance Corporation of British Columbia, [2002] I.L.R. para. M-1562\n",
      "Didnt find any tags in Jiang v. Grand East Supermarket Inc., [2005] B.C.J. No. 2787\n",
      "Didnt find any tags in John Doe 1 v. University of British Columbia, [2019] B.C.J. No. 808\n",
      "Didnt find any tags in Joy v. Atkinson, [2008] B.C.J. No. 11276484 %\n",
      "Didnt find any tags in J.R.T. Nurseries Inc. v. 0843374 B.C. Ltd., [2016] B.C.J. No. 578\n",
      "Didnt find any tags in Lansdowne v. United Church of Canada, [2001] I.L.R. para. G-1403\n",
      "Didnt find any tags in Lapointe v. John Doe, [2016] B.C.J. No. 223 %\n",
      "Didnt find any tags in Laurier Charters Ltd. v. Eggleton, [2020] B.C.J. No. 342\n",
      "Didnt find any tags in Holt v. Rother, [2013] B.C.J. No. 128603072 %\n",
      "Didnt find any tags in Lindgren (Litigation guardian of) v. Parks Canada Agency, [2018] B.C.J. No. 120\n",
      "Didnt find any tags in Benek v. Pugash, [2004] B.C.J. No. 1931413 %%\n",
      "Didnt find any tags in Healey v. Royal Bank of Canada, [2003] B.C.J. No. 474\n",
      "Didnt find any tags in Insurance Corp. of British Columbia v. Scheelar, [2003] B.C.J. No. 1406\n",
      "Didnt find any tags in Mohebbi v. Canada (Royal Canadian Mounted Police) (North Vancouver), [2015] B.C.J. No. 2475\n",
      "Didnt find any tags in Strata Plan LMS 1564 v. Odyssey Tower Properties Ltd., [2009] B.C.J. No. 1511\n",
      "Didnt find any tags in Brewer v. Sarju, [2008] B.C.J. No. 21821775 %\n",
      "Didnt find any tags in Capilano Fishing Ltd. v. Qualicum Producer (The), [2000] B.C.J. No. 72\n",
      "Didnt find any tags in Intrawest Corp. v. Hart, [2002] B.C.J. No. 2816\n",
      "Didnt find any tags in Gengenbacher v. Smith, [2016] B.C.J. No. 1337\n",
      "Didnt find any tags in Littler v. Underdown, [2000] B.C.J. No. 1367%\n",
      "Didnt find any tags in Wilson v. Potter, [2005] B.C.J. No. 12803 %\n",
      "Didnt find any tags in Hixon (Guardian ad litem of) v. Roberts, [2003] B.C.J. No. 1328\n",
      "Didnt find any tags in Sarai v. Caharel, [2013] B.C.J. No. 2299652 %\n",
      "Didnt find any tags in Seeliger v. Eagle Ridge Hospital, [2006] B.C.J. No. 2189\n",
      "Didnt find any tags in Siegerist (Litigation guardian of) v. Tilton, [2020] B.C.J. No. 594\n",
      "Didnt find any tags in Douez v. Facebook, Inc., [2014] B.C.J. No. 1051\n",
      "Didnt find any tags in Hamilton v. Callaway, [2014] B.C.J. No. 174 %\n",
      "Didnt find any tags in MacMillan, Tucker & Mackay v. Cook, [2009] B.C.J. No. 991\n",
      "Didnt find any tags in Martin v. Lavigne, [2010] B.C.J. No. 162032 %\n",
      "Didnt find any tags in Moore v. College of Physicians and Surgeons of British Columbia, [2013] B.C.J. No. 2504\n",
      "Didnt find any tags in Nolting Estate v. Interior Health Authority (c.o.b. Vernon Jubilee Hospital), [2016] B.C.J. No. 1601\n",
      "Didnt find any tags in Ontario (Pension Board) v. Ball, [2010] B.C.J. No. 1792\n",
      "Didnt find any tags in R. v. Siemens, [2000] B.C.J. No. 230650512 %%\n",
      "Didnt find any tags in Aulakh v. Nahal, [2018] B.C.J. No. 80436177 %\n",
      "Didnt find any tags in Bakker v. Nahanee, [2012] B.C.J. No. 114742 %\n",
      "Didnt find any tags in Faust v. See, [2018] B.C.J. No. 12877167235 %\n",
      "\n",
      "Vectorizing...\n",
      "Tag Distribution\n",
      "Counter({'other': 2980, 'non pecuniary': 343, 'special': 256, 'future care': 241, 'future wage loss': 237, 'past wage loss': 231, 'total': 203, 'sub-special': 153, 'general': 87, 'sub-future care': 78, 'punitive': 39, 'in trust': 38, 'sub-future wage loss': 37, 'sub-past wage loss': 37, 'reduction to': 26, 'total after': 25, 'sub-general': 23, 'sub-non pecuniary': 21, 'aggravated': 21, 'reduction by': 16, 'sub-total': 15, 'sub-in trust': 14, 'sub-reduction': 2})\n"
     ]
    },
    {
     "name": "stderr",
     "output_type": "stream",
     "text": [
      "/home/ilana/anaconda3/lib/python3.7/site-packages/sklearn/model_selection/_split.py:667: UserWarning: The least populated class in y has only 2 members, which is less than n_splits=10.\n",
      "  % (min_groups, self.n_splits)), UserWarning)\n",
      "/home/ilana/anaconda3/lib/python3.7/site-packages/sklearn/model_selection/_split.py:667: UserWarning: The least populated class in y has only 2 members, which is less than n_splits=10.\n",
      "  % (min_groups, self.n_splits)), UserWarning)\n"
     ]
    },
    {
     "name": "stdout",
     "output_type": "stream",
     "text": [
      "Cross validation evaluation...\n",
      "                      precision    recall  f1-score   support\n",
      "\n",
      "          aggravated       0.65      0.52      0.58        21\n",
      "         future care       0.69      0.66      0.68       241\n",
      "    future wage loss       0.66      0.65      0.66       237\n",
      "             general       0.54      0.43      0.48        87\n",
      "            in trust       0.52      0.32      0.39        38\n",
      "       non pecuniary       0.73      0.84      0.78       343\n",
      "               other       0.87      0.94      0.90      2980\n",
      "      past wage loss       0.61      0.61      0.61       231\n",
      "            punitive       0.72      0.72      0.72        39\n",
      "        reduction by       1.00      0.38      0.55        16\n",
      "        reduction to       0.62      0.31      0.41        26\n",
      "             special       0.63      0.73      0.68       256\n",
      "     sub-future care       0.44      0.10      0.17        78\n",
      "sub-future wage loss       0.59      0.27      0.37        37\n",
      "         sub-general       0.17      0.04      0.07        23\n",
      "        sub-in trust       0.86      0.43      0.57        14\n",
      "   sub-non pecuniary       0.69      0.43      0.53        21\n",
      "  sub-past wage loss       0.09      0.03      0.04        37\n",
      "       sub-reduction       0.00      0.00      0.00         2\n",
      "         sub-special       0.46      0.20      0.28       153\n",
      "           sub-total       0.75      0.40      0.52        15\n",
      "               total       0.64      0.62      0.63       203\n",
      "         total after       0.50      0.20      0.29        25\n",
      "\n",
      "            accuracy                           0.79      5123\n",
      "           macro avg       0.58      0.43      0.47      5123\n",
      "        weighted avg       0.76      0.79      0.77      5123\n",
      "\n",
      "Training final model...\n"
     ]
    }
   ],
   "source": [
    "model, vectorizer, annotated_damages = key_functions.train_classifier('../../data/annotations/final_annotations.txt', LogisticRegression(C = 1, penalty='l2', solver = 'newton-cg', max_iter = 1000, random_state=42), fit_model=True)\n"
   ]
  },
  {
   "cell_type": "markdown",
   "metadata": {},
   "source": [
    "### Remove BOW Before"
   ]
  },
  {
   "cell_type": "code",
   "execution_count": 2,
   "metadata": {
    "collapsed": true,
    "jupyter": {
     "outputs_hidden": true
    }
   },
   "outputs": [
    {
     "name": "stdout",
     "output_type": "stream",
     "text": [
      "Didnt find any tags in Mawani v. Pitcairn, [2012] B.C.J. No. 1819\n",
      "Didnt find any tags in Aiken (Guardian ad litem of) v. Van Dyk, [2001] B.C.J. No. 1751\n",
      "Didnt find any tags in Millard v. Singleton, [2015] B.C.J. No. 1234 %\n",
      "Didnt find any tags in Cowie v. Draper, [2010] B.C.J. No. 910935154 %\n",
      "Didnt find any tags in Bajwa v. Deol, [2018] I.L.R. para. G-2792606 %\n",
      "Didnt find any tags in Jackson v. Fisheries and Oceans Canada, [2006] B.C.J. No. 2654\n",
      "Didnt find any tags in Los Angeles Salad Co. v. Canadian Food Inspection Agency, [2009] B.C.J. No. 161\n",
      "Didnt find any tags in Brooks-Martin v. Martin, [2011] B.C.J. No. 243\n",
      "Didnt find any tags in Gibson v. Matthies, [2017] B.C.J. No. 96556 %\n",
      "Didnt find any tags in Gray v. Ellis, [2007] I.L.R. para. M-211801 %\n",
      "Didnt find any tags in Morrow v. Outerbridge, 2009 CHFL para. 15,554\n",
      "Didnt find any tags in Rackstraw (Litigation guardian of) v. Robertson, [2011] B.C.J. No. 1354\n",
      "Didnt find any tags in Ahlwat v. Green, [2014] B.C.J. No. 245267576 %\n",
      "Didnt find any tags in Quade v. Schwartz, [2008] B.C.J. No. 1032117 %\n",
      "Didnt find any tags in McKee (Guardian ad litem of) v. McCoy, [2001] B.C.J. No. 2675\n",
      "Didnt find any tags in GE Capital Canada Equipment Financing Inc. v. Bank of Montreal, [2003] B.C.J. No. 1791\n",
      "Didnt find any tags in Kerr (Litigation Guardian of) v. Creighton, [2007] B.C.J. No. 309\n",
      "Didnt find any tags in Danielson v. Janze, [2017] B.C.J. No. 492275 %\n",
      "Didnt find any tags in Deline v. Vancouver Talmud Torah Assn., [2020] B.C.J. No. 274\n",
      "Didnt find any tags in Francescutto v. Church, [2014] B.C.J. No. 638%\n",
      "Didnt find any tags in Gill v. Canada (Minister of Transport), [2014] B.C.J. No. 2921\n",
      "Didnt find any tags in Gladwell (Litigation guardian of) v. Busletta, [2018] B.C.J. No. 3570\n",
      "Didnt find any tags in Hoessmann Estate v. Aldergrove Credit Union, [2018] B.C.J. No. 303\n",
      "Didnt find any tags in Hung Fook Canada Ltd. v. Silcorp Ltd. (c.o.b. Mac's Convenience Stores), [2000] B.C.J. No. 404\n",
      "Didnt find any tags in Jones Estate v. Insurance Corp. of British Columbia, [2019] B.C.J. No. 2493\n",
      "Didnt find any tags in Jory v. Pereira, [2019] B.C.J. No. 16438737 %\n",
      "Didnt find any tags in Kerr v. Hall, [2013] B.C.J. No. 281009215016 %\n",
      "Didnt find any tags in Larsen v. Larsen, [2004] B.C.J. No. 39970304 %\n",
      "Didnt find any tags in Malhotra v. Waterfront Homes Ltd., [2015] B.C.J. No. 1297\n",
      "Didnt find any tags in Parchment v. British Columbia, [2015] B.C.J. No. 1236\n",
      "Didnt find any tags in Robson v. Chrysler Canada Ltd., [2001] B.C.J. No. 23\n",
      "Didnt find any tags in Royal Bank of Canada v. United Used Auto & Truck Parts Ltd., [2006] B.C.J. No. 1778\n",
      "Didnt find any tags in Stanway v. Wyeth Canada Inc., [2013] B.C.J. No. 411\n",
      "Didnt find any tags in Stewart v. Canada (Attorney General), [2010] B.C.J. No. 2410\n",
      "Didnt find any tags in Strata Plan LMS 2940 v. Quick as a Wink Courier Service Ltd., [2007] B.C.J. No. 1448\n",
      "Didnt find any tags in Strata Plan VR 10 v. EE Management Corp., [2015] B.C.J. No. 590\n",
      "Didnt find any tags in Wakelam v. Johnson & Johnson, [2011] B.C.J. No. 2477\n",
      "Didnt find any tags in West Van Holdings Ltd. v. Economical Mutual Insurance Co., [2017] B.C.J. No. 2670\n",
      "Didnt find any tags in Allen v. Girard, [2002] B.C.J. No. 21486792 %\n",
      "Didnt find any tags in Drage v. Page, [2002] B.C.J. No. 1848242321 %\n",
      "Didnt find any tags in Kahlon (Litigation guardian of) v. Vancouver Coastal Health Authority, 2009 CHFL para. 15,560\n",
      "Didnt find any tags in Kristiansen v. Grewal, [2014] B.C.J. No. 641\n",
      "Didnt find any tags in Low v. Albas, 2013 BREG para. 50,73017406135 %\n",
      "Didnt find any tags in Morris v. Moddejonge, [2004] B.C.J. No. 1786 %\n",
      "Didnt find any tags in Parragh v. Eagle Ridge Hospital and Health Care Centre, [2008] B.C.J. No. 1836\n",
      "Didnt find any tags in Roberts & Baker v. Kemp, [2005] B.C.J. No. 1928\n",
      "Didnt find any tags in Achtymichuk v. Bayer Inc., [2018] B.C.J. No. 879\n",
      "Didnt find any tags in Axa Pacific Insurance Company Ltd. v. Guildford Marquis Towers Ltd., [2000] I.L.R. para. I-3801\n",
      "Didnt find any tags in Bingo City Games Inc. v. British Columbia Lottery Corp., [2003] B.C.J. No. 985\n",
      "Didnt find any tags in Bittante v. Zichy, [2008] I.L.R. para. M-2244\n",
      "Didnt find any tags in Bohmer v. White, [2009] B.C.J. No. 93533788 %\n",
      "Didnt find any tags in F.W. Hearns/Actes - A Joint Venture v. University of British Columbia, [2000] B.C.J. No. 1238\n",
      "Didnt find any tags in Harris v. Sweet, [2005] B.C.J. No. 15209317 %\n",
      "Didnt find any tags in Horvath v. Thring, [2000] B.C.J. No. 131082 %\n",
      "Didnt find any tags in Keen v. Surrey (City), [2004] B.C.J. No. 2161%\n",
      "Didnt find any tags in Manavi v. Cascadia Apartment Rentals Ltd., [2017] B.C.J. No. 218\n",
      "Didnt find any tags in Ogden v. Gulf Log Salvage Co-operative Assn., [2005] B.C.J. No. 61\n",
      "Didnt find any tags in Petersen v. Stadnyk, [2003] B.C.J. No. 3173 %\n",
      "Didnt find any tags in Sharbern Holding Inc. v. Vancouver Airport Centre Ltd., [2005] B.C.J. No. 347\n",
      "Didnt find any tags in Skytrac Systems Ltd. v. Mares, [2009] B.C.J. No. 1641\n",
      "Didnt find any tags in Strata Plan BCS 1589 v. Nacht, [2018] B.C.J. No. 517\n",
      "Didnt find any tags in Thorburn v. British Columbia (Ministry of Public Safety and Solicitor General), [2012] B.C.J. No. 2216\n",
      "Didnt find any tags in Clare v. I.J. Manufacturing and three other actions, 2003 BREG para. 50,351\n",
      "Didnt find any tags in Coglon v. Ergas, [2009] B.C.J. No. 24274607 %\n",
      "Didnt find any tags in Commisso v. Teck Coal Ltd., [2018] B.C.J. No. 6970\n",
      "Didnt find any tags in Crawford v. Nazif, [2019] B.C.J. No. 259836 %\n",
      "Didnt find any tags in Cupo v. Brady, [2013] B.C.J. No. 2086385666 %\n",
      "Didnt find any tags in Davis v. Royal Bank of Canada, [2016] B.C.J. No. 2262\n",
      "Didnt find any tags in Deo v. Vancouver School No. 39, [2014] B.C.J. No. 3083\n",
      "Didnt find any tags in Foote v. Hallen, [2014] B.C.J. No. 57816724 %\n",
      "Didnt find any tags in Gaida Estate v. McLeod, [2013] B.C.J. No. 1423\n",
      "Didnt find any tags in human v. Insurance Corp. of British Columbia, [2019] B.C.J. No. 1547\n",
      "Didnt find any tags in Gichuru v. Purewal, [2019] B.C.J. No. 82918 %\n",
      "Didnt find any tags in Glenn v. Seair Seaplanes Ltd., [2012] B.C.J. No. 2428\n",
      "Didnt find any tags in Halliday v. Teasdale, [2019] B.C.J. No. 1414%\n",
      "Didnt find any tags in Haror v. Rana, [2018] B.C.J. No. 3553713311 %\n",
      "Didnt find any tags in Hixon-Gause v. Roberts, [2003] I.L.R. para. M-1673\n",
      "Didnt find any tags in Holland (Guardian ad litem of) v. Marshall, [2008] B.C.J. No. 2827\n",
      "Didnt find any tags in Horvath v. Thring, [2004] I.L.R. para. M-1713\n",
      "Didnt find any tags in Ho v. Ip, [2019] B.C.J. No. 250383959044369 %\n",
      "Didnt find any tags in I.A.L. (Litigation guardian of) v. Y.C., [2019] B.C.J. No. 1739\n",
      "Didnt find any tags in Insurance Corp. of British Columbia v. Suska, [2009] B.C.J. No. 2474\n",
      "Didnt find any tags in Irving v. Canada (Royal Canadian Mounted Police), [2000] B.C.J. No. 424\n",
      "Didnt find any tags in Jackson v. Backus, [2002] I.L.R. para. G-1496\n",
      "Didnt find any tags in Jennings v. Insurance Corporation of British Columbia, [2002] I.L.R. para. M-1562\n",
      "Didnt find any tags in Jiang v. Grand East Supermarket Inc., [2005] B.C.J. No. 2787\n",
      "Didnt find any tags in John Doe 1 v. University of British Columbia, [2019] B.C.J. No. 808\n",
      "Didnt find any tags in Joy v. Atkinson, [2008] B.C.J. No. 11276484 %\n",
      "Didnt find any tags in J.R.T. Nurseries Inc. v. 0843374 B.C. Ltd., [2016] B.C.J. No. 578\n",
      "Didnt find any tags in Lansdowne v. United Church of Canada, [2001] I.L.R. para. G-1403\n",
      "Didnt find any tags in Lapointe v. John Doe, [2016] B.C.J. No. 223 %\n",
      "Didnt find any tags in Laurier Charters Ltd. v. Eggleton, [2020] B.C.J. No. 342\n",
      "Didnt find any tags in Holt v. Rother, [2013] B.C.J. No. 128603072 %\n",
      "Didnt find any tags in Lindgren (Litigation guardian of) v. Parks Canada Agency, [2018] B.C.J. No. 120\n",
      "Didnt find any tags in Benek v. Pugash, [2004] B.C.J. No. 1931413 %%\n",
      "Didnt find any tags in Healey v. Royal Bank of Canada, [2003] B.C.J. No. 474\n",
      "Didnt find any tags in Insurance Corp. of British Columbia v. Scheelar, [2003] B.C.J. No. 1406\n",
      "Didnt find any tags in Mohebbi v. Canada (Royal Canadian Mounted Police) (North Vancouver), [2015] B.C.J. No. 2475\n",
      "Didnt find any tags in Strata Plan LMS 1564 v. Odyssey Tower Properties Ltd., [2009] B.C.J. No. 1511\n",
      "Didnt find any tags in Brewer v. Sarju, [2008] B.C.J. No. 21821775 %\n",
      "Didnt find any tags in Capilano Fishing Ltd. v. Qualicum Producer (The), [2000] B.C.J. No. 72\n",
      "Didnt find any tags in Intrawest Corp. v. Hart, [2002] B.C.J. No. 2816\n",
      "Didnt find any tags in Gengenbacher v. Smith, [2016] B.C.J. No. 1337\n",
      "Didnt find any tags in Littler v. Underdown, [2000] B.C.J. No. 1367%\n",
      "Didnt find any tags in Wilson v. Potter, [2005] B.C.J. No. 12803 %\n",
      "Didnt find any tags in Hixon (Guardian ad litem of) v. Roberts, [2003] B.C.J. No. 1328\n",
      "Didnt find any tags in Sarai v. Caharel, [2013] B.C.J. No. 2299652 %\n",
      "Didnt find any tags in Seeliger v. Eagle Ridge Hospital, [2006] B.C.J. No. 2189\n",
      "Didnt find any tags in Siegerist (Litigation guardian of) v. Tilton, [2020] B.C.J. No. 594\n",
      "Didnt find any tags in Douez v. Facebook, Inc., [2014] B.C.J. No. 1051\n",
      "Didnt find any tags in Hamilton v. Callaway, [2014] B.C.J. No. 174 %\n",
      "Didnt find any tags in MacMillan, Tucker & Mackay v. Cook, [2009] B.C.J. No. 991\n",
      "Didnt find any tags in Martin v. Lavigne, [2010] B.C.J. No. 162032 %\n",
      "Didnt find any tags in Moore v. College of Physicians and Surgeons of British Columbia, [2013] B.C.J. No. 2504\n",
      "Didnt find any tags in Nolting Estate v. Interior Health Authority (c.o.b. Vernon Jubilee Hospital), [2016] B.C.J. No. 1601\n",
      "Didnt find any tags in Ontario (Pension Board) v. Ball, [2010] B.C.J. No. 1792\n",
      "Didnt find any tags in R. v. Siemens, [2000] B.C.J. No. 230650512 %%\n",
      "Didnt find any tags in Aulakh v. Nahal, [2018] B.C.J. No. 80436177 %\n",
      "Didnt find any tags in Bakker v. Nahanee, [2012] B.C.J. No. 114742 %\n",
      "Didnt find any tags in Faust v. See, [2018] B.C.J. No. 12877167235 %\n",
      "\n",
      "Vectorizing...\n",
      "Tag Distribution\n",
      "Counter({'other': 2980, 'non pecuniary': 343, 'special': 256, 'future care': 241, 'future wage loss': 237, 'past wage loss': 231, 'total': 203, 'sub-special': 153, 'general': 87, 'sub-future care': 78, 'punitive': 39, 'in trust': 38, 'sub-future wage loss': 37, 'sub-past wage loss': 37, 'reduction to': 26, 'total after': 25, 'sub-general': 23, 'sub-non pecuniary': 21, 'aggravated': 21, 'reduction by': 16, 'sub-total': 15, 'sub-in trust': 14, 'sub-reduction': 2})\n"
     ]
    },
    {
     "name": "stderr",
     "output_type": "stream",
     "text": [
      "/home/ilana/anaconda3/lib/python3.7/site-packages/sklearn/model_selection/_split.py:667: UserWarning: The least populated class in y has only 2 members, which is less than n_splits=10.\n",
      "  % (min_groups, self.n_splits)), UserWarning)\n",
      "/home/ilana/anaconda3/lib/python3.7/site-packages/sklearn/model_selection/_split.py:667: UserWarning: The least populated class in y has only 2 members, which is less than n_splits=10.\n",
      "  % (min_groups, self.n_splits)), UserWarning)\n"
     ]
    },
    {
     "name": "stdout",
     "output_type": "stream",
     "text": [
      "Cross validation evaluation...\n",
      "                      precision    recall  f1-score   support\n",
      "\n",
      "          aggravated       1.00      0.57      0.73        21\n",
      "         future care       0.76      0.78      0.77       241\n",
      "    future wage loss       0.71      0.71      0.71       237\n",
      "             general       0.70      0.52      0.60        87\n",
      "            in trust       0.68      0.34      0.46        38\n",
      "       non pecuniary       0.80      0.84      0.82       343\n",
      "               other       0.86      0.95      0.90      2980\n",
      "      past wage loss       0.70      0.72      0.71       231\n",
      "            punitive       0.82      0.82      0.82        39\n",
      "        reduction by       1.00      0.44      0.61        16\n",
      "        reduction to       0.67      0.23      0.34        26\n",
      "             special       0.72      0.80      0.76       256\n",
      "     sub-future care       0.43      0.08      0.13        78\n",
      "sub-future wage loss       0.57      0.22      0.31        37\n",
      "         sub-general       0.33      0.09      0.14        23\n",
      "        sub-in trust       0.86      0.43      0.57        14\n",
      "   sub-non pecuniary       0.62      0.38      0.47        21\n",
      "  sub-past wage loss       0.08      0.03      0.04        37\n",
      "       sub-reduction       0.00      0.00      0.00         2\n",
      "         sub-special       0.48      0.17      0.25       153\n",
      "           sub-total       0.83      0.33      0.48        15\n",
      "               total       0.67      0.63      0.65       203\n",
      "         total after       0.78      0.28      0.41        25\n",
      "\n",
      "            accuracy                           0.81      5123\n",
      "           macro avg       0.65      0.45      0.51      5123\n",
      "        weighted avg       0.79      0.81      0.79      5123\n",
      "\n",
      "Training final model...\n"
     ]
    }
   ],
   "source": [
    "model, vectorizer, annotated_damages = key_functions.train_classifier('../../data/annotations/final_annotations.txt', LogisticRegression(C = 1, penalty='l2', solver = 'newton-cg', max_iter = 1000, random_state=42), fit_model=True)\n"
   ]
  },
  {
   "cell_type": "markdown",
   "metadata": {},
   "source": [
    "### Remove BOW After - BEST RESULTS"
   ]
  },
  {
   "cell_type": "code",
   "execution_count": 6,
   "metadata": {
    "collapsed": true,
    "jupyter": {
     "outputs_hidden": true
    }
   },
   "outputs": [
    {
     "name": "stdout",
     "output_type": "stream",
     "text": [
      "Didnt find any tags in Mawani v. Pitcairn, [2012] B.C.J. No. 1819\n",
      "Didnt find any tags in Aiken (Guardian ad litem of) v. Van Dyk, [2001] B.C.J. No. 1751\n",
      "Didnt find any tags in Millard v. Singleton, [2015] B.C.J. No. 1234 %\n",
      "Didnt find any tags in Cowie v. Draper, [2010] B.C.J. No. 910935154 %\n",
      "Didnt find any tags in Bajwa v. Deol, [2018] I.L.R. para. G-2792606 %\n",
      "Didnt find any tags in Jackson v. Fisheries and Oceans Canada, [2006] B.C.J. No. 2654\n",
      "Didnt find any tags in Los Angeles Salad Co. v. Canadian Food Inspection Agency, [2009] B.C.J. No. 161\n",
      "Didnt find any tags in Brooks-Martin v. Martin, [2011] B.C.J. No. 243\n",
      "Didnt find any tags in Gibson v. Matthies, [2017] B.C.J. No. 96556 %\n",
      "Didnt find any tags in Gray v. Ellis, [2007] I.L.R. para. M-211801 %\n",
      "Didnt find any tags in Morrow v. Outerbridge, 2009 CHFL para. 15,554\n",
      "Didnt find any tags in Rackstraw (Litigation guardian of) v. Robertson, [2011] B.C.J. No. 1354\n",
      "Didnt find any tags in Ahlwat v. Green, [2014] B.C.J. No. 245267576 %\n",
      "Didnt find any tags in Quade v. Schwartz, [2008] B.C.J. No. 1032117 %\n",
      "Didnt find any tags in McKee (Guardian ad litem of) v. McCoy, [2001] B.C.J. No. 2675\n",
      "Didnt find any tags in GE Capital Canada Equipment Financing Inc. v. Bank of Montreal, [2003] B.C.J. No. 1791\n",
      "Didnt find any tags in Kerr (Litigation Guardian of) v. Creighton, [2007] B.C.J. No. 309\n",
      "Didnt find any tags in Danielson v. Janze, [2017] B.C.J. No. 492275 %\n",
      "Didnt find any tags in Deline v. Vancouver Talmud Torah Assn., [2020] B.C.J. No. 274\n",
      "Didnt find any tags in Francescutto v. Church, [2014] B.C.J. No. 638%\n",
      "Didnt find any tags in Gill v. Canada (Minister of Transport), [2014] B.C.J. No. 2921\n",
      "Didnt find any tags in Gladwell (Litigation guardian of) v. Busletta, [2018] B.C.J. No. 3570\n",
      "Didnt find any tags in Hoessmann Estate v. Aldergrove Credit Union, [2018] B.C.J. No. 303\n",
      "Didnt find any tags in Hung Fook Canada Ltd. v. Silcorp Ltd. (c.o.b. Mac's Convenience Stores), [2000] B.C.J. No. 404\n",
      "Didnt find any tags in Jones Estate v. Insurance Corp. of British Columbia, [2019] B.C.J. No. 2493\n",
      "Didnt find any tags in Jory v. Pereira, [2019] B.C.J. No. 16438737 %\n",
      "Didnt find any tags in Kerr v. Hall, [2013] B.C.J. No. 281009215016 %\n",
      "Didnt find any tags in Larsen v. Larsen, [2004] B.C.J. No. 39970304 %\n",
      "Didnt find any tags in Malhotra v. Waterfront Homes Ltd., [2015] B.C.J. No. 1297\n",
      "Didnt find any tags in Parchment v. British Columbia, [2015] B.C.J. No. 1236\n",
      "Didnt find any tags in Robson v. Chrysler Canada Ltd., [2001] B.C.J. No. 23\n",
      "Didnt find any tags in Royal Bank of Canada v. United Used Auto & Truck Parts Ltd., [2006] B.C.J. No. 1778\n",
      "Didnt find any tags in Stanway v. Wyeth Canada Inc., [2013] B.C.J. No. 411\n",
      "Didnt find any tags in Stewart v. Canada (Attorney General), [2010] B.C.J. No. 2410\n",
      "Didnt find any tags in Strata Plan LMS 2940 v. Quick as a Wink Courier Service Ltd., [2007] B.C.J. No. 1448\n",
      "Didnt find any tags in Strata Plan VR 10 v. EE Management Corp., [2015] B.C.J. No. 590\n",
      "Didnt find any tags in Wakelam v. Johnson & Johnson, [2011] B.C.J. No. 2477\n",
      "Didnt find any tags in West Van Holdings Ltd. v. Economical Mutual Insurance Co., [2017] B.C.J. No. 2670\n",
      "Didnt find any tags in Allen v. Girard, [2002] B.C.J. No. 21486792 %\n",
      "Didnt find any tags in Drage v. Page, [2002] B.C.J. No. 1848242321 %\n",
      "Didnt find any tags in Kahlon (Litigation guardian of) v. Vancouver Coastal Health Authority, 2009 CHFL para. 15,560\n",
      "Didnt find any tags in Kristiansen v. Grewal, [2014] B.C.J. No. 641\n",
      "Didnt find any tags in Low v. Albas, 2013 BREG para. 50,73017406135 %\n",
      "Didnt find any tags in Morris v. Moddejonge, [2004] B.C.J. No. 1786 %\n",
      "Didnt find any tags in Parragh v. Eagle Ridge Hospital and Health Care Centre, [2008] B.C.J. No. 1836\n",
      "Didnt find any tags in Roberts & Baker v. Kemp, [2005] B.C.J. No. 1928\n",
      "Didnt find any tags in Achtymichuk v. Bayer Inc., [2018] B.C.J. No. 879\n",
      "Didnt find any tags in Axa Pacific Insurance Company Ltd. v. Guildford Marquis Towers Ltd., [2000] I.L.R. para. I-3801\n",
      "Didnt find any tags in Bingo City Games Inc. v. British Columbia Lottery Corp., [2003] B.C.J. No. 985\n",
      "Didnt find any tags in Bittante v. Zichy, [2008] I.L.R. para. M-2244\n",
      "Didnt find any tags in Bohmer v. White, [2009] B.C.J. No. 93533788 %\n",
      "Didnt find any tags in F.W. Hearns/Actes - A Joint Venture v. University of British Columbia, [2000] B.C.J. No. 1238\n",
      "Didnt find any tags in Harris v. Sweet, [2005] B.C.J. No. 15209317 %\n",
      "Didnt find any tags in Horvath v. Thring, [2000] B.C.J. No. 131082 %\n",
      "Didnt find any tags in Keen v. Surrey (City), [2004] B.C.J. No. 2161%\n",
      "Didnt find any tags in Manavi v. Cascadia Apartment Rentals Ltd., [2017] B.C.J. No. 218\n",
      "Didnt find any tags in Ogden v. Gulf Log Salvage Co-operative Assn., [2005] B.C.J. No. 61\n",
      "Didnt find any tags in Petersen v. Stadnyk, [2003] B.C.J. No. 3173 %\n",
      "Didnt find any tags in Sharbern Holding Inc. v. Vancouver Airport Centre Ltd., [2005] B.C.J. No. 347\n",
      "Didnt find any tags in Skytrac Systems Ltd. v. Mares, [2009] B.C.J. No. 1641\n",
      "Didnt find any tags in Strata Plan BCS 1589 v. Nacht, [2018] B.C.J. No. 517\n",
      "Didnt find any tags in Thorburn v. British Columbia (Ministry of Public Safety and Solicitor General), [2012] B.C.J. No. 2216\n",
      "Didnt find any tags in Clare v. I.J. Manufacturing and three other actions, 2003 BREG para. 50,351\n",
      "Didnt find any tags in Coglon v. Ergas, [2009] B.C.J. No. 24274607 %\n",
      "Didnt find any tags in Commisso v. Teck Coal Ltd., [2018] B.C.J. No. 6970\n",
      "Didnt find any tags in Crawford v. Nazif, [2019] B.C.J. No. 259836 %\n",
      "Didnt find any tags in Cupo v. Brady, [2013] B.C.J. No. 2086385666 %\n",
      "Didnt find any tags in Davis v. Royal Bank of Canada, [2016] B.C.J. No. 2262\n",
      "Didnt find any tags in Deo v. Vancouver School No. 39, [2014] B.C.J. No. 3083\n",
      "Didnt find any tags in Foote v. Hallen, [2014] B.C.J. No. 57816724 %\n",
      "Didnt find any tags in Gaida Estate v. McLeod, [2013] B.C.J. No. 1423\n",
      "Didnt find any tags in human v. Insurance Corp. of British Columbia, [2019] B.C.J. No. 1547\n",
      "Didnt find any tags in Gichuru v. Purewal, [2019] B.C.J. No. 82918 %\n",
      "Didnt find any tags in Glenn v. Seair Seaplanes Ltd., [2012] B.C.J. No. 2428\n",
      "Didnt find any tags in Halliday v. Teasdale, [2019] B.C.J. No. 1414%\n",
      "Didnt find any tags in Haror v. Rana, [2018] B.C.J. No. 3553713311 %\n",
      "Didnt find any tags in Hixon-Gause v. Roberts, [2003] I.L.R. para. M-1673\n",
      "Didnt find any tags in Holland (Guardian ad litem of) v. Marshall, [2008] B.C.J. No. 2827\n",
      "Didnt find any tags in Horvath v. Thring, [2004] I.L.R. para. M-1713\n",
      "Didnt find any tags in Ho v. Ip, [2019] B.C.J. No. 250383959044369 %\n",
      "Didnt find any tags in I.A.L. (Litigation guardian of) v. Y.C., [2019] B.C.J. No. 1739\n",
      "Didnt find any tags in Insurance Corp. of British Columbia v. Suska, [2009] B.C.J. No. 2474\n",
      "Didnt find any tags in Irving v. Canada (Royal Canadian Mounted Police), [2000] B.C.J. No. 424\n",
      "Didnt find any tags in Jackson v. Backus, [2002] I.L.R. para. G-1496\n",
      "Didnt find any tags in Jennings v. Insurance Corporation of British Columbia, [2002] I.L.R. para. M-1562\n",
      "Didnt find any tags in Jiang v. Grand East Supermarket Inc., [2005] B.C.J. No. 2787\n",
      "Didnt find any tags in John Doe 1 v. University of British Columbia, [2019] B.C.J. No. 808\n",
      "Didnt find any tags in Joy v. Atkinson, [2008] B.C.J. No. 11276484 %\n",
      "Didnt find any tags in J.R.T. Nurseries Inc. v. 0843374 B.C. Ltd., [2016] B.C.J. No. 578\n",
      "Didnt find any tags in Lansdowne v. United Church of Canada, [2001] I.L.R. para. G-1403\n",
      "Didnt find any tags in Lapointe v. John Doe, [2016] B.C.J. No. 223 %\n",
      "Didnt find any tags in Laurier Charters Ltd. v. Eggleton, [2020] B.C.J. No. 342\n",
      "Didnt find any tags in Holt v. Rother, [2013] B.C.J. No. 128603072 %\n",
      "Didnt find any tags in Lindgren (Litigation guardian of) v. Parks Canada Agency, [2018] B.C.J. No. 120\n",
      "Didnt find any tags in Benek v. Pugash, [2004] B.C.J. No. 1931413 %%\n",
      "Didnt find any tags in Healey v. Royal Bank of Canada, [2003] B.C.J. No. 474\n",
      "Didnt find any tags in Insurance Corp. of British Columbia v. Scheelar, [2003] B.C.J. No. 1406\n",
      "Didnt find any tags in Mohebbi v. Canada (Royal Canadian Mounted Police) (North Vancouver), [2015] B.C.J. No. 2475\n",
      "Didnt find any tags in Strata Plan LMS 1564 v. Odyssey Tower Properties Ltd., [2009] B.C.J. No. 1511\n",
      "Didnt find any tags in Brewer v. Sarju, [2008] B.C.J. No. 21821775 %\n",
      "Didnt find any tags in Capilano Fishing Ltd. v. Qualicum Producer (The), [2000] B.C.J. No. 72\n",
      "Didnt find any tags in Intrawest Corp. v. Hart, [2002] B.C.J. No. 2816\n",
      "Didnt find any tags in Gengenbacher v. Smith, [2016] B.C.J. No. 1337\n",
      "Didnt find any tags in Littler v. Underdown, [2000] B.C.J. No. 1367%\n",
      "Didnt find any tags in Wilson v. Potter, [2005] B.C.J. No. 12803 %\n",
      "Didnt find any tags in Hixon (Guardian ad litem of) v. Roberts, [2003] B.C.J. No. 1328\n",
      "Didnt find any tags in Sarai v. Caharel, [2013] B.C.J. No. 2299652 %\n",
      "Didnt find any tags in Seeliger v. Eagle Ridge Hospital, [2006] B.C.J. No. 2189\n",
      "Didnt find any tags in Siegerist (Litigation guardian of) v. Tilton, [2020] B.C.J. No. 594\n",
      "Didnt find any tags in Douez v. Facebook, Inc., [2014] B.C.J. No. 1051\n",
      "Didnt find any tags in Hamilton v. Callaway, [2014] B.C.J. No. 174 %\n",
      "Didnt find any tags in MacMillan, Tucker & Mackay v. Cook, [2009] B.C.J. No. 991\n",
      "Didnt find any tags in Martin v. Lavigne, [2010] B.C.J. No. 162032 %\n",
      "Didnt find any tags in Moore v. College of Physicians and Surgeons of British Columbia, [2013] B.C.J. No. 2504\n",
      "Didnt find any tags in Nolting Estate v. Interior Health Authority (c.o.b. Vernon Jubilee Hospital), [2016] B.C.J. No. 1601\n",
      "Didnt find any tags in Ontario (Pension Board) v. Ball, [2010] B.C.J. No. 1792\n",
      "Didnt find any tags in R. v. Siemens, [2000] B.C.J. No. 230650512 %%\n",
      "Didnt find any tags in Aulakh v. Nahal, [2018] B.C.J. No. 80436177 %\n",
      "Didnt find any tags in Bakker v. Nahanee, [2012] B.C.J. No. 114742 %\n",
      "Didnt find any tags in Faust v. See, [2018] B.C.J. No. 12877167235 %\n",
      "\n",
      "Vectorizing...\n",
      "{'case@Heading': 1, 'summary@Heading': 1, 'start_idx_ratio': 0.04429809982826436, 'range': '100000 - 500000', 'prev word': 'services,', 'next word': 'accommodations', 'prev bigram': 'therapies services,', 'next bigram': 'accommodations renovations,', 'prev trigram': 'equipment, therapies services,', 'next trigram': 'accommodations renovations, $175,000', 'age@Before': 1, '19,@Before': 1, '$950,000@Before': 1, 'equipment,@Before': 1, 'therapies@Before': 1, 'services,@Before': 1, 'accommodations@After': 1, 'renovations,@After': 1, '$175,000@After': 1, 'in-trust@After': 1, 'past@After': 1, 'future@After': 1, 'age': 1, '19,': 1, '$950,000': 1, 'equipment,': 1, 'therapies': 1, 'services,': 1, 'accommodations': 1, 'renovations,': 1, '$175,000': 1, 'in-trust': 1, 'past': 1, 'future': 1}\n",
      "Tag Distribution\n",
      "Counter({'other': 2980, 'non pecuniary': 343, 'special': 256, 'future care': 241, 'future wage loss': 237, 'past wage loss': 231, 'total': 203, 'sub-special': 153, 'general': 87, 'sub-future care': 78, 'punitive': 39, 'in trust': 38, 'sub-future wage loss': 37, 'sub-past wage loss': 37, 'reduction to': 26, 'total after': 25, 'sub-general': 23, 'sub-non pecuniary': 21, 'aggravated': 21, 'reduction by': 16, 'sub-total': 15, 'sub-in trust': 14, 'sub-reduction': 2})\n"
     ]
    },
    {
     "name": "stderr",
     "output_type": "stream",
     "text": [
      "/home/ilana/anaconda3/lib/python3.7/site-packages/sklearn/model_selection/_split.py:667: UserWarning: The least populated class in y has only 2 members, which is less than n_splits=10.\n",
      "  % (min_groups, self.n_splits)), UserWarning)\n",
      "/home/ilana/anaconda3/lib/python3.7/site-packages/sklearn/model_selection/_split.py:667: UserWarning: The least populated class in y has only 2 members, which is less than n_splits=10.\n",
      "  % (min_groups, self.n_splits)), UserWarning)\n"
     ]
    },
    {
     "name": "stdout",
     "output_type": "stream",
     "text": [
      "Cross validation evaluation...\n",
      "                      precision    recall  f1-score   support\n",
      "\n",
      "          aggravated       1.00      0.62      0.76        21\n",
      "         future care       0.74      0.77      0.75       241\n",
      "    future wage loss       0.72      0.71      0.71       237\n",
      "             general       0.73      0.52      0.60        87\n",
      "            in trust       0.62      0.34      0.44        38\n",
      "       non pecuniary       0.79      0.85      0.82       343\n",
      "               other       0.87      0.94      0.90      2980\n",
      "      past wage loss       0.71      0.74      0.72       231\n",
      "            punitive       0.83      0.90      0.86        39\n",
      "        reduction by       0.88      0.44      0.58        16\n",
      "        reduction to       0.75      0.35      0.47        26\n",
      "             special       0.73      0.79      0.76       256\n",
      "     sub-future care       0.53      0.12      0.19        78\n",
      "sub-future wage loss       0.47      0.19      0.27        37\n",
      "         sub-general       0.33      0.09      0.14        23\n",
      "        sub-in trust       0.86      0.43      0.57        14\n",
      "   sub-non pecuniary       0.80      0.38      0.52        21\n",
      "  sub-past wage loss       0.08      0.03      0.04        37\n",
      "       sub-reduction       0.00      0.00      0.00         2\n",
      "         sub-special       0.47      0.21      0.29       153\n",
      "           sub-total       0.86      0.40      0.55        15\n",
      "               total       0.67      0.65      0.66       203\n",
      "         total after       0.78      0.28      0.41        25\n",
      "\n",
      "            accuracy                           0.81      5123\n",
      "           macro avg       0.66      0.47      0.52      5123\n",
      "        weighted avg       0.79      0.81      0.79      5123\n",
      "\n",
      "Training final model...\n"
     ]
    }
   ],
   "source": [
    "model, vectorizer, annotated_damages = key_functions.train_classifier('../../data/annotations/final_annotations.txt', LogisticRegression(C = 1, penalty='l2', solver = 'newton-cg', max_iter = 1000, random_state=42), fit_model=True, context_length=6, min_predict_proba=0.5, high_precision_mode=True)\n"
   ]
  },
  {
   "cell_type": "markdown",
   "metadata": {},
   "source": [
    "#### Save Best Results"
   ]
  },
  {
   "cell_type": "code",
   "execution_count": 7,
   "metadata": {},
   "outputs": [],
   "source": [
    "filename = './annotated_damages_high_precision'\n",
    "pickle.dump(annotated_damages, open(filename, 'wb'))\n",
    "filename = './best_model_ALL.pkl'\n",
    "pickle.dump(model, open(filename, 'wb'))\n",
    "filename = './best_vectorizer_ALL.pkl'\n",
    "pickle.dump(vectorizer, open(filename, 'wb'))"
   ]
  },
  {
   "cell_type": "markdown",
   "metadata": {},
   "source": [
    "### Remove BOW (unordered)\n"
   ]
  },
  {
   "cell_type": "code",
   "execution_count": 2,
   "metadata": {
    "collapsed": true,
    "jupyter": {
     "outputs_hidden": true
    }
   },
   "outputs": [
    {
     "name": "stdout",
     "output_type": "stream",
     "text": [
      "Didnt find any tags in Mawani v. Pitcairn, [2012] B.C.J. No. 1819\n",
      "Didnt find any tags in Aiken (Guardian ad litem of) v. Van Dyk, [2001] B.C.J. No. 1751\n",
      "Didnt find any tags in Millard v. Singleton, [2015] B.C.J. No. 1234 %\n",
      "Didnt find any tags in Cowie v. Draper, [2010] B.C.J. No. 910935154 %\n",
      "Didnt find any tags in Bajwa v. Deol, [2018] I.L.R. para. G-2792606 %\n",
      "Didnt find any tags in Jackson v. Fisheries and Oceans Canada, [2006] B.C.J. No. 2654\n",
      "Didnt find any tags in Los Angeles Salad Co. v. Canadian Food Inspection Agency, [2009] B.C.J. No. 161\n",
      "Didnt find any tags in Brooks-Martin v. Martin, [2011] B.C.J. No. 243\n",
      "Didnt find any tags in Gibson v. Matthies, [2017] B.C.J. No. 96556 %\n",
      "Didnt find any tags in Gray v. Ellis, [2007] I.L.R. para. M-211801 %\n",
      "Didnt find any tags in Morrow v. Outerbridge, 2009 CHFL para. 15,554\n",
      "Didnt find any tags in Rackstraw (Litigation guardian of) v. Robertson, [2011] B.C.J. No. 1354\n",
      "Didnt find any tags inand extracting features... 11.945392491467576 % Ahlwat v. Green, [2014] B.C.J. No. 2452\n",
      "Didnt find any tags in Quade v. Schwartz, [2008] B.C.J. No. 1032117 %\n",
      "Didnt find any tags in McKee (Guardian ad litem of) v. McCoy, [2001] B.C.J. No. 2675\n",
      "Didnt find any tags in GE Capital Canada Equipment Financing Inc. v. Bank of Montreal, [2003] B.C.J. No. 1791\n",
      "Didnt find any tags in Kerr (Litigation Guardian of) v. Creighton, [2007] B.C.J. No. 309\n",
      "Didnt find any tags in Danielson v. Janze, [2017] B.C.J. No. 492275 %\n",
      "Didnt find any tags in Deline v. Vancouver Talmud Torah Assn., [2020] B.C.J. No. 274\n",
      "Didnt find any tags in Francescutto v. Church, [2014] B.C.J. No. 638%\n",
      "Didnt find any tags in Gill v. Canada (Minister of Transport), [2014] B.C.J. No. 2921\n",
      "Didnt find any tags in Gladwell (Litigation guardian of) v. Busletta, [2018] B.C.J. No. 3570\n",
      "Didnt find any tags in Hoessmann Estate v. Aldergrove Credit Union, [2018] B.C.J. No. 303\n",
      "Didnt find any tags in Hung Fook Canada Ltd. v. Silcorp Ltd. (c.o.b. Mac's Convenience Stores), [2000] B.C.J. No. 404\n",
      "Didnt find any tags in Jones Estate v. Insurance Corp. of British Columbia, [2019] B.C.J. No. 2493\n",
      "Didnt find any tags in Jory v. Pereira, [2019] B.C.J. No. 16438737 %\n",
      "Didnt find any tags in Kerr v. Hall, [2013] B.C.J. No. 281009215016 %\n",
      "Didnt find any tags in Larsen v. Larsen, [2004] B.C.J. No. 39970304 %\n",
      "Didnt find any tags in Malhotra v. Waterfront Homes Ltd., [2015] B.C.J. No. 1297\n",
      "Didnt find any tags in Parchment v. British Columbia, [2015] B.C.J. No. 1236\n",
      "Didnt find any tags in Robson v. Chrysler Canada Ltd., [2001] B.C.J. No. 23\n",
      "Didnt find any tags in Royal Bank of Canada v. United Used Auto & Truck Parts Ltd., [2006] B.C.J. No. 1778\n",
      "Didnt find any tags in Stanway v. Wyeth Canada Inc., [2013] B.C.J. No. 411\n",
      "Didnt find any tags in Stewart v. Canada (Attorney General), [2010] B.C.J. No. 2410\n",
      "Didnt find any tags in Strata Plan LMS 2940 v. Quick as a Wink Courier Service Ltd., [2007] B.C.J. No. 1448\n",
      "Didnt find any tags in Strata Plan VR 10 v. EE Management Corp., [2015] B.C.J. No. 590\n",
      "Didnt find any tags in Wakelam v. Johnson & Johnson, [2011] B.C.J. No. 2477\n",
      "Didnt find any tags in West Van Holdings Ltd. v. Economical Mutual Insurance Co., [2017] B.C.J. No. 2670\n",
      "Didnt find any tags in Allen v. Girard, [2002] B.C.J. No. 21486792 %\n",
      "Didnt find any tags in Drage v. Page, [2002] B.C.J. No. 1848242321 %\n",
      "Didnt find any tags in Kahlon (Litigation guardian of) v. Vancouver Coastal Health Authority, 2009 CHFL para. 15,560\n",
      "Didnt find any tags in Kristiansen v. Grewal, [2014] B.C.J. No. 641\n",
      "Didnt find any tags in Low v. Albas, 2013 BREG para. 50,73017406135 %\n",
      "Didnt find any tags in Morris v. Moddejonge, [2004] B.C.J. No. 1786 %\n",
      "Didnt find any tags in Parragh v. Eagle Ridge Hospital and Health Care Centre, [2008] B.C.J. No. 1836\n",
      "Didnt find any tags in Roberts & Baker v. Kemp, [2005] B.C.J. No. 1928\n",
      "Didnt find any tags in Achtymichuk v. Bayer Inc., [2018] B.C.J. No. 879\n",
      "Didnt find any tags in Axa Pacific Insurance Company Ltd. v. Guildford Marquis Towers Ltd., [2000] I.L.R. para. I-3801\n",
      "Didnt find any tags in Bingo City Games Inc. v. British Columbia Lottery Corp., [2003] B.C.J. No. 985\n",
      "Didnt find any tags in Bittante v. Zichy, [2008] I.L.R. para. M-2244\n",
      "Didnt find any tags in Bohmer v. White, [2009] B.C.J. No. 93533788 %\n",
      "Didnt find any tags in F.W. Hearns/Actes - A Joint Venture v. University of British Columbia, [2000] B.C.J. No. 1238\n",
      "Didnt find any tags in Harris v. Sweet, [2005] B.C.J. No. 15209317 %\n",
      "Didnt find any tags in Horvath v. Thring, [2000] B.C.J. No. 131082 %\n",
      "Didnt find any tags in Keen v. Surrey (City), [2004] B.C.J. No. 2161%\n",
      "Didnt find any tags in Manavi v. Cascadia Apartment Rentals Ltd., [2017] B.C.J. No. 218\n",
      "Didnt find any tags in Ogden v. Gulf Log Salvage Co-operative Assn., [2005] B.C.J. No. 61\n",
      "Didnt find any tags in Petersen v. Stadnyk, [2003] B.C.J. No. 3173 %\n",
      "Didnt find any tags in Sharbern Holding Inc. v. Vancouver Airport Centre Ltd., [2005] B.C.J. No. 347\n",
      "Didnt find any tags in Skytrac Systems Ltd. v. Mares, [2009] B.C.J. No. 1641\n",
      "Didnt find any tags in Strata Plan BCS 1589 v. Nacht, [2018] B.C.J. No. 517\n",
      "Didnt find any tags in Thorburn v. British Columbia (Ministry of Public Safety and Solicitor General), [2012] B.C.J. No. 2216\n",
      "Didnt find any tags in Clare v. I.J. Manufacturing and three other actions, 2003 BREG para. 50,351\n",
      "Didnt find any tags in Coglon v. Ergas, [2009] B.C.J. No. 24274607 %\n",
      "Didnt find any tags in Commisso v. Teck Coal Ltd., [2018] B.C.J. No. 6970\n",
      "Didnt find any tags in Crawford v. Nazif, [2019] B.C.J. No. 259836 %\n",
      "Didnt find any tags in Cupo v. Brady, [2013] B.C.J. No. 2086385666 %\n",
      "Didnt find any tags in Davis v. Royal Bank of Canada, [2016] B.C.J. No. 2262\n",
      "Didnt find any tags in Deo v. Vancouver School No. 39, [2014] B.C.J. No. 3083\n",
      "Didnt find any tags in Foote v. Hallen, [2014] B.C.J. No. 5788396 % 69.96587030716724 %\n",
      "Didnt find any tags in Gaida Estate v. McLeod, [2013] B.C.J. No. 1423\n",
      "Didnt find any tags in human v. Insurance Corp. of British Columbia, [2019] B.C.J. No. 1547\n",
      "Didnt find any tags in Gichuru v. Purewal, [2019] B.C.J. No. 82918 %\n",
      "Didnt find any tags in Glenn v. Seair Seaplanes Ltd., [2012] B.C.J. No. 2428\n",
      "Didnt find any tags in Halliday v. Teasdale, [2019] B.C.J. No. 1414%\n",
      "Didnt find any tags in Haror v. Rana, [2018] B.C.J. No. 3553713311 %\n",
      "Didnt find any tags in Hixon-Gause v. Roberts, [2003] I.L.R. para. M-1673\n",
      "Didnt find any tags in Holland (Guardian ad litem of) v. Marshall, [2008] B.C.J. No. 2827\n",
      "Didnt find any tags in Horvath v. Thring, [2004] I.L.R. para. M-1713\n",
      "Didnt find any tags in Ho v. Ip, [2019] B.C.J. No. 250383959044369 %\n",
      "Didnt find any tags in I.A.L. (Litigation guardian of) v. Y.C., [2019] B.C.J. No. 1739\n",
      "Didnt find any tags in Insurance Corp. of British Columbia v. Suska, [2009] B.C.J. No. 2474\n",
      "Didnt find any tags in Irving v. Canada (Royal Canadian Mounted Police), [2000] B.C.J. No. 424\n",
      "Didnt find any tags in Jackson v. Backus, [2002] I.L.R. para. G-1496\n",
      "Didnt find any tags in Jennings v. Insurance Corporation of British Columbia, [2002] I.L.R. para. M-1562\n",
      "Didnt find any tags in Jiang v. Grand East Supermarket Inc., [2005] B.C.J. No. 2787\n",
      "Didnt find any tags in John Doe 1 v. University of British Columbia, [2019] B.C.J. No. 808\n",
      "Didnt find any tags in Joy v. Atkinson, [2008] B.C.J. No. 11276484 %\n",
      "Didnt find any tags in J.R.T. Nurseries Inc. v. 0843374 B.C. Ltd., [2016] B.C.J. No. 578\n",
      "Didnt find any tags in Lansdowne v. United Church of Canada, [2001] I.L.R. para. G-1403\n",
      "Didnt find any tags in Lapointe v. John Doe, [2016] B.C.J. No. 223 %\n",
      "Didnt find any tags in Laurier Charters Ltd. v. Eggleton, [2020] B.C.J. No. 342\n",
      "Didnt find any tags in Holt v. Rother, [2013] B.C.J. No. 128603072 %\n",
      "Didnt find any tags in Lindgren (Litigation guardian of) v. Parks Canada Agency, [2018] B.C.J. No. 120\n",
      "Didnt find any tags in Benek v. Pugash, [2004] B.C.J. No. 1931413 %%\n",
      "Didnt find any tags in Healey v. Royal Bank of Canada, [2003] B.C.J. No. 474\n",
      "Didnt find any tags in Insurance Corp. of British Columbia v. Scheelar, [2003] B.C.J. No. 1406\n",
      "Didnt find any tags in Mohebbi v. Canada (Royal Canadian Mounted Police) (North Vancouver), [2015] B.C.J. No. 2475\n",
      "Didnt find any tags in Strata Plan LMS 1564 v. Odyssey Tower Properties Ltd., [2009] B.C.J. No. 1511\n",
      "Didnt find any tags in Brewer v. Sarju, [2008] B.C.J. No. 21821775 %\n",
      "Didnt find any tags in Capilano Fishing Ltd. v. Qualicum Producer (The), [2000] B.C.J. No. 72\n",
      "Didnt find any tags in Intrawest Corp. v. Hart, [2002] B.C.J. No. 2816\n",
      "Didnt find any tags in Gengenbacher v. Smith, [2016] B.C.J. No. 1337\n",
      "Didnt find any tags in Littler v. Underdown, [2000] B.C.J. No. 1367%\n",
      "Didnt find any tags in Wilson v. Potter, [2005] B.C.J. No. 12803 %\n",
      "Didnt find any tags in Hixon (Guardian ad litem of) v. Roberts, [2003] B.C.J. No. 1328\n",
      "Didnt find any tags in Sarai v. Caharel, [2013] B.C.J. No. 2299652 %\n",
      "Didnt find any tags in Seeliger v. Eagle Ridge Hospital, [2006] B.C.J. No. 2189\n",
      "Didnt find any tags in Siegerist (Litigation guardian of) v. Tilton, [2020] B.C.J. No. 594\n",
      "Didnt find any tags in Douez v. Facebook, Inc., [2014] B.C.J. No. 1051\n",
      "Didnt find any tags in Hamilton v. Callaway, [2014] B.C.J. No. 174 %\n",
      "Didnt find any tags in MacMillan, Tucker & Mackay v. Cook, [2009] B.C.J. No. 991\n",
      "Didnt find any tags in Martin v. Lavigne, [2010] B.C.J. No. 162032 %\n",
      "Didnt find any tags in Moore v. College of Physicians and Surgeons of British Columbia, [2013] B.C.J. No. 2504\n",
      "Didnt find any tags in Nolting Estate v. Interior Health Authority (c.o.b. Vernon Jubilee Hospital), [2016] B.C.J. No. 1601\n",
      "Didnt find any tags in Ontario (Pension Board) v. Ball, [2010] B.C.J. No. 1792\n",
      "Didnt find any tags in R. v. Siemens, [2000] B.C.J. No. 230650512 %%\n",
      "Didnt find any tags in Aulakh v. Nahal, [2018] B.C.J. No. 80436177 %\n",
      "Didnt find any tags in Bakker v. Nahanee, [2012] B.C.J. No. 114742 %\n",
      "Didnt find any tags in Faust v. See, [2018] B.C.J. No. 12877167235 %\n",
      "\n",
      "Vectorizing...\n",
      "Tag Distribution\n",
      "Counter({'other': 2980, 'non pecuniary': 343, 'special': 256, 'future care': 241, 'future wage loss': 237, 'past wage loss': 231, 'total': 203, 'sub-special': 153, 'general': 87, 'sub-future care': 78, 'punitive': 39, 'in trust': 38, 'sub-future wage loss': 37, 'sub-past wage loss': 37, 'reduction to': 26, 'total after': 25, 'sub-general': 23, 'sub-non pecuniary': 21, 'aggravated': 21, 'reduction by': 16, 'sub-total': 15, 'sub-in trust': 14, 'sub-reduction': 2})\n"
     ]
    },
    {
     "name": "stderr",
     "output_type": "stream",
     "text": [
      "/home/ilana/anaconda3/lib/python3.7/site-packages/sklearn/model_selection/_split.py:667: UserWarning: The least populated class in y has only 2 members, which is less than n_splits=10.\n",
      "  % (min_groups, self.n_splits)), UserWarning)\n",
      "/home/ilana/anaconda3/lib/python3.7/site-packages/sklearn/model_selection/_split.py:667: UserWarning: The least populated class in y has only 2 members, which is less than n_splits=10.\n",
      "  % (min_groups, self.n_splits)), UserWarning)\n"
     ]
    },
    {
     "name": "stdout",
     "output_type": "stream",
     "text": [
      "Cross validation evaluation...\n",
      "                      precision    recall  f1-score   support\n",
      "\n",
      "          aggravated       0.92      0.57      0.71        21\n",
      "         future care       0.76      0.78      0.77       241\n",
      "    future wage loss       0.73      0.71      0.72       237\n",
      "             general       0.72      0.48      0.58        87\n",
      "            in trust       0.71      0.26      0.38        38\n",
      "       non pecuniary       0.79      0.84      0.81       343\n",
      "               other       0.85      0.95      0.90      2980\n",
      "      past wage loss       0.73      0.73      0.73       231\n",
      "            punitive       0.92      0.85      0.88        39\n",
      "        reduction by       1.00      0.50      0.67        16\n",
      "        reduction to       1.00      0.31      0.47        26\n",
      "             special       0.72      0.79      0.75       256\n",
      "     sub-future care       0.33      0.06      0.11        78\n",
      "sub-future wage loss       0.58      0.19      0.29        37\n",
      "         sub-general       0.33      0.09      0.14        23\n",
      "        sub-in trust       0.86      0.43      0.57        14\n",
      "   sub-non pecuniary       0.89      0.38      0.53        21\n",
      "  sub-past wage loss       0.14      0.05      0.08        37\n",
      "       sub-reduction       0.00      0.00      0.00         2\n",
      "         sub-special       0.44      0.15      0.22       153\n",
      "           sub-total       0.75      0.20      0.32        15\n",
      "               total       0.67      0.64      0.65       203\n",
      "         total after       0.86      0.24      0.38        25\n",
      "\n",
      "            accuracy                           0.81      5123\n",
      "           macro avg       0.68      0.44      0.51      5123\n",
      "        weighted avg       0.79      0.81      0.79      5123\n",
      "\n",
      "Training final model...\n"
     ]
    },
    {
     "name": "stderr",
     "output_type": "stream",
     "text": [
      "/home/ilana/anaconda3/lib/python3.7/site-packages/sklearn/metrics/_classification.py:1272: UndefinedMetricWarning: Precision and F-score are ill-defined and being set to 0.0 in labels with no predicted samples. Use `zero_division` parameter to control this behavior.\n",
      "  _warn_prf(average, modifier, msg_start, len(result))\n"
     ]
    }
   ],
   "source": [
    "model, vectorizer, annotated_damages = key_functions.train_classifier('../../data/annotations/final_annotations.txt', LogisticRegression(C = 1, penalty='l2', solver = 'newton-cg', max_iter = 1000, random_state=42), fit_model=True)\n"
   ]
  },
  {
   "cell_type": "markdown",
   "metadata": {},
   "source": [
    "### Do not use Headers "
   ]
  },
  {
   "cell_type": "code",
   "execution_count": 2,
   "metadata": {
    "collapsed": true,
    "jupyter": {
     "outputs_hidden": true
    }
   },
   "outputs": [
    {
     "name": "stdout",
     "output_type": "stream",
     "text": [
      "Didnt find any tags in Mawani v. Pitcairn, [2012] B.C.J. No. 1819\n",
      "Didnt find any tags in Aiken (Guardian ad litem of) v. Van Dyk, [2001] B.C.J. No. 1751\n",
      "Didnt find any tags in Millard v. Singleton, [2015] B.C.J. No. 1234 %\n",
      "Didnt find any tags in Cowie v. Draper, [2010] B.C.J. No. 910935154 %\n",
      "Didnt find any tags in Bajwa v. Deol, [2018] I.L.R. para. G-2792606 %\n",
      "Didnt find any tags in Jackson v. Fisheries and Oceans Canada, [2006] B.C.J. No. 2654\n",
      "Didnt find any tags in Los Angeles Salad Co. v. Canadian Food Inspection Agency, [2009] B.C.J. No. 161\n",
      "Didnt find any tags in Brooks-Martin v. Martin, [2011] B.C.J. No. 243\n",
      "Didnt find any tags in Gibson v. Matthies, [2017] B.C.J. No. 96556 %\n",
      "Didnt find any tags in Gray v. Ellis, [2007] I.L.R. para. M-211801 %\n",
      "Didnt find any tags in Morrow v. Outerbridge, 2009 CHFL para. 15,554\n",
      "Didnt find any tags in Rackstraw (Litigation guardian of) v. Robertson, [2011] B.C.J. No. 1354\n",
      "Didnt find any tags in Ahlwat v. Green, [2014] B.C.J. No. 245267576 %\n",
      "Didnt find any tags in Quade v. Schwartz, [2008] B.C.J. No. 1032117 %\n",
      "Didnt find any tags in McKee (Guardian ad litem of) v. McCoy, [2001] B.C.J. No. 2675\n",
      "Didnt find any tags in GE Capital Canada Equipment Financing Inc. v. Bank of Montreal, [2003] B.C.J. No. 1791\n",
      "Didnt find any tags in Kerr (Litigation Guardian of) v. Creighton, [2007] B.C.J. No. 309\n",
      "Didnt find any tags in Danielson v. Janze, [2017] B.C.J. No. 492275 %\n",
      "Didnt find any tags in Deline v. Vancouver Talmud Torah Assn., [2020] B.C.J. No. 274\n",
      "Didnt find any tags in Francescutto v. Church, [2014] B.C.J. No. 638%\n",
      "Didnt find any tags in Gill v. Canada (Minister of Transport), [2014] B.C.J. No. 2921\n",
      "Didnt find any tags in Gladwell (Litigation guardian of) v. Busletta, [2018] B.C.J. No. 3570\n",
      "Didnt find any tags in Hoessmann Estate v. Aldergrove Credit Union, [2018] B.C.J. No. 303\n",
      "Didnt find any tags in Hung Fook Canada Ltd. v. Silcorp Ltd. (c.o.b. Mac's Convenience Stores), [2000] B.C.J. No. 404\n",
      "Didnt find any tags in Jones Estate v. Insurance Corp. of British Columbia, [2019] B.C.J. No. 2493\n",
      "Didnt find any tags in Jory v. Pereira, [2019] B.C.J. No. 16438737 %\n",
      "Didnt find any tags in Kerr v. Hall, [2013] B.C.J. No. 281009215016 %\n",
      "Didnt find any tags in Larsen v. Larsen, [2004] B.C.J. No. 39970304 %\n",
      "Didnt find any tags in Malhotra v. Waterfront Homes Ltd., [2015] B.C.J. No. 1297\n",
      "Didnt find any tags in Parchment v. British Columbia, [2015] B.C.J. No. 1236\n",
      "Didnt find any tags in Robson v. Chrysler Canada Ltd., [2001] B.C.J. No. 23\n",
      "Didnt find any tags in Royal Bank of Canada v. United Used Auto & Truck Parts Ltd., [2006] B.C.J. No. 1778\n",
      "Didnt find any tags in Stanway v. Wyeth Canada Inc., [2013] B.C.J. No. 411\n",
      "Didnt find any tags in Stewart v. Canada (Attorney General), [2010] B.C.J. No. 2410\n",
      "Didnt find any tags in Strata Plan LMS 2940 v. Quick as a Wink Courier Service Ltd., [2007] B.C.J. No. 1448\n",
      "Didnt find any tags in Strata Plan VR 10 v. EE Management Corp., [2015] B.C.J. No. 590\n",
      "Didnt find any tags in Wakelam v. Johnson & Johnson, [2011] B.C.J. No. 2477\n",
      "Didnt find any tags in West Van Holdings Ltd. v. Economical Mutual Insurance Co., [2017] B.C.J. No. 2670\n",
      "Didnt find any tags in Allen v. Girard, [2002] B.C.J. No. 21486792 %\n",
      "Didnt find any tags in Drage v. Page, [2002] B.C.J. No. 1848242321 %\n",
      "Didnt find any tags in Kahlon (Litigation guardian of) v. Vancouver Coastal Health Authority, 2009 CHFL para. 15,560\n",
      "Didnt find any tags in Kristiansen v. Grewal, [2014] B.C.J. No. 641\n",
      "Didnt find any tags in Low v. Albas, 2013 BREG para. 50,73017406135 %\n",
      "Didnt find any tags in Morris v. Moddejonge, [2004] B.C.J. No. 1786 %\n",
      "Didnt find any tags in Parragh v. Eagle Ridge Hospital and Health Care Centre, [2008] B.C.J. No. 1836\n",
      "Didnt find any tags in Roberts & Baker v. Kemp, [2005] B.C.J. No. 1928\n",
      "Didnt find any tags in Achtymichuk v. Bayer Inc., [2018] B.C.J. No. 879\n",
      "Didnt find any tags in Axa Pacific Insurance Company Ltd. v. Guildford Marquis Towers Ltd., [2000] I.L.R. para. I-3801\n",
      "Didnt find any tags in Bingo City Games Inc. v. British Columbia Lottery Corp., [2003] B.C.J. No. 985\n",
      "Didnt find any tags in Bittante v. Zichy, [2008] I.L.R. para. M-2244\n",
      "Didnt find any tags in Bohmer v. White, [2009] B.C.J. No. 93533788 %\n",
      "Didnt find any tags in F.W. Hearns/Actes - A Joint Venture v. University of British Columbia, [2000] B.C.J. No. 1238\n",
      "Didnt find any tags in Harris v. Sweet, [2005] B.C.J. No. 15209317 %\n",
      "Didnt find any tags in Horvath v. Thring, [2000] B.C.J. No. 131082 %\n",
      "Didnt find any tags in Keen v. Surrey (City), [2004] B.C.J. No. 2161%\n",
      "Didnt find any tags in Manavi v. Cascadia Apartment Rentals Ltd., [2017] B.C.J. No. 218\n",
      "Didnt find any tags in Ogden v. Gulf Log Salvage Co-operative Assn., [2005] B.C.J. No. 61\n",
      "Didnt find any tags in Petersen v. Stadnyk, [2003] B.C.J. No. 3173 %\n",
      "Didnt find any tags in Sharbern Holding Inc. v. Vancouver Airport Centre Ltd., [2005] B.C.J. No. 347\n",
      "Didnt find any tags in Skytrac Systems Ltd. v. Mares, [2009] B.C.J. No. 1641\n",
      "Didnt find any tags in Strata Plan BCS 1589 v. Nacht, [2018] B.C.J. No. 517\n",
      "Didnt find any tags in Thorburn v. British Columbia (Ministry of Public Safety and Solicitor General), [2012] B.C.J. No. 2216\n",
      "Didnt find any tags in Clare v. I.J. Manufacturing and three other actions, 2003 BREG para. 50,351\n",
      "Didnt find any tags in Coglon v. Ergas, [2009] B.C.J. No. 24274607 %\n",
      "Didnt find any tags in Commisso v. Teck Coal Ltd., [2018] B.C.J. No. 6970\n",
      "Didnt find any tags in Crawford v. Nazif, [2019] B.C.J. No. 259836 %\n",
      "Didnt find any tags in Cupo v. Brady, [2013] B.C.J. No. 2086385666 %\n",
      "Didnt find any tags in Davis v. Royal Bank of Canada, [2016] B.C.J. No. 2262\n",
      "Didnt find any tags in Deo v. Vancouver School No. 39, [2014] B.C.J. No. 3083\n",
      "Didnt find any tags in Foote v. Hallen, [2014] B.C.J. No. 57816724 %\n",
      "Didnt find any tags in Gaida Estate v. McLeod, [2013] B.C.J. No. 1423\n",
      "Didnt find any tags in human v. Insurance Corp. of British Columbia, [2019] B.C.J. No. 1547\n",
      "Didnt find any tags in Gichuru v. Purewal, [2019] B.C.J. No. 82918 %\n",
      "Didnt find any tags in Glenn v. Seair Seaplanes Ltd., [2012] B.C.J. No. 2428\n",
      "Didnt find any tags in Halliday v. Teasdale, [2019] B.C.J. No. 1414%\n",
      "Didnt find any tags in Haror v. Rana, [2018] B.C.J. No. 3553713311 %\n",
      "Didnt find any tags in Hixon-Gause v. Roberts, [2003] I.L.R. para. M-1673\n",
      "Didnt find any tags in Holland (Guardian ad litem of) v. Marshall, [2008] B.C.J. No. 2827\n",
      "Didnt find any tags in Horvath v. Thring, [2004] I.L.R. para. M-1713\n",
      "Didnt find any tags in Ho v. Ip, [2019] B.C.J. No. 250383959044369 %\n",
      "Didnt find any tags in I.A.L. (Litigation guardian of) v. Y.C., [2019] B.C.J. No. 1739\n",
      "Didnt find any tags in Insurance Corp. of British Columbia v. Suska, [2009] B.C.J. No. 2474\n",
      "Didnt find any tags in Irving v. Canada (Royal Canadian Mounted Police), [2000] B.C.J. No. 424\n",
      "Didnt find any tags in Jackson v. Backus, [2002] I.L.R. para. G-1496\n",
      "Didnt find any tags in Jennings v. Insurance Corporation of British Columbia, [2002] I.L.R. para. M-1562\n",
      "Didnt find any tags in Jiang v. Grand East Supermarket Inc., [2005] B.C.J. No. 2787\n",
      "Didnt find any tags in John Doe 1 v. University of British Columbia, [2019] B.C.J. No. 808\n",
      "Didnt find any tags in Joy v. Atkinson, [2008] B.C.J. No. 11276484 %\n",
      "Didnt find any tags in J.R.T. Nurseries Inc. v. 0843374 B.C. Ltd., [2016] B.C.J. No. 578\n",
      "Didnt find any tags in Lansdowne v. United Church of Canada, [2001] I.L.R. para. G-1403\n",
      "Didnt find any tags in Lapointe v. John Doe, [2016] B.C.J. No. 223 %\n",
      "Didnt find any tags in Laurier Charters Ltd. v. Eggleton, [2020] B.C.J. No. 342\n",
      "Didnt find any tags in Holt v. Rother, [2013] B.C.J. No. 128603072 %\n",
      "Didnt find any tags in Lindgren (Litigation guardian of) v. Parks Canada Agency, [2018] B.C.J. No. 120\n",
      "Didnt find any tags in Benek v. Pugash, [2004] B.C.J. No. 1931413 %%\n",
      "Didnt find any tags in Healey v. Royal Bank of Canada, [2003] B.C.J. No. 474\n",
      "Didnt find any tags in Insurance Corp. of British Columbia v. Scheelar, [2003] B.C.J. No. 1406\n",
      "Didnt find any tags in Mohebbi v. Canada (Royal Canadian Mounted Police) (North Vancouver), [2015] B.C.J. No. 2475\n",
      "Didnt find any tags in Strata Plan LMS 1564 v. Odyssey Tower Properties Ltd., [2009] B.C.J. No. 1511\n",
      "Didnt find any tags in Brewer v. Sarju, [2008] B.C.J. No. 21821775 %\n",
      "Didnt find any tags in Capilano Fishing Ltd. v. Qualicum Producer (The), [2000] B.C.J. No. 72\n",
      "Didnt find any tags in Intrawest Corp. v. Hart, [2002] B.C.J. No. 2816\n",
      "Didnt find any tags in Gengenbacher v. Smith, [2016] B.C.J. No. 1337\n",
      "Didnt find any tags in Littler v. Underdown, [2000] B.C.J. No. 1367%\n",
      "Didnt find any tags in Wilson v. Potter, [2005] B.C.J. No. 12803 %\n",
      "Didnt find any tags in Hixon (Guardian ad litem of) v. Roberts, [2003] B.C.J. No. 1328\n",
      "Didnt find any tags in Sarai v. Caharel, [2013] B.C.J. No. 2299652 %\n",
      "Didnt find any tags in Seeliger v. Eagle Ridge Hospital, [2006] B.C.J. No. 2189\n",
      "Didnt find any tags in Siegerist (Litigation guardian of) v. Tilton, [2020] B.C.J. No. 594\n",
      "Didnt find any tags in Douez v. Facebook, Inc., [2014] B.C.J. No. 1051\n",
      "Didnt find any tags in Hamilton v. Callaway, [2014] B.C.J. No. 174 %\n",
      "Didnt find any tags in MacMillan, Tucker & Mackay v. Cook, [2009] B.C.J. No. 991\n",
      "Didnt find any tags in Martin v. Lavigne, [2010] B.C.J. No. 162032 %\n",
      "Didnt find any tags in Moore v. College of Physicians and Surgeons of British Columbia, [2013] B.C.J. No. 2504\n",
      "Didnt find any tags in Nolting Estate v. Interior Health Authority (c.o.b. Vernon Jubilee Hospital), [2016] B.C.J. No. 1601\n",
      "Didnt find any tags in Ontario (Pension Board) v. Ball, [2010] B.C.J. No. 1792\n",
      "Didnt find any tags in R. v. Siemens, [2000] B.C.J. No. 230650512 %%\n",
      "Didnt find any tags in Aulakh v. Nahal, [2018] B.C.J. No. 80436177 %\n",
      "Didnt find any tags in Bakker v. Nahanee, [2012] B.C.J. No. 114742 %\n",
      "Didnt find any tags in Faust v. See, [2018] B.C.J. No. 12877167235 %\n",
      "\n",
      "Vectorizing...\n",
      "Tag Distribution\n",
      "Counter({'other': 2980, 'non pecuniary': 343, 'special': 256, 'future care': 241, 'future wage loss': 237, 'past wage loss': 231, 'total': 203, 'sub-special': 153, 'general': 87, 'sub-future care': 78, 'punitive': 39, 'in trust': 38, 'sub-future wage loss': 37, 'sub-past wage loss': 37, 'reduction to': 26, 'total after': 25, 'sub-general': 23, 'sub-non pecuniary': 21, 'aggravated': 21, 'reduction by': 16, 'sub-total': 15, 'sub-in trust': 14, 'sub-reduction': 2})\n"
     ]
    },
    {
     "name": "stderr",
     "output_type": "stream",
     "text": [
      "/home/ilana/anaconda3/lib/python3.7/site-packages/sklearn/model_selection/_split.py:667: UserWarning: The least populated class in y has only 2 members, which is less than n_splits=10.\n",
      "  % (min_groups, self.n_splits)), UserWarning)\n",
      "/home/ilana/anaconda3/lib/python3.7/site-packages/sklearn/model_selection/_split.py:667: UserWarning: The least populated class in y has only 2 members, which is less than n_splits=10.\n",
      "  % (min_groups, self.n_splits)), UserWarning)\n"
     ]
    },
    {
     "name": "stdout",
     "output_type": "stream",
     "text": [
      "Cross validation evaluation...\n",
      "                      precision    recall  f1-score   support\n",
      "\n",
      "          aggravated       0.92      0.52      0.67        21\n",
      "         future care       0.78      0.77      0.77       241\n",
      "    future wage loss       0.73      0.69      0.71       237\n",
      "             general       0.65      0.47      0.55        87\n",
      "            in trust       0.56      0.24      0.33        38\n",
      "       non pecuniary       0.76      0.83      0.79       343\n",
      "               other       0.85      0.94      0.89      2980\n",
      "      past wage loss       0.71      0.68      0.69       231\n",
      "            punitive       0.85      0.85      0.85        39\n",
      "        reduction by       0.86      0.38      0.52        16\n",
      "        reduction to       0.90      0.35      0.50        26\n",
      "             special       0.73      0.78      0.76       256\n",
      "     sub-future care       0.31      0.05      0.09        78\n",
      "sub-future wage loss       0.62      0.22      0.32        37\n",
      "         sub-general       0.43      0.13      0.20        23\n",
      "        sub-in trust       0.83      0.36      0.50        14\n",
      "   sub-non pecuniary       0.60      0.43      0.50        21\n",
      "  sub-past wage loss       0.00      0.00      0.00        37\n",
      "       sub-reduction       0.00      0.00      0.00         2\n",
      "         sub-special       0.41      0.18      0.25       153\n",
      "           sub-total       0.75      0.20      0.32        15\n",
      "               total       0.72      0.61      0.66       203\n",
      "         total after       0.86      0.24      0.38        25\n",
      "\n",
      "            accuracy                           0.80      5123\n",
      "           macro avg       0.64      0.43      0.49      5123\n",
      "        weighted avg       0.78      0.80      0.78      5123\n",
      "\n",
      "Training final model...\n"
     ]
    },
    {
     "name": "stderr",
     "output_type": "stream",
     "text": [
      "/home/ilana/anaconda3/lib/python3.7/site-packages/sklearn/metrics/_classification.py:1272: UndefinedMetricWarning: Precision and F-score are ill-defined and being set to 0.0 in labels with no predicted samples. Use `zero_division` parameter to control this behavior.\n",
      "  _warn_prf(average, modifier, msg_start, len(result))\n"
     ]
    }
   ],
   "source": [
    "model, vectorizer, annotated_damages = key_functions.train_classifier('../../data/annotations/final_annotations.txt', LogisticRegression(C = 1, penalty='l2', solver = 'newton-cg', max_iter = 1000, random_state=42), fit_model=True)\n"
   ]
  },
  {
   "cell_type": "markdown",
   "metadata": {},
   "source": [
    "### Remove all 'after' features"
   ]
  },
  {
   "cell_type": "code",
   "execution_count": 2,
   "metadata": {
    "collapsed": true,
    "jupyter": {
     "outputs_hidden": true
    }
   },
   "outputs": [
    {
     "name": "stdout",
     "output_type": "stream",
     "text": [
      "Didnt find any tags in Mawani v. Pitcairn, [2012] B.C.J. No. 1819\n",
      "Didnt find any tags in Aiken (Guardian ad litem of) v. Van Dyk, [2001] B.C.J. No. 1751\n",
      "Didnt find any tags in Millard v. Singleton, [2015] B.C.J. No. 1234 %\n",
      "Didnt find any tags in Cowie v. Draper, [2010] B.C.J. No. 910935154 %\n",
      "Didnt find any tags in Bajwa v. Deol, [2018] I.L.R. para. G-2792606 %\n",
      "Didnt find any tags in Jackson v. Fisheries and Oceans Canada, [2006] B.C.J. No. 2654\n",
      "Didnt find any tags in Los Angeles Salad Co. v. Canadian Food Inspection Agency, [2009] B.C.J. No. 161\n",
      "Didnt find any tags in Brooks-Martin v. Martin, [2011] B.C.J. No. 243\n",
      "Didnt find any tags in Gibson v. Matthies, [2017] B.C.J. No. 96556 %\n",
      "Didnt find any tags in Gray v. Ellis, [2007] I.L.R. para. M-211801 %\n",
      "Didnt find any tags in Morrow v. Outerbridge, 2009 CHFL para. 15,554\n",
      "Didnt find any tags in Rackstraw (Litigation guardian of) v. Robertson, [2011] B.C.J. No. 1354\n",
      "Didnt find any tags in Ahlwat v. Green, [2014] B.C.J. No. 245267576 %\n",
      "Didnt find any tags in Quade v. Schwartz, [2008] B.C.J. No. 1032117 %\n",
      "Didnt find any tags in McKee (Guardian ad litem of) v. McCoy, [2001] B.C.J. No. 2675\n",
      "Didnt find any tags in GE Capital Canada Equipment Financing Inc. v. Bank of Montreal, [2003] B.C.J. No. 1791\n",
      "Didnt find any tags in Kerr (Litigation Guardian of) v. Creighton, [2007] B.C.J. No. 309\n",
      "Didnt find any tags in Danielson v. Janze, [2017] B.C.J. No. 492275 %\n",
      "Didnt find any tags in Deline v. Vancouver Talmud Torah Assn., [2020] B.C.J. No. 274\n",
      "Didnt find any tags in Francescutto v. Church, [2014] B.C.J. No. 638%\n",
      "Didnt find any tags in Gill v. Canada (Minister of Transport), [2014] B.C.J. No. 2921\n",
      "Didnt find any tags in Gladwell (Litigation guardian of) v. Busletta, [2018] B.C.J. No. 3570\n",
      "Didnt find any tags in Hoessmann Estate v. Aldergrove Credit Union, [2018] B.C.J. No. 303\n",
      "Didnt find any tags in Hung Fook Canada Ltd. v. Silcorp Ltd. (c.o.b. Mac's Convenience Stores), [2000] B.C.J. No. 404\n",
      "Didnt find any tags in Jones Estate v. Insurance Corp. of British Columbia, [2019] B.C.J. No. 2493\n",
      "Didnt find any tags in Jory v. Pereira, [2019] B.C.J. No. 16438737 %\n",
      "Didnt find any tags in Kerr v. Hall, [2013] B.C.J. No. 281009215016 %\n",
      "Didnt find any tags in Larsen v. Larsen, [2004] B.C.J. No. 39970304 %\n",
      "Didnt find any tags in Malhotra v. Waterfront Homes Ltd., [2015] B.C.J. No. 1297\n",
      "Didnt find any tags in Parchment v. British Columbia, [2015] B.C.J. No. 1236\n",
      "Didnt find any tags in Robson v. Chrysler Canada Ltd., [2001] B.C.J. No. 23\n",
      "Didnt find any tags in Royal Bank of Canada v. United Used Auto & Truck Parts Ltd., [2006] B.C.J. No. 1778\n",
      "Didnt find any tags in Stanway v. Wyeth Canada Inc., [2013] B.C.J. No. 411\n",
      "Didnt find any tags in Stewart v. Canada (Attorney General), [2010] B.C.J. No. 2410\n",
      "Didnt find any tags in Strata Plan LMS 2940 v. Quick as a Wink Courier Service Ltd., [2007] B.C.J. No. 1448\n",
      "Didnt find any tags in Strata Plan VR 10 v. EE Management Corp., [2015] B.C.J. No. 590\n",
      "Didnt find any tags in Wakelam v. Johnson & Johnson, [2011] B.C.J. No. 2477\n",
      "Didnt find any tags in West Van Holdings Ltd. v. Economical Mutual Insurance Co., [2017] B.C.J. No. 2670\n",
      "Didnt find any tags in Allen v. Girard, [2002] B.C.J. No. 21486792 %\n",
      "Didnt find any tags in Drage v. Page, [2002] B.C.J. No. 1848242321 %\n",
      "Didnt find any tags in Kahlon (Litigation guardian of) v. Vancouver Coastal Health Authority, 2009 CHFL para. 15,560\n",
      "Didnt find any tags in Kristiansen v. Grewal, [2014] B.C.J. No. 641\n",
      "Didnt find any tags in Low v. Albas, 2013 BREG para. 50,73017406135 %\n",
      "Didnt find any tags in Morris v. Moddejonge, [2004] B.C.J. No. 1786 %\n",
      "Didnt find any tags in Parragh v. Eagle Ridge Hospital and Health Care Centre, [2008] B.C.J. No. 1836\n",
      "Didnt find any tags in Roberts & Baker v. Kemp, [2005] B.C.J. No. 1928\n",
      "Didnt find any tags in Achtymichuk v. Bayer Inc., [2018] B.C.J. No. 879\n",
      "Didnt find any tags in Axa Pacific Insurance Company Ltd. v. Guildford Marquis Towers Ltd., [2000] I.L.R. para. I-3801\n",
      "Didnt find any tags in Bingo City Games Inc. v. British Columbia Lottery Corp., [2003] B.C.J. No. 985\n",
      "Didnt find any tags in Bittante v. Zichy, [2008] I.L.R. para. M-2244\n",
      "Didnt find any tags in Bohmer v. White, [2009] B.C.J. No. 93533788 %\n",
      "Didnt find any tags in F.W. Hearns/Actes - A Joint Venture v. University of British Columbia, [2000] B.C.J. No. 1238\n",
      "Didnt find any tags in Harris v. Sweet, [2005] B.C.J. No. 15209317 %\n",
      "Didnt find any tags in Horvath v. Thring, [2000] B.C.J. No. 131082 %\n",
      "Didnt find any tags in Keen v. Surrey (City), [2004] B.C.J. No. 2161%\n",
      "Didnt find any tags in Manavi v. Cascadia Apartment Rentals Ltd., [2017] B.C.J. No. 218\n",
      "Didnt find any tags in Ogden v. Gulf Log Salvage Co-operative Assn., [2005] B.C.J. No. 61\n",
      "Didnt find any tags in Petersen v. Stadnyk, [2003] B.C.J. No. 3173 %\n",
      "Didnt find any tags in Sharbern Holding Inc. v. Vancouver Airport Centre Ltd., [2005] B.C.J. No. 347\n",
      "Didnt find any tags in Skytrac Systems Ltd. v. Mares, [2009] B.C.J. No. 1641\n",
      "Didnt find any tags in Strata Plan BCS 1589 v. Nacht, [2018] B.C.J. No. 517\n",
      "Didnt find any tags in Thorburn v. British Columbia (Ministry of Public Safety and Solicitor General), [2012] B.C.J. No. 2216\n",
      "Didnt find any tags in Clare v. I.J. Manufacturing and three other actions, 2003 BREG para. 50,351\n",
      "Didnt find any tags in Coglon v. Ergas, [2009] B.C.J. No. 24274607 %\n",
      "Didnt find any tags in Commisso v. Teck Coal Ltd., [2018] B.C.J. No. 6970\n",
      "Didnt find any tags in Crawford v. Nazif, [2019] B.C.J. No. 259836 %\n",
      "Didnt find any tags in Cupo v. Brady, [2013] B.C.J. No. 2086385666 %\n",
      "Didnt find any tags in Davis v. Royal Bank of Canada, [2016] B.C.J. No. 2262\n",
      "Didnt find any tags in Deo v. Vancouver School No. 39, [2014] B.C.J. No. 3083\n",
      "Didnt find any tags in Foote v. Hallen, [2014] B.C.J. No. 57816724 %\n",
      "Didnt find any tags in Gaida Estate v. McLeod, [2013] B.C.J. No. 1423\n",
      "Didnt find any tags in human v. Insurance Corp. of British Columbia, [2019] B.C.J. No. 1547\n",
      "Didnt find any tags in Gichuru v. Purewal, [2019] B.C.J. No. 82918 %\n",
      "Didnt find any tags in Glenn v. Seair Seaplanes Ltd., [2012] B.C.J. No. 2428\n",
      "Didnt find any tags in Halliday v. Teasdale, [2019] B.C.J. No. 1414%\n",
      "Didnt find any tags in Haror v. Rana, [2018] B.C.J. No. 3553713311 %\n",
      "Didnt find any tags in Hixon-Gause v. Roberts, [2003] I.L.R. para. M-1673\n",
      "Didnt find any tags in Holland (Guardian ad litem of) v. Marshall, [2008] B.C.J. No. 2827\n",
      "Didnt find any tags in Horvath v. Thring, [2004] I.L.R. para. M-1713\n",
      "Didnt find any tags in Ho v. Ip, [2019] B.C.J. No. 250383959044369 %\n",
      "Didnt find any tags in I.A.L. (Litigation guardian of) v. Y.C., [2019] B.C.J. No. 1739\n",
      "Didnt find any tags in Insurance Corp. of British Columbia v. Suska, [2009] B.C.J. No. 2474\n",
      "Didnt find any tags in Irving v. Canada (Royal Canadian Mounted Police), [2000] B.C.J. No. 424\n",
      "Didnt find any tags in Jackson v. Backus, [2002] I.L.R. para. G-1496\n",
      "Didnt find any tags in Jennings v. Insurance Corporation of British Columbia, [2002] I.L.R. para. M-1562\n",
      "Didnt find any tags in Jiang v. Grand East Supermarket Inc., [2005] B.C.J. No. 2787\n",
      "Didnt find any tags in John Doe 1 v. University of British Columbia, [2019] B.C.J. No. 808\n",
      "Didnt find any tags in Joy v. Atkinson, [2008] B.C.J. No. 11276484 %\n",
      "Didnt find any tags in J.R.T. Nurseries Inc. v. 0843374 B.C. Ltd., [2016] B.C.J. No. 578\n",
      "Didnt find any tags in Lansdowne v. United Church of Canada, [2001] I.L.R. para. G-1403\n",
      "Didnt find any tags in Lapointe v. John Doe, [2016] B.C.J. No. 223 %\n",
      "Didnt find any tags in Laurier Charters Ltd. v. Eggleton, [2020] B.C.J. No. 342\n",
      "Didnt find any tags in Holt v. Rother, [2013] B.C.J. No. 128603072 %\n",
      "Didnt find any tags in Lindgren (Litigation guardian of) v. Parks Canada Agency, [2018] B.C.J. No. 120\n",
      "Didnt find any tags in Benek v. Pugash, [2004] B.C.J. No. 1931413 %%\n",
      "Didnt find any tags in Healey v. Royal Bank of Canada, [2003] B.C.J. No. 474\n",
      "Didnt find any tags in Insurance Corp. of British Columbia v. Scheelar, [2003] B.C.J. No. 1406\n",
      "Didnt find any tags in Mohebbi v. Canada (Royal Canadian Mounted Police) (North Vancouver), [2015] B.C.J. No. 2475\n",
      "Didnt find any tags in Strata Plan LMS 1564 v. Odyssey Tower Properties Ltd., [2009] B.C.J. No. 1511\n",
      "Didnt find any tags in Brewer v. Sarju, [2008] B.C.J. No. 21821775 %\n",
      "Didnt find any tags in Capilano Fishing Ltd. v. Qualicum Producer (The), [2000] B.C.J. No. 72\n",
      "Didnt find any tags in Intrawest Corp. v. Hart, [2002] B.C.J. No. 2816\n",
      "Didnt find any tags in Gengenbacher v. Smith, [2016] B.C.J. No. 1337\n",
      "Didnt find any tags in Littler v. Underdown, [2000] B.C.J. No. 1367%\n",
      "Didnt find any tags in Wilson v. Potter, [2005] B.C.J. No. 12803 %\n",
      "Didnt find any tags in Hixon (Guardian ad litem of) v. Roberts, [2003] B.C.J. No. 1328\n",
      "Didnt find any tags in Sarai v. Caharel, [2013] B.C.J. No. 2299652 %\n",
      "Didnt find any tags in Seeliger v. Eagle Ridge Hospital, [2006] B.C.J. No. 2189\n",
      "Didnt find any tags in Siegerist (Litigation guardian of) v. Tilton, [2020] B.C.J. No. 594\n",
      "Didnt find any tags in Douez v. Facebook, Inc., [2014] B.C.J. No. 1051\n",
      "Didnt find any tags in Hamilton v. Callaway, [2014] B.C.J. No. 174 %\n",
      "Didnt find any tags in MacMillan, Tucker & Mackay v. Cook, [2009] B.C.J. No. 991\n",
      "Didnt find any tags in Martin v. Lavigne, [2010] B.C.J. No. 162032 %\n",
      "Didnt find any tags in Moore v. College of Physicians and Surgeons of British Columbia, [2013] B.C.J. No. 2504\n",
      "Didnt find any tags in Nolting Estate v. Interior Health Authority (c.o.b. Vernon Jubilee Hospital), [2016] B.C.J. No. 1601\n",
      "Didnt find any tags in Ontario (Pension Board) v. Ball, [2010] B.C.J. No. 1792\n",
      "Didnt find any tags in R. v. Siemens, [2000] B.C.J. No. 230650512 %%\n",
      "Didnt find any tags in Aulakh v. Nahal, [2018] B.C.J. No. 80436177 %\n",
      "Didnt find any tags in Bakker v. Nahanee, [2012] B.C.J. No. 114742 %\n",
      "Didnt find any tags in Faust v. See, [2018] B.C.J. No. 12877167235 %\n",
      "\n",
      "Vectorizing...\n",
      "Tag Distribution\n",
      "Counter({'other': 2980, 'non pecuniary': 343, 'special': 256, 'future care': 241, 'future wage loss': 237, 'past wage loss': 231, 'total': 203, 'sub-special': 153, 'general': 87, 'sub-future care': 78, 'punitive': 39, 'in trust': 38, 'sub-future wage loss': 37, 'sub-past wage loss': 37, 'reduction to': 26, 'total after': 25, 'sub-general': 23, 'sub-non pecuniary': 21, 'aggravated': 21, 'reduction by': 16, 'sub-total': 15, 'sub-in trust': 14, 'sub-reduction': 2})\n"
     ]
    },
    {
     "name": "stderr",
     "output_type": "stream",
     "text": [
      "/home/ilana/anaconda3/lib/python3.7/site-packages/sklearn/model_selection/_split.py:667: UserWarning: The least populated class in y has only 2 members, which is less than n_splits=10.\n",
      "  % (min_groups, self.n_splits)), UserWarning)\n",
      "/home/ilana/anaconda3/lib/python3.7/site-packages/sklearn/model_selection/_split.py:667: UserWarning: The least populated class in y has only 2 members, which is less than n_splits=10.\n",
      "  % (min_groups, self.n_splits)), UserWarning)\n"
     ]
    },
    {
     "name": "stdout",
     "output_type": "stream",
     "text": [
      "Cross validation evaluation...\n",
      "                      precision    recall  f1-score   support\n",
      "\n",
      "          aggravated       1.00      0.71      0.83        21\n",
      "         future care       0.74      0.76      0.75       241\n",
      "    future wage loss       0.68      0.65      0.66       237\n",
      "             general       0.64      0.54      0.58        87\n",
      "            in trust       0.74      0.37      0.49        38\n",
      "       non pecuniary       0.77      0.83      0.80       343\n",
      "               other       0.86      0.94      0.90      2980\n",
      "      past wage loss       0.67      0.63      0.65       231\n",
      "            punitive       0.85      0.87      0.86        39\n",
      "        reduction by       1.00      0.44      0.61        16\n",
      "        reduction to       1.00      0.19      0.32        26\n",
      "             special       0.71      0.78      0.74       256\n",
      "     sub-future care       0.50      0.10      0.17        78\n",
      "sub-future wage loss       0.46      0.16      0.24        37\n",
      "         sub-general       0.60      0.13      0.21        23\n",
      "        sub-in trust       0.86      0.43      0.57        14\n",
      "   sub-non pecuniary       0.62      0.24      0.34        21\n",
      "  sub-past wage loss       0.14      0.05      0.08        37\n",
      "       sub-reduction       0.00      0.00      0.00         2\n",
      "         sub-special       0.41      0.19      0.26       153\n",
      "           sub-total       0.83      0.33      0.48        15\n",
      "               total       0.67      0.69      0.68       203\n",
      "         total after       0.56      0.20      0.29        25\n",
      "\n",
      "            accuracy                           0.80      5123\n",
      "           macro avg       0.67      0.45      0.50      5123\n",
      "        weighted avg       0.78      0.80      0.78      5123\n",
      "\n",
      "Training final model...\n"
     ]
    },
    {
     "name": "stderr",
     "output_type": "stream",
     "text": [
      "/home/ilana/anaconda3/lib/python3.7/site-packages/sklearn/metrics/_classification.py:1272: UndefinedMetricWarning: Precision and F-score are ill-defined and being set to 0.0 in labels with no predicted samples. Use `zero_division` parameter to control this behavior.\n",
      "  _warn_prf(average, modifier, msg_start, len(result))\n"
     ]
    }
   ],
   "source": [
    "model, vectorizer, annotated_damages = key_functions.train_classifier('../../data/annotations/final_annotations.txt', LogisticRegression(C = 1, penalty='l2', solver = 'newton-cg', max_iter = 1000, random_state=42), fit_model=True, context_length=4)\n"
   ]
  },
  {
   "cell_type": "markdown",
   "metadata": {},
   "source": [
    "### XGBoost - Damages Classification"
   ]
  },
  {
   "cell_type": "code",
   "execution_count": 6,
   "metadata": {
    "collapsed": true,
    "jupyter": {
     "outputs_hidden": true
    }
   },
   "outputs": [
    {
     "name": "stdout",
     "output_type": "stream",
     "text": [
      "Didnt find any tags in Mawani v. Pitcairn, [2012] B.C.J. No. 1819\n",
      "Didnt find any tags in Aiken (Guardian ad litem of) v. Van Dyk, [2001] B.C.J. No. 1751\n",
      "Didnt find any tags in Millard v. Singleton, [2015] B.C.J. No. 1234 %\n",
      "Didnt find any tags in Cowie v. Draper, [2010] B.C.J. No. 910935154 %\n",
      "Didnt find any tags in Bajwa v. Deol, [2018] I.L.R. para. G-2792606 %\n",
      "Didnt find any tags in Jackson v. Fisheries and Oceans Canada, [2006] B.C.J. No. 2654\n",
      "Didnt find any tags in Los Angeles Salad Co. v. Canadian Food Inspection Agency, [2009] B.C.J. No. 161\n",
      "Didnt find any tags in Brooks-Martin v. Martin, [2011] B.C.J. No. 243\n",
      "Didnt find any tags in Gibson v. Matthies, [2017] B.C.J. No. 96556 %\n",
      "Didnt find any tags in Gray v. Ellis, [2007] I.L.R. para. M-211801 %\n",
      "Didnt find any tags in Morrow v. Outerbridge, 2009 CHFL para. 15,554\n",
      "Didnt find any tags in Rackstraw (Litigation guardian of) v. Robertson, [2011] B.C.J. No. 1354\n",
      "Didnt find any tags in Ahlwat v. Green, [2014] B.C.J. No. 245267576 %\n",
      "Didnt find any tags in Quade v. Schwartz, [2008] B.C.J. No. 1032117 %\n",
      "Didnt find any tags in McKee (Guardian ad litem of) v. McCoy, [2001] B.C.J. No. 2675\n",
      "Didnt find any tags in GE Capital Canada Equipment Financing Inc. v. Bank of Montreal, [2003] B.C.J. No. 1791\n",
      "Didnt find any tags in Kerr (Litigation Guardian of) v. Creighton, [2007] B.C.J. No. 309\n",
      "Didnt find any tags in Danielson v. Janze, [2017] B.C.J. No. 492275 %\n",
      "Didnt find any tags in Deline v. Vancouver Talmud Torah Assn., [2020] B.C.J. No. 274\n",
      "Didnt find any tags in Francescutto v. Church, [2014] B.C.J. No. 638%\n",
      "Didnt find any tags in Gill v. Canada (Minister of Transport), [2014] B.C.J. No. 2921\n",
      "Didnt find any tags in Gladwell (Litigation guardian of) v. Busletta, [2018] B.C.J. No. 3570\n",
      "Didnt find any tags in Hoessmann Estate v. Aldergrove Credit Union, [2018] B.C.J. No. 303\n",
      "Didnt find any tags in Hung Fook Canada Ltd. v. Silcorp Ltd. (c.o.b. Mac's Convenience Stores), [2000] B.C.J. No. 404\n",
      "Didnt find any tags in Jones Estate v. Insurance Corp. of British Columbia, [2019] B.C.J. No. 2493\n",
      "Didnt find any tags in Jory v. Pereira, [2019] B.C.J. No. 16438737 %\n",
      "Didnt find any tags in Kerr v. Hall, [2013] B.C.J. No. 281009215016 %\n",
      "Didnt find any tags in Larsen v. Larsen, [2004] B.C.J. No. 39970304 %\n",
      "Didnt find any tags in Malhotra v. Waterfront Homes Ltd., [2015] B.C.J. No. 1297\n",
      "Didnt find any tags in Parchment v. British Columbia, [2015] B.C.J. No. 1236\n",
      "Didnt find any tags in Robson v. Chrysler Canada Ltd., [2001] B.C.J. No. 23\n",
      "Didnt find any tags in Royal Bank of Canada v. United Used Auto & Truck Parts Ltd., [2006] B.C.J. No. 1778\n",
      "Didnt find any tags in Stanway v. Wyeth Canada Inc., [2013] B.C.J. No. 411\n",
      "Didnt find any tags in Stewart v. Canada (Attorney General), [2010] B.C.J. No. 2410\n",
      "Didnt find any tags in Strata Plan LMS 2940 v. Quick as a Wink Courier Service Ltd., [2007] B.C.J. No. 1448\n",
      "Didnt find any tags in Strata Plan VR 10 v. EE Management Corp., [2015] B.C.J. No. 590\n",
      "Didnt find any tags in Wakelam v. Johnson & Johnson, [2011] B.C.J. No. 2477\n",
      "Didnt find any tags in West Van Holdings Ltd. v. Economical Mutual Insurance Co., [2017] B.C.J. No. 2670\n",
      "Didnt find any tags in Allen v. Girard, [2002] B.C.J. No. 21486792 %\n",
      "Didnt find any tags in Drage v. Page, [2002] B.C.J. No. 1848242321 %\n",
      "Didnt find any tags in Kahlon (Litigation guardian of) v. Vancouver Coastal Health Authority, 2009 CHFL para. 15,560\n",
      "Didnt find any tags in Kristiansen v. Grewal, [2014] B.C.J. No. 641\n",
      "Didnt find any tags in Low v. Albas, 2013 BREG para. 50,73017406135 %\n",
      "Didnt find any tags in Morris v. Moddejonge, [2004] B.C.J. No. 1786 %\n",
      "Didnt find any tags in Parragh v. Eagle Ridge Hospital and Health Care Centre, [2008] B.C.J. No. 1836\n",
      "Didnt find any tags in Roberts & Baker v. Kemp, [2005] B.C.J. No. 1928\n",
      "Didnt find any tags in Achtymichuk v. Bayer Inc., [2018] B.C.J. No. 879\n",
      "Didnt find any tags in Axa Pacific Insurance Company Ltd. v. Guildford Marquis Towers Ltd., [2000] I.L.R. para. I-3801\n",
      "Didnt find any tags in Bingo City Games Inc. v. British Columbia Lottery Corp., [2003] B.C.J. No. 985\n",
      "Didnt find any tags in Bittante v. Zichy, [2008] I.L.R. para. M-2244\n",
      "Didnt find any tags in Bohmer v. White, [2009] B.C.J. No. 93533788 %\n",
      "Didnt find any tags in F.W. Hearns/Actes - A Joint Venture v. University of British Columbia, [2000] B.C.J. No. 1238\n",
      "Didnt find any tags in Harris v. Sweet, [2005] B.C.J. No. 15209317 %\n",
      "Didnt find any tags in Horvath v. Thring, [2000] B.C.J. No. 131082 %\n",
      "Didnt find any tags in Keen v. Surrey (City), [2004] B.C.J. No. 2161%\n",
      "Didnt find any tags in Manavi v. Cascadia Apartment Rentals Ltd., [2017] B.C.J. No. 218\n",
      "Didnt find any tags in Ogden v. Gulf Log Salvage Co-operative Assn., [2005] B.C.J. No. 61\n",
      "Didnt find any tags in Petersen v. Stadnyk, [2003] B.C.J. No. 3173 %\n",
      "Didnt find any tags in Sharbern Holding Inc. v. Vancouver Airport Centre Ltd., [2005] B.C.J. No. 347\n",
      "Didnt find any tags in Skytrac Systems Ltd. v. Mares, [2009] B.C.J. No. 1641\n",
      "Didnt find any tags in Strata Plan BCS 1589 v. Nacht, [2018] B.C.J. No. 517\n",
      "Didnt find any tags in Thorburn v. British Columbia (Ministry of Public Safety and Solicitor General), [2012] B.C.J. No. 2216\n",
      "Didnt find any tags in Clare v. I.J. Manufacturing and three other actions, 2003 BREG para. 50,351\n",
      "Didnt find any tags in Coglon v. Ergas, [2009] B.C.J. No. 24274607 %\n",
      "Didnt find any tags in Commisso v. Teck Coal Ltd., [2018] B.C.J. No. 6970\n",
      "Didnt find any tags in Crawford v. Nazif, [2019] B.C.J. No. 259836 %\n",
      "Didnt find any tags in Cupo v. Brady, [2013] B.C.J. No. 2086385666 %\n",
      "Didnt find any tags in Davis v. Royal Bank of Canada, [2016] B.C.J. No. 2262\n",
      "Didnt find any tags in Deo v. Vancouver School No. 39, [2014] B.C.J. No. 3083\n",
      "Didnt find any tags in Foote v. Hallen, [2014] B.C.J. No. 57816724 %\n",
      "Didnt find any tags in Gaida Estate v. McLeod, [2013] B.C.J. No. 1423\n",
      "Didnt find any tags in human v. Insurance Corp. of British Columbia, [2019] B.C.J. No. 1547\n",
      "Didnt find any tags in Gichuru v. Purewal, [2019] B.C.J. No. 82918 %\n",
      "Didnt find any tags in Glenn v. Seair Seaplanes Ltd., [2012] B.C.J. No. 2428\n",
      "Didnt find any tags in Halliday v. Teasdale, [2019] B.C.J. No. 1414%\n",
      "Didnt find any tags in Haror v. Rana, [2018] B.C.J. No. 3553713311 %\n",
      "Didnt find any tags in Hixon-Gause v. Roberts, [2003] I.L.R. para. M-1673\n",
      "Didnt find any tags in Holland (Guardian ad litem of) v. Marshall, [2008] B.C.J. No. 2827\n",
      "Didnt find any tags in Horvath v. Thring, [2004] I.L.R. para. M-1713\n",
      "Didnt find any tags in Ho v. Ip, [2019] B.C.J. No. 250383959044369 %\n",
      "Didnt find any tags in I.A.L. (Litigation guardian of) v. Y.C., [2019] B.C.J. No. 1739\n",
      "Didnt find any tags in Insurance Corp. of British Columbia v. Suska, [2009] B.C.J. No. 2474\n",
      "Didnt find any tags in Irving v. Canada (Royal Canadian Mounted Police), [2000] B.C.J. No. 424\n",
      "Didnt find any tags in Jackson v. Backus, [2002] I.L.R. para. G-1496\n",
      "Didnt find any tags in Jennings v. Insurance Corporation of British Columbia, [2002] I.L.R. para. M-1562\n",
      "Didnt find any tags in Jiang v. Grand East Supermarket Inc., [2005] B.C.J. No. 2787\n",
      "Didnt find any tags in John Doe 1 v. University of British Columbia, [2019] B.C.J. No. 808\n",
      "Didnt find any tags in Joy v. Atkinson, [2008] B.C.J. No. 11276484 %\n",
      "Didnt find any tags in J.R.T. Nurseries Inc. v. 0843374 B.C. Ltd., [2016] B.C.J. No. 578\n",
      "Didnt find any tags in Lansdowne v. United Church of Canada, [2001] I.L.R. para. G-1403\n",
      "Didnt find any tags in Lapointe v. John Doe, [2016] B.C.J. No. 223 %\n",
      "Didnt find any tags in Laurier Charters Ltd. v. Eggleton, [2020] B.C.J. No. 342\n",
      "Didnt find any tags in Holt v. Rother, [2013] B.C.J. No. 128603072 %\n",
      "Didnt find any tags in Lindgren (Litigation guardian of) v. Parks Canada Agency, [2018] B.C.J. No. 120\n",
      "Didnt find any tags in Benek v. Pugash, [2004] B.C.J. No. 1931413 %%\n",
      "Didnt find any tags in Healey v. Royal Bank of Canada, [2003] B.C.J. No. 474\n",
      "Didnt find any tags in Insurance Corp. of British Columbia v. Scheelar, [2003] B.C.J. No. 1406\n",
      "Didnt find any tags in Mohebbi v. Canada (Royal Canadian Mounted Police) (North Vancouver), [2015] B.C.J. No. 2475\n",
      "Didnt find any tags in Strata Plan LMS 1564 v. Odyssey Tower Properties Ltd., [2009] B.C.J. No. 1511\n",
      "Didnt find any tags in Brewer v. Sarju, [2008] B.C.J. No. 21821775 %\n",
      "Didnt find any tags in Capilano Fishing Ltd. v. Qualicum Producer (The), [2000] B.C.J. No. 72\n",
      "Didnt find any tags in Intrawest Corp. v. Hart, [2002] B.C.J. No. 2816\n",
      "Didnt find any tags in Gengenbacher v. Smith, [2016] B.C.J. No. 1337\n",
      "Didnt find any tags in Littler v. Underdown, [2000] B.C.J. No. 1367%\n",
      "Didnt find any tags in Wilson v. Potter, [2005] B.C.J. No. 12803 %\n",
      "Didnt find any tags in Hixon (Guardian ad litem of) v. Roberts, [2003] B.C.J. No. 1328\n",
      "Didnt find any tags in Sarai v. Caharel, [2013] B.C.J. No. 2299652 %\n",
      "Didnt find any tags in Seeliger v. Eagle Ridge Hospital, [2006] B.C.J. No. 2189\n",
      "Didnt find any tags in Siegerist (Litigation guardian of) v. Tilton, [2020] B.C.J. No. 594\n",
      "Didnt find any tags in Douez v. Facebook, Inc., [2014] B.C.J. No. 1051\n",
      "Didnt find any tags in Hamilton v. Callaway, [2014] B.C.J. No. 174 %\n",
      "Didnt find any tags in MacMillan, Tucker & Mackay v. Cook, [2009] B.C.J. No. 991\n",
      "Didnt find any tags in Martin v. Lavigne, [2010] B.C.J. No. 162032 %\n",
      "Didnt find any tags in Moore v. College of Physicians and Surgeons of British Columbia, [2013] B.C.J. No. 2504\n",
      "Didnt find any tags in Nolting Estate v. Interior Health Authority (c.o.b. Vernon Jubilee Hospital), [2016] B.C.J. No. 1601\n",
      "Didnt find any tags in Ontario (Pension Board) v. Ball, [2010] B.C.J. No. 1792\n",
      "Didnt find any tags in R. v. Siemens, [2000] B.C.J. No. 230650512 %%\n",
      "Didnt find any tags in Aulakh v. Nahal, [2018] B.C.J. No. 80436177 %\n",
      "Didnt find any tags in Bakker v. Nahanee, [2012] B.C.J. No. 114742 %\n",
      "Didnt find any tags in Faust v. See, [2018] B.C.J. No. 12877167235 %\n",
      "\n",
      "Vectorizing...\n",
      "Tag Distribution\n",
      "Counter({'other': 2980, 'non pecuniary': 343, 'special': 256, 'future care': 241, 'future wage loss': 237, 'past wage loss': 231, 'total': 203, 'sub-special': 153, 'general': 87, 'sub-future care': 78, 'punitive': 39, 'in trust': 38, 'sub-future wage loss': 37, 'sub-past wage loss': 37, 'reduction to': 26, 'total after': 25, 'sub-general': 23, 'sub-non pecuniary': 21, 'aggravated': 21, 'reduction by': 16, 'sub-total': 15, 'sub-in trust': 14, 'sub-reduction': 2})\n"
     ]
    },
    {
     "name": "stderr",
     "output_type": "stream",
     "text": [
      "/home/ilana/anaconda3/lib/python3.7/site-packages/sklearn/model_selection/_split.py:667: UserWarning: The least populated class in y has only 2 members, which is less than n_splits=10.\n",
      "  % (min_groups, self.n_splits)), UserWarning)\n",
      "/home/ilana/anaconda3/lib/python3.7/site-packages/sklearn/model_selection/_split.py:667: UserWarning: The least populated class in y has only 2 members, which is less than n_splits=10.\n",
      "  % (min_groups, self.n_splits)), UserWarning)\n"
     ]
    },
    {
     "name": "stdout",
     "output_type": "stream",
     "text": [
      "Cross validation evaluation...\n",
      "                      precision    recall  f1-score   support\n",
      "\n",
      "          aggravated       0.71      0.81      0.76        21\n",
      "         future care       0.80      0.74      0.77       241\n",
      "    future wage loss       0.71      0.60      0.65       237\n",
      "             general       0.64      0.45      0.53        87\n",
      "            in trust       0.50      0.45      0.47        38\n",
      "       non pecuniary       0.80      0.80      0.80       343\n",
      "               other       0.84      0.96      0.90      2980\n",
      "      past wage loss       0.71      0.67      0.69       231\n",
      "            punitive       0.74      0.82      0.78        39\n",
      "        reduction by       0.90      0.56      0.69        16\n",
      "        reduction to       0.67      0.31      0.42        26\n",
      "             special       0.73      0.76      0.75       256\n",
      "     sub-future care       0.43      0.08      0.13        78\n",
      "sub-future wage loss       1.00      0.03      0.05        37\n",
      "         sub-general       0.25      0.09      0.13        23\n",
      "        sub-in trust       0.80      0.29      0.42        14\n",
      "   sub-non pecuniary       0.62      0.24      0.34        21\n",
      "  sub-past wage loss       0.22      0.05      0.09        37\n",
      "       sub-reduction       1.00      0.50      0.67         2\n",
      "         sub-special       0.46      0.11      0.18       153\n",
      "           sub-total       0.80      0.27      0.40        15\n",
      "               total       0.67      0.59      0.63       203\n",
      "         total after       0.56      0.20      0.29        25\n",
      "\n",
      "            accuracy                           0.80      5123\n",
      "           macro avg       0.68      0.45      0.50      5123\n",
      "        weighted avg       0.78      0.80      0.77      5123\n",
      "\n",
      "Training final model...\n"
     ]
    }
   ],
   "source": [
    "model, vectorizer, annotated_damages = key_functions.train_classifier('../../data/annotations/final_annotations.txt', xgb.XGBClassifier(), fit_model=True, context_length=6)\n"
   ]
  },
  {
   "cell_type": "markdown",
   "metadata": {},
   "source": [
    "### Random Forest: Damages Classification"
   ]
  },
  {
   "cell_type": "code",
   "execution_count": 7,
   "metadata": {
    "collapsed": true,
    "jupyter": {
     "outputs_hidden": true
    }
   },
   "outputs": [
    {
     "name": "stdout",
     "output_type": "stream",
     "text": [
      "Didnt find any tags in Mawani v. Pitcairn, [2012] B.C.J. No. 1819\n",
      "Didnt find any tags in Aiken (Guardian ad litem of) v. Van Dyk, [2001] B.C.J. No. 1751\n",
      "Didnt find any tags in Millard v. Singleton, [2015] B.C.J. No. 1234 %\n",
      "Didnt find any tags in Cowie v. Draper, [2010] B.C.J. No. 910935154 %\n",
      "Didnt find any tags in Bajwa v. Deol, [2018] I.L.R. para. G-2792606 %\n",
      "Didnt find any tags in Jackson v. Fisheries and Oceans Canada, [2006] B.C.J. No. 2654\n",
      "Didnt find any tags in Los Angeles Salad Co. v. Canadian Food Inspection Agency, [2009] B.C.J. No. 161\n",
      "Didnt find any tags in Brooks-Martin v. Martin, [2011] B.C.J. No. 243\n",
      "Didnt find any tags in Gibson v. Matthies, [2017] B.C.J. No. 96556 %\n",
      "Didnt find any tags in Gray v. Ellis, [2007] I.L.R. para. M-211801 %\n",
      "Didnt find any tags in Morrow v. Outerbridge, 2009 CHFL para. 15,554\n",
      "Didnt find any tags in Rackstraw (Litigation guardian of) v. Robertson, [2011] B.C.J. No. 1354\n",
      "Didnt find any tags in Ahlwat v. Green, [2014] B.C.J. No. 245267576 %\n",
      "Didnt find any tags in Quade v. Schwartz, [2008] B.C.J. No. 1032117 %\n",
      "Didnt find any tags in McKee (Guardian ad litem of) v. McCoy, [2001] B.C.J. No. 2675\n",
      "Didnt find any tags in GE Capital Canada Equipment Financing Inc. v. Bank of Montreal, [2003] B.C.J. No. 1791\n",
      "Didnt find any tags in Kerr (Litigation Guardian of) v. Creighton, [2007] B.C.J. No. 309\n",
      "Didnt find any tags in Danielson v. Janze, [2017] B.C.J. No. 492275 %\n",
      "Didnt find any tags in Deline v. Vancouver Talmud Torah Assn., [2020] B.C.J. No. 274\n",
      "Didnt find any tags in Francescutto v. Church, [2014] B.C.J. No. 638%\n",
      "Didnt find any tags in Gill v. Canada (Minister of Transport), [2014] B.C.J. No. 2921\n",
      "Didnt find any tags in Gladwell (Litigation guardian of) v. Busletta, [2018] B.C.J. No. 3570\n",
      "Didnt find any tags in Hoessmann Estate v. Aldergrove Credit Union, [2018] B.C.J. No. 303\n",
      "Didnt find any tags in Hung Fook Canada Ltd. v. Silcorp Ltd. (c.o.b. Mac's Convenience Stores), [2000] B.C.J. No. 404\n",
      "Didnt find any tags in Jones Estate v. Insurance Corp. of British Columbia, [2019] B.C.J. No. 2493\n",
      "Didnt find any tags in Jory v. Pereira, [2019] B.C.J. No. 16438737 %\n",
      "Didnt find any tags in Kerr v. Hall, [2013] B.C.J. No. 281009215016 %\n",
      "Didnt find any tags in Larsen v. Larsen, [2004] B.C.J. No. 39970304 %\n",
      "Didnt find any tags in Malhotra v. Waterfront Homes Ltd., [2015] B.C.J. No. 1297\n",
      "Didnt find any tags in Parchment v. British Columbia, [2015] B.C.J. No. 1236\n",
      "Didnt find any tags in Robson v. Chrysler Canada Ltd., [2001] B.C.J. No. 23\n",
      "Didnt find any tags in Royal Bank of Canada v. United Used Auto & Truck Parts Ltd., [2006] B.C.J. No. 1778\n",
      "Didnt find any tags in Stanway v. Wyeth Canada Inc., [2013] B.C.J. No. 411\n",
      "Didnt find any tags in Stewart v. Canada (Attorney General), [2010] B.C.J. No. 2410\n",
      "Didnt find any tags in Strata Plan LMS 2940 v. Quick as a Wink Courier Service Ltd., [2007] B.C.J. No. 1448\n",
      "Didnt find any tags in Strata Plan VR 10 v. EE Management Corp., [2015] B.C.J. No. 590\n",
      "Didnt find any tags in Wakelam v. Johnson & Johnson, [2011] B.C.J. No. 2477\n",
      "Didnt find any tags in West Van Holdings Ltd. v. Economical Mutual Insurance Co., [2017] B.C.J. No. 2670\n",
      "Didnt find any tags in Allen v. Girard, [2002] B.C.J. No. 21486792 %\n",
      "Didnt find any tags in Drage v. Page, [2002] B.C.J. No. 1848242321 %\n",
      "Didnt find any tags in Kahlon (Litigation guardian of) v. Vancouver Coastal Health Authority, 2009 CHFL para. 15,560\n",
      "Didnt find any tags in Kristiansen v. Grewal, [2014] B.C.J. No. 641\n",
      "Didnt find any tags in Low v. Albas, 2013 BREG para. 50,73017406135 %\n",
      "Didnt find any tags in Morris v. Moddejonge, [2004] B.C.J. No. 1786 %\n",
      "Didnt find any tags in Parragh v. Eagle Ridge Hospital and Health Care Centre, [2008] B.C.J. No. 1836\n",
      "Didnt find any tags in Roberts & Baker v. Kemp, [2005] B.C.J. No. 1928\n",
      "Didnt find any tags in Achtymichuk v. Bayer Inc., [2018] B.C.J. No. 879\n",
      "Didnt find any tags in Axa Pacific Insurance Company Ltd. v. Guildford Marquis Towers Ltd., [2000] I.L.R. para. I-3801\n",
      "Didnt find any tags in Bingo City Games Inc. v. British Columbia Lottery Corp., [2003] B.C.J. No. 985\n",
      "Didnt find any tags in Bittante v. Zichy, [2008] I.L.R. para. M-2244\n",
      "Didnt find any tags in Bohmer v. White, [2009] B.C.J. No. 93533788 %\n",
      "Didnt find any tags in F.W. Hearns/Actes - A Joint Venture v. University of British Columbia, [2000] B.C.J. No. 1238\n",
      "Didnt find any tags in Harris v. Sweet, [2005] B.C.J. No. 15209317 %\n",
      "Didnt find any tags in Horvath v. Thring, [2000] B.C.J. No. 131082 %\n",
      "Didnt find any tags in Keen v. Surrey (City), [2004] B.C.J. No. 2161%\n",
      "Didnt find any tags in Manavi v. Cascadia Apartment Rentals Ltd., [2017] B.C.J. No. 218\n",
      "Didnt find any tags in Ogden v. Gulf Log Salvage Co-operative Assn., [2005] B.C.J. No. 61\n",
      "Didnt find any tags in Petersen v. Stadnyk, [2003] B.C.J. No. 3173 %\n",
      "Didnt find any tags in Sharbern Holding Inc. v. Vancouver Airport Centre Ltd., [2005] B.C.J. No. 347\n",
      "Didnt find any tags in Skytrac Systems Ltd. v. Mares, [2009] B.C.J. No. 1641\n",
      "Didnt find any tags in Strata Plan BCS 1589 v. Nacht, [2018] B.C.J. No. 517\n",
      "Didnt find any tags in Thorburn v. British Columbia (Ministry of Public Safety and Solicitor General), [2012] B.C.J. No. 2216\n",
      "Didnt find any tags in Clare v. I.J. Manufacturing and three other actions, 2003 BREG para. 50,351\n",
      "Didnt find any tags in Coglon v. Ergas, [2009] B.C.J. No. 24274607 %\n",
      "Didnt find any tags in Commisso v. Teck Coal Ltd., [2018] B.C.J. No. 6970\n",
      "Didnt find any tags in Crawford v. Nazif, [2019] B.C.J. No. 259836 %\n",
      "Didnt find any tags in Cupo v. Brady, [2013] B.C.J. No. 2086385666 %\n",
      "Didnt find any tags in Davis v. Royal Bank of Canada, [2016] B.C.J. No. 2262\n",
      "Didnt find any tags in Deo v. Vancouver School No. 39, [2014] B.C.J. No. 3083\n",
      "Didnt find any tags in Foote v. Hallen, [2014] B.C.J. No. 57816724 %\n",
      "Didnt find any tags in Gaida Estate v. McLeod, [2013] B.C.J. No. 1423\n",
      "Didnt find any tags in human v. Insurance Corp. of British Columbia, [2019] B.C.J. No. 1547\n",
      "Didnt find any tags in Gichuru v. Purewal, [2019] B.C.J. No. 82918 %\n",
      "Didnt find any tags in Glenn v. Seair Seaplanes Ltd., [2012] B.C.J. No. 2428\n",
      "Didnt find any tags in Halliday v. Teasdale, [2019] B.C.J. No. 1414%\n",
      "Didnt find any tags in Haror v. Rana, [2018] B.C.J. No. 3553713311 %\n",
      "Didnt find any tags in Hixon-Gause v. Roberts, [2003] I.L.R. para. M-1673\n",
      "Didnt find any tags in Holland (Guardian ad litem of) v. Marshall, [2008] B.C.J. No. 2827\n",
      "Didnt find any tags in Horvath v. Thring, [2004] I.L.R. para. M-1713\n",
      "Didnt find any tags in Ho v. Ip, [2019] B.C.J. No. 250383959044369 %\n",
      "Didnt find any tags in I.A.L. (Litigation guardian of) v. Y.C., [2019] B.C.J. No. 1739\n",
      "Didnt find any tags in Insurance Corp. of British Columbia v. Suska, [2009] B.C.J. No. 2474\n",
      "Didnt find any tags inand extracting features... 74.40273037542661 % Irving v. Canada (Royal Canadian Mounted Police), [2000] B.C.J. No. 424\n",
      "Didnt find any tags in Jackson v. Backus, [2002] I.L.R. para. G-1496\n",
      "Didnt find any tags in Jennings v. Insurance Corporation of British Columbia, [2002] I.L.R. para. M-1562\n",
      "Didnt find any tags in Jiang v. Grand East Supermarket Inc., [2005] B.C.J. No. 2787\n",
      "Didnt find any tags in John Doe 1 v. University of British Columbia, [2019] B.C.J. No. 808\n",
      "Didnt find any tags in Joy v. Atkinson, [2008] B.C.J. No. 11276484 %\n",
      "Didnt find any tags in J.R.T. Nurseries Inc. v. 0843374 B.C. Ltd., [2016] B.C.J. No. 578\n",
      "Didnt find any tags in Lansdowne v. United Church of Canada, [2001] I.L.R. para. G-1403\n",
      "Didnt find any tags in Lapointe v. John Doe, [2016] B.C.J. No. 223 %\n",
      "Didnt find any tags in Laurier Charters Ltd. v. Eggleton, [2020] B.C.J. No. 342\n",
      "Didnt find any tags in Holt v. Rother, [2013] B.C.J. No. 128603072 %\n",
      "Didnt find any tags in Lindgren (Litigation guardian of) v. Parks Canada Agency, [2018] B.C.J. No. 120\n",
      "Didnt find any tags in Benek v. Pugash, [2004] B.C.J. No. 1931413 %%\n",
      "Didnt find any tags in Healey v. Royal Bank of Canada, [2003] B.C.J. No. 474\n",
      "Didnt find any tags in Insurance Corp. of British Columbia v. Scheelar, [2003] B.C.J. No. 1406\n",
      "Didnt find any tags in Mohebbi v. Canada (Royal Canadian Mounted Police) (North Vancouver), [2015] B.C.J. No. 2475\n",
      "Didnt find any tags in Strata Plan LMS 1564 v. Odyssey Tower Properties Ltd., [2009] B.C.J. No. 1511\n",
      "Didnt find any tags in Brewer v. Sarju, [2008] B.C.J. No. 21821775 %\n",
      "Didnt find any tags in Capilano Fishing Ltd. v. Qualicum Producer (The), [2000] B.C.J. No. 72\n",
      "Didnt find any tags in Intrawest Corp. v. Hart, [2002] B.C.J. No. 2816\n",
      "Didnt find any tags in Gengenbacher v. Smith, [2016] B.C.J. No. 1337\n",
      "Didnt find any tags in Littler v. Underdown, [2000] B.C.J. No. 1367%\n",
      "Didnt find any tags in Wilson v. Potter, [2005] B.C.J. No. 12803 %\n",
      "Didnt find any tags in Hixon (Guardian ad litem of) v. Roberts, [2003] B.C.J. No. 1328\n",
      "Didnt find any tags in Sarai v. Caharel, [2013] B.C.J. No. 2299652 %\n",
      "Didnt find any tags in Seeliger v. Eagle Ridge Hospital, [2006] B.C.J. No. 2189\n",
      "Didnt find any tags in Siegerist (Litigation guardian of) v. Tilton, [2020] B.C.J. No. 594\n",
      "Didnt find any tags in Douez v. Facebook, Inc., [2014] B.C.J. No. 1051\n",
      "Didnt find any tags in Hamilton v. Callaway, [2014] B.C.J. No. 174 %\n",
      "Didnt find any tags in MacMillan, Tucker & Mackay v. Cook, [2009] B.C.J. No. 991\n",
      "Didnt find any tags in Martin v. Lavigne, [2010] B.C.J. No. 162032 %\n",
      "Didnt find any tags in Moore v. College of Physicians and Surgeons of British Columbia, [2013] B.C.J. No. 2504\n",
      "Didnt find any tags in Nolting Estate v. Interior Health Authority (c.o.b. Vernon Jubilee Hospital), [2016] B.C.J. No. 1601\n",
      "Didnt find any tags in Ontario (Pension Board) v. Ball, [2010] B.C.J. No. 1792\n",
      "Didnt find any tags in R. v. Siemens, [2000] B.C.J. No. 230650512 %%\n",
      "Didnt find any tags in Aulakh v. Nahal, [2018] B.C.J. No. 80436177 %\n",
      "Didnt find any tags in Bakker v. Nahanee, [2012] B.C.J. No. 114742 %\n",
      "Didnt find any tags in Faust v. See, [2018] B.C.J. No. 12877167235 %\n",
      "\n",
      "Vectorizing...\n",
      "Tag Distribution\n",
      "Counter({'other': 2980, 'non pecuniary': 343, 'special': 256, 'future care': 241, 'future wage loss': 237, 'past wage loss': 231, 'total': 203, 'sub-special': 153, 'general': 87, 'sub-future care': 78, 'punitive': 39, 'in trust': 38, 'sub-future wage loss': 37, 'sub-past wage loss': 37, 'reduction to': 26, 'total after': 25, 'sub-general': 23, 'sub-non pecuniary': 21, 'aggravated': 21, 'reduction by': 16, 'sub-total': 15, 'sub-in trust': 14, 'sub-reduction': 2})\n"
     ]
    },
    {
     "name": "stderr",
     "output_type": "stream",
     "text": [
      "/home/ilana/anaconda3/lib/python3.7/site-packages/sklearn/model_selection/_split.py:667: UserWarning: The least populated class in y has only 2 members, which is less than n_splits=10.\n",
      "  % (min_groups, self.n_splits)), UserWarning)\n",
      "/home/ilana/anaconda3/lib/python3.7/site-packages/sklearn/model_selection/_split.py:667: UserWarning: The least populated class in y has only 2 members, which is less than n_splits=10.\n",
      "  % (min_groups, self.n_splits)), UserWarning)\n"
     ]
    },
    {
     "name": "stdout",
     "output_type": "stream",
     "text": [
      "Cross validation evaluation...\n",
      "                      precision    recall  f1-score   support\n",
      "\n",
      "          aggravated       0.75      0.57      0.65        21\n",
      "         future care       0.79      0.75      0.77       241\n",
      "    future wage loss       0.72      0.67      0.69       237\n",
      "             general       0.78      0.37      0.50        87\n",
      "            in trust       0.80      0.11      0.19        38\n",
      "       non pecuniary       0.77      0.79      0.78       343\n",
      "               other       0.81      0.97      0.88      2980\n",
      "      past wage loss       0.73      0.64      0.68       231\n",
      "            punitive       0.81      0.64      0.71        39\n",
      "        reduction by       1.00      0.38      0.55        16\n",
      "        reduction to       0.33      0.04      0.07        26\n",
      "             special       0.71      0.80      0.75       256\n",
      "     sub-future care       0.00      0.00      0.00        78\n",
      "sub-future wage loss       0.83      0.14      0.23        37\n",
      "         sub-general       1.00      0.04      0.08        23\n",
      "        sub-in trust       0.86      0.43      0.57        14\n",
      "   sub-non pecuniary       0.50      0.14      0.22        21\n",
      "  sub-past wage loss       0.00      0.00      0.00        37\n",
      "       sub-reduction       0.00      0.00      0.00         2\n",
      "         sub-special       0.92      0.08      0.14       153\n",
      "           sub-total       0.67      0.13      0.22        15\n",
      "               total       0.74      0.46      0.57       203\n",
      "         total after       1.00      0.20      0.33        25\n",
      "\n",
      "            accuracy                           0.79      5123\n",
      "           macro avg       0.67      0.36      0.42      5123\n",
      "        weighted avg       0.77      0.79      0.75      5123\n",
      "\n",
      "Training final model...\n"
     ]
    },
    {
     "name": "stderr",
     "output_type": "stream",
     "text": [
      "/home/ilana/anaconda3/lib/python3.7/site-packages/sklearn/metrics/_classification.py:1272: UndefinedMetricWarning: Precision and F-score are ill-defined and being set to 0.0 in labels with no predicted samples. Use `zero_division` parameter to control this behavior.\n",
      "  _warn_prf(average, modifier, msg_start, len(result))\n"
     ]
    }
   ],
   "source": [
    "model, vectorizer, annotated_damages = key_functions.train_classifier('../../data/annotations/final_annotations.txt', RandomForestClassifier(), fit_model=True, context_length=6)\n"
   ]
  },
  {
   "cell_type": "markdown",
   "metadata": {},
   "source": [
    "## Ablation for Contributory Negligence \n",
    "#### Use the best context length for Percent Reduction: 2 words on either side of the value"
   ]
  },
  {
   "cell_type": "markdown",
   "metadata": {},
   "source": [
    "### All Features (Remove None)"
   ]
  },
  {
   "cell_type": "code",
   "execution_count": 2,
   "metadata": {},
   "outputs": [
    {
     "name": "stdout",
     "output_type": "stream",
     "text": [
      "Reading training data and extracting features... 99.65870307167235 %%\n",
      "Vectorizing...\n",
      "Tag Distribution\n",
      "Counter({'other': 705, 'cnd': 149, 'cnp': 148, 'sub-cnd': 6})\n"
     ]
    },
    {
     "name": "stderr",
     "output_type": "stream",
     "text": [
      "/home/ilana/anaconda3/lib/python3.7/site-packages/sklearn/model_selection/_split.py:667: UserWarning: The least populated class in y has only 6 members, which is less than n_splits=10.\n",
      "  % (min_groups, self.n_splits)), UserWarning)\n",
      "/home/ilana/anaconda3/lib/python3.7/site-packages/sklearn/model_selection/_split.py:667: UserWarning: The least populated class in y has only 6 members, which is less than n_splits=10.\n",
      "  % (min_groups, self.n_splits)), UserWarning)\n"
     ]
    },
    {
     "name": "stdout",
     "output_type": "stream",
     "text": [
      "Cross validation evaluation...\n",
      "              precision    recall  f1-score   support\n",
      "\n",
      "         cnd       0.66      0.71      0.68       149\n",
      "         cnp       0.58      0.56      0.57       148\n",
      "       other       0.90      0.89      0.90       705\n",
      "     sub-cnd       0.71      0.83      0.77         6\n",
      "\n",
      "    accuracy                           0.81      1008\n",
      "   macro avg       0.71      0.75      0.73      1008\n",
      "weighted avg       0.82      0.81      0.82      1008\n",
      "\n",
      "Training final model...\n"
     ]
    }
   ],
   "source": [
    "model_cn, vectorizer_cn, annotated_cn = key_functions.train_CN_classifier('../../data/annotations/final_annotations.txt', LogisticRegression(C = 1, penalty='l1', solver = 'liblinear', class_weight = 'balanced', max_iter = 10000, random_state=42))\n"
   ]
  },
  {
   "cell_type": "markdown",
   "metadata": {},
   "source": [
    "## Remove Float"
   ]
  },
  {
   "cell_type": "code",
   "execution_count": 2,
   "metadata": {},
   "outputs": [
    {
     "name": "stdout",
     "output_type": "stream",
     "text": [
      "Reading training data and extracting features... 99.65870307167235 %%\n",
      "Vectorizing...\n",
      "Tag Distribution\n",
      "Counter({'other': 705, 'cnd': 149, 'cnp': 148, 'sub-cnd': 6})\n"
     ]
    },
    {
     "name": "stderr",
     "output_type": "stream",
     "text": [
      "/home/ilana/anaconda3/lib/python3.7/site-packages/sklearn/model_selection/_split.py:667: UserWarning: The least populated class in y has only 6 members, which is less than n_splits=10.\n",
      "  % (min_groups, self.n_splits)), UserWarning)\n",
      "/home/ilana/anaconda3/lib/python3.7/site-packages/sklearn/model_selection/_split.py:667: UserWarning: The least populated class in y has only 6 members, which is less than n_splits=10.\n",
      "  % (min_groups, self.n_splits)), UserWarning)\n"
     ]
    },
    {
     "name": "stdout",
     "output_type": "stream",
     "text": [
      "Cross validation evaluation...\n",
      "              precision    recall  f1-score   support\n",
      "\n",
      "         cnd       0.65      0.70      0.67       149\n",
      "         cnp       0.56      0.55      0.55       148\n",
      "       other       0.90      0.89      0.90       705\n",
      "     sub-cnd       0.71      0.83      0.77         6\n",
      "\n",
      "    accuracy                           0.81      1008\n",
      "   macro avg       0.71      0.74      0.72      1008\n",
      "weighted avg       0.81      0.81      0.81      1008\n",
      "\n",
      "Training final model...\n"
     ]
    }
   ],
   "source": [
    "model_cn, vectorizer_cn, annotated_cn = key_functions.train_CN_classifier('../../data/annotations/final_annotations.txt', LogisticRegression(C = 1, penalty='l1', solver = 'liblinear', class_weight = 'balanced', max_iter = 10000, random_state=42))\n"
   ]
  },
  {
   "cell_type": "markdown",
   "metadata": {},
   "source": [
    "### Remove Float and Bins"
   ]
  },
  {
   "cell_type": "code",
   "execution_count": 2,
   "metadata": {},
   "outputs": [
    {
     "name": "stdout",
     "output_type": "stream",
     "text": [
      "Reading training data and extracting features... 99.65870307167235 %% %\n",
      "Vectorizing...\n",
      "Tag Distribution\n",
      "Counter({'other': 705, 'cnd': 149, 'cnp': 148, 'sub-cnd': 6})\n"
     ]
    },
    {
     "name": "stderr",
     "output_type": "stream",
     "text": [
      "/home/ilana/anaconda3/lib/python3.7/site-packages/sklearn/model_selection/_split.py:667: UserWarning: The least populated class in y has only 6 members, which is less than n_splits=10.\n",
      "  % (min_groups, self.n_splits)), UserWarning)\n",
      "/home/ilana/anaconda3/lib/python3.7/site-packages/sklearn/model_selection/_split.py:667: UserWarning: The least populated class in y has only 6 members, which is less than n_splits=10.\n",
      "  % (min_groups, self.n_splits)), UserWarning)\n"
     ]
    },
    {
     "name": "stdout",
     "output_type": "stream",
     "text": [
      "Cross validation evaluation...\n",
      "              precision    recall  f1-score   support\n",
      "\n",
      "         cnd       0.58      0.66      0.62       149\n",
      "         cnp       0.55      0.48      0.51       148\n",
      "       other       0.90      0.90      0.90       705\n",
      "     sub-cnd       0.71      0.83      0.77         6\n",
      "\n",
      "    accuracy                           0.80      1008\n",
      "   macro avg       0.69      0.72      0.70      1008\n",
      "weighted avg       0.80      0.80      0.80      1008\n",
      "\n",
      "Training final model...\n"
     ]
    }
   ],
   "source": [
    "model_cn, vectorizer_cn, annotated_cn = key_functions.train_CN_classifier('../../data/annotations/final_annotations.txt', LogisticRegression(C = 1, penalty='l1', solver = 'liblinear', class_weight = 'balanced', max_iter = 10000, random_state=42))\n"
   ]
  },
  {
   "cell_type": "markdown",
   "metadata": {},
   "source": [
    "## Remove Float Bins "
   ]
  },
  {
   "cell_type": "code",
   "execution_count": 2,
   "metadata": {},
   "outputs": [
    {
     "name": "stdout",
     "output_type": "stream",
     "text": [
      "Reading training data and extracting features... 99.65870307167235 %%\n",
      "Vectorizing...\n",
      "Tag Distribution\n",
      "Counter({'other': 705, 'cnd': 149, 'cnp': 148, 'sub-cnd': 6})\n"
     ]
    },
    {
     "name": "stderr",
     "output_type": "stream",
     "text": [
      "/home/ilana/anaconda3/lib/python3.7/site-packages/sklearn/model_selection/_split.py:667: UserWarning: The least populated class in y has only 6 members, which is less than n_splits=10.\n",
      "  % (min_groups, self.n_splits)), UserWarning)\n",
      "/home/ilana/anaconda3/lib/python3.7/site-packages/sklearn/model_selection/_split.py:667: UserWarning: The least populated class in y has only 6 members, which is less than n_splits=10.\n",
      "  % (min_groups, self.n_splits)), UserWarning)\n"
     ]
    },
    {
     "name": "stdout",
     "output_type": "stream",
     "text": [
      "Cross validation evaluation...\n",
      "              precision    recall  f1-score   support\n",
      "\n",
      "         cnd       0.63      0.70      0.66       149\n",
      "         cnp       0.58      0.52      0.55       148\n",
      "       other       0.89      0.89      0.89       705\n",
      "     sub-cnd       0.71      0.83      0.77         6\n",
      "\n",
      "    accuracy                           0.81      1008\n",
      "   macro avg       0.70      0.74      0.72      1008\n",
      "weighted avg       0.81      0.81      0.81      1008\n",
      "\n",
      "Training final model...\n"
     ]
    }
   ],
   "source": [
    "model_cn, vectorizer_cn, annotated_cn = key_functions.train_CN_classifier('../../data/annotations/final_annotations.txt', LogisticRegression(C = 1, penalty='l1', solver = 'liblinear', class_weight = 'balanced', max_iter = 10000, random_state=42))\n"
   ]
  },
  {
   "cell_type": "markdown",
   "metadata": {},
   "source": [
    "### Remove `start_idx_ratio`\n"
   ]
  },
  {
   "cell_type": "code",
   "execution_count": 2,
   "metadata": {},
   "outputs": [
    {
     "name": "stdout",
     "output_type": "stream",
     "text": [
      "Reading training data and extracting features... 99.65870307167235 %% 15.017064846416384 %\n",
      "Vectorizing...\n",
      "Tag Distribution\n",
      "Counter({'other': 705, 'cnd': 149, 'cnp': 148, 'sub-cnd': 6})\n"
     ]
    },
    {
     "name": "stderr",
     "output_type": "stream",
     "text": [
      "/home/ilana/anaconda3/lib/python3.7/site-packages/sklearn/model_selection/_split.py:667: UserWarning: The least populated class in y has only 6 members, which is less than n_splits=10.\n",
      "  % (min_groups, self.n_splits)), UserWarning)\n",
      "/home/ilana/anaconda3/lib/python3.7/site-packages/sklearn/model_selection/_split.py:667: UserWarning: The least populated class in y has only 6 members, which is less than n_splits=10.\n",
      "  % (min_groups, self.n_splits)), UserWarning)\n"
     ]
    },
    {
     "name": "stdout",
     "output_type": "stream",
     "text": [
      "Cross validation evaluation...\n",
      "              precision    recall  f1-score   support\n",
      "\n",
      "         cnd       0.66      0.71      0.68       149\n",
      "         cnp       0.59      0.57      0.58       148\n",
      "       other       0.90      0.89      0.90       705\n",
      "     sub-cnd       0.71      0.83      0.77         6\n",
      "\n",
      "    accuracy                           0.82      1008\n",
      "   macro avg       0.72      0.75      0.73      1008\n",
      "weighted avg       0.82      0.82      0.82      1008\n",
      "\n",
      "Training final model...\n"
     ]
    }
   ],
   "source": [
    "model_cn, vectorizer_cn, annotated_cn = key_functions.train_CN_classifier('../../data/annotations/final_annotations.txt', LogisticRegression(C = 1, penalty='l1', solver = 'liblinear', class_weight = 'balanced', max_iter = 10000, random_state=42))\n"
   ]
  },
  {
   "cell_type": "markdown",
   "metadata": {},
   "source": [
    "### Remove Defendant Name"
   ]
  },
  {
   "cell_type": "code",
   "execution_count": 2,
   "metadata": {},
   "outputs": [
    {
     "name": "stdout",
     "output_type": "stream",
     "text": [
      "Reading training data and extracting features... 99.65870307167235 %%\n",
      "Vectorizing...\n",
      "Tag Distribution\n",
      "Counter({'other': 705, 'cnd': 149, 'cnp': 148, 'sub-cnd': 6})\n"
     ]
    },
    {
     "name": "stderr",
     "output_type": "stream",
     "text": [
      "/home/ilana/anaconda3/lib/python3.7/site-packages/sklearn/model_selection/_split.py:667: UserWarning: The least populated class in y has only 6 members, which is less than n_splits=10.\n",
      "  % (min_groups, self.n_splits)), UserWarning)\n",
      "/home/ilana/anaconda3/lib/python3.7/site-packages/sklearn/model_selection/_split.py:667: UserWarning: The least populated class in y has only 6 members, which is less than n_splits=10.\n",
      "  % (min_groups, self.n_splits)), UserWarning)\n"
     ]
    },
    {
     "name": "stdout",
     "output_type": "stream",
     "text": [
      "Cross validation evaluation...\n",
      "              precision    recall  f1-score   support\n",
      "\n",
      "         cnd       0.66      0.70      0.68       149\n",
      "         cnp       0.58      0.56      0.57       148\n",
      "       other       0.90      0.89      0.89       705\n",
      "     sub-cnd       0.71      0.83      0.77         6\n",
      "\n",
      "    accuracy                           0.81      1008\n",
      "   macro avg       0.71      0.75      0.73      1008\n",
      "weighted avg       0.82      0.81      0.81      1008\n",
      "\n",
      "Training final model...\n"
     ]
    }
   ],
   "source": [
    "model_cn, vectorizer_cn, annotated_cn = key_functions.train_CN_classifier('../../data/annotations/final_annotations.txt', LogisticRegression(C = 1, penalty='l1', solver = 'liblinear', class_weight = 'balanced', max_iter = 10000, random_state=42))\n"
   ]
  },
  {
   "cell_type": "markdown",
   "metadata": {},
   "source": [
    "### Remove Plaintiff Name"
   ]
  },
  {
   "cell_type": "code",
   "execution_count": 2,
   "metadata": {},
   "outputs": [
    {
     "name": "stdout",
     "output_type": "stream",
     "text": [
      "Reading training data and extracting features... 99.65870307167235 %%\n",
      "Vectorizing...\n",
      "Tag Distribution\n",
      "Counter({'other': 705, 'cnd': 149, 'cnp': 148, 'sub-cnd': 6})\n"
     ]
    },
    {
     "name": "stderr",
     "output_type": "stream",
     "text": [
      "/home/ilana/anaconda3/lib/python3.7/site-packages/sklearn/model_selection/_split.py:667: UserWarning: The least populated class in y has only 6 members, which is less than n_splits=10.\n",
      "  % (min_groups, self.n_splits)), UserWarning)\n",
      "/home/ilana/anaconda3/lib/python3.7/site-packages/sklearn/model_selection/_split.py:667: UserWarning: The least populated class in y has only 6 members, which is less than n_splits=10.\n",
      "  % (min_groups, self.n_splits)), UserWarning)\n"
     ]
    },
    {
     "name": "stdout",
     "output_type": "stream",
     "text": [
      "Cross validation evaluation...\n",
      "              precision    recall  f1-score   support\n",
      "\n",
      "         cnd       0.66      0.70      0.68       149\n",
      "         cnp       0.58      0.56      0.57       148\n",
      "       other       0.90      0.89      0.89       705\n",
      "     sub-cnd       0.71      0.83      0.77         6\n",
      "\n",
      "    accuracy                           0.81      1008\n",
      "   macro avg       0.71      0.75      0.73      1008\n",
      "weighted avg       0.82      0.81      0.81      1008\n",
      "\n",
      "Training final model...\n"
     ]
    }
   ],
   "source": [
    "model_cn, vectorizer_cn, annotated_cn = key_functions.train_CN_classifier('../../data/annotations/final_annotations.txt', LogisticRegression(C = 1, penalty='l1', solver = 'liblinear', class_weight = 'balanced', max_iter = 10000, random_state=42))\n"
   ]
  },
  {
   "cell_type": "markdown",
   "metadata": {},
   "source": [
    "### Plaintiff and Reduction\n"
   ]
  },
  {
   "cell_type": "code",
   "execution_count": 2,
   "metadata": {
    "collapsed": true,
    "jupyter": {
     "outputs_hidden": true
    }
   },
   "outputs": [
    {
     "name": "stdout",
     "output_type": "stream",
     "text": [
      "Reading training data and extracting features... 99.65870307167235 %%\n",
      "Vectorizing...\n",
      "Tag Distribution\n",
      "Counter({'other': 705, 'cnd': 149, 'cnp': 148, 'sub-cnd': 6})\n"
     ]
    },
    {
     "name": "stderr",
     "output_type": "stream",
     "text": [
      "/home/ilana/anaconda3/lib/python3.7/site-packages/sklearn/model_selection/_split.py:667: UserWarning: The least populated class in y has only 6 members, which is less than n_splits=10.\n",
      "  % (min_groups, self.n_splits)), UserWarning)\n",
      "/home/ilana/anaconda3/lib/python3.7/site-packages/sklearn/model_selection/_split.py:667: UserWarning: The least populated class in y has only 6 members, which is less than n_splits=10.\n",
      "  % (min_groups, self.n_splits)), UserWarning)\n"
     ]
    },
    {
     "name": "stdout",
     "output_type": "stream",
     "text": [
      "Cross validation evaluation...\n",
      "              precision    recall  f1-score   support\n",
      "\n",
      "         cnd       0.62      0.69      0.65       149\n",
      "         cnp       0.57      0.52      0.54       148\n",
      "       other       0.89      0.89      0.89       705\n",
      "     sub-cnd       0.71      0.83      0.77         6\n",
      "\n",
      "    accuracy                           0.80      1008\n",
      "   macro avg       0.70      0.73      0.71      1008\n",
      "weighted avg       0.81      0.80      0.80      1008\n",
      "\n",
      "Training final model...\n"
     ]
    },
    {
     "ename": "KeyboardInterrupt",
     "evalue": "",
     "output_type": "error",
     "traceback": [
      "\u001b[0;31m---------------------------------------------------------------------------\u001b[0m",
      "\u001b[0;31mKeyboardInterrupt\u001b[0m                         Traceback (most recent call last)",
      "\u001b[0;32m<ipython-input-2-3e671f2f981e>\u001b[0m in \u001b[0;36m<module>\u001b[0;34m\u001b[0m\n\u001b[0;32m----> 1\u001b[0;31m \u001b[0mmodel_cn\u001b[0m\u001b[0;34m,\u001b[0m \u001b[0mvectorizer_cn\u001b[0m\u001b[0;34m,\u001b[0m \u001b[0mannotated_cn\u001b[0m \u001b[0;34m=\u001b[0m \u001b[0mkey_functions\u001b[0m\u001b[0;34m.\u001b[0m\u001b[0mtrain_CN_classifier\u001b[0m\u001b[0;34m(\u001b[0m\u001b[0;34m'../../data/annotations/all_annotations_CN.txt'\u001b[0m\u001b[0;34m,\u001b[0m \u001b[0mLogisticRegression\u001b[0m\u001b[0;34m(\u001b[0m\u001b[0mC\u001b[0m \u001b[0;34m=\u001b[0m \u001b[0;36m1\u001b[0m\u001b[0;34m,\u001b[0m \u001b[0mpenalty\u001b[0m\u001b[0;34m=\u001b[0m\u001b[0;34m'l1'\u001b[0m\u001b[0;34m,\u001b[0m \u001b[0msolver\u001b[0m \u001b[0;34m=\u001b[0m \u001b[0;34m'liblinear'\u001b[0m\u001b[0;34m,\u001b[0m \u001b[0mclass_weight\u001b[0m \u001b[0;34m=\u001b[0m \u001b[0;34m'balanced'\u001b[0m\u001b[0;34m,\u001b[0m \u001b[0mmax_iter\u001b[0m \u001b[0;34m=\u001b[0m \u001b[0;36m10000\u001b[0m\u001b[0;34m,\u001b[0m \u001b[0mrandom_state\u001b[0m\u001b[0;34m=\u001b[0m\u001b[0;36m42\u001b[0m\u001b[0;34m)\u001b[0m\u001b[0;34m)\u001b[0m\u001b[0;34m\u001b[0m\u001b[0;34m\u001b[0m\u001b[0m\n\u001b[0m",
      "\u001b[0;32m~/Documents/MDS_Capstone/Capstone-project/code/experimental-notebooks/key_functions.py\u001b[0m in \u001b[0;36mtrain_CN_classifier\u001b[0;34m(path, clf, min_para_score, min_predict_proba, context_length)\u001b[0m\n\u001b[1;32m   1690\u001b[0m \u001b[0;34m\u001b[0m\u001b[0m\n\u001b[1;32m   1691\u001b[0m     \u001b[0mprint\u001b[0m\u001b[0;34m(\u001b[0m\u001b[0;34m'Training final model...'\u001b[0m\u001b[0;34m)\u001b[0m\u001b[0;34m\u001b[0m\u001b[0;34m\u001b[0m\u001b[0m\n\u001b[0;32m-> 1692\u001b[0;31m     \u001b[0mclf\u001b[0m\u001b[0;34m.\u001b[0m\u001b[0mfit\u001b[0m\u001b[0;34m(\u001b[0m\u001b[0mX\u001b[0m\u001b[0;34m,\u001b[0m \u001b[0my\u001b[0m\u001b[0;34m)\u001b[0m\u001b[0;34m\u001b[0m\u001b[0;34m\u001b[0m\u001b[0m\n\u001b[0m\u001b[1;32m   1693\u001b[0m     \u001b[0;32mreturn\u001b[0m \u001b[0mclf\u001b[0m\u001b[0;34m,\u001b[0m \u001b[0mvectorizer\u001b[0m\u001b[0;34m,\u001b[0m \u001b[0mcase_percents\u001b[0m \u001b[0;31m#feats_train, feats_test, y_train, y_test #clf, vectorizer\u001b[0m\u001b[0;34m\u001b[0m\u001b[0;34m\u001b[0m\u001b[0m\n\u001b[1;32m   1694\u001b[0m \u001b[0;34m\u001b[0m\u001b[0m\n",
      "\u001b[0;32m~/anaconda3/lib/python3.7/site-packages/sklearn/linear_model/_logistic.py\u001b[0m in \u001b[0;36mfit\u001b[0;34m(self, X, y, sample_weight)\u001b[0m\n\u001b[1;32m   1542\u001b[0m                 \u001b[0mself\u001b[0m\u001b[0;34m.\u001b[0m\u001b[0mclass_weight\u001b[0m\u001b[0;34m,\u001b[0m \u001b[0mself\u001b[0m\u001b[0;34m.\u001b[0m\u001b[0mpenalty\u001b[0m\u001b[0;34m,\u001b[0m \u001b[0mself\u001b[0m\u001b[0;34m.\u001b[0m\u001b[0mdual\u001b[0m\u001b[0;34m,\u001b[0m \u001b[0mself\u001b[0m\u001b[0;34m.\u001b[0m\u001b[0mverbose\u001b[0m\u001b[0;34m,\u001b[0m\u001b[0;34m\u001b[0m\u001b[0;34m\u001b[0m\u001b[0m\n\u001b[1;32m   1543\u001b[0m                 \u001b[0mself\u001b[0m\u001b[0;34m.\u001b[0m\u001b[0mmax_iter\u001b[0m\u001b[0;34m,\u001b[0m \u001b[0mself\u001b[0m\u001b[0;34m.\u001b[0m\u001b[0mtol\u001b[0m\u001b[0;34m,\u001b[0m \u001b[0mself\u001b[0m\u001b[0;34m.\u001b[0m\u001b[0mrandom_state\u001b[0m\u001b[0;34m,\u001b[0m\u001b[0;34m\u001b[0m\u001b[0;34m\u001b[0m\u001b[0m\n\u001b[0;32m-> 1544\u001b[0;31m                 sample_weight=sample_weight)\n\u001b[0m\u001b[1;32m   1545\u001b[0m             \u001b[0mself\u001b[0m\u001b[0;34m.\u001b[0m\u001b[0mn_iter_\u001b[0m \u001b[0;34m=\u001b[0m \u001b[0mnp\u001b[0m\u001b[0;34m.\u001b[0m\u001b[0marray\u001b[0m\u001b[0;34m(\u001b[0m\u001b[0;34m[\u001b[0m\u001b[0mn_iter_\u001b[0m\u001b[0;34m]\u001b[0m\u001b[0;34m)\u001b[0m\u001b[0;34m\u001b[0m\u001b[0;34m\u001b[0m\u001b[0m\n\u001b[1;32m   1546\u001b[0m             \u001b[0;32mreturn\u001b[0m \u001b[0mself\u001b[0m\u001b[0;34m\u001b[0m\u001b[0;34m\u001b[0m\u001b[0m\n",
      "\u001b[0;32m~/anaconda3/lib/python3.7/site-packages/sklearn/svm/_base.py\u001b[0m in \u001b[0;36m_fit_liblinear\u001b[0;34m(X, y, C, fit_intercept, intercept_scaling, class_weight, penalty, dual, verbose, max_iter, tol, random_state, multi_class, loss, epsilon, sample_weight)\u001b[0m\n\u001b[1;32m    937\u001b[0m         \u001b[0mX\u001b[0m\u001b[0;34m,\u001b[0m \u001b[0my_ind\u001b[0m\u001b[0;34m,\u001b[0m \u001b[0msp\u001b[0m\u001b[0;34m.\u001b[0m\u001b[0misspmatrix\u001b[0m\u001b[0;34m(\u001b[0m\u001b[0mX\u001b[0m\u001b[0;34m)\u001b[0m\u001b[0;34m,\u001b[0m \u001b[0msolver_type\u001b[0m\u001b[0;34m,\u001b[0m \u001b[0mtol\u001b[0m\u001b[0;34m,\u001b[0m \u001b[0mbias\u001b[0m\u001b[0;34m,\u001b[0m \u001b[0mC\u001b[0m\u001b[0;34m,\u001b[0m\u001b[0;34m\u001b[0m\u001b[0;34m\u001b[0m\u001b[0m\n\u001b[1;32m    938\u001b[0m         \u001b[0mclass_weight_\u001b[0m\u001b[0;34m,\u001b[0m \u001b[0mmax_iter\u001b[0m\u001b[0;34m,\u001b[0m \u001b[0mrnd\u001b[0m\u001b[0;34m.\u001b[0m\u001b[0mrandint\u001b[0m\u001b[0;34m(\u001b[0m\u001b[0mnp\u001b[0m\u001b[0;34m.\u001b[0m\u001b[0miinfo\u001b[0m\u001b[0;34m(\u001b[0m\u001b[0;34m'i'\u001b[0m\u001b[0;34m)\u001b[0m\u001b[0;34m.\u001b[0m\u001b[0mmax\u001b[0m\u001b[0;34m)\u001b[0m\u001b[0;34m,\u001b[0m\u001b[0;34m\u001b[0m\u001b[0;34m\u001b[0m\u001b[0m\n\u001b[0;32m--> 939\u001b[0;31m         epsilon, sample_weight)\n\u001b[0m\u001b[1;32m    940\u001b[0m     \u001b[0;31m# Regarding rnd.randint(..) in the above signature:\u001b[0m\u001b[0;34m\u001b[0m\u001b[0;34m\u001b[0m\u001b[0;34m\u001b[0m\u001b[0m\n\u001b[1;32m    941\u001b[0m     \u001b[0;31m# seed for srand in range [0..INT_MAX); due to limitations in Numpy\u001b[0m\u001b[0;34m\u001b[0m\u001b[0;34m\u001b[0m\u001b[0;34m\u001b[0m\u001b[0m\n",
      "\u001b[0;31mKeyboardInterrupt\u001b[0m: "
     ]
    }
   ],
   "source": [
    "model_cn, vectorizer_cn, annotated_cn = key_functions.train_CN_classifier('../../data/annotations/final_annotations.txt', LogisticRegression(C = 1, penalty='l1', solver = 'liblinear', class_weight = 'balanced', max_iter = 10000, random_state=42))\n"
   ]
  },
  {
   "cell_type": "markdown",
   "metadata": {},
   "source": [
    "### Defendant and Reduction"
   ]
  },
  {
   "cell_type": "code",
   "execution_count": 2,
   "metadata": {},
   "outputs": [
    {
     "name": "stdout",
     "output_type": "stream",
     "text": [
      "Reading training data and extracting features... 99.65870307167235 %% 53.242320819112635 %\n",
      "Vectorizing...\n",
      "Tag Distribution\n",
      "Counter({'other': 705, 'cnd': 149, 'cnp': 148, 'sub-cnd': 6})\n"
     ]
    },
    {
     "name": "stderr",
     "output_type": "stream",
     "text": [
      "/home/ilana/anaconda3/lib/python3.7/site-packages/sklearn/model_selection/_split.py:667: UserWarning: The least populated class in y has only 6 members, which is less than n_splits=10.\n",
      "  % (min_groups, self.n_splits)), UserWarning)\n",
      "/home/ilana/anaconda3/lib/python3.7/site-packages/sklearn/model_selection/_split.py:667: UserWarning: The least populated class in y has only 6 members, which is less than n_splits=10.\n",
      "  % (min_groups, self.n_splits)), UserWarning)\n"
     ]
    },
    {
     "name": "stdout",
     "output_type": "stream",
     "text": [
      "Cross validation evaluation...\n",
      "              precision    recall  f1-score   support\n",
      "\n",
      "         cnd       0.64      0.67      0.66       149\n",
      "         cnp       0.58      0.53      0.55       148\n",
      "       other       0.89      0.89      0.89       705\n",
      "     sub-cnd       0.71      0.83      0.77         6\n",
      "\n",
      "    accuracy                           0.81      1008\n",
      "   macro avg       0.71      0.73      0.72      1008\n",
      "weighted avg       0.81      0.81      0.81      1008\n",
      "\n",
      "Training final model...\n"
     ]
    }
   ],
   "source": [
    "model_cn, vectorizer_cn, annotated_cn = key_functions.train_CN_classifier('../../data/annotations/final_annotations.txt', LogisticRegression(C = 1, penalty='l1', solver = 'liblinear', class_weight = 'balanced', max_iter = 10000, random_state=42))\n"
   ]
  },
  {
   "cell_type": "markdown",
   "metadata": {},
   "source": [
    "### Reduce lexicon"
   ]
  },
  {
   "cell_type": "code",
   "execution_count": 2,
   "metadata": {},
   "outputs": [
    {
     "name": "stdout",
     "output_type": "stream",
     "text": [
      "Reading training data and extracting features... 99.65870307167235 %% 71.33105802047781 %\n",
      "Vectorizing...\n",
      "Tag Distribution\n",
      "Counter({'other': 705, 'cnd': 149, 'cnp': 148, 'sub-cnd': 6})\n"
     ]
    },
    {
     "name": "stderr",
     "output_type": "stream",
     "text": [
      "/home/ilana/anaconda3/lib/python3.7/site-packages/sklearn/model_selection/_split.py:667: UserWarning: The least populated class in y has only 6 members, which is less than n_splits=10.\n",
      "  % (min_groups, self.n_splits)), UserWarning)\n",
      "/home/ilana/anaconda3/lib/python3.7/site-packages/sklearn/model_selection/_split.py:667: UserWarning: The least populated class in y has only 6 members, which is less than n_splits=10.\n",
      "  % (min_groups, self.n_splits)), UserWarning)\n"
     ]
    },
    {
     "name": "stdout",
     "output_type": "stream",
     "text": [
      "Cross validation evaluation...\n",
      "              precision    recall  f1-score   support\n",
      "\n",
      "         cnd       0.67      0.70      0.68       149\n",
      "         cnp       0.58      0.52      0.55       148\n",
      "       other       0.89      0.90      0.90       705\n",
      "     sub-cnd       0.71      0.83      0.77         6\n",
      "\n",
      "    accuracy                           0.81      1008\n",
      "   macro avg       0.71      0.74      0.72      1008\n",
      "weighted avg       0.81      0.81      0.81      1008\n",
      "\n",
      "Training final model...\n"
     ]
    }
   ],
   "source": [
    "model_cn, vectorizer_cn, annotated_cn = key_functions.train_CN_classifier('../../data/annotations/final_annotations.txt', LogisticRegression(C = 1, penalty='l1', solver = 'liblinear', class_weight = 'balanced', max_iter = 10000, random_state=42))\n"
   ]
  },
  {
   "cell_type": "markdown",
   "metadata": {},
   "source": [
    "### Defendant Mentioned"
   ]
  },
  {
   "cell_type": "code",
   "execution_count": 2,
   "metadata": {},
   "outputs": [
    {
     "name": "stdout",
     "output_type": "stream",
     "text": [
      "Reading training data and extracting features... 99.65870307167235 %%\n",
      "Vectorizing...\n",
      "Tag Distribution\n",
      "Counter({'other': 705, 'cnd': 149, 'cnp': 148, 'sub-cnd': 6})\n"
     ]
    },
    {
     "name": "stderr",
     "output_type": "stream",
     "text": [
      "/home/ilana/anaconda3/lib/python3.7/site-packages/sklearn/model_selection/_split.py:667: UserWarning: The least populated class in y has only 6 members, which is less than n_splits=10.\n",
      "  % (min_groups, self.n_splits)), UserWarning)\n",
      "/home/ilana/anaconda3/lib/python3.7/site-packages/sklearn/model_selection/_split.py:667: UserWarning: The least populated class in y has only 6 members, which is less than n_splits=10.\n",
      "  % (min_groups, self.n_splits)), UserWarning)\n"
     ]
    },
    {
     "name": "stdout",
     "output_type": "stream",
     "text": [
      "Cross validation evaluation...\n",
      "              precision    recall  f1-score   support\n",
      "\n",
      "         cnd       0.65      0.68      0.67       149\n",
      "         cnp       0.57      0.55      0.56       148\n",
      "       other       0.90      0.89      0.89       705\n",
      "     sub-cnd       0.71      0.83      0.77         6\n",
      "\n",
      "    accuracy                           0.81      1008\n",
      "   macro avg       0.71      0.74      0.72      1008\n",
      "weighted avg       0.81      0.81      0.81      1008\n",
      "\n",
      "Training final model...\n"
     ]
    }
   ],
   "source": [
    "model_cn, vectorizer_cn, annotated_cn = key_functions.train_CN_classifier('../../data/annotations/final_annotations.txt', LogisticRegression(C = 1, penalty='l1', solver = 'liblinear', class_weight = 'balanced', max_iter = 10000, random_state=42))\n"
   ]
  },
  {
   "cell_type": "markdown",
   "metadata": {},
   "source": [
    "### Plaintiff Mentioned"
   ]
  },
  {
   "cell_type": "code",
   "execution_count": 2,
   "metadata": {},
   "outputs": [
    {
     "name": "stdout",
     "output_type": "stream",
     "text": [
      "Reading training data and extracting features... 99.65870307167235 %%\n",
      "Vectorizing...\n",
      "Tag Distribution\n",
      "Counter({'other': 705, 'cnd': 149, 'cnp': 148, 'sub-cnd': 6})\n"
     ]
    },
    {
     "name": "stderr",
     "output_type": "stream",
     "text": [
      "/home/ilana/anaconda3/lib/python3.7/site-packages/sklearn/model_selection/_split.py:667: UserWarning: The least populated class in y has only 6 members, which is less than n_splits=10.\n",
      "  % (min_groups, self.n_splits)), UserWarning)\n",
      "/home/ilana/anaconda3/lib/python3.7/site-packages/sklearn/model_selection/_split.py:667: UserWarning: The least populated class in y has only 6 members, which is less than n_splits=10.\n",
      "  % (min_groups, self.n_splits)), UserWarning)\n"
     ]
    },
    {
     "name": "stdout",
     "output_type": "stream",
     "text": [
      "Cross validation evaluation...\n",
      "              precision    recall  f1-score   support\n",
      "\n",
      "         cnd       0.66      0.70      0.68       149\n",
      "         cnp       0.58      0.56      0.57       148\n",
      "       other       0.90      0.89      0.89       705\n",
      "     sub-cnd       0.71      0.83      0.77         6\n",
      "\n",
      "    accuracy                           0.81      1008\n",
      "   macro avg       0.71      0.75      0.73      1008\n",
      "weighted avg       0.82      0.81      0.81      1008\n",
      "\n",
      "Training final model...\n"
     ]
    }
   ],
   "source": [
    "model_cn, vectorizer_cn, annotated_cn = key_functions.train_CN_classifier('../../data/annotations/final_annotations.txt', LogisticRegression(C = 1, penalty='l1', solver = 'liblinear', class_weight = 'balanced', max_iter = 10000, random_state=42))\n"
   ]
  },
  {
   "cell_type": "markdown",
   "metadata": {},
   "source": [
    "### BOW (unordered)"
   ]
  },
  {
   "cell_type": "code",
   "execution_count": 2,
   "metadata": {},
   "outputs": [
    {
     "name": "stdout",
     "output_type": "stream",
     "text": [
      "Reading training data and extracting features... 99.65870307167235 %% 57.33788395904437 %\n",
      "Vectorizing...\n",
      "Tag Distribution\n",
      "Counter({'other': 705, 'cnd': 149, 'cnp': 148, 'sub-cnd': 6})\n"
     ]
    },
    {
     "name": "stderr",
     "output_type": "stream",
     "text": [
      "/home/ilana/anaconda3/lib/python3.7/site-packages/sklearn/model_selection/_split.py:667: UserWarning: The least populated class in y has only 6 members, which is less than n_splits=10.\n",
      "  % (min_groups, self.n_splits)), UserWarning)\n",
      "/home/ilana/anaconda3/lib/python3.7/site-packages/sklearn/model_selection/_split.py:667: UserWarning: The least populated class in y has only 6 members, which is less than n_splits=10.\n",
      "  % (min_groups, self.n_splits)), UserWarning)\n"
     ]
    },
    {
     "name": "stdout",
     "output_type": "stream",
     "text": [
      "Cross validation evaluation...\n",
      "              precision    recall  f1-score   support\n",
      "\n",
      "         cnd       0.59      0.62      0.60       149\n",
      "         cnp       0.50      0.51      0.50       148\n",
      "       other       0.88      0.86      0.87       705\n",
      "     sub-cnd       0.75      1.00      0.86         6\n",
      "\n",
      "    accuracy                           0.77      1008\n",
      "   macro avg       0.68      0.75      0.71      1008\n",
      "weighted avg       0.78      0.77      0.77      1008\n",
      "\n",
      "Training final model...\n"
     ]
    }
   ],
   "source": [
    "model_cn, vectorizer_cn, annotated_cn = key_functions.train_CN_classifier('../../data/annotations/final_annotations.txt', LogisticRegression(C = 1, penalty='l1', solver = 'liblinear', class_weight = 'balanced', max_iter = 10000, random_state=42))\n"
   ]
  },
  {
   "cell_type": "markdown",
   "metadata": {},
   "source": [
    "### BOW After"
   ]
  },
  {
   "cell_type": "code",
   "execution_count": 2,
   "metadata": {},
   "outputs": [
    {
     "name": "stdout",
     "output_type": "stream",
     "text": [
      "Reading training data and extracting features... 99.65870307167235 %%\n",
      "Vectorizing...\n",
      "Tag Distribution\n",
      "Counter({'other': 705, 'cnd': 149, 'cnp': 148, 'sub-cnd': 6})\n"
     ]
    },
    {
     "name": "stderr",
     "output_type": "stream",
     "text": [
      "/home/ilana/anaconda3/lib/python3.7/site-packages/sklearn/model_selection/_split.py:667: UserWarning: The least populated class in y has only 6 members, which is less than n_splits=10.\n",
      "  % (min_groups, self.n_splits)), UserWarning)\n",
      "/home/ilana/anaconda3/lib/python3.7/site-packages/sklearn/model_selection/_split.py:667: UserWarning: The least populated class in y has only 6 members, which is less than n_splits=10.\n",
      "  % (min_groups, self.n_splits)), UserWarning)\n"
     ]
    },
    {
     "name": "stdout",
     "output_type": "stream",
     "text": [
      "Cross validation evaluation...\n",
      "              precision    recall  f1-score   support\n",
      "\n",
      "         cnd       0.66      0.73      0.70       149\n",
      "         cnp       0.58      0.55      0.57       148\n",
      "       other       0.90      0.89      0.90       705\n",
      "     sub-cnd       0.71      0.83      0.77         6\n",
      "\n",
      "    accuracy                           0.82      1008\n",
      "   macro avg       0.71      0.75      0.73      1008\n",
      "weighted avg       0.82      0.82      0.82      1008\n",
      "\n",
      "Training final model...\n"
     ]
    }
   ],
   "source": [
    "model_cn, vectorizer_cn, annotated_cn = key_functions.train_CN_classifier('../data/annotations/final_annotations.txt', LogisticRegression(C = 1, penalty='l1', solver = 'liblinear', class_weight = 'balanced', max_iter = 10000, random_state=42))"
   ]
  },
  {
   "cell_type": "markdown",
   "metadata": {},
   "source": [
    "### BOW before\n"
   ]
  },
  {
   "cell_type": "code",
   "execution_count": 2,
   "metadata": {},
   "outputs": [
    {
     "name": "stdout",
     "output_type": "stream",
     "text": [
      "Reading training data and extracting features... 99.65870307167235 %%\n",
      "Vectorizing...\n",
      "Tag Distribution\n",
      "Counter({'other': 705, 'cnd': 149, 'cnp': 148, 'sub-cnd': 6})\n"
     ]
    },
    {
     "name": "stderr",
     "output_type": "stream",
     "text": [
      "/home/ilana/anaconda3/lib/python3.7/site-packages/sklearn/model_selection/_split.py:667: UserWarning: The least populated class in y has only 6 members, which is less than n_splits=10.\n",
      "  % (min_groups, self.n_splits)), UserWarning)\n",
      "/home/ilana/anaconda3/lib/python3.7/site-packages/sklearn/model_selection/_split.py:667: UserWarning: The least populated class in y has only 6 members, which is less than n_splits=10.\n",
      "  % (min_groups, self.n_splits)), UserWarning)\n"
     ]
    },
    {
     "name": "stdout",
     "output_type": "stream",
     "text": [
      "Cross validation evaluation...\n",
      "              precision    recall  f1-score   support\n",
      "\n",
      "         cnd       0.64      0.71      0.68       149\n",
      "         cnp       0.57      0.55      0.56       148\n",
      "       other       0.91      0.89      0.90       705\n",
      "     sub-cnd       0.71      0.83      0.77         6\n",
      "\n",
      "    accuracy                           0.81      1008\n",
      "   macro avg       0.71      0.75      0.73      1008\n",
      "weighted avg       0.82      0.81      0.81      1008\n",
      "\n",
      "Training final model...\n"
     ]
    }
   ],
   "source": [
    "model_cn, vectorizer_cn, annotated_cn = key_functions.train_CN_classifier('../data/annotations/final_annotations.txt', LogisticRegression(C = 1, penalty='l1', solver = 'liblinear', class_weight = 'balanced', max_iter = 10000, random_state=42))"
   ]
  },
  {
   "cell_type": "markdown",
   "metadata": {},
   "source": [
    "### Add Tfidf to CN preprocessing - Worsens Results"
   ]
  },
  {
   "cell_type": "code",
   "execution_count": 3,
   "metadata": {},
   "outputs": [
    {
     "name": "stdout",
     "output_type": "stream",
     "text": [
      "Reading training data and extracting features... 99.65870307167235 %% 77.81569965870307 %\n",
      "Vectorizing...\n",
      "Tag Distribution\n",
      "Counter({'other': 705, 'cnd': 149, 'cnp': 148, 'sub-cnd': 6})\n"
     ]
    },
    {
     "name": "stderr",
     "output_type": "stream",
     "text": [
      "/home/ilana/anaconda3/lib/python3.7/site-packages/sklearn/model_selection/_split.py:667: UserWarning: The least populated class in y has only 6 members, which is less than n_splits=10.\n",
      "  % (min_groups, self.n_splits)), UserWarning)\n",
      "/home/ilana/anaconda3/lib/python3.7/site-packages/sklearn/svm/_base.py:947: ConvergenceWarning: Liblinear failed to converge, increase the number of iterations.\n",
      "  \"the number of iterations.\", ConvergenceWarning)\n",
      "/home/ilana/anaconda3/lib/python3.7/site-packages/sklearn/model_selection/_split.py:667: UserWarning: The least populated class in y has only 6 members, which is less than n_splits=10.\n",
      "  % (min_groups, self.n_splits)), UserWarning)\n",
      "/home/ilana/anaconda3/lib/python3.7/site-packages/sklearn/svm/_base.py:947: ConvergenceWarning: Liblinear failed to converge, increase the number of iterations.\n",
      "  \"the number of iterations.\", ConvergenceWarning)\n"
     ]
    },
    {
     "name": "stdout",
     "output_type": "stream",
     "text": [
      "Cross validation evaluation...\n",
      "              precision    recall  f1-score   support\n",
      "\n",
      "         cnd       0.63      0.56      0.60       149\n",
      "         cnp       0.44      0.43      0.43       148\n",
      "       other       0.86      0.88      0.87       705\n",
      "     sub-cnd       0.60      0.50      0.55         6\n",
      "\n",
      "    accuracy                           0.77      1008\n",
      "   macro avg       0.63      0.59      0.61      1008\n",
      "weighted avg       0.76      0.77      0.76      1008\n",
      "\n",
      "Training final model...\n"
     ]
    }
   ],
   "source": [
    "model_cn, vectorizer_cn, annotated_cn = key_functions.train_CN_classifier('../data/annotations/final_annotations.txt', LogisticRegression(C = 1000, penalty='l1', solver = 'liblinear', class_weight = 'balanced', max_iter = 10000, random_state=42))"
   ]
  },
  {
   "cell_type": "markdown",
   "metadata": {},
   "source": [
    "### Dont Lemmatize\n"
   ]
  },
  {
   "cell_type": "code",
   "execution_count": 2,
   "metadata": {},
   "outputs": [
    {
     "name": "stdout",
     "output_type": "stream",
     "text": [
      "Reading training data and extracting features... 99.65870307167235 %% 18.771331058020476 % 83.27645051194538 %\n",
      "Vectorizing...\n",
      "Tag Distribution\n",
      "Counter({'other': 705, 'cnd': 149, 'cnp': 148, 'sub-cnd': 6})\n"
     ]
    },
    {
     "name": "stderr",
     "output_type": "stream",
     "text": [
      "/home/ilana/anaconda3/lib/python3.7/site-packages/sklearn/model_selection/_split.py:667: UserWarning: The least populated class in y has only 6 members, which is less than n_splits=10.\n",
      "  % (min_groups, self.n_splits)), UserWarning)\n",
      "/home/ilana/anaconda3/lib/python3.7/site-packages/sklearn/svm/_base.py:947: ConvergenceWarning: Liblinear failed to converge, increase the number of iterations.\n",
      "  \"the number of iterations.\", ConvergenceWarning)\n",
      "/home/ilana/anaconda3/lib/python3.7/site-packages/sklearn/model_selection/_split.py:667: UserWarning: The least populated class in y has only 6 members, which is less than n_splits=10.\n",
      "  % (min_groups, self.n_splits)), UserWarning)\n",
      "/home/ilana/anaconda3/lib/python3.7/site-packages/sklearn/svm/_base.py:947: ConvergenceWarning: Liblinear failed to converge, increase the number of iterations.\n",
      "  \"the number of iterations.\", ConvergenceWarning)\n"
     ]
    },
    {
     "name": "stdout",
     "output_type": "stream",
     "text": [
      "Cross validation evaluation...\n",
      "              precision    recall  f1-score   support\n",
      "\n",
      "         cnd       0.68      0.72      0.70       149\n",
      "         cnp       0.57      0.55      0.56       148\n",
      "       other       0.90      0.90      0.90       705\n",
      "     sub-cnd       0.71      0.83      0.77         6\n",
      "\n",
      "    accuracy                           0.82      1008\n",
      "   macro avg       0.72      0.75      0.73      1008\n",
      "weighted avg       0.82      0.82      0.82      1008\n",
      "\n",
      "Training final model...\n"
     ]
    }
   ],
   "source": [
    "model_cn, vectorizer_cn, annotated_cn = key_functions.train_CN_classifier('../data/annotations/final_annotations.txt', LogisticRegression(C = 1, penalty='l1', solver = 'liblinear', class_weight = 'balanced', max_iter = 10000, random_state=42))"
   ]
  },
  {
   "cell_type": "markdown",
   "metadata": {},
   "source": [
    "### Remove all features that improve results with all features: BOW after, startidx ratio, reduce lexicon, lemmatize"
   ]
  },
  {
   "cell_type": "code",
   "execution_count": 2,
   "metadata": {},
   "outputs": [
    {
     "name": "stdout",
     "output_type": "stream",
     "text": [
      "Reading training data and extracting features... 99.65870307167235 %% 41.63822525597269 % 84.64163822525597 %\n",
      "Vectorizing...\n",
      "Tag Distribution\n",
      "Counter({'other': 705, 'cnd': 149, 'cnp': 148, 'sub-cnd': 6})\n"
     ]
    },
    {
     "name": "stderr",
     "output_type": "stream",
     "text": [
      "/home/ilana/anaconda3/lib/python3.7/site-packages/sklearn/model_selection/_split.py:667: UserWarning: The least populated class in y has only 6 members, which is less than n_splits=10.\n",
      "  % (min_groups, self.n_splits)), UserWarning)\n",
      "/home/ilana/anaconda3/lib/python3.7/site-packages/sklearn/model_selection/_split.py:667: UserWarning: The least populated class in y has only 6 members, which is less than n_splits=10.\n",
      "  % (min_groups, self.n_splits)), UserWarning)\n"
     ]
    },
    {
     "name": "stdout",
     "output_type": "stream",
     "text": [
      "Cross validation evaluation...\n",
      "              precision    recall  f1-score   support\n",
      "\n",
      "         cnd       0.68      0.69      0.68       149\n",
      "         cnp       0.60      0.54      0.57       148\n",
      "       other       0.89      0.90      0.90       705\n",
      "     sub-cnd       0.71      0.83      0.77         6\n",
      "\n",
      "    accuracy                           0.82      1008\n",
      "   macro avg       0.72      0.74      0.73      1008\n",
      "weighted avg       0.82      0.82      0.82      1008\n",
      "\n",
      "Training final model...\n"
     ]
    }
   ],
   "source": [
    "model_cn, vectorizer_cn, annotated_cn = key_functions.train_CN_classifier('../data/annotations/all_annotations_CN.txt', LogisticRegression(C = 1, penalty='l1', solver = 'liblinear', class_weight = 'balanced', max_iter = 10000, random_state=42))"
   ]
  },
  {
   "cell_type": "markdown",
   "metadata": {},
   "source": [
    "### BEST RESULTS: Remove Lemmatization and `start_idx_ratio`"
   ]
  },
  {
   "cell_type": "code",
   "execution_count": 5,
   "metadata": {},
   "outputs": [
    {
     "name": "stdout",
     "output_type": "stream",
     "text": [
      "Reading training data and extracting features... 99.65870307167235 %%\n",
      "Vectorizing...\n",
      "Tag Distribution\n",
      "Counter({'other': 705, 'cnd': 149, 'cnp': 148, 'sub-cnd': 6})\n"
     ]
    },
    {
     "name": "stderr",
     "output_type": "stream",
     "text": [
      "/home/ilana/anaconda3/lib/python3.7/site-packages/sklearn/model_selection/_split.py:667: UserWarning: The least populated class in y has only 6 members, which is less than n_splits=10.\n",
      "  % (min_groups, self.n_splits)), UserWarning)\n",
      "/home/ilana/anaconda3/lib/python3.7/site-packages/sklearn/model_selection/_split.py:667: UserWarning: The least populated class in y has only 6 members, which is less than n_splits=10.\n",
      "  % (min_groups, self.n_splits)), UserWarning)\n"
     ]
    },
    {
     "name": "stdout",
     "output_type": "stream",
     "text": [
      "Cross validation evaluation...\n",
      "              precision    recall  f1-score   support\n",
      "\n",
      "         cnd       0.69      0.72      0.71       149\n",
      "         cnp       0.59      0.56      0.58       148\n",
      "       other       0.90      0.90      0.90       705\n",
      "     sub-cnd       0.71      0.83      0.77         6\n",
      "\n",
      "    accuracy                           0.83      1008\n",
      "   macro avg       0.72      0.76      0.74      1008\n",
      "weighted avg       0.82      0.83      0.82      1008\n",
      "\n",
      "Training final model...\n"
     ]
    }
   ],
   "source": [
    "model_cn, vectorizer_cn, annotated_cn = key_functions.train_CN_classifier('../data/annotations/final_annotations.txt', LogisticRegression(C = 1, penalty='l1', solver = 'liblinear', class_weight = 'balanced', max_iter = 10000, random_state=42))"
   ]
  },
  {
   "cell_type": "code",
   "execution_count": 3,
   "metadata": {},
   "outputs": [],
   "source": [
    "filename = './annotated_percents'\n",
    "pickle.dump(annotated_cn, open(filename, 'wb'))\n",
    "filename = './best_model_cn.pkl'\n",
    "pickle.dump(model_cn, open(filename, 'wb'))\n",
    "filename = './best_vectorizer_cn.pkl'\n",
    "pickle.dump(vectorizer_cn, open(filename, 'wb'))"
   ]
  },
  {
   "cell_type": "markdown",
   "metadata": {},
   "source": [
    "### XGBoost Percent Reduction Results"
   ]
  },
  {
   "cell_type": "code",
   "execution_count": 3,
   "metadata": {},
   "outputs": [
    {
     "name": "stdout",
     "output_type": "stream",
     "text": [
      "Reading training data and extracting features... 99.65870307167235 %%\n",
      "Vectorizing...\n",
      "Tag Distribution\n",
      "Counter({'other': 705, 'cnd': 149, 'cnp': 148, 'sub-cnd': 6})\n"
     ]
    },
    {
     "name": "stderr",
     "output_type": "stream",
     "text": [
      "/home/ilana/anaconda3/lib/python3.7/site-packages/sklearn/model_selection/_split.py:667: UserWarning: The least populated class in y has only 6 members, which is less than n_splits=10.\n",
      "  % (min_groups, self.n_splits)), UserWarning)\n",
      "/home/ilana/anaconda3/lib/python3.7/site-packages/sklearn/model_selection/_split.py:667: UserWarning: The least populated class in y has only 6 members, which is less than n_splits=10.\n",
      "  % (min_groups, self.n_splits)), UserWarning)\n"
     ]
    },
    {
     "name": "stdout",
     "output_type": "stream",
     "text": [
      "Cross validation evaluation...\n",
      "              precision    recall  f1-score   support\n",
      "\n",
      "         cnd       0.72      0.56      0.63       149\n",
      "         cnp       0.59      0.42      0.49       148\n",
      "       other       0.85      0.94      0.89       705\n",
      "     sub-cnd       0.75      1.00      0.86         6\n",
      "\n",
      "    accuracy                           0.81      1008\n",
      "   macro avg       0.73      0.73      0.72      1008\n",
      "weighted avg       0.79      0.81      0.79      1008\n",
      "\n",
      "Training final model...\n"
     ]
    }
   ],
   "source": [
    "import xgboost as xgb\n",
    "model_cn, vectorizer_cn, annotated_cn = key_functions.train_CN_classifier('../data/annotations/final_annotations.txt', xgb.XGBClassifier(random_state = 42))"
   ]
  },
  {
   "cell_type": "markdown",
   "metadata": {},
   "source": [
    "### Random Forest Percent Reduction Results"
   ]
  },
  {
   "cell_type": "code",
   "execution_count": 4,
   "metadata": {},
   "outputs": [
    {
     "name": "stdout",
     "output_type": "stream",
     "text": [
      "Reading training data and extracting features... 99.65870307167235 %% 41.63822525597269 % %\n",
      "Vectorizing...\n",
      "Tag Distribution\n",
      "Counter({'other': 705, 'cnd': 149, 'cnp': 148, 'sub-cnd': 6})\n"
     ]
    },
    {
     "name": "stderr",
     "output_type": "stream",
     "text": [
      "/home/ilana/anaconda3/lib/python3.7/site-packages/sklearn/model_selection/_split.py:667: UserWarning: The least populated class in y has only 6 members, which is less than n_splits=10.\n",
      "  % (min_groups, self.n_splits)), UserWarning)\n",
      "/home/ilana/anaconda3/lib/python3.7/site-packages/sklearn/model_selection/_split.py:667: UserWarning: The least populated class in y has only 6 members, which is less than n_splits=10.\n",
      "  % (min_groups, self.n_splits)), UserWarning)\n"
     ]
    },
    {
     "name": "stdout",
     "output_type": "stream",
     "text": [
      "Cross validation evaluation...\n",
      "              precision    recall  f1-score   support\n",
      "\n",
      "         cnd       0.66      0.68      0.67       149\n",
      "         cnp       0.58      0.41      0.48       148\n",
      "       other       0.86      0.90      0.88       705\n",
      "     sub-cnd       1.00      0.83      0.91         6\n",
      "\n",
      "    accuracy                           0.80      1008\n",
      "   macro avg       0.77      0.71      0.73      1008\n",
      "weighted avg       0.79      0.80      0.79      1008\n",
      "\n",
      "Training final model...\n"
     ]
    }
   ],
   "source": [
    "model_cn, vectorizer_cn, annotated_cn = key_functions.train_CN_classifier('../data/annotations/final_annotations.txt', RandomForestClassifier(random_state = 42))"
   ]
  }
 ],
 "metadata": {
  "kernelspec": {
   "display_name": "Python 3",
   "language": "python",
   "name": "python3"
  },
  "language_info": {
   "codemirror_mode": {
    "name": "ipython",
    "version": 3
   },
   "file_extension": ".py",
   "mimetype": "text/x-python",
   "name": "python",
   "nbconvert_exporter": "python",
   "pygments_lexer": "ipython3",
   "version": "3.7.3"
  }
 },
 "nbformat": 4,
 "nbformat_minor": 4
}
