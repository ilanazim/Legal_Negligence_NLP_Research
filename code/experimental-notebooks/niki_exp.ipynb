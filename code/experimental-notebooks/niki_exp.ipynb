{
 "cells": [
  {
   "cell_type": "code",
   "execution_count": 1,
   "metadata": {},
   "outputs": [],
   "source": [
    "import os \n",
    "import pathlib\n",
    "import re\n",
    "from collections import defaultdict"
   ]
  },
  {
   "cell_type": "code",
   "execution_count": 2,
   "metadata": {},
   "outputs": [],
   "source": [
    "# path = \"../data/Lexis Cases txt/\"\n"
   ]
  },
  {
   "cell_type": "markdown",
   "metadata": {},
   "source": [
    "The code below answer:\n",
    "\n",
    "- whether the Plaintiff Wins or not in each case? (T/F)\n",
    "- The code below iterates over all the text files and gives a list of dictionaries where each dictionary belongs to a text file, keys are the case names and values are whether the plaintiff was successfull (True) ot not (False)"
   ]
  },
  {
   "cell_type": "code",
   "execution_count": 794,
   "metadata": {},
   "outputs": [],
   "source": []
  },
  {
   "cell_type": "code",
   "execution_count": null,
   "metadata": {},
   "outputs": [],
   "source": [
    "    "
   ]
  },
  {
   "cell_type": "code",
   "execution_count": 925,
   "metadata": {},
   "outputs": [],
   "source": [
    "def plaintiff_wins(path):\n",
    "    '''This function will search the cases and returns a dictionary\n",
    "    with case names as keys and boolean for value, True if the plaintiff\n",
    "    wins the case and False if plaintiff looses'''\n",
    "#     list_of_files = os.listdir(path)\n",
    "    \n",
    "    plaintiff_dict = {}\n",
    "    with open(path,'r') as f:\n",
    "        contents = f.read() \n",
    "        cases = contents.split(\"End of Document\\n\")\n",
    "        for line in cases:\n",
    "            lines = line.strip().split(\"\\n\")\n",
    "            name = lines[0]        \n",
    "            #check if it's a British columbia case    \n",
    "            if \"B.C.J\" in name:\n",
    "                if 'R. v.' in name or '(Re)' in name:\n",
    "                    continue\n",
    "                \n",
    "                # regex search for keyword HELD in cases, which determines if case was allowed or dismissed\n",
    "                HELD = re.search(r'HELD(.+)?', line)\n",
    "                \n",
    "                if HELD:\n",
    "                    matched = HELD.group(0)  \n",
    "                    liable = re.search(r'(l|L)iab(.+)?.+|(neglige(.+)?)|(convict(.+)?)', matched)\n",
    "                    dismiss = re.search(r'(dismiss(.+)?.+)|(adjourned.+?)|(negative(.+)?)', matched)\n",
    "                    damage = re.search(r'(D|d)amage(.+)?.+|(fault(.+)?)', matched)\n",
    "                    if \"allowed\" in matched or \"favour\" in matched or \"awarded\" in matched or \"granted\" in matched or \"accepted\" in matched or \"entitled\" in matched or \"guilty\" in matched or liable or damage:\n",
    "                        plaintiff_dict[name] = \"Y\"\n",
    "                    \n",
    "                    elif dismiss:\n",
    "                        plaintiff_dict[name] = \"N\"\n",
    "\n",
    "                else:\n",
    "                    if line and name not in plaintiff_dict :\n",
    "                        last_paras = lines[-5]+\" \"+lines[-4]+\" \"+lines[-3]+\" \"+lines[-2]\n",
    "                        awarded =  re.search(r'award(.+)?.+?(plaintiff(.+)?)?', last_paras)\n",
    "                        #regex searches for pattern of plaintiff/defendant/applicant....entitled/have...costs\n",
    "                        entiteled = re.search(r'(plaintiff|defendant.?|applicant)(.+)?(entitle(.)?(.+)?|have).+?cost(.+)?', last_paras)\n",
    "                        #regex searches for pattern of successful...(case)\n",
    "                        successful = re.search(r'successful(.+)?.+?', last_paras)\n",
    "                        #regex searches for dismiss....\n",
    "                        dismiss = re.search(r'(dismiss(.+)?.+)|(adjourned.+?)|(negative(.+)?)', last_paras)\n",
    "                        costs = re.search(r'costs.+?(award(.+)?|cause).+?', last_paras)\n",
    "                        damage = re.search(r'(D|d)amage(.+)?.+|(fault(.+)?)', last_paras)\n",
    "\n",
    "                        if dismiss and \"not dismissed\" not in last_paras:\n",
    "                            plaintiff_dict[name] = \"N\"\n",
    "                        elif damage:\n",
    "                            plaintiff_dict[name] = \"Y\"\n",
    "                        elif awarded:\n",
    "                            plaintiff_dict[name] = \"Y\"\n",
    "                        elif entiteled:\n",
    "                            plaintiff_dict[name] = \"Y\"\n",
    "                        elif successful:\n",
    "                            plaintiff_dict[name] = \"Y\"\n",
    "                        elif costs:\n",
    "                            plaintiff_dict[name] = \"Y\"\n",
    "                        else:\n",
    "                            plaintiff_dict[name] = \"OpenCase\"\n",
    "\n",
    "\n",
    "    return plaintiff_dict"
   ]
  },
  {
   "cell_type": "code",
   "execution_count": 951,
   "metadata": {},
   "outputs": [],
   "source": [
    "path = \"../data/Lexis Cases txt/p79.txt\"\n",
    "plaintiff_dict = plaintiff_wins(path)"
   ]
  },
  {
   "cell_type": "code",
   "execution_count": 952,
   "metadata": {},
   "outputs": [
    {
     "name": "stdout",
     "output_type": "stream",
     "text": [
      "Burnaby (City) v. Intact Insurance Co., [2020] B.C.J. No. 258 OpenCase\n",
      "Cornester (c.o.b. Millennium Trading) v. Intact Insurance Co., [2012] B.C.J. No. 2439 OpenCase\n",
      "Law Society of British Columbia v. Robbins, [2014] B.C.J. No. 640 OpenCase\n",
      "Lopushinsky v. Spraggs, [2000] B.C.J. No. 252 OpenCase\n",
      "Shen v. Chan, [2016] B.C.J. No. 1570 OpenCase\n",
      "Summit Leasing Corp. v. Westshore Towing Ltd., [2019] B.C.J. No. 1209 OpenCase\n",
      "Westbank Lions Seniors Housing v. Scuka Enterprises Ltd., [2013] B.C.J. No. 2553 OpenCase\n",
      "Carhoun & Sons Enterprises Ltd. v. Canada (Attorney General), [2016] B.C.J. No. 576 OpenCase\n"
     ]
    }
   ],
   "source": [
    "for k, val in plaintiff_dict.items():\n",
    "    if val == \"OpenCase\":\n",
    "        print(k,val)\n"
   ]
  },
  {
   "cell_type": "code",
   "execution_count": 953,
   "metadata": {},
   "outputs": [
    {
     "data": {
      "text/plain": [
       "49"
      ]
     },
     "execution_count": 953,
     "metadata": {},
     "output_type": "execute_result"
    }
   ],
   "source": [
    "len(plaintiff_dict)"
   ]
  },
  {
   "cell_type": "code",
   "execution_count": null,
   "metadata": {},
   "outputs": [],
   "source": []
  }
 ],
 "metadata": {
  "kernelspec": {
   "display_name": "Python 3",
   "language": "python",
   "name": "python3"
  },
  "language_info": {
   "codemirror_mode": {
    "name": "ipython",
    "version": 3
   },
   "file_extension": ".py",
   "mimetype": "text/x-python",
   "name": "python",
   "nbconvert_exporter": "python",
   "pygments_lexer": "ipython3",
   "version": "3.7.6"
  }
 },
 "nbformat": 4,
 "nbformat_minor": 4
}
