{
 "cells": [
  {
   "cell_type": "code",
   "execution_count": 1,
   "metadata": {},
   "outputs": [],
   "source": [
    "from collections import defaultdict, Counter\n",
    "import re\n",
    "import os\n",
    "import matplotlib.pyplot as plt\n",
    "import seaborn as sns\n",
    "import altair as alt\n",
    "import pandas as pd\n",
    "from sklearn.feature_extraction import DictVectorizer\n",
    "from sklearn.naive_bayes import MultinomialNB\n",
    "from sklearn.ensemble import RandomForestClassifier\n",
    "from sklearn.linear_model import LogisticRegression\n",
    "from sklearn.model_selection import cross_val_score, cross_val_predict\n",
    "from sklearn.metrics import f1_score, classification_report\n",
    "import xgboost as xgb\n",
    "\n",
    "from scipy.stats import pearsonr, linregress\n",
    "import pickle\n",
    "import numpy as np\n",
    "import key_functions\n",
    "import math\n",
    "\n",
    "\n",
    "from nltk import sent_tokenize\n",
    "from nltk.corpus import stopwords\n",
    "from itertools import chain"
   ]
  },
  {
   "cell_type": "markdown",
   "metadata": {},
   "source": [
    "### XGBoost Comparison"
   ]
  },
  {
   "cell_type": "code",
   "execution_count": 2,
   "metadata": {
    "collapsed": true,
    "jupyter": {
     "outputs_hidden": true
    }
   },
   "outputs": [
    {
     "name": "stdout",
     "output_type": "stream",
     "text": [
      "Didnt find any tags in Mawani v. Pitcairn, [2012] B.C.J. No. 1819\n",
      "Didnt find any tags in Aiken (Guardian ad litem of) v. Van Dyk, [2001] B.C.J. No. 1751\n",
      "Didnt find any tags in Millard v. Singleton, [2015] B.C.J. No. 1234 %\n",
      "Didnt find any tags in Cowie v. Draper, [2010] B.C.J. No. 910935154 %\n",
      "Didnt find any tags in Bajwa v. Deol, [2018] I.L.R. para. G-2792606 %\n",
      "Didnt find any tags in Jackson v. Fisheries and Oceans Canada, [2006] B.C.J. No. 2654\n",
      "Didnt find any tags in Los Angeles Salad Co. v. Canadian Food Inspection Agency, [2009] B.C.J. No. 161\n",
      "Didnt find any tags in Brooks-Martin v. Martin, [2011] B.C.J. No. 243\n",
      "Didnt find any tags in Gibson v. Matthies, [2017] B.C.J. No. 96556 %\n",
      "Didnt find any tags in Gray v. Ellis, [2007] I.L.R. para. M-211801 %\n",
      "Didnt find any tags in Morrow v. Outerbridge, 2009 CHFL para. 15,554\n",
      "Didnt find any tags in Rackstraw (Litigation guardian of) v. Robertson, [2011] B.C.J. No. 1354\n",
      "Didnt find any tags in Ahlwat v. Green, [2014] B.C.J. No. 245267576 %\n",
      "Didnt find any tags in Quade v. Schwartz, [2008] B.C.J. No. 1032117 %\n",
      "Didnt find any tags in McKee (Guardian ad litem of) v. McCoy, [2001] B.C.J. No. 2675\n",
      "Didnt find any tags in GE Capital Canada Equipment Financing Inc. v. Bank of Montreal, [2003] B.C.J. No. 1791\n",
      "Didnt find any tags in Kerr (Litigation Guardian of) v. Creighton, [2007] B.C.J. No. 309\n",
      "Didnt find any tags in Danielson v. Janze, [2017] B.C.J. No. 492275 %\n",
      "Didnt find any tags in Deline v. Vancouver Talmud Torah Assn., [2020] B.C.J. No. 274\n",
      "Didnt find any tags in Francescutto v. Church, [2014] B.C.J. No. 638%\n",
      "Didnt find any tags in Gill v. Canada (Minister of Transport), [2014] B.C.J. No. 2921\n",
      "Didnt find any tags in Gladwell (Litigation guardian of) v. Busletta, [2018] B.C.J. No. 3570\n",
      "Didnt find any tags in Hoessmann Estate v. Aldergrove Credit Union, [2018] B.C.J. No. 303\n",
      "Didnt find any tags in Hung Fook Canada Ltd. v. Silcorp Ltd. (c.o.b. Mac's Convenience Stores), [2000] B.C.J. No. 404\n",
      "Didnt find any tags in Jones Estate v. Insurance Corp. of British Columbia, [2019] B.C.J. No. 2493\n",
      "Didnt find any tags inand extracting features... 46.75767918088737 % Jory v. Pereira, [2019] B.C.J. No. 1643\n",
      "Didnt find any tags in Kerr v. Hall, [2013] B.C.J. No. 281009215016 %\n",
      "Didnt find any tags in Larsen v. Larsen, [2004] B.C.J. No. 39970304 %\n",
      "Didnt find any tags in Malhotra v. Waterfront Homes Ltd., [2015] B.C.J. No. 1297\n",
      "Didnt find any tags in Parchment v. British Columbia, [2015] B.C.J. No. 1236\n",
      "Didnt find any tags in Robson v. Chrysler Canada Ltd., [2001] B.C.J. No. 23\n",
      "Didnt find any tags in Royal Bank of Canada v. United Used Auto & Truck Parts Ltd., [2006] B.C.J. No. 1778\n",
      "Didnt find any tags in Stanway v. Wyeth Canada Inc., [2013] B.C.J. No. 411\n",
      "Didnt find any tags in Stewart v. Canada (Attorney General), [2010] B.C.J. No. 2410\n",
      "Didnt find any tags in Strata Plan LMS 2940 v. Quick as a Wink Courier Service Ltd., [2007] B.C.J. No. 1448\n",
      "Didnt find any tags in Strata Plan VR 10 v. EE Management Corp., [2015] B.C.J. No. 590\n",
      "Didnt find any tags in Wakelam v. Johnson & Johnson, [2011] B.C.J. No. 2477\n",
      "Didnt find any tags in West Van Holdings Ltd. v. Economical Mutual Insurance Co., [2017] B.C.J. No. 2670\n",
      "Didnt find any tags in Allen v. Girard, [2002] B.C.J. No. 21486792 %\n",
      "Didnt find any tags in Drage v. Page, [2002] B.C.J. No. 1848242321 %\n",
      "Didnt find any tags in Kahlon (Litigation guardian of) v. Vancouver Coastal Health Authority, 2009 CHFL para. 15,560\n",
      "Didnt find any tags in Kristiansen v. Grewal, [2014] B.C.J. No. 641\n",
      "Didnt find any tags in Low v. Albas, 2013 BREG para. 50,73017406135 %\n",
      "Didnt find any tags in Morris v. Moddejonge, [2004] B.C.J. No. 1786 %\n",
      "Didnt find any tags in Parragh v. Eagle Ridge Hospital and Health Care Centre, [2008] B.C.J. No. 1836\n",
      "Didnt find any tags in Roberts & Baker v. Kemp, [2005] B.C.J. No. 1928\n",
      "Didnt find any tags in Achtymichuk v. Bayer Inc., [2018] B.C.J. No. 879\n",
      "Didnt find any tags in Axa Pacific Insurance Company Ltd. v. Guildford Marquis Towers Ltd., [2000] I.L.R. para. I-3801\n",
      "Didnt find any tags in Bingo City Games Inc. v. British Columbia Lottery Corp., [2003] B.C.J. No. 985\n",
      "Didnt find any tags in Bittante v. Zichy, [2008] I.L.R. para. M-2244\n",
      "Didnt find any tags in Bohmer v. White, [2009] B.C.J. No. 93533788 %\n",
      "Didnt find any tags in F.W. Hearns/Actes - A Joint Venture v. University of British Columbia, [2000] B.C.J. No. 1238\n",
      "Didnt find any tags in Harris v. Sweet, [2005] B.C.J. No. 15209317 %\n",
      "Didnt find any tags in Horvath v. Thring, [2000] B.C.J. No. 131082 %\n",
      "Didnt find any tags in Keen v. Surrey (City), [2004] B.C.J. No. 2161%\n",
      "Didnt find any tags in Manavi v. Cascadia Apartment Rentals Ltd., [2017] B.C.J. No. 218\n",
      "Didnt find any tags in Ogden v. Gulf Log Salvage Co-operative Assn., [2005] B.C.J. No. 61\n",
      "Didnt find any tags in Petersen v. Stadnyk, [2003] B.C.J. No. 3173 %\n",
      "Didnt find any tags in Sharbern Holding Inc. v. Vancouver Airport Centre Ltd., [2005] B.C.J. No. 347\n",
      "Didnt find any tags in Skytrac Systems Ltd. v. Mares, [2009] B.C.J. No. 1641\n",
      "Didnt find any tags in Strata Plan BCS 1589 v. Nacht, [2018] B.C.J. No. 517\n",
      "Didnt find any tags in Thorburn v. British Columbia (Ministry of Public Safety and Solicitor General), [2012] B.C.J. No. 2216\n",
      "Didnt find any tags in Clare v. I.J. Manufacturing and three other actions, 2003 BREG para. 50,351\n",
      "Didnt find any tags in Coglon v. Ergas, [2009] B.C.J. No. 24274607 %\n",
      "Didnt find any tags in Commisso v. Teck Coal Ltd., [2018] B.C.J. No. 6970\n",
      "Didnt find any tags in Crawford v. Nazif, [2019] B.C.J. No. 259836 %\n",
      "Didnt find any tags in Cupo v. Brady, [2013] B.C.J. No. 2086385666 %\n",
      "Didnt find any tags in Davis v. Royal Bank of Canada, [2016] B.C.J. No. 2262\n",
      "Didnt find any tags in Deo v. Vancouver School No. 39, [2014] B.C.J. No. 3083\n",
      "Didnt find any tags in Foote v. Hallen, [2014] B.C.J. No. 57816724 %\n",
      "Didnt find any tags in Gaida Estate v. McLeod, [2013] B.C.J. No. 1423\n",
      "Didnt find any tags in human v. Insurance Corp. of British Columbia, [2019] B.C.J. No. 1547\n",
      "Didnt find any tags in Gichuru v. Purewal, [2019] B.C.J. No. 82918 %\n",
      "Didnt find any tags in Glenn v. Seair Seaplanes Ltd., [2012] B.C.J. No. 2428\n",
      "Didnt find any tags in Halliday v. Teasdale, [2019] B.C.J. No. 1414%\n",
      "Didnt find any tags in Haror v. Rana, [2018] B.C.J. No. 3553713311 %\n",
      "Didnt find any tags in Hixon-Gause v. Roberts, [2003] I.L.R. para. M-1673\n",
      "Didnt find any tags in Holland (Guardian ad litem of) v. Marshall, [2008] B.C.J. No. 2827\n",
      "Didnt find any tags in Horvath v. Thring, [2004] I.L.R. para. M-1713\n",
      "Didnt find any tags in Ho v. Ip, [2019] B.C.J. No. 250383959044369 %\n",
      "Didnt find any tags in I.A.L. (Litigation guardian of) v. Y.C., [2019] B.C.J. No. 1739\n",
      "Didnt find any tags in Insurance Corp. of British Columbia v. Suska, [2009] B.C.J. No. 2474\n",
      "Didnt find any tags in Irving v. Canada (Royal Canadian Mounted Police), [2000] B.C.J. No. 424\n",
      "Didnt find any tags in Jackson v. Backus, [2002] I.L.R. para. G-1496\n",
      "Didnt find any tags in Jennings v. Insurance Corporation of British Columbia, [2002] I.L.R. para. M-1562\n",
      "Didnt find any tags in Jiang v. Grand East Supermarket Inc., [2005] B.C.J. No. 2787\n",
      "Didnt find any tags in John Doe 1 v. University of British Columbia, [2019] B.C.J. No. 808\n",
      "Didnt find any tags in Joy v. Atkinson, [2008] B.C.J. No. 11276484 %\n",
      "Didnt find any tags in J.R.T. Nurseries Inc. v. 0843374 B.C. Ltd., [2016] B.C.J. No. 578\n",
      "Didnt find any tags in Lansdowne v. United Church of Canada, [2001] I.L.R. para. G-1403\n",
      "Didnt find any tags in Lapointe v. John Doe, [2016] B.C.J. No. 223 %\n",
      "Didnt find any tags in Laurier Charters Ltd. v. Eggleton, [2020] B.C.J. No. 342\n",
      "Didnt find any tags in Holt v. Rother, [2013] B.C.J. No. 128603072 %\n",
      "Didnt find any tags in Lindgren (Litigation guardian of) v. Parks Canada Agency, [2018] B.C.J. No. 120\n",
      "Didnt find any tags in Benek v. Pugash, [2004] B.C.J. No. 1931413 %%\n",
      "Didnt find any tags in Healey v. Royal Bank of Canada, [2003] B.C.J. No. 474\n",
      "Didnt find any tags in Insurance Corp. of British Columbia v. Scheelar, [2003] B.C.J. No. 1406\n",
      "Didnt find any tags in Mohebbi v. Canada (Royal Canadian Mounted Police) (North Vancouver), [2015] B.C.J. No. 2475\n",
      "Didnt find any tags in Strata Plan LMS 1564 v. Odyssey Tower Properties Ltd., [2009] B.C.J. No. 1511\n",
      "Didnt find any tags in Brewer v. Sarju, [2008] B.C.J. No. 21821775 %\n",
      "Didnt find any tags in Capilano Fishing Ltd. v. Qualicum Producer (The), [2000] B.C.J. No. 72\n",
      "Didnt find any tags in Intrawest Corp. v. Hart, [2002] B.C.J. No. 2816\n",
      "Didnt find any tags in Gengenbacher v. Smith, [2016] B.C.J. No. 1337\n",
      "Didnt find any tags in Littler v. Underdown, [2000] B.C.J. No. 1367%\n",
      "Didnt find any tags in Wilson v. Potter, [2005] B.C.J. No. 12803 %\n",
      "Didnt find any tags in Hixon (Guardian ad litem of) v. Roberts, [2003] B.C.J. No. 1328\n",
      "Didnt find any tags in Sarai v. Caharel, [2013] B.C.J. No. 2299652 %\n",
      "Didnt find any tags in Seeliger v. Eagle Ridge Hospital, [2006] B.C.J. No. 2189\n",
      "Didnt find any tags in Siegerist (Litigation guardian of) v. Tilton, [2020] B.C.J. No. 594\n",
      "Didnt find any tags in Douez v. Facebook, Inc., [2014] B.C.J. No. 1051\n",
      "Didnt find any tags in Hamilton v. Callaway, [2014] B.C.J. No. 174 %\n",
      "Didnt find any tags in MacMillan, Tucker & Mackay v. Cook, [2009] B.C.J. No. 991\n",
      "Didnt find any tags in Martin v. Lavigne, [2010] B.C.J. No. 162032 %\n",
      "Didnt find any tags in Moore v. College of Physicians and Surgeons of British Columbia, [2013] B.C.J. No. 2504\n",
      "Didnt find any tags in Nolting Estate v. Interior Health Authority (c.o.b. Vernon Jubilee Hospital), [2016] B.C.J. No. 1601\n",
      "Didnt find any tags in Ontario (Pension Board) v. Ball, [2010] B.C.J. No. 1792\n",
      "Didnt find any tags in R. v. Siemens, [2000] B.C.J. No. 230650512 %%\n",
      "Didnt find any tags in Aulakh v. Nahal, [2018] B.C.J. No. 80436177 %\n",
      "Didnt find any tags in Bakker v. Nahanee, [2012] B.C.J. No. 114742 %\n",
      "Didnt find any tags in Faust v. See, [2018] B.C.J. No. 12877167235 %\n",
      "\n",
      "Vectorizing...\n",
      "Tag Distribution\n",
      "Counter({'other': 2987, 'non pecuniary': 344, 'special': 257, 'future care': 243, 'future wage loss': 238, 'past wage loss': 232, 'total': 207, 'sub-special': 154, 'general': 87, 'sub-future care': 78, 'punitive': 39, 'in trust': 38, 'sub-future wage loss': 37, 'sub-past wage loss': 37, 'reduction to': 26, 'total after': 25, 'sub-general': 22, 'sub-non pecuniary': 21, 'aggravated': 21, 'reduction by': 16, 'sub-total': 15, 'sub-in trust': 14, 'sub-reduction': 2})\n"
     ]
    }
   ],
   "source": [
    "X, y, vectorizer = key_functions.train_classifier('../../data/annotations/all_annotations_CN.txt',_, fit_model=False )\n"
   ]
  },
  {
   "cell_type": "code",
   "execution_count": 3,
   "metadata": {},
   "outputs": [
    {
     "name": "stderr",
     "output_type": "stream",
     "text": [
      "/home/ilana/anaconda3/lib/python3.7/site-packages/sklearn/model_selection/_split.py:667: UserWarning: The least populated class in y has only 2 members, which is less than n_splits=5.\n",
      "  % (min_groups, self.n_splits)), UserWarning)\n"
     ]
    },
    {
     "name": "stdout",
     "output_type": "stream",
     "text": [
      "                      precision    recall  f1-score   support\n",
      "\n",
      "          aggravated       0.70      0.67      0.68        21\n",
      "         future care       0.77      0.71      0.74       243\n",
      "    future wage loss       0.65      0.62      0.63       238\n",
      "             general       0.70      0.55      0.62        87\n",
      "            in trust       0.64      0.42      0.51        38\n",
      "       non pecuniary       0.80      0.81      0.80       344\n",
      "               other       0.83      0.96      0.89      2987\n",
      "      past wage loss       0.66      0.58      0.62       232\n",
      "            punitive       0.79      0.79      0.79        39\n",
      "        reduction by       0.89      0.50      0.64        16\n",
      "        reduction to       0.67      0.08      0.14        26\n",
      "             special       0.71      0.78      0.74       257\n",
      "     sub-future care       0.10      0.01      0.02        78\n",
      "sub-future wage loss       0.00      0.00      0.00        37\n",
      "         sub-general       0.00      0.00      0.00        22\n",
      "        sub-in trust       0.73      0.57      0.64        14\n",
      "   sub-non pecuniary       0.38      0.14      0.21        21\n",
      "  sub-past wage loss       0.00      0.00      0.00        37\n",
      "       sub-reduction       0.00      0.00      0.00         2\n",
      "         sub-special       0.42      0.12      0.18       154\n",
      "           sub-total       0.00      0.00      0.00        15\n",
      "               total       0.72      0.56      0.63       207\n",
      "         total after       0.50      0.08      0.14        25\n",
      "\n",
      "            accuracy                           0.79      5140\n",
      "           macro avg       0.51      0.39      0.42      5140\n",
      "        weighted avg       0.75      0.79      0.76      5140\n",
      "\n"
     ]
    },
    {
     "name": "stderr",
     "output_type": "stream",
     "text": [
      "/home/ilana/anaconda3/lib/python3.7/site-packages/sklearn/metrics/_classification.py:1272: UndefinedMetricWarning: Precision and F-score are ill-defined and being set to 0.0 in labels with no predicted samples. Use `zero_division` parameter to control this behavior.\n",
      "  _warn_prf(average, modifier, msg_start, len(result))\n"
     ]
    }
   ],
   "source": [
    "clf = xgb.XGBClassifier()\n",
    "y_pred = cross_val_predict(clf, X, y)\n",
    "print(classification_report(y, y_pred))"
   ]
  },
  {
   "cell_type": "markdown",
   "metadata": {},
   "source": [
    "## Evaluate Using Classifiers"
   ]
  },
  {
   "cell_type": "code",
   "execution_count": 2,
   "metadata": {},
   "outputs": [
    {
     "name": "stdout",
     "output_type": "stream",
     "text": [
      "Didnt find any tags in Mawani v. Pitcairn, [2012] B.C.J. No. 1819\n",
      "Didnt find any tags in Aiken (Guardian ad litem of) v. Van Dyk, [2001] B.C.J. No. 1751\n",
      "Didnt find any tags in Millard v. Singleton, [2015] B.C.J. No. 1234 %\n",
      "Didnt find any tags in Cowie v. Draper, [2010] B.C.J. No. 910935154 %\n",
      "Didnt find any tags in Bajwa v. Deol, [2018] I.L.R. para. G-2792606 %\n",
      "Didnt find any tags in Jackson v. Fisheries and Oceans Canada, [2006] B.C.J. No. 2654\n",
      "Didnt find any tags in Los Angeles Salad Co. v. Canadian Food Inspection Agency, [2009] B.C.J. No. 161\n",
      "Didnt find any tags in Brooks-Martin v. Martin, [2011] B.C.J. No. 243\n",
      "Didnt find any tags in Gibson v. Matthies, [2017] B.C.J. No. 96556 %\n",
      "Didnt find any tags in Gray v. Ellis, [2007] I.L.R. para. M-211801 %\n",
      "Didnt find any tags in Morrow v. Outerbridge, 2009 CHFL para. 15,554\n",
      "Didnt find any tags in Rackstraw (Litigation guardian of) v. Robertson, [2011] B.C.J. No. 1354\n",
      "Didnt find any tags in Ahlwat v. Green, [2014] B.C.J. No. 245267576 %\n",
      "Didnt find any tags in Quade v. Schwartz, [2008] B.C.J. No. 1032117 %\n",
      "Didnt find any tags in McKee (Guardian ad litem of) v. McCoy, [2001] B.C.J. No. 2675\n",
      "Didnt find any tags in GE Capital Canada Equipment Financing Inc. v. Bank of Montreal, [2003] B.C.J. No. 1791\n",
      "Didnt find any tags in Kerr (Litigation Guardian of) v. Creighton, [2007] B.C.J. No. 309\n",
      "Didnt find any tags in Danielson v. Janze, [2017] B.C.J. No. 492275 %\n",
      "Didnt find any tags in Deline v. Vancouver Talmud Torah Assn., [2020] B.C.J. No. 274\n",
      "Didnt find any tags in Francescutto v. Church, [2014] B.C.J. No. 638%\n",
      "Didnt find any tags in Gill v. Canada (Minister of Transport), [2014] B.C.J. No. 2921\n",
      "Didnt find any tags in Gladwell (Litigation guardian of) v. Busletta, [2018] B.C.J. No. 3570\n",
      "Didnt find any tags in Hoessmann Estate v. Aldergrove Credit Union, [2018] B.C.J. No. 303\n",
      "Didnt find any tags in Hung Fook Canada Ltd. v. Silcorp Ltd. (c.o.b. Mac's Convenience Stores), [2000] B.C.J. No. 404\n",
      "Didnt find any tags in Jones Estate v. Insurance Corp. of British Columbia, [2019] B.C.J. No. 2493\n",
      "Didnt find any tags in Jory v. Pereira, [2019] B.C.J. No. 16438737 %\n",
      "Didnt find any tags in Kerr v. Hall, [2013] B.C.J. No. 281009215016 %\n",
      "Didnt find any tags in Larsen v. Larsen, [2004] B.C.J. No. 39970304 %\n",
      "Didnt find any tags in Malhotra v. Waterfront Homes Ltd., [2015] B.C.J. No. 1297\n",
      "Didnt find any tags in Parchment v. British Columbia, [2015] B.C.J. No. 1236\n",
      "Didnt find any tags in Robson v. Chrysler Canada Ltd., [2001] B.C.J. No. 23\n",
      "Didnt find any tags in Royal Bank of Canada v. United Used Auto & Truck Parts Ltd., [2006] B.C.J. No. 1778\n",
      "Didnt find any tags in Stanway v. Wyeth Canada Inc., [2013] B.C.J. No. 411\n",
      "Didnt find any tags in Stewart v. Canada (Attorney General), [2010] B.C.J. No. 2410\n",
      "Didnt find any tags in Strata Plan LMS 2940 v. Quick as a Wink Courier Service Ltd., [2007] B.C.J. No. 1448\n",
      "Didnt find any tags in Strata Plan VR 10 v. EE Management Corp., [2015] B.C.J. No. 590\n",
      "Didnt find any tags in Wakelam v. Johnson & Johnson, [2011] B.C.J. No. 2477\n",
      "Didnt find any tags in West Van Holdings Ltd. v. Economical Mutual Insurance Co., [2017] B.C.J. No. 2670\n",
      "Didnt find any tags in Allen v. Girard, [2002] B.C.J. No. 21486792 %\n",
      "Didnt find any tags in Drage v. Page, [2002] B.C.J. No. 1848242321 %\n",
      "Didnt find any tags in Kahlon (Litigation guardian of) v. Vancouver Coastal Health Authority, 2009 CHFL para. 15,560\n",
      "Didnt find any tags in Kristiansen v. Grewal, [2014] B.C.J. No. 641\n",
      "Didnt find any tags in Low v. Albas, 2013 BREG para. 50,73017406135 %\n",
      "Didnt find any tags in Morris v. Moddejonge, [2004] B.C.J. No. 1786 %\n",
      "Didnt find any tags in Parragh v. Eagle Ridge Hospital and Health Care Centre, [2008] B.C.J. No. 1836\n",
      "Didnt find any tags in Roberts & Baker v. Kemp, [2005] B.C.J. No. 1928\n",
      "Didnt find any tags in Achtymichuk v. Bayer Inc., [2018] B.C.J. No. 879\n",
      "Didnt find any tags in Axa Pacific Insurance Company Ltd. v. Guildford Marquis Towers Ltd., [2000] I.L.R. para. I-3801\n",
      "Didnt find any tags in Bingo City Games Inc. v. British Columbia Lottery Corp., [2003] B.C.J. No. 985\n",
      "Didnt find any tags in Bittante v. Zichy, [2008] I.L.R. para. M-2244\n",
      "Didnt find any tags in Bohmer v. White, [2009] B.C.J. No. 93533788 %\n",
      "Didnt find any tags in F.W. Hearns/Actes - A Joint Venture v. University of British Columbia, [2000] B.C.J. No. 1238\n",
      "Didnt find any tags in Harris v. Sweet, [2005] B.C.J. No. 15209317 %\n",
      "Didnt find any tags in Horvath v. Thring, [2000] B.C.J. No. 131082 %\n",
      "Didnt find any tags in Keen v. Surrey (City), [2004] B.C.J. No. 2161%\n",
      "Didnt find any tags in Manavi v. Cascadia Apartment Rentals Ltd., [2017] B.C.J. No. 218\n",
      "Didnt find any tags in Ogden v. Gulf Log Salvage Co-operative Assn., [2005] B.C.J. No. 61\n",
      "Didnt find any tags in Petersen v. Stadnyk, [2003] B.C.J. No. 3173 %\n",
      "Didnt find any tags in Sharbern Holding Inc. v. Vancouver Airport Centre Ltd., [2005] B.C.J. No. 347\n",
      "Didnt find any tags in Skytrac Systems Ltd. v. Mares, [2009] B.C.J. No. 1641\n",
      "Didnt find any tags in Strata Plan BCS 1589 v. Nacht, [2018] B.C.J. No. 517\n",
      "Didnt find any tags in Thorburn v. British Columbia (Ministry of Public Safety and Solicitor General), [2012] B.C.J. No. 2216\n",
      "Didnt find any tags in Clare v. I.J. Manufacturing and three other actions, 2003 BREG para. 50,351\n",
      "Didnt find any tags in Coglon v. Ergas, [2009] B.C.J. No. 24274607 %\n",
      "Didnt find any tags in Commisso v. Teck Coal Ltd., [2018] B.C.J. No. 6970\n",
      "Didnt find any tags in Crawford v. Nazif, [2019] B.C.J. No. 259836 %\n",
      "Didnt find any tags in Cupo v. Brady, [2013] B.C.J. No. 2086385666 %\n",
      "Didnt find any tags in Davis v. Royal Bank of Canada, [2016] B.C.J. No. 2262\n",
      "Didnt find any tags in Deo v. Vancouver School No. 39, [2014] B.C.J. No. 3083\n",
      "Didnt find any tags in Foote v. Hallen, [2014] B.C.J. No. 57816724 %\n",
      "Didnt find any tags in Gaida Estate v. McLeod, [2013] B.C.J. No. 1423\n",
      "Didnt find any tags in human v. Insurance Corp. of British Columbia, [2019] B.C.J. No. 1547\n",
      "Didnt find any tags in Gichuru v. Purewal, [2019] B.C.J. No. 82918 %\n",
      "Didnt find any tags in Glenn v. Seair Seaplanes Ltd., [2012] B.C.J. No. 2428\n",
      "Didnt find any tags in Halliday v. Teasdale, [2019] B.C.J. No. 1414%\n",
      "Didnt find any tags in Haror v. Rana, [2018] B.C.J. No. 3553713311 %\n",
      "Didnt find any tags in Hixon-Gause v. Roberts, [2003] I.L.R. para. M-1673\n",
      "Didnt find any tags in Holland (Guardian ad litem of) v. Marshall, [2008] B.C.J. No. 2827\n",
      "Didnt find any tags in Horvath v. Thring, [2004] I.L.R. para. M-1713\n",
      "Didnt find any tags in Ho v. Ip, [2019] B.C.J. No. 250383959044369 %\n",
      "Didnt find any tags in I.A.L. (Litigation guardian of) v. Y.C., [2019] B.C.J. No. 1739\n",
      "Didnt find any tags in Insurance Corp. of British Columbia v. Suska, [2009] B.C.J. No. 2474\n",
      "Didnt find any tags in Irving v. Canada (Royal Canadian Mounted Police), [2000] B.C.J. No. 424\n",
      "Didnt find any tags in Jackson v. Backus, [2002] I.L.R. para. G-1496\n",
      "Didnt find any tags in Jennings v. Insurance Corporation of British Columbia, [2002] I.L.R. para. M-1562\n",
      "Didnt find any tags in Jiang v. Grand East Supermarket Inc., [2005] B.C.J. No. 2787\n",
      "Didnt find any tags in John Doe 1 v. University of British Columbia, [2019] B.C.J. No. 808\n",
      "Didnt find any tags in Joy v. Atkinson, [2008] B.C.J. No. 11276484 %\n",
      "Didnt find any tags in J.R.T. Nurseries Inc. v. 0843374 B.C. Ltd., [2016] B.C.J. No. 578\n",
      "Didnt find any tags in Lansdowne v. United Church of Canada, [2001] I.L.R. para. G-1403\n",
      "Didnt find any tags in Lapointe v. John Doe, [2016] B.C.J. No. 223 %\n",
      "Didnt find any tags in Laurier Charters Ltd. v. Eggleton, [2020] B.C.J. No. 342\n",
      "Didnt find any tags in Holt v. Rother, [2013] B.C.J. No. 128603072 %\n",
      "Didnt find any tags in Lindgren (Litigation guardian of) v. Parks Canada Agency, [2018] B.C.J. No. 120\n",
      "Didnt find any tags in Benek v. Pugash, [2004] B.C.J. No. 1931413 %%\n",
      "Didnt find any tags in Healey v. Royal Bank of Canada, [2003] B.C.J. No. 474\n",
      "Didnt find any tags in Insurance Corp. of British Columbia v. Scheelar, [2003] B.C.J. No. 1406\n",
      "Didnt find any tags in Mohebbi v. Canada (Royal Canadian Mounted Police) (North Vancouver), [2015] B.C.J. No. 2475\n",
      "Didnt find any tags in Strata Plan LMS 1564 v. Odyssey Tower Properties Ltd., [2009] B.C.J. No. 1511\n",
      "Didnt find any tags in Brewer v. Sarju, [2008] B.C.J. No. 21821775 %\n",
      "Didnt find any tags in Capilano Fishing Ltd. v. Qualicum Producer (The), [2000] B.C.J. No. 72\n",
      "Didnt find any tags in Intrawest Corp. v. Hart, [2002] B.C.J. No. 2816\n",
      "Didnt find any tags in Gengenbacher v. Smith, [2016] B.C.J. No. 1337\n",
      "Didnt find any tags in Littler v. Underdown, [2000] B.C.J. No. 1367%\n",
      "Didnt find any tags in Wilson v. Potter, [2005] B.C.J. No. 12803 %\n",
      "Didnt find any tags in Hixon (Guardian ad litem of) v. Roberts, [2003] B.C.J. No. 1328\n",
      "Didnt find any tags in Sarai v. Caharel, [2013] B.C.J. No. 2299652 %\n",
      "Didnt find any tags in Seeliger v. Eagle Ridge Hospital, [2006] B.C.J. No. 2189\n",
      "Didnt find any tags in Siegerist (Litigation guardian of) v. Tilton, [2020] B.C.J. No. 594\n",
      "Didnt find any tags in Douez v. Facebook, Inc., [2014] B.C.J. No. 1051\n",
      "Didnt find any tags in Hamilton v. Callaway, [2014] B.C.J. No. 174 %\n",
      "Didnt find any tags in MacMillan, Tucker & Mackay v. Cook, [2009] B.C.J. No. 991\n",
      "Didnt find any tags in Martin v. Lavigne, [2010] B.C.J. No. 162032 %\n",
      "Didnt find any tags in Moore v. College of Physicians and Surgeons of British Columbia, [2013] B.C.J. No. 2504\n",
      "Didnt find any tags in Nolting Estate v. Interior Health Authority (c.o.b. Vernon Jubilee Hospital), [2016] B.C.J. No. 1601\n",
      "Didnt find any tags in Ontario (Pension Board) v. Ball, [2010] B.C.J. No. 1792\n",
      "Didnt find any tags in R. v. Siemens, [2000] B.C.J. No. 230650512 %%\n",
      "Didnt find any tags in Aulakh v. Nahal, [2018] B.C.J. No. 80436177 %\n",
      "Didnt find any tags in Bakker v. Nahanee, [2012] B.C.J. No. 114742 %\n",
      "Didnt find any tags in Faust v. See, [2018] B.C.J. No. 12877167235 %\n",
      "\n",
      "Vectorizing...\n",
      "Tag Distribution\n",
      "Counter({'other': 2987, 'non pecuniary': 344, 'special': 257, 'future care': 243, 'future wage loss': 238, 'past wage loss': 232, 'total': 207, 'sub-special': 154, 'general': 87, 'sub-future care': 78, 'punitive': 39, 'in trust': 38, 'sub-future wage loss': 37, 'sub-past wage loss': 37, 'reduction to': 26, 'total after': 25, 'sub-general': 22, 'sub-non pecuniary': 21, 'aggravated': 21, 'reduction by': 16, 'sub-total': 15, 'sub-in trust': 14, 'sub-reduction': 2})\n"
     ]
    },
    {
     "name": "stderr",
     "output_type": "stream",
     "text": [
      "/home/ilana/anaconda3/lib/python3.7/site-packages/sklearn/model_selection/_split.py:667: UserWarning: The least populated class in y has only 2 members, which is less than n_splits=3.\n",
      "  % (min_groups, self.n_splits)), UserWarning)\n",
      "/home/ilana/anaconda3/lib/python3.7/site-packages/scipy/optimize/linesearch.py:314: LineSearchWarning: The line search algorithm did not converge\n",
      "  warn('The line search algorithm did not converge', LineSearchWarning)\n",
      "/home/ilana/anaconda3/lib/python3.7/site-packages/sklearn/utils/optimize.py:204: UserWarning: Line Search failed\n",
      "  warnings.warn('Line Search failed')\n",
      "/home/ilana/anaconda3/lib/python3.7/site-packages/scipy/optimize/linesearch.py:314: LineSearchWarning: The line search algorithm did not converge\n",
      "  warn('The line search algorithm did not converge', LineSearchWarning)\n",
      "/home/ilana/anaconda3/lib/python3.7/site-packages/sklearn/utils/optimize.py:204: UserWarning: Line Search failed\n",
      "  warnings.warn('Line Search failed')\n",
      "/home/ilana/anaconda3/lib/python3.7/site-packages/scipy/optimize/linesearch.py:466: LineSearchWarning: The line search algorithm did not converge\n",
      "  warn('The line search algorithm did not converge', LineSearchWarning)\n",
      "/home/ilana/anaconda3/lib/python3.7/site-packages/scipy/optimize/linesearch.py:314: LineSearchWarning: The line search algorithm did not converge\n",
      "  warn('The line search algorithm did not converge', LineSearchWarning)\n",
      "/home/ilana/anaconda3/lib/python3.7/site-packages/sklearn/utils/optimize.py:204: UserWarning: Line Search failed\n",
      "  warnings.warn('Line Search failed')\n",
      "/home/ilana/anaconda3/lib/python3.7/site-packages/sklearn/model_selection/_split.py:667: UserWarning: The least populated class in y has only 2 members, which is less than n_splits=3.\n",
      "  % (min_groups, self.n_splits)), UserWarning)\n",
      "/home/ilana/anaconda3/lib/python3.7/site-packages/scipy/optimize/linesearch.py:314: LineSearchWarning: The line search algorithm did not converge\n",
      "  warn('The line search algorithm did not converge', LineSearchWarning)\n",
      "/home/ilana/anaconda3/lib/python3.7/site-packages/sklearn/utils/optimize.py:204: UserWarning: Line Search failed\n",
      "  warnings.warn('Line Search failed')\n",
      "/home/ilana/anaconda3/lib/python3.7/site-packages/scipy/optimize/linesearch.py:314: LineSearchWarning: The line search algorithm did not converge\n",
      "  warn('The line search algorithm did not converge', LineSearchWarning)\n",
      "/home/ilana/anaconda3/lib/python3.7/site-packages/sklearn/utils/optimize.py:204: UserWarning: Line Search failed\n",
      "  warnings.warn('Line Search failed')\n",
      "/home/ilana/anaconda3/lib/python3.7/site-packages/scipy/optimize/linesearch.py:466: LineSearchWarning: The line search algorithm did not converge\n",
      "  warn('The line search algorithm did not converge', LineSearchWarning)\n",
      "/home/ilana/anaconda3/lib/python3.7/site-packages/scipy/optimize/linesearch.py:314: LineSearchWarning: The line search algorithm did not converge\n",
      "  warn('The line search algorithm did not converge', LineSearchWarning)\n",
      "/home/ilana/anaconda3/lib/python3.7/site-packages/sklearn/utils/optimize.py:204: UserWarning: Line Search failed\n",
      "  warnings.warn('Line Search failed')\n"
     ]
    },
    {
     "name": "stdout",
     "output_type": "stream",
     "text": [
      "Cross validation evaluation...\n",
      "                      precision    recall  f1-score   support\n",
      "\n",
      "          aggravated       0.64      0.33      0.44        21\n",
      "         future care       0.76      0.68      0.72       243\n",
      "    future wage loss       0.65      0.68      0.67       238\n",
      "             general       0.62      0.51      0.56        87\n",
      "            in trust       0.45      0.13      0.20        38\n",
      "       non pecuniary       0.76      0.81      0.78       344\n",
      "               other       0.84      0.95      0.89      2987\n",
      "      past wage loss       0.69      0.69      0.69       232\n",
      "            punitive       0.83      0.64      0.72        39\n",
      "        reduction by       0.86      0.38      0.52        16\n",
      "        reduction to       0.67      0.15      0.25        26\n",
      "             special       0.66      0.77      0.71       257\n",
      "     sub-future care       0.29      0.03      0.05        78\n",
      "sub-future wage loss       0.17      0.03      0.05        37\n",
      "         sub-general       0.00      0.00      0.00        22\n",
      "        sub-in trust       1.00      0.21      0.35        14\n",
      "   sub-non pecuniary       0.29      0.10      0.14        21\n",
      "  sub-past wage loss       0.00      0.00      0.00        37\n",
      "       sub-reduction       0.00      0.00      0.00         2\n",
      "         sub-special       0.19      0.06      0.10       154\n",
      "           sub-total       0.00      0.00      0.00        15\n",
      "               total       0.76      0.59      0.66       207\n",
      "         total after       0.75      0.12      0.21        25\n",
      "\n",
      "            accuracy                           0.79      5140\n",
      "           macro avg       0.52      0.34      0.38      5140\n",
      "        weighted avg       0.75      0.79      0.76      5140\n",
      "\n",
      "Training final model...\n"
     ]
    },
    {
     "name": "stderr",
     "output_type": "stream",
     "text": [
      "/home/ilana/anaconda3/lib/python3.7/site-packages/sklearn/metrics/_classification.py:1272: UndefinedMetricWarning: Precision and F-score are ill-defined and being set to 0.0 in labels with no predicted samples. Use `zero_division` parameter to control this behavior.\n",
      "  _warn_prf(average, modifier, msg_start, len(result))\n",
      "/home/ilana/anaconda3/lib/python3.7/site-packages/scipy/optimize/linesearch.py:466: LineSearchWarning: The line search algorithm did not converge\n",
      "  warn('The line search algorithm did not converge', LineSearchWarning)\n",
      "/home/ilana/anaconda3/lib/python3.7/site-packages/scipy/optimize/linesearch.py:314: LineSearchWarning: The line search algorithm did not converge\n",
      "  warn('The line search algorithm did not converge', LineSearchWarning)\n",
      "/home/ilana/anaconda3/lib/python3.7/site-packages/sklearn/utils/optimize.py:204: UserWarning: Line Search failed\n",
      "  warnings.warn('Line Search failed')\n"
     ]
    }
   ],
   "source": [
    "model, vectorizer, annotated_damages = key_functions.train_classifier('../../data/annotations/all_annotations_CN.txt', LogisticRegression(C = 1, penalty='l2', solver = 'newton-cg', max_iter = 1000, random_state=42) )"
   ]
  },
  {
   "cell_type": "code",
   "execution_count": 19,
   "metadata": {},
   "outputs": [],
   "source": [
    "filename = './best_model_ALL_jun_11.pkl'\n",
    "pickle.dump(model, open(filename, 'wb'))"
   ]
  },
  {
   "cell_type": "code",
   "execution_count": 20,
   "metadata": {},
   "outputs": [],
   "source": [
    "filename = './best_vectorizer_ALL_jun_11.pkl'\n",
    "pickle.dump(vectorizer, open(filename, 'wb'))"
   ]
  },
  {
   "cell_type": "code",
   "execution_count": 17,
   "metadata": {},
   "outputs": [],
   "source": [
    "filename = './annotated_damages_high_precision'\n",
    "pickle.dump(annotated_damages, open(filename, 'wb'))"
   ]
  },
  {
   "cell_type": "code",
   "execution_count": 4,
   "metadata": {},
   "outputs": [],
   "source": [
    "damages_model = pickle.load(open('./best_model_ALL.pkl', 'rb'))\n",
    "damages_vectorizer = pickle.load(open('./best_vectorizer_ALL.pkl', 'rb'))\n",
    "damages_dict = pickle.load(open('./annotated_damages_dict', 'rb'))"
   ]
  },
  {
   "cell_type": "code",
   "execution_count": 4,
   "metadata": {},
   "outputs": [],
   "source": [
    "def return_feature_heatmap(n, model, vectorizer, features_subset = None):\n",
    "    features_dict = defaultdict(dict)\n",
    "    indices = []\n",
    "    for i, category in enumerate(model.classes_):\n",
    "        if features_subset:\n",
    "            if category not in features_subset:\n",
    "                continue\n",
    "        feature_weights = model.coef_[i]\n",
    "        features_dict[category]['feature'] = []\n",
    "        features_dict[category]['weight'] = []\n",
    "        idx = (-feature_weights).argsort()[:n]\n",
    "        indices.extend(idx)\n",
    "    for idx in indices:\n",
    "        for i, category in enumerate(model.classes_):\n",
    "            if features_subset:\n",
    "                if category not in features_subset:\n",
    "                    continue\n",
    "            if 'feature' not in features_dict[category] or 'weight' not in features_dict[category]:\n",
    "                continue\n",
    "            features_dict[category]['feature'].append(vectorizer.feature_names_[idx])\n",
    "            features_dict[category]['weight'].append(model.coef_[i][idx])\n",
    "    features =[ features_dict[cat]['feature'] for cat in features_dict]\n",
    "    features = list(chain.from_iterable(features))\n",
    "    categories = [[cat]*len(features_dict[cat]['feature']) for cat in features_dict]\n",
    "    categories = list(chain.from_iterable(categories))\n",
    "    weight =[features_dict[cat]['weight'] for cat in features_dict]\n",
    "    weight = list(chain.from_iterable(weight))\n",
    "\n",
    "    features_df = pd.DataFrame({'Category': categories, 'Features': features, 'Weights': weight})\n",
    "    heat_map = alt.Chart(features_df).mark_rect().encode(\n",
    "    alt.X('Features:N', bin=False, sort=None),\n",
    "    alt.Y(\"Category:N\", sort=alt.EncodingSortField(field='Category', order='ascending')),\n",
    "    color='Weights:Q')\n",
    "    \n",
    "    return heat_map"
   ]
  },
  {
   "cell_type": "code",
   "execution_count": 4,
   "metadata": {},
   "outputs": [
    {
     "data": {
      "application/vnd.vegalite.v3+json": {
       "$schema": "https://vega.github.io/schema/vega-lite/v3.4.0.json",
       "config": {
        "mark": {
         "tooltip": null
        },
        "view": {
         "height": 300,
         "width": 400
        }
       },
       "data": {
        "name": "data-e8667831080c7d04aec1a787640eb84f"
       },
       "datasets": {
        "data-e8667831080c7d04aec1a787640eb84f": [
         {
          "Category": "aggravated",
          "Features": "aggravated",
          "Weights": 1.8177819477261414
         },
         {
          "Category": "aggravated",
          "Features": "aggravated@After",
          "Weights": 1.0376261209142723
         },
         {
          "Category": "aggravated",
          "Features": "next word=aggravated",
          "Weights": 0.8026407018143764
         },
         {
          "Category": "aggravated",
          "Features": "aggravated@Before",
          "Weights": 0.7801558268118703
         },
         {
          "Category": "aggravated",
          "Features": "value=$2,500",
          "Weights": 0.7041777547327944
         },
         {
          "Category": "aggravated",
          "Features": "future",
          "Weights": 0.18495292493945542
         },
         {
          "Category": "aggravated",
          "Features": "next word=cost",
          "Weights": -0.07151040233350364
         },
         {
          "Category": "aggravated",
          "Features": "care,@After",
          "Weights": -0.01696046146423067
         },
         {
          "Category": "aggravated",
          "Features": "special@After",
          "Weights": -0.22585053925282866
         },
         {
          "Category": "aggravated",
          "Features": "care.@After",
          "Weights": -0.025241221224718162
         },
         {
          "Category": "aggravated",
          "Features": "value=$20,000",
          "Weights": 0.5186723531607708
         },
         {
          "Category": "aggravated",
          "Features": "future",
          "Weights": 0.18495292493945542
         },
         {
          "Category": "aggravated",
          "Features": "capacity,@After",
          "Weights": -0.012864180359034794
         },
         {
          "Category": "aggravated",
          "Features": "next word=loss",
          "Weights": -0.06493503320974722
         },
         {
          "Category": "aggravated",
          "Features": "loss,",
          "Weights": -0.0201902712112226
         },
         {
          "Category": "aggravated",
          "Features": "general",
          "Weights": 0.6187620462122769
         },
         {
          "Category": "aggravated",
          "Features": "general@Before",
          "Weights": 0.42708090696433393
         },
         {
          "Category": "aggravated",
          "Features": "value=$50,000",
          "Weights": -0.07109771178096504
         },
         {
          "Category": "aggravated",
          "Features": "value=$7,500",
          "Weights": -0.0511399035295149
         },
         {
          "Category": "aggravated",
          "Features": "past@After",
          "Weights": -0.07453037856301992
         },
         {
          "Category": "aggravated",
          "Features": "in-trust",
          "Weights": -0.02524120775670355
         },
         {
          "Category": "aggravated",
          "Features": "trust",
          "Weights": -0.03148852106429205
         },
         {
          "Category": "aggravated",
          "Features": "in-trust@Before",
          "Weights": -0.017869530622592018
         },
         {
          "Category": "aggravated",
          "Features": "trust@After",
          "Weights": -0.023864307597767472
         },
         {
          "Category": "aggravated",
          "Features": "next word=trust",
          "Weights": -0.010477633992608289
         },
         {
          "Category": "aggravated",
          "Features": "non-pecuniary",
          "Weights": -0.19760879923194102
         },
         {
          "Category": "aggravated",
          "Features": "next word=non-pecuniary",
          "Weights": -0.054623368615579815
         },
         {
          "Category": "aggravated",
          "Features": "non-pecuniary@Before",
          "Weights": -0.11774422199274576
         },
         {
          "Category": "aggravated",
          "Features": "enjoyment",
          "Weights": -0.015916063880829234
         },
         {
          "Category": "aggravated",
          "Features": "suffering",
          "Weights": -0.016495366859396572
         },
         {
          "Category": "aggravated",
          "Features": "range",
          "Weights": -0.016576711441499248
         },
         {
          "Category": "aggravated",
          "Features": "range@Before",
          "Weights": -0.0159804358509926
         },
         {
          "Category": "aggravated",
          "Features": "seeks",
          "Weights": -0.015451857978484822
         },
         {
          "Category": "aggravated",
          "Features": "seeks@Before",
          "Weights": -0.014595681883156384
         },
         {
          "Category": "aggravated",
          "Features": "next word=per",
          "Weights": -0.04613297315520178
         },
         {
          "Category": "aggravated",
          "Features": "next word=past",
          "Weights": -0.03753409927090033
         },
         {
          "Category": "aggravated",
          "Features": "past",
          "Weights": -0.11473742462975278
         },
         {
          "Category": "aggravated",
          "Features": "past@Before",
          "Weights": -0.04020704606673297
         },
         {
          "Category": "aggravated",
          "Features": "income",
          "Weights": 0.0008622534745768287
         },
         {
          "Category": "aggravated",
          "Features": "wage",
          "Weights": -0.03753563550164908
         },
         {
          "Category": "aggravated",
          "Features": "punitive",
          "Weights": 0.35744459103159404
         },
         {
          "Category": "aggravated",
          "Features": "punitive@Before",
          "Weights": -0.05619688584102467
         },
         {
          "Category": "aggravated",
          "Features": "next word=punitive",
          "Weights": -0.1258094851448398
         },
         {
          "Category": "aggravated",
          "Features": "value=$10,000",
          "Weights": 0.2471094438953889
         },
         {
          "Category": "aggravated",
          "Features": "punitive@After",
          "Weights": 0.4136414768726187
         },
         {
          "Category": "aggravated",
          "Features": "prev word=reduced",
          "Weights": -0.026975732086296306
         },
         {
          "Category": "aggravated",
          "Features": "value=$10,000",
          "Weights": 0.2471094438953889
         },
         {
          "Category": "aggravated",
          "Features": "reduced@Before",
          "Weights": -0.03164702267675686
         },
         {
          "Category": "aggravated",
          "Features": "reduced",
          "Weights": -0.07443453738624566
         },
         {
          "Category": "aggravated",
          "Features": "failure@After",
          "Weights": -0.01587749994207984
         },
         {
          "Category": "aggravated",
          "Features": "prev word=reduced",
          "Weights": -0.026975732086296306
         },
         {
          "Category": "aggravated",
          "Features": "reduced@Before",
          "Weights": -0.03164702267675686
         },
         {
          "Category": "aggravated",
          "Features": "20%@Before",
          "Weights": -0.000294823832916182
         },
         {
          "Category": "aggravated",
          "Features": "=@Before",
          "Weights": -0.005041265006027808
         },
         {
          "Category": "aggravated",
          "Features": "discounted@Before",
          "Weights": -0.009919547081602628
         },
         {
          "Category": "aggravated",
          "Features": "special",
          "Weights": -0.3893350242664087
         },
         {
          "Category": "aggravated",
          "Features": "special@Before",
          "Weights": -0.1634844850135801
         },
         {
          "Category": "aggravated",
          "Features": "next word=special",
          "Weights": -0.10925244072446351
         },
         {
          "Category": "aggravated",
          "Features": "prev word=damages",
          "Weights": 0.21756745653106863
         },
         {
          "Category": "aggravated",
          "Features": "value=$500",
          "Weights": -0.04172428586784249
         },
         {
          "Category": "aggravated",
          "Features": "start_idx_ratio",
          "Weights": -0.07517963001472247
         },
         {
          "Category": "aggravated",
          "Features": "physiotherapy",
          "Weights": -0.04286771460881394
         },
         {
          "Category": "aggravated",
          "Features": "therapy",
          "Weights": -0.028334097604076285
         },
         {
          "Category": "aggravated",
          "Features": "occupational",
          "Weights": -0.01658656888005205
         },
         {
          "Category": "aggravated",
          "Features": "care@Before",
          "Weights": -0.07255003150469001
         },
         {
          "Category": "aggravated",
          "Features": "value=$160,000",
          "Weights": -7.408051229387404e-05
         },
         {
          "Category": "aggravated",
          "Features": "earning",
          "Weights": -0.09343094492197465
         },
         {
          "Category": "aggravated",
          "Features": "lost",
          "Weights": -0.08326320348588484
         },
         {
          "Category": "aggravated",
          "Features": "accident",
          "Weights": -0.10074790955118436
         },
         {
          "Category": "aggravated",
          "Features": "future",
          "Weights": 0.18495292493945542
         },
         {
          "Category": "aggravated",
          "Features": "general",
          "Weights": 0.6187620462122769
         },
         {
          "Category": "aggravated",
          "Features": "general@Before",
          "Weights": 0.42708090696433393
         },
         {
          "Category": "aggravated",
          "Features": "damages",
          "Weights": 0.5056665259925598
         },
         {
          "Category": "aggravated",
          "Features": "12,",
          "Weights": -0.002501786267596077
         },
         {
          "Category": "aggravated",
          "Features": "july",
          "Weights": -0.008651368864929851
         },
         {
          "Category": "aggravated",
          "Features": "value=$250,000",
          "Weights": -1.3517449646702079e-05
         },
         {
          "Category": "aggravated",
          "Features": "trust@After",
          "Weights": -0.023864307597767472
         },
         {
          "Category": "aggravated",
          "Features": "trust",
          "Weights": -0.03148852106429205
         },
         {
          "Category": "aggravated",
          "Features": "claim",
          "Weights": -0.09120271831431587
         },
         {
          "Category": "aggravated",
          "Features": "sarah@After",
          "Weights": -0.004297677234749258
         },
         {
          "Category": "aggravated",
          "Features": "accident",
          "Weights": -0.10074790955118436
         },
         {
          "Category": "aggravated",
          "Features": "value=$75,000",
          "Weights": -0.006277239404587955
         },
         {
          "Category": "aggravated",
          "Features": "first",
          "Weights": -0.054759644451891326
         },
         {
          "Category": "aggravated",
          "Features": "non-pecuniary",
          "Weights": -0.19760879923194102
         },
         {
          "Category": "aggravated",
          "Features": "damages",
          "Weights": 0.5056665259925598
         },
         {
          "Category": "aggravated",
          "Features": "loss",
          "Weights": -0.14595316458613608
         },
         {
          "Category": "aggravated",
          "Features": "lost",
          "Weights": -0.08326320348588484
         },
         {
          "Category": "aggravated",
          "Features": "income@Before",
          "Weights": 0.06786716898227818
         },
         {
          "Category": "aggravated",
          "Features": "income",
          "Weights": 0.0008622534745768287
         },
         {
          "Category": "aggravated",
          "Features": "lost@Before",
          "Weights": -0.028339874933633408
         },
         {
          "Category": "aggravated",
          "Features": "basis;@After",
          "Weights": -0.00022963860394357215
         },
         {
          "Category": "aggravated",
          "Features": "value=$73,750",
          "Weights": -0.00022963860394357215
         },
         {
          "Category": "aggravated",
          "Features": "basis;",
          "Weights": -0.00022963860394357215
         },
         {
          "Category": "aggravated",
          "Features": "$295,000@Before",
          "Weights": -0.00022963860394357215
         },
         {
          "Category": "aggravated",
          "Features": "$295,000",
          "Weights": -0.0003407641116351626
         },
         {
          "Category": "aggravated",
          "Features": "housekeeping",
          "Weights": -0.0408608503800888
         },
         {
          "Category": "aggravated",
          "Features": "special",
          "Weights": -0.3893350242664087
         },
         {
          "Category": "aggravated",
          "Features": "capacity,",
          "Weights": -0.03604528596518996
         },
         {
          "Category": "aggravated",
          "Features": "housekeeping@Before",
          "Weights": -0.01617192067351684
         },
         {
          "Category": "aggravated",
          "Features": "physiotherapy",
          "Weights": -0.04286771460881394
         },
         {
          "Category": "aggravated",
          "Features": "claim",
          "Weights": -0.09120271831431587
         },
         {
          "Category": "aggravated",
          "Features": "judgment",
          "Weights": -0.024124225245881002
         },
         {
          "Category": "aggravated",
          "Features": "home;",
          "Weights": -0.0023417542352197297
         },
         {
          "Category": "aggravated",
          "Features": "negotiate",
          "Weights": -0.027673465157157982
         },
         {
          "Category": "aggravated",
          "Features": "claim@After",
          "Weights": -0.04333387112792309
         },
         {
          "Category": "aggravated",
          "Features": "total@Before",
          "Weights": 0.027547114645213484
         },
         {
          "Category": "aggravated",
          "Features": "prev word=total:",
          "Weights": -0.005053633703588275
         },
         {
          "Category": "aggravated",
          "Features": "total:@Before",
          "Weights": -0.005053633703588275
         },
         {
          "Category": "aggravated",
          "Features": "allowed",
          "Weights": 0.24882854400383297
         },
         {
          "Category": "aggravated",
          "Features": "total:",
          "Weights": -0.029788889368427152
         },
         {
          "Category": "aggravated",
          "Features": "value=$76,653",
          "Weights": -0.0019156584678341406
         },
         {
          "Category": "aggravated",
          "Features": "value=$65,920",
          "Weights": -0.0023664777730751175
         },
         {
          "Category": "aggravated",
          "Features": "judgment@Before",
          "Weights": -0.017461706887694654
         },
         {
          "Category": "aggravated",
          "Features": "value=$62,500",
          "Weights": -0.004182163538807909
         },
         {
          "Category": "aggravated",
          "Features": "judgment",
          "Weights": -0.024124225245881002
         },
         {
          "Category": "future care",
          "Features": "aggravated",
          "Weights": -0.20731128582178315
         },
         {
          "Category": "future care",
          "Features": "aggravated@After",
          "Weights": -0.0693295112311822
         },
         {
          "Category": "future care",
          "Features": "next word=aggravated",
          "Weights": -0.023163998744917046
         },
         {
          "Category": "future care",
          "Features": "aggravated@Before",
          "Weights": -0.137981774590601
         },
         {
          "Category": "future care",
          "Features": "value=$2,500",
          "Weights": 0.25773946561124544
         },
         {
          "Category": "future care",
          "Features": "future",
          "Weights": 1.2345532757603792
         },
         {
          "Category": "future care",
          "Features": "next word=cost",
          "Weights": 1.1288222194737478
         },
         {
          "Category": "future care",
          "Features": "care,@After",
          "Weights": 1.0837169222909258
         },
         {
          "Category": "future care",
          "Features": "special@After",
          "Weights": 1.0030147893337253
         },
         {
          "Category": "future care",
          "Features": "care.@After",
          "Weights": 0.9976374481144226
         },
         {
          "Category": "future care",
          "Features": "value=$20,000",
          "Weights": -0.07682003459051297
         },
         {
          "Category": "future care",
          "Features": "future",
          "Weights": 1.2345532757603792
         },
         {
          "Category": "future care",
          "Features": "capacity,@After",
          "Weights": -0.13952571263441454
         },
         {
          "Category": "future care",
          "Features": "next word=loss",
          "Weights": -0.32437673567767533
         },
         {
          "Category": "future care",
          "Features": "loss,",
          "Weights": 0.09373561320456739
         },
         {
          "Category": "future care",
          "Features": "general",
          "Weights": -0.1243138161121846
         },
         {
          "Category": "future care",
          "Features": "general@Before",
          "Weights": -0.12676529356325045
         },
         {
          "Category": "future care",
          "Features": "value=$50,000",
          "Weights": 0.22061611518338725
         },
         {
          "Category": "future care",
          "Features": "value=$7,500",
          "Weights": 0.2685697299164467
         },
         {
          "Category": "future care",
          "Features": "past@After",
          "Weights": -0.3351778567341113
         },
         {
          "Category": "future care",
          "Features": "in-trust",
          "Weights": -0.17651928568048303
         },
         {
          "Category": "future care",
          "Features": "trust",
          "Weights": -0.10421343814534251
         },
         {
          "Category": "future care",
          "Features": "in-trust@Before",
          "Weights": -0.06182292859170168
         },
         {
          "Category": "future care",
          "Features": "trust@After",
          "Weights": -0.09907824947997372
         },
         {
          "Category": "future care",
          "Features": "next word=trust",
          "Weights": -0.06213211443606459
         },
         {
          "Category": "future care",
          "Features": "non-pecuniary",
          "Weights": -0.13150749767372996
         },
         {
          "Category": "future care",
          "Features": "next word=non-pecuniary",
          "Weights": -0.21633207800079687
         },
         {
          "Category": "future care",
          "Features": "non-pecuniary@Before",
          "Weights": 0.10780325220205668
         },
         {
          "Category": "future care",
          "Features": "enjoyment",
          "Weights": -0.04307567157091929
         },
         {
          "Category": "future care",
          "Features": "suffering",
          "Weights": -0.05281920022438953
         },
         {
          "Category": "future care",
          "Features": "range",
          "Weights": -0.08305980810762371
         },
         {
          "Category": "future care",
          "Features": "range@Before",
          "Weights": -0.07151121568036288
         },
         {
          "Category": "future care",
          "Features": "seeks",
          "Weights": -0.1512955546798487
         },
         {
          "Category": "future care",
          "Features": "seeks@Before",
          "Weights": -0.14897913557222406
         },
         {
          "Category": "future care",
          "Features": "next word=per",
          "Weights": -0.11657791175951422
         },
         {
          "Category": "future care",
          "Features": "next word=past",
          "Weights": -0.1454900092663126
         },
         {
          "Category": "future care",
          "Features": "past",
          "Weights": -0.5845826597252729
         },
         {
          "Category": "future care",
          "Features": "past@Before",
          "Weights": -0.24940480299116197
         },
         {
          "Category": "future care",
          "Features": "income",
          "Weights": -0.2869096430197895
         },
         {
          "Category": "future care",
          "Features": "wage",
          "Weights": -0.03690124802845684
         },
         {
          "Category": "future care",
          "Features": "punitive",
          "Weights": 0.24226422896572292
         },
         {
          "Category": "future care",
          "Features": "punitive@Before",
          "Weights": -0.0314436985587726
         },
         {
          "Category": "future care",
          "Features": "next word=punitive",
          "Weights": -0.04441740548880898
         },
         {
          "Category": "future care",
          "Features": "value=$10,000",
          "Weights": 0.508472338582019
         },
         {
          "Category": "future care",
          "Features": "punitive@After",
          "Weights": 0.2737079275244956
         },
         {
          "Category": "future care",
          "Features": "prev word=reduced",
          "Weights": -0.05139320606333617
         },
         {
          "Category": "future care",
          "Features": "value=$10,000",
          "Weights": 0.508472338582019
         },
         {
          "Category": "future care",
          "Features": "reduced@Before",
          "Weights": -0.065744105211608
         },
         {
          "Category": "future care",
          "Features": "reduced",
          "Weights": 0.15050832170007536
         },
         {
          "Category": "future care",
          "Features": "failure@After",
          "Weights": -0.07707490923378332
         },
         {
          "Category": "future care",
          "Features": "prev word=reduced",
          "Weights": -0.05139320606333617
         },
         {
          "Category": "future care",
          "Features": "reduced@Before",
          "Weights": -0.065744105211608
         },
         {
          "Category": "future care",
          "Features": "20%@Before",
          "Weights": -0.03149770374301933
         },
         {
          "Category": "future care",
          "Features": "=@Before",
          "Weights": -0.17635361127176635
         },
         {
          "Category": "future care",
          "Features": "discounted@Before",
          "Weights": -0.043378914295147245
         },
         {
          "Category": "future care",
          "Features": "special",
          "Weights": 0.73050781230781
         },
         {
          "Category": "future care",
          "Features": "special@Before",
          "Weights": -0.27250697702591586
         },
         {
          "Category": "future care",
          "Features": "next word=special",
          "Weights": -0.6393700759859199
         },
         {
          "Category": "future care",
          "Features": "prev word=damages",
          "Weights": -0.34423727460064285
         },
         {
          "Category": "future care",
          "Features": "value=$500",
          "Weights": 0.15954835514950932
         },
         {
          "Category": "future care",
          "Features": "start_idx_ratio",
          "Weights": 0.01036838893128537
         },
         {
          "Category": "future care",
          "Features": "physiotherapy",
          "Weights": -0.038585624056153435
         },
         {
          "Category": "future care",
          "Features": "therapy",
          "Weights": -0.10416606869195068
         },
         {
          "Category": "future care",
          "Features": "occupational",
          "Weights": -0.05735271227841225
         },
         {
          "Category": "future care",
          "Features": "care@Before",
          "Weights": 0.8866082928945741
         },
         {
          "Category": "future care",
          "Features": "value=$160,000",
          "Weights": -0.057371729893226954
         },
         {
          "Category": "future care",
          "Features": "earning",
          "Weights": -0.18166659570854565
         },
         {
          "Category": "future care",
          "Features": "lost",
          "Weights": 0.1166493657464058
         },
         {
          "Category": "future care",
          "Features": "accident",
          "Weights": 0.04993679944555979
         },
         {
          "Category": "future care",
          "Features": "future",
          "Weights": 1.2345532757603792
         },
         {
          "Category": "future care",
          "Features": "general",
          "Weights": -0.1243138161121846
         },
         {
          "Category": "future care",
          "Features": "general@Before",
          "Weights": -0.12676529356325045
         },
         {
          "Category": "future care",
          "Features": "damages",
          "Weights": -0.13105887521086873
         },
         {
          "Category": "future care",
          "Features": "12,",
          "Weights": -0.0099209107041502
         },
         {
          "Category": "future care",
          "Features": "july",
          "Weights": -0.03198082248310032
         },
         {
          "Category": "future care",
          "Features": "value=$250,000",
          "Weights": -0.17513234981071857
         },
         {
          "Category": "future care",
          "Features": "trust@After",
          "Weights": -0.09907824947997372
         },
         {
          "Category": "future care",
          "Features": "trust",
          "Weights": -0.10421343814534251
         },
         {
          "Category": "future care",
          "Features": "claim",
          "Weights": 0.11135356275102537
         },
         {
          "Category": "future care",
          "Features": "sarah@After",
          "Weights": -0.014681998360438197
         },
         {
          "Category": "future care",
          "Features": "accident",
          "Weights": 0.04993679944555979
         },
         {
          "Category": "future care",
          "Features": "value=$75,000",
          "Weights": -0.22084035862323018
         },
         {
          "Category": "future care",
          "Features": "first",
          "Weights": -0.10664790116207983
         },
         {
          "Category": "future care",
          "Features": "non-pecuniary",
          "Weights": -0.13150749767372996
         },
         {
          "Category": "future care",
          "Features": "damages",
          "Weights": -0.13105887521086873
         },
         {
          "Category": "future care",
          "Features": "loss",
          "Weights": -0.25182639657012557
         },
         {
          "Category": "future care",
          "Features": "lost",
          "Weights": 0.1166493657464058
         },
         {
          "Category": "future care",
          "Features": "income@Before",
          "Weights": -0.11735595497388744
         },
         {
          "Category": "future care",
          "Features": "income",
          "Weights": -0.2869096430197895
         },
         {
          "Category": "future care",
          "Features": "lost@Before",
          "Weights": 0.33480881464090406
         },
         {
          "Category": "future care",
          "Features": "basis;@After",
          "Weights": -0.0038924142172971844
         },
         {
          "Category": "future care",
          "Features": "value=$73,750",
          "Weights": -0.0038924142172971844
         },
         {
          "Category": "future care",
          "Features": "basis;",
          "Weights": -0.0038924142172971844
         },
         {
          "Category": "future care",
          "Features": "$295,000@Before",
          "Weights": -0.0038924142172971844
         },
         {
          "Category": "future care",
          "Features": "$295,000",
          "Weights": 0.04092966275062316
         },
         {
          "Category": "future care",
          "Features": "housekeeping",
          "Weights": 0.08096821009973078
         },
         {
          "Category": "future care",
          "Features": "special",
          "Weights": 0.73050781230781
         },
         {
          "Category": "future care",
          "Features": "capacity,",
          "Weights": 0.5700846433557175
         },
         {
          "Category": "future care",
          "Features": "housekeeping@Before",
          "Weights": -0.11690335719361238
         },
         {
          "Category": "future care",
          "Features": "physiotherapy",
          "Weights": -0.038585624056153435
         },
         {
          "Category": "future care",
          "Features": "claim",
          "Weights": 0.11135356275102537
         },
         {
          "Category": "future care",
          "Features": "judgment",
          "Weights": -0.12587897830374442
         },
         {
          "Category": "future care",
          "Features": "home;",
          "Weights": -0.004837541815031007
         },
         {
          "Category": "future care",
          "Features": "negotiate",
          "Weights": -0.030072096760792873
         },
         {
          "Category": "future care",
          "Features": "claim@After",
          "Weights": 0.03571935801533031
         },
         {
          "Category": "future care",
          "Features": "total@Before",
          "Weights": 0.023014681148316382
         },
         {
          "Category": "future care",
          "Features": "prev word=total:",
          "Weights": 0.10639081148500086
         },
         {
          "Category": "future care",
          "Features": "total:@Before",
          "Weights": 0.10639081148500086
         },
         {
          "Category": "future care",
          "Features": "allowed",
          "Weights": -0.03610565916284258
         },
         {
          "Category": "future care",
          "Features": "total:",
          "Weights": 0.564820333666977
         },
         {
          "Category": "future care",
          "Features": "value=$76,653",
          "Weights": -0.026100185002159635
         },
         {
          "Category": "future care",
          "Features": "value=$65,920",
          "Weights": -0.008696240543648726
         },
         {
          "Category": "future care",
          "Features": "judgment@Before",
          "Weights": -0.10123156180680451
         },
         {
          "Category": "future care",
          "Features": "value=$62,500",
          "Weights": -0.037573046430405856
         },
         {
          "Category": "future care",
          "Features": "judgment",
          "Weights": -0.12587897830374442
         },
         {
          "Category": "future wage loss",
          "Features": "aggravated",
          "Weights": 0.10676935223657835
         },
         {
          "Category": "future wage loss",
          "Features": "aggravated@After",
          "Weights": 0.19504043575220614
         },
         {
          "Category": "future wage loss",
          "Features": "next word=aggravated",
          "Weights": -0.05566629310562142
         },
         {
          "Category": "future wage loss",
          "Features": "aggravated@Before",
          "Weights": -0.08827108351562783
         },
         {
          "Category": "future wage loss",
          "Features": "value=$2,500",
          "Weights": -0.19412088487377174
         },
         {
          "Category": "future wage loss",
          "Features": "future",
          "Weights": 1.0301326872342236
         },
         {
          "Category": "future wage loss",
          "Features": "next word=cost",
          "Weights": -0.22191862629064318
         },
         {
          "Category": "future wage loss",
          "Features": "care,@After",
          "Weights": -0.2764062846530762
         },
         {
          "Category": "future wage loss",
          "Features": "special@After",
          "Weights": 0.3837234322212532
         },
         {
          "Category": "future wage loss",
          "Features": "care.@After",
          "Weights": -0.2957439481175233
         },
         {
          "Category": "future wage loss",
          "Features": "value=$20,000",
          "Weights": 1.2041309538469207
         },
         {
          "Category": "future wage loss",
          "Features": "future",
          "Weights": 1.0301326872342236
         },
         {
          "Category": "future wage loss",
          "Features": "capacity,@After",
          "Weights": 0.9543961742980592
         },
         {
          "Category": "future wage loss",
          "Features": "next word=loss",
          "Weights": 0.8581773959462621
         },
         {
          "Category": "future wage loss",
          "Features": "loss,",
          "Weights": 0.7410513790154898
         },
         {
          "Category": "future wage loss",
          "Features": "general",
          "Weights": -0.4755808153590736
         },
         {
          "Category": "future wage loss",
          "Features": "general@Before",
          "Weights": -0.30928602886543427
         },
         {
          "Category": "future wage loss",
          "Features": "value=$50,000",
          "Weights": 0.19986188909950225
         },
         {
          "Category": "future wage loss",
          "Features": "value=$7,500",
          "Weights": -0.1069733977066456
         },
         {
          "Category": "future wage loss",
          "Features": "past@After",
          "Weights": -0.3472261437104933
         },
         {
          "Category": "future wage loss",
          "Features": "in-trust",
          "Weights": -0.07341062604464205
         },
         {
          "Category": "future wage loss",
          "Features": "trust",
          "Weights": -0.13417461372878434
         },
         {
          "Category": "future wage loss",
          "Features": "in-trust@Before",
          "Weights": -0.0914707213408973
         },
         {
          "Category": "future wage loss",
          "Features": "trust@After",
          "Weights": -0.10335112350612376
         },
         {
          "Category": "future wage loss",
          "Features": "next word=trust",
          "Weights": -0.045996513421403935
         },
         {
          "Category": "future wage loss",
          "Features": "non-pecuniary",
          "Weights": -0.47920110208723155
         },
         {
          "Category": "future wage loss",
          "Features": "next word=non-pecuniary",
          "Weights": -0.1917250018946858
         },
         {
          "Category": "future wage loss",
          "Features": "non-pecuniary@Before",
          "Weights": -0.1920881601596186
         },
         {
          "Category": "future wage loss",
          "Features": "enjoyment",
          "Weights": -0.08699213225221734
         },
         {
          "Category": "future wage loss",
          "Features": "suffering",
          "Weights": -0.10495201388553448
         },
         {
          "Category": "future wage loss",
          "Features": "range",
          "Weights": -0.07782376610533293
         },
         {
          "Category": "future wage loss",
          "Features": "range@Before",
          "Weights": -0.06880911568901323
         },
         {
          "Category": "future wage loss",
          "Features": "seeks",
          "Weights": -0.143807500073419
         },
         {
          "Category": "future wage loss",
          "Features": "seeks@Before",
          "Weights": -0.14141180967989184
         },
         {
          "Category": "future wage loss",
          "Features": "next word=per",
          "Weights": 0.14641784411718423
         },
         {
          "Category": "future wage loss",
          "Features": "next word=past",
          "Weights": -0.4328203403649087
         },
         {
          "Category": "future wage loss",
          "Features": "past",
          "Weights": -0.2166728822769628
         },
         {
          "Category": "future wage loss",
          "Features": "past@Before",
          "Weights": 0.1305532614335309
         },
         {
          "Category": "future wage loss",
          "Features": "income",
          "Weights": 0.6530446377647952
         },
         {
          "Category": "future wage loss",
          "Features": "wage",
          "Weights": 0.1569347124361933
         },
         {
          "Category": "future wage loss",
          "Features": "punitive",
          "Weights": -0.04343906145778825
         },
         {
          "Category": "future wage loss",
          "Features": "punitive@Before",
          "Weights": -0.027883132506377924
         },
         {
          "Category": "future wage loss",
          "Features": "next word=punitive",
          "Weights": -0.0496563347025044
         },
         {
          "Category": "future wage loss",
          "Features": "value=$10,000",
          "Weights": -0.03155050725748721
         },
         {
          "Category": "future wage loss",
          "Features": "punitive@After",
          "Weights": -0.015555928951410386
         },
         {
          "Category": "future wage loss",
          "Features": "prev word=reduced",
          "Weights": -0.04834645530014563
         },
         {
          "Category": "future wage loss",
          "Features": "value=$10,000",
          "Weights": -0.03155050725748721
         },
         {
          "Category": "future wage loss",
          "Features": "reduced@Before",
          "Weights": -0.08721319002809208
         },
         {
          "Category": "future wage loss",
          "Features": "reduced",
          "Weights": -0.21746401678049465
         },
         {
          "Category": "future wage loss",
          "Features": "failure@After",
          "Weights": -0.13360830744698587
         },
         {
          "Category": "future wage loss",
          "Features": "prev word=reduced",
          "Weights": -0.04834645530014563
         },
         {
          "Category": "future wage loss",
          "Features": "reduced@Before",
          "Weights": -0.08721319002809208
         },
         {
          "Category": "future wage loss",
          "Features": "20%@Before",
          "Weights": -0.022548690712766155
         },
         {
          "Category": "future wage loss",
          "Features": "=@Before",
          "Weights": -0.22500101734588354
         },
         {
          "Category": "future wage loss",
          "Features": "discounted@Before",
          "Weights": -0.05703377512967528
         },
         {
          "Category": "future wage loss",
          "Features": "special",
          "Weights": 0.11528915035585496
         },
         {
          "Category": "future wage loss",
          "Features": "special@Before",
          "Weights": -0.2684342818653981
         },
         {
          "Category": "future wage loss",
          "Features": "next word=special",
          "Weights": 0.21575088573191994
         },
         {
          "Category": "future wage loss",
          "Features": "prev word=damages",
          "Weights": 0.08365931427594452
         },
         {
          "Category": "future wage loss",
          "Features": "value=$500",
          "Weights": -0.13361908721293456
         },
         {
          "Category": "future wage loss",
          "Features": "start_idx_ratio",
          "Weights": -0.08158339881137959
         },
         {
          "Category": "future wage loss",
          "Features": "physiotherapy",
          "Weights": -0.06788587098128387
         },
         {
          "Category": "future wage loss",
          "Features": "therapy",
          "Weights": -0.04771871450595263
         },
         {
          "Category": "future wage loss",
          "Features": "occupational",
          "Weights": -0.03249670477210259
         },
         {
          "Category": "future wage loss",
          "Features": "care@Before",
          "Weights": -0.45349799254801026
         },
         {
          "Category": "future wage loss",
          "Features": "value=$160,000",
          "Weights": -0.28887692400210435
         },
         {
          "Category": "future wage loss",
          "Features": "earning",
          "Weights": 0.6525450020201833
         },
         {
          "Category": "future wage loss",
          "Features": "lost",
          "Weights": 0.22036161506452018
         },
         {
          "Category": "future wage loss",
          "Features": "accident",
          "Weights": -0.2296739616617023
         },
         {
          "Category": "future wage loss",
          "Features": "future",
          "Weights": 1.0301326872342236
         },
         {
          "Category": "future wage loss",
          "Features": "general",
          "Weights": -0.4755808153590736
         },
         {
          "Category": "future wage loss",
          "Features": "general@Before",
          "Weights": -0.30928602886543427
         },
         {
          "Category": "future wage loss",
          "Features": "damages",
          "Weights": -0.07022712983767276
         },
         {
          "Category": "future wage loss",
          "Features": "12,",
          "Weights": -0.01025537030891489
         },
         {
          "Category": "future wage loss",
          "Features": "july",
          "Weights": -0.03431867026216211
         },
         {
          "Category": "future wage loss",
          "Features": "value=$250,000",
          "Weights": 0.15195463678713617
         },
         {
          "Category": "future wage loss",
          "Features": "trust@After",
          "Weights": -0.10335112350612376
         },
         {
          "Category": "future wage loss",
          "Features": "trust",
          "Weights": -0.13417461372878434
         },
         {
          "Category": "future wage loss",
          "Features": "claim",
          "Weights": -0.3013960094833621
         },
         {
          "Category": "future wage loss",
          "Features": "sarah@After",
          "Weights": -0.0136528248742688
         },
         {
          "Category": "future wage loss",
          "Features": "accident",
          "Weights": -0.2296739616617023
         },
         {
          "Category": "future wage loss",
          "Features": "value=$75,000",
          "Weights": 0.2251142294287561
         },
         {
          "Category": "future wage loss",
          "Features": "first",
          "Weights": -0.0410021740979391
         },
         {
          "Category": "future wage loss",
          "Features": "non-pecuniary",
          "Weights": -0.47920110208723155
         },
         {
          "Category": "future wage loss",
          "Features": "damages",
          "Weights": -0.07022712983767276
         },
         {
          "Category": "future wage loss",
          "Features": "loss",
          "Weights": 0.21120561039526423
         },
         {
          "Category": "future wage loss",
          "Features": "lost",
          "Weights": 0.22036161506452018
         },
         {
          "Category": "future wage loss",
          "Features": "income@Before",
          "Weights": 0.055624139540818886
         },
         {
          "Category": "future wage loss",
          "Features": "income",
          "Weights": 0.6530446377647952
         },
         {
          "Category": "future wage loss",
          "Features": "lost@Before",
          "Weights": 0.022461775149816
         },
         {
          "Category": "future wage loss",
          "Features": "basis;@After",
          "Weights": -0.004734120938982698
         },
         {
          "Category": "future wage loss",
          "Features": "value=$73,750",
          "Weights": -0.004734120938982698
         },
         {
          "Category": "future wage loss",
          "Features": "basis;",
          "Weights": -0.004734120938982698
         },
         {
          "Category": "future wage loss",
          "Features": "$295,000@Before",
          "Weights": -0.004734120938982698
         },
         {
          "Category": "future wage loss",
          "Features": "$295,000",
          "Weights": -0.010055767482952085
         },
         {
          "Category": "future wage loss",
          "Features": "housekeeping",
          "Weights": -0.3015458551540014
         },
         {
          "Category": "future wage loss",
          "Features": "special",
          "Weights": 0.11528915035585496
         },
         {
          "Category": "future wage loss",
          "Features": "capacity,",
          "Weights": 0.4791563689895749
         },
         {
          "Category": "future wage loss",
          "Features": "housekeeping@Before",
          "Weights": -0.1941603983199439
         },
         {
          "Category": "future wage loss",
          "Features": "physiotherapy",
          "Weights": -0.06788587098128387
         },
         {
          "Category": "future wage loss",
          "Features": "claim",
          "Weights": -0.3013960094833621
         },
         {
          "Category": "future wage loss",
          "Features": "judgment",
          "Weights": -0.08768751469392079
         },
         {
          "Category": "future wage loss",
          "Features": "home;",
          "Weights": -0.014875260717106424
         },
         {
          "Category": "future wage loss",
          "Features": "negotiate",
          "Weights": -0.02289453433764445
         },
         {
          "Category": "future wage loss",
          "Features": "claim@After",
          "Weights": -0.2089510666082498
         },
         {
          "Category": "future wage loss",
          "Features": "total@Before",
          "Weights": -0.24496144976058715
         },
         {
          "Category": "future wage loss",
          "Features": "prev word=total:",
          "Weights": -0.08894361132151583
         },
         {
          "Category": "future wage loss",
          "Features": "total:@Before",
          "Weights": -0.08894361132151583
         },
         {
          "Category": "future wage loss",
          "Features": "allowed",
          "Weights": -0.10080161155311056
         },
         {
          "Category": "future wage loss",
          "Features": "total:",
          "Weights": -0.10225459792560113
         },
         {
          "Category": "future wage loss",
          "Features": "value=$76,653",
          "Weights": -0.019700082939071797
         },
         {
          "Category": "future wage loss",
          "Features": "value=$65,920",
          "Weights": -0.01114894045989053
         },
         {
          "Category": "future wage loss",
          "Features": "judgment@Before",
          "Weights": -0.07287760026418967
         },
         {
          "Category": "future wage loss",
          "Features": "value=$62,500",
          "Weights": -0.03244402505221639
         },
         {
          "Category": "future wage loss",
          "Features": "judgment",
          "Weights": -0.08768751469392079
         },
         {
          "Category": "general",
          "Features": "aggravated",
          "Weights": -0.0023526383950450993
         },
         {
          "Category": "general",
          "Features": "aggravated@After",
          "Weights": -0.29503785160004237
         },
         {
          "Category": "general",
          "Features": "next word=aggravated",
          "Weights": -0.03500492475022889
         },
         {
          "Category": "general",
          "Features": "aggravated@Before",
          "Weights": 0.29268521320499713
         },
         {
          "Category": "general",
          "Features": "value=$2,500",
          "Weights": -0.12528526414648627
         },
         {
          "Category": "general",
          "Features": "future",
          "Weights": -0.27331134329994644
         },
         {
          "Category": "general",
          "Features": "next word=cost",
          "Weights": 0.034654716342901896
         },
         {
          "Category": "general",
          "Features": "care,@After",
          "Weights": -0.024495427080888216
         },
         {
          "Category": "general",
          "Features": "special@After",
          "Weights": -0.05144025887897623
         },
         {
          "Category": "general",
          "Features": "care.@After",
          "Weights": -0.02813293442513848
         },
         {
          "Category": "general",
          "Features": "value=$20,000",
          "Weights": 0.12495786103245415
         },
         {
          "Category": "general",
          "Features": "future",
          "Weights": -0.27331134329994644
         },
         {
          "Category": "general",
          "Features": "capacity,@After",
          "Weights": -0.07323419454698098
         },
         {
          "Category": "general",
          "Features": "next word=loss",
          "Weights": -0.08251256836229635
         },
         {
          "Category": "general",
          "Features": "loss,",
          "Weights": -0.027120278761628064
         },
         {
          "Category": "general",
          "Features": "general",
          "Weights": 1.4986014425781802
         },
         {
          "Category": "general",
          "Features": "general@Before",
          "Weights": 1.14228314491885
         },
         {
          "Category": "general",
          "Features": "value=$50,000",
          "Weights": 0.895033206636443
         },
         {
          "Category": "general",
          "Features": "value=$7,500",
          "Weights": 0.6894108029613981
         },
         {
          "Category": "general",
          "Features": "past@After",
          "Weights": 0.668300168895767
         },
         {
          "Category": "general",
          "Features": "in-trust",
          "Weights": -0.1096733414370517
         },
         {
          "Category": "general",
          "Features": "trust",
          "Weights": -0.08504417719355743
         },
         {
          "Category": "general",
          "Features": "in-trust@Before",
          "Weights": -0.05310035430663677
         },
         {
          "Category": "general",
          "Features": "trust@After",
          "Weights": -0.06526803467352724
         },
         {
          "Category": "general",
          "Features": "next word=trust",
          "Weights": -0.017755873976932568
         },
         {
          "Category": "general",
          "Features": "non-pecuniary",
          "Weights": -0.6247729866044807
         },
         {
          "Category": "general",
          "Features": "next word=non-pecuniary",
          "Weights": -0.19934667364838357
         },
         {
          "Category": "general",
          "Features": "non-pecuniary@Before",
          "Weights": -0.35391376476057035
         },
         {
          "Category": "general",
          "Features": "enjoyment",
          "Weights": -0.05703074188241548
         },
         {
          "Category": "general",
          "Features": "suffering",
          "Weights": -0.0063519620687924674
         },
         {
          "Category": "general",
          "Features": "range",
          "Weights": -0.09918349429538753
         },
         {
          "Category": "general",
          "Features": "range@Before",
          "Weights": -0.09551099968171776
         },
         {
          "Category": "general",
          "Features": "seeks",
          "Weights": -0.045614426191464844
         },
         {
          "Category": "general",
          "Features": "seeks@Before",
          "Weights": -0.043263780520954934
         },
         {
          "Category": "general",
          "Features": "next word=per",
          "Weights": -0.05636363309034369
         },
         {
          "Category": "general",
          "Features": "next word=past",
          "Weights": -0.17017543055810583
         },
         {
          "Category": "general",
          "Features": "past",
          "Weights": 0.5570755007037071
         },
         {
          "Category": "general",
          "Features": "past@Before",
          "Weights": -0.11122466819206007
         },
         {
          "Category": "general",
          "Features": "income",
          "Weights": 0.11577653898054398
         },
         {
          "Category": "general",
          "Features": "wage",
          "Weights": -0.2229410321881246
         },
         {
          "Category": "general",
          "Features": "punitive",
          "Weights": 0.02398486899975975
         },
         {
          "Category": "general",
          "Features": "punitive@Before",
          "Weights": -0.15751950110068189
         },
         {
          "Category": "general",
          "Features": "next word=punitive",
          "Weights": -0.21177694381965276
         },
         {
          "Category": "general",
          "Features": "value=$10,000",
          "Weights": -0.24855399912283863
         },
         {
          "Category": "general",
          "Features": "punitive@After",
          "Weights": 0.18150437010044165
         },
         {
          "Category": "general",
          "Features": "prev word=reduced",
          "Weights": -0.10272554444459515
         },
         {
          "Category": "general",
          "Features": "value=$10,000",
          "Weights": -0.24855399912283863
         },
         {
          "Category": "general",
          "Features": "reduced@Before",
          "Weights": -0.14251279943938622
         },
         {
          "Category": "general",
          "Features": "reduced",
          "Weights": 0.22981896603138752
         },
         {
          "Category": "general",
          "Features": "failure@After",
          "Weights": -0.07959114710122273
         },
         {
          "Category": "general",
          "Features": "prev word=reduced",
          "Weights": -0.10272554444459515
         },
         {
          "Category": "general",
          "Features": "reduced@Before",
          "Weights": -0.14251279943938622
         },
         {
          "Category": "general",
          "Features": "20%@Before",
          "Weights": -0.005769455288633164
         },
         {
          "Category": "general",
          "Features": "=@Before",
          "Weights": -0.021660543966422113
         },
         {
          "Category": "general",
          "Features": "discounted@Before",
          "Weights": -0.021294251425003578
         },
         {
          "Category": "general",
          "Features": "special",
          "Weights": -0.3041541288949959
         },
         {
          "Category": "general",
          "Features": "special@Before",
          "Weights": -0.2527138700160198
         },
         {
          "Category": "general",
          "Features": "next word=special",
          "Weights": -0.019410975489635877
         },
         {
          "Category": "general",
          "Features": "prev word=damages",
          "Weights": 0.5499374811166259
         },
         {
          "Category": "general",
          "Features": "value=$500",
          "Weights": -0.043152111665487776
         },
         {
          "Category": "general",
          "Features": "start_idx_ratio",
          "Weights": -0.08000075665082287
         },
         {
          "Category": "general",
          "Features": "physiotherapy",
          "Weights": -0.04890112763110603
         },
         {
          "Category": "general",
          "Features": "therapy",
          "Weights": -0.03166377044232408
         },
         {
          "Category": "general",
          "Features": "occupational",
          "Weights": -0.020506931483851368
         },
         {
          "Category": "general",
          "Features": "care@Before",
          "Weights": -0.09968131463678057
         },
         {
          "Category": "general",
          "Features": "value=$160,000",
          "Weights": -0.02061501500272163
         },
         {
          "Category": "general",
          "Features": "earning",
          "Weights": -0.3903505086179449
         },
         {
          "Category": "general",
          "Features": "lost",
          "Weights": -0.11388423374511426
         },
         {
          "Category": "general",
          "Features": "accident",
          "Weights": -0.32784262525117625
         },
         {
          "Category": "general",
          "Features": "future",
          "Weights": -0.27331134329994644
         },
         {
          "Category": "general",
          "Features": "general",
          "Weights": 1.4986014425781802
         },
         {
          "Category": "general",
          "Features": "general@Before",
          "Weights": 1.14228314491885
         },
         {
          "Category": "general",
          "Features": "damages",
          "Weights": 0.2462748565561608
         },
         {
          "Category": "general",
          "Features": "12,",
          "Weights": -0.007528114863898773
         },
         {
          "Category": "general",
          "Features": "july",
          "Weights": -0.017522279510660925
         },
         {
          "Category": "general",
          "Features": "value=$250,000",
          "Weights": 0.12734356020441656
         },
         {
          "Category": "general",
          "Features": "trust@After",
          "Weights": -0.06526803467352724
         },
         {
          "Category": "general",
          "Features": "trust",
          "Weights": -0.08504417719355743
         },
         {
          "Category": "general",
          "Features": "claim",
          "Weights": 0.24070987846413414
         },
         {
          "Category": "general",
          "Features": "sarah@After",
          "Weights": -0.015534168092455471
         },
         {
          "Category": "general",
          "Features": "accident",
          "Weights": -0.32784262525117625
         },
         {
          "Category": "general",
          "Features": "value=$75,000",
          "Weights": -0.05082112658795544
         },
         {
          "Category": "general",
          "Features": "first",
          "Weights": -0.16061753482081542
         },
         {
          "Category": "general",
          "Features": "non-pecuniary",
          "Weights": -0.6247729866044807
         },
         {
          "Category": "general",
          "Features": "damages",
          "Weights": 0.2462748565561608
         },
         {
          "Category": "general",
          "Features": "loss",
          "Weights": 0.05154805819892039
         },
         {
          "Category": "general",
          "Features": "lost",
          "Weights": -0.11388423374511426
         },
         {
          "Category": "general",
          "Features": "income@Before",
          "Weights": -0.16859504313898907
         },
         {
          "Category": "general",
          "Features": "income",
          "Weights": 0.11577653898054398
         },
         {
          "Category": "general",
          "Features": "lost@Before",
          "Weights": -0.06546772759830935
         },
         {
          "Category": "general",
          "Features": "basis;@After",
          "Weights": -0.0030169281552601544
         },
         {
          "Category": "general",
          "Features": "value=$73,750",
          "Weights": -0.0030169281552601544
         },
         {
          "Category": "general",
          "Features": "basis;",
          "Weights": -0.0030169281552601544
         },
         {
          "Category": "general",
          "Features": "$295,000@Before",
          "Weights": -0.0030169281552601544
         },
         {
          "Category": "general",
          "Features": "$295,000",
          "Weights": -0.0036933416232704497
         },
         {
          "Category": "general",
          "Features": "housekeeping",
          "Weights": -0.06817314738245452
         },
         {
          "Category": "general",
          "Features": "special",
          "Weights": -0.3041541288949959
         },
         {
          "Category": "general",
          "Features": "capacity,",
          "Weights": -0.12198881569049538
         },
         {
          "Category": "general",
          "Features": "housekeeping@Before",
          "Weights": -0.028859677546515656
         },
         {
          "Category": "general",
          "Features": "physiotherapy",
          "Weights": -0.04890112763110603
         },
         {
          "Category": "general",
          "Features": "claim",
          "Weights": 0.24070987846413414
         },
         {
          "Category": "general",
          "Features": "judgment",
          "Weights": -0.15407272269223993
         },
         {
          "Category": "general",
          "Features": "home;",
          "Weights": -0.015802564223730373
         },
         {
          "Category": "general",
          "Features": "negotiate",
          "Weights": 0.15108589825622992
         },
         {
          "Category": "general",
          "Features": "claim@After",
          "Weights": 0.03292765155525657
         },
         {
          "Category": "general",
          "Features": "total@Before",
          "Weights": -0.23423491818847297
         },
         {
          "Category": "general",
          "Features": "prev word=total:",
          "Weights": -0.026388691016554555
         },
         {
          "Category": "general",
          "Features": "total:@Before",
          "Weights": -0.026388691016554555
         },
         {
          "Category": "general",
          "Features": "allowed",
          "Weights": -0.013081801874609379
         },
         {
          "Category": "general",
          "Features": "total:",
          "Weights": -0.06094915938681784
         },
         {
          "Category": "general",
          "Features": "value=$76,653",
          "Weights": -0.04635896632041054
         },
         {
          "Category": "general",
          "Features": "value=$65,920",
          "Weights": -0.057310695421958026
         },
         {
          "Category": "general",
          "Features": "judgment@Before",
          "Weights": -0.116629226580729
         },
         {
          "Category": "general",
          "Features": "value=$62,500",
          "Weights": -0.044776698580151826
         },
         {
          "Category": "general",
          "Features": "judgment",
          "Weights": -0.15407272269223993
         },
         {
          "Category": "in trust",
          "Features": "aggravated",
          "Weights": -0.07065076170243084
         },
         {
          "Category": "in trust",
          "Features": "aggravated@After",
          "Weights": -0.035512505006123324
         },
         {
          "Category": "in trust",
          "Features": "next word=aggravated",
          "Weights": -0.02041463930362858
         },
         {
          "Category": "in trust",
          "Features": "aggravated@Before",
          "Weights": -0.03513825669630757
         },
         {
          "Category": "in trust",
          "Features": "value=$2,500",
          "Weights": -0.06445198919369705
         },
         {
          "Category": "in trust",
          "Features": "future",
          "Weights": -0.15176509502673918
         },
         {
          "Category": "in trust",
          "Features": "next word=cost",
          "Weights": -0.11447080511152234
         },
         {
          "Category": "in trust",
          "Features": "care,@After",
          "Weights": -0.038986331573028214
         },
         {
          "Category": "in trust",
          "Features": "special@After",
          "Weights": 0.2501424254017708
         },
         {
          "Category": "in trust",
          "Features": "care.@After",
          "Weights": -0.03611327044505771
         },
         {
          "Category": "in trust",
          "Features": "value=$20,000",
          "Weights": -0.17693673530546286
         },
         {
          "Category": "in trust",
          "Features": "future",
          "Weights": -0.15176509502673918
         },
         {
          "Category": "in trust",
          "Features": "capacity,@After",
          "Weights": -0.056564759130221264
         },
         {
          "Category": "in trust",
          "Features": "next word=loss",
          "Weights": -0.129103585571989
         },
         {
          "Category": "in trust",
          "Features": "loss,",
          "Weights": -0.033250782817773133
         },
         {
          "Category": "in trust",
          "Features": "general",
          "Weights": -0.16514162583785066
         },
         {
          "Category": "in trust",
          "Features": "general@Before",
          "Weights": -0.09719320034967968
         },
         {
          "Category": "in trust",
          "Features": "value=$50,000",
          "Weights": 0.30283127774903873
         },
         {
          "Category": "in trust",
          "Features": "value=$7,500",
          "Weights": 0.05697471741061077
         },
         {
          "Category": "in trust",
          "Features": "past@After",
          "Weights": -0.14104702833204621
         },
         {
          "Category": "in trust",
          "Features": "in-trust",
          "Weights": 1.5791214892165149
         },
         {
          "Category": "in trust",
          "Features": "trust",
          "Weights": 1.2421107380144323
         },
         {
          "Category": "in trust",
          "Features": "in-trust@Before",
          "Weights": 1.1047487069596225
         },
         {
          "Category": "in trust",
          "Features": "trust@After",
          "Weights": 0.8004604562214337
         },
         {
          "Category": "in trust",
          "Features": "next word=trust",
          "Weights": 0.7513562566382082
         },
         {
          "Category": "in trust",
          "Features": "non-pecuniary",
          "Weights": -0.3000926066544674
         },
         {
          "Category": "in trust",
          "Features": "next word=non-pecuniary",
          "Weights": -0.0841575927078161
         },
         {
          "Category": "in trust",
          "Features": "non-pecuniary@Before",
          "Weights": -0.17124414807029506
         },
         {
          "Category": "in trust",
          "Features": "enjoyment",
          "Weights": -0.047073401123193075
         },
         {
          "Category": "in trust",
          "Features": "suffering",
          "Weights": -0.04407774507345561
         },
         {
          "Category": "in trust",
          "Features": "range",
          "Weights": -0.028058652891845743
         },
         {
          "Category": "in trust",
          "Features": "range@Before",
          "Weights": -0.026758781592112677
         },
         {
          "Category": "in trust",
          "Features": "seeks",
          "Weights": -0.02500833058209461
         },
         {
          "Category": "in trust",
          "Features": "seeks@Before",
          "Weights": -0.023184272313603965
         },
         {
          "Category": "in trust",
          "Features": "next word=per",
          "Weights": -0.06372326543294198
         },
         {
          "Category": "in trust",
          "Features": "next word=past",
          "Weights": -0.06586827262132094
         },
         {
          "Category": "in trust",
          "Features": "past",
          "Weights": -0.24518117124232452
         },
         {
          "Category": "in trust",
          "Features": "past@Before",
          "Weights": -0.10413414291027806
         },
         {
          "Category": "in trust",
          "Features": "income",
          "Weights": -0.07098272964053078
         },
         {
          "Category": "in trust",
          "Features": "wage",
          "Weights": -0.08493834430148078
         },
         {
          "Category": "in trust",
          "Features": "punitive",
          "Weights": -0.12448985725286274
         },
         {
          "Category": "in trust",
          "Features": "punitive@Before",
          "Weights": -0.044749726672762245
         },
         {
          "Category": "in trust",
          "Features": "next word=punitive",
          "Weights": -0.03164635032393534
         },
         {
          "Category": "in trust",
          "Features": "value=$10,000",
          "Weights": 0.12305544238196976
         },
         {
          "Category": "in trust",
          "Features": "punitive@After",
          "Weights": -0.07974013058010064
         },
         {
          "Category": "in trust",
          "Features": "prev word=reduced",
          "Weights": -0.042934241966669305
         },
         {
          "Category": "in trust",
          "Features": "value=$10,000",
          "Weights": 0.12305544238196976
         },
         {
          "Category": "in trust",
          "Features": "reduced@Before",
          "Weights": -0.05177506306295692
         },
         {
          "Category": "in trust",
          "Features": "reduced",
          "Weights": -0.09115242514594363
         },
         {
          "Category": "in trust",
          "Features": "failure@After",
          "Weights": -0.037737424435600304
         },
         {
          "Category": "in trust",
          "Features": "prev word=reduced",
          "Weights": -0.042934241966669305
         },
         {
          "Category": "in trust",
          "Features": "reduced@Before",
          "Weights": -0.05177506306295692
         },
         {
          "Category": "in trust",
          "Features": "20%@Before",
          "Weights": -0.001627344669356322
         },
         {
          "Category": "in trust",
          "Features": "=@Before",
          "Weights": -0.01087312544179392
         },
         {
          "Category": "in trust",
          "Features": "discounted@Before",
          "Weights": -0.013188323156181257
         },
         {
          "Category": "in trust",
          "Features": "special",
          "Weights": 0.522853563519487
         },
         {
          "Category": "in trust",
          "Features": "special@Before",
          "Weights": 0.27271113811771613
         },
         {
          "Category": "in trust",
          "Features": "next word=special",
          "Weights": -0.03181152783215168
         },
         {
          "Category": "in trust",
          "Features": "prev word=damages",
          "Weights": 0.266976027462107
         },
         {
          "Category": "in trust",
          "Features": "value=$500",
          "Weights": -0.05609691918244759
         },
         {
          "Category": "in trust",
          "Features": "start_idx_ratio",
          "Weights": -0.10026579851187362
         },
         {
          "Category": "in trust",
          "Features": "physiotherapy",
          "Weights": -0.06011470872096338
         },
         {
          "Category": "in trust",
          "Features": "therapy",
          "Weights": -0.041010387995862596
         },
         {
          "Category": "in trust",
          "Features": "occupational",
          "Weights": -0.025579218886133584
         },
         {
          "Category": "in trust",
          "Features": "care@Before",
          "Weights": 0.009263465841632413
         },
         {
          "Category": "in trust",
          "Features": "value=$160,000",
          "Weights": -0.0033054715059787168
         },
         {
          "Category": "in trust",
          "Features": "earning",
          "Weights": 0.2540348059121435
         },
         {
          "Category": "in trust",
          "Features": "lost",
          "Weights": 0.015418752114889073
         },
         {
          "Category": "in trust",
          "Features": "accident",
          "Weights": -0.11599120370867802
         },
         {
          "Category": "in trust",
          "Features": "future",
          "Weights": -0.15176509502673918
         },
         {
          "Category": "in trust",
          "Features": "general",
          "Weights": -0.16514162583785066
         },
         {
          "Category": "in trust",
          "Features": "general@Before",
          "Weights": -0.09719320034967968
         },
         {
          "Category": "in trust",
          "Features": "damages",
          "Weights": 0.1734442634190833
         },
         {
          "Category": "in trust",
          "Features": "12,",
          "Weights": -0.004518955209403997
         },
         {
          "Category": "in trust",
          "Features": "july",
          "Weights": -0.014097641174978227
         },
         {
          "Category": "in trust",
          "Features": "value=$250,000",
          "Weights": -0.004420629238127007
         },
         {
          "Category": "in trust",
          "Features": "trust@After",
          "Weights": 0.8004604562214337
         },
         {
          "Category": "in trust",
          "Features": "trust",
          "Weights": 1.2421107380144323
         },
         {
          "Category": "in trust",
          "Features": "claim",
          "Weights": 0.3711337573267069
         },
         {
          "Category": "in trust",
          "Features": "sarah@After",
          "Weights": 0.1317661173534847
         },
         {
          "Category": "in trust",
          "Features": "accident",
          "Weights": -0.11599120370867802
         },
         {
          "Category": "in trust",
          "Features": "value=$75,000",
          "Weights": -0.030003011440553107
         },
         {
          "Category": "in trust",
          "Features": "first",
          "Weights": -0.061872076717102015
         },
         {
          "Category": "in trust",
          "Features": "non-pecuniary",
          "Weights": -0.3000926066544674
         },
         {
          "Category": "in trust",
          "Features": "damages",
          "Weights": 0.1734442634190833
         },
         {
          "Category": "in trust",
          "Features": "loss",
          "Weights": 0.10797206914587315
         },
         {
          "Category": "in trust",
          "Features": "lost",
          "Weights": 0.015418752114889073
         },
         {
          "Category": "in trust",
          "Features": "income@Before",
          "Weights": -0.14079046646420204
         },
         {
          "Category": "in trust",
          "Features": "income",
          "Weights": -0.07098272964053078
         },
         {
          "Category": "in trust",
          "Features": "lost@Before",
          "Weights": -0.0613982948242719
         },
         {
          "Category": "in trust",
          "Features": "basis;@After",
          "Weights": -0.0017757605511032587
         },
         {
          "Category": "in trust",
          "Features": "value=$73,750",
          "Weights": -0.0017757605511032587
         },
         {
          "Category": "in trust",
          "Features": "basis;",
          "Weights": -0.0017757605511032587
         },
         {
          "Category": "in trust",
          "Features": "$295,000@Before",
          "Weights": -0.0017757605511032587
         },
         {
          "Category": "in trust",
          "Features": "$295,000",
          "Weights": -0.002297963749824983
         },
         {
          "Category": "in trust",
          "Features": "housekeeping",
          "Weights": -0.09199136085268991
         },
         {
          "Category": "in trust",
          "Features": "special",
          "Weights": 0.522853563519487
         },
         {
          "Category": "in trust",
          "Features": "capacity,",
          "Weights": 0.2979989846207107
         },
         {
          "Category": "in trust",
          "Features": "housekeeping@Before",
          "Weights": -0.038844394667171746
         },
         {
          "Category": "in trust",
          "Features": "physiotherapy",
          "Weights": -0.06011470872096338
         },
         {
          "Category": "in trust",
          "Features": "claim",
          "Weights": 0.3711337573267069
         },
         {
          "Category": "in trust",
          "Features": "judgment",
          "Weights": -0.05396804759131541
         },
         {
          "Category": "in trust",
          "Features": "home;",
          "Weights": -0.008035322445170386
         },
         {
          "Category": "in trust",
          "Features": "negotiate",
          "Weights": -0.02508671782070009
         },
         {
          "Category": "in trust",
          "Features": "claim@After",
          "Weights": -0.0713597970931101
         },
         {
          "Category": "in trust",
          "Features": "total@Before",
          "Weights": 0.12136972396013644
         },
         {
          "Category": "in trust",
          "Features": "prev word=total:",
          "Weights": -0.02458723100614878
         },
         {
          "Category": "in trust",
          "Features": "total:@Before",
          "Weights": -0.02458723100614878
         },
         {
          "Category": "in trust",
          "Features": "allowed",
          "Weights": 0.07243488658064565
         },
         {
          "Category": "in trust",
          "Features": "total:",
          "Weights": 0.005170629528698015
         },
         {
          "Category": "in trust",
          "Features": "value=$76,653",
          "Weights": -0.005883441486667657
         },
         {
          "Category": "in trust",
          "Features": "value=$65,920",
          "Weights": -0.00755924779606411
         },
         {
          "Category": "in trust",
          "Features": "judgment@Before",
          "Weights": -0.03665268753326129
         },
         {
          "Category": "in trust",
          "Features": "value=$62,500",
          "Weights": -0.010990051409222296
         },
         {
          "Category": "in trust",
          "Features": "judgment",
          "Weights": -0.05396804759131541
         },
         {
          "Category": "non pecuniary",
          "Features": "aggravated",
          "Weights": -0.12407868155024561
         },
         {
          "Category": "non pecuniary",
          "Features": "aggravated@After",
          "Weights": -0.022622265762044805
         },
         {
          "Category": "non pecuniary",
          "Features": "next word=aggravated",
          "Weights": -0.0281414871561859
         },
         {
          "Category": "non pecuniary",
          "Features": "aggravated@Before",
          "Weights": -0.10145641578820079
         },
         {
          "Category": "non pecuniary",
          "Features": "value=$2,500",
          "Weights": -0.1458283896376625
         },
         {
          "Category": "non pecuniary",
          "Features": "future",
          "Weights": 0.050552511295721705
         },
         {
          "Category": "non pecuniary",
          "Features": "next word=cost",
          "Weights": -0.29222163594361794
         },
         {
          "Category": "non pecuniary",
          "Features": "care,@After",
          "Weights": -0.1380170144119054
         },
         {
          "Category": "non pecuniary",
          "Features": "special@After",
          "Weights": 0.2001666506450737
         },
         {
          "Category": "non pecuniary",
          "Features": "care.@After",
          "Weights": -0.049442790883839446
         },
         {
          "Category": "non pecuniary",
          "Features": "value=$20,000",
          "Weights": 0.4816301400946151
         },
         {
          "Category": "non pecuniary",
          "Features": "future",
          "Weights": 0.050552511295721705
         },
         {
          "Category": "non pecuniary",
          "Features": "capacity,@After",
          "Weights": -0.3291802084256395
         },
         {
          "Category": "non pecuniary",
          "Features": "next word=loss",
          "Weights": -0.5485475489914182
         },
         {
          "Category": "non pecuniary",
          "Features": "loss,",
          "Weights": -0.2914628532650822
         },
         {
          "Category": "non pecuniary",
          "Features": "general",
          "Weights": -0.3952762020997838
         },
         {
          "Category": "non pecuniary",
          "Features": "general@Before",
          "Weights": -0.13991911282465058
         },
         {
          "Category": "non pecuniary",
          "Features": "value=$50,000",
          "Weights": 0.009876522580243213
         },
         {
          "Category": "non pecuniary",
          "Features": "value=$7,500",
          "Weights": -0.2229389163301355
         },
         {
          "Category": "non pecuniary",
          "Features": "past@After",
          "Weights": 0.4832045107205207
         },
         {
          "Category": "non pecuniary",
          "Features": "in-trust",
          "Weights": -0.09775580292365746
         },
         {
          "Category": "non pecuniary",
          "Features": "trust",
          "Weights": 0.05191465333542192
         },
         {
          "Category": "non pecuniary",
          "Features": "in-trust@Before",
          "Weights": -0.07236981859099365
         },
         {
          "Category": "non pecuniary",
          "Features": "trust@After",
          "Weights": 0.08190400688512788
         },
         {
          "Category": "non pecuniary",
          "Features": "next word=trust",
          "Weights": -0.040236351057604265
         },
         {
          "Category": "non pecuniary",
          "Features": "non-pecuniary",
          "Weights": 2.1174392123607215
         },
         {
          "Category": "non pecuniary",
          "Features": "next word=non-pecuniary",
          "Weights": 1.6685953436375305
         },
         {
          "Category": "non pecuniary",
          "Features": "non-pecuniary@Before",
          "Weights": 1.4718571157332894
         },
         {
          "Category": "non pecuniary",
          "Features": "enjoyment",
          "Weights": 0.8338314657847321
         },
         {
          "Category": "non pecuniary",
          "Features": "suffering",
          "Weights": 0.8024187200823565
         },
         {
          "Category": "non pecuniary",
          "Features": "range",
          "Weights": -0.3135260567201997
         },
         {
          "Category": "non pecuniary",
          "Features": "range@Before",
          "Weights": -0.3878756273054879
         },
         {
          "Category": "non pecuniary",
          "Features": "seeks",
          "Weights": -0.16631264546289332
         },
         {
          "Category": "non pecuniary",
          "Features": "seeks@Before",
          "Weights": -0.16015492713585552
         },
         {
          "Category": "non pecuniary",
          "Features": "next word=per",
          "Weights": -0.06789735438193974
         },
         {
          "Category": "non pecuniary",
          "Features": "next word=past",
          "Weights": -0.15907343324886858
         },
         {
          "Category": "non pecuniary",
          "Features": "past",
          "Weights": 0.20433217214937105
         },
         {
          "Category": "non pecuniary",
          "Features": "past@Before",
          "Weights": -0.27887233857114985
         },
         {
          "Category": "non pecuniary",
          "Features": "income",
          "Weights": 0.25479558497246574
         },
         {
          "Category": "non pecuniary",
          "Features": "wage",
          "Weights": 0.2890677362805575
         },
         {
          "Category": "non pecuniary",
          "Features": "punitive",
          "Weights": -0.18045271805202542
         },
         {
          "Category": "non pecuniary",
          "Features": "punitive@Before",
          "Weights": -0.18793781709055862
         },
         {
          "Category": "non pecuniary",
          "Features": "next word=punitive",
          "Weights": -0.051572154958690324
         },
         {
          "Category": "non pecuniary",
          "Features": "value=$10,000",
          "Weights": -0.3314485546853156
         },
         {
          "Category": "non pecuniary",
          "Features": "punitive@After",
          "Weights": 0.007485099038533253
         },
         {
          "Category": "non pecuniary",
          "Features": "prev word=reduced",
          "Weights": -0.16377783750505376
         },
         {
          "Category": "non pecuniary",
          "Features": "value=$10,000",
          "Weights": -0.3314485546853156
         },
         {
          "Category": "non pecuniary",
          "Features": "reduced@Before",
          "Weights": -0.19907892818892378
         },
         {
          "Category": "non pecuniary",
          "Features": "reduced",
          "Weights": 0.19133624073894676
         },
         {
          "Category": "non pecuniary",
          "Features": "failure@After",
          "Weights": 0.21494167940842399
         },
         {
          "Category": "non pecuniary",
          "Features": "prev word=reduced",
          "Weights": -0.16377783750505376
         },
         {
          "Category": "non pecuniary",
          "Features": "reduced@Before",
          "Weights": -0.19907892818892378
         },
         {
          "Category": "non pecuniary",
          "Features": "20%@Before",
          "Weights": -0.007375458811471463
         },
         {
          "Category": "non pecuniary",
          "Features": "=@Before",
          "Weights": -0.22573427283021924
         },
         {
          "Category": "non pecuniary",
          "Features": "discounted@Before",
          "Weights": -0.08174728081618629
         },
         {
          "Category": "non pecuniary",
          "Features": "special",
          "Weights": -0.18361107529596962
         },
         {
          "Category": "non pecuniary",
          "Features": "special@Before",
          "Weights": -0.3837777259410433
         },
         {
          "Category": "non pecuniary",
          "Features": "next word=special",
          "Weights": -0.31465466772472905
         },
         {
          "Category": "non pecuniary",
          "Features": "prev word=damages",
          "Weights": 0.4980970732097858
         },
         {
          "Category": "non pecuniary",
          "Features": "value=$500",
          "Weights": -0.16488828912720524
         },
         {
          "Category": "non pecuniary",
          "Features": "start_idx_ratio",
          "Weights": 0.18090166865255958
         },
         {
          "Category": "non pecuniary",
          "Features": "physiotherapy",
          "Weights": -0.06487896092204681
         },
         {
          "Category": "non pecuniary",
          "Features": "therapy",
          "Weights": -0.012917574863780227
         },
         {
          "Category": "non pecuniary",
          "Features": "occupational",
          "Weights": -0.02705372283106023
         },
         {
          "Category": "non pecuniary",
          "Features": "care@Before",
          "Weights": -0.18594167952041654
         },
         {
          "Category": "non pecuniary",
          "Features": "value=$160,000",
          "Weights": -0.21409181119385556
         },
         {
          "Category": "non pecuniary",
          "Features": "earning",
          "Weights": -0.1333335169203343
         },
         {
          "Category": "non pecuniary",
          "Features": "lost",
          "Weights": 0.07222067917059148
         },
         {
          "Category": "non pecuniary",
          "Features": "accident",
          "Weights": -0.005964777943952963
         },
         {
          "Category": "non pecuniary",
          "Features": "future",
          "Weights": 0.050552511295721705
         },
         {
          "Category": "non pecuniary",
          "Features": "general",
          "Weights": -0.3952762020997838
         },
         {
          "Category": "non pecuniary",
          "Features": "general@Before",
          "Weights": -0.13991911282465058
         },
         {
          "Category": "non pecuniary",
          "Features": "damages",
          "Weights": 0.37945358329536105
         },
         {
          "Category": "non pecuniary",
          "Features": "12,",
          "Weights": -0.009243977108662031
         },
         {
          "Category": "non pecuniary",
          "Features": "july",
          "Weights": -0.02655159055673706
         },
         {
          "Category": "non pecuniary",
          "Features": "value=$250,000",
          "Weights": -0.17116922150618918
         },
         {
          "Category": "non pecuniary",
          "Features": "trust@After",
          "Weights": 0.08190400688512788
         },
         {
          "Category": "non pecuniary",
          "Features": "trust",
          "Weights": 0.05191465333542192
         },
         {
          "Category": "non pecuniary",
          "Features": "claim",
          "Weights": -0.19419575410777037
         },
         {
          "Category": "non pecuniary",
          "Features": "sarah@After",
          "Weights": -0.013471254584149873
         },
         {
          "Category": "non pecuniary",
          "Features": "accident",
          "Weights": -0.005964777943952963
         },
         {
          "Category": "non pecuniary",
          "Features": "value=$75,000",
          "Weights": 0.7343715803713174
         },
         {
          "Category": "non pecuniary",
          "Features": "first",
          "Weights": -0.5695498304843307
         },
         {
          "Category": "non pecuniary",
          "Features": "non-pecuniary",
          "Weights": 2.1174392123607215
         },
         {
          "Category": "non pecuniary",
          "Features": "damages",
          "Weights": 0.37945358329536105
         },
         {
          "Category": "non pecuniary",
          "Features": "loss",
          "Weights": 0.25956277669168887
         },
         {
          "Category": "non pecuniary",
          "Features": "lost",
          "Weights": 0.07222067917059148
         },
         {
          "Category": "non pecuniary",
          "Features": "income@Before",
          "Weights": -0.18384690834898418
         },
         {
          "Category": "non pecuniary",
          "Features": "income",
          "Weights": 0.25479558497246574
         },
         {
          "Category": "non pecuniary",
          "Features": "lost@Before",
          "Weights": 0.07908010567020796
         },
         {
          "Category": "non pecuniary",
          "Features": "basis;@After",
          "Weights": -0.003239055992001087
         },
         {
          "Category": "non pecuniary",
          "Features": "value=$73,750",
          "Weights": -0.003239055992001087
         },
         {
          "Category": "non pecuniary",
          "Features": "basis;",
          "Weights": -0.003239055992001087
         },
         {
          "Category": "non pecuniary",
          "Features": "$295,000@Before",
          "Weights": -0.003239055992001087
         },
         {
          "Category": "non pecuniary",
          "Features": "$295,000",
          "Weights": -0.004146389157570367
         },
         {
          "Category": "non pecuniary",
          "Features": "housekeeping",
          "Weights": -0.06630174683748169
         },
         {
          "Category": "non pecuniary",
          "Features": "special",
          "Weights": -0.18361107529596962
         },
         {
          "Category": "non pecuniary",
          "Features": "capacity,",
          "Weights": -0.4350919387354072
         },
         {
          "Category": "non pecuniary",
          "Features": "housekeeping@Before",
          "Weights": 0.0864011162132663
         },
         {
          "Category": "non pecuniary",
          "Features": "physiotherapy",
          "Weights": -0.06487896092204681
         },
         {
          "Category": "non pecuniary",
          "Features": "claim",
          "Weights": -0.19419575410777037
         },
         {
          "Category": "non pecuniary",
          "Features": "judgment",
          "Weights": -0.10401459310415866
         },
         {
          "Category": "non pecuniary",
          "Features": "home;",
          "Weights": -0.017867806870385517
         },
         {
          "Category": "non pecuniary",
          "Features": "negotiate",
          "Weights": 0.15150019147588412
         },
         {
          "Category": "non pecuniary",
          "Features": "claim@After",
          "Weights": 0.03278569728626783
         },
         {
          "Category": "non pecuniary",
          "Features": "total@Before",
          "Weights": -0.45502420949881184
         },
         {
          "Category": "non pecuniary",
          "Features": "prev word=total:",
          "Weights": -0.05891621733513485
         },
         {
          "Category": "non pecuniary",
          "Features": "total:@Before",
          "Weights": -0.05891621733513485
         },
         {
          "Category": "non pecuniary",
          "Features": "allowed",
          "Weights": -0.14885418581145785
         },
         {
          "Category": "non pecuniary",
          "Features": "total:",
          "Weights": -0.0888925707885121
         },
         {
          "Category": "non pecuniary",
          "Features": "value=$76,653",
          "Weights": -0.04710316355405717
         },
         {
          "Category": "non pecuniary",
          "Features": "value=$65,920",
          "Weights": -0.03563104347189777
         },
         {
          "Category": "non pecuniary",
          "Features": "judgment@Before",
          "Weights": -0.07968684895866476
         },
         {
          "Category": "non pecuniary",
          "Features": "value=$62,500",
          "Weights": -0.035962588841963725
         },
         {
          "Category": "non pecuniary",
          "Features": "judgment",
          "Weights": -0.10401459310415866
         },
         {
          "Category": "other",
          "Features": "aggravated",
          "Weights": -0.040901669468063
         },
         {
          "Category": "other",
          "Features": "aggravated@After",
          "Weights": -0.0048666855798986195
         },
         {
          "Category": "other",
          "Features": "next word=aggravated",
          "Weights": -0.2456983160041429
         },
         {
          "Category": "other",
          "Features": "aggravated@Before",
          "Weights": -0.03603498388816437
         },
         {
          "Category": "other",
          "Features": "value=$2,500",
          "Weights": -0.04716009988140181
         },
         {
          "Category": "other",
          "Features": "future",
          "Weights": -0.29644844736565423
         },
         {
          "Category": "other",
          "Features": "next word=cost",
          "Weights": -0.6342535282772284
         },
         {
          "Category": "other",
          "Features": "care,@After",
          "Weights": -0.05437002043303101
         },
         {
          "Category": "other",
          "Features": "special@After",
          "Weights": -0.4121894692605706
         },
         {
          "Category": "other",
          "Features": "care.@After",
          "Weights": 0.17879329826124876
         },
         {
          "Category": "other",
          "Features": "value=$20,000",
          "Weights": -0.3248406017924429
         },
         {
          "Category": "other",
          "Features": "future",
          "Weights": -0.29644844736565423
         },
         {
          "Category": "other",
          "Features": "capacity,@After",
          "Weights": -0.19081520770907326
         },
         {
          "Category": "other",
          "Features": "next word=loss",
          "Weights": -0.4087382737201779
         },
         {
          "Category": "other",
          "Features": "loss,",
          "Weights": -0.2675431630821577
         },
         {
          "Category": "other",
          "Features": "general",
          "Weights": -0.14659402265804533
         },
         {
          "Category": "other",
          "Features": "general@Before",
          "Weights": 0.0663885921053544
         },
         {
          "Category": "other",
          "Features": "value=$50,000",
          "Weights": 0.265433400749702
         },
         {
          "Category": "other",
          "Features": "value=$7,500",
          "Weights": -0.6004200711002876
         },
         {
          "Category": "other",
          "Features": "past@After",
          "Weights": -0.2943264483280386
         },
         {
          "Category": "other",
          "Features": "in-trust",
          "Weights": -0.889525391962262
         },
         {
          "Category": "other",
          "Features": "trust",
          "Weights": -0.9645929902795639
         },
         {
          "Category": "other",
          "Features": "in-trust@Before",
          "Weights": -0.37665858348825826
         },
         {
          "Category": "other",
          "Features": "trust@After",
          "Weights": -0.7916098129513127
         },
         {
          "Category": "other",
          "Features": "next word=trust",
          "Weights": -0.19336221847603757
         },
         {
          "Category": "other",
          "Features": "non-pecuniary",
          "Weights": 0.5557346516061333
         },
         {
          "Category": "other",
          "Features": "next word=non-pecuniary",
          "Weights": 0.3369582788034646
         },
         {
          "Category": "other",
          "Features": "non-pecuniary@Before",
          "Weights": 0.5838935750262776
         },
         {
          "Category": "other",
          "Features": "enjoyment",
          "Weights": -0.2002378885003961
         },
         {
          "Category": "other",
          "Features": "suffering",
          "Weights": -0.40137787437053324
         },
         {
          "Category": "other",
          "Features": "range",
          "Weights": 1.3580453856019277
         },
         {
          "Category": "other",
          "Features": "range@Before",
          "Weights": 1.350456172853603
         },
         {
          "Category": "other",
          "Features": "seeks",
          "Weights": 1.1614654537949618
         },
         {
          "Category": "other",
          "Features": "seeks@Before",
          "Weights": 1.0887816019987182
         },
         {
          "Category": "other",
          "Features": "next word=per",
          "Weights": 1.0119429610253892
         },
         {
          "Category": "other",
          "Features": "next word=past",
          "Weights": -0.03573913550824674
         },
         {
          "Category": "other",
          "Features": "past",
          "Weights": -0.16750613946510565
         },
         {
          "Category": "other",
          "Features": "past@Before",
          "Weights": 0.126820308862933
         },
         {
          "Category": "other",
          "Features": "income",
          "Weights": 0.12627857426439937
         },
         {
          "Category": "other",
          "Features": "wage",
          "Weights": -0.01734306089337372
         },
         {
          "Category": "other",
          "Features": "punitive",
          "Weights": -0.450889508335899
         },
         {
          "Category": "other",
          "Features": "punitive@Before",
          "Weights": -0.09071135928829414
         },
         {
          "Category": "other",
          "Features": "next word=punitive",
          "Weights": 0.0644534087049502
         },
         {
          "Category": "other",
          "Features": "value=$10,000",
          "Weights": -0.15814941197220195
         },
         {
          "Category": "other",
          "Features": "punitive@After",
          "Weights": -0.360178149047605
         },
         {
          "Category": "other",
          "Features": "prev word=reduced",
          "Weights": -0.27708389283431795
         },
         {
          "Category": "other",
          "Features": "value=$10,000",
          "Weights": -0.15814941197220195
         },
         {
          "Category": "other",
          "Features": "reduced@Before",
          "Weights": -0.05510125555167508
         },
         {
          "Category": "other",
          "Features": "reduced",
          "Weights": -0.2091144241693301
         },
         {
          "Category": "other",
          "Features": "failure@After",
          "Weights": -0.30403910816417745
         },
         {
          "Category": "other",
          "Features": "prev word=reduced",
          "Weights": -0.27708389283431795
         },
         {
          "Category": "other",
          "Features": "reduced@Before",
          "Weights": -0.05510125555167508
         },
         {
          "Category": "other",
          "Features": "20%@Before",
          "Weights": -0.3985445345790668
         },
         {
          "Category": "other",
          "Features": "=@Before",
          "Weights": 0.42153431243772693
         },
         {
          "Category": "other",
          "Features": "discounted@Before",
          "Weights": -0.1293898370088805
         },
         {
          "Category": "other",
          "Features": "special",
          "Weights": -0.1699473957120093
         },
         {
          "Category": "other",
          "Features": "special@Before",
          "Weights": 0.24224207354856112
         },
         {
          "Category": "other",
          "Features": "next word=special",
          "Weights": 0.04543933907874382
         },
         {
          "Category": "other",
          "Features": "prev word=damages",
          "Weights": -0.4389069732013464
         },
         {
          "Category": "other",
          "Features": "value=$500",
          "Weights": 0.06668268491857361
         },
         {
          "Category": "other",
          "Features": "start_idx_ratio",
          "Weights": -0.00545683189528168
         },
         {
          "Category": "other",
          "Features": "physiotherapy",
          "Weights": -0.34561084003078263
         },
         {
          "Category": "other",
          "Features": "therapy",
          "Weights": -0.05512366459474352
         },
         {
          "Category": "other",
          "Features": "occupational",
          "Weights": 0.0047282007731065025
         },
         {
          "Category": "other",
          "Features": "care@Before",
          "Weights": -0.2563792831535471
         },
         {
          "Category": "other",
          "Features": "value=$160,000",
          "Weights": -0.0158163079192281
         },
         {
          "Category": "other",
          "Features": "earning",
          "Weights": -0.20094099734292004
         },
         {
          "Category": "other",
          "Features": "lost",
          "Weights": -0.7892494265504261
         },
         {
          "Category": "other",
          "Features": "accident",
          "Weights": -0.5681468873467458
         },
         {
          "Category": "other",
          "Features": "future",
          "Weights": -0.29644844736565423
         },
         {
          "Category": "other",
          "Features": "general",
          "Weights": -0.14659402265804533
         },
         {
          "Category": "other",
          "Features": "general@Before",
          "Weights": 0.0663885921053544
         },
         {
          "Category": "other",
          "Features": "damages",
          "Weights": -0.74204833421659
         },
         {
          "Category": "other",
          "Features": "12,",
          "Weights": -0.31160385679986
         },
         {
          "Category": "other",
          "Features": "july",
          "Weights": -0.16039868506698796
         },
         {
          "Category": "other",
          "Features": "value=$250,000",
          "Weights": -0.3300406544337102
         },
         {
          "Category": "other",
          "Features": "trust@After",
          "Weights": -0.7916098129513127
         },
         {
          "Category": "other",
          "Features": "trust",
          "Weights": -0.9645929902795639
         },
         {
          "Category": "other",
          "Features": "claim",
          "Weights": -0.2322099158414924
         },
         {
          "Category": "other",
          "Features": "sarah@After",
          "Weights": -0.35606689357034016
         },
         {
          "Category": "other",
          "Features": "accident",
          "Weights": -0.5681468873467458
         },
         {
          "Category": "other",
          "Features": "value=$75,000",
          "Weights": -0.3696643674656032
         },
         {
          "Category": "other",
          "Features": "first",
          "Weights": 0.10681047484005766
         },
         {
          "Category": "other",
          "Features": "non-pecuniary",
          "Weights": 0.5557346516061333
         },
         {
          "Category": "other",
          "Features": "damages",
          "Weights": -0.74204833421659
         },
         {
          "Category": "other",
          "Features": "loss",
          "Weights": -0.3155070492257706
         },
         {
          "Category": "other",
          "Features": "lost",
          "Weights": -0.7892494265504261
         },
         {
          "Category": "other",
          "Features": "income@Before",
          "Weights": 0.23428086756685979
         },
         {
          "Category": "other",
          "Features": "income",
          "Weights": 0.12627857426439937
         },
         {
          "Category": "other",
          "Features": "lost@Before",
          "Weights": -0.32704285537837874
         },
         {
          "Category": "other",
          "Features": "basis;@After",
          "Weights": -0.2701898176706961
         },
         {
          "Category": "other",
          "Features": "value=$73,750",
          "Weights": -0.2701898176706961
         },
         {
          "Category": "other",
          "Features": "basis;",
          "Weights": -0.2701898176706961
         },
         {
          "Category": "other",
          "Features": "$295,000@Before",
          "Weights": -0.2701898176706961
         },
         {
          "Category": "other",
          "Features": "$295,000",
          "Weights": -0.28863194024920613
         },
         {
          "Category": "other",
          "Features": "housekeeping",
          "Weights": 0.07080494539438802
         },
         {
          "Category": "other",
          "Features": "special",
          "Weights": -0.1699473957120093
         },
         {
          "Category": "other",
          "Features": "capacity,",
          "Weights": -0.07829389096384562
         },
         {
          "Category": "other",
          "Features": "housekeeping@Before",
          "Weights": 0.27047334354042196
         },
         {
          "Category": "other",
          "Features": "physiotherapy",
          "Weights": -0.34561084003078263
         },
         {
          "Category": "other",
          "Features": "claim",
          "Weights": -0.2322099158414924
         },
         {
          "Category": "other",
          "Features": "judgment",
          "Weights": -0.6176229088095204
         },
         {
          "Category": "other",
          "Features": "home;",
          "Weights": -0.31519177782028973
         },
         {
          "Category": "other",
          "Features": "negotiate",
          "Weights": -0.3272278277914373
         },
         {
          "Category": "other",
          "Features": "claim@After",
          "Weights": -0.016828303919237536
         },
         {
          "Category": "other",
          "Features": "total@Before",
          "Weights": -0.16255845541971214
         },
         {
          "Category": "other",
          "Features": "prev word=total:",
          "Weights": -0.5983566858338618
         },
         {
          "Category": "other",
          "Features": "total:@Before",
          "Weights": -0.5983566858338618
         },
         {
          "Category": "other",
          "Features": "allowed",
          "Weights": -0.47558625837485624
         },
         {
          "Category": "other",
          "Features": "total:",
          "Weights": -1.0315921457430293
         },
         {
          "Category": "other",
          "Features": "value=$76,653",
          "Weights": -0.25949440018006237
         },
         {
          "Category": "other",
          "Features": "value=$65,920",
          "Weights": -0.2781552153002776
         },
         {
          "Category": "other",
          "Features": "judgment@Before",
          "Weights": -0.7421477720706777
         },
         {
          "Category": "other",
          "Features": "value=$62,500",
          "Weights": -0.009722137161473507
         },
         {
          "Category": "other",
          "Features": "judgment",
          "Weights": -0.6176229088095204
         },
         {
          "Category": "past wage loss",
          "Features": "aggravated",
          "Weights": -0.13592594159692709
         },
         {
          "Category": "past wage loss",
          "Features": "aggravated@After",
          "Weights": -0.07397206896543522
         },
         {
          "Category": "past wage loss",
          "Features": "next word=aggravated",
          "Weights": -0.03357879809496434
         },
         {
          "Category": "past wage loss",
          "Features": "aggravated@Before",
          "Weights": -0.06195387263149185
         },
         {
          "Category": "past wage loss",
          "Features": "value=$2,500",
          "Weights": -0.09565535605693362
         },
         {
          "Category": "past wage loss",
          "Features": "future",
          "Weights": -0.14639634388017622
         },
         {
          "Category": "past wage loss",
          "Features": "next word=cost",
          "Weights": -0.0973662068344642
         },
         {
          "Category": "past wage loss",
          "Features": "care,@After",
          "Weights": -0.09481178778825819
         },
         {
          "Category": "past wage loss",
          "Features": "special@After",
          "Weights": -0.03399023006754916
         },
         {
          "Category": "past wage loss",
          "Features": "care.@After",
          "Weights": -0.07551893418481517
         },
         {
          "Category": "past wage loss",
          "Features": "value=$20,000",
          "Weights": -0.122617183211862
         },
         {
          "Category": "past wage loss",
          "Features": "future",
          "Weights": -0.14639634388017622
         },
         {
          "Category": "past wage loss",
          "Features": "capacity,@After",
          "Weights": -0.34779150847913043
         },
         {
          "Category": "past wage loss",
          "Features": "next word=loss",
          "Weights": -0.1758138467037908
         },
         {
          "Category": "past wage loss",
          "Features": "loss,",
          "Weights": 0.20763398808811737
         },
         {
          "Category": "past wage loss",
          "Features": "general",
          "Weights": -0.1261977271835105
         },
         {
          "Category": "past wage loss",
          "Features": "general@Before",
          "Weights": 0.06329762730817987
         },
         {
          "Category": "past wage loss",
          "Features": "value=$50,000",
          "Weights": -0.40208653029950614
         },
         {
          "Category": "past wage loss",
          "Features": "value=$7,500",
          "Weights": -0.05445960013474025
         },
         {
          "Category": "past wage loss",
          "Features": "past@After",
          "Weights": 0.20048799884767404
         },
         {
          "Category": "past wage loss",
          "Features": "in-trust",
          "Weights": -0.1918409751799984
         },
         {
          "Category": "past wage loss",
          "Features": "trust",
          "Weights": -0.01307654022928677
         },
         {
          "Category": "past wage loss",
          "Features": "in-trust@Before",
          "Weights": -0.049360163139095324
         },
         {
          "Category": "past wage loss",
          "Features": "trust@After",
          "Weights": 0.011014162787219827
         },
         {
          "Category": "past wage loss",
          "Features": "next word=trust",
          "Weights": -0.04272845521519014
         },
         {
          "Category": "past wage loss",
          "Features": "non-pecuniary",
          "Weights": 0.21539804215961528
         },
         {
          "Category": "past wage loss",
          "Features": "next word=non-pecuniary",
          "Weights": -0.2317195857061786
         },
         {
          "Category": "past wage loss",
          "Features": "non-pecuniary@Before",
          "Weights": 0.44450279687346733
         },
         {
          "Category": "past wage loss",
          "Features": "enjoyment",
          "Weights": -0.042885308908443116
         },
         {
          "Category": "past wage loss",
          "Features": "suffering",
          "Weights": -0.027321821331597024
         },
         {
          "Category": "past wage loss",
          "Features": "range",
          "Weights": -0.09045154049959854
         },
         {
          "Category": "past wage loss",
          "Features": "range@Before",
          "Weights": -0.08469106249890165
         },
         {
          "Category": "past wage loss",
          "Features": "seeks",
          "Weights": -0.2645751557618191
         },
         {
          "Category": "past wage loss",
          "Features": "seeks@Before",
          "Weights": -0.26238711013242505
         },
         {
          "Category": "past wage loss",
          "Features": "next word=per",
          "Weights": -0.09045237237967983
         },
         {
          "Category": "past wage loss",
          "Features": "next word=past",
          "Weights": 1.3379199219014188
         },
         {
          "Category": "past wage loss",
          "Features": "past",
          "Weights": 1.0781799403218209
         },
         {
          "Category": "past wage loss",
          "Features": "past@Before",
          "Weights": 0.877691941474148
         },
         {
          "Category": "past wage loss",
          "Features": "income",
          "Weights": 0.8760858317459406
         },
         {
          "Category": "past wage loss",
          "Features": "wage",
          "Weights": 0.8339250465788544
         },
         {
          "Category": "past wage loss",
          "Features": "punitive",
          "Weights": -0.26893531479098304
         },
         {
          "Category": "past wage loss",
          "Features": "punitive@Before",
          "Weights": -0.07184417997083122
         },
         {
          "Category": "past wage loss",
          "Features": "next word=punitive",
          "Weights": -0.1210404735689756
         },
         {
          "Category": "past wage loss",
          "Features": "value=$10,000",
          "Weights": -0.25106645510081055
         },
         {
          "Category": "past wage loss",
          "Features": "punitive@After",
          "Weights": -0.19709113482015206
         },
         {
          "Category": "past wage loss",
          "Features": "prev word=reduced",
          "Weights": -0.10590656525772596
         },
         {
          "Category": "past wage loss",
          "Features": "value=$10,000",
          "Weights": -0.25106645510081055
         },
         {
          "Category": "past wage loss",
          "Features": "reduced@Before",
          "Weights": -0.06238591067097976
         },
         {
          "Category": "past wage loss",
          "Features": "reduced",
          "Weights": -0.20696546095688256
         },
         {
          "Category": "past wage loss",
          "Features": "failure@After",
          "Weights": -0.11646902714515955
         },
         {
          "Category": "past wage loss",
          "Features": "prev word=reduced",
          "Weights": -0.10590656525772596
         },
         {
          "Category": "past wage loss",
          "Features": "reduced@Before",
          "Weights": -0.06238591067097976
         },
         {
          "Category": "past wage loss",
          "Features": "20%@Before",
          "Weights": -0.04273756018227196
         },
         {
          "Category": "past wage loss",
          "Features": "=@Before",
          "Weights": -0.20519027906643164
         },
         {
          "Category": "past wage loss",
          "Features": "discounted@Before",
          "Weights": -0.03331174335018903
         },
         {
          "Category": "past wage loss",
          "Features": "special",
          "Weights": -0.22324614528806985
         },
         {
          "Category": "past wage loss",
          "Features": "special@Before",
          "Weights": -0.1892559152205207
         },
         {
          "Category": "past wage loss",
          "Features": "next word=special",
          "Weights": 0.04002373786724956
         },
         {
          "Category": "past wage loss",
          "Features": "prev word=damages",
          "Weights": -0.5450843577684521
         },
         {
          "Category": "past wage loss",
          "Features": "value=$500",
          "Weights": -0.052853563974174934
         },
         {
          "Category": "past wage loss",
          "Features": "start_idx_ratio",
          "Weights": 0.03572372756541554
         },
         {
          "Category": "past wage loss",
          "Features": "physiotherapy",
          "Weights": -0.0696922559806061
         },
         {
          "Category": "past wage loss",
          "Features": "therapy",
          "Weights": -0.04190245518034301
         },
         {
          "Category": "past wage loss",
          "Features": "occupational",
          "Weights": -0.02960568036206926
         },
         {
          "Category": "past wage loss",
          "Features": "care@Before",
          "Weights": -0.16115886493297757
         },
         {
          "Category": "past wage loss",
          "Features": "value=$160,000",
          "Weights": 0.16076181989822214
         },
         {
          "Category": "past wage loss",
          "Features": "earning",
          "Weights": 0.7705668850218881
         },
         {
          "Category": "past wage loss",
          "Features": "lost",
          "Weights": 0.43631527331533565
         },
         {
          "Category": "past wage loss",
          "Features": "accident",
          "Weights": 0.3937343849891699
         },
         {
          "Category": "past wage loss",
          "Features": "future",
          "Weights": -0.14639634388017622
         },
         {
          "Category": "past wage loss",
          "Features": "general",
          "Weights": -0.1261977271835105
         },
         {
          "Category": "past wage loss",
          "Features": "general@Before",
          "Weights": 0.06329762730817987
         },
         {
          "Category": "past wage loss",
          "Features": "damages",
          "Weights": -0.10618192945364195
         },
         {
          "Category": "past wage loss",
          "Features": "12,",
          "Weights": -0.00818503618951454
         },
         {
          "Category": "past wage loss",
          "Features": "july",
          "Weights": -0.026706766337841106
         },
         {
          "Category": "past wage loss",
          "Features": "value=$250,000",
          "Weights": 0.21409786192148406
         },
         {
          "Category": "past wage loss",
          "Features": "trust@After",
          "Weights": 0.011014162787219827
         },
         {
          "Category": "past wage loss",
          "Features": "trust",
          "Weights": -0.01307654022928677
         },
         {
          "Category": "past wage loss",
          "Features": "claim",
          "Weights": -0.2270745492686825
         },
         {
          "Category": "past wage loss",
          "Features": "sarah@After",
          "Weights": -0.013255477208932186
         },
         {
          "Category": "past wage loss",
          "Features": "accident",
          "Weights": 0.3937343849891699
         },
         {
          "Category": "past wage loss",
          "Features": "value=$75,000",
          "Weights": -0.09250890817483112
         },
         {
          "Category": "past wage loss",
          "Features": "first",
          "Weights": 0.3386144667360191
         },
         {
          "Category": "past wage loss",
          "Features": "non-pecuniary",
          "Weights": 0.21539804215961528
         },
         {
          "Category": "past wage loss",
          "Features": "damages",
          "Weights": -0.10618192945364195
         },
         {
          "Category": "past wage loss",
          "Features": "loss",
          "Weights": 0.6018063067908603
         },
         {
          "Category": "past wage loss",
          "Features": "lost",
          "Weights": 0.43631527331533565
         },
         {
          "Category": "past wage loss",
          "Features": "income@Before",
          "Weights": 0.7192702583490515
         },
         {
          "Category": "past wage loss",
          "Features": "income",
          "Weights": 0.8760858317459406
         },
         {
          "Category": "past wage loss",
          "Features": "lost@Before",
          "Weights": -0.18022340105138093
         },
         {
          "Category": "past wage loss",
          "Features": "basis;@After",
          "Weights": -0.0053470431501760835
         },
         {
          "Category": "past wage loss",
          "Features": "value=$73,750",
          "Weights": -0.0053470431501760835
         },
         {
          "Category": "past wage loss",
          "Features": "basis;",
          "Weights": -0.0053470431501760835
         },
         {
          "Category": "past wage loss",
          "Features": "$295,000@Before",
          "Weights": -0.0053470431501760835
         },
         {
          "Category": "past wage loss",
          "Features": "$295,000",
          "Weights": -0.005979236442973127
         },
         {
          "Category": "past wage loss",
          "Features": "housekeeping",
          "Weights": -0.4434655955157971
         },
         {
          "Category": "past wage loss",
          "Features": "special",
          "Weights": -0.22324614528806985
         },
         {
          "Category": "past wage loss",
          "Features": "capacity,",
          "Weights": -0.6980909905216688
         },
         {
          "Category": "past wage loss",
          "Features": "housekeeping@Before",
          "Weights": -0.34279566452727656
         },
         {
          "Category": "past wage loss",
          "Features": "physiotherapy",
          "Weights": -0.0696922559806061
         },
         {
          "Category": "past wage loss",
          "Features": "claim",
          "Weights": -0.2270745492686825
         },
         {
          "Category": "past wage loss",
          "Features": "judgment",
          "Weights": -0.10281367099749866
         },
         {
          "Category": "past wage loss",
          "Features": "home;",
          "Weights": -0.013327136085886803
         },
         {
          "Category": "past wage loss",
          "Features": "negotiate",
          "Weights": -0.04621966660410072
         },
         {
          "Category": "past wage loss",
          "Features": "claim@After",
          "Weights": -0.15906341326990117
         },
         {
          "Category": "past wage loss",
          "Features": "total@Before",
          "Weights": 0.3956591303688355
         },
         {
          "Category": "past wage loss",
          "Features": "prev word=total:",
          "Weights": -0.03273933029154528
         },
         {
          "Category": "past wage loss",
          "Features": "total:@Before",
          "Weights": -0.03273933029154528
         },
         {
          "Category": "past wage loss",
          "Features": "allowed",
          "Weights": -0.05886428160459131
         },
         {
          "Category": "past wage loss",
          "Features": "total:",
          "Weights": -0.09446566468626594
         },
         {
          "Category": "past wage loss",
          "Features": "value=$76,653",
          "Weights": -0.014246975526963291
         },
         {
          "Category": "past wage loss",
          "Features": "value=$65,920",
          "Weights": -0.011451336086778719
         },
         {
          "Category": "past wage loss",
          "Features": "judgment@Before",
          "Weights": -0.07705201544339303
         },
         {
          "Category": "past wage loss",
          "Features": "value=$62,500",
          "Weights": -0.028390782660710066
         },
         {
          "Category": "past wage loss",
          "Features": "judgment",
          "Weights": -0.10281367099749866
         },
         {
          "Category": "punitive",
          "Features": "aggravated",
          "Weights": -0.004639823016997328
         },
         {
          "Category": "punitive",
          "Features": "aggravated@After",
          "Weights": -0.10612081657275554
         },
         {
          "Category": "punitive",
          "Features": "next word=aggravated",
          "Weights": -0.0761147727081211
         },
         {
          "Category": "punitive",
          "Features": "aggravated@Before",
          "Weights": 0.10148099355575836
         },
         {
          "Category": "punitive",
          "Features": "value=$2,500",
          "Weights": -0.1440621703518576
         },
         {
          "Category": "punitive",
          "Features": "future",
          "Weights": -0.2094808130185195
         },
         {
          "Category": "punitive",
          "Features": "next word=cost",
          "Weights": -0.10625778435426932
         },
         {
          "Category": "punitive",
          "Features": "care,@After",
          "Weights": -0.053051744125805995
         },
         {
          "Category": "punitive",
          "Features": "special@After",
          "Weights": -0.14255273920584718
         },
         {
          "Category": "punitive",
          "Features": "care.@After",
          "Weights": -0.02393464483168742
         },
         {
          "Category": "punitive",
          "Features": "value=$20,000",
          "Weights": 0.13275422006123927
         },
         {
          "Category": "punitive",
          "Features": "future",
          "Weights": -0.2094808130185195
         },
         {
          "Category": "punitive",
          "Features": "capacity,@After",
          "Weights": -0.018596997176495808
         },
         {
          "Category": "punitive",
          "Features": "next word=loss",
          "Weights": -0.10715522571736616
         },
         {
          "Category": "punitive",
          "Features": "loss,",
          "Weights": -0.025692552385602203
         },
         {
          "Category": "punitive",
          "Features": "general",
          "Weights": 0.008201569447804216
         },
         {
          "Category": "punitive",
          "Features": "general@Before",
          "Weights": -0.024498444847329517
         },
         {
          "Category": "punitive",
          "Features": "value=$50,000",
          "Weights": -0.19581118316755836
         },
         {
          "Category": "punitive",
          "Features": "value=$7,500",
          "Weights": -0.07224541478076496
         },
         {
          "Category": "punitive",
          "Features": "past@After",
          "Weights": -0.11249620494591506
         },
         {
          "Category": "punitive",
          "Features": "in-trust",
          "Weights": -0.03757499962563389
         },
         {
          "Category": "punitive",
          "Features": "trust",
          "Weights": 0.05525919719142187
         },
         {
          "Category": "punitive",
          "Features": "in-trust@Before",
          "Weights": -0.026145805196043415
         },
         {
          "Category": "punitive",
          "Features": "trust@After",
          "Weights": 0.06557387184525384
         },
         {
          "Category": "punitive",
          "Features": "next word=trust",
          "Weights": -0.015425738034344709
         },
         {
          "Category": "punitive",
          "Features": "non-pecuniary",
          "Weights": -0.31030381830885617
         },
         {
          "Category": "punitive",
          "Features": "next word=non-pecuniary",
          "Weights": -0.06917038537619725
         },
         {
          "Category": "punitive",
          "Features": "non-pecuniary@Before",
          "Weights": -0.20495078929156388
         },
         {
          "Category": "punitive",
          "Features": "enjoyment",
          "Weights": -0.020451272291262198
         },
         {
          "Category": "punitive",
          "Features": "suffering",
          "Weights": -0.02078834408495038
         },
         {
          "Category": "punitive",
          "Features": "range",
          "Weights": -0.029264459454486413
         },
         {
          "Category": "punitive",
          "Features": "range@Before",
          "Weights": -0.028220603948902225
         },
         {
          "Category": "punitive",
          "Features": "seeks",
          "Weights": -0.01997722810526792
         },
         {
          "Category": "punitive",
          "Features": "seeks@Before",
          "Weights": -0.01848094769417795
         },
         {
          "Category": "punitive",
          "Features": "next word=per",
          "Weights": -0.04101719386593329
         },
         {
          "Category": "punitive",
          "Features": "next word=past",
          "Weights": -0.054267188099503504
         },
         {
          "Category": "punitive",
          "Features": "past",
          "Weights": -0.0008276278427356953
         },
         {
          "Category": "punitive",
          "Features": "past@Before",
          "Weights": 0.11166857710317944
         },
         {
          "Category": "punitive",
          "Features": "income",
          "Weights": -0.007659849162661931
         },
         {
          "Category": "punitive",
          "Features": "wage",
          "Weights": -0.04955371108106717
         },
         {
          "Category": "punitive",
          "Features": "punitive",
          "Weights": 2.1622099123531218
         },
         {
          "Category": "punitive",
          "Features": "punitive@Before",
          "Weights": 1.5096785456893247
         },
         {
          "Category": "punitive",
          "Features": "next word=punitive",
          "Weights": 1.0621633711261491
         },
         {
          "Category": "punitive",
          "Features": "value=$10,000",
          "Weights": 0.6547017477017145
         },
         {
          "Category": "punitive",
          "Features": "punitive@After",
          "Weights": 0.6525313666637954
         },
         {
          "Category": "punitive",
          "Features": "prev word=reduced",
          "Weights": -0.049349653324693224
         },
         {
          "Category": "punitive",
          "Features": "value=$10,000",
          "Weights": 0.6547017477017145
         },
         {
          "Category": "punitive",
          "Features": "reduced@Before",
          "Weights": -0.08077581314641559
         },
         {
          "Category": "punitive",
          "Features": "reduced",
          "Weights": -0.12562619847914777
         },
         {
          "Category": "punitive",
          "Features": "failure@After",
          "Weights": 0.07826503719452538
         },
         {
          "Category": "punitive",
          "Features": "prev word=reduced",
          "Weights": -0.049349653324693224
         },
         {
          "Category": "punitive",
          "Features": "reduced@Before",
          "Weights": -0.08077581314641559
         },
         {
          "Category": "punitive",
          "Features": "20%@Before",
          "Weights": -0.0008627944388622603
         },
         {
          "Category": "punitive",
          "Features": "=@Before",
          "Weights": -0.009171302889454084
         },
         {
          "Category": "punitive",
          "Features": "discounted@Before",
          "Weights": -0.01908497525982398
         },
         {
          "Category": "punitive",
          "Features": "special",
          "Weights": -0.399612876859187
         },
         {
          "Category": "punitive",
          "Features": "special@Before",
          "Weights": -0.2570601376533395
         },
         {
          "Category": "punitive",
          "Features": "next word=special",
          "Weights": -0.10843304226156687
         },
         {
          "Category": "punitive",
          "Features": "prev word=damages",
          "Weights": 0.3204077729935676
         },
         {
          "Category": "punitive",
          "Features": "value=$500",
          "Weights": -0.031146629102987964
         },
         {
          "Category": "punitive",
          "Features": "start_idx_ratio",
          "Weights": -0.4096573066202191
         },
         {
          "Category": "punitive",
          "Features": "physiotherapy",
          "Weights": -0.04031512554970068
         },
         {
          "Category": "punitive",
          "Features": "therapy",
          "Weights": -0.02632599377029003
         },
         {
          "Category": "punitive",
          "Features": "occupational",
          "Weights": -0.018038459603940838
         },
         {
          "Category": "punitive",
          "Features": "care@Before",
          "Weights": -0.12835645490571582
         },
         {
          "Category": "punitive",
          "Features": "value=$160,000",
          "Weights": -0.0014785635975401617
         },
         {
          "Category": "punitive",
          "Features": "earning",
          "Weights": -0.1262876039101401
         },
         {
          "Category": "punitive",
          "Features": "lost",
          "Weights": -0.12468171605295167
         },
         {
          "Category": "punitive",
          "Features": "accident",
          "Weights": -0.1173078461696244
         },
         {
          "Category": "punitive",
          "Features": "future",
          "Weights": -0.2094808130185195
         },
         {
          "Category": "punitive",
          "Features": "general",
          "Weights": 0.008201569447804216
         },
         {
          "Category": "punitive",
          "Features": "general@Before",
          "Weights": -0.024498444847329517
         },
         {
          "Category": "punitive",
          "Features": "damages",
          "Weights": 0.6015921386496247
         },
         {
          "Category": "punitive",
          "Features": "12,",
          "Weights": -0.00266978878353199
         },
         {
          "Category": "punitive",
          "Features": "july",
          "Weights": -0.00877157718414967
         },
         {
          "Category": "punitive",
          "Features": "value=$250,000",
          "Weights": -0.004483607637065066
         },
         {
          "Category": "punitive",
          "Features": "trust@After",
          "Weights": 0.06557387184525384
         },
         {
          "Category": "punitive",
          "Features": "trust",
          "Weights": 0.05525919719142187
         },
         {
          "Category": "punitive",
          "Features": "claim",
          "Weights": -0.10956491964765916
         },
         {
          "Category": "punitive",
          "Features": "sarah@After",
          "Weights": -0.005170799111254491
         },
         {
          "Category": "punitive",
          "Features": "accident",
          "Weights": -0.1173078461696244
         },
         {
          "Category": "punitive",
          "Features": "value=$75,000",
          "Weights": -0.028698593838337363
         },
         {
          "Category": "punitive",
          "Features": "first",
          "Weights": -0.052960031336787484
         },
         {
          "Category": "punitive",
          "Features": "non-pecuniary",
          "Weights": -0.31030381830885617
         },
         {
          "Category": "punitive",
          "Features": "damages",
          "Weights": 0.6015921386496247
         },
         {
          "Category": "punitive",
          "Features": "loss",
          "Weights": -0.06031554175143318
         },
         {
          "Category": "punitive",
          "Features": "lost",
          "Weights": -0.12468171605295167
         },
         {
          "Category": "punitive",
          "Features": "income@Before",
          "Weights": 0.07958428755166004
         },
         {
          "Category": "punitive",
          "Features": "income",
          "Weights": -0.007659849162661931
         },
         {
          "Category": "punitive",
          "Features": "lost@Before",
          "Weights": -0.0322183304333531
         },
         {
          "Category": "punitive",
          "Features": "basis;@After",
          "Weights": -0.0008923631194231382
         },
         {
          "Category": "punitive",
          "Features": "value=$73,750",
          "Weights": -0.0008923631194231382
         },
         {
          "Category": "punitive",
          "Features": "basis;",
          "Weights": -0.0008923631194231382
         },
         {
          "Category": "punitive",
          "Features": "$295,000@Before",
          "Weights": -0.0008923631194231382
         },
         {
          "Category": "punitive",
          "Features": "$295,000",
          "Weights": -0.0011397128498560904
         },
         {
          "Category": "punitive",
          "Features": "housekeeping",
          "Weights": -0.04759841285185979
         },
         {
          "Category": "punitive",
          "Features": "special",
          "Weights": -0.399612876859187
         },
         {
          "Category": "punitive",
          "Features": "capacity,",
          "Weights": -0.04930217181030842
         },
         {
          "Category": "punitive",
          "Features": "housekeeping@Before",
          "Weights": -0.019601738559108794
         },
         {
          "Category": "punitive",
          "Features": "physiotherapy",
          "Weights": -0.04031512554970068
         },
         {
          "Category": "punitive",
          "Features": "claim",
          "Weights": -0.10956491964765916
         },
         {
          "Category": "punitive",
          "Features": "judgment",
          "Weights": -0.03234263613458399
         },
         {
          "Category": "punitive",
          "Features": "home;",
          "Weights": -0.0037730523073928085
         },
         {
          "Category": "punitive",
          "Features": "negotiate",
          "Weights": -0.01419284302564558
         },
         {
          "Category": "punitive",
          "Features": "claim@After",
          "Weights": -0.05070872076408927
         },
         {
          "Category": "punitive",
          "Features": "total@Before",
          "Weights": -0.1041033214998041
         },
         {
          "Category": "punitive",
          "Features": "prev word=total:",
          "Weights": -0.008964184901340084
         },
         {
          "Category": "punitive",
          "Features": "total:@Before",
          "Weights": -0.008964184901340084
         },
         {
          "Category": "punitive",
          "Features": "allowed",
          "Weights": -0.04255407812440581
         },
         {
          "Category": "punitive",
          "Features": "total:",
          "Weights": -0.036056994063659004
         },
         {
          "Category": "punitive",
          "Features": "value=$76,653",
          "Weights": -0.01486185383402922
         },
         {
          "Category": "punitive",
          "Features": "value=$65,920",
          "Weights": -0.017933643535122844
         },
         {
          "Category": "punitive",
          "Features": "judgment@Before",
          "Weights": -0.022083631907021988
         },
         {
          "Category": "punitive",
          "Features": "value=$62,500",
          "Weights": -0.007686962101629368
         },
         {
          "Category": "punitive",
          "Features": "judgment",
          "Weights": -0.03234263613458399
         },
         {
          "Category": "reduction by",
          "Features": "aggravated",
          "Weights": -0.04070170768753972
         },
         {
          "Category": "reduction by",
          "Features": "aggravated@After",
          "Weights": -0.017055401729033467
         },
         {
          "Category": "reduction by",
          "Features": "next word=aggravated",
          "Weights": -0.013183604012867481
         },
         {
          "Category": "reduction by",
          "Features": "aggravated@Before",
          "Weights": -0.023646305958506284
         },
         {
          "Category": "reduction by",
          "Features": "value=$2,500",
          "Weights": -0.03549239522444113
         },
         {
          "Category": "reduction by",
          "Features": "future",
          "Weights": -0.20219142410050145
         },
         {
          "Category": "reduction by",
          "Features": "next word=cost",
          "Weights": -0.05304619659656777
         },
         {
          "Category": "reduction by",
          "Features": "care,@After",
          "Weights": -0.01523690004149168
         },
         {
          "Category": "reduction by",
          "Features": "special@After",
          "Weights": 0.03174471007826846
         },
         {
          "Category": "reduction by",
          "Features": "care.@After",
          "Weights": -0.015614897921547017
         },
         {
          "Category": "reduction by",
          "Features": "value=$20,000",
          "Weights": -0.07234997374679948
         },
         {
          "Category": "reduction by",
          "Features": "future",
          "Weights": -0.20219142410050145
         },
         {
          "Category": "reduction by",
          "Features": "capacity,@After",
          "Weights": -0.012079208782177685
         },
         {
          "Category": "reduction by",
          "Features": "next word=loss",
          "Weights": -0.04812334067274068
         },
         {
          "Category": "reduction by",
          "Features": "loss,",
          "Weights": -0.016597396795885542
         },
         {
          "Category": "reduction by",
          "Features": "general",
          "Weights": 0.11279925222031047
         },
         {
          "Category": "reduction by",
          "Features": "general@Before",
          "Weights": -0.03828361758273182
         },
         {
          "Category": "reduction by",
          "Features": "value=$50,000",
          "Weights": -0.0332397142865802
         },
         {
          "Category": "reduction by",
          "Features": "value=$7,500",
          "Weights": 0.15279452972619287
         },
         {
          "Category": "reduction by",
          "Features": "past@After",
          "Weights": -0.05412544729783747
         },
         {
          "Category": "reduction by",
          "Features": "in-trust",
          "Weights": -0.01974550797321902
         },
         {
          "Category": "reduction by",
          "Features": "trust",
          "Weights": -0.02534469502246037
         },
         {
          "Category": "reduction by",
          "Features": "in-trust@Before",
          "Weights": -0.013791005185668283
         },
         {
          "Category": "reduction by",
          "Features": "trust@After",
          "Weights": -0.01863356360944377
         },
         {
          "Category": "reduction by",
          "Features": "next word=trust",
          "Weights": -0.006164030200464451
         },
         {
          "Category": "reduction by",
          "Features": "non-pecuniary",
          "Weights": 0.2096801513551436
         },
         {
          "Category": "reduction by",
          "Features": "next word=non-pecuniary",
          "Weights": -0.03268483293588434
         },
         {
          "Category": "reduction by",
          "Features": "non-pecuniary@Before",
          "Weights": 0.26214165102212444
         },
         {
          "Category": "reduction by",
          "Features": "enjoyment",
          "Weights": -0.01153485688415575
         },
         {
          "Category": "reduction by",
          "Features": "suffering",
          "Weights": -0.010569454973441072
         },
         {
          "Category": "reduction by",
          "Features": "range",
          "Weights": -0.011104894914629185
         },
         {
          "Category": "reduction by",
          "Features": "range@Before",
          "Weights": -0.010495682429136963
         },
         {
          "Category": "reduction by",
          "Features": "seeks",
          "Weights": -0.012163866382873237
         },
         {
          "Category": "reduction by",
          "Features": "seeks@Before",
          "Weights": -0.011440602262072387
         },
         {
          "Category": "reduction by",
          "Features": "next word=per",
          "Weights": -0.04505165041457527
         },
         {
          "Category": "reduction by",
          "Features": "next word=past",
          "Weights": -0.02988949204701569
         },
         {
          "Category": "reduction by",
          "Features": "past",
          "Weights": -0.0828506511867467
         },
         {
          "Category": "reduction by",
          "Features": "past@Before",
          "Weights": -0.028725203888909256
         },
         {
          "Category": "reduction by",
          "Features": "income",
          "Weights": -0.10052380592162462
         },
         {
          "Category": "reduction by",
          "Features": "wage",
          "Weights": -0.0329135972528491
         },
         {
          "Category": "reduction by",
          "Features": "punitive",
          "Weights": -0.06115318161235912
         },
         {
          "Category": "reduction by",
          "Features": "punitive@Before",
          "Weights": -0.02006879333246461
         },
         {
          "Category": "reduction by",
          "Features": "next word=punitive",
          "Weights": -0.02082324986160471
         },
         {
          "Category": "reduction by",
          "Features": "value=$10,000",
          "Weights": 0.6966304894455032
         },
         {
          "Category": "reduction by",
          "Features": "punitive@After",
          "Weights": -0.04108438827989453
         },
         {
          "Category": "reduction by",
          "Features": "prev word=reduced",
          "Weights": 0.7011368126058086
         },
         {
          "Category": "reduction by",
          "Features": "value=$10,000",
          "Weights": 0.6966304894455032
         },
         {
          "Category": "reduction by",
          "Features": "reduced@Before",
          "Weights": 0.6917408441498266
         },
         {
          "Category": "reduction by",
          "Features": "reduced",
          "Weights": 0.6604266479616535
         },
         {
          "Category": "reduction by",
          "Features": "failure@After",
          "Weights": 0.4539394572024842
         },
         {
          "Category": "reduction by",
          "Features": "prev word=reduced",
          "Weights": 0.7011368126058086
         },
         {
          "Category": "reduction by",
          "Features": "reduced@Before",
          "Weights": 0.6917408441498266
         },
         {
          "Category": "reduction by",
          "Features": "20%@Before",
          "Weights": -0.0006261552724780096
         },
         {
          "Category": "reduction by",
          "Features": "=@Before",
          "Weights": -0.0037053050632423067
         },
         {
          "Category": "reduction by",
          "Features": "discounted@Before",
          "Weights": 0.16480593071580174
         },
         {
          "Category": "reduction by",
          "Features": "special",
          "Weights": -0.08069008850477262
         },
         {
          "Category": "reduction by",
          "Features": "special@Before",
          "Weights": -0.11243479858304121
         },
         {
          "Category": "reduction by",
          "Features": "next word=special",
          "Weights": -0.07895275071529483
         },
         {
          "Category": "reduction by",
          "Features": "prev word=damages",
          "Weights": -0.1329880604370041
         },
         {
          "Category": "reduction by",
          "Features": "value=$500",
          "Weights": -0.032319626053744756
         },
         {
          "Category": "reduction by",
          "Features": "start_idx_ratio",
          "Weights": -0.02113503618093491
         },
         {
          "Category": "reduction by",
          "Features": "physiotherapy",
          "Weights": -0.04108136213722352
         },
         {
          "Category": "reduction by",
          "Features": "therapy",
          "Weights": -0.034331137829674965
         },
         {
          "Category": "reduction by",
          "Features": "occupational",
          "Weights": -0.017402376447875692
         },
         {
          "Category": "reduction by",
          "Features": "care@Before",
          "Weights": -0.05211376619736
         },
         {
          "Category": "reduction by",
          "Features": "value=$160,000",
          "Weights": -0.00010052273040008907
         },
         {
          "Category": "reduction by",
          "Features": "earning",
          "Weights": -0.06458033159311687
         },
         {
          "Category": "reduction by",
          "Features": "lost",
          "Weights": -0.06619583235646066
         },
         {
          "Category": "reduction by",
          "Features": "accident",
          "Weights": -0.07758559933354234
         },
         {
          "Category": "reduction by",
          "Features": "future",
          "Weights": -0.20219142410050145
         },
         {
          "Category": "reduction by",
          "Features": "general",
          "Weights": 0.11279925222031047
         },
         {
          "Category": "reduction by",
          "Features": "general@Before",
          "Weights": -0.03828361758273182
         },
         {
          "Category": "reduction by",
          "Features": "damages",
          "Weights": 0.1346882488294143
         },
         {
          "Category": "reduction by",
          "Features": "12,",
          "Weights": -0.002944418061538522
         },
         {
          "Category": "reduction by",
          "Features": "july",
          "Weights": -0.00917419249584186
         },
         {
          "Category": "reduction by",
          "Features": "value=$250,000",
          "Weights": -3.783649480384888e-05
         },
         {
          "Category": "reduction by",
          "Features": "trust@After",
          "Weights": -0.01863356360944377
         },
         {
          "Category": "reduction by",
          "Features": "trust",
          "Weights": -0.02534469502246037
         },
         {
          "Category": "reduction by",
          "Features": "claim",
          "Weights": -0.0791873640196605
         },
         {
          "Category": "reduction by",
          "Features": "sarah@After",
          "Weights": -0.006665493979714559
         },
         {
          "Category": "reduction by",
          "Features": "accident",
          "Weights": -0.07758559933354234
         },
         {
          "Category": "reduction by",
          "Features": "value=$75,000",
          "Weights": -0.006877672303486667
         },
         {
          "Category": "reduction by",
          "Features": "first",
          "Weights": -0.03674384002517982
         },
         {
          "Category": "reduction by",
          "Features": "non-pecuniary",
          "Weights": 0.2096801513551436
         },
         {
          "Category": "reduction by",
          "Features": "damages",
          "Weights": 0.1346882488294143
         },
         {
          "Category": "reduction by",
          "Features": "loss",
          "Weights": -0.23741560799981606
         },
         {
          "Category": "reduction by",
          "Features": "lost",
          "Weights": -0.06619583235646066
         },
         {
          "Category": "reduction by",
          "Features": "income@Before",
          "Weights": -0.05363635401119445
         },
         {
          "Category": "reduction by",
          "Features": "income",
          "Weights": -0.10052380592162462
         },
         {
          "Category": "reduction by",
          "Features": "lost@Before",
          "Weights": -0.023289702195632707
         },
         {
          "Category": "reduction by",
          "Features": "basis;@After",
          "Weights": -0.0005867603391343674
         },
         {
          "Category": "reduction by",
          "Features": "value=$73,750",
          "Weights": -0.0005867603391343674
         },
         {
          "Category": "reduction by",
          "Features": "basis;",
          "Weights": -0.0005867603391343674
         },
         {
          "Category": "reduction by",
          "Features": "$295,000@Before",
          "Weights": -0.0005867603391343674
         },
         {
          "Category": "reduction by",
          "Features": "$295,000",
          "Weights": -0.0007099257514993245
         },
         {
          "Category": "reduction by",
          "Features": "housekeeping",
          "Weights": -0.033530316488791845
         },
         {
          "Category": "reduction by",
          "Features": "special",
          "Weights": -0.08069008850477262
         },
         {
          "Category": "reduction by",
          "Features": "capacity,",
          "Weights": -0.031264874205474566
         },
         {
          "Category": "reduction by",
          "Features": "housekeeping@Before",
          "Weights": -0.01129334549561058
         },
         {
          "Category": "reduction by",
          "Features": "physiotherapy",
          "Weights": -0.04108136213722352
         },
         {
          "Category": "reduction by",
          "Features": "claim",
          "Weights": -0.0791873640196605
         },
         {
          "Category": "reduction by",
          "Features": "judgment",
          "Weights": -0.02168265681341244
         },
         {
          "Category": "reduction by",
          "Features": "home;",
          "Weights": -0.0030087819763622336
         },
         {
          "Category": "reduction by",
          "Features": "negotiate",
          "Weights": -0.016979893237527792
         },
         {
          "Category": "reduction by",
          "Features": "claim@After",
          "Weights": -0.03047835224566204
         },
         {
          "Category": "reduction by",
          "Features": "total@Before",
          "Weights": -0.049643791339718205
         },
         {
          "Category": "reduction by",
          "Features": "prev word=total:",
          "Weights": -0.005573895824491792
         },
         {
          "Category": "reduction by",
          "Features": "total:@Before",
          "Weights": -0.005573895824491792
         },
         {
          "Category": "reduction by",
          "Features": "allowed",
          "Weights": -0.021544760687064863
         },
         {
          "Category": "reduction by",
          "Features": "total:",
          "Weights": 0.16569143567015437
         },
         {
          "Category": "reduction by",
          "Features": "value=$76,653",
          "Weights": -0.0009346562158172896
         },
         {
          "Category": "reduction by",
          "Features": "value=$65,920",
          "Weights": -0.00582159719287823
         },
         {
          "Category": "reduction by",
          "Features": "judgment@Before",
          "Weights": -0.015347552563835585
         },
         {
          "Category": "reduction by",
          "Features": "value=$62,500",
          "Weights": -0.001994811650634236
         },
         {
          "Category": "reduction by",
          "Features": "judgment",
          "Weights": -0.02168265681341244
         },
         {
          "Category": "reduction to",
          "Features": "aggravated",
          "Weights": -0.053500256989920475
         },
         {
          "Category": "reduction to",
          "Features": "aggravated@After",
          "Weights": -0.020491031567552866
         },
         {
          "Category": "reduction to",
          "Features": "next word=aggravated",
          "Weights": -0.008632143112626858
         },
         {
          "Category": "reduction to",
          "Features": "aggravated@Before",
          "Weights": -0.03300922542236761
         },
         {
          "Category": "reduction to",
          "Features": "value=$2,500",
          "Weights": -0.02457739680919548
         },
         {
          "Category": "reduction to",
          "Features": "future",
          "Weights": -0.07689916397802879
         },
         {
          "Category": "reduction to",
          "Features": "next word=cost",
          "Weights": 0.08614939435913523
         },
         {
          "Category": "reduction to",
          "Features": "care,@After",
          "Weights": -0.022431583876541438
         },
         {
          "Category": "reduction to",
          "Features": "special@After",
          "Weights": -0.1638774540662972
         },
         {
          "Category": "reduction to",
          "Features": "care.@After",
          "Weights": -0.016612371274359876
         },
         {
          "Category": "reduction to",
          "Features": "value=$20,000",
          "Weights": -0.12778160623235557
         },
         {
          "Category": "reduction to",
          "Features": "future",
          "Weights": -0.07689916397802879
         },
         {
          "Category": "reduction to",
          "Features": "capacity,@After",
          "Weights": -0.04406733294709292
         },
         {
          "Category": "reduction to",
          "Features": "next word=loss",
          "Weights": 0.15504563512976235
         },
         {
          "Category": "reduction to",
          "Features": "loss,",
          "Weights": -0.055668264404094295
         },
         {
          "Category": "reduction to",
          "Features": "general",
          "Weights": 0.014493024754267551
         },
         {
          "Category": "reduction to",
          "Features": "general@Before",
          "Weights": 0.06905086246679452
         },
         {
          "Category": "reduction to",
          "Features": "value=$50,000",
          "Weights": -0.1048485685569351
         },
         {
          "Category": "reduction to",
          "Features": "value=$7,500",
          "Weights": -0.029458944278324208
         },
         {
          "Category": "reduction to",
          "Features": "past@After",
          "Weights": 0.2551090116300264
         },
         {
          "Category": "reduction to",
          "Features": "in-trust",
          "Weights": -0.061887202761533144
         },
         {
          "Category": "reduction to",
          "Features": "trust",
          "Weights": -0.053984673496061564
         },
         {
          "Category": "reduction to",
          "Features": "in-trust@Before",
          "Weights": -0.027726281148939914
         },
         {
          "Category": "reduction to",
          "Features": "trust@After",
          "Weights": -0.039253702526075636
         },
         {
          "Category": "reduction to",
          "Features": "next word=trust",
          "Weights": -0.011683382730391101
         },
         {
          "Category": "reduction to",
          "Features": "non-pecuniary",
          "Weights": -0.0976344627029725
         },
         {
          "Category": "reduction to",
          "Features": "next word=non-pecuniary",
          "Weights": -0.06550453326063321
         },
         {
          "Category": "reduction to",
          "Features": "non-pecuniary@Before",
          "Weights": -0.1760488156678796
         },
         {
          "Category": "reduction to",
          "Features": "enjoyment",
          "Weights": -0.03019107497746834
         },
         {
          "Category": "reduction to",
          "Features": "suffering",
          "Weights": -0.0335109330084579
         },
         {
          "Category": "reduction to",
          "Features": "range",
          "Weights": -0.03410428310072159
         },
         {
          "Category": "reduction to",
          "Features": "range@Before",
          "Weights": -0.031045387389551534
         },
         {
          "Category": "reduction to",
          "Features": "seeks",
          "Weights": -0.02651961436199135
         },
         {
          "Category": "reduction to",
          "Features": "seeks@Before",
          "Weights": -0.025084286585974547
         },
         {
          "Category": "reduction to",
          "Features": "next word=per",
          "Weights": -0.044943041184380146
         },
         {
          "Category": "reduction to",
          "Features": "next word=past",
          "Weights": 0.21101392946520636
         },
         {
          "Category": "reduction to",
          "Features": "past",
          "Weights": 0.14121516921364102
         },
         {
          "Category": "reduction to",
          "Features": "past@Before",
          "Weights": -0.11389384241638542
         },
         {
          "Category": "reduction to",
          "Features": "income",
          "Weights": -0.12667636836673904
         },
         {
          "Category": "reduction to",
          "Features": "wage",
          "Weights": 0.3487505280637817
         },
         {
          "Category": "reduction to",
          "Features": "punitive",
          "Weights": -0.07891481472309439
         },
         {
          "Category": "reduction to",
          "Features": "punitive@Before",
          "Weights": -0.0341237122466886
         },
         {
          "Category": "reduction to",
          "Features": "next word=punitive",
          "Weights": -0.018402545406008993
         },
         {
          "Category": "reduction to",
          "Features": "value=$10,000",
          "Weights": -0.10891284758051731
         },
         {
          "Category": "reduction to",
          "Features": "punitive@After",
          "Weights": -0.0447911024764058
         },
         {
          "Category": "reduction to",
          "Features": "prev word=reduced",
          "Weights": 0.639832132330604
         },
         {
          "Category": "reduction to",
          "Features": "value=$10,000",
          "Weights": -0.10891284758051731
         },
         {
          "Category": "reduction to",
          "Features": "reduced@Before",
          "Weights": 0.5991479527905444
         },
         {
          "Category": "reduction to",
          "Features": "reduced",
          "Weights": 0.5213078032387075
         },
         {
          "Category": "reduction to",
          "Features": "failure@After",
          "Weights": 0.17615821601894718
         },
         {
          "Category": "reduction to",
          "Features": "prev word=reduced",
          "Weights": 0.639832132330604
         },
         {
          "Category": "reduction to",
          "Features": "reduced@Before",
          "Weights": 0.5991479527905444
         },
         {
          "Category": "reduction to",
          "Features": "20%@Before",
          "Weights": 0.5982393658935496
         },
         {
          "Category": "reduction to",
          "Features": "=@Before",
          "Weights": 0.584277837944325
         },
         {
          "Category": "reduction to",
          "Features": "discounted@Before",
          "Weights": 0.5644510749864597
         },
         {
          "Category": "reduction to",
          "Features": "special",
          "Weights": -0.2999827209027071
         },
         {
          "Category": "reduction to",
          "Features": "special@Before",
          "Weights": -0.13610526683640978
         },
         {
          "Category": "reduction to",
          "Features": "next word=special",
          "Weights": -0.07015031382712347
         },
         {
          "Category": "reduction to",
          "Features": "prev word=damages",
          "Weights": -0.22950019128181584
         },
         {
          "Category": "reduction to",
          "Features": "value=$500",
          "Weights": -0.02352116122757599
         },
         {
          "Category": "reduction to",
          "Features": "start_idx_ratio",
          "Weights": 0.2660112564244376
         },
         {
          "Category": "reduction to",
          "Features": "physiotherapy",
          "Weights": -0.04775743036393116
         },
         {
          "Category": "reduction to",
          "Features": "therapy",
          "Weights": -0.030655676901306477
         },
         {
          "Category": "reduction to",
          "Features": "occupational",
          "Weights": -0.02107024404635473
         },
         {
          "Category": "reduction to",
          "Features": "care@Before",
          "Weights": -0.0949234417403958
         },
         {
          "Category": "reduction to",
          "Features": "value=$160,000",
          "Weights": -0.015114991075540029
         },
         {
          "Category": "reduction to",
          "Features": "earning",
          "Weights": -0.029544218587070736
         },
         {
          "Category": "reduction to",
          "Features": "lost",
          "Weights": -0.10819748930437201
         },
         {
          "Category": "reduction to",
          "Features": "accident",
          "Weights": 0.04621445491974039
         },
         {
          "Category": "reduction to",
          "Features": "future",
          "Weights": -0.07689916397802879
         },
         {
          "Category": "reduction to",
          "Features": "general",
          "Weights": 0.014493024754267551
         },
         {
          "Category": "reduction to",
          "Features": "general@Before",
          "Weights": 0.06905086246679452
         },
         {
          "Category": "reduction to",
          "Features": "damages",
          "Weights": -0.3054724018452182
         },
         {
          "Category": "reduction to",
          "Features": "12,",
          "Weights": -0.0072597254060306595
         },
         {
          "Category": "reduction to",
          "Features": "july",
          "Weights": -0.021556981261187158
         },
         {
          "Category": "reduction to",
          "Features": "value=$250,000",
          "Weights": -0.06748740645756629
         },
         {
          "Category": "reduction to",
          "Features": "trust@After",
          "Weights": -0.039253702526075636
         },
         {
          "Category": "reduction to",
          "Features": "trust",
          "Weights": -0.053984673496061564
         },
         {
          "Category": "reduction to",
          "Features": "claim",
          "Weights": -0.17280333617069732
         },
         {
          "Category": "reduction to",
          "Features": "sarah@After",
          "Weights": -0.010090509889699013
         },
         {
          "Category": "reduction to",
          "Features": "accident",
          "Weights": 0.04621445491974039
         },
         {
          "Category": "reduction to",
          "Features": "value=$75,000",
          "Weights": -0.07772004285605798
         },
         {
          "Category": "reduction to",
          "Features": "first",
          "Weights": -0.07258177103535648
         },
         {
          "Category": "reduction to",
          "Features": "non-pecuniary",
          "Weights": -0.0976344627029725
         },
         {
          "Category": "reduction to",
          "Features": "damages",
          "Weights": -0.3054724018452182
         },
         {
          "Category": "reduction to",
          "Features": "loss",
          "Weights": 0.28321314260989694
         },
         {
          "Category": "reduction to",
          "Features": "lost",
          "Weights": -0.10819748930437201
         },
         {
          "Category": "reduction to",
          "Features": "income@Before",
          "Weights": -0.13220190226619308
         },
         {
          "Category": "reduction to",
          "Features": "income",
          "Weights": -0.12667636836673904
         },
         {
          "Category": "reduction to",
          "Features": "lost@Before",
          "Weights": -0.04613848967518779
         },
         {
          "Category": "reduction to",
          "Features": "basis;@After",
          "Weights": -0.004445257420105025
         },
         {
          "Category": "reduction to",
          "Features": "value=$73,750",
          "Weights": -0.004445257420105025
         },
         {
          "Category": "reduction to",
          "Features": "basis;",
          "Weights": -0.004445257420105025
         },
         {
          "Category": "reduction to",
          "Features": "$295,000@Before",
          "Weights": -0.004445257420105025
         },
         {
          "Category": "reduction to",
          "Features": "$295,000",
          "Weights": -0.004929735826743995
         },
         {
          "Category": "reduction to",
          "Features": "housekeeping",
          "Weights": -0.06053584285781387
         },
         {
          "Category": "reduction to",
          "Features": "special",
          "Weights": -0.2999827209027071
         },
         {
          "Category": "reduction to",
          "Features": "capacity,",
          "Weights": -0.09523919435799859
         },
         {
          "Category": "reduction to",
          "Features": "housekeeping@Before",
          "Weights": -0.02472542374776049
         },
         {
          "Category": "reduction to",
          "Features": "physiotherapy",
          "Weights": -0.04775743036393116
         },
         {
          "Category": "reduction to",
          "Features": "claim",
          "Weights": -0.17280333617069732
         },
         {
          "Category": "reduction to",
          "Features": "judgment",
          "Weights": 0.09867846461880518
         },
         {
          "Category": "reduction to",
          "Features": "home;",
          "Weights": -0.008014690611552928
         },
         {
          "Category": "reduction to",
          "Features": "negotiate",
          "Weights": -0.010138932362725471
         },
         {
          "Category": "reduction to",
          "Features": "claim@After",
          "Weights": -0.07446398502572142
         },
         {
          "Category": "reduction to",
          "Features": "total@Before",
          "Weights": 0.2888596164703025
         },
         {
          "Category": "reduction to",
          "Features": "prev word=total:",
          "Weights": -0.036879299250676775
         },
         {
          "Category": "reduction to",
          "Features": "total:@Before",
          "Weights": -0.036879299250676775
         },
         {
          "Category": "reduction to",
          "Features": "allowed",
          "Weights": -0.035626061175273734
         },
         {
          "Category": "reduction to",
          "Features": "total:",
          "Weights": -0.06962755203005376
         },
         {
          "Category": "reduction to",
          "Features": "value=$76,653",
          "Weights": -0.009307162731897075
         },
         {
          "Category": "reduction to",
          "Features": "value=$65,920",
          "Weights": -0.009782629466230652
         },
         {
          "Category": "reduction to",
          "Features": "judgment@Before",
          "Weights": 0.11224014851513045
         },
         {
          "Category": "reduction to",
          "Features": "value=$62,500",
          "Weights": -0.011593139263972508
         },
         {
          "Category": "reduction to",
          "Features": "judgment",
          "Weights": 0.09867846461880518
         },
         {
          "Category": "special",
          "Features": "aggravated",
          "Weights": -0.1469131369666861
         },
         {
          "Category": "special",
          "Features": "aggravated@After",
          "Weights": -0.07239565314691351
         },
         {
          "Category": "special",
          "Features": "next word=aggravated",
          "Weights": -0.05996418409462653
         },
         {
          "Category": "special",
          "Features": "aggravated@Before",
          "Weights": -0.07451748381977252
         },
         {
          "Category": "special",
          "Features": "value=$2,500",
          "Weights": -0.28444998017271694
         },
         {
          "Category": "special",
          "Features": "future",
          "Weights": 0.20208662391593943
         },
         {
          "Category": "special",
          "Features": "next word=cost",
          "Weights": 0.12418533946314675
         },
         {
          "Category": "special",
          "Features": "care,@After",
          "Weights": 0.1168875029927635
         },
         {
          "Category": "special",
          "Features": "special@After",
          "Weights": 0.21619111711047334
         },
         {
          "Category": "special",
          "Features": "care.@After",
          "Weights": -0.1618773129609247
         },
         {
          "Category": "special",
          "Features": "value=$20,000",
          "Weights": -0.44955902480744153
         },
         {
          "Category": "special",
          "Features": "future",
          "Weights": 0.20208662391593943
         },
         {
          "Category": "special",
          "Features": "capacity,@After",
          "Weights": 0.29287295279237974
         },
         {
          "Category": "special",
          "Features": "next word=loss",
          "Weights": -0.25246517817702724
         },
         {
          "Category": "special",
          "Features": "loss,",
          "Weights": 0.03517109090802007
         },
         {
          "Category": "special",
          "Features": "general",
          "Weights": -0.3683521348662163
         },
         {
          "Category": "special",
          "Features": "general@Before",
          "Weights": -0.2815422677584105
         },
         {
          "Category": "special",
          "Features": "value=$50,000",
          "Weights": -0.21525577560653605
         },
         {
          "Category": "special",
          "Features": "value=$7,500",
          "Weights": -0.22983552979356373
         },
         {
          "Category": "special",
          "Features": "past@After",
          "Weights": -0.07373196408536815
         },
         {
          "Category": "special",
          "Features": "in-trust",
          "Weights": -0.04933246341631187
         },
         {
          "Category": "special",
          "Features": "trust",
          "Weights": 0.113214161329748
         },
         {
          "Category": "special",
          "Features": "in-trust@Before",
          "Weights": -0.3119166494478813
         },
         {
          "Category": "special",
          "Features": "trust@After",
          "Weights": -0.003498690208498519
         },
         {
          "Category": "special",
          "Features": "next word=trust",
          "Weights": -0.16842840442312818
         },
         {
          "Category": "special",
          "Features": "non-pecuniary",
          "Weights": -0.025646763443939662
         },
         {
          "Category": "special",
          "Features": "next word=non-pecuniary",
          "Weights": -0.2752776056189546
         },
         {
          "Category": "special",
          "Features": "non-pecuniary@Before",
          "Weights": 0.06660283410074114
         },
         {
          "Category": "special",
          "Features": "enjoyment",
          "Weights": 0.1866473978223648
         },
         {
          "Category": "special",
          "Features": "suffering",
          "Weights": 0.2026237810701834
         },
         {
          "Category": "special",
          "Features": "range",
          "Weights": -0.073306443630209
         },
         {
          "Category": "special",
          "Features": "range@Before",
          "Weights": -0.0718866103079544
         },
         {
          "Category": "special",
          "Features": "seeks",
          "Weights": 0.013110371755059833
         },
         {
          "Category": "special",
          "Features": "seeks@Before",
          "Weights": 0.03361944395663411
         },
         {
          "Category": "special",
          "Features": "next word=per",
          "Weights": -0.1063127387135692
         },
         {
          "Category": "special",
          "Features": "next word=past",
          "Weights": -0.21694916722238444
         },
         {
          "Category": "special",
          "Features": "past",
          "Weights": -0.22472104699494339
         },
         {
          "Category": "special",
          "Features": "past@Before",
          "Weights": -0.15098908290957525
         },
         {
          "Category": "special",
          "Features": "income",
          "Weights": 0.3404902769051778
         },
         {
          "Category": "special",
          "Features": "wage",
          "Weights": -0.017627610714354612
         },
         {
          "Category": "special",
          "Features": "punitive",
          "Weights": -0.26882463573534543
         },
         {
          "Category": "special",
          "Features": "punitive@Before",
          "Weights": -0.15703690977255208
         },
         {
          "Category": "special",
          "Features": "next word=punitive",
          "Weights": -0.08116357349822899
         },
         {
          "Category": "special",
          "Features": "value=$10,000",
          "Weights": -0.44794038272151615
         },
         {
          "Category": "special",
          "Features": "punitive@After",
          "Weights": -0.11178772596279327
         },
         {
          "Category": "special",
          "Features": "prev word=reduced",
          "Weights": -0.07672887676625229
         },
         {
          "Category": "special",
          "Features": "value=$10,000",
          "Weights": -0.44794038272151615
         },
         {
          "Category": "special",
          "Features": "reduced@Before",
          "Weights": -0.06482448962264421
         },
         {
          "Category": "special",
          "Features": "reduced",
          "Weights": -0.08771639473930155
         },
         {
          "Category": "special",
          "Features": "failure@After",
          "Weights": 0.05630274167433746
         },
         {
          "Category": "special",
          "Features": "prev word=reduced",
          "Weights": -0.07672887676625229
         },
         {
          "Category": "special",
          "Features": "reduced@Before",
          "Weights": -0.06482448962264421
         },
         {
          "Category": "special",
          "Features": "20%@Before",
          "Weights": -0.0008223263832884902
         },
         {
          "Category": "special",
          "Features": "=@Before",
          "Weights": 0.09147060843767905
         },
         {
          "Category": "special",
          "Features": "discounted@Before",
          "Weights": -0.020020595595097605
         },
         {
          "Category": "special",
          "Features": "special",
          "Weights": 1.7878606688838417
         },
         {
          "Category": "special",
          "Features": "special@Before",
          "Weights": 1.5716695517733656
         },
         {
          "Category": "special",
          "Features": "next word=special",
          "Weights": 1.5101634257025336
         },
         {
          "Category": "special",
          "Features": "prev word=damages",
          "Weights": 0.8143656417142477
         },
         {
          "Category": "special",
          "Features": "value=$500",
          "Weights": 0.6766919079887711
         },
         {
          "Category": "special",
          "Features": "start_idx_ratio",
          "Weights": 0.06152311877552476
         },
         {
          "Category": "special",
          "Features": "physiotherapy",
          "Weights": -0.06742210407377935
         },
         {
          "Category": "special",
          "Features": "therapy",
          "Weights": 0.15928490392167055
         },
         {
          "Category": "special",
          "Features": "occupational",
          "Weights": -0.04681534698094272
         },
         {
          "Category": "special",
          "Features": "care@Before",
          "Weights": 0.3581118640799029
         },
         {
          "Category": "special",
          "Features": "value=$160,000",
          "Weights": -0.00015321329380641791
         },
         {
          "Category": "special",
          "Features": "earning",
          "Weights": -0.0410837074054178
         },
         {
          "Category": "special",
          "Features": "lost",
          "Weights": 0.3594298368965032
         },
         {
          "Category": "special",
          "Features": "accident",
          "Weights": -0.17733272697638502
         },
         {
          "Category": "special",
          "Features": "future",
          "Weights": 0.20208662391593943
         },
         {
          "Category": "special",
          "Features": "general",
          "Weights": -0.3683521348662163
         },
         {
          "Category": "special",
          "Features": "general@Before",
          "Weights": -0.2815422677584105
         },
         {
          "Category": "special",
          "Features": "damages",
          "Weights": 0.02048338864018795
         },
         {
          "Category": "special",
          "Features": "12,",
          "Weights": -0.006957807790233606
         },
         {
          "Category": "special",
          "Features": "july",
          "Weights": -0.024238006644607825
         },
         {
          "Category": "special",
          "Features": "value=$250,000",
          "Weights": -1.9086375150039017e-05
         },
         {
          "Category": "special",
          "Features": "trust@After",
          "Weights": -0.003498690208498519
         },
         {
          "Category": "special",
          "Features": "trust",
          "Weights": 0.113214161329748
         },
         {
          "Category": "special",
          "Features": "claim",
          "Weights": 0.23115984824872296
         },
         {
          "Category": "special",
          "Features": "sarah@After",
          "Weights": -0.01035057293729538
         },
         {
          "Category": "special",
          "Features": "accident",
          "Weights": -0.17733272697638502
         },
         {
          "Category": "special",
          "Features": "value=$75,000",
          "Weights": -0.017323551241953426
         },
         {
          "Category": "special",
          "Features": "first",
          "Weights": -0.10757432781233116
         },
         {
          "Category": "special",
          "Features": "non-pecuniary",
          "Weights": -0.025646763443939662
         },
         {
          "Category": "special",
          "Features": "damages",
          "Weights": 0.02048338864018795
         },
         {
          "Category": "special",
          "Features": "loss",
          "Weights": -0.23518149411932485
         },
         {
          "Category": "special",
          "Features": "lost",
          "Weights": 0.3594298368965032
         },
         {
          "Category": "special",
          "Features": "income@Before",
          "Weights": 0.3357077405811091
         },
         {
          "Category": "special",
          "Features": "income",
          "Weights": 0.3404902769051778
         },
         {
          "Category": "special",
          "Features": "lost@Before",
          "Weights": 0.1849091641910284
         },
         {
          "Category": "special",
          "Features": "basis;@After",
          "Weights": -0.0005466901894596787
         },
         {
          "Category": "special",
          "Features": "value=$73,750",
          "Weights": -0.0005466901894596787
         },
         {
          "Category": "special",
          "Features": "basis;",
          "Weights": -0.0005466901894596787
         },
         {
          "Category": "special",
          "Features": "$295,000@Before",
          "Weights": -0.0005466901894596787
         },
         {
          "Category": "special",
          "Features": "$295,000",
          "Weights": -0.0013480013931225457
         },
         {
          "Category": "special",
          "Features": "housekeeping",
          "Weights": -0.002398280594241684
         },
         {
          "Category": "special",
          "Features": "special",
          "Weights": 1.7878606688838417
         },
         {
          "Category": "special",
          "Features": "capacity,",
          "Weights": 0.2886085189178468
         },
         {
          "Category": "special",
          "Features": "housekeeping@Before",
          "Weights": -0.27032628802625097
         },
         {
          "Category": "special",
          "Features": "physiotherapy",
          "Weights": -0.06742210407377935
         },
         {
          "Category": "special",
          "Features": "claim",
          "Weights": 0.23115984824872296
         },
         {
          "Category": "special",
          "Features": "judgment",
          "Weights": -0.07560998794756583
         },
         {
          "Category": "special",
          "Features": "home;",
          "Weights": -0.011150962150587534
         },
         {
          "Category": "special",
          "Features": "negotiate",
          "Weights": -0.028146217458710588
         },
         {
          "Category": "special",
          "Features": "claim@After",
          "Weights": 0.2888308057029042
         },
         {
          "Category": "special",
          "Features": "total@Before",
          "Weights": 0.10696703503283798
         },
         {
          "Category": "special",
          "Features": "prev word=total:",
          "Weights": -0.045078204129679625
         },
         {
          "Category": "special",
          "Features": "total:@Before",
          "Weights": -0.045078204129679625
         },
         {
          "Category": "special",
          "Features": "allowed",
          "Weights": -0.27124594012186043
         },
         {
          "Category": "special",
          "Features": "total:",
          "Weights": 0.14419358751872682
         },
         {
          "Category": "special",
          "Features": "value=$76,653",
          "Weights": -0.007514470911665332
         },
         {
          "Category": "special",
          "Features": "value=$65,920",
          "Weights": -0.0054261272479201594
         },
         {
          "Category": "special",
          "Features": "judgment@Before",
          "Weights": -0.05958210231147558
         },
         {
          "Category": "special",
          "Features": "value=$62,500",
          "Weights": -0.009939929776662249
         },
         {
          "Category": "special",
          "Features": "judgment",
          "Weights": -0.07560998794756583
         },
         {
          "Category": "sub-future care",
          "Features": "aggravated",
          "Weights": -0.09291917814297139
         },
         {
          "Category": "sub-future care",
          "Features": "aggravated@After",
          "Weights": -0.0440606420130966
         },
         {
          "Category": "sub-future care",
          "Features": "next word=aggravated",
          "Weights": -0.014708635454368247
         },
         {
          "Category": "sub-future care",
          "Features": "aggravated@Before",
          "Weights": -0.04885853612987477
         },
         {
          "Category": "sub-future care",
          "Features": "value=$2,500",
          "Weights": 0.09262669611569925
         },
         {
          "Category": "sub-future care",
          "Features": "future",
          "Weights": 0.08412823253296522
         },
         {
          "Category": "sub-future care",
          "Features": "next word=cost",
          "Weights": 0.10414748076618989
         },
         {
          "Category": "sub-future care",
          "Features": "care,@After",
          "Weights": -0.044372864341822985
         },
         {
          "Category": "sub-future care",
          "Features": "special@After",
          "Weights": 0.026092024992335334
         },
         {
          "Category": "sub-future care",
          "Features": "care.@After",
          "Weights": -0.06595033575872747
         },
         {
          "Category": "sub-future care",
          "Features": "value=$20,000",
          "Weights": -0.11597728003435018
         },
         {
          "Category": "sub-future care",
          "Features": "future",
          "Weights": 0.08412823253296522
         },
         {
          "Category": "sub-future care",
          "Features": "capacity,@After",
          "Weights": -0.02847000812865085
         },
         {
          "Category": "sub-future care",
          "Features": "next word=loss",
          "Weights": -0.12035010431399477
         },
         {
          "Category": "sub-future care",
          "Features": "loss,",
          "Weights": -0.06775678418940052
         },
         {
          "Category": "sub-future care",
          "Features": "general",
          "Weights": -0.0693627862896664
         },
         {
          "Category": "sub-future care",
          "Features": "general@Before",
          "Weights": -0.12636805262030046
         },
         {
          "Category": "sub-future care",
          "Features": "value=$50,000",
          "Weights": 0.267988200765468
         },
         {
          "Category": "sub-future care",
          "Features": "value=$7,500",
          "Weights": -0.06437318182334213
         },
         {
          "Category": "sub-future care",
          "Features": "past@After",
          "Weights": -0.06037898382119264
         },
         {
          "Category": "sub-future care",
          "Features": "in-trust",
          "Weights": -0.15504127456608469
         },
         {
          "Category": "sub-future care",
          "Features": "trust",
          "Weights": -0.1663242568860003
         },
         {
          "Category": "sub-future care",
          "Features": "in-trust@Before",
          "Weights": -0.07933370723311575
         },
         {
          "Category": "sub-future care",
          "Features": "trust@After",
          "Weights": -0.1318667679552831
         },
         {
          "Category": "sub-future care",
          "Features": "next word=trust",
          "Weights": -0.06474488446648638
         },
         {
          "Category": "sub-future care",
          "Features": "non-pecuniary",
          "Weights": -0.38762251171002254
         },
         {
          "Category": "sub-future care",
          "Features": "next word=non-pecuniary",
          "Weights": -0.10758246648012505
         },
         {
          "Category": "sub-future care",
          "Features": "non-pecuniary@Before",
          "Weights": -0.19895506491751663
         },
         {
          "Category": "sub-future care",
          "Features": "enjoyment",
          "Weights": -0.03520192141063026
         },
         {
          "Category": "sub-future care",
          "Features": "suffering",
          "Weights": -0.0427238861329261
         },
         {
          "Category": "sub-future care",
          "Features": "range",
          "Weights": -0.06463815655966652
         },
         {
          "Category": "sub-future care",
          "Features": "range@Before",
          "Weights": -0.05649212983843964
         },
         {
          "Category": "sub-future care",
          "Features": "seeks",
          "Weights": 0.08579798995936667
         },
         {
          "Category": "sub-future care",
          "Features": "seeks@Before",
          "Weights": 0.08951455742518015
         },
         {
          "Category": "sub-future care",
          "Features": "next word=per",
          "Weights": -0.1458579091691637
         },
         {
          "Category": "sub-future care",
          "Features": "next word=past",
          "Weights": 0.10856879181461078
         },
         {
          "Category": "sub-future care",
          "Features": "past",
          "Weights": -0.14929180895183247
         },
         {
          "Category": "sub-future care",
          "Features": "past@Before",
          "Weights": -0.08891282513063968
         },
         {
          "Category": "sub-future care",
          "Features": "income",
          "Weights": -0.33238138130662176
         },
         {
          "Category": "sub-future care",
          "Features": "wage",
          "Weights": -0.12211792223728488
         },
         {
          "Category": "sub-future care",
          "Features": "punitive",
          "Weights": -0.15329701632045853
         },
         {
          "Category": "sub-future care",
          "Features": "punitive@Before",
          "Weights": -0.04824932433151495
         },
         {
          "Category": "sub-future care",
          "Features": "next word=punitive",
          "Weights": -0.03581596312412943
         },
         {
          "Category": "sub-future care",
          "Features": "value=$10,000",
          "Weights": 0.2932466661067475
         },
         {
          "Category": "sub-future care",
          "Features": "punitive@After",
          "Weights": -0.10504769198894341
         },
         {
          "Category": "sub-future care",
          "Features": "prev word=reduced",
          "Weights": -0.049278001532855976
         },
         {
          "Category": "sub-future care",
          "Features": "value=$10,000",
          "Weights": 0.2932466661067475
         },
         {
          "Category": "sub-future care",
          "Features": "reduced@Before",
          "Weights": -0.08598356997324298
         },
         {
          "Category": "sub-future care",
          "Features": "reduced",
          "Weights": -0.15903168387995512
         },
         {
          "Category": "sub-future care",
          "Features": "failure@After",
          "Weights": -0.07913651738826787
         },
         {
          "Category": "sub-future care",
          "Features": "prev word=reduced",
          "Weights": -0.049278001532855976
         },
         {
          "Category": "sub-future care",
          "Features": "reduced@Before",
          "Weights": -0.08598356997324298
         },
         {
          "Category": "sub-future care",
          "Features": "20%@Before",
          "Weights": -0.024814572553167786
         },
         {
          "Category": "sub-future care",
          "Features": "=@Before",
          "Weights": -0.04328160932357184
         },
         {
          "Category": "sub-future care",
          "Features": "discounted@Before",
          "Weights": -0.04010725625625588
         },
         {
          "Category": "sub-future care",
          "Features": "special",
          "Weights": -0.041852336601740474
         },
         {
          "Category": "sub-future care",
          "Features": "special@Before",
          "Weights": -0.0679443615940757
         },
         {
          "Category": "sub-future care",
          "Features": "next word=special",
          "Weights": -0.014423665432811802
         },
         {
          "Category": "sub-future care",
          "Features": "prev word=damages",
          "Weights": -0.2584593607110741
         },
         {
          "Category": "sub-future care",
          "Features": "value=$500",
          "Weights": 0.14678126034854158
         },
         {
          "Category": "sub-future care",
          "Features": "start_idx_ratio",
          "Weights": 0.6293316421050462
         },
         {
          "Category": "sub-future care",
          "Features": "physiotherapy",
          "Weights": 0.6149995309061634
         },
         {
          "Category": "sub-future care",
          "Features": "therapy",
          "Weights": 0.5972817427753853
         },
         {
          "Category": "sub-future care",
          "Features": "occupational",
          "Weights": 0.581829165943595
         },
         {
          "Category": "sub-future care",
          "Features": "care@Before",
          "Weights": 0.577063826658354
         },
         {
          "Category": "sub-future care",
          "Features": "value=$160,000",
          "Weights": -0.020719704430744217
         },
         {
          "Category": "sub-future care",
          "Features": "earning",
          "Weights": -0.36663575170120355
         },
         {
          "Category": "sub-future care",
          "Features": "lost",
          "Weights": -0.1763825439253226
         },
         {
          "Category": "sub-future care",
          "Features": "accident",
          "Weights": -0.2620136516775468
         },
         {
          "Category": "sub-future care",
          "Features": "future",
          "Weights": 0.08412823253296522
         },
         {
          "Category": "sub-future care",
          "Features": "general",
          "Weights": -0.0693627862896664
         },
         {
          "Category": "sub-future care",
          "Features": "general@Before",
          "Weights": -0.12636805262030046
         },
         {
          "Category": "sub-future care",
          "Features": "damages",
          "Weights": -0.7855014838535523
         },
         {
          "Category": "sub-future care",
          "Features": "12,",
          "Weights": -0.03388083075024041
         },
         {
          "Category": "sub-future care",
          "Features": "july",
          "Weights": -0.0644272639178178
         },
         {
          "Category": "sub-future care",
          "Features": "value=$250,000",
          "Weights": -0.10962690331024169
         },
         {
          "Category": "sub-future care",
          "Features": "trust@After",
          "Weights": -0.1318667679552831
         },
         {
          "Category": "sub-future care",
          "Features": "trust",
          "Weights": -0.1663242568860003
         },
         {
          "Category": "sub-future care",
          "Features": "claim",
          "Weights": -0.2968256058045161
         },
         {
          "Category": "sub-future care",
          "Features": "sarah@After",
          "Weights": -0.029528459491962877
         },
         {
          "Category": "sub-future care",
          "Features": "accident",
          "Weights": -0.2620136516775468
         },
         {
          "Category": "sub-future care",
          "Features": "value=$75,000",
          "Weights": -0.09634918626680797
         },
         {
          "Category": "sub-future care",
          "Features": "first",
          "Weights": -0.10300076583830389
         },
         {
          "Category": "sub-future care",
          "Features": "non-pecuniary",
          "Weights": -0.38762251171002254
         },
         {
          "Category": "sub-future care",
          "Features": "damages",
          "Weights": -0.7855014838535523
         },
         {
          "Category": "sub-future care",
          "Features": "loss",
          "Weights": -0.45807406845758963
         },
         {
          "Category": "sub-future care",
          "Features": "lost",
          "Weights": -0.1763825439253226
         },
         {
          "Category": "sub-future care",
          "Features": "income@Before",
          "Weights": -0.1730450378066009
         },
         {
          "Category": "sub-future care",
          "Features": "income",
          "Weights": -0.33238138130662176
         },
         {
          "Category": "sub-future care",
          "Features": "lost@Before",
          "Weights": -0.0813322676689238
         },
         {
          "Category": "sub-future care",
          "Features": "basis;@After",
          "Weights": -0.011597511839456377
         },
         {
          "Category": "sub-future care",
          "Features": "value=$73,750",
          "Weights": -0.011597511839456377
         },
         {
          "Category": "sub-future care",
          "Features": "basis;",
          "Weights": -0.011597511839456377
         },
         {
          "Category": "sub-future care",
          "Features": "$295,000@Before",
          "Weights": -0.011597511839456377
         },
         {
          "Category": "sub-future care",
          "Features": "$295,000",
          "Weights": -0.021199782702096732
         },
         {
          "Category": "sub-future care",
          "Features": "housekeeping",
          "Weights": 0.2656307931470744
         },
         {
          "Category": "sub-future care",
          "Features": "special",
          "Weights": -0.041852336601740474
         },
         {
          "Category": "sub-future care",
          "Features": "capacity,",
          "Weights": -0.09658334376107461
         },
         {
          "Category": "sub-future care",
          "Features": "housekeeping@Before",
          "Weights": 0.14440833230244912
         },
         {
          "Category": "sub-future care",
          "Features": "physiotherapy",
          "Weights": 0.6149995309061634
         },
         {
          "Category": "sub-future care",
          "Features": "claim",
          "Weights": -0.2968256058045161
         },
         {
          "Category": "sub-future care",
          "Features": "judgment",
          "Weights": -0.15026056516217787
         },
         {
          "Category": "sub-future care",
          "Features": "home;",
          "Weights": -0.014274211431936776
         },
         {
          "Category": "sub-future care",
          "Features": "negotiate",
          "Weights": -0.029831833891728318
         },
         {
          "Category": "sub-future care",
          "Features": "claim@After",
          "Weights": -0.13866992549063456
         },
         {
          "Category": "sub-future care",
          "Features": "total@Before",
          "Weights": -0.19645953806487093
         },
         {
          "Category": "sub-future care",
          "Features": "prev word=total:",
          "Weights": -0.10906247904986767
         },
         {
          "Category": "sub-future care",
          "Features": "total:@Before",
          "Weights": -0.10906247904986767
         },
         {
          "Category": "sub-future care",
          "Features": "allowed",
          "Weights": -0.07034463663322715
         },
         {
          "Category": "sub-future care",
          "Features": "total:",
          "Weights": 0.014041007749654328
         },
         {
          "Category": "sub-future care",
          "Features": "value=$76,653",
          "Weights": -0.01629044092555176
         },
         {
          "Category": "sub-future care",
          "Features": "value=$65,920",
          "Weights": -0.0067853292353169115
         },
         {
          "Category": "sub-future care",
          "Features": "judgment@Before",
          "Weights": -0.12082521895225799
         },
         {
          "Category": "sub-future care",
          "Features": "value=$62,500",
          "Weights": -0.02533567921966073
         },
         {
          "Category": "sub-future care",
          "Features": "judgment",
          "Weights": -0.15026056516217787
         },
         {
          "Category": "sub-future wage loss",
          "Features": "aggravated",
          "Weights": -0.06405901893553671
         },
         {
          "Category": "sub-future wage loss",
          "Features": "aggravated@After",
          "Weights": -0.030777438123295798
         },
         {
          "Category": "sub-future wage loss",
          "Features": "next word=aggravated",
          "Weights": -0.010206645458775964
         },
         {
          "Category": "sub-future wage loss",
          "Features": "aggravated@Before",
          "Weights": -0.03328158081224095
         },
         {
          "Category": "sub-future wage loss",
          "Features": "value=$2,500",
          "Weights": -0.04478455302512602
         },
         {
          "Category": "sub-future wage loss",
          "Features": "future",
          "Weights": 0.48123558067550365
         },
         {
          "Category": "sub-future wage loss",
          "Features": "next word=cost",
          "Weights": 0.11546576064299273
         },
         {
          "Category": "sub-future wage loss",
          "Features": "care,@After",
          "Weights": -0.05359367926290807
         },
         {
          "Category": "sub-future wage loss",
          "Features": "special@After",
          "Weights": -0.045073533906209474
         },
         {
          "Category": "sub-future wage loss",
          "Features": "care.@After",
          "Weights": -0.04044908976225105
         },
         {
          "Category": "sub-future wage loss",
          "Features": "value=$20,000",
          "Weights": 0.14875644166742727
         },
         {
          "Category": "sub-future wage loss",
          "Features": "future",
          "Weights": 0.48123558067550365
         },
         {
          "Category": "sub-future wage loss",
          "Features": "capacity,@After",
          "Weights": -0.13812974205622017
         },
         {
          "Category": "sub-future wage loss",
          "Features": "next word=loss",
          "Weights": 0.44653414874300823
         },
         {
          "Category": "sub-future wage loss",
          "Features": "loss,",
          "Weights": -0.06277948665703023
         },
         {
          "Category": "sub-future wage loss",
          "Features": "general",
          "Weights": -0.15592906443433138
         },
         {
          "Category": "sub-future wage loss",
          "Features": "general@Before",
          "Weights": -0.08929426758245228
         },
         {
          "Category": "sub-future wage loss",
          "Features": "value=$50,000",
          "Weights": -0.17520271096096388
         },
         {
          "Category": "sub-future wage loss",
          "Features": "value=$7,500",
          "Weights": 0.14118851990941753
         },
         {
          "Category": "sub-future wage loss",
          "Features": "past@After",
          "Weights": -0.203886198172388
         },
         {
          "Category": "sub-future wage loss",
          "Features": "in-trust",
          "Weights": -0.09740105975509798
         },
         {
          "Category": "sub-future wage loss",
          "Features": "trust",
          "Weights": -0.05771417195188862
         },
         {
          "Category": "sub-future wage loss",
          "Features": "in-trust@Before",
          "Weights": -0.03479949518049697
         },
         {
          "Category": "sub-future wage loss",
          "Features": "trust@After",
          "Weights": -0.04639263109443262
         },
         {
          "Category": "sub-future wage loss",
          "Features": "next word=trust",
          "Weights": -0.02141057885236657
         },
         {
          "Category": "sub-future wage loss",
          "Features": "non-pecuniary",
          "Weights": 0.20138587926399396
         },
         {
          "Category": "sub-future wage loss",
          "Features": "next word=non-pecuniary",
          "Weights": 0.06563576046257681
         },
         {
          "Category": "sub-future wage loss",
          "Features": "non-pecuniary@Before",
          "Weights": 0.053271075066752493
         },
         {
          "Category": "sub-future wage loss",
          "Features": "enjoyment",
          "Weights": -0.04146150011819725
         },
         {
          "Category": "sub-future wage loss",
          "Features": "suffering",
          "Weights": -0.04491825966905927
         },
         {
          "Category": "sub-future wage loss",
          "Features": "range",
          "Weights": -0.03680477188796574
         },
         {
          "Category": "sub-future wage loss",
          "Features": "range@Before",
          "Weights": -0.03350413922986847
         },
         {
          "Category": "sub-future wage loss",
          "Features": "seeks",
          "Weights": -0.03330933375869511
         },
         {
          "Category": "sub-future wage loss",
          "Features": "seeks@Before",
          "Weights": -0.031870757064573506
         },
         {
          "Category": "sub-future wage loss",
          "Features": "next word=per",
          "Weights": -0.0533510300748518
         },
         {
          "Category": "sub-future wage loss",
          "Features": "next word=past",
          "Weights": -0.08770745655343794
         },
         {
          "Category": "sub-future wage loss",
          "Features": "past",
          "Weights": -0.3892758325910109
         },
         {
          "Category": "sub-future wage loss",
          "Features": "past@Before",
          "Weights": -0.1853896344186231
         },
         {
          "Category": "sub-future wage loss",
          "Features": "income",
          "Weights": -0.37843204865880237
         },
         {
          "Category": "sub-future wage loss",
          "Features": "wage",
          "Weights": -0.1307394493368778
         },
         {
          "Category": "sub-future wage loss",
          "Features": "punitive",
          "Weights": -0.0969337458245813
         },
         {
          "Category": "sub-future wage loss",
          "Features": "punitive@Before",
          "Weights": -0.036172565173420004
         },
         {
          "Category": "sub-future wage loss",
          "Features": "next word=punitive",
          "Weights": -0.023336415651587294
         },
         {
          "Category": "sub-future wage loss",
          "Features": "value=$10,000",
          "Weights": -0.11548516741795685
         },
         {
          "Category": "sub-future wage loss",
          "Features": "punitive@After",
          "Weights": -0.06076118065116132
         },
         {
          "Category": "sub-future wage loss",
          "Features": "prev word=reduced",
          "Weights": -0.042324680947705494
         },
         {
          "Category": "sub-future wage loss",
          "Features": "value=$10,000",
          "Weights": -0.11548516741795685
         },
         {
          "Category": "sub-future wage loss",
          "Features": "reduced@Before",
          "Weights": -0.05848647957060559
         },
         {
          "Category": "sub-future wage loss",
          "Features": "reduced",
          "Weights": -0.135579903794183
         },
         {
          "Category": "sub-future wage loss",
          "Features": "failure@After",
          "Weights": -0.023498852371039353
         },
         {
          "Category": "sub-future wage loss",
          "Features": "prev word=reduced",
          "Weights": -0.042324680947705494
         },
         {
          "Category": "sub-future wage loss",
          "Features": "reduced@Before",
          "Weights": -0.05848647957060559
         },
         {
          "Category": "sub-future wage loss",
          "Features": "20%@Before",
          "Weights": -0.014639201666391096
         },
         {
          "Category": "sub-future wage loss",
          "Features": "=@Before",
          "Weights": -0.03297902869389858
         },
         {
          "Category": "sub-future wage loss",
          "Features": "discounted@Before",
          "Weights": -0.05590164836315738
         },
         {
          "Category": "sub-future wage loss",
          "Features": "special",
          "Weights": -0.17700050309599596
         },
         {
          "Category": "sub-future wage loss",
          "Features": "special@Before",
          "Weights": -0.13192696918978683
         },
         {
          "Category": "sub-future wage loss",
          "Features": "next word=special",
          "Weights": -0.09960494577465338
         },
         {
          "Category": "sub-future wage loss",
          "Features": "prev word=damages",
          "Weights": -0.20382016443388698
         },
         {
          "Category": "sub-future wage loss",
          "Features": "value=$500",
          "Weights": -0.032671221608040445
         },
         {
          "Category": "sub-future wage loss",
          "Features": "start_idx_ratio",
          "Weights": 0.11205719764168165
         },
         {
          "Category": "sub-future wage loss",
          "Features": "physiotherapy",
          "Weights": -0.04950633908276952
         },
         {
          "Category": "sub-future wage loss",
          "Features": "therapy",
          "Weights": -0.027293666436608147
         },
         {
          "Category": "sub-future wage loss",
          "Features": "occupational",
          "Weights": -0.021694382012087055
         },
         {
          "Category": "sub-future wage loss",
          "Features": "care@Before",
          "Weights": -0.11318238148497646
         },
         {
          "Category": "sub-future wage loss",
          "Features": "value=$160,000",
          "Weights": 0.6216074338338208
         },
         {
          "Category": "sub-future wage loss",
          "Features": "earning",
          "Weights": 0.5400808558294874
         },
         {
          "Category": "sub-future wage loss",
          "Features": "lost",
          "Weights": 0.49949765994213585
         },
         {
          "Category": "sub-future wage loss",
          "Features": "accident",
          "Weights": 0.4834760814763602
         },
         {
          "Category": "sub-future wage loss",
          "Features": "future",
          "Weights": 0.48123558067550365
         },
         {
          "Category": "sub-future wage loss",
          "Features": "general",
          "Weights": -0.15592906443433138
         },
         {
          "Category": "sub-future wage loss",
          "Features": "general@Before",
          "Weights": -0.08929426758245228
         },
         {
          "Category": "sub-future wage loss",
          "Features": "damages",
          "Weights": -0.7443512190838176
         },
         {
          "Category": "sub-future wage loss",
          "Features": "12,",
          "Weights": -0.008942186286806838
         },
         {
          "Category": "sub-future wage loss",
          "Features": "july",
          "Weights": -0.02334499274599141
         },
         {
          "Category": "sub-future wage loss",
          "Features": "value=$250,000",
          "Weights": -0.07819675321052087
         },
         {
          "Category": "sub-future wage loss",
          "Features": "trust@After",
          "Weights": -0.04639263109443262
         },
         {
          "Category": "sub-future wage loss",
          "Features": "trust",
          "Weights": -0.05771417195188862
         },
         {
          "Category": "sub-future wage loss",
          "Features": "claim",
          "Weights": -0.1743859713483251
         },
         {
          "Category": "sub-future wage loss",
          "Features": "sarah@After",
          "Weights": -0.009285326499975616
         },
         {
          "Category": "sub-future wage loss",
          "Features": "accident",
          "Weights": 0.4834760814763602
         },
         {
          "Category": "sub-future wage loss",
          "Features": "value=$75,000",
          "Weights": -0.1326211857643425
         },
         {
          "Category": "sub-future wage loss",
          "Features": "first",
          "Weights": 0.030367172091455123
         },
         {
          "Category": "sub-future wage loss",
          "Features": "non-pecuniary",
          "Weights": 0.20138587926399396
         },
         {
          "Category": "sub-future wage loss",
          "Features": "damages",
          "Weights": -0.7443512190838176
         },
         {
          "Category": "sub-future wage loss",
          "Features": "loss",
          "Weights": 0.28665385657797837
         },
         {
          "Category": "sub-future wage loss",
          "Features": "lost",
          "Weights": 0.49949765994213585
         },
         {
          "Category": "sub-future wage loss",
          "Features": "income@Before",
          "Weights": -0.215957471818686
         },
         {
          "Category": "sub-future wage loss",
          "Features": "income",
          "Weights": -0.37843204865880237
         },
         {
          "Category": "sub-future wage loss",
          "Features": "lost@Before",
          "Weights": 0.05703402126456836
         },
         {
          "Category": "sub-future wage loss",
          "Features": "basis;@After",
          "Weights": -0.004020008602506451
         },
         {
          "Category": "sub-future wage loss",
          "Features": "value=$73,750",
          "Weights": -0.004020008602506451
         },
         {
          "Category": "sub-future wage loss",
          "Features": "basis;",
          "Weights": -0.004020008602506451
         },
         {
          "Category": "sub-future wage loss",
          "Features": "$295,000@Before",
          "Weights": -0.004020008602506451
         },
         {
          "Category": "sub-future wage loss",
          "Features": "$295,000",
          "Weights": -0.0048194978555657795
         },
         {
          "Category": "sub-future wage loss",
          "Features": "housekeeping",
          "Weights": -0.1378999490641141
         },
         {
          "Category": "sub-future wage loss",
          "Features": "special",
          "Weights": -0.17700050309599596
         },
         {
          "Category": "sub-future wage loss",
          "Features": "capacity,",
          "Weights": -0.10037521836451088
         },
         {
          "Category": "sub-future wage loss",
          "Features": "housekeeping@Before",
          "Weights": -0.05922718475190042
         },
         {
          "Category": "sub-future wage loss",
          "Features": "physiotherapy",
          "Weights": -0.04950633908276952
         },
         {
          "Category": "sub-future wage loss",
          "Features": "claim",
          "Weights": -0.1743859713483251
         },
         {
          "Category": "sub-future wage loss",
          "Features": "judgment",
          "Weights": -0.05474747816519548
         },
         {
          "Category": "sub-future wage loss",
          "Features": "home;",
          "Weights": -0.00939873866835574
         },
         {
          "Category": "sub-future wage loss",
          "Features": "negotiate",
          "Weights": -0.015174965981566476
         },
         {
          "Category": "sub-future wage loss",
          "Features": "claim@After",
          "Weights": -0.08411743749063597
         },
         {
          "Category": "sub-future wage loss",
          "Features": "total@Before",
          "Weights": -0.19937342541163292
         },
         {
          "Category": "sub-future wage loss",
          "Features": "prev word=total:",
          "Weights": -0.03714390188313919
         },
         {
          "Category": "sub-future wage loss",
          "Features": "total:@Before",
          "Weights": -0.03714390188313919
         },
         {
          "Category": "sub-future wage loss",
          "Features": "allowed",
          "Weights": -0.0412797320911062
         },
         {
          "Category": "sub-future wage loss",
          "Features": "total:",
          "Weights": -0.08250905725594387
         },
         {
          "Category": "sub-future wage loss",
          "Features": "value=$76,653",
          "Weights": -0.007348641279176298
         },
         {
          "Category": "sub-future wage loss",
          "Features": "value=$65,920",
          "Weights": -0.005149659737951021
         },
         {
          "Category": "sub-future wage loss",
          "Features": "judgment@Before",
          "Weights": -0.04715754838572583
         },
         {
          "Category": "sub-future wage loss",
          "Features": "value=$62,500",
          "Weights": -0.01979512798191722
         },
         {
          "Category": "sub-future wage loss",
          "Features": "judgment",
          "Weights": -0.05474747816519548
         },
         {
          "Category": "sub-general",
          "Features": "aggravated",
          "Weights": -0.1376125765357997
         },
         {
          "Category": "sub-general",
          "Features": "aggravated@After",
          "Weights": -0.07063484775887714
         },
         {
          "Category": "sub-general",
          "Features": "next word=aggravated",
          "Weights": -0.020042278896215543
         },
         {
          "Category": "sub-general",
          "Features": "aggravated@Before",
          "Weights": -0.06697772877692247
         },
         {
          "Category": "sub-general",
          "Features": "value=$2,500",
          "Weights": 0.2676349130103137
         },
         {
          "Category": "sub-general",
          "Features": "future",
          "Weights": -0.06983157935360486
         },
         {
          "Category": "sub-general",
          "Features": "next word=cost",
          "Weights": 0.10961072698405341
         },
         {
          "Category": "sub-general",
          "Features": "care,@After",
          "Weights": -0.018755656626246578
         },
         {
          "Category": "sub-general",
          "Features": "special@After",
          "Weights": -0.08249844740322583
         },
         {
          "Category": "sub-general",
          "Features": "care.@After",
          "Weights": -0.021290989405624867
         },
         {
          "Category": "sub-general",
          "Features": "value=$20,000",
          "Weights": 0.32011957138781705
         },
         {
          "Category": "sub-general",
          "Features": "future",
          "Weights": -0.06983157935360486
         },
         {
          "Category": "sub-general",
          "Features": "capacity,@After",
          "Weights": -0.03163557735463894
         },
         {
          "Category": "sub-general",
          "Features": "next word=loss",
          "Weights": 0.04912721758297207
         },
         {
          "Category": "sub-general",
          "Features": "loss,",
          "Weights": -0.04107636428500829
         },
         {
          "Category": "sub-general",
          "Features": "general",
          "Weights": 0.9513962030555145
         },
         {
          "Category": "sub-general",
          "Features": "general@Before",
          "Weights": 0.6331211451498111
         },
         {
          "Category": "sub-general",
          "Features": "value=$50,000",
          "Weights": 0.16719886007416473
         },
         {
          "Category": "sub-general",
          "Features": "value=$7,500",
          "Weights": -0.0453640497065692
         },
         {
          "Category": "sub-general",
          "Features": "past@After",
          "Weights": 0.2605177675533338
         },
         {
          "Category": "sub-general",
          "Features": "in-trust",
          "Weights": -0.044464249973399525
         },
         {
          "Category": "sub-general",
          "Features": "trust",
          "Weights": -0.04798797590300996
         },
         {
          "Category": "sub-general",
          "Features": "in-trust@Before",
          "Weights": -0.02620555335583195
         },
         {
          "Category": "sub-general",
          "Features": "trust@After",
          "Weights": -0.034019756923152816
         },
         {
          "Category": "sub-general",
          "Features": "next word=trust",
          "Weights": -0.01329228520406637
         },
         {
          "Category": "sub-general",
          "Features": "non-pecuniary",
          "Weights": -0.35329917086041024
         },
         {
          "Category": "sub-general",
          "Features": "next word=non-pecuniary",
          "Weights": -0.11578459061182532
         },
         {
          "Category": "sub-general",
          "Features": "non-pecuniary@Before",
          "Weights": -0.19411799366647672
         },
         {
          "Category": "sub-general",
          "Features": "enjoyment",
          "Weights": -0.025846360456730125
         },
         {
          "Category": "sub-general",
          "Features": "suffering",
          "Weights": -0.02924132085418234
         },
         {
          "Category": "sub-general",
          "Features": "range",
          "Weights": -0.03227081343715249
         },
         {
          "Category": "sub-general",
          "Features": "range@Before",
          "Weights": -0.030181144041676773
         },
         {
          "Category": "sub-general",
          "Features": "seeks",
          "Weights": -0.019231454817125862
         },
         {
          "Category": "sub-general",
          "Features": "seeks@Before",
          "Weights": -0.017849239986452697
         },
         {
          "Category": "sub-general",
          "Features": "next word=per",
          "Weights": -0.04621875452211864
         },
         {
          "Category": "sub-general",
          "Features": "next word=past",
          "Weights": -0.11199250916073299
         },
         {
          "Category": "sub-general",
          "Features": "past",
          "Weights": 0.19844525178163838
         },
         {
          "Category": "sub-general",
          "Features": "past@Before",
          "Weights": -0.06207251577169551
         },
         {
          "Category": "sub-general",
          "Features": "income",
          "Weights": -0.06196656231658017
         },
         {
          "Category": "sub-general",
          "Features": "wage",
          "Weights": -0.07325008889411336
         },
         {
          "Category": "sub-general",
          "Features": "punitive",
          "Weights": 0.1131322315960639
         },
         {
          "Category": "sub-general",
          "Features": "punitive@Before",
          "Weights": -0.04739181859787693
         },
         {
          "Category": "sub-general",
          "Features": "next word=punitive",
          "Weights": -0.05364688969252938
         },
         {
          "Category": "sub-general",
          "Features": "value=$10,000",
          "Weights": -0.1231623195105016
         },
         {
          "Category": "sub-general",
          "Features": "punitive@After",
          "Weights": 0.16052405019394075
         },
         {
          "Category": "sub-general",
          "Features": "prev word=reduced",
          "Weights": -0.04192252165071192
         },
         {
          "Category": "sub-general",
          "Features": "value=$10,000",
          "Weights": -0.1231623195105016
         },
         {
          "Category": "sub-general",
          "Features": "reduced@Before",
          "Weights": -0.05201740841726127
         },
         {
          "Category": "sub-general",
          "Features": "reduced",
          "Weights": -0.1097870250727405
         },
         {
          "Category": "sub-general",
          "Features": "failure@After",
          "Weights": -0.04331410280200071
         },
         {
          "Category": "sub-general",
          "Features": "prev word=reduced",
          "Weights": -0.04192252165071192
         },
         {
          "Category": "sub-general",
          "Features": "reduced@Before",
          "Weights": -0.05201740841726127
         },
         {
          "Category": "sub-general",
          "Features": "20%@Before",
          "Weights": -0.0021776980544410142
         },
         {
          "Category": "sub-general",
          "Features": "=@Before",
          "Weights": -0.009575664393605396
         },
         {
          "Category": "sub-general",
          "Features": "discounted@Before",
          "Weights": -0.012310569089770582
         },
         {
          "Category": "sub-general",
          "Features": "special",
          "Weights": -0.24714545957881673
         },
         {
          "Category": "sub-general",
          "Features": "special@Before",
          "Weights": -0.16464701217559108
         },
         {
          "Category": "sub-general",
          "Features": "next word=special",
          "Weights": -0.13082383568707118
         },
         {
          "Category": "sub-general",
          "Features": "prev word=damages",
          "Weights": -0.15949166655739871
         },
         {
          "Category": "sub-general",
          "Features": "value=$500",
          "Weights": -0.033098995856451534
         },
         {
          "Category": "sub-general",
          "Features": "start_idx_ratio",
          "Weights": 0.12174985453608447
         },
         {
          "Category": "sub-general",
          "Features": "physiotherapy",
          "Weights": -0.04463640251753677
         },
         {
          "Category": "sub-general",
          "Features": "therapy",
          "Weights": -0.027346120708330177
         },
         {
          "Category": "sub-general",
          "Features": "occupational",
          "Weights": -0.01982501811219678
         },
         {
          "Category": "sub-general",
          "Features": "care@Before",
          "Weights": 0.1060934837913232
         },
         {
          "Category": "sub-general",
          "Features": "value=$160,000",
          "Weights": -0.007326433170558183
         },
         {
          "Category": "sub-general",
          "Features": "earning",
          "Weights": 0.13440945633257415
         },
         {
          "Category": "sub-general",
          "Features": "lost",
          "Weights": -0.13572864431084863
         },
         {
          "Category": "sub-general",
          "Features": "accident",
          "Weights": 0.4418273034894346
         },
         {
          "Category": "sub-general",
          "Features": "future",
          "Weights": -0.06983157935360486
         },
         {
          "Category": "sub-general",
          "Features": "general",
          "Weights": 0.9513962030555145
         },
         {
          "Category": "sub-general",
          "Features": "general@Before",
          "Weights": 0.6331211451498111
         },
         {
          "Category": "sub-general",
          "Features": "damages",
          "Weights": 0.5688725694913365
         },
         {
          "Category": "sub-general",
          "Features": "12,",
          "Weights": 0.4915680406275471
         },
         {
          "Category": "sub-general",
          "Features": "july",
          "Weights": 0.48171378501174905
         },
         {
          "Category": "sub-general",
          "Features": "value=$250,000",
          "Weights": -0.02401476937640697
         },
         {
          "Category": "sub-general",
          "Features": "trust@After",
          "Weights": -0.034019756923152816
         },
         {
          "Category": "sub-general",
          "Features": "trust",
          "Weights": -0.04798797590300996
         },
         {
          "Category": "sub-general",
          "Features": "claim",
          "Weights": -0.11294331941760546
         },
         {
          "Category": "sub-general",
          "Features": "sarah@After",
          "Weights": -0.006292926531029735
         },
         {
          "Category": "sub-general",
          "Features": "accident",
          "Weights": 0.4418273034894346
         },
         {
          "Category": "sub-general",
          "Features": "value=$75,000",
          "Weights": -0.05853174955010543
         },
         {
          "Category": "sub-general",
          "Features": "first",
          "Weights": 0.19352544387931553
         },
         {
          "Category": "sub-general",
          "Features": "non-pecuniary",
          "Weights": -0.35329917086041024
         },
         {
          "Category": "sub-general",
          "Features": "damages",
          "Weights": 0.5688725694913365
         },
         {
          "Category": "sub-general",
          "Features": "loss",
          "Weights": -0.037628412206506784
         },
         {
          "Category": "sub-general",
          "Features": "lost",
          "Weights": -0.13572864431084863
         },
         {
          "Category": "sub-general",
          "Features": "income@Before",
          "Weights": -0.09015072732405234
         },
         {
          "Category": "sub-general",
          "Features": "income",
          "Weights": -0.06196656231658017
         },
         {
          "Category": "sub-general",
          "Features": "lost@Before",
          "Weights": -0.03367566157920059
         },
         {
          "Category": "sub-general",
          "Features": "basis;@After",
          "Weights": -0.0024082778602660146
         },
         {
          "Category": "sub-general",
          "Features": "value=$73,750",
          "Weights": -0.0024082778602660146
         },
         {
          "Category": "sub-general",
          "Features": "basis;",
          "Weights": -0.0024082778602660146
         },
         {
          "Category": "sub-general",
          "Features": "$295,000@Before",
          "Weights": -0.0024082778602660146
         },
         {
          "Category": "sub-general",
          "Features": "$295,000",
          "Weights": -0.0029810553470762005
         },
         {
          "Category": "sub-general",
          "Features": "housekeeping",
          "Weights": -0.04920668386681398
         },
         {
          "Category": "sub-general",
          "Features": "special",
          "Weights": -0.24714545957881673
         },
         {
          "Category": "sub-general",
          "Features": "capacity,",
          "Weights": -0.06778964526287372
         },
         {
          "Category": "sub-general",
          "Features": "housekeeping@Before",
          "Weights": -0.016579037211404697
         },
         {
          "Category": "sub-general",
          "Features": "physiotherapy",
          "Weights": -0.04463640251753677
         },
         {
          "Category": "sub-general",
          "Features": "claim",
          "Weights": -0.11294331941760546
         },
         {
          "Category": "sub-general",
          "Features": "judgment",
          "Weights": -0.04136674014515993
         },
         {
          "Category": "sub-general",
          "Features": "home;",
          "Weights": -0.004447252282730048
         },
         {
          "Category": "sub-general",
          "Features": "negotiate",
          "Weights": -0.02948125118211105
         },
         {
          "Category": "sub-general",
          "Features": "claim@After",
          "Weights": -0.052178348566828056
         },
         {
          "Category": "sub-general",
          "Features": "total@Before",
          "Weights": -0.09637724923672358
         },
         {
          "Category": "sub-general",
          "Features": "prev word=total:",
          "Weights": -0.01644677855481305
         },
         {
          "Category": "sub-general",
          "Features": "total:@Before",
          "Weights": -0.01644677855481305
         },
         {
          "Category": "sub-general",
          "Features": "allowed",
          "Weights": -0.06067043625559931
         },
         {
          "Category": "sub-general",
          "Features": "total:",
          "Weights": -0.04700901572181437
         },
         {
          "Category": "sub-general",
          "Features": "value=$76,653",
          "Weights": -0.007036801215772122
         },
         {
          "Category": "sub-general",
          "Features": "value=$65,920",
          "Weights": -0.01563480952938307
         },
         {
          "Category": "sub-general",
          "Features": "judgment@Before",
          "Weights": -0.030459093977977556
         },
         {
          "Category": "sub-general",
          "Features": "value=$62,500",
          "Weights": -0.014242961129291255
         },
         {
          "Category": "sub-general",
          "Features": "judgment",
          "Weights": -0.04136674014515993
         },
         {
          "Category": "sub-in trust",
          "Features": "aggravated",
          "Weights": -0.029038782512572987
         },
         {
          "Category": "sub-in trust",
          "Features": "aggravated@After",
          "Weights": -0.011836520403611656
         },
         {
          "Category": "sub-in trust",
          "Features": "next word=aggravated",
          "Weights": -0.005497966636733356
         },
         {
          "Category": "sub-in trust",
          "Features": "aggravated@Before",
          "Weights": -0.017202262108961336
         },
         {
          "Category": "sub-in trust",
          "Features": "value=$2,500",
          "Weights": -0.01654957385424456
         },
         {
          "Category": "sub-in trust",
          "Features": "future",
          "Weights": -0.2505510427719392
         },
         {
          "Category": "sub-in trust",
          "Features": "next word=cost",
          "Weights": -0.04117746282311703
         },
         {
          "Category": "sub-in trust",
          "Features": "care,@After",
          "Weights": -0.011659170277843998
         },
         {
          "Category": "sub-in trust",
          "Features": "special@After",
          "Weights": -0.12010903027596201
         },
         {
          "Category": "sub-in trust",
          "Features": "care.@After",
          "Weights": -0.009954397502926518
         },
         {
          "Category": "sub-in trust",
          "Features": "value=$20,000",
          "Weights": -0.06928052598877549
         },
         {
          "Category": "sub-in trust",
          "Features": "future",
          "Weights": -0.2505510427719392
         },
         {
          "Category": "sub-in trust",
          "Features": "capacity,@After",
          "Weights": -0.01701020182805889
         },
         {
          "Category": "sub-in trust",
          "Features": "next word=loss",
          "Weights": -0.051318304772974485
         },
         {
          "Category": "sub-in trust",
          "Features": "loss,",
          "Weights": -0.0257987238870866
         },
         {
          "Category": "sub-in trust",
          "Features": "general",
          "Weights": -0.08657604717240674
         },
         {
          "Category": "sub-in trust",
          "Features": "general@Before",
          "Weights": -0.04707322112373198
         },
         {
          "Category": "sub-in trust",
          "Features": "value=$50,000",
          "Weights": -0.05703754658155283
         },
         {
          "Category": "sub-in trust",
          "Features": "value=$7,500",
          "Weights": 0.338289336694394
         },
         {
          "Category": "sub-in trust",
          "Features": "past@After",
          "Weights": 0.11038636673581906
         },
         {
          "Category": "sub-in trust",
          "Features": "in-trust",
          "Weights": 0.4603169169638008
         },
         {
          "Category": "sub-in trust",
          "Features": "trust",
          "Weights": 0.5713068111539985
         },
         {
          "Category": "sub-in trust",
          "Features": "in-trust@Before",
          "Weights": 0.30419084992599904
         },
         {
          "Category": "sub-in trust",
          "Features": "trust@After",
          "Weights": 0.5835192613375059
         },
         {
          "Category": "sub-in trust",
          "Features": "next word=trust",
          "Weights": -0.015430826360050815
         },
         {
          "Category": "sub-in trust",
          "Features": "non-pecuniary",
          "Weights": -0.15980990452765292
         },
         {
          "Category": "sub-in trust",
          "Features": "next word=non-pecuniary",
          "Weights": -0.04446171537665508
         },
         {
          "Category": "sub-in trust",
          "Features": "non-pecuniary@Before",
          "Weights": -0.0912058032975516
         },
         {
          "Category": "sub-in trust",
          "Features": "enjoyment",
          "Weights": -0.018334385572761847
         },
         {
          "Category": "sub-in trust",
          "Features": "suffering",
          "Weights": -0.020511504276848242
         },
         {
          "Category": "sub-in trust",
          "Features": "range",
          "Weights": -0.02035689564158767
         },
         {
          "Category": "sub-in trust",
          "Features": "range@Before",
          "Weights": -0.018722837887190813
         },
         {
          "Category": "sub-in trust",
          "Features": "seeks",
          "Weights": -0.015481583165473753
         },
         {
          "Category": "sub-in trust",
          "Features": "seeks@Before",
          "Weights": -0.01447696618132565
         },
         {
          "Category": "sub-in trust",
          "Features": "next word=per",
          "Weights": -0.035586425979903705
         },
         {
          "Category": "sub-in trust",
          "Features": "next word=past",
          "Weights": -0.0400637916079709
         },
         {
          "Category": "sub-in trust",
          "Features": "past",
          "Weights": 0.06635861264920954
         },
         {
          "Category": "sub-in trust",
          "Features": "past@Before",
          "Weights": -0.04402775408660951
         },
         {
          "Category": "sub-in trust",
          "Features": "income",
          "Weights": -0.13204317908186075
         },
         {
          "Category": "sub-in trust",
          "Features": "wage",
          "Weights": -0.04516393977187915
         },
         {
          "Category": "sub-in trust",
          "Features": "punitive",
          "Weights": -0.046220863109505315
         },
         {
          "Category": "sub-in trust",
          "Features": "punitive@Before",
          "Weights": -0.017344653222354237
         },
         {
          "Category": "sub-in trust",
          "Features": "next word=punitive",
          "Weights": -0.01137784967246868
         },
         {
          "Category": "sub-in trust",
          "Features": "value=$10,000",
          "Weights": -0.057914721173193406
         },
         {
          "Category": "sub-in trust",
          "Features": "punitive@After",
          "Weights": -0.028876209887151075
         },
         {
          "Category": "sub-in trust",
          "Features": "prev word=reduced",
          "Weights": -0.02245763707960847
         },
         {
          "Category": "sub-in trust",
          "Features": "value=$10,000",
          "Weights": -0.057914721173193406
         },
         {
          "Category": "sub-in trust",
          "Features": "reduced@Before",
          "Weights": -0.03048924646915328
         },
         {
          "Category": "sub-in trust",
          "Features": "reduced",
          "Weights": -0.0582909407247435
         },
         {
          "Category": "sub-in trust",
          "Features": "failure@After",
          "Weights": -0.024808281291782017
         },
         {
          "Category": "sub-in trust",
          "Features": "prev word=reduced",
          "Weights": -0.02245763707960847
         },
         {
          "Category": "sub-in trust",
          "Features": "reduced@Before",
          "Weights": -0.03048924646915328
         },
         {
          "Category": "sub-in trust",
          "Features": "20%@Before",
          "Weights": -0.0021524932937437447
         },
         {
          "Category": "sub-in trust",
          "Features": "=@Before",
          "Weights": -0.007244374675021196
         },
         {
          "Category": "sub-in trust",
          "Features": "discounted@Before",
          "Weights": -0.010763804282044494
         },
         {
          "Category": "sub-in trust",
          "Features": "special",
          "Weights": -0.2083972207896865
         },
         {
          "Category": "sub-in trust",
          "Features": "special@Before",
          "Weights": -0.0882881905137247
         },
         {
          "Category": "sub-in trust",
          "Features": "next word=special",
          "Weights": -0.05497290143174143
         },
         {
          "Category": "sub-in trust",
          "Features": "prev word=damages",
          "Weights": -0.11522566697988647
         },
         {
          "Category": "sub-in trust",
          "Features": "value=$500",
          "Weights": -0.018090512186742826
         },
         {
          "Category": "sub-in trust",
          "Features": "start_idx_ratio",
          "Weights": -0.3090610546639272
         },
         {
          "Category": "sub-in trust",
          "Features": "physiotherapy",
          "Weights": -0.029965414081805107
         },
         {
          "Category": "sub-in trust",
          "Features": "therapy",
          "Weights": -0.01964073784318221
         },
         {
          "Category": "sub-in trust",
          "Features": "occupational",
          "Weights": -0.015115677999283593
         },
         {
          "Category": "sub-in trust",
          "Features": "care@Before",
          "Weights": -0.06133786223919175
         },
         {
          "Category": "sub-in trust",
          "Features": "value=$160,000",
          "Weights": -0.006001585440784994
         },
         {
          "Category": "sub-in trust",
          "Features": "earning",
          "Weights": -0.1343170247500362
         },
         {
          "Category": "sub-in trust",
          "Features": "lost",
          "Weights": -0.06863315981368481
         },
         {
          "Category": "sub-in trust",
          "Features": "accident",
          "Weights": -0.08731372994240762
         },
         {
          "Category": "sub-in trust",
          "Features": "future",
          "Weights": -0.2505510427719392
         },
         {
          "Category": "sub-in trust",
          "Features": "general",
          "Weights": -0.08657604717240674
         },
         {
          "Category": "sub-in trust",
          "Features": "general@Before",
          "Weights": -0.04707322112373198
         },
         {
          "Category": "sub-in trust",
          "Features": "damages",
          "Weights": -0.43418227122714087
         },
         {
          "Category": "sub-in trust",
          "Features": "12,",
          "Weights": -0.00429349304602225
         },
         {
          "Category": "sub-in trust",
          "Features": "july",
          "Weights": -0.012118766636073464
         },
         {
          "Category": "sub-in trust",
          "Features": "value=$250,000",
          "Weights": 0.5978142078065206
         },
         {
          "Category": "sub-in trust",
          "Features": "trust@After",
          "Weights": 0.5835192613375059
         },
         {
          "Category": "sub-in trust",
          "Features": "trust",
          "Weights": 0.5713068111539985
         },
         {
          "Category": "sub-in trust",
          "Features": "claim",
          "Weights": 0.5275536654827424
         },
         {
          "Category": "sub-in trust",
          "Features": "sarah@After",
          "Weights": 0.4854740259393908
         },
         {
          "Category": "sub-in trust",
          "Features": "accident",
          "Weights": -0.08731372994240762
         },
         {
          "Category": "sub-in trust",
          "Features": "value=$75,000",
          "Weights": -0.025675892680094296
         },
         {
          "Category": "sub-in trust",
          "Features": "first",
          "Weights": -0.033340060611637225
         },
         {
          "Category": "sub-in trust",
          "Features": "non-pecuniary",
          "Weights": -0.15980990452765292
         },
         {
          "Category": "sub-in trust",
          "Features": "damages",
          "Weights": -0.43418227122714087
         },
         {
          "Category": "sub-in trust",
          "Features": "loss",
          "Weights": -0.14919015071394975
         },
         {
          "Category": "sub-in trust",
          "Features": "lost",
          "Weights": -0.06863315981368481
         },
         {
          "Category": "sub-in trust",
          "Features": "income@Before",
          "Weights": -0.07381877224404497
         },
         {
          "Category": "sub-in trust",
          "Features": "income",
          "Weights": -0.13204317908186075
         },
         {
          "Category": "sub-in trust",
          "Features": "lost@Before",
          "Weights": -0.02823579404429323
         },
         {
          "Category": "sub-in trust",
          "Features": "basis;@After",
          "Weights": -0.002067818761877165
         },
         {
          "Category": "sub-in trust",
          "Features": "value=$73,750",
          "Weights": -0.002067818761877165
         },
         {
          "Category": "sub-in trust",
          "Features": "basis;",
          "Weights": -0.002067818761877165
         },
         {
          "Category": "sub-in trust",
          "Features": "$295,000@Before",
          "Weights": -0.002067818761877165
         },
         {
          "Category": "sub-in trust",
          "Features": "$295,000",
          "Weights": -0.002373403283912223
         },
         {
          "Category": "sub-in trust",
          "Features": "housekeeping",
          "Weights": -0.029336948820534153
         },
         {
          "Category": "sub-in trust",
          "Features": "special",
          "Weights": -0.2083972207896865
         },
         {
          "Category": "sub-in trust",
          "Features": "capacity,",
          "Weights": -0.04549652536795145
         },
         {
          "Category": "sub-in trust",
          "Features": "housekeeping@Before",
          "Weights": -0.012381507193023987
         },
         {
          "Category": "sub-in trust",
          "Features": "physiotherapy",
          "Weights": -0.029965414081805107
         },
         {
          "Category": "sub-in trust",
          "Features": "claim",
          "Weights": 0.5275536654827424
         },
         {
          "Category": "sub-in trust",
          "Features": "judgment",
          "Weights": -0.05309647155062883
         },
         {
          "Category": "sub-in trust",
          "Features": "home;",
          "Weights": -0.003470216978846767
         },
         {
          "Category": "sub-in trust",
          "Features": "negotiate",
          "Weights": -0.007023791619389281
         },
         {
          "Category": "sub-in trust",
          "Features": "claim@After",
          "Weights": 0.09830636790702359
         },
         {
          "Category": "sub-in trust",
          "Features": "total@Before",
          "Weights": -0.09277936507655352
         },
         {
          "Category": "sub-in trust",
          "Features": "prev word=total:",
          "Weights": -0.019951580061638104
         },
         {
          "Category": "sub-in trust",
          "Features": "total:@Before",
          "Weights": -0.019951580061638104
         },
         {
          "Category": "sub-in trust",
          "Features": "allowed",
          "Weights": -0.022661574544483955
         },
         {
          "Category": "sub-in trust",
          "Features": "total:",
          "Weights": -0.04050851302316031
         },
         {
          "Category": "sub-in trust",
          "Features": "value=$76,653",
          "Weights": -0.0048117262133724045
         },
         {
          "Category": "sub-in trust",
          "Features": "value=$65,920",
          "Weights": -0.004401548685720485
         },
         {
          "Category": "sub-in trust",
          "Features": "judgment@Before",
          "Weights": -0.04122246441889448
         },
         {
          "Category": "sub-in trust",
          "Features": "value=$62,500",
          "Weights": -0.005878370973167406
         },
         {
          "Category": "sub-in trust",
          "Features": "judgment",
          "Weights": -0.05309647155062883
         },
         {
          "Category": "sub-non pecuniary",
          "Features": "aggravated",
          "Weights": -0.05113706311904552
         },
         {
          "Category": "sub-non pecuniary",
          "Features": "aggravated@After",
          "Weights": -0.025864760353019687
         },
         {
          "Category": "sub-non pecuniary",
          "Features": "next word=aggravated",
          "Weights": -0.013712193183911887
         },
         {
          "Category": "sub-non pecuniary",
          "Features": "aggravated@Before",
          "Weights": -0.025272302766025833
         },
         {
          "Category": "sub-non pecuniary",
          "Features": "value=$2,500",
          "Weights": -0.031835245979254134
         },
         {
          "Category": "sub-non pecuniary",
          "Features": "future",
          "Weights": -0.26222182423929874
         },
         {
          "Category": "sub-non pecuniary",
          "Features": "next word=cost",
          "Weights": -0.04935440554890465
         },
         {
          "Category": "sub-non pecuniary",
          "Features": "care,@After",
          "Weights": -0.015529318315397824
         },
         {
          "Category": "sub-non pecuniary",
          "Features": "special@After",
          "Weights": -0.21768613163063397
         },
         {
          "Category": "sub-non pecuniary",
          "Features": "care.@After",
          "Weights": -0.014416391767394001
         },
         {
          "Category": "sub-non pecuniary",
          "Features": "value=$20,000",
          "Weights": 0.06497979917293199
         },
         {
          "Category": "sub-non pecuniary",
          "Features": "future",
          "Weights": -0.26222182423929874
         },
         {
          "Category": "sub-non pecuniary",
          "Features": "capacity,@After",
          "Weights": -0.018368990198627533
         },
         {
          "Category": "sub-non pecuniary",
          "Features": "next word=loss",
          "Weights": -0.07057063345136265
         },
         {
          "Category": "sub-non pecuniary",
          "Features": "loss,",
          "Weights": -0.03989776400813138
         },
         {
          "Category": "sub-non pecuniary",
          "Features": "general",
          "Weights": -0.19051011430253217
         },
         {
          "Category": "sub-non pecuniary",
          "Features": "general@Before",
          "Weights": -0.08594078484813282
         },
         {
          "Category": "sub-non pecuniary",
          "Features": "value=$50,000",
          "Weights": -0.09155831498374825
         },
         {
          "Category": "sub-non pecuniary",
          "Features": "value=$7,500",
          "Weights": 0.3042978549371356
         },
         {
          "Category": "sub-non pecuniary",
          "Features": "past@After",
          "Weights": 0.21032317557261607
         },
         {
          "Category": "sub-non pecuniary",
          "Features": "in-trust",
          "Weights": -0.029099074360957083
         },
         {
          "Category": "sub-non pecuniary",
          "Features": "trust",
          "Weights": -0.03160055361738281
         },
         {
          "Category": "sub-non pecuniary",
          "Features": "in-trust@Before",
          "Weights": -0.01843071602503007
         },
         {
          "Category": "sub-non pecuniary",
          "Features": "trust@After",
          "Weights": -0.02281234623146873
         },
         {
          "Category": "sub-non pecuniary",
          "Features": "next word=trust",
          "Weights": -0.010270977403516719
         },
         {
          "Category": "sub-non pecuniary",
          "Features": "non-pecuniary",
          "Weights": 0.7637021674080258
         },
         {
          "Category": "sub-non pecuniary",
          "Features": "next word=non-pecuniary",
          "Weights": 0.6106519734067958
         },
         {
          "Category": "sub-non pecuniary",
          "Features": "non-pecuniary@Before",
          "Weights": 0.14671771064215813
         },
         {
          "Category": "sub-non pecuniary",
          "Features": "enjoyment",
          "Weights": -0.019423129277100815
         },
         {
          "Category": "sub-non pecuniary",
          "Features": "suffering",
          "Weights": -0.02346727994447825
         },
         {
          "Category": "sub-non pecuniary",
          "Features": "range",
          "Weights": -0.029237101912199515
         },
         {
          "Category": "sub-non pecuniary",
          "Features": "range@Before",
          "Weights": -0.0272858290055516
         },
         {
          "Category": "sub-non pecuniary",
          "Features": "seeks",
          "Weights": -0.015913889340620303
         },
         {
          "Category": "sub-non pecuniary",
          "Features": "seeks@Before",
          "Weights": -0.014345708164358501
         },
         {
          "Category": "sub-non pecuniary",
          "Features": "next word=per",
          "Weights": -0.03770309549985248
         },
         {
          "Category": "sub-non pecuniary",
          "Features": "next word=past",
          "Weights": -0.0602540516879286
         },
         {
          "Category": "sub-non pecuniary",
          "Features": "past",
          "Weights": 0.17065482700080042
         },
         {
          "Category": "sub-non pecuniary",
          "Features": "past@Before",
          "Weights": -0.03966834857181549
         },
         {
          "Category": "sub-non pecuniary",
          "Features": "income",
          "Weights": -0.14922757771040712
         },
         {
          "Category": "sub-non pecuniary",
          "Features": "wage",
          "Weights": 0.1211002113986125
         },
         {
          "Category": "sub-non pecuniary",
          "Features": "punitive",
          "Weights": -0.09271380253826526
         },
         {
          "Category": "sub-non pecuniary",
          "Features": "punitive@Before",
          "Weights": -0.0319296596273609
         },
         {
          "Category": "sub-non pecuniary",
          "Features": "next word=punitive",
          "Weights": -0.02853703038281066
         },
         {
          "Category": "sub-non pecuniary",
          "Features": "value=$10,000",
          "Weights": -0.11710484570605091
         },
         {
          "Category": "sub-non pecuniary",
          "Features": "punitive@After",
          "Weights": -0.060784142910904455
         },
         {
          "Category": "sub-non pecuniary",
          "Features": "prev word=reduced",
          "Weights": -0.047551216260615495
         },
         {
          "Category": "sub-non pecuniary",
          "Features": "value=$10,000",
          "Weights": -0.11710484570605091
         },
         {
          "Category": "sub-non pecuniary",
          "Features": "reduced@Before",
          "Weights": -0.05345218463662892
         },
         {
          "Category": "sub-non pecuniary",
          "Features": "reduced",
          "Weights": 0.001078728988535741
         },
         {
          "Category": "sub-non pecuniary",
          "Features": "failure@After",
          "Weights": 0.21084233146907796
         },
         {
          "Category": "sub-non pecuniary",
          "Features": "prev word=reduced",
          "Weights": -0.047551216260615495
         },
         {
          "Category": "sub-non pecuniary",
          "Features": "reduced@Before",
          "Weights": -0.05345218463662892
         },
         {
          "Category": "sub-non pecuniary",
          "Features": "20%@Before",
          "Weights": -0.0014258742107800277
         },
         {
          "Category": "sub-non pecuniary",
          "Features": "=@Before",
          "Weights": -0.010110684713632934
         },
         {
          "Category": "sub-non pecuniary",
          "Features": "discounted@Before",
          "Weights": -0.01398185680941853
         },
         {
          "Category": "sub-non pecuniary",
          "Features": "special",
          "Weights": -0.3556565219760386
         },
         {
          "Category": "sub-non pecuniary",
          "Features": "special@Before",
          "Weights": -0.13797039034540495
         },
         {
          "Category": "sub-non pecuniary",
          "Features": "next word=special",
          "Weights": -0.09789480802198512
         },
         {
          "Category": "sub-non pecuniary",
          "Features": "prev word=damages",
          "Weights": -0.17486209095812558
         },
         {
          "Category": "sub-non pecuniary",
          "Features": "value=$500",
          "Weights": -0.028234398659702575
         },
         {
          "Category": "sub-non pecuniary",
          "Features": "start_idx_ratio",
          "Weights": -0.4647485837070451
         },
         {
          "Category": "sub-non pecuniary",
          "Features": "physiotherapy",
          "Weights": -0.038571238486200615
         },
         {
          "Category": "sub-non pecuniary",
          "Features": "therapy",
          "Weights": -0.023903665319145607
         },
         {
          "Category": "sub-non pecuniary",
          "Features": "occupational",
          "Weights": -0.016170658871192838
         },
         {
          "Category": "sub-non pecuniary",
          "Features": "care@Before",
          "Weights": -0.05515704810561214
         },
         {
          "Category": "sub-non pecuniary",
          "Features": "value=$160,000",
          "Weights": -0.005698935580949555
         },
         {
          "Category": "sub-non pecuniary",
          "Features": "earning",
          "Weights": -0.11086422037215933
         },
         {
          "Category": "sub-non pecuniary",
          "Features": "lost",
          "Weights": -0.08350290809213327
         },
         {
          "Category": "sub-non pecuniary",
          "Features": "accident",
          "Weights": 0.8558688018165753
         },
         {
          "Category": "sub-non pecuniary",
          "Features": "future",
          "Weights": -0.26222182423929874
         },
         {
          "Category": "sub-non pecuniary",
          "Features": "general",
          "Weights": -0.19051011430253217
         },
         {
          "Category": "sub-non pecuniary",
          "Features": "general@Before",
          "Weights": -0.08594078484813282
         },
         {
          "Category": "sub-non pecuniary",
          "Features": "damages",
          "Weights": 0.7017991516070398
         },
         {
          "Category": "sub-non pecuniary",
          "Features": "12,",
          "Weights": -0.0027154989863633224
         },
         {
          "Category": "sub-non pecuniary",
          "Features": "july",
          "Weights": -0.008499519504982622
         },
         {
          "Category": "sub-non pecuniary",
          "Features": "value=$250,000",
          "Weights": -0.005438936067166038
         },
         {
          "Category": "sub-non pecuniary",
          "Features": "trust@After",
          "Weights": -0.02281234623146873
         },
         {
          "Category": "sub-non pecuniary",
          "Features": "trust",
          "Weights": -0.03160055361738281
         },
         {
          "Category": "sub-non pecuniary",
          "Features": "claim",
          "Weights": -0.08722339672801462
         },
         {
          "Category": "sub-non pecuniary",
          "Features": "sarah@After",
          "Weights": -0.004241482157066527
         },
         {
          "Category": "sub-non pecuniary",
          "Features": "accident",
          "Weights": 0.8558688018165753
         },
         {
          "Category": "sub-non pecuniary",
          "Features": "value=$75,000",
          "Weights": 0.8153114230406612
         },
         {
          "Category": "sub-non pecuniary",
          "Features": "first",
          "Weights": 0.7981723158326212
         },
         {
          "Category": "sub-non pecuniary",
          "Features": "non-pecuniary",
          "Weights": 0.7637021674080258
         },
         {
          "Category": "sub-non pecuniary",
          "Features": "damages",
          "Weights": 0.7017991516070398
         },
         {
          "Category": "sub-non pecuniary",
          "Features": "loss",
          "Weights": -0.19570819477495321
         },
         {
          "Category": "sub-non pecuniary",
          "Features": "lost",
          "Weights": -0.08350290809213327
         },
         {
          "Category": "sub-non pecuniary",
          "Features": "income@Before",
          "Weights": -0.06032247706198118
         },
         {
          "Category": "sub-non pecuniary",
          "Features": "income",
          "Weights": -0.14922757771040712
         },
         {
          "Category": "sub-non pecuniary",
          "Features": "lost@Before",
          "Weights": -0.02652127415951916
         },
         {
          "Category": "sub-non pecuniary",
          "Features": "basis;@After",
          "Weights": -0.0011429201119134349
         },
         {
          "Category": "sub-non pecuniary",
          "Features": "value=$73,750",
          "Weights": -0.0011429201119134349
         },
         {
          "Category": "sub-non pecuniary",
          "Features": "basis;",
          "Weights": -0.0011429201119134349
         },
         {
          "Category": "sub-non pecuniary",
          "Features": "$295,000@Before",
          "Weights": -0.0011429201119134349
         },
         {
          "Category": "sub-non pecuniary",
          "Features": "$295,000",
          "Weights": -0.0014301422459984054
         },
         {
          "Category": "sub-non pecuniary",
          "Features": "housekeeping",
          "Weights": -0.03553178566166242
         },
         {
          "Category": "sub-non pecuniary",
          "Features": "special",
          "Weights": -0.3556565219760386
         },
         {
          "Category": "sub-non pecuniary",
          "Features": "capacity,",
          "Weights": -0.04324260175996668
         },
         {
          "Category": "sub-non pecuniary",
          "Features": "housekeeping@Before",
          "Weights": -0.013828282867339047
         },
         {
          "Category": "sub-non pecuniary",
          "Features": "physiotherapy",
          "Weights": -0.038571238486200615
         },
         {
          "Category": "sub-non pecuniary",
          "Features": "claim",
          "Weights": -0.08722339672801462
         },
         {
          "Category": "sub-non pecuniary",
          "Features": "judgment",
          "Weights": -0.022864734134982304
         },
         {
          "Category": "sub-non pecuniary",
          "Features": "home;",
          "Weights": -0.002872570388796386
         },
         {
          "Category": "sub-non pecuniary",
          "Features": "negotiate",
          "Weights": -0.0135399625351269
         },
         {
          "Category": "sub-non pecuniary",
          "Features": "claim@After",
          "Weights": -0.04130375091154529
         },
         {
          "Category": "sub-non pecuniary",
          "Features": "total@Before",
          "Weights": -0.07473941009162262
         },
         {
          "Category": "sub-non pecuniary",
          "Features": "prev word=total:",
          "Weights": -0.010149723507906827
         },
         {
          "Category": "sub-non pecuniary",
          "Features": "total:@Before",
          "Weights": -0.010149723507906827
         },
         {
          "Category": "sub-non pecuniary",
          "Features": "allowed",
          "Weights": -0.028542034254772558
         },
         {
          "Category": "sub-non pecuniary",
          "Features": "total:",
          "Weights": -0.032368202986868655
         },
         {
          "Category": "sub-non pecuniary",
          "Features": "value=$76,653",
          "Weights": -0.005143629466202946
         },
         {
          "Category": "sub-non pecuniary",
          "Features": "value=$65,920",
          "Weights": -0.01091897583095897
         },
         {
          "Category": "sub-non pecuniary",
          "Features": "judgment@Before",
          "Weights": -0.0161671823255944
         },
         {
          "Category": "sub-non pecuniary",
          "Features": "value=$62,500",
          "Weights": -0.008464428145297043
         },
         {
          "Category": "sub-non pecuniary",
          "Features": "judgment",
          "Weights": -0.022864734134982304
         },
         {
          "Category": "sub-past wage loss",
          "Features": "aggravated",
          "Weights": -0.057669546465682696
         },
         {
          "Category": "sub-past wage loss",
          "Features": "aggravated@After",
          "Weights": -0.03685316547959046
         },
         {
          "Category": "sub-past wage loss",
          "Features": "next word=aggravated",
          "Weights": -0.019871125388562807
         },
         {
          "Category": "sub-past wage loss",
          "Features": "aggravated@Before",
          "Weights": -0.020816380986092262
         },
         {
          "Category": "sub-past wage loss",
          "Features": "value=$2,500",
          "Weights": 0.13750003129745283
         },
         {
          "Category": "sub-past wage loss",
          "Features": "future",
          "Weights": -0.3641286550677585
         },
         {
          "Category": "sub-past wage loss",
          "Features": "next word=cost",
          "Weights": -0.08285179441213414
         },
         {
          "Category": "sub-past wage loss",
          "Features": "care,@After",
          "Weights": -0.022159604136502448
         },
         {
          "Category": "sub-past wage loss",
          "Features": "special@After",
          "Weights": 0.0951459412073916
         },
         {
          "Category": "sub-past wage loss",
          "Features": "care.@After",
          "Weights": -0.017977109082187036
         },
         {
          "Category": "sub-past wage loss",
          "Features": "value=$20,000",
          "Weights": -0.3206867732075169
         },
         {
          "Category": "sub-past wage loss",
          "Features": "future",
          "Weights": -0.3641286550677585
         },
         {
          "Category": "sub-past wage loss",
          "Features": "capacity,@After",
          "Weights": -0.1771004378561115
         },
         {
          "Category": "sub-past wage loss",
          "Features": "next word=loss",
          "Weights": 0.4169487111554211
         },
         {
          "Category": "sub-past wage loss",
          "Features": "loss,",
          "Weights": 0.17678046842491393
         },
         {
          "Category": "sub-past wage loss",
          "Features": "general",
          "Weights": -0.14688690059281556
         },
         {
          "Category": "sub-past wage loss",
          "Features": "general@Before",
          "Weights": -0.09840049638161345
         },
         {
          "Category": "sub-past wage loss",
          "Features": "value=$50,000",
          "Weights": 0.0015367937463368591
         },
         {
          "Category": "sub-past wage loss",
          "Features": "value=$7,500",
          "Weights": -0.06622743318288374
         },
         {
          "Category": "sub-past wage loss",
          "Features": "past@After",
          "Weights": 0.08397959221860066
         },
         {
          "Category": "sub-past wage loss",
          "Features": "in-trust",
          "Weights": -0.07117265364979364
         },
         {
          "Category": "sub-past wage loss",
          "Features": "trust",
          "Weights": -0.06068210670514066
         },
         {
          "Category": "sub-past wage loss",
          "Features": "in-trust@Before",
          "Weights": -0.027569068557842986
         },
         {
          "Category": "sub-past wage loss",
          "Features": "trust@After",
          "Weights": -0.043376018658551424
         },
         {
          "Category": "sub-past wage loss",
          "Features": "next word=trust",
          "Weights": -0.01828679345216246
         },
         {
          "Category": "sub-past wage loss",
          "Features": "non-pecuniary",
          "Weights": -0.1264429325015277
         },
         {
          "Category": "sub-past wage loss",
          "Features": "next word=non-pecuniary",
          "Weights": -0.07257851705024043
         },
         {
          "Category": "sub-past wage loss",
          "Features": "non-pecuniary@Before",
          "Weights": -0.010782953439471447
         },
         {
          "Category": "sub-past wage loss",
          "Features": "enjoyment",
          "Weights": -0.06316684511325578
         },
         {
          "Category": "sub-past wage loss",
          "Features": "suffering",
          "Weights": -0.052064603647413804
         },
         {
          "Category": "sub-past wage loss",
          "Features": "range",
          "Weights": -0.029232863059811983
         },
         {
          "Category": "sub-past wage loss",
          "Features": "range@Before",
          "Weights": -0.027532418587004222
         },
         {
          "Category": "sub-past wage loss",
          "Features": "seeks",
          "Weights": -0.03505883427996162
         },
         {
          "Category": "sub-past wage loss",
          "Features": "seeks@Before",
          "Weights": -0.03359441811044119
         },
         {
          "Category": "sub-past wage loss",
          "Features": "next word=per",
          "Weights": 0.1154543208278745
         },
         {
          "Category": "sub-past wage loss",
          "Features": "next word=past",
          "Weights": 0.31439023910121605
         },
         {
          "Category": "sub-past wage loss",
          "Features": "past",
          "Weights": 0.5100818430073376
         },
         {
          "Category": "sub-past wage loss",
          "Features": "past@Before",
          "Weights": 0.4261022507887375
         },
         {
          "Category": "sub-past wage loss",
          "Features": "income",
          "Weights": 0.6598929125517242
         },
         {
          "Category": "sub-past wage loss",
          "Features": "wage",
          "Weights": -0.2623449338782564
         },
         {
          "Category": "sub-past wage loss",
          "Features": "punitive",
          "Weights": -0.0977822767900708
         },
         {
          "Category": "sub-past wage loss",
          "Features": "punitive@Before",
          "Weights": -0.024327129066452673
         },
         {
          "Category": "sub-past wage loss",
          "Features": "next word=punitive",
          "Weights": -0.04606832210193967
         },
         {
          "Category": "sub-past wage loss",
          "Features": "value=$10,000",
          "Weights": -0.12441687463426576
         },
         {
          "Category": "sub-past wage loss",
          "Features": "punitive@After",
          "Weights": -0.07345514772361816
         },
         {
          "Category": "sub-past wage loss",
          "Features": "prev word=reduced",
          "Weights": -0.058243116920293575
         },
         {
          "Category": "sub-past wage loss",
          "Features": "value=$10,000",
          "Weights": -0.12441687463426576
         },
         {
          "Category": "sub-past wage loss",
          "Features": "reduced@Before",
          "Weights": -0.06731684298284868
         },
         {
          "Category": "sub-past wage loss",
          "Features": "reduced",
          "Weights": -0.13816981585617596
         },
         {
          "Category": "sub-past wage loss",
          "Features": "failure@After",
          "Weights": 0.05812090364550617
         },
         {
          "Category": "sub-past wage loss",
          "Features": "prev word=reduced",
          "Weights": -0.058243116920293575
         },
         {
          "Category": "sub-past wage loss",
          "Features": "reduced@Before",
          "Weights": -0.06731684298284868
         },
         {
          "Category": "sub-past wage loss",
          "Features": "20%@Before",
          "Weights": -0.01203426628673986
         },
         {
          "Category": "sub-past wage loss",
          "Features": "=@Before",
          "Weights": -0.04320346276587094
         },
         {
          "Category": "sub-past wage loss",
          "Features": "discounted@Before",
          "Weights": -0.03312792471765877
         },
         {
          "Category": "sub-past wage loss",
          "Features": "special",
          "Weights": -0.06102433182303927
         },
         {
          "Category": "sub-past wage loss",
          "Features": "special@Before",
          "Weights": -0.15617027303043102
         },
         {
          "Category": "sub-past wage loss",
          "Features": "next word=special",
          "Weights": 0.027653210913224147
         },
         {
          "Category": "sub-past wage loss",
          "Features": "prev word=damages",
          "Weights": -0.22758104061976034
         },
         {
          "Category": "sub-past wage loss",
          "Features": "value=$500",
          "Weights": -0.03650299316907922
         },
         {
          "Category": "sub-past wage loss",
          "Features": "start_idx_ratio",
          "Weights": 0.19115564216909559
         },
         {
          "Category": "sub-past wage loss",
          "Features": "physiotherapy",
          "Weights": -0.05810239100049737
         },
         {
          "Category": "sub-past wage loss",
          "Features": "therapy",
          "Weights": -0.03281812871465316
         },
         {
          "Category": "sub-past wage loss",
          "Features": "occupational",
          "Weights": -0.023676863002463508
         },
         {
          "Category": "sub-past wage loss",
          "Features": "care@Before",
          "Weights": -0.08729386837204027
         },
         {
          "Category": "sub-past wage loss",
          "Features": "value=$160,000",
          "Weights": -0.015639544602507986
         },
         {
          "Category": "sub-past wage loss",
          "Features": "earning",
          "Weights": 0.3008642394972422
         },
         {
          "Category": "sub-past wage loss",
          "Features": "lost",
          "Weights": 0.7818506849305032
         },
         {
          "Category": "sub-past wage loss",
          "Features": "accident",
          "Weights": 0.5098551276999505
         },
         {
          "Category": "sub-past wage loss",
          "Features": "future",
          "Weights": -0.3641286550677585
         },
         {
          "Category": "sub-past wage loss",
          "Features": "general",
          "Weights": -0.14688690059281556
         },
         {
          "Category": "sub-past wage loss",
          "Features": "general@Before",
          "Weights": -0.09840049638161345
         },
         {
          "Category": "sub-past wage loss",
          "Features": "damages",
          "Weights": -0.45205932699773377
         },
         {
          "Category": "sub-past wage loss",
          "Features": "12,",
          "Weights": -0.00633281513096458
         },
         {
          "Category": "sub-past wage loss",
          "Features": "july",
          "Weights": -0.018533591957925304
         },
         {
          "Category": "sub-past wage loss",
          "Features": "value=$250,000",
          "Weights": -0.023173283667504572
         },
         {
          "Category": "sub-past wage loss",
          "Features": "trust@After",
          "Weights": -0.043376018658551424
         },
         {
          "Category": "sub-past wage loss",
          "Features": "trust",
          "Weights": -0.06068210670514066
         },
         {
          "Category": "sub-past wage loss",
          "Features": "claim",
          "Weights": -0.1938161103027078
         },
         {
          "Category": "sub-past wage loss",
          "Features": "sarah@After",
          "Weights": -0.010345710430211881
         },
         {
          "Category": "sub-past wage loss",
          "Features": "accident",
          "Weights": 0.5098551276999505
         },
         {
          "Category": "sub-past wage loss",
          "Features": "value=$75,000",
          "Weights": -0.10699429824981246
         },
         {
          "Category": "sub-past wage loss",
          "Features": "first",
          "Weights": 0.050169959416171604
         },
         {
          "Category": "sub-past wage loss",
          "Features": "non-pecuniary",
          "Weights": -0.1264429325015277
         },
         {
          "Category": "sub-past wage loss",
          "Features": "damages",
          "Weights": -0.45205932699773377
         },
         {
          "Category": "sub-past wage loss",
          "Features": "loss",
          "Weights": 0.833737739006006
         },
         {
          "Category": "sub-past wage loss",
          "Features": "lost",
          "Weights": 0.7818506849305032
         },
         {
          "Category": "sub-past wage loss",
          "Features": "income@Before",
          "Weights": 0.7318803901521842
         },
         {
          "Category": "sub-past wage loss",
          "Features": "income",
          "Weights": 0.6598929125517242
         },
         {
          "Category": "sub-past wage loss",
          "Features": "lost@Before",
          "Weights": 0.584500910656386
         },
         {
          "Category": "sub-past wage loss",
          "Features": "basis;@After",
          "Weights": -0.0033748746536958556
         },
         {
          "Category": "sub-past wage loss",
          "Features": "value=$73,750",
          "Weights": -0.0033748746536958556
         },
         {
          "Category": "sub-past wage loss",
          "Features": "basis;",
          "Weights": -0.0033748746536958556
         },
         {
          "Category": "sub-past wage loss",
          "Features": "$295,000@Before",
          "Weights": -0.0033748746536958556
         },
         {
          "Category": "sub-past wage loss",
          "Features": "$295,000",
          "Weights": -0.0037449782511733078
         },
         {
          "Category": "sub-past wage loss",
          "Features": "housekeeping",
          "Weights": -0.14451279424196675
         },
         {
          "Category": "sub-past wage loss",
          "Features": "special",
          "Weights": -0.06102433182303927
         },
         {
          "Category": "sub-past wage loss",
          "Features": "capacity,",
          "Weights": -0.31913339972050775
         },
         {
          "Category": "sub-past wage loss",
          "Features": "housekeeping@Before",
          "Weights": -0.05522404618980807
         },
         {
          "Category": "sub-past wage loss",
          "Features": "physiotherapy",
          "Weights": -0.05810239100049737
         },
         {
          "Category": "sub-past wage loss",
          "Features": "claim",
          "Weights": -0.1938161103027078
         },
         {
          "Category": "sub-past wage loss",
          "Features": "judgment",
          "Weights": -0.05507662993239804
         },
         {
          "Category": "sub-past wage loss",
          "Features": "home;",
          "Weights": -0.016400653249018442
         },
         {
          "Category": "sub-past wage loss",
          "Features": "negotiate",
          "Weights": -0.013750615190407817
         },
         {
          "Category": "sub-past wage loss",
          "Features": "claim@After",
          "Weights": -0.06679324830982791
         },
         {
          "Category": "sub-past wage loss",
          "Features": "total@Before",
          "Weights": 0.0034093295330754245
         },
         {
          "Category": "sub-past wage loss",
          "Features": "prev word=total:",
          "Weights": -0.018221729727990472
         },
         {
          "Category": "sub-past wage loss",
          "Features": "total:@Before",
          "Weights": -0.018221729727990472
         },
         {
          "Category": "sub-past wage loss",
          "Features": "allowed",
          "Weights": -0.037722457645703804
         },
         {
          "Category": "sub-past wage loss",
          "Features": "total:",
          "Weights": -0.056856724418451014
         },
         {
          "Category": "sub-past wage loss",
          "Features": "value=$76,653",
          "Weights": -0.004491045138419268
         },
         {
          "Category": "sub-past wage loss",
          "Features": "value=$65,920",
          "Weights": -0.0044541753894133855
         },
         {
          "Category": "sub-past wage loss",
          "Features": "judgment@Before",
          "Weights": -0.04360074363534435
         },
         {
          "Category": "sub-past wage loss",
          "Features": "value=$62,500",
          "Weights": -0.009119499391731385
         },
         {
          "Category": "sub-past wage loss",
          "Features": "judgment",
          "Weights": -0.05507662993239804
         },
         {
          "Category": "sub-reduction",
          "Features": "aggravated",
          "Weights": -0.017511290287163125
         },
         {
          "Category": "sub-reduction",
          "Features": "aggravated@After",
          "Weights": -0.008985106652128939
         },
         {
          "Category": "sub-reduction",
          "Features": "next word=aggravated",
          "Weights": -0.006201714340876437
         },
         {
          "Category": "sub-reduction",
          "Features": "aggravated@Before",
          "Weights": -0.008526183635034197
         },
         {
          "Category": "sub-reduction",
          "Features": "value=$2,500",
          "Weights": -0.017574727376160948
         },
         {
          "Category": "sub-reduction",
          "Features": "future",
          "Weights": -0.14568463511993945
         },
         {
          "Category": "sub-reduction",
          "Features": "next word=cost",
          "Weights": -0.032170685120424154
         },
         {
          "Category": "sub-reduction",
          "Features": "care,@After",
          "Weights": -0.009053335459352918
         },
         {
          "Category": "sub-reduction",
          "Features": "special@After",
          "Weights": -0.082988851785496
         },
         {
          "Category": "sub-reduction",
          "Features": "care.@After",
          "Weights": -0.009507058136116063
         },
         {
          "Category": "sub-reduction",
          "Features": "value=$20,000",
          "Weights": -0.04443149144335757
         },
         {
          "Category": "sub-reduction",
          "Features": "future",
          "Weights": -0.14568463511993945
         },
         {
          "Category": "sub-reduction",
          "Features": "capacity,@After",
          "Weights": -0.009186431300876817
         },
         {
          "Category": "sub-reduction",
          "Features": "next word=loss",
          "Weights": -0.03158420193209246
         },
         {
          "Category": "sub-reduction",
          "Features": "loss,",
          "Weights": -0.011606023150461265
         },
         {
          "Category": "sub-reduction",
          "Features": "general",
          "Weights": -0.03932128529658804
         },
         {
          "Category": "sub-reduction",
          "Features": "general@Before",
          "Weights": -0.02102200928748392
         },
         {
          "Category": "sub-reduction",
          "Features": "value=$50,000",
          "Weights": -0.021975461122972387
         },
         {
          "Category": "sub-reduction",
          "Features": "value=$7,500",
          "Weights": -0.016165083117532838
         },
         {
          "Category": "sub-reduction",
          "Features": "past@After",
          "Weights": -0.03810483181145938
         },
         {
          "Category": "sub-reduction",
          "Features": "in-trust",
          "Weights": -0.01591522238651059
         },
         {
          "Category": "sub-reduction",
          "Features": "trust",
          "Weights": -0.015337522205706673
         },
         {
          "Category": "sub-reduction",
          "Features": "in-trust@Before",
          "Weights": -0.009539134926771234
         },
         {
          "Category": "sub-reduction",
          "Features": "trust@After",
          "Weights": -0.011329278305039374
         },
         {
          "Category": "sub-reduction",
          "Features": "next word=trust",
          "Weights": -0.004265330149946683
         },
         {
          "Category": "sub-reduction",
          "Features": "non-pecuniary",
          "Weights": -0.07545034857410735
         },
         {
          "Category": "sub-reduction",
          "Features": "next word=non-pecuniary",
          "Weights": -0.020013057158231096
         },
         {
          "Category": "sub-reduction",
          "Features": "non-pecuniary@Before",
          "Weights": -0.04396133204407435
         },
         {
          "Category": "sub-reduction",
          "Features": "enjoyment",
          "Weights": -0.008538019476712141
         },
         {
          "Category": "sub-reduction",
          "Features": "suffering",
          "Weights": -0.007614587893627864
         },
         {
          "Category": "sub-reduction",
          "Features": "range",
          "Weights": -0.007446705518225185
         },
         {
          "Category": "sub-reduction",
          "Features": "range@Before",
          "Weights": -0.006934858211724757
         },
         {
          "Category": "sub-reduction",
          "Features": "seeks",
          "Weights": -0.00714213026935553
         },
         {
          "Category": "sub-reduction",
          "Features": "seeks@Before",
          "Weights": -0.006674216462417344
         },
         {
          "Category": "sub-reduction",
          "Features": "next word=per",
          "Weights": -0.032351593471488596
         },
         {
          "Category": "sub-reduction",
          "Features": "next word=past",
          "Weights": -0.019682062966276205
         },
         {
          "Category": "sub-reduction",
          "Features": "past",
          "Weights": -0.06132814689562254
         },
         {
          "Category": "sub-reduction",
          "Features": "past@Before",
          "Weights": -0.02322331508416314
         },
         {
          "Category": "sub-reduction",
          "Features": "income",
          "Weights": -0.0693536000503794
         },
         {
          "Category": "sub-reduction",
          "Features": "wage",
          "Weights": -0.022135493382792727
         },
         {
          "Category": "sub-reduction",
          "Features": "punitive",
          "Weights": -0.0325758736653567
         },
         {
          "Category": "sub-reduction",
          "Features": "punitive@Before",
          "Weights": -0.009923536110448754
         },
         {
          "Category": "sub-reduction",
          "Features": "next word=punitive",
          "Weights": -0.010556402269524869
         },
         {
          "Category": "sub-reduction",
          "Features": "value=$10,000",
          "Weights": -0.04360795935746232
         },
         {
          "Category": "sub-reduction",
          "Features": "punitive@After",
          "Weights": -0.022652337554907982
         },
         {
          "Category": "sub-reduction",
          "Features": "prev word=reduced",
          "Weights": -0.014131988378618305
         },
         {
          "Category": "sub-reduction",
          "Features": "value=$10,000",
          "Weights": -0.04360795935746232
         },
         {
          "Category": "sub-reduction",
          "Features": "reduced@Before",
          "Weights": -0.016887611769448536
         },
         {
          "Category": "sub-reduction",
          "Features": "reduced",
          "Weights": -0.028701458646765463
         },
         {
          "Category": "sub-reduction",
          "Features": "failure@After",
          "Weights": -0.01102592931256983
         },
         {
          "Category": "sub-reduction",
          "Features": "prev word=reduced",
          "Weights": -0.014131988378618305
         },
         {
          "Category": "sub-reduction",
          "Features": "reduced@Before",
          "Weights": -0.016887611769448536
         },
         {
          "Category": "sub-reduction",
          "Features": "20%@Before",
          "Weights": -0.0007164453225524397
         },
         {
          "Category": "sub-reduction",
          "Features": "=@Before",
          "Weights": -0.0027939946145630985
         },
         {
          "Category": "sub-reduction",
          "Features": "discounted@Before",
          "Weights": -0.0040640804517818605
         },
         {
          "Category": "sub-reduction",
          "Features": "special",
          "Weights": -0.14573749024329313
         },
         {
          "Category": "sub-reduction",
          "Features": "special@Before",
          "Weights": -0.06274863845779699
         },
         {
          "Category": "sub-reduction",
          "Features": "next word=special",
          "Weights": -0.045600269753277724
         },
         {
          "Category": "sub-reduction",
          "Features": "prev word=damages",
          "Weights": -0.06877231428723787
         },
         {
          "Category": "sub-reduction",
          "Features": "value=$500",
          "Weights": -0.016209892021993653
         },
         {
          "Category": "sub-reduction",
          "Features": "start_idx_ratio",
          "Weights": -0.334124011674785
         },
         {
          "Category": "sub-reduction",
          "Features": "physiotherapy",
          "Weights": -0.025465064094003405
         },
         {
          "Category": "sub-reduction",
          "Features": "therapy",
          "Weights": -0.017113237913747813
         },
         {
          "Category": "sub-reduction",
          "Features": "occupational",
          "Weights": -0.012169820956060541
         },
         {
          "Category": "sub-reduction",
          "Features": "care@Before",
          "Weights": -0.03626471364495523
         },
         {
          "Category": "sub-reduction",
          "Features": "value=$160,000",
          "Weights": -0.0009541168559509313
         },
         {
          "Category": "sub-reduction",
          "Features": "earning",
          "Weights": -0.05596486722078888
         },
         {
          "Category": "sub-reduction",
          "Features": "lost",
          "Weights": -0.04325435174162317
         },
         {
          "Category": "sub-reduction",
          "Features": "accident",
          "Weights": -0.04762901518211188
         },
         {
          "Category": "sub-reduction",
          "Features": "future",
          "Weights": -0.14568463511993945
         },
         {
          "Category": "sub-reduction",
          "Features": "general",
          "Weights": -0.03932128529658804
         },
         {
          "Category": "sub-reduction",
          "Features": "general@Before",
          "Weights": -0.02102200928748392
         },
         {
          "Category": "sub-reduction",
          "Features": "damages",
          "Weights": -0.2515279996390921
         },
         {
          "Category": "sub-reduction",
          "Features": "12,",
          "Weights": -0.0019331327835889827
         },
         {
          "Category": "sub-reduction",
          "Features": "july",
          "Weights": -0.006479464511162864
         },
         {
          "Category": "sub-reduction",
          "Features": "value=$250,000",
          "Weights": -0.002350726719580358
         },
         {
          "Category": "sub-reduction",
          "Features": "trust@After",
          "Weights": -0.011329278305039374
         },
         {
          "Category": "sub-reduction",
          "Features": "trust",
          "Weights": -0.015337522205706673
         },
         {
          "Category": "sub-reduction",
          "Features": "claim",
          "Weights": -0.04521594601513775
         },
         {
          "Category": "sub-reduction",
          "Features": "sarah@After",
          "Weights": -0.0030096025307182164
         },
         {
          "Category": "sub-reduction",
          "Features": "accident",
          "Weights": -0.04762901518211188
         },
         {
          "Category": "sub-reduction",
          "Features": "value=$75,000",
          "Weights": -0.008395206636939751
         },
         {
          "Category": "sub-reduction",
          "Features": "first",
          "Weights": -0.0197229331175624
         },
         {
          "Category": "sub-reduction",
          "Features": "non-pecuniary",
          "Weights": -0.07545034857410735
         },
         {
          "Category": "sub-reduction",
          "Features": "damages",
          "Weights": -0.2515279996390921
         },
         {
          "Category": "sub-reduction",
          "Features": "loss",
          "Weights": -0.17105214994702028
         },
         {
          "Category": "sub-reduction",
          "Features": "lost",
          "Weights": -0.04325435174162317
         },
         {
          "Category": "sub-reduction",
          "Features": "income@Before",
          "Weights": -0.03828549983853826
         },
         {
          "Category": "sub-reduction",
          "Features": "income",
          "Weights": -0.0693536000503794
         },
         {
          "Category": "sub-reduction",
          "Features": "lost@Before",
          "Weights": -0.017601775958054636
         },
         {
          "Category": "sub-reduction",
          "Features": "basis;@After",
          "Weights": 0.3699486971128662
         },
         {
          "Category": "sub-reduction",
          "Features": "value=$73,750",
          "Weights": 0.3699486971128662
         },
         {
          "Category": "sub-reduction",
          "Features": "basis;",
          "Weights": 0.3699486971128662
         },
         {
          "Category": "sub-reduction",
          "Features": "$295,000@Before",
          "Weights": 0.3699486971128662
         },
         {
          "Category": "sub-reduction",
          "Features": "$295,000",
          "Weights": 0.3698130007905529
         },
         {
          "Category": "sub-reduction",
          "Features": "housekeeping",
          "Weights": -0.022789261546589834
         },
         {
          "Category": "sub-reduction",
          "Features": "special",
          "Weights": -0.14573749024329313
         },
         {
          "Category": "sub-reduction",
          "Features": "capacity,",
          "Weights": -0.025302012886931863
         },
         {
          "Category": "sub-reduction",
          "Features": "housekeeping@Before",
          "Weights": -0.008637223364009865
         },
         {
          "Category": "sub-reduction",
          "Features": "physiotherapy",
          "Weights": -0.025465064094003405
         },
         {
          "Category": "sub-reduction",
          "Features": "claim",
          "Weights": -0.04521594601513775
         },
         {
          "Category": "sub-reduction",
          "Features": "judgment",
          "Weights": -0.014699534841399442
         },
         {
          "Category": "sub-reduction",
          "Features": "home;",
          "Weights": -0.00208903063342748
         },
         {
          "Category": "sub-reduction",
          "Features": "negotiate",
          "Weights": -0.0069362984323934
         },
         {
          "Category": "sub-reduction",
          "Features": "claim@After",
          "Weights": -0.018725176564056728
         },
         {
          "Category": "sub-reduction",
          "Features": "total@Before",
          "Weights": -0.03696600613953456
         },
         {
          "Category": "sub-reduction",
          "Features": "prev word=total:",
          "Weights": -0.00455298786665538
         },
         {
          "Category": "sub-reduction",
          "Features": "total:@Before",
          "Weights": -0.00455298786665538
         },
         {
          "Category": "sub-reduction",
          "Features": "allowed",
          "Weights": -0.012517053542793376
         },
         {
          "Category": "sub-reduction",
          "Features": "total:",
          "Weights": -0.019377666377366674
         },
         {
          "Category": "sub-reduction",
          "Features": "value=$76,653",
          "Weights": -0.0012428875645405242
         },
         {
          "Category": "sub-reduction",
          "Features": "value=$65,920",
          "Weights": -0.0015967488631754717
         },
         {
          "Category": "sub-reduction",
          "Features": "judgment@Before",
          "Weights": -0.011113342400585778
         },
         {
          "Category": "sub-reduction",
          "Features": "value=$62,500",
          "Weights": -0.002879686254267182
         },
         {
          "Category": "sub-reduction",
          "Features": "judgment",
          "Weights": -0.014699534841399442
         },
         {
          "Category": "sub-special",
          "Features": "aggravated",
          "Weights": -0.18088784634575494
         },
         {
          "Category": "sub-special",
          "Features": "aggravated@After",
          "Weights": -0.05616909083608644
         },
         {
          "Category": "sub-special",
          "Features": "next word=aggravated",
          "Weights": -0.028365114875842364
         },
         {
          "Category": "sub-special",
          "Features": "aggravated@Before",
          "Weights": -0.12471875550966846
         },
         {
          "Category": "sub-special",
          "Features": "value=$2,500",
          "Weights": 0.013345845462841514
         },
         {
          "Category": "sub-special",
          "Features": "future",
          "Weights": 0.10395170829204745
         },
         {
          "Category": "sub-special",
          "Features": "next word=cost",
          "Weights": 0.2987840789007237
         },
         {
          "Category": "sub-special",
          "Features": "care,@After",
          "Weights": -0.20463658354506453
         },
         {
          "Category": "sub-special",
          "Features": "special@After",
          "Weights": 0.2584846664266765
         },
         {
          "Category": "sub-special",
          "Features": "care.@After",
          "Weights": -0.20204509484398875
         },
         {
          "Category": "sub-special",
          "Features": "value=$20,000",
          "Weights": -0.5069216467394558
         },
         {
          "Category": "sub-special",
          "Features": "future",
          "Weights": 0.10395170829204745
         },
         {
          "Category": "sub-special",
          "Features": "capacity,@After",
          "Weights": 0.4755953344272935
         },
         {
          "Category": "sub-special",
          "Features": "next word=loss",
          "Weights": 0.6007710701252212
         },
         {
          "Category": "sub-special",
          "Features": "loss,",
          "Weights": -0.11556483404190937
         },
         {
          "Category": "sub-special",
          "Features": "general",
          "Weights": -0.20678779884117796
         },
         {
          "Category": "sub-special",
          "Features": "general@Before",
          "Weights": -0.30484923027385064
         },
         {
          "Category": "sub-special",
          "Features": "value=$50,000",
          "Weights": -0.5534789225675864
         },
         {
          "Category": "sub-special",
          "Features": "value=$7,500",
          "Weights": -0.17605104881161335
         },
         {
          "Category": "sub-special",
          "Features": "past@After",
          "Weights": -0.057631205300557146
         },
         {
          "Category": "sub-special",
          "Features": "in-trust",
          "Weights": 0.3660277942895057
         },
         {
          "Category": "sub-special",
          "Features": "trust",
          "Weights": 0.0472862897614505
         },
         {
          "Category": "sub-special",
          "Features": "in-trust@Before",
          "Weights": -0.02478178563935045
         },
         {
          "Category": "sub-special",
          "Features": "trust@After",
          "Weights": 0.0730204410852281
         },
         {
          "Category": "sub-special",
          "Features": "next word=trust",
          "Weights": 0.06755675357260803
         },
         {
          "Category": "sub-special",
          "Features": "non-pecuniary",
          "Weights": -0.23014298338396852
         },
         {
          "Category": "sub-special",
          "Features": "next word=non-pecuniary",
          "Weights": -0.25552695912009404
         },
         {
          "Category": "sub-special",
          "Features": "non-pecuniary@Before",
          "Weights": -0.3722270468798163
         },
         {
          "Category": "sub-special",
          "Features": "enjoyment",
          "Weights": -0.13246293657709
         },
         {
          "Category": "sub-special",
          "Features": "suffering",
          "Weights": 0.0646437274220797
         },
         {
          "Category": "sub-special",
          "Features": "range",
          "Weights": -0.1041585571015306
         },
         {
          "Category": "sub-special",
          "Features": "range@Before",
          "Weights": -0.09801490780631665
         },
         {
          "Category": "sub-special",
          "Features": "seeks",
          "Weights": -0.1345790627250627
         },
         {
          "Category": "sub-special",
          "Features": "seeks@Before",
          "Weights": -0.12415242502280613
         },
         {
          "Category": "sub-special",
          "Features": "next word=per",
          "Weights": -0.057568241793351606
         },
         {
          "Category": "sub-special",
          "Features": "next word=past",
          "Weights": -0.07780755490477782
         },
         {
          "Category": "sub-special",
          "Features": "past",
          "Weights": -0.02352116552804618
         },
         {
          "Category": "sub-special",
          "Features": "past@Before",
          "Weights": 0.03411003977251085
         },
         {
          "Category": "sub-special",
          "Features": "income",
          "Weights": -0.5525187655909455
         },
         {
          "Category": "sub-special",
          "Features": "wage",
          "Weights": -0.3207285916231878
         },
         {
          "Category": "sub-special",
          "Features": "punitive",
          "Weights": -0.3042922390236703
         },
         {
          "Category": "sub-special",
          "Features": "punitive@Before",
          "Weights": -0.136917513474049
         },
         {
          "Category": "sub-special",
          "Features": "next word=punitive",
          "Weights": -0.05789996043922869
         },
         {
          "Category": "sub-special",
          "Features": "value=$10,000",
          "Weights": 0.07523497256187031
         },
         {
          "Category": "sub-special",
          "Features": "punitive@After",
          "Weights": -0.16737472554962138
         },
         {
          "Category": "sub-special",
          "Features": "prev word=reduced",
          "Weights": -0.09926523236601838
         },
         {
          "Category": "sub-special",
          "Features": "value=$10,000",
          "Weights": 0.07523497256187031
         },
         {
          "Category": "sub-special",
          "Features": "reduced@Before",
          "Weights": 0.02973803882861375
         },
         {
          "Category": "sub-special",
          "Features": "reduced",
          "Weights": -0.10917379531840883
         },
         {
          "Category": "sub-special",
          "Features": "failure@After",
          "Weights": -0.1214893347421174
         },
         {
          "Category": "sub-special",
          "Features": "prev word=reduced",
          "Weights": -0.09926523236601838
         },
         {
          "Category": "sub-special",
          "Features": "reduced@Before",
          "Weights": 0.02973803882861375
         },
         {
          "Category": "sub-special",
          "Features": "20%@Before",
          "Weights": -0.016555995856299296
         },
         {
          "Category": "sub-special",
          "Features": "=@Before",
          "Weights": -0.06677212882505085
         },
         {
          "Category": "sub-special",
          "Features": "discounted@Before",
          "Weights": -0.053592296169380875
         },
         {
          "Category": "sub-special",
          "Features": "special",
          "Weights": 0.9805151616045369
         },
         {
          "Category": "sub-special",
          "Features": "special@Before",
          "Weights": 0.7220304951778598
         },
         {
          "Category": "sub-special",
          "Features": "next word=special",
          "Weights": 0.3826075007870973
         },
         {
          "Category": "sub-special",
          "Features": "prev word=damages",
          "Weights": 0.16157205901885952
         },
         {
          "Category": "sub-special",
          "Features": "value=$500",
          "Weights": -0.1615869027835325
         },
         {
          "Category": "sub-special",
          "Features": "start_idx_ratio",
          "Weights": 0.5917603989517605
         },
         {
          "Category": "sub-special",
          "Features": "physiotherapy",
          "Weights": 0.7910157565165009
         },
         {
          "Category": "sub-special",
          "Features": "therapy",
          "Weights": -0.049741424233354
         },
         {
          "Category": "sub-special",
          "Features": "occupational",
          "Weights": -0.09165746620764607
         },
         {
          "Category": "sub-special",
          "Features": "care@Before",
          "Weights": -0.2369866969032196
         },
         {
          "Category": "sub-special",
          "Features": "value=$160,000",
          "Weights": -0.03546679073314021
         },
         {
          "Category": "sub-special",
          "Features": "earning",
          "Weights": -0.29633495452898867
         },
         {
          "Category": "sub-special",
          "Features": "lost",
          "Weights": -0.19630139015150236
         },
         {
          "Category": "sub-special",
          "Features": "accident",
          "Weights": -0.15586683227005424
         },
         {
          "Category": "sub-special",
          "Features": "future",
          "Weights": 0.10395170829204745
         },
         {
          "Category": "sub-special",
          "Features": "general",
          "Weights": -0.20678779884117796
         },
         {
          "Category": "sub-special",
          "Features": "general@Before",
          "Weights": -0.30484923027385064
         },
         {
          "Category": "sub-special",
          "Features": "damages",
          "Weights": 0.05168425519368151
         },
         {
          "Category": "sub-special",
          "Features": "12,",
          "Weights": -0.021320552390154974
         },
         {
          "Category": "sub-special",
          "Features": "july",
          "Weights": -0.0503925296958759
         },
         {
          "Category": "sub-special",
          "Features": "value=$250,000",
          "Weights": -0.06525689361172851
         },
         {
          "Category": "sub-special",
          "Features": "trust@After",
          "Weights": 0.0730204410852281
         },
         {
          "Category": "sub-special",
          "Features": "trust",
          "Weights": 0.0472862897614505
         },
         {
          "Category": "sub-special",
          "Features": "claim",
          "Weights": 0.3573076662575611
         },
         {
          "Category": "sub-special",
          "Features": "sarah@After",
          "Weights": -0.04631712420028312
         },
         {
          "Category": "sub-special",
          "Features": "accident",
          "Weights": -0.15586683227005424
         },
         {
          "Category": "sub-special",
          "Features": "value=$75,000",
          "Weights": -0.12942150230666657
         },
         {
          "Category": "sub-special",
          "Features": "first",
          "Weights": -0.02685401523230952
         },
         {
          "Category": "sub-special",
          "Features": "non-pecuniary",
          "Weights": -0.23014298338396852
         },
         {
          "Category": "sub-special",
          "Features": "damages",
          "Weights": 0.05168425519368151
         },
         {
          "Category": "sub-special",
          "Features": "loss",
          "Weights": 0.07119104833907712
         },
         {
          "Category": "sub-special",
          "Features": "lost",
          "Weights": -0.19630139015150236
         },
         {
          "Category": "sub-special",
          "Features": "income@Before",
          "Weights": -0.4061018634734774
         },
         {
          "Category": "sub-special",
          "Features": "income",
          "Weights": -0.5525187655909455
         },
         {
          "Category": "sub-special",
          "Features": "lost@Before",
          "Weights": -0.16398497695315678
         },
         {
          "Category": "sub-special",
          "Features": "basis;@After",
          "Weights": -0.011349144325411092
         },
         {
          "Category": "sub-special",
          "Features": "value=$73,750",
          "Weights": -0.011349144325411092
         },
         {
          "Category": "sub-special",
          "Features": "basis;",
          "Weights": -0.011349144325411092
         },
         {
          "Category": "sub-special",
          "Features": "$295,000@Before",
          "Weights": -0.011349144325411092
         },
         {
          "Category": "sub-special",
          "Features": "$295,000",
          "Weights": -0.013697636817197835
         },
         {
          "Category": "sub-special",
          "Features": "housekeeping",
          "Weights": 1.3085302305712243
         },
         {
          "Category": "sub-special",
          "Features": "special",
          "Weights": 0.9805151616045369
         },
         {
          "Category": "sub-special",
          "Features": "capacity,",
          "Weights": 0.8498494411331231
         },
         {
          "Category": "sub-special",
          "Features": "housekeeping@Before",
          "Weights": 0.7973998021652553
         },
         {
          "Category": "sub-special",
          "Features": "physiotherapy",
          "Weights": 0.7910157565165009
         },
         {
          "Category": "sub-special",
          "Features": "claim",
          "Weights": 0.3573076662575611
         },
         {
          "Category": "sub-special",
          "Features": "judgment",
          "Weights": -0.06777662831875196
         },
         {
          "Category": "sub-special",
          "Features": "home;",
          "Weights": -0.04428992426108834
         },
         {
          "Category": "sub-special",
          "Features": "negotiate",
          "Weights": -0.06321275024139275
         },
         {
          "Category": "sub-special",
          "Features": "claim@After",
          "Weights": 0.38360793523037556
         },
         {
          "Category": "sub-special",
          "Features": "total@Before",
          "Weights": -0.2885997424896224
         },
         {
          "Category": "sub-special",
          "Features": "prev word=total:",
          "Weights": -0.15595950026210742
         },
         {
          "Category": "sub-special",
          "Features": "total:@Before",
          "Weights": -0.15595950026210742
         },
         {
          "Category": "sub-special",
          "Features": "allowed",
          "Weights": 0.3255834056188035
         },
         {
          "Category": "sub-special",
          "Features": "total:",
          "Weights": -0.02158975861436897
         },
         {
          "Category": "sub-special",
          "Features": "value=$76,653",
          "Weights": -0.026477606447207414
         },
         {
          "Category": "sub-special",
          "Features": "value=$65,920",
          "Weights": -0.029883913068053554
         },
         {
          "Category": "sub-special",
          "Features": "judgment@Before",
          "Weights": -0.1612880913813896
         },
         {
          "Category": "sub-special",
          "Features": "value=$62,500",
          "Weights": -0.03622786242775188
         },
         {
          "Category": "sub-special",
          "Features": "judgment",
          "Weights": -0.06777662831875196
         },
         {
          "Category": "sub-total",
          "Features": "aggravated",
          "Weights": -0.04145518874144024
         },
         {
          "Category": "sub-total",
          "Features": "aggravated@After",
          "Weights": -0.017136002990195492
         },
         {
          "Category": "sub-total",
          "Features": "next word=aggravated",
          "Weights": -0.009340345856545723
         },
         {
          "Category": "sub-total",
          "Features": "aggravated@Before",
          "Weights": -0.024319185751244768
         },
         {
          "Category": "sub-total",
          "Features": "value=$2,500",
          "Weights": -0.02574865638796768
         },
         {
          "Category": "sub-total",
          "Features": "future",
          "Weights": -0.24756302918547277
         },
         {
          "Category": "sub-total",
          "Features": "next word=cost",
          "Weights": -0.04914692196700699
         },
         {
          "Category": "sub-total",
          "Features": "care,@After",
          "Weights": -0.014147273475165771
         },
         {
          "Category": "sub-total",
          "Features": "special@After",
          "Weights": -0.14444021562881912
         },
         {
          "Category": "sub-total",
          "Features": "care.@After",
          "Weights": -0.01376853848343319
         },
         {
          "Category": "sub-total",
          "Features": "value=$20,000",
          "Weights": -0.08914351100663849
         },
         {
          "Category": "sub-total",
          "Features": "future",
          "Weights": -0.24756302918547277
         },
         {
          "Category": "sub-total",
          "Features": "capacity,@After",
          "Weights": -0.015529268715756519
         },
         {
          "Category": "sub-total",
          "Features": "next word=loss",
          "Weights": 0.12162583287782766
         },
         {
          "Category": "sub-total",
          "Features": "loss,",
          "Weights": -0.019389495830609952
         },
         {
          "Category": "sub-total",
          "Features": "general",
          "Weights": 0.2330247387866383
         },
         {
          "Category": "sub-total",
          "Features": "general@Before",
          "Weights": -0.0562992770135228
         },
         {
          "Category": "sub-total",
          "Features": "value=$50,000",
          "Weights": -0.06452106838895792
         },
         {
          "Category": "sub-total",
          "Features": "value=$7,500",
          "Weights": -0.02917207439553829
         },
         {
          "Category": "sub-total",
          "Features": "past@After",
          "Weights": -0.07487716767558242
         },
         {
          "Category": "sub-total",
          "Features": "in-trust",
          "Weights": -0.05380443701770847
         },
         {
          "Category": "sub-total",
          "Features": "trust",
          "Weights": -0.040912013422721195
         },
         {
          "Category": "sub-total",
          "Features": "in-trust@Before",
          "Weights": -0.02992393482599995
         },
         {
          "Category": "sub-total",
          "Features": "trust@After",
          "Weights": -0.027633868119785514
         },
         {
          "Category": "sub-total",
          "Features": "next word=trust",
          "Weights": -0.008436986357303932
         },
         {
          "Category": "sub-total",
          "Features": "non-pecuniary",
          "Weights": -0.15266533193370704
         },
         {
          "Category": "sub-total",
          "Features": "next word=non-pecuniary",
          "Weights": -0.04299637462110521
         },
         {
          "Category": "sub-total",
          "Features": "non-pecuniary@Before",
          "Weights": -0.08590244582634461
         },
         {
          "Category": "sub-total",
          "Features": "enjoyment",
          "Weights": -0.018685468721873762
         },
         {
          "Category": "sub-total",
          "Features": "suffering",
          "Weights": -0.016834270965153268
         },
         {
          "Category": "sub-total",
          "Features": "range",
          "Weights": -0.016200899101723735
         },
         {
          "Category": "sub-total",
          "Features": "range@Before",
          "Weights": -0.014986578398501432
         },
         {
          "Category": "sub-total",
          "Features": "seeks",
          "Weights": -0.014842079239518224
         },
         {
          "Category": "sub-total",
          "Features": "seeks@Before",
          "Weights": -0.013870019854105898
         },
         {
          "Category": "sub-total",
          "Features": "next word=per",
          "Weights": -0.04277504315436807
         },
         {
          "Category": "sub-total",
          "Features": "next word=past",
          "Weights": -0.03696212802319456
         },
         {
          "Category": "sub-total",
          "Features": "past",
          "Weights": -0.11767918740142316
         },
         {
          "Category": "sub-total",
          "Features": "past@Before",
          "Weights": -0.0428020197258407
         },
         {
          "Category": "sub-total",
          "Features": "income",
          "Weights": -0.12379357505146532
         },
         {
          "Category": "sub-total",
          "Features": "wage",
          "Weights": -0.043807897096782955
         },
         {
          "Category": "sub-total",
          "Features": "punitive",
          "Weights": -0.06164967794693859
         },
         {
          "Category": "sub-total",
          "Features": "punitive@Before",
          "Weights": -0.017560771546003464
         },
         {
          "Category": "sub-total",
          "Features": "next word=punitive",
          "Weights": -0.017296726956634378
         },
         {
          "Category": "sub-total",
          "Features": "value=$10,000",
          "Weights": -0.08532447561003988
         },
         {
          "Category": "sub-total",
          "Features": "punitive@After",
          "Weights": -0.044088906400935074
         },
         {
          "Category": "sub-total",
          "Features": "prev word=reduced",
          "Weights": -0.031183351234243574
         },
         {
          "Category": "sub-total",
          "Features": "value=$10,000",
          "Weights": -0.08532447561003988
         },
         {
          "Category": "sub-total",
          "Features": "reduced@Before",
          "Weights": -0.03618669485647809
         },
         {
          "Category": "sub-total",
          "Features": "reduced",
          "Weights": -0.06651045172107495
         },
         {
          "Category": "sub-total",
          "Features": "failure@After",
          "Weights": -0.022045350259081484
         },
         {
          "Category": "sub-total",
          "Features": "prev word=reduced",
          "Weights": -0.031183351234243574
         },
         {
          "Category": "sub-total",
          "Features": "reduced@Before",
          "Weights": -0.03618669485647809
         },
         {
          "Category": "sub-total",
          "Features": "20%@Before",
          "Weights": -0.0016684463833030992
         },
         {
          "Category": "sub-total",
          "Features": "=@Before",
          "Weights": -0.005798237202679796
         },
         {
          "Category": "sub-total",
          "Features": "discounted@Before",
          "Weights": -0.010875798940686182
         },
         {
          "Category": "sub-total",
          "Features": "special",
          "Weights": -0.2497999062876592
         },
         {
          "Category": "sub-total",
          "Features": "special@Before",
          "Weights": -0.10535969065883995
         },
         {
          "Category": "sub-total",
          "Features": "next word=special",
          "Weights": -0.07288820253709237
         },
         {
          "Category": "sub-total",
          "Features": "prev word=damages",
          "Weights": -0.13143851087635858
         },
         {
          "Category": "sub-total",
          "Features": "value=$500",
          "Weights": -0.028374567981121937
         },
         {
          "Category": "sub-total",
          "Features": "start_idx_ratio",
          "Weights": -0.03349824616763018
         },
         {
          "Category": "sub-total",
          "Features": "physiotherapy",
          "Weights": -0.04025284117718415
         },
         {
          "Category": "sub-total",
          "Features": "therapy",
          "Weights": -0.02918232106706054
         },
         {
          "Category": "sub-total",
          "Features": "occupational",
          "Weights": -0.01861902310316305
         },
         {
          "Category": "sub-total",
          "Features": "care@Before",
          "Weights": -0.05437343369218822
         },
         {
          "Category": "sub-total",
          "Features": "value=$160,000",
          "Weights": -0.003151125168162699
         },
         {
          "Category": "sub-total",
          "Features": "earning",
          "Weights": -0.10642480248088032
         },
         {
          "Category": "sub-total",
          "Features": "lost",
          "Weights": -0.07649814668316544
         },
         {
          "Category": "sub-total",
          "Features": "accident",
          "Weights": -0.08287707722814198
         },
         {
          "Category": "sub-total",
          "Features": "future",
          "Weights": -0.24756302918547277
         },
         {
          "Category": "sub-total",
          "Features": "general",
          "Weights": 0.2330247387866383
         },
         {
          "Category": "sub-total",
          "Features": "general@Before",
          "Weights": -0.0562992770135228
         },
         {
          "Category": "sub-total",
          "Features": "damages",
          "Weights": -0.0871600916813956
         },
         {
          "Category": "sub-total",
          "Features": "12,",
          "Weights": -0.003915931272145076
         },
         {
          "Category": "sub-total",
          "Features": "july",
          "Weights": -0.010917273398816724
         },
         {
          "Category": "sub-total",
          "Features": "value=$250,000",
          "Weights": -0.006839289121177508
         },
         {
          "Category": "sub-total",
          "Features": "trust@After",
          "Weights": -0.027633868119785514
         },
         {
          "Category": "sub-total",
          "Features": "trust",
          "Weights": -0.040912013422721195
         },
         {
          "Category": "sub-total",
          "Features": "claim",
          "Weights": 0.817983983438602
         },
         {
          "Category": "sub-total",
          "Features": "sarah@After",
          "Weights": -0.008822145944752564
         },
         {
          "Category": "sub-total",
          "Features": "accident",
          "Weights": -0.08287707722814198
         },
         {
          "Category": "sub-total",
          "Features": "value=$75,000",
          "Weights": -0.02110545716040276
         },
         {
          "Category": "sub-total",
          "Features": "first",
          "Weights": -0.060187431517497704
         },
         {
          "Category": "sub-total",
          "Features": "non-pecuniary",
          "Weights": -0.15266533193370704
         },
         {
          "Category": "sub-total",
          "Features": "damages",
          "Weights": -0.0871600916813956
         },
         {
          "Category": "sub-total",
          "Features": "loss",
          "Weights": 0.002265461007819746
         },
         {
          "Category": "sub-total",
          "Features": "lost",
          "Weights": -0.07649814668316544
         },
         {
          "Category": "sub-total",
          "Features": "income@Before",
          "Weights": -0.06559124686210312
         },
         {
          "Category": "sub-total",
          "Features": "income",
          "Weights": -0.12379357505146532
         },
         {
          "Category": "sub-total",
          "Features": "lost@Before",
          "Weights": -0.028279491882192673
         },
         {
          "Category": "sub-total",
          "Features": "basis;@After",
          "Weights": -0.0020873038822175126
         },
         {
          "Category": "sub-total",
          "Features": "value=$73,750",
          "Weights": -0.0020873038822175126
         },
         {
          "Category": "sub-total",
          "Features": "basis;",
          "Weights": -0.0020873038822175126
         },
         {
          "Category": "sub-total",
          "Features": "$295,000@Before",
          "Weights": -0.0020873038822175126
         },
         {
          "Category": "sub-total",
          "Features": "$295,000",
          "Weights": -0.00234735039837889
         },
         {
          "Category": "sub-total",
          "Features": "housekeeping",
          "Weights": -0.038248159916580635
         },
         {
          "Category": "sub-total",
          "Features": "special",
          "Weights": -0.2497999062876592
         },
         {
          "Category": "sub-total",
          "Features": "capacity,",
          "Weights": -0.04217221805677497
         },
         {
          "Category": "sub-total",
          "Features": "housekeeping@Before",
          "Weights": -0.014028694570409703
         },
         {
          "Category": "sub-total",
          "Features": "physiotherapy",
          "Weights": -0.04025284117718415
         },
         {
          "Category": "sub-total",
          "Features": "claim",
          "Weights": 0.817983983438602
         },
         {
          "Category": "sub-total",
          "Features": "judgment",
          "Weights": 0.7637969018715948
         },
         {
          "Category": "sub-total",
          "Features": "home;",
          "Weights": 0.5325995836865625
         },
         {
          "Category": "sub-total",
          "Features": "negotiate",
          "Weights": 0.4726082774507332
         },
         {
          "Category": "sub-total",
          "Features": "claim@After",
          "Weights": 0.45588426509744484
         },
         {
          "Category": "sub-total",
          "Features": "total@Before",
          "Weights": -0.07261845823007412
         },
         {
          "Category": "sub-total",
          "Features": "prev word=total:",
          "Weights": -0.011565535531603032
         },
         {
          "Category": "sub-total",
          "Features": "total:@Before",
          "Weights": -0.011565535531603032
         },
         {
          "Category": "sub-total",
          "Features": "allowed",
          "Weights": -0.031094548733256292
         },
         {
          "Category": "sub-total",
          "Features": "total:",
          "Weights": -0.037364280465263855
         },
         {
          "Category": "sub-total",
          "Features": "value=$76,653",
          "Weights": -0.0027167130748405074
         },
         {
          "Category": "sub-total",
          "Features": "value=$65,920",
          "Weights": -0.004641338433093197
         },
         {
          "Category": "sub-total",
          "Features": "judgment@Before",
          "Weights": 0.44917815687375023
         },
         {
          "Category": "sub-total",
          "Features": "value=$62,500",
          "Weights": -0.008928222958589242
         },
         {
          "Category": "sub-total",
          "Features": "judgment",
          "Weights": 0.7637969018715948
         },
         {
          "Category": "total",
          "Features": "aggravated",
          "Weights": -0.34475008413637603
         },
         {
          "Category": "total",
          "Features": "aggravated@After",
          "Weights": -0.18902570039125202
         },
         {
          "Category": "total",
          "Features": "next word=aggravated",
          "Weights": -0.06576377319717407
         },
         {
          "Category": "total",
          "Features": "aggravated@Before",
          "Weights": -0.15572438374512398
         },
         {
          "Category": "total",
          "Features": "value=$2,500",
          "Weights": -0.14646008000630026
         },
         {
          "Category": "total",
          "Features": "future",
          "Weights": -0.33414732293835775
         },
         {
          "Category": "total",
          "Features": "next word=cost",
          "Weights": -0.11062761025041634
         },
         {
          "Category": "total",
          "Features": "care,@After",
          "Weights": -0.055931436949864265
         },
         {
          "Category": "total",
          "Features": "special@After",
          "Weights": -0.5634161147885385
         },
         {
          "Category": "total",
          "Features": "care.@After",
          "Weights": -0.040062627537287836
         },
         {
          "Category": "total",
          "Features": "value=$20,000",
          "Weights": -0.39814143422197074
         },
         {
          "Category": "total",
          "Features": "future",
          "Weights": -0.33414732293835775
         },
         {
          "Category": "total",
          "Features": "capacity,@After",
          "Weights": -0.03832569075106371
         },
         {
          "Category": "total",
          "Features": "next word=loss",
          "Weights": -0.14617474691972313
         },
         {
          "Category": "total",
          "Features": "loss,",
          "Weights": -0.09173831297328888
         },
         {
          "Category": "total",
          "Features": "general",
          "Weights": -0.5142037396729127
         },
         {
          "Category": "total",
          "Features": "general@Before",
          "Weights": -0.41576814744014795
         },
         {
          "Category": "total",
          "Features": "value=$50,000",
          "Weights": -0.20336616667008325
         },
         {
          "Category": "total",
          "Features": "value=$7,500",
          "Weights": -0.15332918740427062
         },
         {
          "Category": "total",
          "Features": "past@After",
          "Weights": -0.2582211248991743
         },
         {
          "Category": "total",
          "Features": "in-trust",
          "Weights": -0.14924029150978463
         },
         {
          "Category": "total",
          "Features": "trust",
          "Weights": -0.20231453691078904
         },
         {
          "Category": "total",
          "Features": "in-trust@Before",
          "Weights": -0.031305830912853515
         },
         {
          "Category": "total",
          "Features": "trust@After",
          "Weights": -0.1184954334168784
         },
         {
          "Category": "total",
          "Features": "next word=trust",
          "Weights": -0.0384098029617422
         },
         {
          "Category": "total",
          "Features": "non-pecuniary",
          "Weights": -0.07017164341722017
         },
         {
          "Category": "total",
          "Features": "next word=non-pecuniary",
          "Weights": -0.5183908411543229
         },
         {
          "Category": "total",
          "Features": "non-pecuniary@Before",
          "Weights": -0.7151776301610971
         },
         {
          "Category": "total",
          "Features": "enjoyment",
          "Weights": -0.08085426109747983
         },
         {
          "Category": "total",
          "Features": "suffering",
          "Weights": -0.08375854425421798
         },
         {
          "Category": "total",
          "Features": "range",
          "Weights": -0.12759153331677997
         },
         {
          "Category": "total",
          "Features": "range@Before",
          "Weights": -0.11346338381985037
         },
         {
          "Category": "total",
          "Features": "seeks",
          "Weights": -0.0914629052960543
         },
         {
          "Category": "total",
          "Features": "seeks@Before",
          "Weights": -0.08507762404164666
         },
         {
          "Category": "total",
          "Features": "next word=per",
          "Weights": -0.09577581650754505
         },
         {
          "Category": "total",
          "Features": "next word=past",
          "Weights": -0.13799514446539562
         },
         {
          "Category": "total",
          "Features": "past",
          "Weights": -0.3510999745222027
         },
         {
          "Category": "total",
          "Features": "past@Before",
          "Weights": -0.09287884962302817
         },
         {
          "Category": "total",
          "Features": "income",
          "Weights": -0.44875961364678474
         },
         {
          "Category": "total",
          "Features": "wage",
          "Weights": -0.17083165240273326
         },
         {
          "Category": "total",
          "Features": "punitive",
          "Weights": -0.41600235572664496
         },
         {
          "Category": "total",
          "Features": "punitive@Before",
          "Weights": -0.20005034718594014
         },
         {
          "Category": "total",
          "Features": "next word=punitive",
          "Weights": -0.07057521961288003
         },
         {
          "Category": "total",
          "Features": "value=$10,000",
          "Weights": -0.2592220451972822
         },
         {
          "Category": "total",
          "Features": "punitive@After",
          "Weights": -0.21595200854070454
         },
         {
          "Category": "total",
          "Features": "prev word=reduced",
          "Weights": -0.11507151531114189
         },
         {
          "Category": "total",
          "Features": "value=$10,000",
          "Weights": -0.2592220451972822
         },
         {
          "Category": "total",
          "Features": "reduced@Before",
          "Weights": -0.18307812339104004
         },
         {
          "Category": "total",
          "Features": "reduced",
          "Weights": 0.04164145784539115
         },
         {
          "Category": "total",
          "Features": "failure@After",
          "Weights": -0.11911138383160122
         },
         {
          "Category": "total",
          "Features": "prev word=reduced",
          "Weights": -0.11507151531114189
         },
         {
          "Category": "total",
          "Features": "reduced@Before",
          "Weights": -0.18307812339104004
         },
         {
          "Category": "total",
          "Features": "20%@Before",
          "Weights": -0.007153214811524927
         },
         {
          "Category": "total",
          "Features": "=@Before",
          "Weights": 0.019994921381716615
         },
         {
          "Category": "total",
          "Features": "discounted@Before",
          "Weights": -0.0491990605528742
         },
         {
          "Category": "total",
          "Features": "special",
          "Weights": -0.24886635325445064
         },
         {
          "Category": "total",
          "Features": "special@Before",
          "Weights": 0.31454976153408787
         },
         {
          "Category": "total",
          "Features": "next word=special",
          "Weights": -0.2694436237546323
         },
         {
          "Category": "total",
          "Features": "prev word=damages",
          "Weights": -0.05364669870258583
         },
         {
          "Category": "total",
          "Features": "value=$500",
          "Weights": -0.09425309296937176
         },
         {
          "Category": "total",
          "Features": "start_idx_ratio",
          "Weights": 0.1771220712638372
         },
         {
          "Category": "total",
          "Features": "physiotherapy",
          "Weights": -0.15323459142550164
         },
         {
          "Category": "total",
          "Features": "therapy",
          "Weights": -0.05571123932905294
         },
         {
          "Category": "total",
          "Features": "occupational",
          "Weights": -0.03998582974650571
         },
         {
          "Category": "total",
          "Features": "care@Before",
          "Weights": 0.2927302470276834
         },
         {
          "Category": "total",
          "Features": "value=$160,000",
          "Weights": -0.05792154833622188
         },
         {
          "Category": "total",
          "Features": "earning",
          "Weights": -0.12561553529119376
         },
         {
          "Category": "total",
          "Features": "lost",
          "Weights": -0.2872624136044819
         },
         {
          "Category": "total",
          "Features": "accident",
          "Weights": -0.2759148353332821
         },
         {
          "Category": "total",
          "Features": "future",
          "Weights": -0.33414732293835775
         },
         {
          "Category": "total",
          "Features": "general",
          "Weights": -0.5142037396729127
         },
         {
          "Category": "total",
          "Features": "general@Before",
          "Weights": -0.41576814744014795
         },
         {
          "Category": "total",
          "Features": "damages",
          "Weights": 0.4843588828132124
         },
         {
          "Category": "total",
          "Features": "12,",
          "Weights": -0.020184377034723942
         },
         {
          "Category": "total",
          "Features": "july",
          "Weights": 0.11475947843699003
         },
         {
          "Category": "total",
          "Features": "value=$250,000",
          "Weights": 0.03613899537021934
         },
         {
          "Category": "total",
          "Features": "trust@After",
          "Weights": -0.1184954334168784
         },
         {
          "Category": "total",
          "Features": "trust",
          "Weights": -0.20231453691078904
         },
         {
          "Category": "total",
          "Features": "claim",
          "Weights": -0.10999130732891843
         },
         {
          "Category": "total",
          "Features": "sarah@After",
          "Weights": -0.02847037267118564
         },
         {
          "Category": "total",
          "Features": "accident",
          "Weights": -0.2759148353332821
         },
         {
          "Category": "total",
          "Features": "value=$75,000",
          "Weights": -0.24332908186656782
         },
         {
          "Category": "total",
          "Features": "first",
          "Weights": 0.05399520577297349
         },
         {
          "Category": "total",
          "Features": "non-pecuniary",
          "Weights": -0.07017164341722017
         },
         {
          "Category": "total",
          "Features": "damages",
          "Weights": 0.4843588828132124
         },
         {
          "Category": "total",
          "Features": "loss",
          "Weights": -0.16009535329709093
         },
         {
          "Category": "total",
          "Features": "lost",
          "Weights": -0.2872624136044819
         },
         {
          "Category": "total",
          "Features": "income@Before",
          "Weights": -0.21033758079783782
         },
         {
          "Category": "total",
          "Features": "income",
          "Weights": -0.44875961364678474
         },
         {
          "Category": "total",
          "Features": "lost@Before",
          "Weights": -0.08124814366728388
         },
         {
          "Category": "total",
          "Features": "basis;@After",
          "Weights": -0.03068304172885506
         },
         {
          "Category": "total",
          "Features": "value=$73,750",
          "Weights": -0.03068304172885506
         },
         {
          "Category": "total",
          "Features": "basis;",
          "Weights": -0.03068304172885506
         },
         {
          "Category": "total",
          "Features": "$295,000@Before",
          "Weights": -0.03068304172885506
         },
         {
          "Category": "total",
          "Features": "$295,000",
          "Weights": -0.032243503457429434
         },
         {
          "Category": "total",
          "Features": "housekeeping",
          "Weights": -0.08121291787230875
         },
         {
          "Category": "total",
          "Features": "special",
          "Weights": -0.24886635325445064
         },
         {
          "Category": "total",
          "Features": "capacity,",
          "Weights": -0.1452629296292823
         },
         {
          "Category": "total",
          "Features": "housekeeping@Before",
          "Weights": -0.041221123148502035
         },
         {
          "Category": "total",
          "Features": "physiotherapy",
          "Weights": -0.15323459142550164
         },
         {
          "Category": "total",
          "Features": "claim",
          "Weights": -0.10999130732891843
         },
         {
          "Category": "total",
          "Features": "judgment",
          "Weights": 0.4492824882208563
         },
         {
          "Category": "total",
          "Features": "home;",
          "Weights": -0.014168443663364361
         },
         {
          "Category": "total",
          "Features": "negotiate",
          "Weights": -0.03950780454370548
         },
         {
          "Category": "total",
          "Features": "claim@After",
          "Weights": -0.15121511044215272
         },
         {
          "Category": "total",
          "Features": "total@Before",
          "Weights": 1.083317290589987
         },
         {
          "Category": "total",
          "Features": "prev word=total:",
          "Weights": 1.0621332642965098
         },
         {
          "Category": "total",
          "Features": "total:@Before",
          "Weights": 1.0621332642965098
         },
         {
          "Category": "total",
          "Features": "allowed",
          "Weights": 0.9654036027225347
         },
         {
          "Category": "total",
          "Features": "total:",
          "Weights": 0.8358760295975631
         },
         {
          "Category": "total",
          "Features": "value=$76,653",
          "Weights": -0.12705301058800078
         },
         {
          "Category": "total",
          "Features": "value=$65,920",
          "Weights": -0.08020333431876417
         },
         {
          "Category": "total",
          "Features": "judgment@Before",
          "Weights": 0.6488790565955538
         },
         {
          "Category": "total",
          "Features": "value=$62,500",
          "Weights": -0.22887731116705426
         },
         {
          "Category": "total",
          "Features": "judgment",
          "Weights": 0.4492824882208563
         },
         {
          "Category": "total after",
          "Features": "aggravated",
          "Weights": -0.08053482154473664
         },
         {
          "Category": "total after",
          "Features": "aggravated@After",
          "Weights": -0.0239194905043421
         },
         {
          "Category": "total after",
          "Features": "next word=aggravated",
          "Weights": -0.009367747437439148
         },
         {
          "Category": "total after",
          "Features": "aggravated@Before",
          "Weights": -0.05661533104039445
         },
         {
          "Category": "total after",
          "Features": "value=$2,500",
          "Weights": -0.028987943253129138
         },
         {
          "Category": "total after",
          "Features": "future",
          "Weights": -0.3409728253003223
         },
         {
          "Category": "total after",
          "Features": "next word=cost",
          "Weights": -0.045445651069140613
         },
         {
          "Category": "total after",
          "Features": "care,@After",
          "Weights": -0.01599794744530409
         },
         {
          "Category": "total after",
          "Features": "special@After",
          "Weights": -0.17859274126598657
         },
         {
          "Category": "total after",
          "Features": "care.@After",
          "Weights": -0.01277678782612108
         },
         {
          "Category": "total after",
          "Features": "value=$20,000",
          "Weights": -0.10051351809523426
         },
         {
          "Category": "total after",
          "Features": "future",
          "Weights": -0.3409728253003223
         },
         {
          "Category": "total after",
          "Features": "capacity,@After",
          "Weights": -0.02438880313748045
         },
         {
          "Category": "total after",
          "Features": "next word=loss",
          "Weights": -0.08646068336596825
         },
         {
          "Category": "total after",
          "Features": "loss,",
          "Weights": -0.04123918789493435
         },
         {
          "Category": "total after",
          "Features": "general",
          "Weights": -0.22624419633588272
         },
         {
          "Category": "total after",
          "Features": "general@Before",
          "Weights": -0.13871882655058695
         },
         {
          "Category": "total after",
          "Features": "value=$50,000",
          "Weights": -0.14089659161032905
         },
         {
          "Category": "total after",
          "Features": "value=$7,500",
          "Weights": -0.033371655459869656
         },
         {
          "Category": "total after",
          "Features": "past@After",
          "Weights": -0.1465476084971499
         },
         {
          "Category": "total after",
          "Features": "in-trust",
          "Weights": -0.05682113248899479
         },
         {
          "Category": "total after",
          "Features": "trust",
          "Weights": -0.046299064025171165
         },
         {
          "Category": "total after",
          "Features": "in-trust@Before",
          "Weights": -0.02481848916961932
         },
         {
          "Category": "total after",
          "Features": "trust@After",
          "Weights": -0.035008614905137396
         },
         {
          "Category": "total after",
          "Features": "next word=trust",
          "Weights": -0.009973829039005736
         },
         {
          "Category": "total after",
          "Features": "non-pecuniary",
          "Weights": -0.340967240537334
         },
         {
          "Category": "total after",
          "Features": "next word=non-pecuniary",
          "Weights": -0.08396517697264072
         },
         {
          "Category": "total after",
          "Features": "non-pecuniary@Before",
          "Weights": -0.20846984049183964
         },
         {
          "Category": "total after",
          "Features": "enjoyment",
          "Weights": -0.02111562351396422
         },
         {
          "Category": "total after",
          "Features": "suffering",
          "Weights": -0.030287255056159295
         },
         {
          "Category": "total after",
          "Features": "range",
          "Weights": -0.0336469769037681
         },
         {
          "Category": "total after",
          "Features": "range@Before",
          "Weights": -0.03055242365336491
         },
         {
          "Category": "total after",
          "Features": "seeks",
          "Weights": -0.02262636303738919
         },
         {
          "Category": "total after",
          "Features": "seeks@Before",
          "Weights": -0.021021674712095685
         },
         {
          "Category": "total after",
          "Features": "next word=per",
          "Weights": -0.048155081419732126
         },
         {
          "Category": "total after",
          "Features": "next word=past",
          "Weights": -0.05162161470516116
         },
         {
          "Category": "total after",
          "Features": "past",
          "Weights": -0.19706759757339956
         },
         {
          "Category": "total after",
          "Features": "past@Before",
          "Weights": -0.05051998907624957
         },
         {
          "Category": "total after",
          "Features": "income",
          "Weights": -0.1859979111337625
         },
         {
          "Category": "total after",
          "Features": "wage",
          "Weights": -0.05890402617279262
         },
         {
          "Category": "total after",
          "Features": "punitive",
          "Weights": -0.12046889004041049
         },
         {
          "Category": "total after",
          "Features": "punitive@Before",
          "Weights": -0.060295510972893485
         },
         {
          "Category": "total after",
          "Features": "next word=punitive",
          "Weights": -0.015197483154116554
         },
         {
          "Category": "total after",
          "Features": "value=$10,000",
          "Weights": -0.09459053362777464
         },
         {
          "Category": "total after",
          "Features": "punitive@After",
          "Weights": -0.06017337906751703
         },
         {
          "Category": "total after",
          "Features": "prev word=reduced",
          "Weights": 0.1256823222944778
         },
         {
          "Category": "total after",
          "Features": "value=$10,000",
          "Weights": -0.09459053362777464
         },
         {
          "Category": "total after",
          "Features": "reduced@Before",
          "Weights": 0.1043299038971588
         },
         {
          "Category": "total after",
          "Features": "reduced",
          "Weights": 0.02160036616671125
         },
         {
          "Category": "total after",
          "Features": "failure@After",
          "Weights": -0.039743191145824475
         },
         {
          "Category": "total after",
          "Features": "prev word=reduced",
          "Weights": 0.1256823222944778
         },
         {
          "Category": "total after",
          "Features": "reduced@Before",
          "Weights": 0.1043299038971588
         },
         {
          "Category": "total after",
          "Features": "20%@Before",
          "Weights": -0.0021943095404814723
         },
         {
          "Category": "total after",
          "Features": "=@Before",
          "Weights": -0.012787772112320293
         },
         {
          "Category": "total after",
          "Features": "discounted@Before",
          "Weights": -0.01696346695144127
         },
         {
          "Category": "total after",
          "Features": "special",
          "Weights": -0.3509667772966735
         },
         {
          "Category": "total after",
          "Features": "special@Before",
          "Weights": -0.17237403603068682
         },
         {
          "Category": "total after",
          "Features": "next word=special",
          "Weights": -0.06395005312662218
         },
         {
          "Category": "total after",
          "Features": "prev word=damages",
          "Weights": 0.1714315450933058
         },
         {
          "Category": "total after",
          "Features": "value=$500",
          "Weights": -0.021359957754958067
         },
         {
          "Category": "total after",
          "Features": "start_idx_ratio",
          "Weights": -0.46299431209280517
         },
         {
          "Category": "total after",
          "Features": "physiotherapy",
          "Weights": -0.031167880500775787
         },
         {
          "Category": "total after",
          "Features": "therapy",
          "Weights": -0.01966656275161649
         },
         {
          "Category": "total after",
          "Features": "occupational",
          "Weights": -0.01513466013330881
         },
         {
          "Category": "total after",
          "Features": "care@Before",
          "Weights": -0.08067234671130698
         },
         {
          "Category": "total after",
          "Features": "value=$160,000",
          "Weights": -0.01249083868632501
         },
         {
          "Category": "total after",
          "Features": "earning",
          "Weights": -0.19512566326043915
         },
         {
          "Category": "total after",
          "Features": "lost",
          "Weights": -0.14870840738353072
         },
         {
          "Category": "total after",
          "Features": "accident",
          "Weights": -0.14870427426043334
         },
         {
          "Category": "total after",
          "Features": "future",
          "Weights": -0.3409728253003223
         },
         {
          "Category": "total after",
          "Features": "general",
          "Weights": -0.22624419633588272
         },
         {
          "Category": "total after",
          "Features": "general@Before",
          "Weights": -0.13871882655058695
         },
         {
          "Category": "total after",
          "Features": "damages",
          "Weights": 0.2414531985589883
         },
         {
          "Category": "total after",
          "Features": "12,",
          "Weights": -0.0044594754532024244
         },
         {
          "Category": "total after",
          "Features": "july",
          "Weights": -0.017791279236893272
         },
         {
          "Category": "total after",
          "Features": "value=$250,000",
          "Weights": -0.05964739760245652
         },
         {
          "Category": "total after",
          "Features": "trust@After",
          "Weights": -0.035008614905137396
         },
         {
          "Category": "total after",
          "Features": "trust",
          "Weights": -0.046299064025171165
         },
         {
          "Category": "total after",
          "Features": "claim",
          "Weights": -0.22916613819146656
         },
         {
          "Category": "total after",
          "Features": "sarah@After",
          "Weights": -0.007689322992394388
         },
         {
          "Category": "total after",
          "Features": "accident",
          "Weights": -0.14870427426043334
         },
         {
          "Category": "total after",
          "Features": "value=$75,000",
          "Weights": -0.05163880042240168
         },
         {
          "Category": "total after",
          "Features": "first",
          "Weights": -0.0642407003533088
         },
         {
          "Category": "total after",
          "Features": "non-pecuniary",
          "Weights": -0.340967240537334
         },
         {
          "Category": "total after",
          "Features": "damages",
          "Weights": 0.2414531985589883
         },
         {
          "Category": "total after",
          "Features": "loss",
          "Weights": -0.29120848516043324
         },
         {
          "Category": "total after",
          "Features": "lost",
          "Weights": -0.14870840738353072
         },
         {
          "Category": "total after",
          "Features": "income@Before",
          "Weights": -0.09417754629319205
         },
         {
          "Category": "total after",
          "Features": "income",
          "Weights": -0.1859979111337625
         },
         {
          "Category": "total after",
          "Features": "lost@Before",
          "Weights": -0.03779672957014419
         },
         {
          "Category": "total after",
          "Features": "basis;@After",
          "Weights": -0.0023219449990863634
         },
         {
          "Category": "total after",
          "Features": "value=$73,750",
          "Weights": -0.0023219449990863634
         },
         {
          "Category": "total after",
          "Features": "basis;",
          "Weights": -0.0023219449990863634
         },
         {
          "Category": "total after",
          "Features": "$295,000@Before",
          "Weights": -0.0023219449990863634
         },
         {
          "Category": "total after",
          "Features": "$295,000",
          "Weights": -0.002632534543693709
         },
         {
          "Category": "total after",
          "Features": "housekeeping",
          "Weights": -0.030794269306635397
         },
         {
          "Category": "total after",
          "Features": "special",
          "Weights": -0.3509667772966735
         },
         {
          "Category": "total after",
          "Features": "capacity,",
          "Weights": -0.05502289995669562
         },
         {
          "Category": "total after",
          "Features": "housekeeping@Before",
          "Weights": -0.013873286168236914
         },
         {
          "Category": "total after",
          "Features": "physiotherapy",
          "Weights": -0.031167880500775787
         },
         {
          "Category": "total after",
          "Features": "claim",
          "Weights": -0.22916613819146656
         },
         {
          "Category": "total after",
          "Features": "judgment",
          "Weights": 0.5479488698732664
         },
         {
          "Category": "total after",
          "Features": "home;",
          "Weights": -0.0029618908702828545
         },
         {
          "Category": "total after",
          "Features": "negotiate",
          "Weights": -0.008102899008583275
         },
         {
          "Category": "total after",
          "Features": "claim@After",
          "Weights": -0.11987157298570782
         },
         {
          "Category": "total after",
          "Features": "total@Before",
          "Weights": 0.2582954186993863
         },
         {
          "Category": "total after",
          "Features": "prev word=total:",
          "Weights": 0.1460111252787902
         },
         {
          "Category": "total after",
          "Features": "total:@Before",
          "Weights": 0.1460111252787902
         },
         {
          "Category": "total after",
          "Features": "allowed",
          "Weights": -0.10315332673510769
         },
         {
          "Category": "total after",
          "Features": "total:",
          "Weights": 0.12141776912387049
         },
         {
          "Category": "total after",
          "Features": "value=$76,653",
          "Weights": 0.6560335190837204
         },
         {
          "Category": "total after",
          "Features": "value=$65,920",
          "Weights": 0.614953027387572
         },
         {
          "Category": "total after",
          "Features": "judgment@Before",
          "Weights": 0.6022890298210718
         },
         {
          "Category": "total after",
          "Features": "value=$62,500",
          "Weights": 0.5950054861165786
         },
         {
          "Category": "total after",
          "Features": "judgment",
          "Weights": 0.5479488698732664
         }
        ]
       },
       "encoding": {
        "color": {
         "field": "Weights",
         "type": "quantitative"
        },
        "x": {
         "bin": false,
         "field": "Features",
         "sort": null,
         "type": "nominal"
        },
        "y": {
         "field": "Category",
         "sort": {
          "field": "Category",
          "order": "ascending"
         },
         "type": "nominal"
        }
       },
       "mark": "rect"
      },
      "image/png": "[encoded data removed]",
      "text/plain": [
       "<VegaLite 3 object>\n",
       "\n",
       "If you see this message, it means the renderer has not been properly enabled\n",
       "for the frontend that you are using. For more information, see\n",
       "https://altair-viz.github.io/user_guide/troubleshooting.html\n"
      ]
     },
     "execution_count": 4,
     "metadata": {},
     "output_type": "execute_result"
    }
   ],
   "source": [
    "return_feature_heatmap(5, damages_model, damages_vectorizer)"
   ]
  },
  {
   "cell_type": "code",
   "execution_count": 5,
   "metadata": {
    "collapsed": true,
    "jupyter": {
     "outputs_hidden": true
    }
   },
   "outputs": [
    {
     "name": "stdout",
     "output_type": "stream",
     "text": [
      "Didnt find any tags in Dr. Andrew Hokhold Inc. v. Wells (c.o.b. Spall Machine & Welding), [2005] B.C.J. No. 255\n",
      "Didnt find any tags in Cowie v. Draper, [2010] B.C.J. No. 910935154 %\n",
      "Didnt find any tags in Bajwa v. Deol, [2018] I.L.R. para. G-2792606 %\n",
      "Didnt find any tags in Jackson v. Fisheries and Oceans Canada, [2006] B.C.J. No. 2654\n",
      "Didnt find any tags in Kappell v. Brown, [2012] B.C.J. No. 13964507 %\n",
      "Didnt find any tags in Austin v. Joaquin, [2007] B.C.J. No. 18944 %%\n",
      "Didnt find any tags in Los Angeles Salad Co. v. Canadian Food Inspection Agency, [2009] B.C.J. No. 161\n",
      "Didnt find any tags in Fichtner v. Johnston Meier Insurance Services Ltd., [2001] B.C.J. No. 1666\n",
      "Didnt find any tags in Mclaren v. Rice, [2009] B.C.J. No. 21089966 %%\n",
      "Didnt find any tags in Gray v. Ellis, [2007] I.L.R. para. M-211801 %\n",
      "Didnt find any tags in Morrow v. Outerbridge, 2009 CHFL para. 15,554\n",
      "Didnt find any tags in Paniccia v. Eckert, [2012] B.C.J. No. 19976 %\n",
      "Didnt find any tags in Johal v. Conron, [2013] B.C.J. No. 231829351 %\n",
      "Didnt find any tags in Ho v. Lau, [2012] B.C.J. No. 256101706484642 %\n",
      "Didnt find any tags in Rackstraw (Litigation guardian of) v. Robertson, [2011] B.C.J. No. 1354\n",
      "Didnt find any tags in Ahlwat v. Green, [2014] B.C.J. No. 245267576 %\n",
      "Didnt find any tags in Mardones v. Toyota Credit Canada Inc., [2008] B.C.J. No. 1217\n",
      "Didnt find any tags in McGavin v. Talbot, [2017] B.C.J. No. 2439511 %\n",
      "Didnt find any tags in C.H. v. British Columbia, [2003] B.C.J. No. 1706\n",
      "Didnt find any tags in Wettlaufer v. Air Transat A.T. Inc., [2013] B.C.J. No. 1531\n",
      "Didnt find any tags in Stovel v. Paul, [2013] B.C.J. No. 3318088736 %\n",
      "Didnt find any tags in Arbutus Bay Estates Ltd. v. Canada (Attorney General), [2016] B.C.J. No. 2351\n",
      "Didnt find any tags in Myatt v. Holicza, [2000] B.C.J. No. 1610283 %%\n",
      "Didnt find any tags in P.B. v. R.V.E., [2007] B.C.J. No. 2305348123 %\n",
      "Didnt find any tags in Uppal v. Rawlins, [2010] B.C.J. No. 16658702 %\n",
      "Didnt find any tags in Ahmadi v. West, [2014] B.C.J. No. 2680313994 %\n",
      "Didnt find any tags in Fiessel v. Fiessel, [2006] B.C.J. No. 168664 %\n",
      "Didnt find any tags in Bouvier v. Behrend, [2014] B.C.J. No. 136223 %\n",
      "Didnt find any tags in GE Capital Canada Equipment Financing Inc. v. Bank of Montreal, [2003] B.C.J. No. 1791\n",
      "Didnt find any tags in Mennonite Church British Columbia v. Sur-Del Roofing Ltd., [2010] B.C.J. No. 297\n",
      "Didnt find any tags in Neff v. Patry, [2008] B.C.J. No. 2092116041 %%\n",
      "Didnt find any tags in Rycroft v. Rego, [2017] B.C.J. No. 44747099 %%\n",
      "Didnt find any tags in Chamberlain v. Pro Star Mechanical Technologies Ltd., [2014] B.C.J. No. 2669\n",
      "Didnt find any tags in Cox v. Bounthavilay, [2007] B.C.J. No. 1776 %%\n",
      "Didnt find any tags in Mainardi v. Shannon, [2005] B.C.J. No. 1033 %%\n",
      "Didnt find any tags in Crump v. Bonin, [2006] B.C.J. No. 317095563 %%\n",
      "Didnt find any tags in Danielson v. Janze, [2017] B.C.J. No. 492275 %\n",
      "Didnt find any tags in Davis v. Jeyaratnam, [2019] B.C.J. No. 18806 %\n",
      "Didnt find any tags in Deline v. Vancouver Talmud Torah Assn., [2020] B.C.J. No. 274\n",
      "Didnt find any tags in Fines v. Johnson, [2020] B.C.J. No. 42466214 %\n",
      "Didnt find any tags in Francescutto v. Church, [2014] B.C.J. No. 638\n",
      "Didnt find any tags in Gee v. Bock, [2019] B.C.J. No. 15306109215 %\n",
      "Didnt find any tags in Gill v. Canada (Minister of Transport), [2014] B.C.J. No. 2921\n",
      "Didnt find any tags in Gladwell (Litigation guardian of) v. Busletta, [2018] B.C.J. No. 3570\n",
      "Didnt find any tags in Hoessmann Estate v. Aldergrove Credit Union, [2018] B.C.J. No. 303\n",
      "Didnt find any tags in Hung Fook Canada Ltd. v. Silcorp Ltd. (c.o.b. Mac's Convenience Stores), [2000] B.C.J. No. 404\n",
      "Didnt find any tags in Jones Estate v. Insurance Corp. of British Columbia, [2019] B.C.J. No. 2493\n",
      "Didnt find any tags in Kerr v. Hall, [2013] B.C.J. No. 281009215016 %\n",
      "Didnt find any tags in Lampkin v. Walls, [2016] B.C.J. No. 1154266 %\n",
      "Didnt find any tags in Larsen v. Larsen, [2004] B.C.J. No. 39970304 %\n",
      "Didnt find any tags in Malhotra v. Waterfront Homes Ltd., [2015] B.C.J. No. 1297\n",
      "Didnt find any tags in McPhail v. Ross, [2019] B.C.J. No. 2025256 %\n",
      "Didnt find any tags in Pang v. Dhalla, [2011] B.C.J. No. 813085324 %\n",
      "Didnt find any tags in Parchment v. British Columbia, [2015] B.C.J. No. 1236\n",
      "Didnt find any tags in Pritchard v. Van Nes, [2016] B.C.J. No. 781 %\n",
      "Didnt find any tags in Robson v. Chrysler Canada Ltd., [2001] B.C.J. No. 23\n",
      "Didnt find any tags in Royal Bank of Canada v. United Used Auto & Truck Parts Ltd., [2006] B.C.J. No. 1778\n",
      "Didnt find any tags in Sidhu v. Liang, [2009] B.C.J. No. 247549146 %\n",
      "Didnt find any tags in Sienema v. British Columbia Insurance Co., [2002] B.C.J. No. 71\n",
      "Didnt find any tags in Stanway v. Wyeth Canada Inc., [2013] B.C.J. No. 411\n",
      "Didnt find any tags in Stewart v. Canada (Attorney General), [2010] B.C.J. No. 2410\n",
      "Didnt find any tags in St. Michaels (Bletchley) Ltd. v. Schickedanz Properties B.C. Ltd., [2011] B.C.J. No. 2221\n",
      "Didnt find any tags in Strata Plan LMS 2940 v. Quick as a Wink Courier Service Ltd., [2007] B.C.J. No. 1448\n",
      "Didnt find any tags in Strata Plan VR 10 v. EE Management Corp., [2015] B.C.J. No. 590\n",
      "Didnt find any tags in Wakelam v. Johnson & Johnson, [2011] B.C.J. No. 2477\n",
      "Didnt find any tags in Ward v. Wishart, [2001] B.C.J. No. 144512635 %\n",
      "Didnt find any tags in West Van Holdings Ltd. v. Economical Mutual Insurance Co., [2017] B.C.J. No. 2670\n",
      "Didnt find any tags in Allen v. Girard, [2002] B.C.J. No. 21486792 %\n",
      "Didnt find any tags in Burke v. Schwetje, [2017] B.C.J. No. 232056 %\n",
      "Didnt find any tags in Drage v. Page, [2002] B.C.J. No. 1848242321 %\n",
      "Didnt find any tags in Kahlon (Litigation guardian of) v. Vancouver Coastal Health Authority, 2009 CHFL para. 15,560\n",
      "Didnt find any tags in Kristiansen v. Grewal, [2014] B.C.J. No. 641\n",
      "Didnt find any tags in Low v. Albas, 2013 BREG para. 50,73017406135 %\n",
      "Didnt find any tags in Parragh v. Eagle Ridge Hospital and Health Care Centre, [2008] B.C.J. No. 1836\n",
      "Didnt find any tags in Peters v. Ortner, [2013] B.C.J. No. 22419074 %\n",
      "Didnt find any tags in Redmile v. Beaulieu, [2019] B.C.J. No. 17555 %\n",
      "Didnt find any tags in Roberts & Baker v. Kemp, [2005] B.C.J. No. 1928\n",
      "Didnt find any tags in Turner v. Dionne, [2017] B.C.J. No. 2134202 %\n",
      "Didnt find any tags in VSH Management Inc. v. Neufeld, [2002] B.C.J. No. 1673\n",
      "Didnt find any tags in Achtymichuk v. Bayer Inc., [2018] B.C.J. No. 879\n",
      "Didnt find any tags in Axa Pacific Insurance Company Ltd. v. Guildford Marquis Towers Ltd., [2000] I.L.R. para. I-3801\n",
      "Didnt find any tags in Bingo City Games Inc. v. British Columbia Lottery Corp., [2003] B.C.J. No. 985\n",
      "Didnt find any tags in Bittante v. Zichy, [2008] I.L.R. para. M-2244\n",
      "Didnt find any tags in F.W. Hearns/Actes - A Joint Venture v. University of British Columbia, [2000] B.C.J. No. 1238\n",
      "Didnt find any tags in Harris v. Sweet, [2005] B.C.J. No. 15209317 %\n",
      "Didnt find any tags in Horvath v. Thring, [2000] B.C.J. No. 131082 %\n",
      "Didnt find any tags in Keen v. Surrey (City), [2004] B.C.J. No. 2161%\n",
      "Didnt find any tags in Leung v. Hui, [2000] B.C.J. No. 16969897611 %\n",
      "Didnt find any tags in Manavi v. Cascadia Apartment Rentals Ltd., [2017] B.C.J. No. 218\n",
      "Didnt find any tags in Ogden v. Gulf Log Salvage Co-operative Assn., [2005] B.C.J. No. 61\n",
      "Didnt find any tags in Petersen v. Stadnyk, [2003] B.C.J. No. 3173 %\n",
      "Didnt find any tags in Sharbern Holding Inc. v. Vancouver Airport Centre Ltd., [2005] B.C.J. No. 347\n",
      "Didnt find any tags in Skytrac Systems Ltd. v. Mares, [2009] B.C.J. No. 1641\n",
      "Didnt find any tags in Strata Plan BCS 1589 v. Nacht, [2018] B.C.J. No. 517\n",
      "Didnt find any tags in Suveges v. Martens, [2000] B.C.J. No. 10372 %\n",
      "Didnt find any tags in Thorburn v. British Columbia (Ministry of Public Safety and Solicitor General), [2012] B.C.J. No. 2216\n",
      "Didnt find any tags in Paur (Committee of) v. Providence Health Care, [2015] B.C.J. No. 2015\n",
      "Didnt find any tags in Clare v. I.J. Manufacturing and three other actions, 2003 BREG para. 50,351\n",
      "Didnt find any tags in Coglon v. Ergas, [2009] B.C.J. No. 24274607 %\n",
      "Didnt find any tags in Commisso v. Teck Coal Ltd., [2018] B.C.J. No. 6970\n",
      "Didnt find any tags in Crawford v. Nazif, [2019] B.C.J. No. 259836 %\n",
      "Didnt find any tags in Cummings v. Tellier, [2019] B.C.J. No. 2312 %\n",
      "Didnt find any tags in Cupo v. Brady, [2013] B.C.J. No. 2086385666 %\n",
      "Didnt find any tags in Davis v. Royal Bank of Canada, [2016] B.C.J. No. 2262\n",
      "Didnt find any tags in Deo v. Vancouver School No. 39, [2014] B.C.J. No. 3083\n",
      "Didnt find any tags in Exclusive Flor Sales Ltd. v. Fipke, [2010] B.C.J. No. 2142\n",
      "Didnt find any tags in Foote v. Hallen, [2014] B.C.J. No. 57816724 %\n",
      "Didnt find any tags in Gaida Estate v. McLeod, [2013] B.C.J. No. 1423\n",
      "Didnt find any tags in human v. Insurance Corp. of British Columbia, [2019] B.C.J. No. 1547\n",
      "Didnt find any tags in Gichuru v. Purewal, [2019] B.C.J. No. 82918 %\n",
      "Didnt find any tags in Glenn v. Seair Seaplanes Ltd., [2012] B.C.J. No. 2428\n",
      "Didnt find any tags in Halliday v. Teasdale, [2019] B.C.J. No. 1414%\n",
      "Didnt find any tags in Haror v. Rana, [2018] B.C.J. No. 3553713311 %\n",
      "Didnt find any tags in Hixon-Gause v. Roberts, [2003] I.L.R. para. M-1673\n",
      "Didnt find any tags in Holland (Guardian ad litem of) v. Marshall, [2008] B.C.J. No. 2827\n",
      "Didnt find any tags in Horvath v. Thring, [2004] I.L.R. para. M-1713\n",
      "Didnt find any tags in Ho v. Ip, [2019] B.C.J. No. 250383959044369 %\n",
      "Didnt find any tags in I.A.L. (Litigation guardian of) v. Y.C., [2019] B.C.J. No. 1739\n",
      "Didnt find any tags in Insurance Corp. of British Columbia v. Suska, [2009] B.C.J. No. 2474\n",
      "Didnt find any tags in Irving v. Canada (Royal Canadian Mounted Police), [2000] B.C.J. No. 424\n",
      "Didnt find any tags in Jackson v. Backus, [2002] I.L.R. para. G-1496\n",
      "Didnt find any tags in Jennings v. Insurance Corporation of British Columbia, [2002] I.L.R. para. M-1562\n",
      "Didnt find any tags in Jiang v. Grand East Supermarket Inc., [2005] B.C.J. No. 2787\n",
      "Didnt find any tags in John Doe 1 v. University of British Columbia, [2019] B.C.J. No. 808\n",
      "Didnt find any tags in Joy v. Atkinson, [2008] B.C.J. No. 11276484 %\n",
      "Didnt find any tags in J.R.T. Nurseries Inc. v. 0843374 B.C. Ltd., [2016] B.C.J. No. 578\n",
      "Didnt find any tags in Lansdowne v. United Church of Canada, [2001] I.L.R. para. G-1403\n",
      "Didnt find any tags in Lapointe v. John Doe, [2016] B.C.J. No. 223 %\n",
      "Didnt find any tags in Laurier Charters Ltd. v. Eggleton, [2020] B.C.J. No. 342\n",
      "Didnt find any tags in Day v. Roberts, [2019] B.C.J. No. 220570307 %\n",
      "Didnt find any tags in Holt v. Rother, [2013] B.C.J. No. 128603072 %\n",
      "Didnt find any tags in Lindgren (Litigation guardian of) v. Parks Canada Agency, [2018] B.C.J. No. 120\n",
      "Didnt find any tags in Miller v. Budzinski, [2004] B.C.J. No. 2718\n",
      "Didnt find any tags in Reaton Leasing Ltd. v. Glenmore-Ellison (Improvement District), [2004] B.C.J. No. 564\n",
      "Didnt find any tags in Benek v. Pugash, [2004] B.C.J. No. 1931413 %\n",
      "Didnt find any tags in Davies v. Larabie, [2005] B.C.J. No. 178695 %\n",
      "Didnt find any tags in Healey v. Royal Bank of Canada, [2003] B.C.J. No. 474\n",
      "Didnt find any tags in Insurance Corp. of British Columbia v. Scheelar, [2003] B.C.J. No. 1406\n",
      "Didnt find any tags in Middleton v. Ocean Tribune (The), [2004] B.C.J. No. 38\n",
      "Didnt find any tags in Mohebbi v. Canada (Royal Canadian Mounted Police) (North Vancouver), [2015] B.C.J. No. 2475\n",
      "Didnt find any tags in R.D. v. G.S., [2011] B.C.J. No. 18457030717 %\n",
      "Didnt find any tags in Strata Plan LMS 1564 v. Odyssey Tower Properties Ltd., [2009] B.C.J. No. 1511\n",
      "Didnt find any tags in Barkley v. Sooter Studios Ltd., [2001] B.C.J. No. 624\n",
      "Didnt find any tags in B.S.A. Investors Ltd. v. Mosly, [2004] B.C.J. No. 2686\n",
      "Didnt find any tags in Capilano Fishing Ltd. v. Qualicum Producer (The), [2000] B.C.J. No. 72\n",
      "Didnt find any tags in Dhami v. Bath, [2014] B.C.J. No. 7846860067 %\n",
      "Didnt find any tags in Dornan v. Silva, [2019] B.C.J. No. 79492832 %\n",
      "Didnt find any tags in Monych v. Beacon Community Services Society, [2009] B.C.J. No. 844\n",
      "Didnt find any tags in Avender v. Western Canadian Timber Products Ltd., [2018] B.C.J. No. 3340\n",
      "Didnt find any tags in Crossman (Litigation guardian of) v. Boiley, [2016] B.C.J. No. 1647\n",
      "Didnt find any tags in Elder v. Stewart, [2007] B.C.J. No. 8522185 %\n",
      "Didnt find any tags in Engel v. Engel, [2000] B.C.J. No. 179454949 %\n",
      "Didnt find any tags in Gengenbacher v. Smith, [2016] B.C.J. No. 1337\n",
      "Didnt find any tags in Morris (Guardian ad litem of) v. Gentry, [2005] B.C.J. No. 1059\n",
      "Didnt find any tags in Nash v. MacDougall, [2007] B.C.J. No. 83843 %\n",
      "Didnt find any tags in Ali v. Fineblit, [2015] B.C.J. No. 18236008 %\n",
      "Didnt find any tags in Basic v. Barjaktarovic Estate, [2019] B.C.J. No. 155\n",
      "Didnt find any tags in Sahota v. Slupskyy, [2019] B.C.J. No. 25127 %\n",
      "Didnt find any tags in Sarai v. Caharel, [2013] B.C.J. No. 2299652 %\n",
      "Didnt find any tags in Seeliger v. Eagle Ridge Hospital, [2006] B.C.J. No. 2189\n",
      "Didnt find any tags in Siegerist (Litigation guardian of) v. Tilton, [2020] B.C.J. No. 594\n",
      "Didnt find any tags in Silva v. Sharma, [2019] B.C.J. No. 50511946 %\n",
      "Didnt find any tags in Douez v. Facebook, Inc., [2014] B.C.J. No. 1051\n",
      "Didnt find any tags in Gates v. MacDougall, [2006] B.C.J. No. 3301 %\n",
      "Didnt find any tags in Hamilton v. Callaway, [2014] B.C.J. No. 174 %\n",
      "Didnt find any tags in Jellis v. Lukinuk, [2019] B.C.J. No. 176503 %\n",
      "Didnt find any tags in MacMillan, Tucker & Mackay v. Cook, [2009] B.C.J. No. 991\n",
      "Didnt find any tags in Martin v. Lavigne, [2010] B.C.J. No. 162032 %\n",
      "Didnt find any tags in Moore v. College of Physicians and Surgeons of British Columbia, [2013] B.C.J. No. 2504\n",
      "Didnt find any tags in Nolting Estate v. Interior Health Authority (c.o.b. Vernon Jubilee Hospital), [2016] B.C.J. No. 1601\n",
      "Didnt find any tags in Ontario (Pension Board) v. Ball, [2010] B.C.J. No. 1792\n",
      "Didnt find any tags in Royal Pacific Real Estate Group Ltd. v. Dong, [2018] B.C.J. No. 2881\n",
      "Didnt find any tags in Rutter v. Adams, [2016] B.C.J. No. 62972356 %\n",
      "Didnt find any tags in R. v. Siemens, [2000] B.C.J. No. 230650512 %\n",
      "Didnt find any tags in Skibinski v. Community Living British Columbia, [2010] B.C.J. No. 2076\n",
      "Didnt find any tags in Strilec v. Leila, [2015] B.C.J. No. 1831649 %\n",
      "Didnt find any tags in Suthakar v. Humble, [2016] B.C.J. No. 17214 %\n",
      "Didnt find any tags in Aulakh v. Nahal, [2018] B.C.J. No. 80436177 %\n",
      "Didnt find any tags in Bakker v. Nahanee, [2012] B.C.J. No. 114742 %\n",
      "Didnt find any tags in Barnes v. Richardson, [2008] B.C.J. No. 1904%\n",
      "Didnt find any tags in Cybulski v. Bertrand, [2000] B.C.J. No. 470 %\n",
      "Reading training data and extracting features... 99.65870307167235 %\n",
      "Vectorizing...\n",
      "Tag Distribution\n",
      "Counter({'other': 698, 'cnp': 147, 'cnd': 146, 'sub-cnd': 6})\n",
      "Cross validation evaluation...\n",
      "              precision    recall  f1-score   support\n",
      "\n",
      "         cnd       0.61      0.70      0.65       146\n",
      "         cnp       0.58      0.54      0.56       147\n",
      "       other       0.90      0.88      0.89       698\n",
      "     sub-cnd       0.75      1.00      0.86         6\n",
      "\n",
      "    accuracy                           0.81       997\n",
      "   macro avg       0.71      0.78      0.74       997\n",
      "weighted avg       0.81      0.81      0.81       997\n",
      "\n",
      "Training final model...\n"
     ]
    }
   ],
   "source": [
    "model_cn, vectorizer_cn, annotated_cn = key_functions.train_CN_classifier('../../data/annotations/all_annotations_CN.txt', LogisticRegression(C = 1, penalty='l1', solver = 'liblinear', class_weight = 'balanced', max_iter = 10000, random_state=42))"
   ]
  },
  {
   "cell_type": "code",
   "execution_count": 6,
   "metadata": {},
   "outputs": [
    {
     "data": {
      "application/vnd.vegalite.v3+json": {
       "$schema": "https://vega.github.io/schema/vega-lite/v3.4.0.json",
       "config": {
        "mark": {
         "tooltip": null
        },
        "view": {
         "height": 300,
         "width": 400
        }
       },
       "data": {
        "name": "data-0cd5f29742ff9216c884fc42a2f11339"
       },
       "datasets": {
        "data-0cd5f29742ff9216c884fc42a2f11339": [
         {
          "Category": "cnd",
          "Features": "impose",
          "Weights": 3.1267590490165325
         },
         {
          "Category": "cnd",
          "Features": "responsible",
          "Weights": 3.0841628803904917
         },
         {
          "Category": "cnd",
          "Features": "float",
          "Weights": 2.85010794934565
         },
         {
          "Category": "cnd",
          "Features": "a",
          "Weights": 2.6926027491071087
         },
         {
          "Category": "cnd",
          "Features": "liability",
          "Weights": 2.671629207948562
         },
         {
          "Category": "cnd",
          "Features": "grant",
          "Weights": 0
         },
         {
          "Category": "cnd",
          "Features": "corrective",
          "Weights": 0
         },
         {
          "Category": "cnd",
          "Features": "contributory",
          "Weights": -0.2336753421450425
         },
         {
          "Category": "cnd",
          "Features": "contributorily",
          "Weights": 0
         },
         {
          "Category": "cnd",
          "Features": "ass",
          "Weights": 0
         },
         {
          "Category": "cnd",
          "Features": "township",
          "Weights": -2.866392919137484
         },
         {
          "Category": "cnd",
          "Features": "s",
          "Weights": 0.7703717966031713
         },
         {
          "Category": "cnd",
          "Features": "road",
          "Weights": -0.7914310178703071
         },
         {
          "Category": "cnd",
          "Features": "zanatta",
          "Weights": -0.40115385668162074
         },
         {
          "Category": "cnd",
          "Features": "defendant and reduction",
          "Weights": -0.5363061472878637
         },
         {
          "Category": "cnd",
          "Features": "james",
          "Weights": -2.4858779383723135
         },
         {
          "Category": "cnd",
          "Features": "klock",
          "Weights": 0
         },
         {
          "Category": "cnd",
          "Features": "CN_lexicon",
          "Weights": 0.25391134435851037
         },
         {
          "Category": "cnd",
          "Features": "percentage",
          "Weights": 0
         },
         {
          "Category": "cnd",
          "Features": "percentages",
          "Weights": 0
         },
         {
          "Category": "cnp",
          "Features": "impose",
          "Weights": 0
         },
         {
          "Category": "cnp",
          "Features": "responsible",
          "Weights": -0.7848764171430251
         },
         {
          "Category": "cnp",
          "Features": "float",
          "Weights": -2.891364220856218
         },
         {
          "Category": "cnp",
          "Features": "a",
          "Weights": 0
         },
         {
          "Category": "cnp",
          "Features": "liability",
          "Weights": 0.4090604431969906
         },
         {
          "Category": "cnp",
          "Features": "grant",
          "Weights": 4.140236349552129
         },
         {
          "Category": "cnp",
          "Features": "corrective",
          "Weights": 3.7254893151972293
         },
         {
          "Category": "cnp",
          "Features": "contributory",
          "Weights": 3.5673924023008685
         },
         {
          "Category": "cnp",
          "Features": "contributorily",
          "Weights": 3.3214518193807336
         },
         {
          "Category": "cnp",
          "Features": "ass",
          "Weights": 3.046283465628018
         },
         {
          "Category": "cnp",
          "Features": "township",
          "Weights": 0
         },
         {
          "Category": "cnp",
          "Features": "s",
          "Weights": -2.2264733750761314
         },
         {
          "Category": "cnp",
          "Features": "road",
          "Weights": 0
         },
         {
          "Category": "cnp",
          "Features": "zanatta",
          "Weights": 0
         },
         {
          "Category": "cnp",
          "Features": "defendant and reduction",
          "Weights": -1.1518983357090158
         },
         {
          "Category": "cnp",
          "Features": "james",
          "Weights": -1.3420280993379363
         },
         {
          "Category": "cnp",
          "Features": "klock",
          "Weights": -1.516233528176747
         },
         {
          "Category": "cnp",
          "Features": "CN_lexicon",
          "Weights": 1.1048890546231511
         },
         {
          "Category": "cnp",
          "Features": "percentage",
          "Weights": 0
         },
         {
          "Category": "cnp",
          "Features": "percentages",
          "Weights": 0
         },
         {
          "Category": "other",
          "Features": "impose",
          "Weights": 0
         },
         {
          "Category": "other",
          "Features": "responsible",
          "Weights": -0.7276825138458576
         },
         {
          "Category": "other",
          "Features": "float",
          "Weights": 0.11931040584426277
         },
         {
          "Category": "other",
          "Features": "a",
          "Weights": 0
         },
         {
          "Category": "other",
          "Features": "liability",
          "Weights": -2.306500246776268
         },
         {
          "Category": "other",
          "Features": "grant",
          "Weights": -0.5153200201707758
         },
         {
          "Category": "other",
          "Features": "corrective",
          "Weights": 0
         },
         {
          "Category": "other",
          "Features": "contributory",
          "Weights": -2.2033056440738608
         },
         {
          "Category": "other",
          "Features": "contributorily",
          "Weights": -1.0569531583876408
         },
         {
          "Category": "other",
          "Features": "ass",
          "Weights": 0
         },
         {
          "Category": "other",
          "Features": "township",
          "Weights": 2.707786458334931
         },
         {
          "Category": "other",
          "Features": "s",
          "Weights": 1.741826750212639
         },
         {
          "Category": "other",
          "Features": "road",
          "Weights": 1.3362008678823045
         },
         {
          "Category": "other",
          "Features": "zanatta",
          "Weights": 0.9348565632770018
         },
         {
          "Category": "other",
          "Features": "defendant and reduction",
          "Weights": 0.5857073515107573
         },
         {
          "Category": "other",
          "Features": "james",
          "Weights": 0
         },
         {
          "Category": "other",
          "Features": "klock",
          "Weights": 0
         },
         {
          "Category": "other",
          "Features": "CN_lexicon",
          "Weights": -0.5146392250622321
         },
         {
          "Category": "other",
          "Features": "percentage",
          "Weights": 0
         },
         {
          "Category": "other",
          "Features": "percentages",
          "Weights": 0
         },
         {
          "Category": "sub-cnd",
          "Features": "impose",
          "Weights": 0
         },
         {
          "Category": "sub-cnd",
          "Features": "responsible",
          "Weights": 0
         },
         {
          "Category": "sub-cnd",
          "Features": "float",
          "Weights": -5.123677544995146
         },
         {
          "Category": "sub-cnd",
          "Features": "a",
          "Weights": 0
         },
         {
          "Category": "sub-cnd",
          "Features": "liability",
          "Weights": 0
         },
         {
          "Category": "sub-cnd",
          "Features": "grant",
          "Weights": 0
         },
         {
          "Category": "sub-cnd",
          "Features": "corrective",
          "Weights": 0
         },
         {
          "Category": "sub-cnd",
          "Features": "contributory",
          "Weights": 0
         },
         {
          "Category": "sub-cnd",
          "Features": "contributorily",
          "Weights": 0
         },
         {
          "Category": "sub-cnd",
          "Features": "ass",
          "Weights": 0
         },
         {
          "Category": "sub-cnd",
          "Features": "township",
          "Weights": 0
         },
         {
          "Category": "sub-cnd",
          "Features": "s",
          "Weights": 0
         },
         {
          "Category": "sub-cnd",
          "Features": "road",
          "Weights": 0
         },
         {
          "Category": "sub-cnd",
          "Features": "zanatta",
          "Weights": 0
         },
         {
          "Category": "sub-cnd",
          "Features": "defendant and reduction",
          "Weights": 0
         },
         {
          "Category": "sub-cnd",
          "Features": "james",
          "Weights": 10.266715401898944
         },
         {
          "Category": "sub-cnd",
          "Features": "klock",
          "Weights": 0.8744567550465071
         },
         {
          "Category": "sub-cnd",
          "Features": "CN_lexicon",
          "Weights": 0
         },
         {
          "Category": "sub-cnd",
          "Features": "percentage",
          "Weights": 0
         },
         {
          "Category": "sub-cnd",
          "Features": "percentages",
          "Weights": 0
         }
        ]
       },
       "encoding": {
        "color": {
         "field": "Weights",
         "type": "quantitative"
        },
        "x": {
         "bin": false,
         "field": "Features",
         "sort": null,
         "type": "nominal"
        },
        "y": {
         "field": "Category",
         "sort": {
          "field": "Category",
          "order": "ascending"
         },
         "type": "nominal"
        }
       },
       "mark": "rect"
      },
      "image/png": "[encoded data removed]",
      "text/plain": [
       "<VegaLite 3 object>\n",
       "\n",
       "If you see this message, it means the renderer has not been properly enabled\n",
       "for the frontend that you are using. For more information, see\n",
       "https://altair-viz.github.io/user_guide/troubleshooting.html\n"
      ]
     },
     "execution_count": 6,
     "metadata": {},
     "output_type": "execute_result"
    }
   ],
   "source": [
    "return_feature_heatmap(5, model_cn, vectorizer_cn)"
   ]
  },
  {
   "cell_type": "code",
   "execution_count": 6,
   "metadata": {
    "collapsed": true,
    "jupyter": {
     "outputs_hidden": true
    }
   },
   "outputs": [
    {
     "name": "stdout",
     "output_type": "stream",
     "text": [
      "P1.txt\n",
      "P21.txt\n",
      "P64.txt\n",
      "P14.txt\n",
      "P41.txt\n",
      "P11.txt\n",
      "P60.txt\n",
      "P48.txt\n",
      "P83.txt\n",
      "P23.txt\n",
      "P73.txt\n",
      "P26.txt\n",
      "P75.txt\n",
      "P65.txt\n",
      "P32.txt\n",
      "P34.txt\n",
      "P16.txt\n",
      "P37.txt\n",
      "P7.txt\n",
      "P51.txt\n",
      "P30.txt\n",
      "P25.txt\n",
      "P62.txt\n",
      "P19.txt\n",
      "P53.txt\n",
      "P49.txt\n",
      "P39.txt\n",
      "P45.txt\n",
      "P72.txt\n",
      "P55.txt\n",
      "P81.txt\n",
      "P22.txt\n",
      "P28.txt\n",
      "ERROR: cant convert string, 0%\n",
      "P58.txt\n",
      "P46.txt\n",
      "P3.txt\n",
      "P5.txt\n",
      "P8.txt\n",
      "P56.txt\n",
      "P43.txt\n",
      "P36.txt\n",
      "P2.txt\n",
      "P13.txt\n",
      "P67.txt\n",
      "P38.txt\n",
      "P79.txt\n",
      "P57.txt\n",
      "P80.txt\n",
      "P84.txt\n",
      "P54.txt\n",
      "P50.txt\n",
      "P77.txt\n",
      "P20.txt\n",
      "P24.txt\n",
      "P85.txt\n",
      "P10.txt\n",
      "P6.txt\n",
      "P35.txt\n",
      "P74.txt\n",
      "P27.txt\n",
      "P78.txt\n",
      "P61.txt\n",
      "P71.txt\n",
      "P9.txt\n",
      "P70.txt\n",
      "P44.txt\n",
      "P15.txt\n",
      "P82.txt\n",
      "P69.txt\n",
      "P29.txt\n",
      "P18.txt\n",
      "P4.txt\n",
      "P40.txt\n",
      "P66.txt\n",
      "P12.txt\n",
      "P59.txt\n",
      "P63.txt\n",
      "P68.txt\n",
      "P33.txt\n",
      "P47.txt\n",
      "P76.txt\n",
      "P52.txt\n",
      "P31.txt\n",
      "P17.txt\n",
      "P42.txt\n"
     ]
    }
   ],
   "source": [
    "path = \"../../data/Lexis Cases txt/\"\n",
    "list_of_files = os.listdir(path)\n",
    "\n",
    "# list of dictionaries of attributes per document\n",
    "all_cases_parsed =[]\n",
    "for file in list_of_files:\n",
    "    if file != \".DS_Store\" and file != \".ipynb_checkpoints\":\n",
    "        print(file)\n",
    "        all_cases_parsed.extend(key_functions.rule_based_parse_BCJ(path + file,\n",
    "                                                                   damages_model, damages_vectorizer, damages_dict,  \n",
    "                                                                   cn_model = model_cn, cn_vectorizer = vectorizer_cn, \n",
    "                                                                   annotated_cn=annotated_cn))"
   ]
  },
  {
   "cell_type": "code",
   "execution_count": 7,
   "metadata": {},
   "outputs": [
    {
     "data": {
      "text/html": [
       "<div>\n",
       "<style scoped>\n",
       "    .dataframe tbody tr th:only-of-type {\n",
       "        vertical-align: middle;\n",
       "    }\n",
       "\n",
       "    .dataframe tbody tr th {\n",
       "        vertical-align: top;\n",
       "    }\n",
       "\n",
       "    .dataframe thead th {\n",
       "        text-align: right;\n",
       "    }\n",
       "</style>\n",
       "<table border=\"1\" class=\"dataframe\">\n",
       "  <thead>\n",
       "    <tr style=\"text-align: right;\">\n",
       "      <th></th>\n",
       "      <th>Case Number</th>\n",
       "      <th>Case Name</th>\n",
       "      <th>Year</th>\n",
       "      <th>Total Damage</th>\n",
       "      <th>Total Pecuniary</th>\n",
       "      <th>Non Pecuniary</th>\n",
       "      <th>General</th>\n",
       "      <th>Special</th>\n",
       "      <th>Punitive</th>\n",
       "      <th>Aggravated</th>\n",
       "      <th>Future Care</th>\n",
       "      <th>Judge Name</th>\n",
       "      <th>Decision Length</th>\n",
       "      <th>Multiple defendants?</th>\n",
       "      <th>Plaintiff Wins?</th>\n",
       "      <th>Contributory Negligence Raised</th>\n",
       "      <th>Written Decision?</th>\n",
       "      <th>Registry</th>\n",
       "      <th>Contributory Negligence Successful</th>\n",
       "      <th>Percent Reduction</th>\n",
       "    </tr>\n",
       "  </thead>\n",
       "  <tbody>\n",
       "    <tr>\n",
       "      <th>0</th>\n",
       "      <td>1 of 1</td>\n",
       "      <td>Mawani v. Pitcairn, [2012] B.C.J. No. 1819</td>\n",
       "      <td>2012</td>\n",
       "      <td>NaN</td>\n",
       "      <td>NaN</td>\n",
       "      <td>NaN</td>\n",
       "      <td>NaN</td>\n",
       "      <td>NaN</td>\n",
       "      <td>NaN</td>\n",
       "      <td>NaN</td>\n",
       "      <td>NaN</td>\n",
       "      <td>S.F. Kelleher J.</td>\n",
       "      <td>115</td>\n",
       "      <td>Y</td>\n",
       "      <td>Y</td>\n",
       "      <td>True</td>\n",
       "      <td>True</td>\n",
       "      <td>Vancouver</td>\n",
       "      <td>True</td>\n",
       "      <td>0.50</td>\n",
       "    </tr>\n",
       "    <tr>\n",
       "      <th>1</th>\n",
       "      <td>2 of 1</td>\n",
       "      <td>Ediger (Guardian ad litem of) v. Johnston, [20...</td>\n",
       "      <td>2009</td>\n",
       "      <td>3224000.00</td>\n",
       "      <td>630000.00</td>\n",
       "      <td>260000.0</td>\n",
       "      <td>590000.0</td>\n",
       "      <td>40000.00</td>\n",
       "      <td>NaN</td>\n",
       "      <td>NaN</td>\n",
       "      <td>NaN</td>\n",
       "      <td>H.J. Holmes J.</td>\n",
       "      <td>350</td>\n",
       "      <td>N</td>\n",
       "      <td>Y</td>\n",
       "      <td>False</td>\n",
       "      <td>True</td>\n",
       "      <td>Vancouver</td>\n",
       "      <td>False</td>\n",
       "      <td>NaN</td>\n",
       "    </tr>\n",
       "    <tr>\n",
       "      <th>2</th>\n",
       "      <td>3 of 1</td>\n",
       "      <td>Furness v. Guest, [2010] B.C.J. No. 1388</td>\n",
       "      <td>2010</td>\n",
       "      <td>41020.70</td>\n",
       "      <td>1020.70</td>\n",
       "      <td>40000.0</td>\n",
       "      <td>NaN</td>\n",
       "      <td>1020.70</td>\n",
       "      <td>NaN</td>\n",
       "      <td>NaN</td>\n",
       "      <td>NaN</td>\n",
       "      <td>D.A. Halfyard J.</td>\n",
       "      <td>97</td>\n",
       "      <td>Y</td>\n",
       "      <td>Y</td>\n",
       "      <td>True</td>\n",
       "      <td>True</td>\n",
       "      <td>Nanaimo</td>\n",
       "      <td>True</td>\n",
       "      <td>0.75</td>\n",
       "    </tr>\n",
       "    <tr>\n",
       "      <th>3</th>\n",
       "      <td>4 of 1</td>\n",
       "      <td>Howell v. Machi, [2017] B.C.J. No. 2016</td>\n",
       "      <td>2017</td>\n",
       "      <td>2078781.77</td>\n",
       "      <td>1803781.77</td>\n",
       "      <td>275000.0</td>\n",
       "      <td>1775000.0</td>\n",
       "      <td>28781.77</td>\n",
       "      <td>NaN</td>\n",
       "      <td>NaN</td>\n",
       "      <td>NaN</td>\n",
       "      <td>H. MacNaughton</td>\n",
       "      <td>525</td>\n",
       "      <td>Y</td>\n",
       "      <td>Y</td>\n",
       "      <td>True</td>\n",
       "      <td>True</td>\n",
       "      <td>Vancouver</td>\n",
       "      <td>True</td>\n",
       "      <td>0.25</td>\n",
       "    </tr>\n",
       "    <tr>\n",
       "      <th>4</th>\n",
       "      <td>5 of 1</td>\n",
       "      <td>Morrow v. Outerbridge, [2009] B.C.J. No. 640</td>\n",
       "      <td>2009</td>\n",
       "      <td>NaN</td>\n",
       "      <td>2706543.59</td>\n",
       "      <td>NaN</td>\n",
       "      <td>2451229.0</td>\n",
       "      <td>255314.59</td>\n",
       "      <td>NaN</td>\n",
       "      <td>NaN</td>\n",
       "      <td>NaN</td>\n",
       "      <td>E.A. Bennett J.</td>\n",
       "      <td>311</td>\n",
       "      <td>Y</td>\n",
       "      <td>Y</td>\n",
       "      <td>False</td>\n",
       "      <td>True</td>\n",
       "      <td>Vancouver</td>\n",
       "      <td>False</td>\n",
       "      <td>NaN</td>\n",
       "    </tr>\n",
       "    <tr>\n",
       "      <th>5</th>\n",
       "      <td>6 of 1</td>\n",
       "      <td>Parlby v. Starr, [2017] B.C.J. No. 2621</td>\n",
       "      <td>2017</td>\n",
       "      <td>2575820.58</td>\n",
       "      <td>2285820.58</td>\n",
       "      <td>290000.0</td>\n",
       "      <td>1265141.0</td>\n",
       "      <td>12652.24</td>\n",
       "      <td>NaN</td>\n",
       "      <td>NaN</td>\n",
       "      <td>1008027.34</td>\n",
       "      <td>M.L. Fleming J.</td>\n",
       "      <td>593</td>\n",
       "      <td>Y</td>\n",
       "      <td>Y</td>\n",
       "      <td>True</td>\n",
       "      <td>True</td>\n",
       "      <td>Vancouver</td>\n",
       "      <td>True</td>\n",
       "      <td>0.35</td>\n",
       "    </tr>\n",
       "    <tr>\n",
       "      <th>6</th>\n",
       "      <td>7 of 1</td>\n",
       "      <td>Minhas v. Sartor, [2012] B.C.J. No. 1087</td>\n",
       "      <td>2012</td>\n",
       "      <td>190282.00</td>\n",
       "      <td>120282.00</td>\n",
       "      <td>70000.0</td>\n",
       "      <td>NaN</td>\n",
       "      <td>24466.00</td>\n",
       "      <td>NaN</td>\n",
       "      <td>NaN</td>\n",
       "      <td>95816.00</td>\n",
       "      <td>W.G. Baker J.</td>\n",
       "      <td>462</td>\n",
       "      <td>N</td>\n",
       "      <td>Y</td>\n",
       "      <td>True</td>\n",
       "      <td>True</td>\n",
       "      <td>New Westminster</td>\n",
       "      <td>True</td>\n",
       "      <td>0.20</td>\n",
       "    </tr>\n",
       "    <tr>\n",
       "      <th>7</th>\n",
       "      <td>8 of 1</td>\n",
       "      <td>Glanville v. Moberg, [2014] B.C.J. No. 1869</td>\n",
       "      <td>2014</td>\n",
       "      <td>NaN</td>\n",
       "      <td>NaN</td>\n",
       "      <td>NaN</td>\n",
       "      <td>NaN</td>\n",
       "      <td>NaN</td>\n",
       "      <td>NaN</td>\n",
       "      <td>NaN</td>\n",
       "      <td>NaN</td>\n",
       "      <td>L.A. Warren J.</td>\n",
       "      <td>127</td>\n",
       "      <td>Y</td>\n",
       "      <td>Y</td>\n",
       "      <td>True</td>\n",
       "      <td>True</td>\n",
       "      <td>Vancouver and New Westminster</td>\n",
       "      <td>True</td>\n",
       "      <td>0.70</td>\n",
       "    </tr>\n",
       "    <tr>\n",
       "      <th>8</th>\n",
       "      <td>9 of 1</td>\n",
       "      <td>Watkins v. Dormuth, [2014] B.C.J. No. 557</td>\n",
       "      <td>2014</td>\n",
       "      <td>965827.10</td>\n",
       "      <td>552327.10</td>\n",
       "      <td>175000.0</td>\n",
       "      <td>525000.0</td>\n",
       "      <td>16577.10</td>\n",
       "      <td>NaN</td>\n",
       "      <td>NaN</td>\n",
       "      <td>10750.00</td>\n",
       "      <td>M.B. Blok J.</td>\n",
       "      <td>305</td>\n",
       "      <td>Y</td>\n",
       "      <td>Y</td>\n",
       "      <td>False</td>\n",
       "      <td>True</td>\n",
       "      <td>Campbell River</td>\n",
       "      <td>False</td>\n",
       "      <td>NaN</td>\n",
       "    </tr>\n",
       "    <tr>\n",
       "      <th>9</th>\n",
       "      <td>10 of 1</td>\n",
       "      <td>Paur (Committee of) v. Providence Health Care,...</td>\n",
       "      <td>2015</td>\n",
       "      <td>360894.28</td>\n",
       "      <td>5594.28</td>\n",
       "      <td>355300.0</td>\n",
       "      <td>NaN</td>\n",
       "      <td>5594.28</td>\n",
       "      <td>NaN</td>\n",
       "      <td>NaN</td>\n",
       "      <td>NaN</td>\n",
       "      <td>S.A. Griffin J.</td>\n",
       "      <td>755</td>\n",
       "      <td>Y</td>\n",
       "      <td>Y</td>\n",
       "      <td>True</td>\n",
       "      <td>True</td>\n",
       "      <td>Vancouver</td>\n",
       "      <td>False</td>\n",
       "      <td>NaN</td>\n",
       "    </tr>\n",
       "  </tbody>\n",
       "</table>\n",
       "</div>"
      ],
      "text/plain": [
       "  Case Number                                          Case Name  Year  \\\n",
       "0      1 of 1         Mawani v. Pitcairn, [2012] B.C.J. No. 1819  2012   \n",
       "1      2 of 1  Ediger (Guardian ad litem of) v. Johnston, [20...  2009   \n",
       "2      3 of 1           Furness v. Guest, [2010] B.C.J. No. 1388  2010   \n",
       "3      4 of 1            Howell v. Machi, [2017] B.C.J. No. 2016  2017   \n",
       "4      5 of 1       Morrow v. Outerbridge, [2009] B.C.J. No. 640  2009   \n",
       "5      6 of 1            Parlby v. Starr, [2017] B.C.J. No. 2621  2017   \n",
       "6      7 of 1           Minhas v. Sartor, [2012] B.C.J. No. 1087  2012   \n",
       "7      8 of 1        Glanville v. Moberg, [2014] B.C.J. No. 1869  2014   \n",
       "8      9 of 1          Watkins v. Dormuth, [2014] B.C.J. No. 557  2014   \n",
       "9     10 of 1  Paur (Committee of) v. Providence Health Care,...  2015   \n",
       "\n",
       "   Total Damage  Total Pecuniary  Non Pecuniary    General    Special  \\\n",
       "0           NaN              NaN            NaN        NaN        NaN   \n",
       "1    3224000.00        630000.00       260000.0   590000.0   40000.00   \n",
       "2      41020.70          1020.70        40000.0        NaN    1020.70   \n",
       "3    2078781.77       1803781.77       275000.0  1775000.0   28781.77   \n",
       "4           NaN       2706543.59            NaN  2451229.0  255314.59   \n",
       "5    2575820.58       2285820.58       290000.0  1265141.0   12652.24   \n",
       "6     190282.00        120282.00        70000.0        NaN   24466.00   \n",
       "7           NaN              NaN            NaN        NaN        NaN   \n",
       "8     965827.10        552327.10       175000.0   525000.0   16577.10   \n",
       "9     360894.28          5594.28       355300.0        NaN    5594.28   \n",
       "\n",
       "   Punitive  Aggravated  Future Care        Judge Name Decision Length  \\\n",
       "0       NaN         NaN          NaN  S.F. Kelleher J.             115   \n",
       "1       NaN         NaN          NaN    H.J. Holmes J.             350   \n",
       "2       NaN         NaN          NaN  D.A. Halfyard J.              97   \n",
       "3       NaN         NaN          NaN    H. MacNaughton             525   \n",
       "4       NaN         NaN          NaN   E.A. Bennett J.             311   \n",
       "5       NaN         NaN   1008027.34   M.L. Fleming J.             593   \n",
       "6       NaN         NaN     95816.00     W.G. Baker J.             462   \n",
       "7       NaN         NaN          NaN    L.A. Warren J.             127   \n",
       "8       NaN         NaN     10750.00      M.B. Blok J.             305   \n",
       "9       NaN         NaN          NaN   S.A. Griffin J.             755   \n",
       "\n",
       "  Multiple defendants? Plaintiff Wins?  Contributory Negligence Raised  \\\n",
       "0                    Y               Y                            True   \n",
       "1                    N               Y                           False   \n",
       "2                    Y               Y                            True   \n",
       "3                    Y               Y                            True   \n",
       "4                    Y               Y                           False   \n",
       "5                    Y               Y                            True   \n",
       "6                    N               Y                            True   \n",
       "7                    Y               Y                            True   \n",
       "8                    Y               Y                           False   \n",
       "9                    Y               Y                            True   \n",
       "\n",
       "   Written Decision?                       Registry  \\\n",
       "0               True                      Vancouver   \n",
       "1               True                      Vancouver   \n",
       "2               True                        Nanaimo   \n",
       "3               True                      Vancouver   \n",
       "4               True                      Vancouver   \n",
       "5               True                      Vancouver   \n",
       "6               True                New Westminster   \n",
       "7               True  Vancouver and New Westminster   \n",
       "8               True                 Campbell River   \n",
       "9               True                      Vancouver   \n",
       "\n",
       "   Contributory Negligence Successful  Percent Reduction  \n",
       "0                                True               0.50  \n",
       "1                               False                NaN  \n",
       "2                                True               0.75  \n",
       "3                                True               0.25  \n",
       "4                               False                NaN  \n",
       "5                                True               0.35  \n",
       "6                                True               0.20  \n",
       "7                                True               0.70  \n",
       "8                               False                NaN  \n",
       "9                               False                NaN  "
      ]
     },
     "execution_count": 7,
     "metadata": {},
     "output_type": "execute_result"
    }
   ],
   "source": [
    "df_all_cases = key_functions.rule_based_convert_cases_to_DF(all_cases_parsed)\n",
    "df_all_cases['Contributory Negligence Successful'].replace(np.nan, False, inplace = True)\n",
    "df_all_cases[:10]"
   ]
  },
  {
   "cell_type": "code",
   "execution_count": 8,
   "metadata": {},
   "outputs": [],
   "source": [
    "df_all_cases['Contributory Negligence Successful'].replace(True, 'Y', inplace=True)\n",
    "df_all_cases['Contributory Negligence Successful'].replace(False, 'N', inplace= True)\n",
    "df_all_cases['Percent Reduction'].replace(0, np.nan, inplace = True)\n",
    "df_all_cases['Percent Reduction'].replace(1, np.nan, inplace = True)"
   ]
  },
  {
   "cell_type": "code",
   "execution_count": 9,
   "metadata": {},
   "outputs": [],
   "source": [
    "gold = pd.read_excel('../../data/annotations/Case Annotation.xlsx')\n",
    "gold.dropna(how = 'all', inplace=True) \n",
    "gold['Contributory Negligence Successful?'].replace(np.nan, 'N', inplace = True)\n",
    "gold['% Reduction as a result of contributory negligence'] = gold['% Reduction as a result of contributory negligence'] * 0.01"
   ]
  },
  {
   "cell_type": "markdown",
   "metadata": {},
   "source": [
    "### High Precision Accuracies"
   ]
  },
  {
   "cell_type": "code",
   "execution_count": 13,
   "metadata": {},
   "outputs": [],
   "source": [
    "df_all_filtered = df_all_cases[df_all_cases['Case Name'].isin(set(gold['Case Name']))]"
   ]
  },
  {
   "cell_type": "code",
   "execution_count": 18,
   "metadata": {},
   "outputs": [
    {
     "name": "stdout",
     "output_type": "stream",
     "text": [
      "#### Evaluation ####\n",
      "-------\n",
      "COLUMN: Case Name\n",
      "Filled field accuracy: 100.0 % 63 / 63\n",
      "Overall accuracy: 100.0 % 63 / 63\n",
      "-------\n",
      "COLUMN: $ Damages total before contributory negligence\n",
      "Average distance from correct answer: $-41183.659999999996\n",
      "Empty field accuracy: 0.0 % 0 / 2\n",
      "Filled field accuracy: 83.60655737704919 % 51 / 61\n",
      "Overall accuracy: 80.95238095238095 % 51 / 63\n"
     ]
    }
   ],
   "source": [
    "key_functions.evaluate(df_all_filtered[['Case Name','Total Damage']], gold, focus_column='Total Damage')"
   ]
  },
  {
   "cell_type": "code",
   "execution_count": 20,
   "metadata": {},
   "outputs": [
    {
     "name": "stdout",
     "output_type": "stream",
     "text": [
      "#### Evaluation ####\n",
      "-------\n",
      "COLUMN: Case Name\n",
      "Filled field accuracy: 100.0 % 103 / 103\n",
      "Overall accuracy: 100.0 % 103 / 103\n",
      "-------\n",
      "COLUMN: $ Non-Pecuniary Damages\n",
      "Average distance from correct answer: $12081.5625\n",
      "Empty field accuracy: 0.0 % 0 / 5\n",
      "Filled field accuracy: 88.77551020408163 % 87 / 98\n",
      "Overall accuracy: 84.46601941747572 % 87 / 103\n"
     ]
    }
   ],
   "source": [
    "key_functions.evaluate(df_all_filtered[['Case Name','Non Pecuniary']], gold, focus_column='Non Pecuniary')"
   ]
  },
  {
   "cell_type": "code",
   "execution_count": 22,
   "metadata": {},
   "outputs": [
    {
     "name": "stdout",
     "output_type": "stream",
     "text": [
      "#### Evaluation ####\n",
      "-------\n",
      "COLUMN: Case Name\n",
      "Filled field accuracy: 100.0 % 75 / 75\n",
      "Overall accuracy: 100.0 % 75 / 75\n",
      "-------\n",
      "COLUMN: $ General Damages\n",
      "Average distance from correct answer: $6356.166666666667\n",
      "Empty field accuracy: 0.0 % 0 / 7\n",
      "Filled field accuracy: 66.17647058823529 % 45 / 68\n",
      "Overall accuracy: 60.0 % 45 / 75\n"
     ]
    }
   ],
   "source": [
    "key_functions.evaluate(df_all_filtered[['Case Name','General']], gold, focus_column='General')"
   ]
  },
  {
   "cell_type": "code",
   "execution_count": 39,
   "metadata": {},
   "outputs": [
    {
     "name": "stdout",
     "output_type": "stream",
     "text": [
      "#### Evaluation ####\n",
      "-------\n",
      "COLUMN: Case Name\n",
      "Filled field accuracy: 100.0 % 66 / 66\n",
      "Overall accuracy: 100.0 % 66 / 66\n",
      "-------\n",
      "COLUMN: Future Care Costs (General Damages)\n",
      "Average distance from correct answer: $-104878.18666666668\n",
      "Empty field accuracy: 0.0 % 0 / 4\n",
      "Filled field accuracy: 82.25806451612904 % 51 / 62\n",
      "Overall accuracy: 77.27272727272727 % 51 / 66\n"
     ]
    }
   ],
   "source": [
    "key_functions.evaluate(df_all_filtered[['Case Name','Future Care']], gold, focus_column='Future Care')"
   ]
  },
  {
   "cell_type": "code",
   "execution_count": 25,
   "metadata": {},
   "outputs": [
    {
     "name": "stdout",
     "output_type": "stream",
     "text": [
      "#### Evaluation ####\n",
      "-------\n",
      "COLUMN: Case Name\n",
      "Filled field accuracy: 100.0 % 96 / 96\n",
      "Overall accuracy: 100.0 % 96 / 96\n",
      "-------\n",
      "COLUMN: $ Special damages Pecuniary (ie. any expenses already incurred)\n",
      "Average distance from correct answer: $-31149.599705882356\n",
      "Empty field accuracy: 0.0 % 0 / 4\n",
      "Filled field accuracy: 67.3913043478261 % 62 / 92\n",
      "Overall accuracy: 64.58333333333334 % 62 / 96\n"
     ]
    }
   ],
   "source": [
    "key_functions.evaluate(df_all_filtered[['Case Name','Special']], gold, focus_column='Special')"
   ]
  },
  {
   "cell_type": "code",
   "execution_count": 26,
   "metadata": {},
   "outputs": [
    {
     "data": {
      "text/plain": [
       "Index(['Case Number', 'Case Name', 'Year', 'Total Damage', 'Total Pecuniary',\n",
       "       'Non Pecuniary', 'General', 'Special', 'Punitive', 'Aggravated',\n",
       "       'Future Care', 'Judge Name', 'Decision Length', 'Multiple defendants?',\n",
       "       'Plaintiff Wins?', 'Contributory Negligence Raised',\n",
       "       'Written Decision?', 'Registry', 'Contributory Negligence Successful',\n",
       "       'Percent Reduction'],\n",
       "      dtype='object')"
      ]
     },
     "execution_count": 26,
     "metadata": {},
     "output_type": "execute_result"
    }
   ],
   "source": [
    "df_all_cases.columns"
   ]
  },
  {
   "cell_type": "code",
   "execution_count": 27,
   "metadata": {},
   "outputs": [
    {
     "name": "stdout",
     "output_type": "stream",
     "text": [
      "#### Evaluation ####\n",
      "-------\n",
      "COLUMN: Case Name\n",
      "Filled field accuracy: 100.0 % 113 / 113\n",
      "Overall accuracy: 100.0 % 113 / 113\n",
      "-------\n",
      "COLUMN: $ Pecuniary Damages Total\n",
      "Average distance from correct answer: $-94258.97260273971\n",
      "Empty field accuracy: 0.0 % 0 / 7\n",
      "Filled field accuracy: 37.735849056603776 % 40 / 106\n",
      "Overall accuracy: 35.39823008849557 % 40 / 113\n"
     ]
    }
   ],
   "source": [
    "key_functions.evaluate(df_all_filtered[['Case Name','Total Pecuniary']], gold, focus_column='Total Pecuniary')"
   ]
  },
  {
   "cell_type": "code",
   "execution_count": 28,
   "metadata": {},
   "outputs": [
    {
     "name": "stdout",
     "output_type": "stream",
     "text": [
      "#### Evaluation ####\n",
      "-------\n",
      "COLUMN: Case Name\n",
      "Filled field accuracy: 100.0 % 9 / 9\n",
      "Overall accuracy: 100.0 % 9 / 9\n",
      "-------\n",
      "COLUMN: $ Punitive Damages\n",
      "Average distance from correct answer: $7500.0\n",
      "Empty field accuracy: 0.0 % 0 / 2\n",
      "Filled field accuracy: 100.0 % 7 / 7\n",
      "Overall accuracy: 77.77777777777779 % 7 / 9\n"
     ]
    }
   ],
   "source": [
    "key_functions.evaluate(df_all_filtered[['Case Name','Punitive']], gold, focus_column='Punitive')"
   ]
  },
  {
   "cell_type": "code",
   "execution_count": 29,
   "metadata": {},
   "outputs": [
    {
     "name": "stdout",
     "output_type": "stream",
     "text": [
      "#### Evaluation ####\n",
      "-------\n",
      "COLUMN: Case Name\n",
      "Filled field accuracy: 100.0 % 3 / 3\n",
      "Overall accuracy: 100.0 % 3 / 3\n",
      "-------\n",
      "COLUMN: $Aggravated Damages\n",
      "Average distance from correct answer: $22500.0\n",
      "Filled field accuracy: 33.33333333333333 % 1 / 3\n",
      "Overall accuracy: 33.33333333333333 % 1 / 3\n"
     ]
    }
   ],
   "source": [
    "key_functions.evaluate(df_all_filtered[['Case Name','Aggravated']], gold, focus_column='Aggravated')"
   ]
  },
  {
   "cell_type": "code",
   "execution_count": 33,
   "metadata": {},
   "outputs": [
    {
     "name": "stdout",
     "output_type": "stream",
     "text": [
      "90.0 confidence interval $146500.0 and $197986.6\n"
     ]
    },
    {
     "data": {
      "image/png": "[encoded data removed]",
      "text/plain": [
       "<Figure size 432x288 with 1 Axes>"
      ]
     },
     "metadata": {
      "needs_background": "light"
     },
     "output_type": "display_data"
    }
   ],
   "source": [
    "values_dev = df_all_cases[(df_all_cases['Total Damage']>0)& (df_all_cases['Total Damage']!= np.nan)]['Total Damage']\n",
    "from sklearn.utils import resample\n",
    "# configure bootstrap\n",
    "n_iterations = 1000\n",
    "n_size = int(len(values_dev) * 0.50)\n",
    "# run bootstrap\n",
    "stats = list()\n",
    "for i in range(n_iterations):\n",
    "    sub_sample = resample(values_dev, n_samples=n_size)\n",
    "    median = np.median(sub_sample)\n",
    "#     print(median)\n",
    "    stats.append(median)\n",
    "# plot scores\n",
    "p2 = plt.hist(stats)\n",
    "# confidence intervals\n",
    "alpha = 0.90\n",
    "p = ((1.0-alpha)/2.0) * 100\n",
    "lower =  np.percentile(stats, p)\n",
    "p = (alpha+((1.0-alpha)/2.0)) * 100\n",
    "upper = np.percentile(stats, p)\n",
    "print('%.1f confidence interval $%.1f and $%.1f' % (alpha*100, lower, upper))"
   ]
  },
  {
   "cell_type": "code",
   "execution_count": 34,
   "metadata": {},
   "outputs": [
    {
     "name": "stdout",
     "output_type": "stream",
     "text": [
      "80.0 confidence interval $108396.6 and $193783.5\n"
     ]
    },
    {
     "data": {
      "image/png": "[encoded data removed]",
      "text/plain": [
       "<Figure size 432x288 with 1 Axes>"
      ]
     },
     "metadata": {
      "needs_background": "light"
     },
     "output_type": "display_data"
    }
   ],
   "source": [
    "values = gold[(gold['$ Damages total before contributory negligence']>0)& (gold['$ Damages total before contributory negligence']!= np.nan)]['$ Damages total before contributory negligence']\n",
    "# configure bootstrap\n",
    "n_iterations = 1000\n",
    "n_size = int(len(values) * 0.50)\n",
    "# run bootstrap\n",
    "stats_gold = list()\n",
    "for i in range(n_iterations):\n",
    "    sub_sample = resample(values, n_samples=n_size)\n",
    "    median = np.median(sub_sample)\n",
    "#     print(median)\n",
    "    stats_gold.append(median)\n",
    "# plot scores\n",
    "plt.hist(stats_gold)\n",
    "# confidence intervals\n",
    "alpha = 0.80\n",
    "p = ((1.0-alpha)/2.0) * 100\n",
    "lower =  np.percentile(stats_gold, p)\n",
    "p = (alpha+((1.0-alpha)/2.0)) * 100\n",
    "upper = np.percentile(stats, p)\n",
    "print('%.1f confidence interval $%.1f and $%.1f' % (alpha*100, lower, upper))"
   ]
  },
  {
   "cell_type": "code",
   "execution_count": 36,
   "metadata": {},
   "outputs": [
    {
     "data": {
      "text/plain": [
       "Text(0.5, 1.0, 'Median Total Damages Bootstrapped, High-Precision Classifier and Gold, 10000 reps')"
      ]
     },
     "execution_count": 36,
     "metadata": {},
     "output_type": "execute_result"
    },
    {
     "data": {
      "image/png": "[encoded data removed]",
      "text/plain": [
       "<Figure size 432x288 with 1 Axes>"
      ]
     },
     "metadata": {
      "needs_background": "light"
     },
     "output_type": "display_data"
    }
   ],
   "source": [
    "plt.hist(stats_gold, alpha = 0.5)\n",
    "plt.hist(stats, alpha = 0.5)\n",
    "plt.xlabel('Median Total Damages ($)')\n",
    "plt.ylabel('Value Counts')\n",
    "plt.title(\"Median Total Damages Bootstrapped, High-Precision Classifier and Gold, 10000 reps\")"
   ]
  },
  {
   "cell_type": "markdown",
   "metadata": {},
   "source": [
    "#### Compare Bootstrapped Medians for Total Damages, Predicted vs Gold, Same Cases"
   ]
  },
  {
   "cell_type": "code",
   "execution_count": 15,
   "metadata": {},
   "outputs": [],
   "source": [
    "annotated_case_names = set(gold[(gold['$ Damages total before contributory negligence']>0)& (gold['$ Damages total before contributory negligence']!= np.nan)]['Case Name'])\n"
   ]
  },
  {
   "cell_type": "code",
   "execution_count": 39,
   "metadata": {},
   "outputs": [
    {
     "name": "stdout",
     "output_type": "stream",
     "text": [
      "95.0 confidence interval for our gold data is: $88750.0 and $210588.5, and for dev: $77500.0 and $241073.6\n"
     ]
    },
    {
     "data": {
      "image/png": "[encoded data removed]",
      "text/plain": [
       "<Figure size 432x288 with 1 Axes>"
      ]
     },
     "metadata": {
      "needs_background": "light"
     },
     "output_type": "display_data"
    }
   ],
   "source": [
    "from sklearn.utils import resample\n",
    "\n",
    "# configure bootstrap\n",
    "n_iterations = 10000\n",
    "n_size = int(len(annotated_case_names) * 0.25)\n",
    "# run bootstrap\n",
    "stats_gold = []\n",
    "stats_dev = []\n",
    "for i in range(n_iterations):\n",
    "    sub_sample = resample(list(annotated_case_names), n_samples=n_size)\n",
    "    median_gold = np.median(gold[gold['Case Name'].isin(sub_sample)]['$ Damages total before contributory negligence'])\n",
    "    median_dev = np.median(df_all_cases[df_all_cases['Case Name'].isin(sub_sample)&(df_all_cases['Total Damage']>0)& (df_all_cases['Total Damage']!= np.nan)]['Total Damage'])\n",
    "    stats_gold.append(median_gold)\n",
    "    stats_dev.append(median_dev)\n",
    "# plot scores\n",
    "plt.hist(stats_gold, alpha = 0.5,  label = 'gold data', bins=30)\n",
    "plt.hist(stats_dev, alpha = 0.5, label = 'predicted data', bins = 30)\n",
    "plt.xlabel('median total damages')\n",
    "plt.ylabel('count')\n",
    "plt.legend()\n",
    "# confidence intervals\n",
    "alpha = 0.95\n",
    "p = ((1.0-alpha)/2.0) * 100\n",
    "lower_gold =  np.percentile(stats_gold, p)\n",
    "lower_dev = np.percentile(stats_dev, p)\n",
    "p = (alpha+((1.0-alpha)/2.0)) * 100\n",
    "upper_gold = np.percentile(stats_gold, p)\n",
    "upper_dev = np.percentile(stats_dev, p)\n",
    "print('%.1f confidence interval for our gold data is: $%.1f and $%.1f, and for dev: $%.1f and $%.1f' % (alpha*100, lower_gold, upper_gold, lower_dev, upper_dev))"
   ]
  },
  {
   "cell_type": "code",
   "execution_count": 35,
   "metadata": {},
   "outputs": [
    {
     "name": "stdout",
     "output_type": "stream",
     "text": [
      "6679.460000000006\n",
      "95.0 confidence interval for our gold data is: $99930.0 and $181047.7, and for dev: $99863.0 and $206701.1\n"
     ]
    },
    {
     "data": {
      "image/png": "[encoded data removed]",
      "text/plain": [
       "<Figure size 432x288 with 1 Axes>"
      ]
     },
     "metadata": {
      "needs_background": "light"
     },
     "output_type": "display_data"
    }
   ],
   "source": [
    "from sklearn.utils import resample\n",
    "\n",
    "# configure bootstrap\n",
    "n_iterations = 1000\n",
    "n_size = int(len(annotated_case_names) * 0.50)\n",
    "# run bootstrap\n",
    "stats_gold = []\n",
    "stats_dev = []\n",
    "differences = []\n",
    "for i in range(n_iterations):\n",
    "    sub_sample = resample(list(annotated_case_names), n_samples=n_size)\n",
    "    median_gold = np.median(gold[gold['Case Name'].isin(sub_sample)]['$ Damages total before contributory negligence'])\n",
    "    median_dev = np.median(df_all_cases[df_all_cases['Case Name'].isin(sub_sample)&(df_all_cases['Total Damage']>0)& (df_all_cases['Total Damage']!= np.nan)]['Total Damage'])\n",
    "    difference = median_dev - median_gold\n",
    "    differences.append(difference)\n",
    "    stats_gold.append(median_gold)\n",
    "    stats_dev.append(median_dev)\n",
    "# plot scores\n",
    "# plt.hist(stats_gold, alpha = 0.5,  label = 'gold data')\n",
    "# plt.hist(stats_dev, alpha = 0.5, label = 'predicted data')\n",
    "# plt.xlabel('median total damages')\n",
    "# plt.ylabel('count')\n",
    "# plt.legend()\n",
    "x = plt.hist(differences)\n",
    "print(np.median(differences))\n",
    "# confidence intervals\n",
    "alpha = 0.95\n",
    "p = ((1.0-alpha)/2.0) * 100\n",
    "lower_gold =  np.percentile(stats_gold, p)\n",
    "lower_dev = np.percentile(stats_dev, p)\n",
    "p = (alpha+((1.0-alpha)/2.0)) * 100\n",
    "upper_gold = np.percentile(stats_gold, p)\n",
    "upper_dev = np.percentile(stats_dev, p)\n",
    "print('%.1f confidence interval for our gold data is: $%.1f and $%.1f, and for dev: $%.1f and $%.1f' % (alpha*100, lower_gold, upper_gold, lower_dev, upper_dev))"
   ]
  },
  {
   "cell_type": "markdown",
   "metadata": {},
   "source": [
    "### Filled/Empty Accuracies"
   ]
  },
  {
   "cell_type": "code",
   "execution_count": 12,
   "metadata": {
    "collapsed": true,
    "jupyter": {
     "outputs_hidden": true
    }
   },
   "outputs": [
    {
     "name": "stdout",
     "output_type": "stream",
     "text": [
      "#### Evaluation ####\n"
     ]
    },
    {
     "ename": "KeyError",
     "evalue": "[None]",
     "output_type": "error",
     "traceback": [
      "\u001b[0;31m---------------------------------------------------------------------------\u001b[0m",
      "\u001b[0;31mKeyError\u001b[0m                                  Traceback (most recent call last)",
      "\u001b[0;32m<ipython-input-12-d368d00bae32>\u001b[0m in \u001b[0;36m<module>\u001b[0;34m\u001b[0m\n\u001b[0;32m----> 1\u001b[0;31m \u001b[0mkey_functions\u001b[0m\u001b[0;34m.\u001b[0m\u001b[0mevaluate\u001b[0m\u001b[0;34m(\u001b[0m\u001b[0mdf_all_cases\u001b[0m\u001b[0;34m,\u001b[0m \u001b[0mgold\u001b[0m\u001b[0;34m)\u001b[0m\u001b[0;34m\u001b[0m\u001b[0;34m\u001b[0m\u001b[0m\n\u001b[0m",
      "\u001b[0;32m~/Documents/MDS_Capstone/Capstone-project/code/experimental-notebooks/key_functions.py\u001b[0m in \u001b[0;36mevaluate\u001b[0;34m(dev_data, gold_data, subset, focus_column)\u001b[0m\n\u001b[1;32m   1260\u001b[0m     \u001b[0;31m# Useful because our model has high precision, low recall. Sometimes want\u001b[0m\u001b[0;34m\u001b[0m\u001b[0;34m\u001b[0m\u001b[0;34m\u001b[0m\u001b[0m\n\u001b[1;32m   1261\u001b[0m     \u001b[0;31m# to evaluate how model did when it actually made a prediction (its precision)\u001b[0m\u001b[0;34m\u001b[0m\u001b[0;34m\u001b[0m\u001b[0;34m\u001b[0m\u001b[0m\n\u001b[0;32m-> 1262\u001b[0;31m     \u001b[0mdev_data\u001b[0m\u001b[0;34m.\u001b[0m\u001b[0mdropna\u001b[0m\u001b[0;34m(\u001b[0m\u001b[0msubset\u001b[0m \u001b[0;34m=\u001b[0m \u001b[0;34m[\u001b[0m\u001b[0mfocus_column\u001b[0m\u001b[0;34m]\u001b[0m\u001b[0;34m,\u001b[0m \u001b[0minplace\u001b[0m\u001b[0;34m=\u001b[0m\u001b[0;32mTrue\u001b[0m\u001b[0;34m)\u001b[0m\u001b[0;34m\u001b[0m\u001b[0;34m\u001b[0m\u001b[0m\n\u001b[0m\u001b[1;32m   1263\u001b[0m \u001b[0;34m\u001b[0m\u001b[0m\n\u001b[1;32m   1264\u001b[0m     \u001b[0;31m# Mapping from our variable names to Lachlan's column names\u001b[0m\u001b[0;34m\u001b[0m\u001b[0;34m\u001b[0m\u001b[0;34m\u001b[0m\u001b[0m\n",
      "\u001b[0;32m~/anaconda3/lib/python3.7/site-packages/pandas/core/frame.py\u001b[0m in \u001b[0;36mdropna\u001b[0;34m(self, axis, how, thresh, subset, inplace)\u001b[0m\n\u001b[1;32m   4857\u001b[0m                 \u001b[0mcheck\u001b[0m \u001b[0;34m=\u001b[0m \u001b[0mindices\u001b[0m \u001b[0;34m==\u001b[0m \u001b[0;34m-\u001b[0m\u001b[0;36m1\u001b[0m\u001b[0;34m\u001b[0m\u001b[0;34m\u001b[0m\u001b[0m\n\u001b[1;32m   4858\u001b[0m                 \u001b[0;32mif\u001b[0m \u001b[0mcheck\u001b[0m\u001b[0;34m.\u001b[0m\u001b[0many\u001b[0m\u001b[0;34m(\u001b[0m\u001b[0;34m)\u001b[0m\u001b[0;34m:\u001b[0m\u001b[0;34m\u001b[0m\u001b[0;34m\u001b[0m\u001b[0m\n\u001b[0;32m-> 4859\u001b[0;31m                     \u001b[0;32mraise\u001b[0m \u001b[0mKeyError\u001b[0m\u001b[0;34m(\u001b[0m\u001b[0mlist\u001b[0m\u001b[0;34m(\u001b[0m\u001b[0mnp\u001b[0m\u001b[0;34m.\u001b[0m\u001b[0mcompress\u001b[0m\u001b[0;34m(\u001b[0m\u001b[0mcheck\u001b[0m\u001b[0;34m,\u001b[0m \u001b[0msubset\u001b[0m\u001b[0;34m)\u001b[0m\u001b[0;34m)\u001b[0m\u001b[0;34m)\u001b[0m\u001b[0;34m\u001b[0m\u001b[0;34m\u001b[0m\u001b[0m\n\u001b[0m\u001b[1;32m   4860\u001b[0m                 \u001b[0magg_obj\u001b[0m \u001b[0;34m=\u001b[0m \u001b[0mself\u001b[0m\u001b[0;34m.\u001b[0m\u001b[0mtake\u001b[0m\u001b[0;34m(\u001b[0m\u001b[0mindices\u001b[0m\u001b[0;34m,\u001b[0m \u001b[0maxis\u001b[0m\u001b[0;34m=\u001b[0m\u001b[0magg_axis\u001b[0m\u001b[0;34m)\u001b[0m\u001b[0;34m\u001b[0m\u001b[0;34m\u001b[0m\u001b[0m\n\u001b[1;32m   4861\u001b[0m \u001b[0;34m\u001b[0m\u001b[0m\n",
      "\u001b[0;31mKeyError\u001b[0m: [None]"
     ]
    }
   ],
   "source": [
    "key_functions.evaluate(df_all_cases, gold) "
   ]
  },
  {
   "cell_type": "code",
   "execution_count": 12,
   "metadata": {},
   "outputs": [
    {
     "name": "stdout",
     "output_type": "stream",
     "text": [
      "#### Evaluation ####\n"
     ]
    },
    {
     "name": "stderr",
     "output_type": "stream",
     "text": [
      "/home/ilana/anaconda3/lib/python3.7/site-packages/pandas/core/frame.py:4238: SettingWithCopyWarning: \n",
      "A value is trying to be set on a copy of a slice from a DataFrame\n",
      "\n",
      "See the caveats in the documentation: http://pandas.pydata.org/pandas-docs/stable/user_guide/indexing.html#returning-a-view-versus-a-copy\n",
      "  return super().rename(**kwargs)\n"
     ]
    },
    {
     "name": "stdout",
     "output_type": "stream",
     "text": [
      "-------\n",
      "COLUMN: Case Number\n",
      "Filled field accuracy: 10.357142857142858 % 29 / 280\n",
      "Overall accuracy: 10.357142857142858 % 29 / 280\n",
      "-------\n",
      "COLUMN: Case Name\n",
      "Filled field accuracy: 100.0 % 280 / 280\n",
      "Overall accuracy: 100.0 % 280 / 280\n",
      "-------\n",
      "COLUMN: $ Damages total before contributory negligence\n",
      "Average distance from correct answer: $98340.00494029852\n",
      "Empty field accuracy: 96.51162790697676 % 83 / 86\n",
      "Filled field accuracy: 35.56701030927835 % 69 / 194\n",
      "Overall accuracy: 54.285714285714285 % 152 / 280\n",
      "-------\n",
      "COLUMN: $ Pecuniary Damages Total\n",
      "Average distance from correct answer: $192120.12209876542\n",
      "Empty field accuracy: 81.08108108108108 % 30 / 37\n",
      "Filled field accuracy: 15.22633744855967 % 37 / 243\n",
      "Overall accuracy: 23.92857142857143 % 67 / 280\n",
      "-------\n",
      "COLUMN: $ Non-Pecuniary Damages\n",
      "Average distance from correct answer: $76250.0\n",
      "Empty field accuracy: 96.53179190751445 % 167 / 173\n",
      "Filled field accuracy: 83.17757009345794 % 89 / 107\n",
      "Overall accuracy: 91.42857142857143 % 256 / 280\n",
      "-------\n",
      "COLUMN: $ General Damages\n",
      "Average distance from correct answer: $91237.3\n",
      "Empty field accuracy: 96.75675675675676 % 179 / 185\n",
      "Filled field accuracy: 46.31578947368421 % 44 / 95\n",
      "Overall accuracy: 79.64285714285714 % 223 / 280\n",
      "-------\n",
      "COLUMN: $ Special damages Pecuniary (ie. any expenses already incurred)\n",
      "Average distance from correct answer: $82411.57065217392\n",
      "Empty field accuracy: 95.29411764705881 % 162 / 170\n",
      "Filled field accuracy: 54.54545454545454 % 60 / 110\n",
      "Overall accuracy: 79.28571428571428 % 222 / 280\n",
      "-------\n",
      "COLUMN: $ Punitive Damages\n",
      "Average distance from correct answer: $7500.0\n",
      "Empty field accuracy: 99.25925925925925 % 268 / 270\n",
      "Filled field accuracy: 70.0 % 7 / 10\n",
      "Overall accuracy: 98.21428571428571 % 275 / 280\n",
      "-------\n",
      "COLUMN: $Aggravated Damages\n",
      "Average distance from correct answer: $42500.0\n",
      "Empty field accuracy: 100.0 % 271 / 271\n",
      "Filled field accuracy: 22.22222222222222 % 2 / 9\n",
      "Overall accuracy: 97.5 % 273 / 280\n",
      "-------\n",
      "COLUMN: Future Care Costs (General Damages)\n",
      "Average distance from correct answer: $378555.93333333335\n",
      "Empty field accuracy: 97.53694581280789 % 198 / 203\n",
      "Filled field accuracy: 66.23376623376623 % 51 / 77\n",
      "Overall accuracy: 88.92857142857142 % 249 / 280\n",
      "-------\n",
      "COLUMN: Judge Name\n",
      "Empty field accuracy: 0.0 % 0 / 1\n",
      "Filled field accuracy: 31.182795698924732 % 87 / 279\n",
      "Overall accuracy: 31.071428571428573 % 87 / 280\n",
      "-------\n",
      "COLUMN: Decision Length: paragraphs)\n",
      "Average distance from correct answer: $55.0\n",
      "Filled field accuracy: 99.28571428571429 % 278 / 280\n",
      "Overall accuracy: 99.28571428571429 % 278 / 280\n",
      "-------\n",
      "COLUMN: Multiple defendants?\n",
      "Filled field accuracy: 96.07142857142857 % 269 / 280\n",
      "Overall accuracy: 96.07142857142857 % 269 / 280\n",
      "-------\n",
      "COLUMN: Plaintiff Wins?\n",
      "Filled field accuracy: 86.42857142857143 % 242 / 280\n",
      "Overall accuracy: 86.42857142857143 % 242 / 280\n",
      "-------\n",
      "COLUMN: Written Decision?\n",
      "Filled field accuracy: 0.0 % 0 / 280\n",
      "Overall accuracy: 0.0 % 0 / 280\n",
      "-------\n",
      "COLUMN: Registry\n",
      "Filled field accuracy: 97.85714285714285 % 274 / 280\n",
      "Overall accuracy: 97.85714285714285 % 274 / 280\n",
      "-------\n",
      "COLUMN: Contributory Negligence Successful?\n",
      "Filled field accuracy: 93.57142857142857 % 262 / 280\n",
      "Overall accuracy: 93.57142857142857 % 262 / 280\n",
      "-------\n",
      "COLUMN: % Reduction as a result of contributory negligence\n",
      "Average distance from correct answer: $0.29500000000000004\n",
      "Empty field accuracy: 95.76271186440678 % 226 / 236\n",
      "Filled field accuracy: 81.81818181818183 % 36 / 44\n",
      "Overall accuracy: 93.57142857142857 % 262 / 280\n"
     ]
    }
   ],
   "source": [
    "key_functions.evaluate(df_all_cases, gold) "
   ]
  },
  {
   "cell_type": "code",
   "execution_count": 13,
   "metadata": {},
   "outputs": [
    {
     "name": "stdout",
     "output_type": "stream",
     "text": [
      "#### Evaluation ####\n",
      "-------\n",
      "COLUMN: Case Name\n",
      "Filled field accuracy: 100.0 % 109 / 109\n",
      "Overall accuracy: 100.0 % 109 / 109\n",
      "-------\n",
      "COLUMN: % Reduction as a result of contributory negligence\n",
      "Average distance from correct answer: $0.35555555555555557\n",
      "Empty field accuracy: 86.56716417910447 % 58 / 67\n",
      "Filled field accuracy: 73.80952380952381 % 31 / 42\n",
      "Overall accuracy: 81.65137614678899 % 89 / 109\n"
     ]
    }
   ],
   "source": [
    "# percent reduction results without filtering for 'contributory negligence successful'\n",
    "annotated_cn_df = pd.DataFrame.from_dict(dict(annotated_cn), orient='index', columns = ['Percent Reduction']).reset_index().rename(columns = {'index': 'Case Name'})\n",
    "key_functions.evaluate(annotated_cn_df, gold)"
   ]
  },
  {
   "cell_type": "markdown",
   "metadata": {},
   "source": [
    "Statistical Significance - Median Total Damage per year"
   ]
  },
  {
   "cell_type": "code",
   "execution_count": 25,
   "metadata": {},
   "outputs": [],
   "source": [
    "def get_relationship_over_time(damage_type, df):\n",
    "    filtered_dev = df[(df['Year']!= math.nan) & (df[damage_type] > 0)]\n",
    "    filtered_dev[damage_type] = pd.to_numeric(filtered_dev[damage_type])\n",
    "    grouped = filtered_dev.groupby('Year').median().reset_index()\n",
    "    x = pd.to_numeric(grouped.Year)\n",
    "    y = pd.to_numeric(grouped[damage_type])\n",
    "    corr, pval = pearsonr(x, y)\n",
    "    print('correlation between Year and Median %s is: %s with a pvalue of %s'%(damage_type, corr, pval))\n",
    "    return linregress(x, y), "
   ]
  },
  {
   "cell_type": "code",
   "execution_count": 33,
   "metadata": {},
   "outputs": [
    {
     "name": "stdout",
     "output_type": "stream",
     "text": [
      "correlation between Year and Total Damage is: 0.9206094886469115 with a pvalue of 3.38530050311366e-09\n"
     ]
    },
    {
     "name": "stderr",
     "output_type": "stream",
     "text": [
      "/home/ilana/anaconda3/lib/python3.7/site-packages/ipykernel_launcher.py:3: SettingWithCopyWarning: \n",
      "A value is trying to be set on a copy of a slice from a DataFrame.\n",
      "Try using .loc[row_indexer,col_indexer] = value instead\n",
      "\n",
      "See the caveats in the documentation: http://pandas.pydata.org/pandas-docs/stable/user_guide/indexing.html#returning-a-view-versus-a-copy\n",
      "  This is separate from the ipykernel package so we can avoid doing imports until\n"
     ]
    },
    {
     "data": {
      "text/plain": [
       "(LinregressResult(slope=9909.74307792208, intercept=-19780188.67614719, rvalue=0.9206094886469116, pvalue=3.3853005031136117e-09, stderr=964.3040314508022),)"
      ]
     },
     "execution_count": 33,
     "metadata": {},
     "output_type": "execute_result"
    }
   ],
   "source": [
    "get_relationship_over_time('Total Damage', df_all_cases)"
   ]
  },
  {
   "cell_type": "code",
   "execution_count": 34,
   "metadata": {},
   "outputs": [
    {
     "name": "stdout",
     "output_type": "stream",
     "text": [
      "correlation between Year and Non Pecuniary is: 0.7626543589270809 with a pvalue of 5.825928177119583e-05\n"
     ]
    },
    {
     "name": "stderr",
     "output_type": "stream",
     "text": [
      "/home/ilana/anaconda3/lib/python3.7/site-packages/ipykernel_launcher.py:3: SettingWithCopyWarning: \n",
      "A value is trying to be set on a copy of a slice from a DataFrame.\n",
      "Try using .loc[row_indexer,col_indexer] = value instead\n",
      "\n",
      "See the caveats in the documentation: http://pandas.pydata.org/pandas-docs/stable/user_guide/indexing.html#returning-a-view-versus-a-copy\n",
      "  This is separate from the ipykernel package so we can avoid doing imports until\n"
     ]
    },
    {
     "data": {
      "text/plain": [
       "(LinregressResult(slope=2711.0389610389607, intercept=-5378962.121212121, rvalue=0.7626543589270808, pvalue=5.825928177119612e-05, stderr=527.4792881790837),)"
      ]
     },
     "execution_count": 34,
     "metadata": {},
     "output_type": "execute_result"
    }
   ],
   "source": [
    "get_relationship_over_time('Non Pecuniary', df_all_cases)"
   ]
  },
  {
   "cell_type": "code",
   "execution_count": 35,
   "metadata": {},
   "outputs": [
    {
     "name": "stdout",
     "output_type": "stream",
     "text": [
      "correlation between Year and Total Pecuniary is: 0.7940657446537204 with a pvalue of 1.7276100047883053e-05\n"
     ]
    },
    {
     "name": "stderr",
     "output_type": "stream",
     "text": [
      "/home/ilana/anaconda3/lib/python3.7/site-packages/ipykernel_launcher.py:3: SettingWithCopyWarning: \n",
      "A value is trying to be set on a copy of a slice from a DataFrame.\n",
      "Try using .loc[row_indexer,col_indexer] = value instead\n",
      "\n",
      "See the caveats in the documentation: http://pandas.pydata.org/pandas-docs/stable/user_guide/indexing.html#returning-a-view-versus-a-copy\n",
      "  This is separate from the ipykernel package so we can avoid doing imports until\n"
     ]
    },
    {
     "data": {
      "text/plain": [
       "(LinregressResult(slope=7701.254311688311, intercept=-15386529.342683982, rvalue=0.7940657446537203, pvalue=1.7276100047883147e-05, stderr=1352.420287652023),)"
      ]
     },
     "execution_count": 35,
     "metadata": {},
     "output_type": "execute_result"
    }
   ],
   "source": [
    "get_relationship_over_time('Total Pecuniary', df_all_cases)"
   ]
  },
  {
   "cell_type": "code",
   "execution_count": 36,
   "metadata": {},
   "outputs": [
    {
     "name": "stdout",
     "output_type": "stream",
     "text": [
      "correlation between Year and Future Care is: 0.37116748033063585 with a pvalue of 0.0976123529122324\n"
     ]
    },
    {
     "name": "stderr",
     "output_type": "stream",
     "text": [
      "/home/ilana/anaconda3/lib/python3.7/site-packages/ipykernel_launcher.py:3: SettingWithCopyWarning: \n",
      "A value is trying to be set on a copy of a slice from a DataFrame.\n",
      "Try using .loc[row_indexer,col_indexer] = value instead\n",
      "\n",
      "See the caveats in the documentation: http://pandas.pydata.org/pandas-docs/stable/user_guide/indexing.html#returning-a-view-versus-a-copy\n",
      "  This is separate from the ipykernel package so we can avoid doing imports until\n"
     ]
    },
    {
     "data": {
      "text/plain": [
       "(LinregressResult(slope=543.8124935064935, intercept=-1074652.3505194804, rvalue=0.3711674803306359, pvalue=0.09761235291223239, stderr=312.1154091940267),)"
      ]
     },
     "execution_count": 36,
     "metadata": {},
     "output_type": "execute_result"
    }
   ],
   "source": [
    "get_relationship_over_time('Future Care', df_all_cases)"
   ]
  },
  {
   "cell_type": "code",
   "execution_count": 37,
   "metadata": {},
   "outputs": [
    {
     "name": "stdout",
     "output_type": "stream",
     "text": [
      "correlation between Year and Special is: 0.6356760989016429 with a pvalue of 0.0019550876762802678\n"
     ]
    },
    {
     "name": "stderr",
     "output_type": "stream",
     "text": [
      "/home/ilana/anaconda3/lib/python3.7/site-packages/ipykernel_launcher.py:3: SettingWithCopyWarning: \n",
      "A value is trying to be set on a copy of a slice from a DataFrame.\n",
      "Try using .loc[row_indexer,col_indexer] = value instead\n",
      "\n",
      "See the caveats in the documentation: http://pandas.pydata.org/pandas-docs/stable/user_guide/indexing.html#returning-a-view-versus-a-copy\n",
      "  This is separate from the ipykernel package so we can avoid doing imports until\n"
     ]
    },
    {
     "data": {
      "text/plain": [
       "(LinregressResult(slope=1090.016538961039, intercept=-2170175.217359307, rvalue=0.635676098901643, pvalue=0.00195508767628026, stderr=303.67769215650355),)"
      ]
     },
     "execution_count": 37,
     "metadata": {},
     "output_type": "execute_result"
    }
   ],
   "source": [
    "get_relationship_over_time('Special', df_all_cases)"
   ]
  },
  {
   "cell_type": "code",
   "execution_count": 54,
   "metadata": {},
   "outputs": [
    {
     "name": "stdout",
     "output_type": "stream",
     "text": [
      "\n",
      "Statsmodel.Api Method\n",
      "                                 OLS Regression Results                                \n",
      "=======================================================================================\n",
      "Dep. Variable:                      y   R-squared (uncentered):                   0.821\n",
      "Model:                            OLS   Adj. R-squared (uncentered):              0.812\n",
      "Method:                 Least Squares   F-statistic:                              91.47\n",
      "Date:                Tue, 09 Jun 2020   Prob (F-statistic):                    6.66e-09\n",
      "Time:                        15:15:44   Log-Likelihood:                         -262.46\n",
      "No. Observations:                  21   AIC:                                      526.9\n",
      "Df Residuals:                      20   BIC:                                      528.0\n",
      "Df Model:                           1                                                  \n",
      "Covariance Type:            nonrobust                                                  \n",
      "==============================================================================\n",
      "                 coef    std err          t      P>|t|      [0.025      0.975]\n",
      "------------------------------------------------------------------------------\n",
      "x1            68.9425      7.208      9.564      0.000      53.906      83.979\n",
      "==============================================================================\n",
      "Omnibus:                        2.559   Durbin-Watson:                   0.289\n",
      "Prob(Omnibus):                  0.278   Jarque-Bera (JB):                1.611\n",
      "Skew:                           0.439   Prob(JB):                        0.447\n",
      "Kurtosis:                       1.965   Cond. No.                         1.00\n",
      "==============================================================================\n",
      "\n",
      "Warnings:\n",
      "[1] Standard Errors assume that the covariance matrix of the errors is correctly specified.\n",
      "\n",
      "Sci-Kit Learn Method\n",
      "[[8.55240972e-05]]\n",
      "[1998.16390022]\n",
      "-4.378865439643353\n"
     ]
    }
   ],
   "source": [
    "import statsmodels.api as sm\n",
    "import statsmodels.formula.api as smf\n",
    "from sklearn.linear_model import LinearRegression\n",
    "filtered_dev = df_all_cases[(df_all_cases['Year']!= math.nan) & (df_all_cases['Total Damage'] > 0)]\n",
    "grouped = filtered_dev.groupby('Year').median().reset_index()\n",
    "year = pd.to_numeric(grouped['Year']).to_numpy().reshape(-1, 1)\n",
    "damage = pd.to_numeric(grouped['Total Damage']).to_numpy().reshape(-1, 1)\n",
    "\n",
    "# print (\"Statsmodel.Formula.Api Method\")\n",
    "# model1 = smf.ols(formula='Total Damage~Year', data=df_all_cases).fit()\n",
    "# print (model1.params)\n",
    "# print(model1.summary())\n",
    "\n",
    "print( \"\\nStatsmodel.Api Method\")\n",
    "model2 = sm.OLS(damage, year)\n",
    "results = model2.fit()\n",
    "print( results.summary())\n",
    "\n",
    "print (\"\\nSci-Kit Learn Method\")\n",
    "model3 = LinearRegression()\n",
    "model3.fit(damage, year)\n",
    "print( model3.coef_)\n",
    "print (model3.intercept_)\n",
    "print(model3.score(year, damage))"
   ]
  },
  {
   "cell_type": "markdown",
   "metadata": {},
   "source": [
    "### Visualizations"
   ]
  },
  {
   "cell_type": "code",
   "execution_count": 18,
   "metadata": {},
   "outputs": [],
   "source": [
    "def inflation_adjust(dataframe, r1, r2):\n",
    "    '''Function takes in a dataframe and multiply selected rows by inflation rate\n",
    "    df --- DataFrame\n",
    "    r1 --- Index of the start row in the range\n",
    "    r2 --- Index of the end row in the range'''\n",
    "    dataframe['Year'] = dataframe['Year'].astype(str)\n",
    "    dataframe = dataframe[dataframe.Year != '2020']  \n",
    "    df = dataframe.dropna(how='all')\n",
    "    # check to see if the indices are intigers and are within data fram range\n",
    "    assert isinstance(r1, int) and isinstance(r2, int) and r1 >= 0 and r2 <= len(df.columns)\n",
    "    # Check to see if the columns selected are not float or int type\n",
    "#     for col in df.iloc[:,r1:r2]:\n",
    "#         if df[col].dtype != \"float64\" or df[col].dtype != \"int64\":\n",
    "#             print(\"column {} is not numerical type\".format(df[col]))\n",
    "    inflection_dict = {\"2000\":1.4392,\"2001\":1.3906, \"2002\":1.3668,\n",
    "                       \"2003\":1.3281, \"2004\":1.3064, \"2005\":1.2758, \n",
    "                       \"2006\":1.2454, \"2007\":1.2186, \"2008\":1.1982, \n",
    "                       \"2009\":1.1940, \"2010\":1.1724, \"2011\":1.1352, \n",
    "                       \"2012\":1.1129, \"2013\":1.1084,\"2014\":1.0863, \n",
    "                       \"2015\":1.0777, \"2016\":1.06, \"2017\":1.0429, \n",
    "                       \"2018\":1.0203, \"2019\":1.0}\n",
    "    df[\"scaler\"] = df['Year'].map(inflection_dict)\n",
    "    df.iloc[:,r1:r2] = df.iloc[:,r1:r2].mul(df[\"scaler\"], axis = 0)\n",
    "    return df\n"
   ]
  },
  {
   "cell_type": "code",
   "execution_count": null,
   "metadata": {},
   "outputs": [],
   "source": [
    "inflation_df = inflation_adjust(df_all_cases, 3, 11)"
   ]
  },
  {
   "cell_type": "code",
   "execution_count": 68,
   "metadata": {},
   "outputs": [
    {
     "name": "stderr",
     "output_type": "stream",
     "text": [
      "/home/ilana/anaconda3/lib/python3.7/site-packages/ipykernel_launcher.py:14: UserWarning: Legend does not support <matplotlib.axes._subplots.AxesSubplot object at 0x7f9289f69fd0> instances.\n",
      "A proxy artist may be used instead.\n",
      "See: http://matplotlib.org/users/legend_guide.html#creating-artists-specifically-for-adding-to-the-legend-aka-proxy-artists\n",
      "  \n"
     ]
    },
    {
     "data": {
      "image/png": "[encoded data removed]",
      "text/plain": [
       "<Figure size 432x288 with 1 Axes>"
      ]
     },
     "metadata": {
      "needs_background": "light"
     },
     "output_type": "display_data"
    }
   ],
   "source": [
    "import seaborn as sns\n",
    "df_grouped = inflation_df.groupby('Year').median()\n",
    "df_grouped_int = df_grouped.reset_index()\n",
    "df_grouped_int[\"Year\"] = df_grouped_int[\"Year\"].astype(int)\n",
    "p1 = sns.regplot(x='Year', y='Total Pecuniary', data=df_grouped_int)\n",
    "p2 = sns.regplot(x='Year', y='Total Damage', data=df_grouped_int)\n",
    "p3 = sns.regplot(x='Year', y='Future Care', data=df_grouped_int)\n",
    "p4 = sns.regplot(x='Year', y='Special', data=df_grouped_int)\n",
    "p5 = sns.regplot(x='Year', y='Non Pecuniary', data=df_grouped_int)\n",
    "\n",
    "plt.title(\"Line Plots\", fontsize = 20)\n",
    "plt.legend([p1, p2, p3, p4, p5], #(['Total Pecuniary', 'Total Damage', 'Future Care', 'Special', 'Non Pecuniary']\n",
    "           ['slope=7701.254311688311', 'slope=9909.74307792208', 'slope=543.8124935064935', 'slope=1090.016538961039', 'slope=2711.0389610389607'], title='slope')\n",
    "plt.xlabel(\"Year\", fontsize = 15)\n",
    "plt.ylabel(\"Damage Amount\", fontsize = 15)\n",
    "plt.show()"
   ]
  },
  {
   "cell_type": "markdown",
   "metadata": {},
   "source": [
    "## Rule-Based Evaluation"
   ]
  },
  {
   "cell_type": "code",
   "execution_count": 2,
   "metadata": {},
   "outputs": [
    {
     "name": "stdout",
     "output_type": "stream",
     "text": [
      "P1.txt\n",
      "P21.txt\n",
      "P64.txt\n",
      "P14.txt\n",
      "P41.txt\n",
      "P11.txt\n",
      "P60.txt\n",
      "P48.txt\n",
      "P83.txt\n",
      "P23.txt\n",
      "P73.txt\n",
      "P26.txt\n",
      "P75.txt\n",
      "P65.txt\n",
      "P32.txt\n",
      "P34.txt\n",
      "P16.txt\n",
      "P37.txt\n",
      "P7.txt\n",
      "P51.txt\n",
      "P30.txt\n",
      "P25.txt\n",
      "P62.txt\n",
      "P19.txt\n",
      "P53.txt\n",
      "P49.txt\n",
      "P39.txt\n",
      "P45.txt\n",
      "P72.txt\n",
      "P55.txt\n",
      "P81.txt\n",
      "P22.txt\n",
      "P28.txt\n",
      "ERROR: cant convert string, 0%\n",
      "P58.txt\n",
      "P46.txt\n",
      "P3.txt\n",
      "P5.txt\n",
      "P8.txt\n",
      "P56.txt\n",
      "P43.txt\n",
      "P36.txt\n",
      "P2.txt\n",
      "P13.txt\n",
      "P67.txt\n",
      "P38.txt\n",
      "P79.txt\n",
      "P57.txt\n",
      "P80.txt\n",
      "P84.txt\n",
      "P54.txt\n",
      "P50.txt\n",
      "P77.txt\n",
      "P20.txt\n",
      "P24.txt\n",
      "P85.txt\n",
      "P10.txt\n",
      "P6.txt\n",
      "P35.txt\n",
      "P74.txt\n",
      "P27.txt\n",
      "P78.txt\n",
      "P61.txt\n",
      "P71.txt\n",
      "P9.txt\n",
      "P70.txt\n",
      "P44.txt\n",
      "P15.txt\n",
      "P82.txt\n",
      "P69.txt\n",
      "P29.txt\n",
      "P18.txt\n",
      "P4.txt\n",
      "P40.txt\n",
      "P66.txt\n",
      "P12.txt\n",
      "P59.txt\n",
      "P63.txt\n",
      "P68.txt\n",
      "P33.txt\n",
      "P47.txt\n",
      "P76.txt\n",
      "P52.txt\n",
      "P31.txt\n",
      "P17.txt\n",
      "P42.txt\n"
     ]
    }
   ],
   "source": [
    "path = \"../../data/Lexis Cases txt/\"\n",
    "list_of_files = os.listdir(path)\n",
    "\n",
    "# list of dictionaries of attributes per document\n",
    "all_cases_parsed =[]\n",
    "for file in list_of_files:\n",
    "    if file != \".DS_Store\" and file != \".ipynb_checkpoints\":\n",
    "        print(file)\n",
    "        all_cases_parsed.extend(key_functions.rule_based_parse_BCJ(path + file))"
   ]
  },
  {
   "cell_type": "code",
   "execution_count": 3,
   "metadata": {},
   "outputs": [
    {
     "data": {
      "text/plain": [
       "{'case_number': '3 of 1',\n",
       " 'case_title': 'Furness v. Guest, [2010] B.C.J. No. 1388',\n",
       " 'year': '2010',\n",
       " 'registry': 'Nanaimo',\n",
       " 'judge': 'D.A. Halfyard J.',\n",
       " 'decision_length': '97',\n",
       " 'multiple_defendants': 'Y',\n",
       " 'contributory_negligence_raised': True,\n",
       " 'written_decision': True,\n",
       " 'plaintiff_wins': 'Y',\n",
       " 'damages': defaultdict(float,\n",
       "             {'Special': 42041.399999999994,\n",
       "              'General': None,\n",
       "              'Punitive': None,\n",
       "              'Aggravated': None,\n",
       "              'Future Care': None,\n",
       "              'Pecuniary Total': 42041.399999999994,\n",
       "              'Non Pecuniary': None,\n",
       "              'Total': 42041.399999999994}),\n",
       " 'percent_reduction': 0.75,\n",
       " 'contributory_negligence_successful': True}"
      ]
     },
     "execution_count": 3,
     "metadata": {},
     "output_type": "execute_result"
    }
   ],
   "source": [
    "all_cases_parsed[1]"
   ]
  },
  {
   "cell_type": "code",
   "execution_count": 4,
   "metadata": {},
   "outputs": [
    {
     "data": {
      "text/html": [
       "<div>\n",
       "<style scoped>\n",
       "    .dataframe tbody tr th:only-of-type {\n",
       "        vertical-align: middle;\n",
       "    }\n",
       "\n",
       "    .dataframe tbody tr th {\n",
       "        vertical-align: top;\n",
       "    }\n",
       "\n",
       "    .dataframe thead th {\n",
       "        text-align: right;\n",
       "    }\n",
       "</style>\n",
       "<table border=\"1\" class=\"dataframe\">\n",
       "  <thead>\n",
       "    <tr style=\"text-align: right;\">\n",
       "      <th></th>\n",
       "      <th>Case Number</th>\n",
       "      <th>Case Name</th>\n",
       "      <th>Year</th>\n",
       "      <th>Total Damage</th>\n",
       "      <th>Total Pecuniary</th>\n",
       "      <th>Non Pecuniary</th>\n",
       "      <th>General</th>\n",
       "      <th>Special</th>\n",
       "      <th>Punitive</th>\n",
       "      <th>Aggravated</th>\n",
       "      <th>Future Care</th>\n",
       "      <th>Judge Name</th>\n",
       "      <th>Decision Length</th>\n",
       "      <th>Multiple defendants?</th>\n",
       "      <th>Plaintiff Wins?</th>\n",
       "      <th>Contributory Negligence Raised</th>\n",
       "      <th>Written Decision?</th>\n",
       "      <th>Registry</th>\n",
       "      <th>Contributory Negligence Successful</th>\n",
       "      <th>Percent Reduction</th>\n",
       "    </tr>\n",
       "  </thead>\n",
       "  <tbody>\n",
       "    <tr>\n",
       "      <th>0</th>\n",
       "      <td>2 of 1</td>\n",
       "      <td>Ediger (Guardian ad litem of) v. Johnston, [20...</td>\n",
       "      <td>2009</td>\n",
       "      <td>20000.00</td>\n",
       "      <td>NaN</td>\n",
       "      <td>NaN</td>\n",
       "      <td>20000.0</td>\n",
       "      <td>NaN</td>\n",
       "      <td>NaN</td>\n",
       "      <td>NaN</td>\n",
       "      <td>NaN</td>\n",
       "      <td>H.J. Holmes J.</td>\n",
       "      <td>350</td>\n",
       "      <td>N</td>\n",
       "      <td>Y</td>\n",
       "      <td>False</td>\n",
       "      <td>True</td>\n",
       "      <td>Vancouver</td>\n",
       "      <td>False</td>\n",
       "      <td>NaN</td>\n",
       "    </tr>\n",
       "    <tr>\n",
       "      <th>1</th>\n",
       "      <td>3 of 1</td>\n",
       "      <td>Furness v. Guest, [2010] B.C.J. No. 1388</td>\n",
       "      <td>2010</td>\n",
       "      <td>42041.40</td>\n",
       "      <td>42041.40</td>\n",
       "      <td>NaN</td>\n",
       "      <td>NaN</td>\n",
       "      <td>42041.40</td>\n",
       "      <td>NaN</td>\n",
       "      <td>NaN</td>\n",
       "      <td>NaN</td>\n",
       "      <td>D.A. Halfyard J.</td>\n",
       "      <td>97</td>\n",
       "      <td>Y</td>\n",
       "      <td>Y</td>\n",
       "      <td>True</td>\n",
       "      <td>True</td>\n",
       "      <td>Nanaimo</td>\n",
       "      <td>True</td>\n",
       "      <td>0.75</td>\n",
       "    </tr>\n",
       "    <tr>\n",
       "      <th>2</th>\n",
       "      <td>4 of 1</td>\n",
       "      <td>Howell v. Machi, [2017] B.C.J. No. 2016</td>\n",
       "      <td>2017</td>\n",
       "      <td>2178781.77</td>\n",
       "      <td>2178781.77</td>\n",
       "      <td>NaN</td>\n",
       "      <td>2050000.0</td>\n",
       "      <td>28781.77</td>\n",
       "      <td>100000.0</td>\n",
       "      <td>NaN</td>\n",
       "      <td>NaN</td>\n",
       "      <td>H. MacNaughton</td>\n",
       "      <td>525</td>\n",
       "      <td>Y</td>\n",
       "      <td>Y</td>\n",
       "      <td>True</td>\n",
       "      <td>True</td>\n",
       "      <td>Vancouver</td>\n",
       "      <td>True</td>\n",
       "      <td>0.25</td>\n",
       "    </tr>\n",
       "    <tr>\n",
       "      <th>3</th>\n",
       "      <td>5 of 1</td>\n",
       "      <td>Morrow v. Outerbridge, [2009] B.C.J. No. 640</td>\n",
       "      <td>2009</td>\n",
       "      <td>800000.00</td>\n",
       "      <td>800000.00</td>\n",
       "      <td>NaN</td>\n",
       "      <td>NaN</td>\n",
       "      <td>NaN</td>\n",
       "      <td>800000.0</td>\n",
       "      <td>NaN</td>\n",
       "      <td>NaN</td>\n",
       "      <td>E.A. Bennett J.</td>\n",
       "      <td>311</td>\n",
       "      <td>Y</td>\n",
       "      <td>Y</td>\n",
       "      <td>False</td>\n",
       "      <td>True</td>\n",
       "      <td>Vancouver</td>\n",
       "      <td>False</td>\n",
       "      <td>NaN</td>\n",
       "    </tr>\n",
       "    <tr>\n",
       "      <th>4</th>\n",
       "      <td>6 of 1</td>\n",
       "      <td>Parlby v. Starr, [2017] B.C.J. No. 2621</td>\n",
       "      <td>2017</td>\n",
       "      <td>2678470.58</td>\n",
       "      <td>2388470.58</td>\n",
       "      <td>290000.0</td>\n",
       "      <td>1265141.0</td>\n",
       "      <td>115302.24</td>\n",
       "      <td>NaN</td>\n",
       "      <td>NaN</td>\n",
       "      <td>1008027.34</td>\n",
       "      <td>M.L. Fleming J.</td>\n",
       "      <td>593</td>\n",
       "      <td>Y</td>\n",
       "      <td>Y</td>\n",
       "      <td>True</td>\n",
       "      <td>True</td>\n",
       "      <td>Vancouver</td>\n",
       "      <td>True</td>\n",
       "      <td>0.35</td>\n",
       "    </tr>\n",
       "    <tr>\n",
       "      <th>5</th>\n",
       "      <td>7 of 1</td>\n",
       "      <td>Minhas v. Sartor, [2012] B.C.J. No. 1087</td>\n",
       "      <td>2012</td>\n",
       "      <td>95816.00</td>\n",
       "      <td>25816.00</td>\n",
       "      <td>70000.0</td>\n",
       "      <td>NaN</td>\n",
       "      <td>24466.00</td>\n",
       "      <td>NaN</td>\n",
       "      <td>NaN</td>\n",
       "      <td>1350.00</td>\n",
       "      <td>W.G. Baker J.</td>\n",
       "      <td>462</td>\n",
       "      <td>N</td>\n",
       "      <td>Y</td>\n",
       "      <td>True</td>\n",
       "      <td>True</td>\n",
       "      <td>New Westminster</td>\n",
       "      <td>True</td>\n",
       "      <td>0.20</td>\n",
       "    </tr>\n",
       "    <tr>\n",
       "      <th>6</th>\n",
       "      <td>9 of 1</td>\n",
       "      <td>Watkins v. Dormuth, [2014] B.C.J. No. 557</td>\n",
       "      <td>2014</td>\n",
       "      <td>965827.10</td>\n",
       "      <td>790827.10</td>\n",
       "      <td>175000.0</td>\n",
       "      <td>525000.0</td>\n",
       "      <td>255077.10</td>\n",
       "      <td>NaN</td>\n",
       "      <td>NaN</td>\n",
       "      <td>10750.00</td>\n",
       "      <td>M.B. Blok J.</td>\n",
       "      <td>305</td>\n",
       "      <td>Y</td>\n",
       "      <td>Y</td>\n",
       "      <td>False</td>\n",
       "      <td>True</td>\n",
       "      <td>Campbell River</td>\n",
       "      <td>False</td>\n",
       "      <td>NaN</td>\n",
       "    </tr>\n",
       "    <tr>\n",
       "      <th>7</th>\n",
       "      <td>10 of 1</td>\n",
       "      <td>Paur (Committee of) v. Providence Health Care,...</td>\n",
       "      <td>2015</td>\n",
       "      <td>362934.28</td>\n",
       "      <td>7634.28</td>\n",
       "      <td>355300.0</td>\n",
       "      <td>NaN</td>\n",
       "      <td>5594.28</td>\n",
       "      <td>NaN</td>\n",
       "      <td>NaN</td>\n",
       "      <td>2040.00</td>\n",
       "      <td>S.A. Griffin J.</td>\n",
       "      <td>755</td>\n",
       "      <td>Y</td>\n",
       "      <td>Y</td>\n",
       "      <td>True</td>\n",
       "      <td>True</td>\n",
       "      <td>Vancouver</td>\n",
       "      <td>False</td>\n",
       "      <td>NaN</td>\n",
       "    </tr>\n",
       "    <tr>\n",
       "      <th>8</th>\n",
       "      <td>12 of 1</td>\n",
       "      <td>Huang v. Canadian National Railway Co., [2018]...</td>\n",
       "      <td>2018</td>\n",
       "      <td>NaN</td>\n",
       "      <td>NaN</td>\n",
       "      <td>NaN</td>\n",
       "      <td>NaN</td>\n",
       "      <td>NaN</td>\n",
       "      <td>NaN</td>\n",
       "      <td>NaN</td>\n",
       "      <td>NaN</td>\n",
       "      <td>M.L. Fleming J.</td>\n",
       "      <td>604</td>\n",
       "      <td>Y</td>\n",
       "      <td>Y</td>\n",
       "      <td>True</td>\n",
       "      <td>True</td>\n",
       "      <td>Vancouver</td>\n",
       "      <td>True</td>\n",
       "      <td>0.40</td>\n",
       "    </tr>\n",
       "    <tr>\n",
       "      <th>9</th>\n",
       "      <td>13 of 1</td>\n",
       "      <td>Culos v. Chretien, [2012] B.C.J. No. 1475</td>\n",
       "      <td>2012</td>\n",
       "      <td>395232.25</td>\n",
       "      <td>320232.25</td>\n",
       "      <td>75000.0</td>\n",
       "      <td>300000.0</td>\n",
       "      <td>8732.25</td>\n",
       "      <td>NaN</td>\n",
       "      <td>NaN</td>\n",
       "      <td>11500.00</td>\n",
       "      <td>P. Rogers J.</td>\n",
       "      <td>75</td>\n",
       "      <td>N</td>\n",
       "      <td>Y</td>\n",
       "      <td>True</td>\n",
       "      <td>True</td>\n",
       "      <td>Kelowna</td>\n",
       "      <td>False</td>\n",
       "      <td>NaN</td>\n",
       "    </tr>\n",
       "  </tbody>\n",
       "</table>\n",
       "</div>"
      ],
      "text/plain": [
       "  Case Number                                          Case Name  Year  \\\n",
       "0      2 of 1  Ediger (Guardian ad litem of) v. Johnston, [20...  2009   \n",
       "1      3 of 1           Furness v. Guest, [2010] B.C.J. No. 1388  2010   \n",
       "2      4 of 1            Howell v. Machi, [2017] B.C.J. No. 2016  2017   \n",
       "3      5 of 1       Morrow v. Outerbridge, [2009] B.C.J. No. 640  2009   \n",
       "4      6 of 1            Parlby v. Starr, [2017] B.C.J. No. 2621  2017   \n",
       "5      7 of 1           Minhas v. Sartor, [2012] B.C.J. No. 1087  2012   \n",
       "6      9 of 1          Watkins v. Dormuth, [2014] B.C.J. No. 557  2014   \n",
       "7     10 of 1  Paur (Committee of) v. Providence Health Care,...  2015   \n",
       "8     12 of 1  Huang v. Canadian National Railway Co., [2018]...  2018   \n",
       "9     13 of 1          Culos v. Chretien, [2012] B.C.J. No. 1475  2012   \n",
       "\n",
       "   Total Damage  Total Pecuniary  Non Pecuniary    General    Special  \\\n",
       "0      20000.00              NaN            NaN    20000.0        NaN   \n",
       "1      42041.40         42041.40            NaN        NaN   42041.40   \n",
       "2    2178781.77       2178781.77            NaN  2050000.0   28781.77   \n",
       "3     800000.00        800000.00            NaN        NaN        NaN   \n",
       "4    2678470.58       2388470.58       290000.0  1265141.0  115302.24   \n",
       "5      95816.00         25816.00        70000.0        NaN   24466.00   \n",
       "6     965827.10        790827.10       175000.0   525000.0  255077.10   \n",
       "7     362934.28          7634.28       355300.0        NaN    5594.28   \n",
       "8           NaN              NaN            NaN        NaN        NaN   \n",
       "9     395232.25        320232.25        75000.0   300000.0    8732.25   \n",
       "\n",
       "   Punitive  Aggravated  Future Care        Judge Name Decision Length  \\\n",
       "0       NaN         NaN          NaN    H.J. Holmes J.             350   \n",
       "1       NaN         NaN          NaN  D.A. Halfyard J.              97   \n",
       "2  100000.0         NaN          NaN    H. MacNaughton             525   \n",
       "3  800000.0         NaN          NaN   E.A. Bennett J.             311   \n",
       "4       NaN         NaN   1008027.34   M.L. Fleming J.             593   \n",
       "5       NaN         NaN      1350.00     W.G. Baker J.             462   \n",
       "6       NaN         NaN     10750.00      M.B. Blok J.             305   \n",
       "7       NaN         NaN      2040.00   S.A. Griffin J.             755   \n",
       "8       NaN         NaN          NaN   M.L. Fleming J.             604   \n",
       "9       NaN         NaN     11500.00      P. Rogers J.              75   \n",
       "\n",
       "  Multiple defendants? Plaintiff Wins?  Contributory Negligence Raised  \\\n",
       "0                    N               Y                           False   \n",
       "1                    Y               Y                            True   \n",
       "2                    Y               Y                            True   \n",
       "3                    Y               Y                           False   \n",
       "4                    Y               Y                            True   \n",
       "5                    N               Y                            True   \n",
       "6                    Y               Y                           False   \n",
       "7                    Y               Y                            True   \n",
       "8                    Y               Y                            True   \n",
       "9                    N               Y                            True   \n",
       "\n",
       "   Written Decision?         Registry  Contributory Negligence Successful  \\\n",
       "0               True        Vancouver                               False   \n",
       "1               True          Nanaimo                                True   \n",
       "2               True        Vancouver                                True   \n",
       "3               True        Vancouver                               False   \n",
       "4               True        Vancouver                                True   \n",
       "5               True  New Westminster                                True   \n",
       "6               True   Campbell River                               False   \n",
       "7               True        Vancouver                               False   \n",
       "8               True        Vancouver                                True   \n",
       "9               True          Kelowna                               False   \n",
       "\n",
       "   Percent Reduction  \n",
       "0                NaN  \n",
       "1               0.75  \n",
       "2               0.25  \n",
       "3                NaN  \n",
       "4               0.35  \n",
       "5               0.20  \n",
       "6                NaN  \n",
       "7                NaN  \n",
       "8               0.40  \n",
       "9                NaN  "
      ]
     },
     "execution_count": 4,
     "metadata": {},
     "output_type": "execute_result"
    }
   ],
   "source": [
    "df_rule_based= key_functions.rule_based_convert_cases_to_DF(all_cases_parsed)\n",
    "df_rule_based['Contributory Negligence Successful'].replace(np.nan, False, inplace = True)\n",
    "df_rule_based[:10]"
   ]
  },
  {
   "cell_type": "code",
   "execution_count": 5,
   "metadata": {},
   "outputs": [],
   "source": [
    "df_rule_based['Contributory Negligence Successful'].replace(True, 'Y', inplace=True)\n",
    "df_rule_based['Contributory Negligence Successful'].replace(False, 'N', inplace= True)\n",
    "df_rule_based['Percent Reduction'].replace(0, np.nan, inplace = True)\n",
    "df_rule_based['Percent Reduction'].replace(1, np.nan, inplace = True)"
   ]
  },
  {
   "cell_type": "code",
   "execution_count": 8,
   "metadata": {},
   "outputs": [
    {
     "name": "stdout",
     "output_type": "stream",
     "text": [
      "#### Evaluation ####\n",
      "-------\n",
      "COLUMN: Case Name\n",
      "Filled field accuracy: 100.0 % 30 / 30\n",
      "Overall accuracy: 100.0 % 30 / 30\n",
      "-------\n",
      "COLUMN: % Reduction as a result of contributory negligence\n",
      "Average distance from correct answer: $0.24444444444444446\n",
      "Empty field accuracy: 0.0 % 0 / 9\n",
      "Filled field accuracy: 100.0 % 21 / 21\n",
      "Overall accuracy: 70.0 % 21 / 30\n"
     ]
    },
    {
     "name": "stderr",
     "output_type": "stream",
     "text": [
      "/home/ilana/Documents/MDS_Capstone/Capstone-project/code/experimental-notebooks/key_functions.py:1262: SettingWithCopyWarning: \n",
      "A value is trying to be set on a copy of a slice from a DataFrame\n",
      "\n",
      "See the caveats in the documentation: http://pandas.pydata.org/pandas-docs/stable/user_guide/indexing.html#returning-a-view-versus-a-copy\n",
      "  dev_data.dropna(subset = [focus_column], inplace=True)\n",
      "/home/ilana/anaconda3/lib/python3.7/site-packages/pandas/core/frame.py:4238: SettingWithCopyWarning: \n",
      "A value is trying to be set on a copy of a slice from a DataFrame\n",
      "\n",
      "See the caveats in the documentation: http://pandas.pydata.org/pandas-docs/stable/user_guide/indexing.html#returning-a-view-versus-a-copy\n",
      "  return super().rename(**kwargs)\n"
     ]
    }
   ],
   "source": [
    "key_functions.evaluate(df_rule_based[['Case Name','Percent Reduction']], gold, focus_column='Percent Reduction')"
   ]
  },
  {
   "cell_type": "markdown",
   "metadata": {},
   "source": [
    "### Visualization"
   ]
  },
  {
   "cell_type": "code",
   "execution_count": 19,
   "metadata": {},
   "outputs": [],
   "source": [
    "inflation_df = inflation_adjust(df_rule_based, 3, 11)"
   ]
  },
  {
   "cell_type": "code",
   "execution_count": 20,
   "metadata": {},
   "outputs": [
    {
     "name": "stderr",
     "output_type": "stream",
     "text": [
      "/home/ilana/anaconda3/lib/python3.7/site-packages/ipykernel_launcher.py:12: UserWarning: Legend does not support <matplotlib.axes._subplots.AxesSubplot object at 0x7fbcb0c14128> instances.\n",
      "A proxy artist may be used instead.\n",
      "See: http://matplotlib.org/users/legend_guide.html#creating-artists-specifically-for-adding-to-the-legend-aka-proxy-artists\n",
      "  if sys.path[0] == '':\n"
     ]
    },
    {
     "data": {
      "image/png": "[encoded data removed]",
      "text/plain": [
       "<Figure size 432x288 with 1 Axes>"
      ]
     },
     "metadata": {
      "needs_background": "light"
     },
     "output_type": "display_data"
    }
   ],
   "source": [
    "df_grouped = inflation_df.groupby('Year').median()\n",
    "df_grouped_int = df_grouped.reset_index()\n",
    "df_grouped_int[\"Year\"] = df_grouped_int[\"Year\"].astype(int)\n",
    "p1 = sns.regplot(x='Year', y='Total Pecuniary', data=df_grouped_int)\n",
    "p2 = sns.regplot(x='Year', y='Total Damage', data=df_grouped_int)\n",
    "p3 = sns.regplot(x='Year', y='Future Care', data=df_grouped_int)\n",
    "p4 = sns.regplot(x='Year', y='Special', data=df_grouped_int)\n",
    "p5 = sns.regplot(x='Year', y='Non Pecuniary', data=df_grouped_int)\n",
    "\n",
    "plt.title(\"Line Plots\", fontsize = 20)\n",
    "plt.legend([p1, p2, p3, p4, p5], #(['Total Pecuniary', 'Total Damage', 'Future Care', 'Special', 'Non Pecuniary']\n",
    "           ['slope=7701.254311688311', 'slope=9909.74307792208', 'slope=543.8124935064935', 'slope=1090.016538961039', 'slope=2711.0389610389607'], title='slope')\n",
    "plt.xlabel(\"Year\", fontsize = 15)\n",
    "plt.ylabel(\"Damage Amount\", fontsize = 15)\n",
    "plt.show()"
   ]
  },
  {
   "cell_type": "code",
   "execution_count": 30,
   "metadata": {
    "collapsed": true,
    "jupyter": {
     "outputs_hidden": true
    }
   },
   "outputs": [
    {
     "data": {
      "text/html": [
       "<div>\n",
       "<style scoped>\n",
       "    .dataframe tbody tr th:only-of-type {\n",
       "        vertical-align: middle;\n",
       "    }\n",
       "\n",
       "    .dataframe tbody tr th {\n",
       "        vertical-align: top;\n",
       "    }\n",
       "\n",
       "    .dataframe thead th {\n",
       "        text-align: right;\n",
       "    }\n",
       "</style>\n",
       "<table border=\"1\" class=\"dataframe\">\n",
       "  <thead>\n",
       "    <tr style=\"text-align: right;\">\n",
       "      <th></th>\n",
       "      <th>Case Number</th>\n",
       "      <th>Case Name</th>\n",
       "      <th>Total Damage</th>\n",
       "      <th>Total Pecuniary</th>\n",
       "      <th>Non Pecuniary</th>\n",
       "      <th>General</th>\n",
       "      <th>Special</th>\n",
       "      <th>Punitive</th>\n",
       "      <th>Aggravated</th>\n",
       "      <th>Future Care</th>\n",
       "      <th>Judge Name</th>\n",
       "      <th>Decision Length</th>\n",
       "      <th>Multiple defendants?</th>\n",
       "      <th>Plaintiff Wins?</th>\n",
       "      <th>Contributory Negligence Raised</th>\n",
       "      <th>Written Decision?</th>\n",
       "      <th>Registry</th>\n",
       "      <th>Contributory Negligence Successful</th>\n",
       "      <th>Percent Reduction</th>\n",
       "    </tr>\n",
       "    <tr>\n",
       "      <th>Year</th>\n",
       "      <th></th>\n",
       "      <th></th>\n",
       "      <th></th>\n",
       "      <th></th>\n",
       "      <th></th>\n",
       "      <th></th>\n",
       "      <th></th>\n",
       "      <th></th>\n",
       "      <th></th>\n",
       "      <th></th>\n",
       "      <th></th>\n",
       "      <th></th>\n",
       "      <th></th>\n",
       "      <th></th>\n",
       "      <th></th>\n",
       "      <th></th>\n",
       "      <th></th>\n",
       "      <th></th>\n",
       "      <th></th>\n",
       "    </tr>\n",
       "  </thead>\n",
       "  <tbody>\n",
       "    <tr>\n",
       "      <th>2000</th>\n",
       "      <td>33</td>\n",
       "      <td>33</td>\n",
       "      <td>33</td>\n",
       "      <td>26</td>\n",
       "      <td>17</td>\n",
       "      <td>21</td>\n",
       "      <td>21</td>\n",
       "      <td>0</td>\n",
       "      <td>1</td>\n",
       "      <td>8</td>\n",
       "      <td>33</td>\n",
       "      <td>33</td>\n",
       "      <td>33</td>\n",
       "      <td>33</td>\n",
       "      <td>33</td>\n",
       "      <td>33</td>\n",
       "      <td>33</td>\n",
       "      <td>33</td>\n",
       "      <td>6</td>\n",
       "    </tr>\n",
       "    <tr>\n",
       "      <th>2001</th>\n",
       "      <td>37</td>\n",
       "      <td>37</td>\n",
       "      <td>37</td>\n",
       "      <td>27</td>\n",
       "      <td>15</td>\n",
       "      <td>24</td>\n",
       "      <td>19</td>\n",
       "      <td>3</td>\n",
       "      <td>5</td>\n",
       "      <td>7</td>\n",
       "      <td>37</td>\n",
       "      <td>37</td>\n",
       "      <td>37</td>\n",
       "      <td>37</td>\n",
       "      <td>37</td>\n",
       "      <td>37</td>\n",
       "      <td>37</td>\n",
       "      <td>37</td>\n",
       "      <td>8</td>\n",
       "    </tr>\n",
       "    <tr>\n",
       "      <th>2002</th>\n",
       "      <td>27</td>\n",
       "      <td>27</td>\n",
       "      <td>27</td>\n",
       "      <td>20</td>\n",
       "      <td>7</td>\n",
       "      <td>24</td>\n",
       "      <td>12</td>\n",
       "      <td>2</td>\n",
       "      <td>0</td>\n",
       "      <td>10</td>\n",
       "      <td>27</td>\n",
       "      <td>27</td>\n",
       "      <td>27</td>\n",
       "      <td>27</td>\n",
       "      <td>27</td>\n",
       "      <td>27</td>\n",
       "      <td>27</td>\n",
       "      <td>27</td>\n",
       "      <td>6</td>\n",
       "    </tr>\n",
       "    <tr>\n",
       "      <th>2003</th>\n",
       "      <td>30</td>\n",
       "      <td>30</td>\n",
       "      <td>30</td>\n",
       "      <td>20</td>\n",
       "      <td>12</td>\n",
       "      <td>14</td>\n",
       "      <td>16</td>\n",
       "      <td>1</td>\n",
       "      <td>1</td>\n",
       "      <td>4</td>\n",
       "      <td>30</td>\n",
       "      <td>30</td>\n",
       "      <td>30</td>\n",
       "      <td>30</td>\n",
       "      <td>30</td>\n",
       "      <td>30</td>\n",
       "      <td>30</td>\n",
       "      <td>30</td>\n",
       "      <td>4</td>\n",
       "    </tr>\n",
       "    <tr>\n",
       "      <th>2004</th>\n",
       "      <td>17</td>\n",
       "      <td>17</td>\n",
       "      <td>17</td>\n",
       "      <td>13</td>\n",
       "      <td>6</td>\n",
       "      <td>9</td>\n",
       "      <td>8</td>\n",
       "      <td>2</td>\n",
       "      <td>1</td>\n",
       "      <td>5</td>\n",
       "      <td>17</td>\n",
       "      <td>17</td>\n",
       "      <td>17</td>\n",
       "      <td>17</td>\n",
       "      <td>17</td>\n",
       "      <td>17</td>\n",
       "      <td>17</td>\n",
       "      <td>17</td>\n",
       "      <td>5</td>\n",
       "    </tr>\n",
       "    <tr>\n",
       "      <th>2005</th>\n",
       "      <td>29</td>\n",
       "      <td>29</td>\n",
       "      <td>29</td>\n",
       "      <td>21</td>\n",
       "      <td>12</td>\n",
       "      <td>20</td>\n",
       "      <td>13</td>\n",
       "      <td>1</td>\n",
       "      <td>0</td>\n",
       "      <td>4</td>\n",
       "      <td>29</td>\n",
       "      <td>29</td>\n",
       "      <td>29</td>\n",
       "      <td>29</td>\n",
       "      <td>29</td>\n",
       "      <td>29</td>\n",
       "      <td>29</td>\n",
       "      <td>29</td>\n",
       "      <td>5</td>\n",
       "    </tr>\n",
       "    <tr>\n",
       "      <th>2006</th>\n",
       "      <td>40</td>\n",
       "      <td>40</td>\n",
       "      <td>40</td>\n",
       "      <td>31</td>\n",
       "      <td>18</td>\n",
       "      <td>22</td>\n",
       "      <td>22</td>\n",
       "      <td>5</td>\n",
       "      <td>3</td>\n",
       "      <td>10</td>\n",
       "      <td>40</td>\n",
       "      <td>40</td>\n",
       "      <td>40</td>\n",
       "      <td>40</td>\n",
       "      <td>40</td>\n",
       "      <td>40</td>\n",
       "      <td>40</td>\n",
       "      <td>40</td>\n",
       "      <td>8</td>\n",
       "    </tr>\n",
       "    <tr>\n",
       "      <th>2007</th>\n",
       "      <td>41</td>\n",
       "      <td>41</td>\n",
       "      <td>41</td>\n",
       "      <td>36</td>\n",
       "      <td>15</td>\n",
       "      <td>25</td>\n",
       "      <td>24</td>\n",
       "      <td>5</td>\n",
       "      <td>5</td>\n",
       "      <td>9</td>\n",
       "      <td>41</td>\n",
       "      <td>41</td>\n",
       "      <td>41</td>\n",
       "      <td>41</td>\n",
       "      <td>41</td>\n",
       "      <td>41</td>\n",
       "      <td>41</td>\n",
       "      <td>41</td>\n",
       "      <td>11</td>\n",
       "    </tr>\n",
       "    <tr>\n",
       "      <th>2008</th>\n",
       "      <td>39</td>\n",
       "      <td>39</td>\n",
       "      <td>39</td>\n",
       "      <td>35</td>\n",
       "      <td>23</td>\n",
       "      <td>16</td>\n",
       "      <td>26</td>\n",
       "      <td>2</td>\n",
       "      <td>0</td>\n",
       "      <td>18</td>\n",
       "      <td>39</td>\n",
       "      <td>39</td>\n",
       "      <td>39</td>\n",
       "      <td>39</td>\n",
       "      <td>39</td>\n",
       "      <td>39</td>\n",
       "      <td>39</td>\n",
       "      <td>39</td>\n",
       "      <td>7</td>\n",
       "    </tr>\n",
       "    <tr>\n",
       "      <th>2009</th>\n",
       "      <td>61</td>\n",
       "      <td>61</td>\n",
       "      <td>61</td>\n",
       "      <td>48</td>\n",
       "      <td>32</td>\n",
       "      <td>39</td>\n",
       "      <td>38</td>\n",
       "      <td>2</td>\n",
       "      <td>0</td>\n",
       "      <td>25</td>\n",
       "      <td>61</td>\n",
       "      <td>61</td>\n",
       "      <td>61</td>\n",
       "      <td>61</td>\n",
       "      <td>61</td>\n",
       "      <td>61</td>\n",
       "      <td>61</td>\n",
       "      <td>61</td>\n",
       "      <td>17</td>\n",
       "    </tr>\n",
       "    <tr>\n",
       "      <th>2010</th>\n",
       "      <td>54</td>\n",
       "      <td>54</td>\n",
       "      <td>54</td>\n",
       "      <td>42</td>\n",
       "      <td>27</td>\n",
       "      <td>36</td>\n",
       "      <td>34</td>\n",
       "      <td>0</td>\n",
       "      <td>0</td>\n",
       "      <td>17</td>\n",
       "      <td>54</td>\n",
       "      <td>54</td>\n",
       "      <td>54</td>\n",
       "      <td>54</td>\n",
       "      <td>54</td>\n",
       "      <td>54</td>\n",
       "      <td>54</td>\n",
       "      <td>54</td>\n",
       "      <td>14</td>\n",
       "    </tr>\n",
       "    <tr>\n",
       "      <th>2011</th>\n",
       "      <td>34</td>\n",
       "      <td>34</td>\n",
       "      <td>34</td>\n",
       "      <td>26</td>\n",
       "      <td>14</td>\n",
       "      <td>24</td>\n",
       "      <td>23</td>\n",
       "      <td>2</td>\n",
       "      <td>0</td>\n",
       "      <td>15</td>\n",
       "      <td>34</td>\n",
       "      <td>34</td>\n",
       "      <td>34</td>\n",
       "      <td>34</td>\n",
       "      <td>34</td>\n",
       "      <td>34</td>\n",
       "      <td>34</td>\n",
       "      <td>34</td>\n",
       "      <td>10</td>\n",
       "    </tr>\n",
       "    <tr>\n",
       "      <th>2012</th>\n",
       "      <td>59</td>\n",
       "      <td>59</td>\n",
       "      <td>59</td>\n",
       "      <td>46</td>\n",
       "      <td>39</td>\n",
       "      <td>32</td>\n",
       "      <td>43</td>\n",
       "      <td>1</td>\n",
       "      <td>0</td>\n",
       "      <td>28</td>\n",
       "      <td>59</td>\n",
       "      <td>59</td>\n",
       "      <td>59</td>\n",
       "      <td>59</td>\n",
       "      <td>59</td>\n",
       "      <td>59</td>\n",
       "      <td>59</td>\n",
       "      <td>59</td>\n",
       "      <td>18</td>\n",
       "    </tr>\n",
       "    <tr>\n",
       "      <th>2013</th>\n",
       "      <td>66</td>\n",
       "      <td>66</td>\n",
       "      <td>66</td>\n",
       "      <td>63</td>\n",
       "      <td>37</td>\n",
       "      <td>38</td>\n",
       "      <td>55</td>\n",
       "      <td>2</td>\n",
       "      <td>1</td>\n",
       "      <td>38</td>\n",
       "      <td>66</td>\n",
       "      <td>66</td>\n",
       "      <td>66</td>\n",
       "      <td>66</td>\n",
       "      <td>66</td>\n",
       "      <td>66</td>\n",
       "      <td>66</td>\n",
       "      <td>66</td>\n",
       "      <td>11</td>\n",
       "    </tr>\n",
       "    <tr>\n",
       "      <th>2014</th>\n",
       "      <td>68</td>\n",
       "      <td>68</td>\n",
       "      <td>68</td>\n",
       "      <td>56</td>\n",
       "      <td>40</td>\n",
       "      <td>48</td>\n",
       "      <td>43</td>\n",
       "      <td>1</td>\n",
       "      <td>0</td>\n",
       "      <td>46</td>\n",
       "      <td>68</td>\n",
       "      <td>68</td>\n",
       "      <td>68</td>\n",
       "      <td>68</td>\n",
       "      <td>68</td>\n",
       "      <td>68</td>\n",
       "      <td>68</td>\n",
       "      <td>68</td>\n",
       "      <td>13</td>\n",
       "    </tr>\n",
       "    <tr>\n",
       "      <th>2015</th>\n",
       "      <td>50</td>\n",
       "      <td>50</td>\n",
       "      <td>50</td>\n",
       "      <td>42</td>\n",
       "      <td>30</td>\n",
       "      <td>35</td>\n",
       "      <td>36</td>\n",
       "      <td>1</td>\n",
       "      <td>1</td>\n",
       "      <td>34</td>\n",
       "      <td>50</td>\n",
       "      <td>50</td>\n",
       "      <td>50</td>\n",
       "      <td>50</td>\n",
       "      <td>50</td>\n",
       "      <td>50</td>\n",
       "      <td>50</td>\n",
       "      <td>50</td>\n",
       "      <td>13</td>\n",
       "    </tr>\n",
       "    <tr>\n",
       "      <th>2016</th>\n",
       "      <td>54</td>\n",
       "      <td>54</td>\n",
       "      <td>54</td>\n",
       "      <td>49</td>\n",
       "      <td>33</td>\n",
       "      <td>35</td>\n",
       "      <td>41</td>\n",
       "      <td>4</td>\n",
       "      <td>0</td>\n",
       "      <td>31</td>\n",
       "      <td>54</td>\n",
       "      <td>54</td>\n",
       "      <td>54</td>\n",
       "      <td>54</td>\n",
       "      <td>54</td>\n",
       "      <td>54</td>\n",
       "      <td>54</td>\n",
       "      <td>54</td>\n",
       "      <td>10</td>\n",
       "    </tr>\n",
       "    <tr>\n",
       "      <th>2017</th>\n",
       "      <td>47</td>\n",
       "      <td>47</td>\n",
       "      <td>47</td>\n",
       "      <td>36</td>\n",
       "      <td>26</td>\n",
       "      <td>36</td>\n",
       "      <td>34</td>\n",
       "      <td>2</td>\n",
       "      <td>1</td>\n",
       "      <td>22</td>\n",
       "      <td>47</td>\n",
       "      <td>47</td>\n",
       "      <td>47</td>\n",
       "      <td>47</td>\n",
       "      <td>47</td>\n",
       "      <td>47</td>\n",
       "      <td>47</td>\n",
       "      <td>47</td>\n",
       "      <td>13</td>\n",
       "    </tr>\n",
       "    <tr>\n",
       "      <th>2018</th>\n",
       "      <td>33</td>\n",
       "      <td>33</td>\n",
       "      <td>33</td>\n",
       "      <td>24</td>\n",
       "      <td>21</td>\n",
       "      <td>27</td>\n",
       "      <td>21</td>\n",
       "      <td>2</td>\n",
       "      <td>1</td>\n",
       "      <td>20</td>\n",
       "      <td>33</td>\n",
       "      <td>33</td>\n",
       "      <td>33</td>\n",
       "      <td>33</td>\n",
       "      <td>33</td>\n",
       "      <td>33</td>\n",
       "      <td>33</td>\n",
       "      <td>33</td>\n",
       "      <td>4</td>\n",
       "    </tr>\n",
       "    <tr>\n",
       "      <th>2019</th>\n",
       "      <td>70</td>\n",
       "      <td>70</td>\n",
       "      <td>70</td>\n",
       "      <td>64</td>\n",
       "      <td>47</td>\n",
       "      <td>45</td>\n",
       "      <td>55</td>\n",
       "      <td>4</td>\n",
       "      <td>2</td>\n",
       "      <td>45</td>\n",
       "      <td>70</td>\n",
       "      <td>70</td>\n",
       "      <td>70</td>\n",
       "      <td>70</td>\n",
       "      <td>70</td>\n",
       "      <td>70</td>\n",
       "      <td>70</td>\n",
       "      <td>70</td>\n",
       "      <td>6</td>\n",
       "    </tr>\n",
       "    <tr>\n",
       "      <th>2020</th>\n",
       "      <td>12</td>\n",
       "      <td>12</td>\n",
       "      <td>12</td>\n",
       "      <td>12</td>\n",
       "      <td>7</td>\n",
       "      <td>11</td>\n",
       "      <td>10</td>\n",
       "      <td>0</td>\n",
       "      <td>0</td>\n",
       "      <td>7</td>\n",
       "      <td>12</td>\n",
       "      <td>12</td>\n",
       "      <td>12</td>\n",
       "      <td>12</td>\n",
       "      <td>12</td>\n",
       "      <td>12</td>\n",
       "      <td>12</td>\n",
       "      <td>12</td>\n",
       "      <td>2</td>\n",
       "    </tr>\n",
       "  </tbody>\n",
       "</table>\n",
       "</div>"
      ],
      "text/plain": [
       "      Case Number  Case Name  Total Damage  Total Pecuniary  Non Pecuniary  \\\n",
       "Year                                                                         \n",
       "2000           33         33            33               26             17   \n",
       "2001           37         37            37               27             15   \n",
       "2002           27         27            27               20              7   \n",
       "2003           30         30            30               20             12   \n",
       "2004           17         17            17               13              6   \n",
       "2005           29         29            29               21             12   \n",
       "2006           40         40            40               31             18   \n",
       "2007           41         41            41               36             15   \n",
       "2008           39         39            39               35             23   \n",
       "2009           61         61            61               48             32   \n",
       "2010           54         54            54               42             27   \n",
       "2011           34         34            34               26             14   \n",
       "2012           59         59            59               46             39   \n",
       "2013           66         66            66               63             37   \n",
       "2014           68         68            68               56             40   \n",
       "2015           50         50            50               42             30   \n",
       "2016           54         54            54               49             33   \n",
       "2017           47         47            47               36             26   \n",
       "2018           33         33            33               24             21   \n",
       "2019           70         70            70               64             47   \n",
       "2020           12         12            12               12              7   \n",
       "\n",
       "      General  Special  Punitive  Aggravated  Future Care  Judge Name  \\\n",
       "Year                                                                    \n",
       "2000       21       21         0           1            8          33   \n",
       "2001       24       19         3           5            7          37   \n",
       "2002       24       12         2           0           10          27   \n",
       "2003       14       16         1           1            4          30   \n",
       "2004        9        8         2           1            5          17   \n",
       "2005       20       13         1           0            4          29   \n",
       "2006       22       22         5           3           10          40   \n",
       "2007       25       24         5           5            9          41   \n",
       "2008       16       26         2           0           18          39   \n",
       "2009       39       38         2           0           25          61   \n",
       "2010       36       34         0           0           17          54   \n",
       "2011       24       23         2           0           15          34   \n",
       "2012       32       43         1           0           28          59   \n",
       "2013       38       55         2           1           38          66   \n",
       "2014       48       43         1           0           46          68   \n",
       "2015       35       36         1           1           34          50   \n",
       "2016       35       41         4           0           31          54   \n",
       "2017       36       34         2           1           22          47   \n",
       "2018       27       21         2           1           20          33   \n",
       "2019       45       55         4           2           45          70   \n",
       "2020       11       10         0           0            7          12   \n",
       "\n",
       "      Decision Length  Multiple defendants?  Plaintiff Wins?  \\\n",
       "Year                                                           \n",
       "2000               33                    33               33   \n",
       "2001               37                    37               37   \n",
       "2002               27                    27               27   \n",
       "2003               30                    30               30   \n",
       "2004               17                    17               17   \n",
       "2005               29                    29               29   \n",
       "2006               40                    40               40   \n",
       "2007               41                    41               41   \n",
       "2008               39                    39               39   \n",
       "2009               61                    61               61   \n",
       "2010               54                    54               54   \n",
       "2011               34                    34               34   \n",
       "2012               59                    59               59   \n",
       "2013               66                    66               66   \n",
       "2014               68                    68               68   \n",
       "2015               50                    50               50   \n",
       "2016               54                    54               54   \n",
       "2017               47                    47               47   \n",
       "2018               33                    33               33   \n",
       "2019               70                    70               70   \n",
       "2020               12                    12               12   \n",
       "\n",
       "      Contributory Negligence Raised  Written Decision?  Registry  \\\n",
       "Year                                                                \n",
       "2000                              33                 33        33   \n",
       "2001                              37                 37        37   \n",
       "2002                              27                 27        27   \n",
       "2003                              30                 30        30   \n",
       "2004                              17                 17        17   \n",
       "2005                              29                 29        29   \n",
       "2006                              40                 40        40   \n",
       "2007                              41                 41        41   \n",
       "2008                              39                 39        39   \n",
       "2009                              61                 61        61   \n",
       "2010                              54                 54        54   \n",
       "2011                              34                 34        34   \n",
       "2012                              59                 59        59   \n",
       "2013                              66                 66        66   \n",
       "2014                              68                 68        68   \n",
       "2015                              50                 50        50   \n",
       "2016                              54                 54        54   \n",
       "2017                              47                 47        47   \n",
       "2018                              33                 33        33   \n",
       "2019                              70                 70        70   \n",
       "2020                              12                 12        12   \n",
       "\n",
       "      Contributory Negligence Successful  Percent Reduction  \n",
       "Year                                                         \n",
       "2000                                  33                  6  \n",
       "2001                                  37                  8  \n",
       "2002                                  27                  6  \n",
       "2003                                  30                  4  \n",
       "2004                                  17                  5  \n",
       "2005                                  29                  5  \n",
       "2006                                  40                  8  \n",
       "2007                                  41                 11  \n",
       "2008                                  39                  7  \n",
       "2009                                  61                 17  \n",
       "2010                                  54                 14  \n",
       "2011                                  34                 10  \n",
       "2012                                  59                 18  \n",
       "2013                                  66                 11  \n",
       "2014                                  68                 13  \n",
       "2015                                  50                 13  \n",
       "2016                                  54                 10  \n",
       "2017                                  47                 13  \n",
       "2018                                  33                  4  \n",
       "2019                                  70                  6  \n",
       "2020                                  12                  2  "
      ]
     },
     "execution_count": 30,
     "metadata": {},
     "output_type": "execute_result"
    }
   ],
   "source": [
    "df_rule_based[df_rule_based['Total Damage'] > 0].groupby('Year').count()"
   ]
  },
  {
   "cell_type": "code",
   "execution_count": 26,
   "metadata": {},
   "outputs": [
    {
     "name": "stdout",
     "output_type": "stream",
     "text": [
      "correlation between Year and Median Total Damage is: 0.8119689829606106 with a pvalue of 7.848272065943638e-06\n",
      "(LinregressResult(slope=7579.604474025973, intercept=-15133353.208982682, rvalue=0.8119689829606105, pvalue=7.848272065943682e-06, stderr=1250.029984433798),) \n",
      "\n",
      "=====\n",
      "correlation between Year and Median Total Pecuniary is: 0.7090751784287639 with a pvalue of 0.000319655322797451\n",
      "(LinregressResult(slope=6928.283123376622, intercept=-13838471.620367963, rvalue=0.7090751784287638, pvalue=0.000319655322797452, stderr=1580.6201535653026),) \n",
      "\n",
      "=====\n",
      "correlation between Year and Median Non Pecuniary is: 0.5238031227793404 with a pvalue of 0.014803902487671836\n",
      "(LinregressResult(slope=2457.7922077922076, intercept=-4867757.575757575, rvalue=0.5238031227793404, pvalue=0.01480390248767185, stderr=916.9760240849272),) \n",
      "\n",
      "=====\n",
      "correlation between Year and Median General is: 0.7070517943528324 with a pvalue of 0.00033840330809077704\n",
      "(LinregressResult(slope=3150.1237077922083, intercept=-6260863.001471862, rvalue=0.7070517943528324, pvalue=0.0003384033080907775, stderr=722.8003435240585),) \n",
      "\n",
      "=====\n",
      "correlation between Year and Median Special is: 0.1220158273346216 with a pvalue of 0.5982740968177686\n",
      "(LinregressResult(slope=381.75057142857145, intercept=-746230.1514285714, rvalue=0.1220158273346216, pvalue=0.5982740968177696, stderr=712.4092691065907),) \n",
      "\n",
      "=====\n",
      "correlation between Year and Median Punitive is: 0.19707898631626997 with a pvalue of 0.4331325229694157\n",
      "(LinregressResult(slope=7124.973684210527, intercept=-14214225.049707603, rvalue=0.19707898631626997, pvalue=0.4331325229694156, stderr=8860.959860191217),) \n",
      "\n",
      "=====\n",
      "correlation between Year and Median Aggravated is: -0.6545206558478173 with a pvalue of 0.02887275046085165\n",
      "(LinregressResult(slope=-2666.519434628976, intercept=5383393.55123675, rvalue=-0.6545206558478174, pvalue=0.028872750460851603, stderr=1026.7087936003784),) \n",
      "\n",
      "=====\n",
      "correlation between Year and Median Future Care is: 0.12576818820299096 with a pvalue of 0.5869812033514489\n",
      "(LinregressResult(slope=244.51428571428573, intercept=-472287.27380952385, rvalue=0.12576818820299096, pvalue=0.5869812033514495, stderr=442.48079087801347),) \n",
      "\n",
      "=====\n"
     ]
    },
    {
     "name": "stderr",
     "output_type": "stream",
     "text": [
      "/home/ilana/anaconda3/lib/python3.7/site-packages/ipykernel_launcher.py:3: SettingWithCopyWarning: \n",
      "A value is trying to be set on a copy of a slice from a DataFrame.\n",
      "Try using .loc[row_indexer,col_indexer] = value instead\n",
      "\n",
      "See the caveats in the documentation: http://pandas.pydata.org/pandas-docs/stable/user_guide/indexing.html#returning-a-view-versus-a-copy\n",
      "  This is separate from the ipykernel package so we can avoid doing imports until\n"
     ]
    }
   ],
   "source": [
    "for col in df_rule_based.columns[3:11]:\n",
    "    print(get_relationship_over_time(col, df_rule_based), '\\n')\n",
    "    print('=====')"
   ]
  },
  {
   "cell_type": "code",
   "execution_count": null,
   "metadata": {},
   "outputs": [],
   "source": []
  }
 ],
 "metadata": {
  "kernelspec": {
   "display_name": "Python 3",
   "language": "python",
   "name": "python3"
  },
  "language_info": {
   "codemirror_mode": {
    "name": "ipython",
    "version": 3
   },
   "file_extension": ".py",
   "mimetype": "text/x-python",
   "name": "python",
   "nbconvert_exporter": "python",
   "pygments_lexer": "ipython3",
   "version": "3.7.3"
  }
 },
 "nbformat": 4,
 "nbformat_minor": 4
}
