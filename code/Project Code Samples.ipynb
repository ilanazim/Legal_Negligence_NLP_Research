{
 "cells": [
  {
   "cell_type": "markdown",
   "metadata": {},
   "source": [
    "# Code Examples\n",
    "\n",
    "#### Examples of using functions from `key_functions.py` "
   ]
  },
  {
   "cell_type": "code",
   "execution_count": null,
   "metadata": {},
   "outputs": [],
   "source": [
    "import key_functions as kf\n",
    "\n",
    "import math\n",
    "import pickle\n",
    "import pandas as pd\n",
    "\n",
    "from sklearn.linear_model import LogisticRegression"
   ]
  },
  {
   "cell_type": "markdown",
   "metadata": {},
   "source": [
    "###### Classifier Training"
   ]
  },
  {
   "cell_type": "code",
   "execution_count": null,
   "metadata": {},
   "outputs": [],
   "source": [
    "# Training for damages\n",
    "dmg_model, dmg_vectorizer = kf.train_classifier('../data/annotations/all_annotations.txt', clf = LogisticRegression(solver = 'newton-cg', C = 1, penalty = 'l2'))\n",
    "\n",
    "# Training for contributory negligence\n",
    "cn_model, cn_vectorizer = kf.train_CN_classifier('../data/annotations/all_annotations.txt', clf = LogisticRegression(solver = 'newton-cg', C = 1, penalty = 'l2'))\n"
   ]
  },
  {
   "cell_type": "markdown",
   "metadata": {},
   "source": [
    "###### Saving & Loading Claasifier\n",
    "\n",
    "Loading classifier and vectorizer from `.pkl` format "
   ]
  },
  {
   "cell_type": "code",
   "execution_count": null,
   "metadata": {},
   "outputs": [],
   "source": [
    "# Save Code\n",
    "# WARNING: This will overwrite the currently saved model. Uncomment lines as needed.\n",
    "\n",
    "# with open('./best_model.pkl', 'wb') as file:\n",
    "#     pickle.dump(dmg_model, file)\n",
    "    \n",
    "# with open('./best_vectorizer.pkl', 'wb') as file:\n",
    "#     pickle.dump(dmg_vectorizer, file)\n",
    "    \n",
    "# with open('./best_CN_model.pkl', 'wb') as file:\n",
    "#     pickle.dump(cn_model, file)\n",
    "    \n",
    "# with open('./best_CN_vectorizer.pkl', 'wb') as file:\n",
    "#     pickle.dump(cn_vectorizer, file)"
   ]
  },
  {
   "cell_type": "code",
   "execution_count": null,
   "metadata": {},
   "outputs": [],
   "source": [
    "# Load Code\n",
    "with open('./best_model.pkl', 'rb') as file:\n",
    "    dmg_model = pickle.load(file)\n",
    "    \n",
    "with open('./best_vectorizer.pkl', 'rb') as file:\n",
    "    dmg_vectorizer = pickle.load(file)\n",
    "    \n",
    "with open('./best_CN_model.pkl', 'rb') as file:\n",
    "    cn_model = pickle.load(file)\n",
    "    \n",
    "with open('./best_CN_vectorizer.pkl', 'rb') as file:\n",
    "    cn_vectorizer = pickle.load(file)"
   ]
  },
  {
   "cell_type": "markdown",
   "metadata": {},
   "source": [
    "###### Using the classifier"
   ]
  },
  {
   "cell_type": "code",
   "execution_count": null,
   "metadata": {},
   "outputs": [],
   "source": [
    "path_to_data = '../data/Lexis Cases txt/'\n",
    "file_prefix = 'P'\n",
    "file_suffix = '.txt'\n",
    "file_identifiers = range(1, 86) # Range from 1 to 85\n",
    "\n",
    "clf_results = []\n",
    "for file_number in file_identifiers:\n",
    "    print('## Processing ' + path_to_data + file_prefix + str(file_number) + file_suffix + ' ##', end='\\r')\n",
    "    \n",
    "    # Pass the model to the rule_based_parse_BCJ function\n",
    "    # This will use rule based for columns such as judge name, etc. but classifier for damages/CN\n",
    "    \n",
    "    # To use rule based for damage/CN do not pass the model/vectorizer.\n",
    "    clf_results.extend(kf.rule_based_parse_BCJ(path_to_data + file_prefix + str(file_number) + file_suffix, dmg_model, dmg_vectorizer))\n",
    "    "
   ]
  },
  {
   "cell_type": "markdown",
   "metadata": {},
   "source": [
    "###### Evaluating the model"
   ]
  },
  {
   "cell_type": "code",
   "execution_count": null,
   "metadata": {},
   "outputs": [],
   "source": [
    "gold_df = pd.read_csv('../data/gold_annotations.csv')#, #skiprows = lambda x: x in range(1, 100))\n",
    "gold_df.dropna(how = 'all', inplace=True) \n",
    "\n",
    "dev_df = kf.rule_based_convert_cases_to_DF(clf_results)\n",
    "kf.evaluate(dev_df, gold_df)"
   ]
  },
  {
   "cell_type": "code",
   "execution_count": null,
   "metadata": {},
   "outputs": [],
   "source": []
  }
 ],
 "metadata": {
  "kernelspec": {
   "display_name": "Python 3",
   "language": "python",
   "name": "python3"
  },
  "language_info": {
   "codemirror_mode": {
    "name": "ipython",
    "version": 3
   },
   "file_extension": ".py",
   "mimetype": "text/x-python",
   "name": "python",
   "nbconvert_exporter": "python",
   "pygments_lexer": "ipython3",
   "version": "3.7.3"
  }
 },
 "nbformat": 4,
 "nbformat_minor": 2
}
