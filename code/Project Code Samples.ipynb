{
 "cells": [
  {
   "cell_type": "markdown",
   "metadata": {},
   "source": [
    "# Code Examples\n",
    "\n",
    "#### Examples of using functions from `key_functions.py` \n",
    "\n",
    "For more information refer to [our data product README](https://github.ubc.ca/nikihm/Capstone-project/blob/master/Docs/data_product_README.md)"
   ]
  },
  {
   "cell_type": "code",
   "execution_count": 5,
   "metadata": {},
   "outputs": [],
   "source": [
    "import key_functions as kf\n",
    "import pickle\n",
    "import pandas as pd\n",
    "from sklearn.linear_model import LogisticRegression"
   ]
  },
  {
   "cell_type": "markdown",
   "metadata": {},
   "source": [
    "###### Classifier Training"
   ]
  },
  {
   "cell_type": "code",
   "execution_count": null,
   "metadata": {
    "scrolled": true
   },
   "outputs": [],
   "source": [
    "# Damage Classifier\n",
    "# (Note: Annotations are located in folder `/data/annotations/`)\n",
    "\n",
    "dmg_model, dmg_vectorizer, dmg_annotations = kf.train_classifier('../data/annotations/final_annotations.txt', clf = LogisticRegression(C = 1, penalty = 'l2', solver = 'newton-cg', max_iter = 1000, random_state=42), context_length = 6, fit_model=True)\n",
    "\n",
    "# CN Classifier\n",
    "\n",
    "cn_model, cn_vectorizer, cn_annotations = kf.train_CN_classifier('../data/annotations/final_annotations.txt', clf = LogisticRegression(C = 1, penalty = 'l1', class_weight = 'balanced', solver = 'liblinear', max_iter = 10000, random_state = 42), context_length = 6)"
   ]
  },
  {
   "cell_type": "markdown",
   "metadata": {},
   "source": [
    "###### Saving & Loading Claasifier\n",
    "\n",
    "Loading classifier and vectorizer from `.pkl` format "
   ]
  },
  {
   "cell_type": "code",
   "execution_count": null,
   "metadata": {},
   "outputs": [],
   "source": [
    "# Save Code\n",
    "# WARNING: This will overwrite the currently saved model. Uncomment lines as needed. Or change filenames\n",
    "\n",
    "# with open('../models/damage_model.pkl', 'wb') as file:\n",
    "#     pickle.dump(dmg_model, file)\n",
    "    \n",
    "# with open('../models/damage_vectorizer.pkl', 'wb') as file:\n",
    "#     pickle.dump(dmg_vectorizer, file)\n",
    "    \n",
    "# with open('../models/damage_annotations.pkl', 'wb') as file:\n",
    "#     pickle.dump(dmg_annotations, file)\n",
    "    \n",
    "# with open('../models/cn_model.pkl', 'wb') as file:\n",
    "#     pickle.dump(cn_model, file)\n",
    "\n",
    "# with open('../models/cn_vectorizer.pkl', 'wb') as file:\n",
    "#     pickle.dump(cn_vectorizer, file)\n",
    "\n",
    "# with open('../models/cn_annotations.pkl', 'wb') as file:\n",
    "#     pickle.dump(cn_annotations, file)"
   ]
  },
  {
   "cell_type": "code",
   "execution_count": null,
   "metadata": {},
   "outputs": [],
   "source": [
    "# Load Code\n",
    "with open('../models/damage_model.pkl', 'rb') as file:\n",
    "    dmg_model = pickle.load(file)\n",
    "    \n",
    "with open('../models/damage_vectorizer.pkl', 'rb') as file:\n",
    "    dmg_vectorizer = pickle.load(file)\n",
    "    \n",
    "with open('../models/damage_annotations.pkl', 'rb') as file:\n",
    "    dmg_annotations = pickle.load(file)\n",
    "    \n",
    "with open('../models/cn_model.pkl', 'rb') as file:\n",
    "    cn_model = pickle.load(file)\n",
    "    \n",
    "with open('../models/cn_vectorizer.pkl', 'rb') as file:\n",
    "    cn_vectorizer = pickle.load(file)\n",
    "    \n",
    "with open('../models/cn_annotations.pkl', 'rb') as file:\n",
    "    cn_annotations = pickle.load(file)"
   ]
  },
  {
   "cell_type": "markdown",
   "metadata": {},
   "source": [
    "###### Using the classifier"
   ]
  },
  {
   "cell_type": "code",
   "execution_count": null,
   "metadata": {},
   "outputs": [],
   "source": [
    "path_to_data = '../data/Lexis Cases txt/'\n",
    "file_prefix = 'P'\n",
    "file_suffix = '.txt'\n",
    "file_identifiers = range(1, 86) # Range from 1 to 85\n",
    "\n",
    "clf_results = []\n",
    "for file_number in file_identifiers:\n",
    "    print('## Processing ' + path_to_data + file_prefix + str(file_number) + file_suffix + ' ##', end='\\r')\n",
    "    with open(path_to_data + file_prefix + str(file_number) + file_suffix) as file:\n",
    "        document_data = file.read()\n",
    "    \n",
    "    # Pass the model to the rule_based_parse_BCJ function\n",
    "    # This will use rule based for columns such as judge name, etc. but classifier for damages/CN\n",
    "    \n",
    "    # To use rule based for damage/CN do not pass the model/vectorizer.\n",
    "    clf_results.extend(kf.parse_BCJ(document_data, damage_model = dmg_model, damage_vectorizer = dmg_vectorizer, \n",
    "                                    annotated_damages = dmg_annotations, cn_model = cn_model, cn_vectorizer = cn_vectorizer, \n",
    "                                    annotated_cn = cn_annotations, min_predict_proba = 0.5, dmg_context_length = 6, \n",
    "                                    cn_context_length = 2))\n",
    "    "
   ]
  },
  {
   "cell_type": "markdown",
   "metadata": {},
   "source": [
    "###### Evaluating the model"
   ]
  },
  {
   "cell_type": "code",
   "execution_count": null,
   "metadata": {},
   "outputs": [],
   "source": [
    "gold_df = pd.read_csv('../data/annotations/gold_annotations.csv')\n",
    "gold_df.dropna(how = 'all', inplace=True) \n",
    "\n",
    "dev_df = kf.convert_cases_to_DF(clf_results)\n",
    "kf.evaluate(dev_df, gold_df)"
   ]
  },
  {
   "cell_type": "markdown",
   "metadata": {},
   "source": [
    "###### Saving the results to .CSV form"
   ]
  },
  {
   "cell_type": "code",
   "execution_count": null,
   "metadata": {},
   "outputs": [],
   "source": [
    "dev_df.to_csv('../data/my_results.csv', index=False)"
   ]
  }
 ],
 "metadata": {
  "kernelspec": {
   "display_name": "Python 3",
   "language": "python",
   "name": "python3"
  },
  "language_info": {
   "codemirror_mode": {
    "name": "ipython",
    "version": 3
   },
   "file_extension": ".py",
   "mimetype": "text/x-python",
   "name": "python",
   "nbconvert_exporter": "python",
   "pygments_lexer": "ipython3",
   "version": "3.7.3"
  }
 },
 "nbformat": 4,
 "nbformat_minor": 2
}
