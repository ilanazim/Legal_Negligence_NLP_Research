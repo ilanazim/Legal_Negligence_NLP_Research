{
 "cells": [
  {
   "cell_type": "markdown",
   "metadata": {},
   "source": [
    "## .DOCX to .TXT file converter"
   ]
  },
  {
   "cell_type": "markdown",
   "metadata": {},
   "source": [
    "#### docx package may need to be installed\n",
    "#### To install enter command \"pip install docx\"\n",
    "#### [Documentation can be found here](https://python-docx.readthedocs.io/en/latest/index.html#)"
   ]
  },
  {
   "cell_type": "code",
   "execution_count": 1,
   "metadata": {},
   "outputs": [],
   "source": [
    "# !pip install docx\n",
    "from docx import Document"
   ]
  },
  {
   "cell_type": "markdown",
   "metadata": {},
   "source": [
    "#### Global Variables to aid with filenames"
   ]
  },
  {
   "cell_type": "code",
   "execution_count": 2,
   "metadata": {},
   "outputs": [],
   "source": [
    "path_to_data = '../data/Lexis Cases/'\n",
    "file_prefix = 'P'\n",
    "file_suffix = '.DOCX'\n",
    "file_identifiers = range(1, 86) # Range from 1 to 85\n",
    "\n",
    "out_path = '../data/Lexis Cases txt/'\n",
    "out_file_suffix = '.txt'"
   ]
  },
  {
   "cell_type": "markdown",
   "metadata": {},
   "source": [
    "#### Text Extraction\n",
    "\n",
    "The library `docx` will read just the main body of the text when iterating over the `paragraphs` of a `Document` object.\n",
    "\n",
    "To get the case title we need to access the documents `header` via the documents `sections` and pull out text f"
   ]
  },
  {
   "cell_type": "code",
   "execution_count": null,
   "metadata": {
    "scrolled": false
   },
   "outputs": [
    {
     "name": "stdout",
     "output_type": "stream",
     "text": [
      "Processing ../data/Lexis Cases/P1.DOCX\n",
      "Processing ../data/Lexis Cases/P2.DOCX\n",
      "Processing ../data/Lexis Cases/P3.DOCX\n",
      "Processing ../data/Lexis Cases/P4.DOCX\n",
      "Processing ../data/Lexis Cases/P5.DOCX\n",
      "Processing ../data/Lexis Cases/P6.DOCX\n",
      "Processing ../data/Lexis Cases/P7.DOCX\n",
      "Processing ../data/Lexis Cases/P8.DOCX\n",
      "Processing ../data/Lexis Cases/P9.DOCX\n",
      "Processing ../data/Lexis Cases/P10.DOCX\n",
      "Processing ../data/Lexis Cases/P11.DOCX\n",
      "Processing ../data/Lexis Cases/P12.DOCX\n",
      "Processing ../data/Lexis Cases/P13.DOCX\n",
      "Processing ../data/Lexis Cases/P14.DOCX\n",
      "Processing ../data/Lexis Cases/P15.DOCX\n",
      "Processing ../data/Lexis Cases/P16.DOCX\n",
      "Processing ../data/Lexis Cases/P17.DOCX\n",
      "Processing ../data/Lexis Cases/P18.DOCX\n",
      "Processing ../data/Lexis Cases/P19.DOCX\n",
      "Processing ../data/Lexis Cases/P20.DOCX\n",
      "Processing ../data/Lexis Cases/P21.DOCX\n",
      "Processing ../data/Lexis Cases/P22.DOCX\n",
      "Processing ../data/Lexis Cases/P23.DOCX\n",
      "Processing ../data/Lexis Cases/P24.DOCX\n",
      "Processing ../data/Lexis Cases/P25.DOCX\n",
      "Processing ../data/Lexis Cases/P26.DOCX\n",
      "Processing ../data/Lexis Cases/P27.DOCX\n",
      "Processing ../data/Lexis Cases/P28.DOCX\n",
      "Processing ../data/Lexis Cases/P29.DOCX\n",
      "Processing ../data/Lexis Cases/P30.DOCX\n",
      "Processing ../data/Lexis Cases/P31.DOCX\n",
      "Processing ../data/Lexis Cases/P32.DOCX\n",
      "Processing ../data/Lexis Cases/P33.DOCX\n",
      "Processing ../data/Lexis Cases/P34.DOCX\n",
      "Processing ../data/Lexis Cases/P35.DOCX\n",
      "Processing ../data/Lexis Cases/P36.DOCX\n",
      "Processing ../data/Lexis Cases/P37.DOCX\n",
      "Processing ../data/Lexis Cases/P38.DOCX\n",
      "Processing ../data/Lexis Cases/P39.DOCX\n",
      "Processing ../data/Lexis Cases/P40.DOCX\n",
      "Processing ../data/Lexis Cases/P41.DOCX\n",
      "Processing ../data/Lexis Cases/P42.DOCX\n",
      "Processing ../data/Lexis Cases/P43.DOCX\n",
      "Processing ../data/Lexis Cases/P44.DOCX\n",
      "Processing ../data/Lexis Cases/P45.DOCX\n",
      "Processing ../data/Lexis Cases/P46.DOCX\n",
      "Processing ../data/Lexis Cases/P47.DOCX\n",
      "Processing ../data/Lexis Cases/P48.DOCX\n",
      "Processing ../data/Lexis Cases/P49.DOCX\n",
      "Processing ../data/Lexis Cases/P50.DOCX\n",
      "Processing ../data/Lexis Cases/P51.DOCX\n",
      "Processing ../data/Lexis Cases/P52.DOCX\n",
      "Processing ../data/Lexis Cases/P53.DOCX\n",
      "Processing ../data/Lexis Cases/P54.DOCX\n",
      "Processing ../data/Lexis Cases/P55.DOCX\n",
      "Processing ../data/Lexis Cases/P56.DOCX\n",
      "Processing ../data/Lexis Cases/P57.DOCX\n",
      "Processing ../data/Lexis Cases/P58.DOCX\n",
      "Processing ../data/Lexis Cases/P59.DOCX\n",
      "Processing ../data/Lexis Cases/P60.DOCX\n",
      "Processing ../data/Lexis Cases/P61.DOCX\n",
      "Processing ../data/Lexis Cases/P62.DOCX\n",
      "Processing ../data/Lexis Cases/P63.DOCX\n",
      "Processing ../data/Lexis Cases/P64.DOCX\n",
      "Processing ../data/Lexis Cases/P65.DOCX\n",
      "Processing ../data/Lexis Cases/P66.DOCX\n",
      "Processing ../data/Lexis Cases/P67.DOCX\n",
      "Processing ../data/Lexis Cases/P68.DOCX\n",
      "Processing ../data/Lexis Cases/P69.DOCX\n",
      "Processing ../data/Lexis Cases/P70.DOCX\n",
      "Processing ../data/Lexis Cases/P71.DOCX\n",
      "Processing ../data/Lexis Cases/P72.DOCX\n",
      "Processing ../data/Lexis Cases/P73.DOCX\n",
      "Processing ../data/Lexis Cases/P74.DOCX\n",
      "Processing ../data/Lexis Cases/P75.DOCX\n",
      "Processing ../data/Lexis Cases/P76.DOCX\n",
      "Processing ../data/Lexis Cases/P77.DOCX\n",
      "Processing ../data/Lexis Cases/P78.DOCX\n",
      "Processing ../data/Lexis Cases/P79.DOCX\n",
      "Processing ../data/Lexis Cases/P80.DOCX\n",
      "Processing ../data/Lexis Cases/P81.DOCX\n",
      "Processing ../data/Lexis Cases/P82.DOCX\n",
      "Processing ../data/Lexis Cases/P83.DOCX\n"
     ]
    }
   ],
   "source": [
    "for file_number in file_identifiers:\n",
    "    print('Processing ' + path_to_data + file_prefix + str(file_number) + file_suffix)\n",
    "    \n",
    "    # Open the document\n",
    "    document = Document(path_to_data + file_prefix + str(file_number) + file_suffix)\n",
    "    file_text = ''\n",
    "\n",
    "    start_of_case = True\n",
    "    doc_section = 0\n",
    "    \n",
    "    # Iterate over each paragraph in the body\n",
    "    for para in document.paragraphs:\n",
    "\n",
    "        # If at start of case, store the header (case name)\n",
    "        # as the first entry\n",
    "        if start_of_case:\n",
    "            header = document.sections[doc_section].header\n",
    "            case_title = header.tables[0].cell(1, 0).text\n",
    "            file_text += case_title.strip() + '\\n'\n",
    "            doc_section += 2\n",
    "            start_of_case = False\n",
    "            \n",
    "        # Skip over any empty lines\n",
    "        if len(para.text.strip()) > 0:\n",
    "            file_text += para.text.strip() + '\\n'\n",
    "            \n",
    "        # Check if we are at the last line of a case\n",
    "        # to make sure we insert the header of the following case\n",
    "        if para.text.strip() == 'End of Document':\n",
    "            start_of_case = True \n",
    "        \n",
    "            \n",
    "    # Save as .txt\n",
    "    with open(out_path + file_prefix + str(file_number) + out_file_suffix, 'w') as out_file:\n",
    "        out_file.write(file_text)"
   ]
  }
 ],
 "metadata": {
  "kernelspec": {
   "display_name": "Python 3",
   "language": "python",
   "name": "python3"
  },
  "language_info": {
   "codemirror_mode": {
    "name": "ipython",
    "version": 3
   },
   "file_extension": ".py",
   "mimetype": "text/x-python",
   "name": "python",
   "nbconvert_exporter": "python",
   "pygments_lexer": "ipython3",
   "version": "3.7.3"
  }
 },
 "nbformat": 4,
 "nbformat_minor": 2
}
