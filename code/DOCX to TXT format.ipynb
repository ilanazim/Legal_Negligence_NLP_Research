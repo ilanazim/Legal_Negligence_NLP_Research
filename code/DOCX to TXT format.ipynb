{
 "cells": [
  {
   "cell_type": "markdown",
   "metadata": {},
   "source": [
    "## .DOCX to .TXT file converter"
   ]
  },
  {
   "cell_type": "markdown",
   "metadata": {},
   "source": [
    "#### docx package may need to be installed\n",
    "#### To install enter command \"pip install docx\"\n",
    "#### [Documentation can be found here](https://python-docx.readthedocs.io/en/latest/index.html#)"
   ]
  },
  {
   "cell_type": "code",
   "execution_count": 4,
   "metadata": {},
   "outputs": [],
   "source": [
    "# !pip install docx\n",
    "from docx import Document"
   ]
  },
  {
   "cell_type": "markdown",
   "metadata": {},
   "source": [
    "#### Global Variables to aid with filenames"
   ]
  },
  {
   "cell_type": "code",
   "execution_count": 36,
   "metadata": {},
   "outputs": [],
   "source": [
    "path_to_data = '../data/Lexis Cases/'\n",
    "file_prefix = 'P'\n",
    "file_suffix = '.DOCX'\n",
    "file_identifiers = range(1, 86) # Range from 1 to 85\n",
    "\n",
    "out_path = '../data/Lexis Cases txt/'\n",
    "out_file_suffix = '.txt'"
   ]
  },
  {
   "cell_type": "markdown",
   "metadata": {},
   "source": [
    "#### Text Extraction\n",
    "\n",
    "The library `docx` will read just the main body of the text when iterating over the `paragraphs` of a `Document` object."
   ]
  },
  {
   "cell_type": "code",
   "execution_count": 48,
   "metadata": {
    "scrolled": true
   },
   "outputs": [
    {
     "name": "stdout",
     "output_type": "stream",
     "text": [
      "Processing ../data/Lexis Cases/P1.DOCX\n",
      "Processing ../data/Lexis Cases/P2.DOCX\n",
      "Processing ../data/Lexis Cases/P3.DOCX\n",
      "Processing ../data/Lexis Cases/P4.DOCX\n",
      "Processing ../data/Lexis Cases/P5.DOCX\n",
      "Processing ../data/Lexis Cases/P6.DOCX\n",
      "Processing ../data/Lexis Cases/P7.DOCX\n",
      "Processing ../data/Lexis Cases/P8.DOCX\n",
      "Processing ../data/Lexis Cases/P9.DOCX\n",
      "Processing ../data/Lexis Cases/P10.DOCX\n",
      "Processing ../data/Lexis Cases/P11.DOCX\n",
      "Processing ../data/Lexis Cases/P12.DOCX\n",
      "Processing ../data/Lexis Cases/P13.DOCX\n",
      "Processing ../data/Lexis Cases/P14.DOCX\n",
      "Processing ../data/Lexis Cases/P15.DOCX\n",
      "Processing ../data/Lexis Cases/P16.DOCX\n",
      "Processing ../data/Lexis Cases/P17.DOCX\n",
      "Processing ../data/Lexis Cases/P18.DOCX\n",
      "Processing ../data/Lexis Cases/P19.DOCX\n",
      "Processing ../data/Lexis Cases/P20.DOCX\n",
      "Processing ../data/Lexis Cases/P21.DOCX\n",
      "Processing ../data/Lexis Cases/P22.DOCX\n",
      "Processing ../data/Lexis Cases/P23.DOCX\n",
      "Processing ../data/Lexis Cases/P24.DOCX\n",
      "Processing ../data/Lexis Cases/P25.DOCX\n",
      "Processing ../data/Lexis Cases/P26.DOCX\n",
      "Processing ../data/Lexis Cases/P27.DOCX\n",
      "Processing ../data/Lexis Cases/P28.DOCX\n",
      "Processing ../data/Lexis Cases/P29.DOCX\n",
      "Processing ../data/Lexis Cases/P30.DOCX\n",
      "Processing ../data/Lexis Cases/P31.DOCX\n",
      "Processing ../data/Lexis Cases/P32.DOCX\n",
      "Processing ../data/Lexis Cases/P33.DOCX\n",
      "Processing ../data/Lexis Cases/P34.DOCX\n",
      "Processing ../data/Lexis Cases/P35.DOCX\n",
      "Processing ../data/Lexis Cases/P36.DOCX\n",
      "Processing ../data/Lexis Cases/P37.DOCX\n",
      "Processing ../data/Lexis Cases/P38.DOCX\n",
      "Processing ../data/Lexis Cases/P39.DOCX\n",
      "Processing ../data/Lexis Cases/P40.DOCX\n",
      "Processing ../data/Lexis Cases/P41.DOCX\n",
      "Processing ../data/Lexis Cases/P42.DOCX\n",
      "Processing ../data/Lexis Cases/P43.DOCX\n",
      "Processing ../data/Lexis Cases/P44.DOCX\n",
      "Processing ../data/Lexis Cases/P45.DOCX\n",
      "Processing ../data/Lexis Cases/P46.DOCX\n",
      "Processing ../data/Lexis Cases/P47.DOCX\n",
      "Processing ../data/Lexis Cases/P48.DOCX\n",
      "Processing ../data/Lexis Cases/P49.DOCX\n",
      "Processing ../data/Lexis Cases/P50.DOCX\n",
      "Processing ../data/Lexis Cases/P51.DOCX\n",
      "Processing ../data/Lexis Cases/P52.DOCX\n",
      "Processing ../data/Lexis Cases/P53.DOCX\n",
      "Processing ../data/Lexis Cases/P54.DOCX\n",
      "Processing ../data/Lexis Cases/P55.DOCX\n",
      "Processing ../data/Lexis Cases/P56.DOCX\n",
      "Processing ../data/Lexis Cases/P57.DOCX\n",
      "Processing ../data/Lexis Cases/P58.DOCX\n",
      "Processing ../data/Lexis Cases/P59.DOCX\n",
      "Processing ../data/Lexis Cases/P60.DOCX\n",
      "Processing ../data/Lexis Cases/P61.DOCX\n",
      "Processing ../data/Lexis Cases/P62.DOCX\n",
      "Processing ../data/Lexis Cases/P63.DOCX\n",
      "Processing ../data/Lexis Cases/P64.DOCX\n",
      "Processing ../data/Lexis Cases/P65.DOCX\n",
      "Processing ../data/Lexis Cases/P66.DOCX\n",
      "Processing ../data/Lexis Cases/P67.DOCX\n",
      "Processing ../data/Lexis Cases/P68.DOCX\n",
      "Processing ../data/Lexis Cases/P69.DOCX\n",
      "Processing ../data/Lexis Cases/P70.DOCX\n",
      "Processing ../data/Lexis Cases/P71.DOCX\n",
      "Processing ../data/Lexis Cases/P72.DOCX\n",
      "Processing ../data/Lexis Cases/P73.DOCX\n",
      "Processing ../data/Lexis Cases/P74.DOCX\n",
      "Processing ../data/Lexis Cases/P75.DOCX\n",
      "Processing ../data/Lexis Cases/P76.DOCX\n",
      "Processing ../data/Lexis Cases/P77.DOCX\n",
      "Processing ../data/Lexis Cases/P78.DOCX\n",
      "Processing ../data/Lexis Cases/P79.DOCX\n",
      "Processing ../data/Lexis Cases/P80.DOCX\n",
      "Processing ../data/Lexis Cases/P81.DOCX\n",
      "Processing ../data/Lexis Cases/P82.DOCX\n",
      "Processing ../data/Lexis Cases/P83.DOCX\n",
      "Processing ../data/Lexis Cases/P84.DOCX\n",
      "Processing ../data/Lexis Cases/P85.DOCX\n"
     ]
    }
   ],
   "source": [
    "for file_number in file_identifiers:\n",
    "    print('Processing ' + path_to_data + file_prefix + str(file_number) + file_suffix)\n",
    "    \n",
    "    # Open the document\n",
    "    document = Document(path_to_data + file_prefix + str(file_number) + file_suffix)\n",
    "    file_text = ''\n",
    "\n",
    "    for para in document.paragraphs:\n",
    "        # Skip over any empty lines\n",
    "        if len(para.text.strip()) > 0:\n",
    "            file_text += para.text.strip() + '\\n'\n",
    "        \n",
    "            \n",
    "    # Save as .txt\n",
    "    with open(out_path + file_prefix + str(file_number) + out_file_suffix, 'w') as out_file:\n",
    "        out_file.write(file_text)"
   ]
  },
  {
   "cell_type": "code",
   "execution_count": 129,
   "metadata": {},
   "outputs": [],
   "source": [
    "# TODO: Actually the header is useful because it contains the case title\n",
    "# Need to figure out how to properly extract this.."
   ]
  },
  {
   "cell_type": "code",
   "execution_count": 80,
   "metadata": {},
   "outputs": [],
   "source": [
    "document = Document('../data/Lexis Cases/P1.DOCX')"
   ]
  },
  {
   "cell_type": "code",
   "execution_count": 128,
   "metadata": {},
   "outputs": [
    {
     "name": "stdout",
     "output_type": "stream",
     "text": [
      "['__class__', '__delattr__', '__dict__', '__dir__', '__doc__', '__eq__', '__format__', '__ge__', '__getattribute__', '__gt__', '__hash__', '__init__', '__init_subclass__', '__le__', '__lt__', '__module__', '__ne__', '__new__', '__reduce__', '__reduce_ex__', '__repr__', '__setattr__', '__sizeof__', '__str__', '__subclasshook__', '__weakref__', '_add_definition', '_add_paragraph', '_definition', '_document_part', '_drop_definition', '_element', '_get_or_add_definition', '_has_definition', '_hdrftr_index', '_prior_headerfooter', '_sectPr', 'add_paragraph', 'add_table', 'is_linked_to_previous', 'paragraphs', 'part', 'tables']\n"
     ]
    }
   ],
   "source": [
    "for section in document.sections:\n",
    "    print(dir(section.header))\n",
    "\n",
    "    break\n",
    "    #for t in section.header.tables:\n",
    "    #    print(para.text)\n",
    "    #    print(para)"
   ]
  },
  {
   "cell_type": "code",
   "execution_count": null,
   "metadata": {},
   "outputs": [],
   "source": []
  }
 ],
 "metadata": {
  "kernelspec": {
   "display_name": "Python 3",
   "language": "python",
   "name": "python3"
  },
  "language_info": {
   "codemirror_mode": {
    "name": "ipython",
    "version": 3
   },
   "file_extension": ".py",
   "mimetype": "text/x-python",
   "name": "python",
   "nbconvert_exporter": "python",
   "pygments_lexer": "ipython3",
   "version": "3.7.3"
  }
 },
 "nbformat": 4,
 "nbformat_minor": 2
}
